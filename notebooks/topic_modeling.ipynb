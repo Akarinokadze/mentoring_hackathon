{
 "cells": [
  {
   "cell_type": "markdown",
   "id": "63fe3946",
   "metadata": {},
   "source": [
    "# Исследовательский хакатон Яндекс Практикума\n",
    "\n",
    "### Отрасль и направления деятельности:\n",
    "EdTech, сервис онлайн-образования.\n",
    "\n",
    "### Общее описание задачи:\n",
    "провести исследование по теме наставничества и менторства на основании контента социальной сети Linkedin, размещенного в открытом доступе, созданного целевой аудиторией.\n",
    "\n",
    "### Цели исследования:\n",
    "   * Определить топ-10 тем в направлении наставничества на основании наибольшего охвата, используя теги Наставничество, менторство, коучинг, mentorship, mentor, coaching, buddy.\n",
    "   * Определить топ-10 популярных тем по просмотрам, реакциям: лайкам, комментариям, репостам среди IT-специалистов, подходящих под описание целевой аудитории исследования.\n",
    "   * Дополнить профили целевой аудитории новыми параметрами.\n",
    "   \n",
    "### Стратегия:\n",
    "Ввиду сложности получения поисковой выдачи одновременно и по целевой аудитории и по наличию у них постов про менторство нами была выбрана стратегия поиска аккаунтов сотрудников работающих в интересных нам доменах и должностях, с последующим сбором и анализом их постов."
   ]
  },
  {
   "cell_type": "markdown",
   "id": "b4e73f1a",
   "metadata": {},
   "source": [
    "## Подготовка"
   ]
  },
  {
   "cell_type": "markdown",
   "id": "85aecdc6",
   "metadata": {},
   "source": [
    "Загрузим библиотеки и объявим константы."
   ]
  },
  {
   "cell_type": "code",
   "execution_count": 1,
   "id": "05e14367-7108-4bd4-9c23-0ef50bbe8fa5",
   "metadata": {},
   "outputs": [],
   "source": [
    "import json\n",
    "import re\n",
    "from pathlib import Path\n",
    "\n",
    "import matplotlib.pyplot as plt\n",
    "import numpy as np\n",
    "import pandas as pd\n",
    "import plotly.express as px\n",
    "import spacy\n",
    "from nltk.corpus import stopwords\n",
    "from sklearn.decomposition import LatentDirichletAllocation\n",
    "from sklearn.feature_extraction.text import TfidfVectorizer\n",
    "from sklearn.cluster import MiniBatchKMeans\n",
    "from tqdm import tqdm"
   ]
  },
  {
   "cell_type": "markdown",
   "id": "b1a5abe3",
   "metadata": {},
   "source": [
    "Скачаем модель для модуля spacy."
   ]
  },
  {
   "cell_type": "code",
   "execution_count": null,
   "id": "09f846bf",
   "metadata": {
    "scrolled": false
   },
   "outputs": [],
   "source": [
    "!python -m spacy download ru_core_news_sm -q"
   ]
  },
  {
   "cell_type": "markdown",
   "id": "74a8f070-7580-4bff-ad2c-fec955194125",
   "metadata": {},
   "source": [
    "# EDA"
   ]
  },
  {
   "cell_type": "markdown",
   "id": "5d44dfa5",
   "metadata": {},
   "source": [
    "Выбранная стратегия предполагает два отдельных парсинга - сначала ссылки на аккаунты, потом хождение по ним и сбор постов.\n",
    "\n",
    "И хотя матрица для сбора предполагала что пулчится напарсить около 36 * 100 * 10 (~36000) аккаунтов, из-за ограничения по времени и медленного сбора самих постов мы решили ограничится только частью.\n",
    "\n",
    "Посмотрим на результат парсинга профилей."
   ]
  },
  {
   "cell_type": "code",
   "execution_count": null,
   "id": "be38518c",
   "metadata": {
    "scrolled": false
   },
   "outputs": [],
   "source": [
    "links = pd.read_csv('../data/02_intermediate/clean_links.csv')\n",
    "print('Общее количество ссылок на аккаунты:', len(links))\n",
    "fig = px.histogram(links, x='search_keywords', title='Распределение по ролям и грейдам для ссылок')\n",
    "fig.show()"
   ]
  },
  {
   "cell_type": "markdown",
   "id": "89890f47",
   "metadata": {},
   "source": [
    "Вторым этапом было хождение по ссылкам профилей и поиск самих постов.\n",
    "\n",
    "Загрузим и осмотрим данные."
   ]
  },
  {
   "cell_type": "code",
   "execution_count": 4,
   "id": "04257713-482a-43bf-b4c8-27eb90e02c43",
   "metadata": {},
   "outputs": [
    {
     "data": {
      "text/html": [
       "<div>\n",
       "<style scoped>\n",
       "    .dataframe tbody tr th:only-of-type {\n",
       "        vertical-align: middle;\n",
       "    }\n",
       "\n",
       "    .dataframe tbody tr th {\n",
       "        vertical-align: top;\n",
       "    }\n",
       "\n",
       "    .dataframe thead th {\n",
       "        text-align: right;\n",
       "    }\n",
       "</style>\n",
       "<table border=\"1\" class=\"dataframe\">\n",
       "  <thead>\n",
       "    <tr style=\"text-align: right;\">\n",
       "      <th></th>\n",
       "      <th>account_link</th>\n",
       "      <th>search_keywords</th>\n",
       "      <th>name</th>\n",
       "      <th>title</th>\n",
       "      <th>works_at</th>\n",
       "      <th>intro</th>\n",
       "      <th>experience</th>\n",
       "      <th>place</th>\n",
       "      <th>posts_cnt</th>\n",
       "      <th>post_text</th>\n",
       "      <th>reaction_cnt</th>\n",
       "      <th>comments_cnt</th>\n",
       "      <th>repost_cnt</th>\n",
       "    </tr>\n",
       "  </thead>\n",
       "  <tbody>\n",
       "    <tr>\n",
       "      <th>0</th>\n",
       "      <td>https://www.linkedin.com/in/varvara-kulmeteva-...</td>\n",
       "      <td>senior web developer</td>\n",
       "      <td>Varvara Kulmeteva</td>\n",
       "      <td>Senior Web Developer - IBS InfinitySoft</td>\n",
       "      <td>IBS</td>\n",
       "      <td>Навыки: ReactJS · JavaScript · HTML · CSSНавык...</td>\n",
       "      <td>10.0</td>\n",
       "      <td>Москва, Московская область, Россия</td>\n",
       "      <td>0.0</td>\n",
       "      <td>NaN</td>\n",
       "      <td>NaN</td>\n",
       "      <td>NaN</td>\n",
       "      <td>NaN</td>\n",
       "    </tr>\n",
       "    <tr>\n",
       "      <th>1</th>\n",
       "      <td>https://www.linkedin.com/in/rauventa</td>\n",
       "      <td>senior frontend</td>\n",
       "      <td>Ilya Moiseenko</td>\n",
       "      <td>LOOKING FOR \"Senior/Lead Frontend (React) Deve...</td>\n",
       "      <td>Centicore</td>\n",
       "      <td>Ilya, React Developer from Moscow.Ilya, React ...</td>\n",
       "      <td>8.0</td>\n",
       "      <td>Москва, Москва, Россия</td>\n",
       "      <td>1.0</td>\n",
       "      <td>Я только что получил(а) значок за навык «JavaS...</td>\n",
       "      <td>1.0</td>\n",
       "      <td>NaN</td>\n",
       "      <td>NaN</td>\n",
       "    </tr>\n",
       "    <tr>\n",
       "      <th>2</th>\n",
       "      <td>https://www.linkedin.com/in/denis-kuchkildin</td>\n",
       "      <td>middle data analyst</td>\n",
       "      <td>Denis Kuchkildin</td>\n",
       "      <td>Data Analyst at X5 Group</td>\n",
       "      <td>X5 Group</td>\n",
       "      <td>I have a strong engineering background and mor...</td>\n",
       "      <td>6.0</td>\n",
       "      <td>Москва, Москва, Россия</td>\n",
       "      <td>1.0</td>\n",
       "      <td>Hi everyone - I am looking for a new role and ...</td>\n",
       "      <td>NaN</td>\n",
       "      <td>NaN</td>\n",
       "      <td>NaN</td>\n",
       "    </tr>\n",
       "    <tr>\n",
       "      <th>3</th>\n",
       "      <td>https://www.linkedin.com/in/ACoAAC4yJzEB4TjXkJ...</td>\n",
       "      <td>senior ML engineer</td>\n",
       "      <td>Ian Silantev</td>\n",
       "      <td>MSc Data Science in University of East London ...</td>\n",
       "      <td>Neurospot</td>\n",
       "      <td>Absolutely in love with Data Science, AI and M...</td>\n",
       "      <td>2.0</td>\n",
       "      <td>Тбилиси, Грузия</td>\n",
       "      <td>0.0</td>\n",
       "      <td>NaN</td>\n",
       "      <td>NaN</td>\n",
       "      <td>NaN</td>\n",
       "      <td>NaN</td>\n",
       "    </tr>\n",
       "    <tr>\n",
       "      <th>4</th>\n",
       "      <td>https://www.linkedin.com/in/oleg-malyshkin</td>\n",
       "      <td>senior test engineer</td>\n",
       "      <td>Oleg Malyshkin</td>\n",
       "      <td>Senior Test Automation Engineer at GlobalLogic</td>\n",
       "      <td>NaN</td>\n",
       "      <td>Hi everyone, I am Oleg Malyshkin - Senior Test...</td>\n",
       "      <td>4.0</td>\n",
       "      <td>Киев, Киев, Украина</td>\n",
       "      <td>9.0</td>\n",
       "      <td>Finding a job for trainees and juniors is a ch...</td>\n",
       "      <td>1.0</td>\n",
       "      <td>NaN</td>\n",
       "      <td>NaN</td>\n",
       "    </tr>\n",
       "  </tbody>\n",
       "</table>\n",
       "</div>"
      ],
      "text/plain": [
       "                                        account_link       search_keywords  \\\n",
       "0  https://www.linkedin.com/in/varvara-kulmeteva-...  senior web developer   \n",
       "1               https://www.linkedin.com/in/rauventa       senior frontend   \n",
       "2       https://www.linkedin.com/in/denis-kuchkildin   middle data analyst   \n",
       "3  https://www.linkedin.com/in/ACoAAC4yJzEB4TjXkJ...    senior ML engineer   \n",
       "4         https://www.linkedin.com/in/oleg-malyshkin  senior test engineer   \n",
       "\n",
       "                name                                              title  \\\n",
       "0  Varvara Kulmeteva            Senior Web Developer - IBS InfinitySoft   \n",
       "1     Ilya Moiseenko  LOOKING FOR \"Senior/Lead Frontend (React) Deve...   \n",
       "2   Denis Kuchkildin                           Data Analyst at X5 Group   \n",
       "3       Ian Silantev  MSc Data Science in University of East London ...   \n",
       "4     Oleg Malyshkin     Senior Test Automation Engineer at GlobalLogic   \n",
       "\n",
       "    works_at                                              intro  experience  \\\n",
       "0        IBS  Навыки: ReactJS · JavaScript · HTML · CSSНавык...        10.0   \n",
       "1  Centicore  Ilya, React Developer from Moscow.Ilya, React ...         8.0   \n",
       "2   X5 Group  I have a strong engineering background and mor...         6.0   \n",
       "3  Neurospot  Absolutely in love with Data Science, AI and M...         2.0   \n",
       "4        NaN  Hi everyone, I am Oleg Malyshkin - Senior Test...         4.0   \n",
       "\n",
       "                                place  posts_cnt  \\\n",
       "0  Москва, Московская область, Россия        0.0   \n",
       "1              Москва, Москва, Россия        1.0   \n",
       "2              Москва, Москва, Россия        1.0   \n",
       "3                     Тбилиси, Грузия        0.0   \n",
       "4                 Киев, Киев, Украина        9.0   \n",
       "\n",
       "                                           post_text reaction_cnt  \\\n",
       "0                                                NaN          NaN   \n",
       "1  Я только что получил(а) значок за навык «JavaS...          1.0   \n",
       "2  Hi everyone - I am looking for a new role and ...          NaN   \n",
       "3                                                NaN          NaN   \n",
       "4  Finding a job for trainees and juniors is a ch...          1.0   \n",
       "\n",
       "   comments_cnt  repost_cnt  \n",
       "0           NaN         NaN  \n",
       "1           NaN         NaN  \n",
       "2           NaN         NaN  \n",
       "3           NaN         NaN  \n",
       "4           NaN         NaN  "
      ]
     },
     "execution_count": 4,
     "metadata": {},
     "output_type": "execute_result"
    }
   ],
   "source": [
    "df = pd.read_csv('../data/02_intermediate/clean_posts.csv')\n",
    "df.head()"
   ]
  },
  {
   "cell_type": "code",
   "execution_count": 5,
   "id": "f809ee3c",
   "metadata": {},
   "outputs": [
    {
     "name": "stdout",
     "output_type": "stream",
     "text": [
      "<class 'pandas.core.frame.DataFrame'>\n",
      "RangeIndex: 14459 entries, 0 to 14458\n",
      "Data columns (total 13 columns):\n",
      " #   Column           Non-Null Count  Dtype  \n",
      "---  ------           --------------  -----  \n",
      " 0   account_link     14459 non-null  object \n",
      " 1   search_keywords  3856 non-null   object \n",
      " 2   name             5489 non-null   object \n",
      " 3   title            14421 non-null  object \n",
      " 4   works_at         3853 non-null   object \n",
      " 5   intro            3816 non-null   object \n",
      " 6   experience       3809 non-null   float64\n",
      " 7   place            3811 non-null   object \n",
      " 8   posts_cnt        4161 non-null   float64\n",
      " 9   post_text        12980 non-null  object \n",
      " 10  reaction_cnt     11791 non-null  object \n",
      " 11  comments_cnt     10616 non-null  float64\n",
      " 12  repost_cnt       10225 non-null  float64\n",
      "dtypes: float64(4), object(9)\n",
      "memory usage: 1.4+ MB\n"
     ]
    }
   ],
   "source": [
    "df.info()"
   ]
  },
  {
   "cell_type": "markdown",
   "id": "e1b3d866-e51c-4616-b027-897092665126",
   "metadata": {},
   "source": [
    "Всего в датасете 14459 постов. Для каждого есть ссылка на аккаунт (account_link), для некоторых постов есть данные по поисковым запросам, имя участника, должность, место работы, описание из раздела \"О себе\", суммарный опыт работы, местоположение, общее количество постов у данного участника, текст конкретного поста, количество реакций, комментариев и репостов для данного поста.\n",
    "\n",
    "Многие поля заполняются на сайте пользователем в свободной форме, поэтому сложны для анализа. Например, посмотрим на количество уникальных должностей."
   ]
  },
  {
   "cell_type": "code",
   "execution_count": 6,
   "id": "f41a867b",
   "metadata": {},
   "outputs": [
    {
     "data": {
      "text/plain": [
       "1548"
      ]
     },
     "execution_count": 6,
     "metadata": {},
     "output_type": "execute_result"
    }
   ],
   "source": [
    "len(df['title'].unique())"
   ]
  },
  {
   "cell_type": "markdown",
   "id": "4f799484",
   "metadata": {},
   "source": [
    "1548 при общем количестве 14421, т.е. в среднем по 10 человек на один тип должности. При необходимости можно почистить эти записи и проанализировать, однако в данном случае нас больше интересуют посты людей.\n",
    "\n",
    "Для дальнейшего анализа и работы сбросим строки без постов, категорийные Nan'ы заменим на надпись 'unknown', количественные в оценках постов на 0, проверим на дубликаты."
   ]
  },
  {
   "cell_type": "code",
   "execution_count": 7,
   "id": "a154612d",
   "metadata": {},
   "outputs": [],
   "source": [
    "df = df[df['post_text'] != 'нет постов']\n",
    "df = df[~df['post_text'].isnull()]"
   ]
  },
  {
   "cell_type": "markdown",
   "id": "12e2cc0d",
   "metadata": {},
   "source": [
    "Избавимся от пропусков."
   ]
  },
  {
   "cell_type": "code",
   "execution_count": 8,
   "id": "00ee32e4",
   "metadata": {},
   "outputs": [],
   "source": [
    "df['search_keywords'].fillna(value='unknown', inplace=True)\n",
    "df['name'].fillna(value='unknown', inplace=True)\n",
    "df['title'].fillna(value='unknown', inplace=True)\n",
    "df['works_at'].fillna(value='unknown', inplace=True)\n",
    "df['intro'].fillna(value='unknown', inplace=True)\n",
    "df['place'].fillna(value='unknown', inplace=True)"
   ]
  },
  {
   "cell_type": "code",
   "execution_count": 9,
   "id": "07972bc5",
   "metadata": {},
   "outputs": [],
   "source": [
    "df['experience'].fillna(value=0, inplace=True)\n",
    "df = df[df['experience'] <= 50]"
   ]
  },
  {
   "cell_type": "markdown",
   "id": "4ff8c4a3",
   "metadata": {},
   "source": [
    "Т.к. количество постов ранее могло быть неверным (при неполном прохождении по странице или если бот не смог найти кнопку раскрытия следующих постов, но при этом при дублировании ссылок в следующий раз проходил полностью), то следует пересчитать фактическое количество постов."
   ]
  },
  {
   "cell_type": "code",
   "execution_count": 10,
   "id": "cf1619fd",
   "metadata": {},
   "outputs": [],
   "source": [
    "df.drop_duplicates(subset=['account_link', 'post_text', 'reaction_cnt', 'comments_cnt', 'repost_cnt'], inplace=True)"
   ]
  },
  {
   "cell_type": "code",
   "execution_count": 11,
   "id": "d329e2fe",
   "metadata": {},
   "outputs": [],
   "source": [
    "post_count = df.pivot_table(index=['account_link'], values=['post_text'], aggfunc='count')\n",
    "post_count.rename(columns={'post_text': 'posts_cnt'}, inplace=True)\n",
    "post_count.reset_index(inplace=True)"
   ]
  },
  {
   "cell_type": "code",
   "execution_count": 12,
   "id": "ecea2bd9",
   "metadata": {},
   "outputs": [],
   "source": [
    "df.drop(columns='posts_cnt', inplace=True, errors='ignore')\n",
    "df = df.merge(post_count, how='left', on='account_link', sort=False)"
   ]
  },
  {
   "cell_type": "markdown",
   "id": "f74f5e45",
   "metadata": {},
   "source": [
    "Осталось заполнить нулями пропуски в реакциях."
   ]
  },
  {
   "cell_type": "code",
   "execution_count": 13,
   "id": "9eaba109",
   "metadata": {},
   "outputs": [],
   "source": [
    "df['reaction_cnt'].fillna(value=0, inplace=True)\n",
    "df['comments_cnt'].fillna(value=0, inplace=True)\n",
    "df['repost_cnt'].fillna(value=0, inplace=True)"
   ]
  },
  {
   "cell_type": "markdown",
   "id": "c303891e",
   "metadata": {},
   "source": [
    "Также можно обратить внимание что в одном из датасетов лайки были собраны как текст. Надо преобразовать к интам."
   ]
  },
  {
   "cell_type": "code",
   "execution_count": 14,
   "id": "24644f1d",
   "metadata": {},
   "outputs": [],
   "source": [
    "df['reaction_cnt'] = df['reaction_cnt'].apply(lambda x: re.sub(r' |,', '', str(x)))"
   ]
  },
  {
   "cell_type": "markdown",
   "id": "c07eb541",
   "metadata": {},
   "source": [
    "Теперь преобразуем типы."
   ]
  },
  {
   "cell_type": "code",
   "execution_count": 15,
   "id": "26df9a1b",
   "metadata": {
    "scrolled": true
   },
   "outputs": [
    {
     "name": "stdout",
     "output_type": "stream",
     "text": [
      "<class 'pandas.core.frame.DataFrame'>\n",
      "Int64Index: 12523 entries, 0 to 12522\n",
      "Data columns (total 13 columns):\n",
      " #   Column           Non-Null Count  Dtype \n",
      "---  ------           --------------  ----- \n",
      " 0   account_link     12523 non-null  object\n",
      " 1   search_keywords  12523 non-null  object\n",
      " 2   name             12523 non-null  object\n",
      " 3   title            12523 non-null  object\n",
      " 4   works_at         12523 non-null  object\n",
      " 5   intro            12523 non-null  object\n",
      " 6   experience       12523 non-null  int32 \n",
      " 7   place            12523 non-null  object\n",
      " 8   post_text        12523 non-null  object\n",
      " 9   reaction_cnt     12523 non-null  int32 \n",
      " 10  comments_cnt     12523 non-null  int32 \n",
      " 11  repost_cnt       12523 non-null  int32 \n",
      " 12  posts_cnt        12523 non-null  int32 \n",
      "dtypes: int32(5), object(8)\n",
      "memory usage: 1.1+ MB\n"
     ]
    }
   ],
   "source": [
    "df['experience'] = df['experience'].astype('int')\n",
    "df['reaction_cnt'] = df['reaction_cnt'].astype('float').astype('int')\n",
    "df['comments_cnt'] = df['comments_cnt'].astype('int')\n",
    "df['repost_cnt'] = df['repost_cnt'].astype('int')\n",
    "df['posts_cnt'] = df['posts_cnt'].astype('int')\n",
    "df.info()"
   ]
  },
  {
   "cell_type": "markdown",
   "id": "048cc5c8",
   "metadata": {},
   "source": [
    "Также, из набора данных придётся удалить вручную тексты на украинском и белорусском языках, т.к. при лемматизации они засорят словарь, а автоматически отфильтровать их проблематично из-за большого количества похожих с русским букв."
   ]
  },
  {
   "cell_type": "code",
   "execution_count": 16,
   "id": "e458ca1b",
   "metadata": {},
   "outputs": [],
   "source": [
    "df = df[df['place'] != 'Киев, Киев, Украина']\n",
    "df.reset_index(drop=True, inplace=True)\n",
    "\n",
    "to_filter = ['також', 'дуже', 'якщо', 'допомогти', 'вакансії', 'штучний', 'життя', 'які', 'своїм', 'що']\n",
    "texts = df['post_text'].tolist()\n",
    "counter = 0\n",
    "to_remove = []\n",
    "for text in texts:\n",
    "    if [i for i in to_filter if i in text]:\n",
    "        to_remove.append(counter)\n",
    "    counter += 1\n",
    "    \n",
    "df.drop(index=to_remove, inplace=True)\n",
    "df.reset_index(drop=True, inplace=True)"
   ]
  },
  {
   "cell_type": "markdown",
   "id": "e981b667",
   "metadata": {},
   "source": [
    "Обработка почти закончена, посмотрим на распределения."
   ]
  },
  {
   "cell_type": "code",
   "execution_count": null,
   "id": "4884f04c",
   "metadata": {},
   "outputs": [],
   "source": [
    "fig = px.histogram(\n",
    "    df[df['search_keywords'] != 'unknown'], x='search_keywords',\n",
    "    title='Распределение по ролям и грейдам для страниц'\n",
    ")\n",
    "fig.show()"
   ]
  },
  {
   "cell_type": "markdown",
   "id": "d2a7f5e6",
   "metadata": {},
   "source": [
    "К сожалению, из-за ограничений по времени выборка получилась разношёрстной.\n",
    "\n",
    "Посмотрим в каких компаниях работаю люди, которые оставляют посты на своих страницах."
   ]
  },
  {
   "cell_type": "code",
   "execution_count": null,
   "id": "50d6a069",
   "metadata": {
    "scrolled": true
   },
   "outputs": [],
   "source": [
    "data = df.drop_duplicates(subset=['account_link'])\n",
    "data = data[data['works_at'] != 'unknown']\n",
    "data = data.pivot_table(index=['works_at'], values=['account_link'], aggfunc='count')\n",
    "data.reset_index(inplace=True)\n",
    "data.loc[data['account_link'] < 3, 'works_at'] = 'Other companies'\n",
    "fig = px.pie(data, values='account_link', names='works_at', title='Крупнейшие работодатели')\n",
    "fig.show()"
   ]
  },
  {
   "cell_type": "markdown",
   "id": "3a52d9db",
   "metadata": {},
   "source": [
    "Даже без чистки столбца видно что самые популярные работодатели это Яндекс, Сбербанк и Тинькофф.\n",
    "\n",
    "Посмотрим на распределение по опыту."
   ]
  },
  {
   "cell_type": "code",
   "execution_count": null,
   "id": "12c6d410",
   "metadata": {
    "scrolled": true
   },
   "outputs": [],
   "source": [
    "data = df.drop_duplicates(subset=['account_link'])\n",
    "fig = px.histogram(data[data['experience'] != 0], x='experience', title='Распределение по стажу')\n",
    "fig.show()"
   ]
  },
  {
   "cell_type": "markdown",
   "id": "f2d89eec",
   "metadata": {},
   "source": [
    "Средний опыт работы осматриваемой аудитории составляет 6-7 лет.\n",
    "\n",
    "Посмотрим на распределение количества постов."
   ]
  },
  {
   "cell_type": "code",
   "execution_count": null,
   "id": "f352876c",
   "metadata": {},
   "outputs": [],
   "source": [
    "data = df.drop_duplicates(subset=['account_link'])\n",
    "data = data[data['posts_cnt'] < 50]\n",
    "fig = px.histogram(data[data['experience'] != 0], x='posts_cnt', title='Распределение по количеству постов')\n",
    "fig.show()"
   ]
  },
  {
   "cell_type": "markdown",
   "id": "29a3c9d1",
   "metadata": {},
   "source": [
    "### Выводы\n",
    "\n",
    "Мы смогли собрать ссылки на 11338 акаунтов, но только с ~ 2200 из них успели собрать посты (~ 1400). Тем не менее, после добавления аккаунтов от других команд и чистки у нас получилось 12523 текстовых комментариев от 982 аккаунтов.\n",
    "\n",
    "Наиболее популярные работодатели это Яндекс, Сбербанк и Тинькофф.\n",
    "\n",
    "Средний опыт аудитории - 6-7 лет.\n",
    "\n",
    "Чаще всего встречается 1-2 поста на профиль.\n",
    "\n",
    "Перерейдём к топик-моделированию."
   ]
  },
  {
   "cell_type": "markdown",
   "id": "f01bf31f",
   "metadata": {},
   "source": [
    "# Моделирование"
   ]
  },
  {
   "cell_type": "markdown",
   "id": "a9a1ed10",
   "metadata": {},
   "source": [
    "В качестве модели для топик-моделирования будем использовать модель **LDA** (Латентное размещение Дирихле) из модуля Scikit-Learn, для лемматизации - библиотеку **spacy** с моделью *ru_core_news_sm*, для векторизации - **Tf-Idf**."
   ]
  },
  {
   "cell_type": "markdown",
   "id": "9ee26cb6-e682-43ed-ba93-32212486112b",
   "metadata": {},
   "source": [
    "## Подготовка текстов"
   ]
  },
  {
   "cell_type": "markdown",
   "id": "1fc70781-b907-46c4-a0f2-f235bf07e5ce",
   "metadata": {},
   "source": [
    "Теперь выполним токенизацию и лемматизацию текстов с помощью *ru_core_news_sm*."
   ]
  },
  {
   "cell_type": "code",
   "execution_count": 21,
   "id": "7045fcf6",
   "metadata": {},
   "outputs": [],
   "source": [
    "model = spacy.load('ru_core_news_sm', disable=['ner', 'parser'])"
   ]
  },
  {
   "cell_type": "markdown",
   "id": "d51a353e-6397-4135-90f5-4d7a2f2676d8",
   "metadata": {},
   "source": [
    "Складываем все новости в один список"
   ]
  },
  {
   "cell_type": "code",
   "execution_count": 22,
   "id": "fd353ec5-8db2-4460-89f5-bc6f88df4e4c",
   "metadata": {},
   "outputs": [],
   "source": [
    "texts = df['post_text'].tolist()"
   ]
  },
  {
   "cell_type": "markdown",
   "id": "a4e8176c",
   "metadata": {},
   "source": [
    "Выполняем лемматизацию текстов."
   ]
  },
  {
   "cell_type": "code",
   "execution_count": 23,
   "id": "6f2518f1",
   "metadata": {},
   "outputs": [
    {
     "name": "stdout",
     "output_type": "stream",
     "text": [
      "CPU times: total: 3min 33s\n",
      "Wall time: 3min 33s\n"
     ]
    }
   ],
   "source": [
    "%%time\n",
    "res = []\n",
    "for doc in model.pipe(texts, disable=[\"tagger\", \"parser\"]):\n",
    "    res.append([token.lemma_ for token in doc])"
   ]
  },
  {
   "cell_type": "markdown",
   "id": "5e859143-9aa3-4717-ae64-f8736ac9acf6",
   "metadata": {},
   "source": [
    "\n",
    "\n",
    "Удалим знаки препинания, цифры и слова, содержащие цифры. Для это соберём регулярное выражение, которое подходит для любого слова, состоящего из букв кирилицы.\n",
    "\n"
   ]
  },
  {
   "cell_type": "code",
   "execution_count": 24,
   "id": "0cd293d6-12be-4c2e-96c1-4ba76906934d",
   "metadata": {},
   "outputs": [],
   "source": [
    "pattern = re.compile(\"^[а-яА-ЯёЁ]*$\")\n",
    "def remove_symbols(doc):\n",
    "    return [token for token in doc if pattern.match(token)]\n",
    "corpus = list(map(remove_symbols, res))"
   ]
  },
  {
   "cell_type": "markdown",
   "id": "06cb43e2-df43-4cb8-a78b-43c4acfa5309",
   "metadata": {},
   "source": [
    "Теперь необходимо провести векторизацию. Воспользуемся Tf-Idf. Также добавим исключения для стоп-слов."
   ]
  },
  {
   "cell_type": "code",
   "execution_count": 25,
   "id": "3555d293-13cd-4de7-82e5-10a32c349ded",
   "metadata": {},
   "outputs": [],
   "source": [
    "stop_words = stopwords.words('russian')\n",
    "new_stopwords = [\n",
    "    'иб', 'це', 'ми', 'ваш', 'наш', 'що', 'это',\n",
    "    'свой', 'вже', 'як', 'щоб', 'ти', 'чи'\n",
    "]\n",
    "stop_words.extend(new_stopwords)"
   ]
  },
  {
   "cell_type": "markdown",
   "id": "6abaa90c",
   "metadata": {},
   "source": [
    "Для векторизации используем отбираем слова, минимальное количество постов в которых они встречаются равным 3 и не более чем в 95% текстов."
   ]
  },
  {
   "cell_type": "code",
   "execution_count": 26,
   "id": "6bff388d-dd5a-438c-a5ce-b7d739452586",
   "metadata": {},
   "outputs": [],
   "source": [
    "tfidf = TfidfVectorizer(stop_words=stop_words, min_df=3, max_df=0.95)"
   ]
  },
  {
   "cell_type": "markdown",
   "id": "7468f8ba-4cb9-4a8b-8a65-e2e6fc40a87f",
   "metadata": {},
   "source": [
    "TfIdfVectorizer принимает на вход список предложений, поэтому необходимо объединить списки слов, составляющих корпус, в предложения."
   ]
  },
  {
   "cell_type": "code",
   "execution_count": 27,
   "id": "3124cb24-dbc9-4043-abfc-ebacc41bf180",
   "metadata": {
    "jupyter": {
     "outputs_hidden": true
    },
    "tags": []
   },
   "outputs": [],
   "source": [
    "docs = [\" \".join(tokens) for tokens in corpus]"
   ]
  },
  {
   "cell_type": "code",
   "execution_count": 28,
   "id": "366d58eb-801e-461e-8cca-7db7feb520c1",
   "metadata": {},
   "outputs": [],
   "source": [
    "x = tfidf.fit_transform(docs)"
   ]
  },
  {
   "cell_type": "code",
   "execution_count": 29,
   "id": "091efa54-5db8-423b-a9d3-e43b376a69a9",
   "metadata": {},
   "outputs": [
    {
     "data": {
      "text/plain": [
       "(12362, 6444)"
      ]
     },
     "execution_count": 29,
     "metadata": {},
     "output_type": "execute_result"
    }
   ],
   "source": [
    "x.shape"
   ]
  },
  {
   "cell_type": "code",
   "execution_count": 30,
   "id": "60d3ead5-7d38-4417-b333-191e153da469",
   "metadata": {},
   "outputs": [],
   "source": [
    "id2word = {i: token for i, token in enumerate(tfidf.get_feature_names())}"
   ]
  },
  {
   "cell_type": "markdown",
   "id": "9d63dae5",
   "metadata": {},
   "source": [
    "## Определение количества тем"
   ]
  },
  {
   "cell_type": "markdown",
   "id": "213598d0",
   "metadata": {},
   "source": [
    "Метод кластеризации K-means обладает интересной особенностью, для него есть метод определения оптимального количества кластеров - \"метод локтя\". Он заключается в итеративном нахождении инерции (сумма квадратов дистанций от образца до центра кластера) и вычерчивания графика количество_кластеров - инерция. Излом на графике показывает оптимальное количество кластеров."
   ]
  },
  {
   "cell_type": "code",
   "execution_count": 31,
   "id": "4c4c24b9",
   "metadata": {},
   "outputs": [
    {
     "name": "stderr",
     "output_type": "stream",
     "text": [
      "progress: 100%|████████████████████████████████████████████████████████████████████████| 19/19 [00:19<00:00,  1.02s/it]"
     ]
    },
    {
     "name": "stdout",
     "output_type": "stream",
     "text": [
      "CPU times: total: 37.2 s\n",
      "Wall time: 19.3 s\n"
     ]
    },
    {
     "name": "stderr",
     "output_type": "stream",
     "text": [
      "\n"
     ]
    }
   ],
   "source": [
    "%%time\n",
    "inertia = []\n",
    "for k in tqdm(range(1, 20), 'progress'):\n",
    "    kmeans = MiniBatchKMeans(n_clusters=k, random_state=31416, n_init=100).fit(x)\n",
    "    inertia.append(np.sqrt(kmeans.inertia_))"
   ]
  },
  {
   "cell_type": "code",
   "execution_count": 32,
   "id": "e1890d85",
   "metadata": {},
   "outputs": [
    {
     "data": {
      "image/png": "[encoded data removed]",
      "text/plain": [
       "<Figure size 1152x360 with 1 Axes>"
      ]
     },
     "metadata": {
      "needs_background": "light"
     },
     "output_type": "display_data"
    }
   ],
   "source": [
    "fig = plt.figure(figsize=(16, 5))\n",
    "plt.plot(range(1, 20), inertia[:19], marker=\"s\")\n",
    "plt.xlabel('$k$')\n",
    "plt.ylabel('$J(C_k)$')\n",
    "plt.xticks(np.arange(0, 21, 2), rotation=90)\n",
    "plt.grid()\n",
    "plt.show()"
   ]
  },
  {
   "cell_type": "markdown",
   "id": "def97097",
   "metadata": {},
   "source": [
    "Видно что график имеет наименьшую инерцию на 13 кластерах."
   ]
  },
  {
   "cell_type": "markdown",
   "id": "835dc774-04ca-4486-820e-c053ae1c5299",
   "metadata": {},
   "source": [
    "## Топик-моделинг с LDA"
   ]
  },
  {
   "cell_type": "markdown",
   "id": "5030b8e4-cdeb-4c6d-a6c2-3ea5bf72d9be",
   "metadata": {},
   "source": [
    "Теперь можем запустить алгоритм LDA. Зададим количество тем равное 13."
   ]
  },
  {
   "cell_type": "code",
   "execution_count": 33,
   "id": "e2f92219-5f50-41d2-91be-5f07796ed677",
   "metadata": {},
   "outputs": [],
   "source": [
    "n_topics = 13"
   ]
  },
  {
   "cell_type": "code",
   "execution_count": 34,
   "id": "95d47fc3-498c-46bc-933d-8aee42382350",
   "metadata": {},
   "outputs": [],
   "source": [
    "lda = LatentDirichletAllocation(n_components=n_topics, random_state=31416)"
   ]
  },
  {
   "cell_type": "code",
   "execution_count": 35,
   "id": "9d510749-149f-42fb-b751-1488e7a886ee",
   "metadata": {},
   "outputs": [],
   "source": [
    "topics = lda.fit_transform(x)"
   ]
  },
  {
   "cell_type": "code",
   "execution_count": 36,
   "id": "589f0747-f262-4ce8-9a04-154f7a32831e",
   "metadata": {},
   "outputs": [
    {
     "data": {
      "text/plain": [
       "(12362, 13)"
      ]
     },
     "execution_count": 36,
     "metadata": {},
     "output_type": "execute_result"
    }
   ],
   "source": [
    "topics.shape"
   ]
  },
  {
   "cell_type": "markdown",
   "id": "52b2d01e-d6aa-4750-a2f7-864c7ae21333",
   "metadata": {},
   "source": [
    "Получили массив размера *x13. Строки здесь - отдельные тексты, а колонки - 13 выделенных тем. В каждой ячейке стоит вероятность того, что данный текст относится к данной теме."
   ]
  },
  {
   "cell_type": "markdown",
   "id": "879a33e7-8179-48ff-9f29-edf66ba34329",
   "metadata": {},
   "source": [
    "### Ключевые слова"
   ]
  },
  {
   "cell_type": "markdown",
   "id": "bf4f9208-bc32-4a32-995c-0c78d7e703e4",
   "metadata": {},
   "source": [
    "Теперь извлечём ключевые слова для каждой из 13 тем. Пройдёмся по каждой из 13 выделенных тем и для каждой возьмём ТОП-20 слов."
   ]
  },
  {
   "cell_type": "markdown",
   "id": "b7d7f478-6fe8-41f2-8f5b-18e8924eafda",
   "metadata": {},
   "source": [
    "По очереди пройдёмся по каждой теме (первое измерение массиа) и выберем ТОП-20 слов, наиболее характерных для этой темы. Потом по индексу слова обратимся к словарю и узнаем, что это за слово."
   ]
  },
  {
   "cell_type": "code",
   "execution_count": 37,
   "id": "22943201-2961-46a2-b925-6a0c2f41c6f8",
   "metadata": {},
   "outputs": [
    {
     "name": "stdout",
     "output_type": "stream",
     "text": [
      "Тема 1 :\n",
      "удовольствие, сообщать, начинать, должность, компания, новый, работа, шпаргалка, тестировщиков, разработчик, тестировщика, тестер, тестировщик, скрам, слайд, ведущий, сон, уч, вебдизайн, заведение\n",
      "\n",
      " \n",
      "Тема 2 :\n",
      "отзыв, благодарность, лендинг, делать, хороший, благодарю, новость, результат, скидка, командный, работа, саме, команда, доступ, тренинг, уметь, отличный, докладчик, содержательный, поздравить\n",
      "\n",
      " \n",
      "Тема 3 :\n",
      "работа, команда, компания, проект, опыт, год, весь, мочь, человек, очень, новый, работать, интересный, ещё, искать, разработка, время, хороший, нужный, вакансия\n",
      "\n",
      " \n",
      "Тема 4 :\n",
      "вакансия, супер, мем, логотип, процессов, берлин, спб, покупатель, спасибо, подавать, мимо, виртуальный, разработать, продакт, нам, лс, гипотеза, июль, тр, дизайн\n",
      "\n",
      " \n",
      "Тема 5 :\n",
      "навык, значок, проверка, тест, хотеть, следующий, пройти, разработка, приложение, услуга, консалтинг, статья, радость, бизнес, просмотреть, оказывать, сообщать, услуги, новый, запустить\n",
      "\n",
      " \n",
      "Тема 6 :\n",
      "кибербезопасность, инфобез, очень, обзор, интересный, час, россия, эксперт, отличный, ценить, информационнаябезопасность, защита, классный, автоматизациябизнеса, срочно, аналитик, отзыв, крутой, искуственныйинтеллект, платформа\n",
      "\n",
      " \n",
      "Тема 7 :\n",
      "рейтинг, доллар, немного, трансформация, оптимизация, повод, эпизод, испытание, объяснять, зсу, подобный, спорт, перспектива, сетка, миллиард, голос, экономия, несмотря, трудность, локальный\n",
      "\n",
      " \n",
      "Тема 8 :\n",
      "возможность, поиск, контакт, рекомендация, благодарить, заранее, совет, поддержка, предложить, весь, здравствовать, карьерный, которые, новый, мочь, всем, вакансия, привет, разработчик, программист\n",
      "\n",
      " \n",
      "Тема 9 :\n",
      "сертификат, день, добро, новий, подписка, евгений, магия, получить, каждый, тренажёр, утечка, автомобиль, сей, диплом, число, пора, девопс, вдохновлять, кайф, никита\n",
      "\n",
      " \n",
      "Тема 10 :\n",
      "нанимать, заинтересовать, знать, которых, человек, мочь, специалист, рекомендовать, слава, искать, прочтение, велком, советовать, магистратура, герой, забыть, казаться, ищу, забавный, португалия\n",
      "\n",
      " \n",
      "Тема 11 :\n",
      "импортозамещение, дизайн, лендинг, курсытестирования, юмор, тильда, яндексдирект, контекстнаяреклама, тесировщик, пейдж, знакомо, подробный, битрикс, арт, страница, пользоваться, круто, реклама, услуга, сайтнатильда\n",
      "\n",
      " \n",
      "Тема 12 :\n",
      "сообщить, яндекс, практикум, ознакомиться, интересовать, анонс, присоединяться, отчёт, хабре, вакансия, семинар, новосибирск, небольшой, тема, прекрасный, авито, отслеживать, писать, алексей, поделиться\n",
      "\n",
      " \n",
      "Тема 13 :\n",
      "автоматизация, выразить, буде, эфир, поблагодарить, инженер, мидкор, благодарность, выход, прямой, автомобильный, отзыв, спасибо, тизер, процессы, метрики, визуальный, ищу, станция, торговля\n",
      "\n",
      " \n"
     ]
    }
   ],
   "source": [
    "for i in range(n_topics):\n",
    "    c = lda.components_[i, :]\n",
    "    topic_tokens = [id2word.get(token_id) for token_id in np.argsort(c)[-20:]][::-1]\n",
    "    print(\"Тема\",i+1, \":\")\n",
    "    print(\", \".join(topic_tokens))\n",
    "    print(\"\\n \")"
   ]
  },
  {
   "cell_type": "markdown",
   "id": "34921b4f-2611-4a05-9ab2-7d4e4857a6cc",
   "metadata": {},
   "source": [
    "### Типичные статьи"
   ]
  },
  {
   "cell_type": "markdown",
   "id": "201ebeab-f859-4b6c-8f24-213c875fee74",
   "metadata": {},
   "source": [
    "Теперь для каждой темы возьмём по три документа, которые хорошо соответсвуют этой теме. Для этого заглянем в массив _topics_."
   ]
  },
  {
   "cell_type": "code",
   "execution_count": 38,
   "id": "07d1a6e6-b179-44e7-8220-d8aff056bfa8",
   "metadata": {
    "scrolled": false
   },
   "outputs": [
    {
     "name": "stdout",
     "output_type": "stream",
     "text": [
      "Тема  1\n",
      " 'С удовольствием сообщаю, что я начинаю работу в новой должности\\xa0– Старший разработчик программного обеспечения в компании Перспективный мониторинг!']\n",
      "--------------------------------------------------\n",
      "С удовольствием сообщаю, что я начинаю работу в новой должности – Ведущий программист в компании Сейлз-хаус «Газпром-Медиа»!\n",
      "--------------------------------------------------\n",
      "С удовольствием сообщаю, что я начинаю работу в новой должности – Senior ML Engineer в компании SberDevices, где буду заниматься обучением больших мультимодальных и мультиязычных моделей!\n",
      "--------------------------------------------------\n",
      "\n",
      "\n",
      "Тема  2\n",
      "Наконец сменил обстановку для работы. Жаль, что временно. НУ, а пока... солнце, Ереван и очень много вкусной еды 😌\n",
      "--------------------------------------------------\n",
      "\"Кривой угол\", продолжение про 7 красных перпендикулярных линий. Хорошо бы снять ролик про собеседование Андерсена\n",
      "--------------------------------------------------\n",
      "Полевые испытания присадки IF-WS2 к моторному маслу для локомотивов показали экономический эффект в размере  $18 000 в год на 1 локомотив.#нанотехнологии#наноприсадки#масло#моторное#транспорт#локомотив#технология#экономия#прибыль#выгода\n",
      "--------------------------------------------------\n",
      "\n",
      "\n",
      "Тема  3\n",
      "Речь Президента предпринимателям. Мое мнение.⠀На самом деле, было поднято много проблем бизнеса. И с некоторыми из них наша компания даже сталкивалась. Хочется верить в то, что пути решения действительно найдутся. Конечно есть те, кто сомневается, что все это возможно реализовать. И как оказалось, таких много. Я проводил у себя в сториз голосование, и почти половина опрошенных ответили, что не верят в реализацию этих планов.⠀Людей можно понять, ведь нам много чего обещали, но не сделали. Однако в свете последних событий, которые сконцентрировали власть Президента в единых руках, эти заявления мне слышать более весомо. В то же время я понимаю, что будет очень сильное сопротивление тех людей, кто раньше был у кормушки. Так что запасайтесь попкорном, нам похоже предстоит наблюдать еще много сенсационных  событий.⠀Ключевые направления, которые мне кажутся важными для развития малого и среднего предпринимательства это:⠀1️⃣ Расширение сфер, где может работать частный бизнес;2️⃣ Честная конкуренция.⠀По 1 пункту это приватизация части квазигоссектора, которая может быть отдана в частный сектор. Об этом говорят уже давно, но существенных изменений не произошло. Надеюсь, что время пришло. Также Президентом озвучены прекращения всяких операторств и монополии. В нашей ИТ-сфере, к сожалению, этот момент по сегодняшний день процветал. Надеюсь, изменения не заставят себя долго ждать.По 2 пункту это реформирование судебной системы. Мы на себе испытывали озвученные проблемы, и не понаслышке знаем, как тяжело было суду доказать, что госорган был неправ. Ну и конечно же борьба с теневым рынком, которая сводила на нет усилия честных предпринимателей. В этой сфере сильно может помочь повсеместная цифровизация. Как мы видим сейчас - люди к этому готовы. При этом надеюсь, что государство услышит нашу ИТ-отрасль и поймет, что это все под силу нам самим без привлечения иностранных компаний или их платформ. Сделайте только так, чтобы конкуренция  была честная.⠀До нового года планировался один проект, когда госорган собирался одну из сфер бизнеса, где трудятся сотни малых и средних компаний, отдать определенным представителям крупного бизнеса. Единственный аргумент, который я слышал в защиту этой идеи, было то, что услуги будут оказывать бесплатно. Но когда вы видели, чтобы кто-то что-то делал бесплатно?⠀При этом данные представители крупного бизнеса не имеют законодательного права заниматься этими сферами, но если проект состоится, то вполне естественно, что крупняки выдавят с рынка всех мелких участников. При этом сформированный за более чем 20 лет рынок сотен компаний будет вынужден прекратить свою деятельность в этой сфере.⠀До нового года я не знал, что может помешать этому решению. Но сейчас четко вижу, как Президент говорил, что такого допустить нельзя. Посмотрим, одумается ли госорган, поймут ли они слова Президента, но ожидания у меня самые оптимистичные.\n",
      "--------------------------------------------------\n",
      "ChatGPT решит все проблемы?Таким вопросом задается каждый, кто хоть раз видел примеры работы ChatGPT. Насколько хорош ChatGPT и как он может помочь Вам? ChatGPT – одна из самых передовых моделей для работы с «человеческим» языком (NLP). Фактически, это очень эрудированный и талантливый собеседник, который может найти ошибку в коде, перевести текст, написать сочинение или стих, представить себе персонажем книги и многое другое. Звучит отлично, но есть много «но». Во-первых, это модель, и обучена она на невероятных объемах данных. Информация – один из самых ликвидных ресурсов мира, и она подвержена постоянному изменению. Соответственно, ChatGPT может не знает о всем самом актуальном, что означает необходимость ручного контроля над правдивостью и актуальностью информации. Также, в рамках тестирования, мы заметили, что, если вдруг GPT не знает чего-либо, не стесняется выдумать, что в лучшем случае вызовет улыбку у пользователя. Или, например, мы хотим, чтобы GPT помог ответить нам на какие-либо вопросы, и предполагаем, что 1000 символов хватит для его ответа. API GPT3 не будет пытаться уложиться в поставленные рамки, а может обрезать отдаваемый текст на середине мысли.В процессе использования, так или иначе будут появляться нюансы. Какие-то из них можно решить просто, а для каких-то понадобится кастомное дообучение. Например, вы хотите, чтобы GPT точно знал содержание какой-то книги, тогда надо будет ему передать эту книгу для «чтения». Нужен ли вашему бизнесу GPT? Может быть, в базе данных вашего проекта нет описаний каких-либо полей и можно их сгенерировать, или переписать тексты на сайте в более красивый вид, или сделать современный чат-бот помощник. Возможности здесь ограничены только полетом фантазии и целесообразностью их внедрения и имеющимися линейными альтернативами. Так или иначе, большой шаг к повсеместному внедрению ИИ сделан, и, если вы хотите узнать, как не упустить шанс внедрить умные решения, наша команда всегда открыта к консультации и решению большого спектра вопросов.#AI #GPT #ChatGPT\n",
      "--------------------------------------------------\n",
      "Привет, друзья!Как и обещала, пост про иностранные языки. Ловите пару советов от человека, который несколько лет назад, молод и зелен, стоял и трясся от страха перед камерой, вещая новости на немецком языке для тысяч немецкоговорящих игроков World of Tanks. Перед этим, к слову, ни разу не пообщавшись с нейтивами.Спустя время я уже могла исправлять ошибки немцев в текстах, перестала бояться камеры, подтянула произношение и убила в себе весь кринж до последней крупицы😎 Суммирую все, что оказалось самым полезным для моего прогресса:1) Системность. Печаль, но нужно соприкасаться с языком каждый день, потому что у не родных языков есть особенность, разбивающая сердце – они забываются. Не говоришь три дня – плохо, но простительно. Не говоришь три месяца – будь готов к тому, что в следующей живой коммуникации регрессируешь до простейшего в своем словарном запасе. Давайте на иностранном языке интервью воображаемому Дудю, рассуждайте вслух, горланьте песни и делайте это каждый день. 2) Подражание. Научилась этому у Deutsch mit Benjamin. Представьте, что вы ребенок, который учится говорить. Как они это делают? Подражают матери, повторяют звуки и слова, не зная значения. Делайте так же, не переводите смыслы, копируйте звуки и подстраивайте свой артикуляционный аппарат под то, что слышите, словно подпеваете песне на незнакомом языке. Копируйте весь поток звуков и тоны, не вникая в смысл. Так можно заметить, сколько на самом деле звуков выбрасывается из беглой речи (например, [ham] вместо haben) 3) Концентрация на речевом потоке вместо отдельных слов. Грешила раньше тем, что пыталась переводить отдельное слово в чьей-то реплике, чем загоняла себя в тупик и не улавливала общий смысл сказанного. Интонация и акценты расскажут все сами, незнакомые слова подтянутся вслед. 4) Очевидный совет о потреблении развлекательного контента только на иностранном языке. Мозг – хоть и мощная, но ленивая машина, и он сильно капризничает, когда включаешь фильм на немецком или английском вместо русского. «Мать, я вообще-то расслабиться и деграднуть хотел, а мне теперь напрягаться и думать?». Да, тебе напрягаться и думать, так мы теперь живем :) Советую не оставлять себе костылей в виде субтитров - придется поднапрячься, чтобы понять сюжет, но у вас особо нет выбора.5) На десерт своеобразный совет лично от меня, от души душевно в душу: не выпендривайтесь. Порой я хочу завернуть перевод своей мысли в сложнейшую витиеватую форму, наляпать дополнительных конструкций и шлифануть деепричастными оборотами, чтобы все обалдели от того, как я соловьём распелась. Иногда этот спектакль заканчивается тем, что я забываю, о чем хотела сказать, запутываюсь в длинном подоле своих роскошных словесных одеяний и с грохотом падаю в яму языкового позора🤡Можете передать мысль простыми словами – сделайте это, у вас еще будет безопасный шанс блеснуть. Быть проще и транслировать суть понятным вам способом - самый короткий путь к разрушению языкового барьера.Делитесь своими лайфхаками!\n",
      "--------------------------------------------------\n",
      "\n",
      "\n",
      "Тема  4\n",
      "['Вчера у меня вышла статья на Habr.com про обратную связь.Основной посыл: \"фидбэк - это не больно, это полезно\".Как отличить конструктивную и неконструктивную, как принимать, как запрашивать и брать из нее полезность.Читайте по ссылке https://lnkd.in/epH2YF7R\n",
      "--------------------------------------------------\n",
      "['Вчера у меня вышла статья на Habr.com про обратную связь.Основной посыл: \"фидбэк - это не больно, это полезно\".Как отличить конструктивную и неконструктивную, как принимать, как запрашивать и брать из нее полезность.Читайте по ссылке https://lnkd.in/epH2YF7R\n",
      "--------------------------------------------------\n",
      "#спроектировановсвоемстилеЛоготип для Компании по подбору машин \"Pepboy Auto\".Поставленная задача: Разработать логотипЗадизайнить что-нибудь для вас?Telegram - @artemcrazySkype – artem@crazy.studioE-mail – artem@crazy.studioWhatsUpp – +79651500303#Logo #логотип #design #дизайн #design #designer\n",
      "--------------------------------------------------\n",
      "\n",
      "\n",
      "Тема  5\n",
      "С радостью сообщаю, что я оказываю бизнес-услуги #OpenForBusiness. Просмотрите мою страницу услуг #datascience #machinelearning #bigdata #deeplearning #ai #linkedin #бизнес #data #dataanalytics #analytics #ml #artificialintelligence «Разработка и интеграция Data Science решений» «Разработка пользовательского ПО, Веб-разработка, Разработка приложений, Разработка баз данных, Составление технической документации, Разработка пользовательских интерфейсов, ИТ-консалтинг, Управление проектами» и «Разработка облачных приложений».\n",
      "--------------------------------------------------\n",
      "С радостью сообщаю, что я оказываю бизнес-услуги #OpenForBusiness. Просмотрите мою страницу услуг #datascience #machinelearning #bigdata #deeplearning #ai #linkedin #бизнес #data #dataanalytics #analytics #ml #artificialintelligence «Разработка и интеграция Data Science решений» «Разработка пользовательского ПО, Веб-разработка, Разработка приложений, Разработка баз данных, Составление технической документации, Разработка пользовательских интерфейсов, ИТ-консалтинг, Управление проектами» и «Разработка облачных приложений».\n",
      "--------------------------------------------------\n",
      "С радостью сообщаю, что я оказываю бизнес-услуги в LinkedIn #OpenForBusiness. Просмотрите мою страницу услуг «Разработка iOS-приложений, Разработка Android-приложений, Проектирование пользовательского интерфейса (UED), Разработка мобильных приложений, Разработка приложений, Тестирование ПО, ИТ-консалтинг» и «Бизнес-аналитика».\n",
      "--------------------------------------------------\n",
      "\n",
      "\n",
      "Тема  6\n",
      " 'Аналитика, которую мы заслужили 😁 Лайфхак для собеседующих: чтобы вас не назвали эйджистом, а вы сразу могли отфильтровать нужную возрастную группу, попросите кандидатов аналитиков проинтерпретировать этот график 👀#itюмор #аналитика\n",
      "--------------------------------------------------\n",
      " 'Аналитика, которую мы заслужили 😁 Лайфхак для собеседующих: чтобы вас не назвали эйджистом, а вы сразу могли отфильтровать нужную возрастную группу, попросите кандидатов аналитиков проинтерпретировать этот график 👀#itюмор #аналитика\n",
      "--------------------------------------------------\n",
      " 'Аналитика, которую мы заслужили 😁 Лайфхак для собеседующих: чтобы вас не назвали эйджистом, а вы сразу могли отфильтровать нужную возрастную группу, попросите кандидатов аналитиков проинтерпретировать этот график 👀#itюмор #аналитика\n",
      "--------------------------------------------------\n",
      "\n",
      "\n",
      "Тема  7\n",
      "Промежуточные итоги запуска продукта \"Погнали в  IT\"Неделя была волнительной, результат радует и впечатляет 🎯 #управлениепроектами #клубнаставниковIT #devops #аналитика#обучаемснуля\n",
      "--------------------------------------------------\n",
      "В результате применения технологии IF-WS2:Шум и вибрация насосов минимизированы, простои не наблюдаются. Потребление энергии снижено на 50%.Экономия превысила $46 700.\n",
      "--------------------------------------------------\n",
      " 'На неделе у меня было 3 новых клиента! Я позволила себе нырнуть на глубину вместе с клиентом и не зря! На глубине СТОЛЬКО ценного!']\n",
      "--------------------------------------------------\n",
      "\n",
      "\n",
      "Тема  8\n",
      "Всем привет 🖐🏻 , сейчас я в поиске новой карьерной возможности и буду признателен всем за поддержку. Заранее благодарю за все рекомендации контактов, советы или возможности.  Мой коммерческий опыт как frontend разработчик - 2.5 года. Подробнее обо мне и моих навыках написано в моем профиле. Спасибо за внимание! Hello everyone 🖐🏻, I am currently looking for a new career opportunity and I would appreciate everyone's support. Thank you in advance for all contact recommendations, tips or opportunities. My commercial experience as a frontend developer is 2.5 years. More information about me and my skills is written in my profile. Thanks for your attention!#OpenToWork #Frontend #React #Vue\n",
      "--------------------------------------------------\n",
      "Всем привет 🖐🏻 , сейчас я в поиске новой карьерной возможности и буду признателен всем за поддержку. Заранее благодарю за все рекомендации контактов, советы или возможности.  Мой коммерческий опыт как frontend разработчик - 2.5 года. Подробнее обо мне и моих навыках написано в моем профиле. Спасибо за внимание! Hello everyone 🖐🏻, I am currently looking for a new career opportunity and I would appreciate everyone's support. Thank you in advance for all contact recommendations, tips or opportunities. My commercial experience as a frontend developer is 2.5 years. More information about me and my skills is written in my profile. Thanks for your attention!#OpenToWork #Frontend #React #Vue\n",
      "--------------------------------------------------\n",
      "Привет всем, я в поисках позиции junior frontend разработчика или верстальщика.На данный момент пока нахожусь в России. Готов к релокации.Заранее благодарю за все рекомендации контактов, советы или возможности, которые вы можете предложить.#резюме #CV #frontend #htmlCoder\n",
      "--------------------------------------------------\n",
      "\n",
      "\n",
      "Тема  9\n",
      " 'Я - дипломированный карьерный консультант.Окончила курс повышения квалификации и получила диплом гос. образца. #карьерныйконсультант']\n",
      "--------------------------------------------------\n",
      " 'Я - дипломированный карьерный консультант.Окончила курс повышения квалификации и получила диплом гос. образца. #карьерныйконсультант']\n",
      "--------------------------------------------------\n",
      "['Вот такие хорошие новости из мира автомобиль-по-подписке, сегодня про THE MASHINA#carsubscription #themashina\n",
      "--------------------------------------------------\n",
      "\n",
      "\n",
      "Тема  10\n",
      "На этом видео выполняется пространственно-временной переход, где граница между смешным и ужасным стирается. Осторожно!\n",
      "--------------------------------------------------\n",
      "Я #нанимаю. Знаете людей, которых это может заинтересовать? #вакансия #ментор #реакт\n",
      "--------------------------------------------------\n",
      "Elena Panasiuk ищет специалистов (#hiring). Знаете людей, которых это может заинтересовать?\n",
      "--------------------------------------------------\n",
      "\n",
      "\n",
      "Тема  11\n",
      "Дизайн и верстка. Земельные участки Подмосковья \"ЭкоЗем\" #webdesign #landing #landingpages #одностраничныйсайт #одностраничник #лендинг #контекстнаяреклама #яндексдирект #googleads #разработкасайтов #разработкалендингов #тильда #сайтнатильде #tilda #tildapublishing #ux #ui #продающийдизайн #конверсия\n",
      "--------------------------------------------------\n",
      "Разработка лендинга под ключ для студии дизайна интерьера. #webdesign #landing #landingpages #одностраничныйсайт #одностраничник #лендинг #контекстнаяреклама #яндексдирект #googleads #разработкасайтов #разработкалендингов #тильда #сайтнатильде #tilda #tildapublishing #ux #ui #продающийдизайн #конверсия\n",
      "--------------------------------------------------\n",
      "Landing pages «Служба домашнего ремонта в Перми»#webdesign #landing #landingpages #одностраничныйсайт #одностраничник #лендинг #контекстнаяреклама #яндексдирект #googleads #разработкасайтов #разработкалендингов #тильда #сайтнатильде #tilda #tildapublishing #ux #ui #продающийдизайн #конверсия\n",
      "--------------------------------------------------\n",
      "\n",
      "\n",
      "Тема  12\n",
      "['С момента начала моей работы в компании ANT Coffee в должности «Основатель» уже прошло некоторое время. Но мне захотелось поделиться со всеми этой информацией.']\n",
      "--------------------------------------------------\n",
      "С момента начала моей работы в компании Ulagym в должности «Product Project Manager» уже прошло некоторое время. Но мне захотелось поделиться со всеми этой информацией.\n",
      "--------------------------------------------------\n",
      "С момента начала моей работы в компании Carenet Health в должности «Team Leader / Senior Full Stack Web Developer» уже прошло некоторое время. Но мне захотелось поделиться со всеми этой информацией.\n",
      "--------------------------------------------------\n",
      "\n",
      "\n",
      "Тема  13\n",
      "Валентин Ч. #Отзывы с благодарностью Хочу выразить свою признательность за Ваш вклад в работу команды #Отличная_командная_работа\n",
      "--------------------------------------------------\n",
      "Myroslava Stetsiuk #Отзывы с благодарностью Хочу выразить свою признательность за Ваш вклад в работу команды #Отличная_командная_работа\n",
      "--------------------------------------------------\n",
      " 'Знаете, что меня мотивирует на еще более упорную работу над собой?Ваши профили на Github!!!!))) #github #кодпотслезы\n",
      "--------------------------------------------------\n",
      "\n",
      "\n"
     ]
    }
   ],
   "source": [
    "for i in range(n_topics):\n",
    "    doc_ids = np.argsort(topics[:, i])[::-1][:3]\n",
    "    print(\"Тема \", i + 1)\n",
    "    for doc_id in doc_ids:\n",
    "        print(df.iloc[doc_id][\"post_text\"])\n",
    "        print('-' * 50)\n",
    "    print(\"\\n\")"
   ]
  },
  {
   "cell_type": "markdown",
   "id": "a8c88755",
   "metadata": {},
   "source": [
    "### Распределение постов по темам"
   ]
  },
  {
   "cell_type": "markdown",
   "id": "0bdbec60",
   "metadata": {},
   "source": [
    "Посмотрим как распределились посты по темам."
   ]
  },
  {
   "cell_type": "code",
   "execution_count": null,
   "id": "bf86a21b",
   "metadata": {},
   "outputs": [],
   "source": [
    "count = [np.argmax(a) + 1 for a in topics]\n",
    "fig = px.histogram(count, title='Распределение постов по темам', log_y=True,\n",
    "                   labels = dict(value='порядковый номер темы'))\n",
    "fig.update_layout(xaxis = dict(tickmode = 'linear', tick0 = 0, dtick = 1))\n",
    "fig.update_layout(bargap=0.2)\n",
    "fig.update_layout(showlegend=False)\n",
    "fig.show()"
   ]
  },
  {
   "cell_type": "markdown",
   "id": "ad6235db",
   "metadata": {},
   "source": [
    "Распределение тем по количеству постов:\n",
    "\n",
    "1. объявления о выходе на работу (тема 1)\n",
    "2. посты в стиле блога на отвлечённые темы (тема 3)\n",
    "3. объявления о поиске новой работы (тема 8)\n",
    "4. юмор (тема 6)\n",
    "5. оказание различных услуг (тема 5)\n",
    "6. посты про различные места (тема 2)\n",
    "7. объявления о найме сотрудников (тема 10)\n",
    "8. ретроспективные отзывы о текущем месте работы (тема 12)\n",
    "9. объявления о разработке на заказ (тема 11)\n",
    "10. обзоры событий за неделю (тема 7)"
   ]
  },
  {
   "cell_type": "markdown",
   "id": "c1d18291",
   "metadata": {},
   "source": [
    "### Топик-моделинг популярных постов"
   ]
  },
  {
   "cell_type": "markdown",
   "id": "41c4789c",
   "metadata": {},
   "source": [
    "Для начала посмотрим на распределение реакций, лайков и репостов среди постов."
   ]
  },
  {
   "cell_type": "code",
   "execution_count": 40,
   "id": "454d901d",
   "metadata": {},
   "outputs": [
    {
     "data": {
      "text/html": [
       "<div>\n",
       "<style scoped>\n",
       "    .dataframe tbody tr th:only-of-type {\n",
       "        vertical-align: middle;\n",
       "    }\n",
       "\n",
       "    .dataframe tbody tr th {\n",
       "        vertical-align: top;\n",
       "    }\n",
       "\n",
       "    .dataframe thead th {\n",
       "        text-align: right;\n",
       "    }\n",
       "</style>\n",
       "<table border=\"1\" class=\"dataframe\">\n",
       "  <thead>\n",
       "    <tr style=\"text-align: right;\">\n",
       "      <th></th>\n",
       "      <th>count</th>\n",
       "      <th>mean</th>\n",
       "      <th>std</th>\n",
       "      <th>min</th>\n",
       "      <th>25%</th>\n",
       "      <th>50%</th>\n",
       "      <th>75%</th>\n",
       "      <th>max</th>\n",
       "    </tr>\n",
       "  </thead>\n",
       "  <tbody>\n",
       "    <tr>\n",
       "      <th>experience</th>\n",
       "      <td>12362.0</td>\n",
       "      <td>1.325028</td>\n",
       "      <td>3.404101</td>\n",
       "      <td>0.0</td>\n",
       "      <td>0.0</td>\n",
       "      <td>0.0</td>\n",
       "      <td>0.0</td>\n",
       "      <td>36.0</td>\n",
       "    </tr>\n",
       "    <tr>\n",
       "      <th>reaction_cnt</th>\n",
       "      <td>12362.0</td>\n",
       "      <td>520.097557</td>\n",
       "      <td>11048.845650</td>\n",
       "      <td>0.0</td>\n",
       "      <td>1.0</td>\n",
       "      <td>3.0</td>\n",
       "      <td>10.0</td>\n",
       "      <td>622839.0</td>\n",
       "    </tr>\n",
       "    <tr>\n",
       "      <th>comments_cnt</th>\n",
       "      <td>12362.0</td>\n",
       "      <td>6.930836</td>\n",
       "      <td>50.050701</td>\n",
       "      <td>0.0</td>\n",
       "      <td>0.0</td>\n",
       "      <td>0.0</td>\n",
       "      <td>1.0</td>\n",
       "      <td>967.0</td>\n",
       "    </tr>\n",
       "    <tr>\n",
       "      <th>repost_cnt</th>\n",
       "      <td>12362.0</td>\n",
       "      <td>7.141806</td>\n",
       "      <td>50.842806</td>\n",
       "      <td>0.0</td>\n",
       "      <td>0.0</td>\n",
       "      <td>0.0</td>\n",
       "      <td>1.0</td>\n",
       "      <td>979.0</td>\n",
       "    </tr>\n",
       "    <tr>\n",
       "      <th>posts_cnt</th>\n",
       "      <td>12362.0</td>\n",
       "      <td>35.119641</td>\n",
       "      <td>34.435926</td>\n",
       "      <td>1.0</td>\n",
       "      <td>16.0</td>\n",
       "      <td>31.0</td>\n",
       "      <td>37.0</td>\n",
       "      <td>219.0</td>\n",
       "    </tr>\n",
       "  </tbody>\n",
       "</table>\n",
       "</div>"
      ],
      "text/plain": [
       "                count        mean           std  min   25%   50%   75%  \\\n",
       "experience    12362.0    1.325028      3.404101  0.0   0.0   0.0   0.0   \n",
       "reaction_cnt  12362.0  520.097557  11048.845650  0.0   1.0   3.0  10.0   \n",
       "comments_cnt  12362.0    6.930836     50.050701  0.0   0.0   0.0   1.0   \n",
       "repost_cnt    12362.0    7.141806     50.842806  0.0   0.0   0.0   1.0   \n",
       "posts_cnt     12362.0   35.119641     34.435926  1.0  16.0  31.0  37.0   \n",
       "\n",
       "                   max  \n",
       "experience        36.0  \n",
       "reaction_cnt  622839.0  \n",
       "comments_cnt     967.0  \n",
       "repost_cnt       979.0  \n",
       "posts_cnt        219.0  "
      ]
     },
     "execution_count": 40,
     "metadata": {},
     "output_type": "execute_result"
    }
   ],
   "source": [
    "df.describe().transpose()"
   ]
  },
  {
   "cell_type": "code",
   "execution_count": null,
   "id": "c7d85ba5",
   "metadata": {},
   "outputs": [],
   "source": [
    "data = df.query('reaction_cnt < 200 & comments_cnt < 200 & repost_cnt < 200')\n",
    "fig = px.histogram(\n",
    "    data, x=['reaction_cnt', 'comments_cnt', 'repost_cnt'],\n",
    "    title='Распределение количества реакций, лайков и репостов по постам', log_y=True\n",
    ")\n",
    "fig.update_layout(barmode='overlay')\n",
    "fig.update_traces(opacity=0.5)\n",
    "fig.show()"
   ]
  },
  {
   "cell_type": "markdown",
   "id": "6375096f",
   "metadata": {},
   "source": [
    "В связи с тем что небольшое количество англоязычных постов содержат сотни тысяч реакций, средние значения оказались сильно завышены. При этом абсолютное большинство постов имеют 200 и менее реакций. Т.к. количество информации у нас ограничено, примем за \"популярные\" те посты в которых более какой-либо реакции больше 10."
   ]
  },
  {
   "cell_type": "code",
   "execution_count": 42,
   "id": "7fb5b78e",
   "metadata": {},
   "outputs": [
    {
     "data": {
      "text/html": [
       "<div>\n",
       "<style scoped>\n",
       "    .dataframe tbody tr th:only-of-type {\n",
       "        vertical-align: middle;\n",
       "    }\n",
       "\n",
       "    .dataframe tbody tr th {\n",
       "        vertical-align: top;\n",
       "    }\n",
       "\n",
       "    .dataframe thead th {\n",
       "        text-align: right;\n",
       "    }\n",
       "</style>\n",
       "<table border=\"1\" class=\"dataframe\">\n",
       "  <thead>\n",
       "    <tr style=\"text-align: right;\">\n",
       "      <th></th>\n",
       "      <th>count</th>\n",
       "      <th>mean</th>\n",
       "      <th>std</th>\n",
       "      <th>min</th>\n",
       "      <th>25%</th>\n",
       "      <th>50%</th>\n",
       "      <th>75%</th>\n",
       "      <th>max</th>\n",
       "    </tr>\n",
       "  </thead>\n",
       "  <tbody>\n",
       "    <tr>\n",
       "      <th>experience</th>\n",
       "      <td>3149.0</td>\n",
       "      <td>0.000000</td>\n",
       "      <td>0.000000</td>\n",
       "      <td>0.0</td>\n",
       "      <td>0.0</td>\n",
       "      <td>0.0</td>\n",
       "      <td>0.0</td>\n",
       "      <td>0.0</td>\n",
       "    </tr>\n",
       "    <tr>\n",
       "      <th>reaction_cnt</th>\n",
       "      <td>3149.0</td>\n",
       "      <td>2033.997142</td>\n",
       "      <td>21823.695867</td>\n",
       "      <td>0.0</td>\n",
       "      <td>14.0</td>\n",
       "      <td>23.0</td>\n",
       "      <td>61.0</td>\n",
       "      <td>622839.0</td>\n",
       "    </tr>\n",
       "    <tr>\n",
       "      <th>comments_cnt</th>\n",
       "      <td>3149.0</td>\n",
       "      <td>25.791680</td>\n",
       "      <td>96.712166</td>\n",
       "      <td>0.0</td>\n",
       "      <td>0.0</td>\n",
       "      <td>1.0</td>\n",
       "      <td>6.0</td>\n",
       "      <td>967.0</td>\n",
       "    </tr>\n",
       "    <tr>\n",
       "      <th>repost_cnt</th>\n",
       "      <td>3149.0</td>\n",
       "      <td>26.724039</td>\n",
       "      <td>98.130620</td>\n",
       "      <td>0.0</td>\n",
       "      <td>0.0</td>\n",
       "      <td>1.0</td>\n",
       "      <td>5.0</td>\n",
       "      <td>979.0</td>\n",
       "    </tr>\n",
       "    <tr>\n",
       "      <th>posts_cnt</th>\n",
       "      <td>3149.0</td>\n",
       "      <td>30.638615</td>\n",
       "      <td>12.706749</td>\n",
       "      <td>1.0</td>\n",
       "      <td>27.0</td>\n",
       "      <td>32.0</td>\n",
       "      <td>35.0</td>\n",
       "      <td>122.0</td>\n",
       "    </tr>\n",
       "  </tbody>\n",
       "</table>\n",
       "</div>"
      ],
      "text/plain": [
       "               count         mean           std  min   25%   50%   75%  \\\n",
       "experience    3149.0     0.000000      0.000000  0.0   0.0   0.0   0.0   \n",
       "reaction_cnt  3149.0  2033.997142  21823.695867  0.0  14.0  23.0  61.0   \n",
       "comments_cnt  3149.0    25.791680     96.712166  0.0   0.0   1.0   6.0   \n",
       "repost_cnt    3149.0    26.724039     98.130620  0.0   0.0   1.0   5.0   \n",
       "posts_cnt     3149.0    30.638615     12.706749  1.0  27.0  32.0  35.0   \n",
       "\n",
       "                   max  \n",
       "experience         0.0  \n",
       "reaction_cnt  622839.0  \n",
       "comments_cnt     967.0  \n",
       "repost_cnt       979.0  \n",
       "posts_cnt        122.0  "
      ]
     },
     "execution_count": 42,
     "metadata": {},
     "output_type": "execute_result"
    }
   ],
   "source": [
    "data = df.query('reaction_cnt >= 10 | comments_cnt >= 10 | repost_cnt >= 10')\n",
    "data.describe().transpose()"
   ]
  },
  {
   "cell_type": "markdown",
   "id": "463839e7",
   "metadata": {},
   "source": [
    "Мы сократили количество записей в четыре раза, посмотрим как это отразилось на темах.\n",
    "\n",
    "Избавимся от тех постов которые не вошли в топ."
   ]
  },
  {
   "cell_type": "code",
   "execution_count": 43,
   "id": "952d572a",
   "metadata": {},
   "outputs": [],
   "source": [
    "best_index = np.where((df['reaction_cnt'] >= 10) | (df['comments_cnt'] >= 10) | (df['repost_cnt'] >= 10))\n",
    "best_topics = topics[best_index[0]]"
   ]
  },
  {
   "cell_type": "markdown",
   "id": "1659deb2",
   "metadata": {},
   "source": [
    "Посмотрим на типичные популярные посты по каждой из тем."
   ]
  },
  {
   "cell_type": "code",
   "execution_count": 44,
   "id": "9ea0f874",
   "metadata": {
    "scrolled": false
   },
   "outputs": [
    {
     "name": "stdout",
     "output_type": "stream",
     "text": [
      "Тема  1\n",
      "Поговорим о важности Бренда!Иногда бренд это лишь торговая марка.Но в нашем случае, Бренд - это Имя!Имя, которое говорит само за себя. Имя, которому доверяют.Доверяют те, кто знает цену и ценность Имени.А также знают как сложно его сохранить.Мы гордимся своим Именем и теми, кто его ценит также высоко, как свое собственное!С большой благодарностью к вашему доверию.СимбирСофт.\n",
      "--------------------------------------------------\n",
      "Hello everyone! I want to share with you a link with an analysis of the complexity of operations in Python. Everyone who uses Python should know this.https://lnkd.in/ekQyZ7tK\n",
      "--------------------------------------------------\n",
      "Всем привет!)Решила сменить место работы, поэтому сейчас в активном поиске.Готова рассмотреть предложения как на позицию рекрутера, так и на позицию hr.В профиле информация актуальная.Люблю свою работу и свое направление)Немного обо мне:6 лет работаю в IT-РекрутингеЗанимаюсь подбором специалистов в IT,Digital и Блокчейн сфере.Адаптацией сотрудников.Подбор HR-специалистов.Формирования HR-отдела.Закрытые за последние месяц вакансии:Lead Java developer двое кандидатовSenior Java developerDevOps НовосибирскPython developerЕсть опыт подбора в GameDev2D-ArtistUnity DeveloperPMVFXТак же:Имею 5 летний опыт успешных продаж.(Плюс сама находила заказчиков)4 раза получала награду \"Лига чемпионов\"Имею 3 летний опыт наставничества.Сотрудники ,которых я обучала, всегда с первого раза сдавали экзамены.Проводила семинары и тренинги для клиентов АО \"АЛЬФА-БАНКА\"Почила Диплом \"Вклад в развитии клиентоориентированости\".Имею успешный опыт Руководителя.(B2C.B2B.VIP)Мой регион вошел в топ 5 по результативностиМои отделы не только выполняют ,но и перевыполняют плановые показатели.За время моей работы разработала и провела 9 тренингов.Как Руководитель, также занималась подбором сотрудников.За подробностями в лс, телеграмм, либо на почту)\n",
      "--------------------------------------------------\n",
      "\n",
      "\n",
      "Тема  2\n",
      "Coursera Docker Essentials & Building a Containerized Web Application\n",
      "--------------------------------------------------\n",
      "Coursera Natural Language Processing Specialization\n",
      "--------------------------------------------------\n",
      "DataCamp Practicing Statistics Interview Questions in Python\n",
      "--------------------------------------------------\n",
      "\n",
      "\n",
      "Тема  3\n",
      "Главное при релокации - наличие удаленной работы или возможности быстрого нахождения новой.Здесь список всех возможных ресурсов для поиска вакантных мест практически по всему миру.Совет: используйте все ресурсы, выкладывайте свои cv везде и мониторьте весь рынок преложений.• Indeed (https://www.indeed.com/)• Jooble (https://jooble.org/)• Glassdoor (https://lnkd.in/ew5fY2Yh)• The Muse (https://www.themuse.com/)• Jobspresso (https://jobspresso.co/)• Angel.co (https://angel.co/)• Turing (http://turing.com/)• RemoteOk (https://remoteok.io/)• Working Nomads (https://lnkd.in/efW2bPh8)• LinkedIn (https://www.linkedin.com/)• FlexJobs (https://www.flexjobs.com/)• SimplyHired (https://lnkd.in/ee2Qz_yy)• Twine (https://lnkd.in/eKSMS_b5)• Virtual Vocations (https://lnkd.in/e7Ru2fyk)• Outsourcely (https://lnkd.in/eYZwEwPG)• Dice (https://www.dice.com/)• dev.xn--80aac6chp (https://jobs.devby.io/)• Gamesjobsdirect (https://lnkd.in/eX_Cmasm)• Hired (https://hired.com/)• We Work Remotely (https://lnkd.in/exPFMVRg)• Receptix (https://www.receptix.us/)• Authentic Jobs (https://authenticjobs.com/) #work #work #jobs #linkedin #cv #работа #jobpostings\n",
      "--------------------------------------------------\n",
      "Hello there! I am looking for a new job as a front-end developer in a company with career prospects. I would be grateful for the assessment repost my resume! #opentowork\n",
      "--------------------------------------------------\n",
      "Completed Coursera's \"TensorFlow in Practice\" specialization by deeplearning.ai. .Thank you Andrew Ng and Laurence Moroney for spreading the such a knowledge. .#machinelearning #ai #tensorflow #keras #coursera\n",
      "--------------------------------------------------\n",
      "\n",
      "\n",
      "Тема  4\n",
      "Ещё в мае написал статью с разбором возможностей взаимодействия компонентов во Vue 3. Преследовал несколько целей:1. Разобраться самому и структурировать знания2. Поделиться с коллегамиПриятного прочтения - https://lnkd.in/eRut62Ff #vue\n",
      "--------------------------------------------------\n",
      "A Cloud Guru | A Pluralsight Company DevSecOps Essentials\n",
      "--------------------------------------------------\n",
      "Only best designs from our #supercreative guys!Very skilled Designers available for your projects 🔥🔥🔥🔥 #projects #designers #outsourcing\n",
      "--------------------------------------------------\n",
      "\n",
      "\n",
      "Тема  5\n",
      "A Cloud Guru | A Pluralsight Company Google Cloud Apigee Certified API Engineer\n",
      "--------------------------------------------------\n",
      "Всем привет!  Как обычно, когда новый молодой специалист выпускается из университета, перед ним возникает вопрос \"Что же делать дальше?\". Моя хорошая подруга только выпустилась и сейчас находится в поисках своего первого официального места работы.   В диломе написано, что она переводчик-референт (английский-испанский), но желание работать и самореализовываться говорит, что хочется расмотреть любые вакансии со смежными специальностями, а также вакансии, которые заточены на креатив.Локация: Брест, БеларусьКонтакты: arina_milevskaya@mail.ru https://lnkd.in/dNas2SdM(cv прикрепляю доком)Сейчас самое время поддерживать друг друга!И как обычно, верим в магию LinkedIn!За репост + в карму :)#linkedin #work #career #cv\n",
      "--------------------------------------------------\n",
      "Очень рад возможности проявить себя в этой роли и именно в этой компании! PS: Предрекая вопрос по поводу деятельности как индивидуального предпринимателя - временно приостанавливаю свою деятельность, благо все заказы позакрывал, осталось пара поднаставных, но их никто не мешает учить по выходным.\n",
      "--------------------------------------------------\n",
      "\n",
      "\n",
      "Тема  6\n",
      "A photo editor with a difference\n",
      "--------------------------------------------------\n",
      "I love when there is time to do something creative for fun. Here's my new case on Behance (maybe one day I'll be a good character artist)) #characterconcept #blender3d #conceptart\n",
      "--------------------------------------------------\n",
      "BERLIN! I just had to drop you a line about my fantastic ex-colleague. We worked together at YooMoney. Elena took on complex projects. She is not only smart and efficient but she has also got this amazing ability to make everyone feel like part of the team.You'd be lucky to have Elena on board!\n",
      "--------------------------------------------------\n",
      "\n",
      "\n",
      "Тема  7\n",
      "A Cloud Guru | A Pluralsight Company Implementing a Full CI/CD Pipeline\n",
      "--------------------------------------------------\n",
      "Меня зовут Дмитрий и я - Frontend-разработчик с опытом работы в IT более двух лет, а также опытом реализации клиент-серверных веб-приложений.✨ С сегодняшнего дня я начинаю активно откликаться на вакансии, всем кто поможет с репостом - посылаю лучи добра ✨ Стек технологийFrontend: JavaScript, React, CSS, Redux, Thunk, Saga, Bootstrap, Material UI, Semantic UIBackend: Node.js, Express, Sequelize, PostgreSQL, Express Sessions, Json Web Tokens (JWT), Socket.io\n",
      "--------------------------------------------------\n",
      "First step! Done!\n",
      "--------------------------------------------------\n",
      "\n",
      "\n",
      "Тема  8\n",
      "Black Friday is coming.\n",
      "--------------------------------------------------\n",
      "This is how computer science can improve the way we learn foreign languages. I have searched for quite a while to find such an outstanding tool. A great thank you to Sergei Averkiev who created #LingtrainAligner and made it available for anyone to use.  #machineLearning #naturalLanguageProcessing #languageLearning\n",
      "--------------------------------------------------\n",
      "Я просто плачу 🤣🤣🤣 Смотреть, срочно!\n",
      "--------------------------------------------------\n",
      "\n",
      "\n",
      "Тема  9\n",
      "Конечный исполнитель и бизнес: нужна ли волку телега?Заметил тенденцию за знакомыми руководителями, за собой в частности, злоупотребление в изоляции подчиненных от бизнеса. Полная защита от внешних негативных факторов, обеспечение эмоционального штиля в команде, фокус только на технологии и узкую специализацию, избавление от общения со стейкхолдерами и т.д. По книжкам - образцовый руководитель. Но боюсь, руководитель-диод не всегда полезен.Полная версия на моем TG-канале: t.me/dev_to_executive/67В больших компаниях разработчики имеют узкую специализацию и зону ответственности, что может затруднять их понимание бизнес-процессов и целей компании. Однако это понимание является важным фактором для успешного выполнения задач и достижения общих целей.При полной изоляции производства начальство может показаться оторванным от реальности и дающим сомнительные указания. Часто рядовые сотрудники производства испытывают негативное отношение или даже отвращение к бизнесу, хотя бы на интуитивном уровне.Примеры негатива: 👺 Заполнение ежедневных таймшитов. Их вообще, хоть кто-то смотрит?.. 👺 ”Убиваем” большой модуль, но мы же писали его месяц?.. 👺 Нужно писать новый функционал, так на старых еще не все паттерны проектирования перепробовал, да и оптимизации еще оптимизировать. 👺 Старый стек - не модно, куда бизнес смотрит?.. Сейчас бы все на Go переписать.Погрузив команды в детали бизнеса появится понимание тех или иных действий и требований. В таком случае, сотрудник если не проявит лояльность, то как минимум сократится уровень напряжения. Заодно повысится ориентированность на бизнес, точность и правильность выполнения задач.Некоторые шаги по решению проблемы осведомленности: 🧩 Закрыть базовые пробелы по процессам, стратегии, механизмам бизнеса на регулярных встречах о2о. 🧩 Приглашать на фасилитационные встречи по стратегии, открытым проблемам и тактике отдела (или центра, компании). 🧩 Способствовать межфункциональному сотрудничеству между другими отделами или центрами. 🧩 Предоставлять производству доступ к соответствующим бизнес-данным и метрикам, чтобы они могли видеть, как их работа способствует успеху компании.Для понимания деятельности компании важно передать информацию о ее структуре, бизнес-модели, сегментации рынка, стратегии и ключевых показателях производительности, а также обратить внимание на взаимодействие бизнес-процессов, таких как маркетинг, продажи и техническая поддержка.В случае заказной разработки добавляется плюсом знания о том как работает воронка продаж, какие денежные потоки существуют, как играют конкурсы, какие есть роли и т.д.Идеально, когда подчиненый имеет Т-образные знания, с пониманием тонкостей работы бизнеса. Но в этом случае он скорее всего уже в менеджменте, либо близок к этому.Понимание бизнес-процессов может быть драйвером по изменениям и улучшениям продукта, вместо оппозиции с бизнесом.❓Как считаете, важно погружать производство в тонкости бизнеса?#бизнес #менеджмент #IT #управление\n",
      "--------------------------------------------------\n",
      "https://lnkd.in/g7-FtA6Новый эпизод на всех платформах\n",
      "--------------------------------------------------\n",
      "15 GitHub repositories to become a React master (start learning now) 👇👇1. ReactJS https://lnkd.in/dwFxgkUA2. React-18-workshop https://lnkd.in/d-D4DV7C3. under-the-hood-reactjs https://lnkd.in/dHjsedRm4. react-developer-roadmap https://lnkd.in/dJc-5SnN5. react-in-patterns https://lnkd.in/dU7P5kHq6. 30-days-of-react https://lnkd.in/dtVtBsPh7. real-world-react-apps  https://lnkd.in/dVQEygdV8. react-bits https://lnkd.in/dWMEFh2p9. react-redux-typescript-guide https://lnkd.in/dfNbTsyk10. awesome-react-components https://lnkd.in/dfveGCDW11. hocs https://lnkd.in/d-uHPqwa12. react-use https://lnkd.in/dPvm_s8r13. beautiful-react-hooks https://lnkd.in/dQTT_9Ug14. react-cheatsheets https://lnkd.in/dy7HYFBN15. react-hooks-cheatsheet https://lnkd.in/dHdmbjfu⛳️ If you liked my content, make sure to:🚨 Subscribe to my youtube channel - 🔗 https://bit.ly/mz-ut🚨 Be one of your community at discord - 🔗 https://bit.ly/mz-discord#github #reactjs #learning #react #developer #moelzanaty3 #mohammedelzanaty\n",
      "--------------------------------------------------\n",
      "\n",
      "\n",
      "Тема  10\n",
      "About 10 years ago, I was at a crossroads - I had the same chances to become a system administrator or software developer (for business applications). I saw that because of the large number of standards that were implemented in the world of system administration - it became more boring and lost some romance. Since software development still had an element of \"chaos\" and there was room for unconventional thinking - I chose the path of a software developer.Now I see that the same thing is starting to happen with business application development-in the future, we will have more standards, less coding, which means less romance, but more quality.Since many of my friends dream of becoming business logic programmers, I think I should tell them about the thoughts that will come to our reality very quickly.#it #thoughts #future #ai #robotics #bpm #automation\n",
      "--------------------------------------------------\n",
      "Редкий случай, когда считаю правильным распространять призыв проявить активную позицию и вмешаться в политическую жизнь государства. Что-то мне подсказывает, что если и эти поправки пройдут, то творчество и просветительство окажутся под угрозой во всем СНГ. О чем конкретно идет речь подробно описал Сергей Попов в своем видео\n",
      "--------------------------------------------------\n",
      "Life never gets tired of throwing you new tasks. I translated the manual for this great program into Russian, but now I've been trying for four hours to make the detail of the union form an accordion, because it's a natural moccasin. And in the heel, too, it was necessary to do so. And the part should be built not only on the upper surface of the pad. It seems that it's time to turn off the computer and take a step back to the analog methods of the designer's work.#designer #work #mind3D #mindCAD #moccasins #difficulttask\n",
      "--------------------------------------------------\n",
      "\n",
      "\n",
      "Тема  11\n",
      "Если вы никак не можете закрыть вакансию разработчика больше месяца, потому что не откликаются кандидаты, не знаете где уже искать, конкуренты перекупают, а финальные кандидаты не принимают оффер и приходится все начинать сначала и снова тратить недели Проблема не в том, что IT- подбор это сложно, на рынке мало кандидатов и все хотят в Google, а для ее решения надо больше денег и тем более не в том, что эти проблемы неразрешимы или их слишком много. Проблема в том, что у вас сформированы ложные убеждения о способах их решения Когда вы думаете, что все проблемы решаются лишь с помощью денег, вы упираетесь в недостаток денег и именно это считаете проблемой, которая также неразрешима.На самом деле 80% проблем решаются без денег, а деньги, когда они действительно нужны приходят сами.Поэтому, если чувствуете, что пришла пора вашим мечтам осуществляться и получать на свою вакансию поток кандидатов, а из большого количества, гарантированно выбирать для себя наиболее приближенных к идеалу сотрудников и получать от них однозначное согласие, а не думать о вторых и третьих номерах, которые тоже «ничего так» Запишитесь на экспресс-консультацию по кадровой проблеме вашей компанииВы узнаете, что у вас на самом деле много возможностей для поиска И получите поток кандидатовКонсультации проводятся в формате видео-встречи Записаться можно заполнив заявку на сайте https://it-spirit.ru/\n",
      "--------------------------------------------------\n",
      "Всем привет!Хочу поделиться нашим крутым проектом!___LIGHT IN NIGHT____Приложение для проектирования освещения улиц и открытых территорий. Мобильный инструмент для проектировщиков и специалистов-светотехников. Помогает покупателям светотехнического оборудования с выбором светильников.Задача:Разработать мобильную версию десктоп приложения для iPad.2 месяцаразработки базового функционала4 специалистазадействовано на проекте (2 разработчика, QA, руководитель проекта).Решение:Пользователь задает параметры освещаемой площадки или дороги, выбирает тип осветительного прибора и получает наглядную 3D модель сцены с отображением распределения освещённости. Результаты светотехнического расчета и параметры объектов сохраняются в отчете. Примеры проектов, выполненные профессиональными светотехниками, помогают оценить возможности программы и спроектировать на их основе собственные объекты освещения.ТехнологииUnity, С++, Objective-С\n",
      "--------------------------------------------------\n",
      "Всем привет! Кому удаленного ассистента?Рассмотрит также работу менеджера по продажамУдаленно работает 8 лет, есть опыт продаж.  Долго работала в Профи.ру. Знает разные СРМ и 1С бухгалтерию. Резюме с контактами быстрее отдам в телеге @kkorobko\n",
      "--------------------------------------------------\n",
      "\n",
      "\n",
      "Тема  12\n",
      "Hello. I'm looking for a new job. I've had my own business for many years, but now I want to change my career and become a specialist in machine learning. I am ready to work and grow professionally, learn a lot and earn money for business. I will be glad to suggestions or recommendations! #OpenToWork #machinelearning\n",
      "--------------------------------------------------\n",
      "DataCamp GitHub Concepts\n",
      "--------------------------------------------------\n",
      "Мой основной проект над которым я работал можно посмотреть здесь:\n",
      "--------------------------------------------------\n",
      "\n",
      "\n",
      "Тема  13\n",
      "Лидирующая российская IT компания ищет разработчиков на Android. Работа в Сочи (переезд оплачивается). Интересные задачи, высокий уровень дохода, компания с мировым именем.Нам важно:* Опыт разработки приложений под Android;* Хорошее владение Java;* Опыт работы с системами контроля версий (Git);* Знание классических алгоритмов и структур данных;* Опыт многопоточного и сетевого программирования.Желательно:* Опыт работы с RxJava и Kotlin;* Знание Python или C++;* Опыт работы с криптографическими библиотеками;* Хорошее понимание принципов работы сетевого стека. #Android\n",
      "--------------------------------------------------\n",
      "#OpenToWork | Senior Frontend Developer | Seeking opportunities in the UK with Visa Sponsorship\n",
      "--------------------------------------------------\n",
      "Прибегаю к великой магии линкедина, бросаю клич о помощи в поиске работы в команде своей мечты!💫Я уже несколько месяцев нахожусь в поиске работы, поэтому буду признательна за репост или лайк, которые помогут продвижению поста🐈 #cv #frontend #react\n",
      "--------------------------------------------------\n",
      "\n",
      "\n"
     ]
    }
   ],
   "source": [
    "for i in range(n_topics):\n",
    "    doc_ids = np.argsort(best_topics[:, i])[::-1][:3]\n",
    "    print(\"Тема \", i + 1)\n",
    "    for doc_id in doc_ids:\n",
    "        print(df.iloc[doc_id][\"post_text\"])\n",
    "        print('-' * 50)\n",
    "    print(\"\\n\")"
   ]
  },
  {
   "cell_type": "markdown",
   "id": "43516782",
   "metadata": {},
   "source": [
    "Также посмотрим как изменилось распределение по темам по сравнению с общим набором постов."
   ]
  },
  {
   "cell_type": "code",
   "execution_count": null,
   "id": "237e6dff",
   "metadata": {},
   "outputs": [],
   "source": [
    "import plotly.graph_objects as go\n",
    "\n",
    "count = [np.argmax(a) + 1 for a in topics]\n",
    "count_best = [np.argmax(a) + 1 for a in best_topics]\n",
    "\n",
    "fig = go.Figure()\n",
    "fig.add_trace(go.Histogram(x=count, bingroup=1, name='все посты'))\n",
    "fig.add_trace(go.Histogram(x=count_best, bingroup=1, name='популярные посты'))\n",
    "fig.update_layout(\n",
    "    xaxis = dict(tickmode = 'linear', tick0 = 0, dtick = 1), bargap=0.2, barmode='overlay',\n",
    "    title='Распределение постов по темам', xaxis_title='порядковый номер темы', yaxis_title='количество постов'\n",
    ")\n",
    "fig.update_traces(opacity=0.5)\n",
    "fig.update_yaxes(type=\"log\")"
   ]
  },
  {
   "cell_type": "markdown",
   "id": "fbfa464a",
   "metadata": {},
   "source": [
    "Распределение тем по количеству популярных постов несколько изменилось:\n",
    "\n",
    "Первая тройка осталась без изменений:\n",
    "\n",
    "1. объявления о выходе на работу (тема 1)\n",
    "2. посты в стиле блога на отвлечённые темы (тема 3)\n",
    "3. объявления о поиске новой работы (тема 8)\n",
    "\n",
    "Дальше места несколько изменились.\n",
    "\n",
    "4. объявления о найме сотрудников (тема 10 поднялась на 3 пункта) \n",
    "5. юмор (тема 6 опустилась на 1 пункт)\n",
    "6. объявления о разработке на заказ (тема 11 поднялась на 3 пункта)\n",
    "7. ретроспективные отзывы о текущем месте работы (тема 12 поднялась на 1 пункт)\n",
    "8. анонсы статей (тема 4 с 11 места)\n",
    "9. рекламные анонсы (тема 9 с 13 места)\n",
    "10. посты про различные места (тема 2 опустилась на 4 пункта)\n",
    "\n",
    "Темы \"обзоры событий за неделю\", \"оказание различных услуг\", \"различные объявления\" в топ не попали."
   ]
  },
  {
   "cell_type": "markdown",
   "id": "866d1bf0",
   "metadata": {},
   "source": [
    "## Заключение"
   ]
  },
  {
   "cell_type": "markdown",
   "id": "0a67105b",
   "metadata": {},
   "source": [
    "Мы провели исследование по теме наставничества и менторства на основании контента социальной сети Linkedin, размещенного в открытом доступе, созданного целевой аудиторией.\n",
    "\n",
    "В ходе данной работы мы:\n",
    "\n",
    "   * Создали парсер для ссылок на аккаунты выделенной ЦА.\n",
    "   \n",
    "   \n",
    "   * Создали парсер информации по ЦА и созданных ей постов.\n",
    "   \n",
    "   \n",
    "   * Очистили и подготовили данные.\n",
    "   \n",
    "   \n",
    "   * **Определили топ-10 тем  в направлении наставничества на основании наибольшего охвата**:\n",
    "   \n",
    "     * 1. объявления о выходе на работу (тема 1)\n",
    "     * 2. посты в стиле блога на отвлечённые темы (тема 3)\n",
    "     * 3. объявления о поиске новой работы (тема 8)\n",
    "     * 4. юмор (тема 6)\n",
    "     * 5. оказание различных услуг (тема 5)\n",
    "     * 6. посты про различные места (тема 2)\n",
    "     * 7. объявления о найме сотрудников (тема 10)\n",
    "     * 8. ретроспективные отзывы о текущем месте работы (тема 12)\n",
    "     * 9. объявления о разработке на заказ (тема 11)\n",
    "     * 10. обзоры событий за неделю (тема 7)\n",
    "     \n",
    "     \n",
    "   * **Определили топ-10 популярных тем по просмотрам, реакциям: лайкам, комментариям, репостам среди IT-специалистов, подходящих под описание целевой аудитории исследования**:\n",
    "   \n",
    "    * Первая тройка осталась без изменений:\n",
    "      * 1. объявления о выходе на работу (тема 1)\n",
    "      * 2. посты в стиле блога на отвлечённые темы (тема 3)\n",
    "      * 3. объявления о поиске новой работы (тема 8)\n",
    "    * Дальше места несколько изменились.\n",
    "      * 4. объявления о найме сотрудников (тема 10 поднялась на 3 пункта) \n",
    "      * 5. юмор (тема 6 опустилась на 1 пункт)\n",
    "      * 6. объявления о разработке на заказ (тема 11 поднялась на 3 пункта)\n",
    "      * 7. ретроспективные отзывы о текущем месте работы (тема 12 поднялась на 1 пункт)\n",
    "      * 8. анонсы статей (тема 4 с 11 места)\n",
    "      * 9. рекламные анонсы (тема 9 с 13 места)\n",
    "      * 10. посты про различные места (тема 2 опустилась на 4 пункта)\n",
    "    * Темы \"обзоры событий за неделю\", \"оказание различных услуг\", \"различные объявления\" в топ не попали.\n",
    "    \n",
    "    \n",
    "   * **В качестве дополнения профиля целевой аудитории можно предложить требование активной публичной деятельности, т.е. наличие значительного количества постов, т.к. активно постящие люди испытывают потребность делиться своим опытом и получать внимание окружающих, что может быть использовано в качестве мотивирующей части при попытке завлечь человека в наставничество.**\n",
    "\n",
    "В качестве улучшений для данной работы можно предложить более строгие условия для поиска изначальных ссылок, а также опробовать стратегию с поиском самих постов по ключевым словам и уже из них отсеивать искомых нам специалистов."
   ]
  }
 ],
 "metadata": {
  "kernelspec": {
   "display_name": "Python 3 (ipykernel)",
   "language": "python",
   "name": "python3"
  },
  "language_info": {
   "codemirror_mode": {
    "name": "ipython",
    "version": 3
   },
   "file_extension": ".py",
   "mimetype": "text/x-python",
   "name": "python",
   "nbconvert_exporter": "python",
   "pygments_lexer": "ipython3",
   "version": "3.9.13"
  },
  "toc-autonumbering": true
 },
 "nbformat": 4,
 "nbformat_minor": 5
}
