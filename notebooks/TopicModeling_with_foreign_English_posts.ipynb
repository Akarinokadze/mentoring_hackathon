{
  "cells": [
    {
      "cell_type": "markdown",
      "source": [
        "# Тeматическое моделирование"
      ],
      "metadata": {
        "id": "XSaOpXARTiW0"
      },
      "id": "XSaOpXARTiW0"
    },
    {
      "cell_type": "code",
      "source": [
        "! pip install spacy -q\n",
        "! python -m spacy download ru_core_news_sm -q\n"
      ],
      "metadata": {
        "colab": {
          "base_uri": "https://localhost:8080/"
        },
        "id": "H2h3eBJpvbao",
        "outputId": "a5ff0dd7-06dd-4fc1-cadf-c189a0ee0076"
      },
      "id": "H2h3eBJpvbao",
      "execution_count": 1,
      "outputs": [
        {
          "output_type": "stream",
          "name": "stdout",
          "text": [
            "2023-06-29 18:21:59.191520: I tensorflow/core/platform/cpu_feature_guard.cc:182] This TensorFlow binary is optimized to use available CPU instructions in performance-critical operations.\n",
            "To enable the following instructions: AVX2 FMA, in other operations, rebuild TensorFlow with the appropriate compiler flags.\n",
            "2023-06-29 18:22:01.056270: W tensorflow/compiler/tf2tensorrt/utils/py_utils.cc:38] TF-TRT Warning: Could not find TensorRT\n",
            "\u001b[2K     \u001b[90m━━━━━━━━━━━━━━━━━━━━━━━━━━━━━━━━━━━━━━━━\u001b[0m \u001b[32m15.3/15.3 MB\u001b[0m \u001b[31m38.8 MB/s\u001b[0m eta \u001b[36m0:00:00\u001b[0m\n",
            "\u001b[?25h\u001b[38;5;2m✔ Download and installation successful\u001b[0m\n",
            "You can now load the package via spacy.load('ru_core_news_sm')\n"
          ]
        }
      ]
    },
    {
      "cell_type": "markdown",
      "source": [
        "Подключаем библиотеки."
      ],
      "metadata": {
        "id": "CO33W1h7up0h"
      },
      "id": "CO33W1h7up0h"
    },
    {
      "cell_type": "code",
      "execution_count": 2,
      "id": "05e14367-7108-4bd4-9c23-0ef50bbe8fa5",
      "metadata": {
        "colab": {
          "base_uri": "https://localhost:8080/"
        },
        "id": "05e14367-7108-4bd4-9c23-0ef50bbe8fa5",
        "outputId": "f59c5499-c188-4dbf-cdf3-5a549457592c"
      },
      "outputs": [
        {
          "output_type": "stream",
          "name": "stderr",
          "text": [
            "[nltk_data] Downloading package stopwords to /root/nltk_data...\n",
            "[nltk_data]   Package stopwords is already up-to-date!\n"
          ]
        }
      ],
      "source": [
        "import numpy as np\n",
        "import pandas as pd\n",
        "import matplotlib.pyplot as plt\n",
        "import seaborn as sns\n",
        "import spacy\n",
        "import re\n",
        "from sklearn.decomposition import LatentDirichletAllocation\n",
        "from sklearn.feature_extraction.text import TfidfVectorizer\n",
        "from nltk.corpus import stopwords\n",
        "import nltk\n",
        "nltk.download('stopwords')\n",
        "\n",
        "import json"
      ]
    },
    {
      "cell_type": "markdown",
      "id": "74a8f070-7580-4bff-ad2c-fec955194125",
      "metadata": {
        "id": "74a8f070-7580-4bff-ad2c-fec955194125"
      },
      "source": [
        "# Exploratory data analysis"
      ]
    },
    {
      "cell_type": "markdown",
      "source": [
        "Укажем путь к файлу."
      ],
      "metadata": {
        "id": "iNtV8Kssu5_6"
      },
      "id": "iNtV8Kssu5_6"
    },
    {
      "cell_type": "code",
      "source": [
        "!gdown 1WbUGXxfXmWnBy93DdFQdT28s8eZfZSjj"
      ],
      "metadata": {
        "colab": {
          "base_uri": "https://localhost:8080/"
        },
        "id": "LMmjgpL7km52",
        "outputId": "1682dab4-5a20-4d90-95d6-fc3acf83e5bd"
      },
      "id": "LMmjgpL7km52",
      "execution_count": 3,
      "outputs": [
        {
          "output_type": "stream",
          "name": "stdout",
          "text": [
            "Downloading...\n",
            "From: https://drive.google.com/uc?id=1WbUGXxfXmWnBy93DdFQdT28s8eZfZSjj\n",
            "To: /content/clean_posts.csv\n",
            "\r  0% 0.00/3.79M [00:00<?, ?B/s]\r100% 3.79M/3.79M [00:00<00:00, 151MB/s]\n"
          ]
        }
      ]
    },
    {
      "cell_type": "markdown",
      "source": [
        "Загрузим данные в dataframe."
      ],
      "metadata": {
        "id": "Z5xb2R32vFTl"
      },
      "id": "Z5xb2R32vFTl"
    },
    {
      "cell_type": "code",
      "execution_count": 4,
      "id": "04257713-482a-43bf-b4c8-27eb90e02c43",
      "metadata": {
        "colab": {
          "base_uri": "https://localhost:8080/",
          "height": 476
        },
        "id": "04257713-482a-43bf-b4c8-27eb90e02c43",
        "outputId": "0a4b4459-d390-4237-8a11-81bc761a7d60"
      },
      "outputs": [
        {
          "output_type": "execute_result",
          "data": {
            "text/plain": [
              "                                        account_link       search_keywords  \\\n",
              "0  https://www.linkedin.com/in/varvara-kulmeteva-...  senior web developer   \n",
              "1               https://www.linkedin.com/in/rauventa       senior frontend   \n",
              "2       https://www.linkedin.com/in/denis-kuchkildin   middle data analyst   \n",
              "3  https://www.linkedin.com/in/ACoAAC4yJzEB4TjXkJ...    senior ML engineer   \n",
              "4         https://www.linkedin.com/in/oleg-malyshkin  senior test engineer   \n",
              "\n",
              "                name                                              title  \\\n",
              "0  Varvara Kulmeteva            Senior Web Developer - IBS InfinitySoft   \n",
              "1     Ilya Moiseenko  LOOKING FOR \"Senior/Lead Frontend (React) Deve...   \n",
              "2   Denis Kuchkildin                           Data Analyst at X5 Group   \n",
              "3       Ian Silantev  MSc Data Science in University of East London ...   \n",
              "4     Oleg Malyshkin     Senior Test Automation Engineer at GlobalLogic   \n",
              "\n",
              "    works_at                                              intro  experience  \\\n",
              "0        IBS  Навыки: ReactJS · JavaScript · HTML · CSSНавык...        10.0   \n",
              "1  Centicore  Ilya, React Developer from Moscow.Ilya, React ...         8.0   \n",
              "2   X5 Group  I have a strong engineering background and mor...         6.0   \n",
              "3  Neurospot  Absolutely in love with Data Science, AI and M...         2.0   \n",
              "4        NaN  Hi everyone, I am Oleg Malyshkin - Senior Test...         4.0   \n",
              "\n",
              "                                place  posts_cnt  \\\n",
              "0  Москва, Московская область, Россия          0   \n",
              "1              Москва, Москва, Россия          1   \n",
              "2              Москва, Москва, Россия          1   \n",
              "3                     Тбилиси, Грузия          0   \n",
              "4                 Киев, Киев, Украина          9   \n",
              "\n",
              "                                           post_text  reaction_cnt  \\\n",
              "0                                                NaN           NaN   \n",
              "1  Я только что получил(а) значок за навык «JavaS...           1.0   \n",
              "2  Hi everyone - I am looking for a new role and ...           NaN   \n",
              "3                                                NaN           NaN   \n",
              "4  Finding a job for trainees and juniors is a ch...           1.0   \n",
              "\n",
              "   comments_cnt  repost_cnt  \n",
              "0           NaN         NaN  \n",
              "1           NaN         NaN  \n",
              "2           NaN         NaN  \n",
              "3           NaN         NaN  \n",
              "4           NaN         NaN  "
            ],
            "text/html": [
              "\n",
              "  <div id=\"df-817cab62-8f15-445e-8f69-1e3c14d96364\">\n",
              "    <div class=\"colab-df-container\">\n",
              "      <div>\n",
              "<style scoped>\n",
              "    .dataframe tbody tr th:only-of-type {\n",
              "        vertical-align: middle;\n",
              "    }\n",
              "\n",
              "    .dataframe tbody tr th {\n",
              "        vertical-align: top;\n",
              "    }\n",
              "\n",
              "    .dataframe thead th {\n",
              "        text-align: right;\n",
              "    }\n",
              "</style>\n",
              "<table border=\"1\" class=\"dataframe\">\n",
              "  <thead>\n",
              "    <tr style=\"text-align: right;\">\n",
              "      <th></th>\n",
              "      <th>account_link</th>\n",
              "      <th>search_keywords</th>\n",
              "      <th>name</th>\n",
              "      <th>title</th>\n",
              "      <th>works_at</th>\n",
              "      <th>intro</th>\n",
              "      <th>experience</th>\n",
              "      <th>place</th>\n",
              "      <th>posts_cnt</th>\n",
              "      <th>post_text</th>\n",
              "      <th>reaction_cnt</th>\n",
              "      <th>comments_cnt</th>\n",
              "      <th>repost_cnt</th>\n",
              "    </tr>\n",
              "  </thead>\n",
              "  <tbody>\n",
              "    <tr>\n",
              "      <th>0</th>\n",
              "      <td>https://www.linkedin.com/in/varvara-kulmeteva-...</td>\n",
              "      <td>senior web developer</td>\n",
              "      <td>Varvara Kulmeteva</td>\n",
              "      <td>Senior Web Developer - IBS InfinitySoft</td>\n",
              "      <td>IBS</td>\n",
              "      <td>Навыки: ReactJS · JavaScript · HTML · CSSНавык...</td>\n",
              "      <td>10.0</td>\n",
              "      <td>Москва, Московская область, Россия</td>\n",
              "      <td>0</td>\n",
              "      <td>NaN</td>\n",
              "      <td>NaN</td>\n",
              "      <td>NaN</td>\n",
              "      <td>NaN</td>\n",
              "    </tr>\n",
              "    <tr>\n",
              "      <th>1</th>\n",
              "      <td>https://www.linkedin.com/in/rauventa</td>\n",
              "      <td>senior frontend</td>\n",
              "      <td>Ilya Moiseenko</td>\n",
              "      <td>LOOKING FOR \"Senior/Lead Frontend (React) Deve...</td>\n",
              "      <td>Centicore</td>\n",
              "      <td>Ilya, React Developer from Moscow.Ilya, React ...</td>\n",
              "      <td>8.0</td>\n",
              "      <td>Москва, Москва, Россия</td>\n",
              "      <td>1</td>\n",
              "      <td>Я только что получил(а) значок за навык «JavaS...</td>\n",
              "      <td>1.0</td>\n",
              "      <td>NaN</td>\n",
              "      <td>NaN</td>\n",
              "    </tr>\n",
              "    <tr>\n",
              "      <th>2</th>\n",
              "      <td>https://www.linkedin.com/in/denis-kuchkildin</td>\n",
              "      <td>middle data analyst</td>\n",
              "      <td>Denis Kuchkildin</td>\n",
              "      <td>Data Analyst at X5 Group</td>\n",
              "      <td>X5 Group</td>\n",
              "      <td>I have a strong engineering background and mor...</td>\n",
              "      <td>6.0</td>\n",
              "      <td>Москва, Москва, Россия</td>\n",
              "      <td>1</td>\n",
              "      <td>Hi everyone - I am looking for a new role and ...</td>\n",
              "      <td>NaN</td>\n",
              "      <td>NaN</td>\n",
              "      <td>NaN</td>\n",
              "    </tr>\n",
              "    <tr>\n",
              "      <th>3</th>\n",
              "      <td>https://www.linkedin.com/in/ACoAAC4yJzEB4TjXkJ...</td>\n",
              "      <td>senior ML engineer</td>\n",
              "      <td>Ian Silantev</td>\n",
              "      <td>MSc Data Science in University of East London ...</td>\n",
              "      <td>Neurospot</td>\n",
              "      <td>Absolutely in love with Data Science, AI and M...</td>\n",
              "      <td>2.0</td>\n",
              "      <td>Тбилиси, Грузия</td>\n",
              "      <td>0</td>\n",
              "      <td>NaN</td>\n",
              "      <td>NaN</td>\n",
              "      <td>NaN</td>\n",
              "      <td>NaN</td>\n",
              "    </tr>\n",
              "    <tr>\n",
              "      <th>4</th>\n",
              "      <td>https://www.linkedin.com/in/oleg-malyshkin</td>\n",
              "      <td>senior test engineer</td>\n",
              "      <td>Oleg Malyshkin</td>\n",
              "      <td>Senior Test Automation Engineer at GlobalLogic</td>\n",
              "      <td>NaN</td>\n",
              "      <td>Hi everyone, I am Oleg Malyshkin - Senior Test...</td>\n",
              "      <td>4.0</td>\n",
              "      <td>Киев, Киев, Украина</td>\n",
              "      <td>9</td>\n",
              "      <td>Finding a job for trainees and juniors is a ch...</td>\n",
              "      <td>1.0</td>\n",
              "      <td>NaN</td>\n",
              "      <td>NaN</td>\n",
              "    </tr>\n",
              "  </tbody>\n",
              "</table>\n",
              "</div>\n",
              "      <button class=\"colab-df-convert\" onclick=\"convertToInteractive('df-817cab62-8f15-445e-8f69-1e3c14d96364')\"\n",
              "              title=\"Convert this dataframe to an interactive table.\"\n",
              "              style=\"display:none;\">\n",
              "        \n",
              "  <svg xmlns=\"http://www.w3.org/2000/svg\" height=\"24px\"viewBox=\"0 0 24 24\"\n",
              "       width=\"24px\">\n",
              "    <path d=\"M0 0h24v24H0V0z\" fill=\"none\"/>\n",
              "    <path d=\"M18.56 5.44l.94 2.06.94-2.06 2.06-.94-2.06-.94-.94-2.06-.94 2.06-2.06.94zm-11 1L8.5 8.5l.94-2.06 2.06-.94-2.06-.94L8.5 2.5l-.94 2.06-2.06.94zm10 10l.94 2.06.94-2.06 2.06-.94-2.06-.94-.94-2.06-.94 2.06-2.06.94z\"/><path d=\"M17.41 7.96l-1.37-1.37c-.4-.4-.92-.59-1.43-.59-.52 0-1.04.2-1.43.59L10.3 9.45l-7.72 7.72c-.78.78-.78 2.05 0 2.83L4 21.41c.39.39.9.59 1.41.59.51 0 1.02-.2 1.41-.59l7.78-7.78 2.81-2.81c.8-.78.8-2.07 0-2.86zM5.41 20L4 18.59l7.72-7.72 1.47 1.35L5.41 20z\"/>\n",
              "  </svg>\n",
              "      </button>\n",
              "      \n",
              "  <style>\n",
              "    .colab-df-container {\n",
              "      display:flex;\n",
              "      flex-wrap:wrap;\n",
              "      gap: 12px;\n",
              "    }\n",
              "\n",
              "    .colab-df-convert {\n",
              "      background-color: #E8F0FE;\n",
              "      border: none;\n",
              "      border-radius: 50%;\n",
              "      cursor: pointer;\n",
              "      display: none;\n",
              "      fill: #1967D2;\n",
              "      height: 32px;\n",
              "      padding: 0 0 0 0;\n",
              "      width: 32px;\n",
              "    }\n",
              "\n",
              "    .colab-df-convert:hover {\n",
              "      background-color: #E2EBFA;\n",
              "      box-shadow: 0px 1px 2px rgba(60, 64, 67, 0.3), 0px 1px 3px 1px rgba(60, 64, 67, 0.15);\n",
              "      fill: #174EA6;\n",
              "    }\n",
              "\n",
              "    [theme=dark] .colab-df-convert {\n",
              "      background-color: #3B4455;\n",
              "      fill: #D2E3FC;\n",
              "    }\n",
              "\n",
              "    [theme=dark] .colab-df-convert:hover {\n",
              "      background-color: #434B5C;\n",
              "      box-shadow: 0px 1px 3px 1px rgba(0, 0, 0, 0.15);\n",
              "      filter: drop-shadow(0px 1px 2px rgba(0, 0, 0, 0.3));\n",
              "      fill: #FFFFFF;\n",
              "    }\n",
              "  </style>\n",
              "\n",
              "      <script>\n",
              "        const buttonEl =\n",
              "          document.querySelector('#df-817cab62-8f15-445e-8f69-1e3c14d96364 button.colab-df-convert');\n",
              "        buttonEl.style.display =\n",
              "          google.colab.kernel.accessAllowed ? 'block' : 'none';\n",
              "\n",
              "        async function convertToInteractive(key) {\n",
              "          const element = document.querySelector('#df-817cab62-8f15-445e-8f69-1e3c14d96364');\n",
              "          const dataTable =\n",
              "            await google.colab.kernel.invokeFunction('convertToInteractive',\n",
              "                                                     [key], {});\n",
              "          if (!dataTable) return;\n",
              "\n",
              "          const docLinkHtml = 'Like what you see? Visit the ' +\n",
              "            '<a target=\"_blank\" href=https://colab.research.google.com/notebooks/data_table.ipynb>data table notebook</a>'\n",
              "            + ' to learn more about interactive tables.';\n",
              "          element.innerHTML = '';\n",
              "          dataTable['output_type'] = 'display_data';\n",
              "          await google.colab.output.renderOutput(dataTable, element);\n",
              "          const docLink = document.createElement('div');\n",
              "          docLink.innerHTML = docLinkHtml;\n",
              "          element.appendChild(docLink);\n",
              "        }\n",
              "      </script>\n",
              "    </div>\n",
              "  </div>\n",
              "  "
            ]
          },
          "metadata": {},
          "execution_count": 4
        }
      ],
      "source": [
        "df = pd.read_csv('/content/clean_posts.csv')\n",
        "df.head()"
      ]
    },
    {
      "cell_type": "markdown",
      "source": [
        "Посмотрим на размер выборки."
      ],
      "metadata": {
        "id": "tkVZ1N_yvKDX"
      },
      "id": "tkVZ1N_yvKDX"
    },
    {
      "cell_type": "code",
      "source": [
        "df.shape"
      ],
      "metadata": {
        "colab": {
          "base_uri": "https://localhost:8080/"
        },
        "id": "LUFtlpIYscGu",
        "outputId": "cc492ecc-06da-441f-9d37-426f8f03d17b"
      },
      "id": "LUFtlpIYscGu",
      "execution_count": 5,
      "outputs": [
        {
          "output_type": "execute_result",
          "data": {
            "text/plain": [
              "(2081, 13)"
            ]
          },
          "metadata": {},
          "execution_count": 5
        }
      ]
    },
    {
      "cell_type": "markdown",
      "source": [
        "Посчитаем колличество уникальных имен ссылок на аккаунты."
      ],
      "metadata": {
        "id": "nIxiKY0vv9G4"
      },
      "id": "nIxiKY0vv9G4"
    },
    {
      "cell_type": "code",
      "source": [
        "df.account_link.nunique()"
      ],
      "metadata": {
        "colab": {
          "base_uri": "https://localhost:8080/"
        },
        "id": "49GjZL8vv1m-",
        "outputId": "6f9942e1-c402-4ad1-d937-36152107ddd4"
      },
      "id": "49GjZL8vv1m-",
      "execution_count": 6,
      "outputs": [
        {
          "output_type": "execute_result",
          "data": {
            "text/plain": [
              "800"
            ]
          },
          "metadata": {},
          "execution_count": 6
        }
      ]
    },
    {
      "cell_type": "markdown",
      "source": [
        "787 ссылок на аккаунты."
      ],
      "metadata": {
        "id": "wcjyZtaSyNU5"
      },
      "id": "wcjyZtaSyNU5"
    },
    {
      "cell_type": "markdown",
      "source": [
        "Оставим только посты на английском."
      ],
      "metadata": {
        "id": "9lwVRgh7N1d4"
      },
      "id": "9lwVRgh7N1d4"
    },
    {
      "cell_type": "code",
      "source": [
        "df = df[df.post_text.astype('str').map(lambda x: x.isascii())==True]"
      ],
      "metadata": {
        "id": "QEdqZP8cNzUl"
      },
      "id": "QEdqZP8cNzUl",
      "execution_count": 7,
      "outputs": []
    },
    {
      "cell_type": "code",
      "source": [
        "df.post_text.value_counts()"
      ],
      "metadata": {
        "colab": {
          "base_uri": "https://localhost:8080/"
        },
        "id": "T5EmrxyBOnPV",
        "outputId": "b22f2497-1c09-4a29-f799-8cc3789c324c"
      },
      "id": "T5EmrxyBOnPV",
      "execution_count": 8,
      "outputs": [
        {
          "output_type": "execute_result",
          "data": {
            "text/plain": [
              "Hi everyone - I am looking for a new role and would appreciate your support. Thank you in advance for any connections, advice, or opportunities you can offer. #OpenToWork                                                                                         25\n",
              "View my verified achievement from Amazon Web Services (AWS).                                                                                                                                                                                                        4\n",
              "Finding a job for trainees and juniors is a challenge every time. Especially now. So let's support them                                                                                                                                                             2\n",
              "I just earned a skill badge for Linux! Who's next? See how you do on a #LinkedInSkillAssessment.                                                                                                                                                                    2\n",
              "Hello everyone! I want to share with you a link with an analysis of the complexity of operations in Python. Everyone who uses Python should know this.https://lnkd.in/ekQyZ7tK                                                                                      2\n",
              "                                                                                                                                                                                                                                                                   ..\n",
              "Let the @BerBlockWeek begin! We are going to be at DOTCON and @web3summit. Will be happy to see old friends and meet the new ones. Let's enjoy the incredible atmosphere, network, share and have fun together!#mixbytes#Web3 #web3summit #Berlinblockchainweek     1\n",
              ":D                                                                                                                                                                                                                                                                  1\n",
              "Great news for all frontend-people in SN :)ReactJS here!Let's game-change, it's time.                                                                                                                                                                               1\n",
              "Awesome..                                                                                                                                                                                                                                                           1\n",
              "For those who haven't already seen, there was a nice article on StreamLayer Inc. in SportTechie today. #streamlayer                                                                                                                                                 1\n",
              "Name: post_text, Length: 484, dtype: int64"
            ]
          },
          "metadata": {},
          "execution_count": 8
        }
      ]
    },
    {
      "cell_type": "code",
      "source": [
        "df.shape"
      ],
      "metadata": {
        "colab": {
          "base_uri": "https://localhost:8080/"
        },
        "id": "yDhR-cKzO9lG",
        "outputId": "1651c5a3-0fd3-4fb1-bdc2-c32180c07a4c"
      },
      "id": "yDhR-cKzO9lG",
      "execution_count": 9,
      "outputs": [
        {
          "output_type": "execute_result",
          "data": {
            "text/plain": [
              "(1372, 13)"
            ]
          },
          "metadata": {},
          "execution_count": 9
        }
      ]
    },
    {
      "cell_type": "markdown",
      "source": [
        "**Посмотрим на числянные признаки.**"
      ],
      "metadata": {
        "id": "qJIFGFONymFe"
      },
      "id": "qJIFGFONymFe"
    },
    {
      "cell_type": "code",
      "source": [
        "df.describe()"
      ],
      "metadata": {
        "colab": {
          "base_uri": "https://localhost:8080/",
          "height": 301
        },
        "id": "ce3U0ZElwBn0",
        "outputId": "720abcab-8b1f-4b1f-dd81-e9f7caac637f"
      },
      "id": "ce3U0ZElwBn0",
      "execution_count": 10,
      "outputs": [
        {
          "output_type": "execute_result",
          "data": {
            "text/plain": [
              "        experience    posts_cnt  reaction_cnt  comments_cnt  repost_cnt\n",
              "count  1367.000000  1372.000000    383.000000    112.000000  107.000000\n",
              "mean     19.768105    56.740525      3.527415      3.017857    4.186916\n",
              "std     100.433021   111.188689      2.574270      2.521912    2.678111\n",
              "min       0.000000     0.000000      1.000000      1.000000    1.000000\n",
              "25%       5.000000     0.000000      1.000000      1.000000    2.000000\n",
              "50%       9.000000     1.000000      3.000000      2.000000    3.000000\n",
              "75%      11.000000    22.000000      5.000000      4.000000    6.500000\n",
              "max    1432.000000   308.000000      9.000000      9.000000    9.000000"
            ],
            "text/html": [
              "\n",
              "  <div id=\"df-5e49471c-d813-455b-8d78-28a26cfe7b33\">\n",
              "    <div class=\"colab-df-container\">\n",
              "      <div>\n",
              "<style scoped>\n",
              "    .dataframe tbody tr th:only-of-type {\n",
              "        vertical-align: middle;\n",
              "    }\n",
              "\n",
              "    .dataframe tbody tr th {\n",
              "        vertical-align: top;\n",
              "    }\n",
              "\n",
              "    .dataframe thead th {\n",
              "        text-align: right;\n",
              "    }\n",
              "</style>\n",
              "<table border=\"1\" class=\"dataframe\">\n",
              "  <thead>\n",
              "    <tr style=\"text-align: right;\">\n",
              "      <th></th>\n",
              "      <th>experience</th>\n",
              "      <th>posts_cnt</th>\n",
              "      <th>reaction_cnt</th>\n",
              "      <th>comments_cnt</th>\n",
              "      <th>repost_cnt</th>\n",
              "    </tr>\n",
              "  </thead>\n",
              "  <tbody>\n",
              "    <tr>\n",
              "      <th>count</th>\n",
              "      <td>1367.000000</td>\n",
              "      <td>1372.000000</td>\n",
              "      <td>383.000000</td>\n",
              "      <td>112.000000</td>\n",
              "      <td>107.000000</td>\n",
              "    </tr>\n",
              "    <tr>\n",
              "      <th>mean</th>\n",
              "      <td>19.768105</td>\n",
              "      <td>56.740525</td>\n",
              "      <td>3.527415</td>\n",
              "      <td>3.017857</td>\n",
              "      <td>4.186916</td>\n",
              "    </tr>\n",
              "    <tr>\n",
              "      <th>std</th>\n",
              "      <td>100.433021</td>\n",
              "      <td>111.188689</td>\n",
              "      <td>2.574270</td>\n",
              "      <td>2.521912</td>\n",
              "      <td>2.678111</td>\n",
              "    </tr>\n",
              "    <tr>\n",
              "      <th>min</th>\n",
              "      <td>0.000000</td>\n",
              "      <td>0.000000</td>\n",
              "      <td>1.000000</td>\n",
              "      <td>1.000000</td>\n",
              "      <td>1.000000</td>\n",
              "    </tr>\n",
              "    <tr>\n",
              "      <th>25%</th>\n",
              "      <td>5.000000</td>\n",
              "      <td>0.000000</td>\n",
              "      <td>1.000000</td>\n",
              "      <td>1.000000</td>\n",
              "      <td>2.000000</td>\n",
              "    </tr>\n",
              "    <tr>\n",
              "      <th>50%</th>\n",
              "      <td>9.000000</td>\n",
              "      <td>1.000000</td>\n",
              "      <td>3.000000</td>\n",
              "      <td>2.000000</td>\n",
              "      <td>3.000000</td>\n",
              "    </tr>\n",
              "    <tr>\n",
              "      <th>75%</th>\n",
              "      <td>11.000000</td>\n",
              "      <td>22.000000</td>\n",
              "      <td>5.000000</td>\n",
              "      <td>4.000000</td>\n",
              "      <td>6.500000</td>\n",
              "    </tr>\n",
              "    <tr>\n",
              "      <th>max</th>\n",
              "      <td>1432.000000</td>\n",
              "      <td>308.000000</td>\n",
              "      <td>9.000000</td>\n",
              "      <td>9.000000</td>\n",
              "      <td>9.000000</td>\n",
              "    </tr>\n",
              "  </tbody>\n",
              "</table>\n",
              "</div>\n",
              "      <button class=\"colab-df-convert\" onclick=\"convertToInteractive('df-5e49471c-d813-455b-8d78-28a26cfe7b33')\"\n",
              "              title=\"Convert this dataframe to an interactive table.\"\n",
              "              style=\"display:none;\">\n",
              "        \n",
              "  <svg xmlns=\"http://www.w3.org/2000/svg\" height=\"24px\"viewBox=\"0 0 24 24\"\n",
              "       width=\"24px\">\n",
              "    <path d=\"M0 0h24v24H0V0z\" fill=\"none\"/>\n",
              "    <path d=\"M18.56 5.44l.94 2.06.94-2.06 2.06-.94-2.06-.94-.94-2.06-.94 2.06-2.06.94zm-11 1L8.5 8.5l.94-2.06 2.06-.94-2.06-.94L8.5 2.5l-.94 2.06-2.06.94zm10 10l.94 2.06.94-2.06 2.06-.94-2.06-.94-.94-2.06-.94 2.06-2.06.94z\"/><path d=\"M17.41 7.96l-1.37-1.37c-.4-.4-.92-.59-1.43-.59-.52 0-1.04.2-1.43.59L10.3 9.45l-7.72 7.72c-.78.78-.78 2.05 0 2.83L4 21.41c.39.39.9.59 1.41.59.51 0 1.02-.2 1.41-.59l7.78-7.78 2.81-2.81c.8-.78.8-2.07 0-2.86zM5.41 20L4 18.59l7.72-7.72 1.47 1.35L5.41 20z\"/>\n",
              "  </svg>\n",
              "      </button>\n",
              "      \n",
              "  <style>\n",
              "    .colab-df-container {\n",
              "      display:flex;\n",
              "      flex-wrap:wrap;\n",
              "      gap: 12px;\n",
              "    }\n",
              "\n",
              "    .colab-df-convert {\n",
              "      background-color: #E8F0FE;\n",
              "      border: none;\n",
              "      border-radius: 50%;\n",
              "      cursor: pointer;\n",
              "      display: none;\n",
              "      fill: #1967D2;\n",
              "      height: 32px;\n",
              "      padding: 0 0 0 0;\n",
              "      width: 32px;\n",
              "    }\n",
              "\n",
              "    .colab-df-convert:hover {\n",
              "      background-color: #E2EBFA;\n",
              "      box-shadow: 0px 1px 2px rgba(60, 64, 67, 0.3), 0px 1px 3px 1px rgba(60, 64, 67, 0.15);\n",
              "      fill: #174EA6;\n",
              "    }\n",
              "\n",
              "    [theme=dark] .colab-df-convert {\n",
              "      background-color: #3B4455;\n",
              "      fill: #D2E3FC;\n",
              "    }\n",
              "\n",
              "    [theme=dark] .colab-df-convert:hover {\n",
              "      background-color: #434B5C;\n",
              "      box-shadow: 0px 1px 3px 1px rgba(0, 0, 0, 0.15);\n",
              "      filter: drop-shadow(0px 1px 2px rgba(0, 0, 0, 0.3));\n",
              "      fill: #FFFFFF;\n",
              "    }\n",
              "  </style>\n",
              "\n",
              "      <script>\n",
              "        const buttonEl =\n",
              "          document.querySelector('#df-5e49471c-d813-455b-8d78-28a26cfe7b33 button.colab-df-convert');\n",
              "        buttonEl.style.display =\n",
              "          google.colab.kernel.accessAllowed ? 'block' : 'none';\n",
              "\n",
              "        async function convertToInteractive(key) {\n",
              "          const element = document.querySelector('#df-5e49471c-d813-455b-8d78-28a26cfe7b33');\n",
              "          const dataTable =\n",
              "            await google.colab.kernel.invokeFunction('convertToInteractive',\n",
              "                                                     [key], {});\n",
              "          if (!dataTable) return;\n",
              "\n",
              "          const docLinkHtml = 'Like what you see? Visit the ' +\n",
              "            '<a target=\"_blank\" href=https://colab.research.google.com/notebooks/data_table.ipynb>data table notebook</a>'\n",
              "            + ' to learn more about interactive tables.';\n",
              "          element.innerHTML = '';\n",
              "          dataTable['output_type'] = 'display_data';\n",
              "          await google.colab.output.renderOutput(dataTable, element);\n",
              "          const docLink = document.createElement('div');\n",
              "          docLink.innerHTML = docLinkHtml;\n",
              "          element.appendChild(docLink);\n",
              "        }\n",
              "      </script>\n",
              "    </div>\n",
              "  </div>\n",
              "  "
            ]
          },
          "metadata": {},
          "execution_count": 10
        }
      ]
    },
    {
      "cell_type": "markdown",
      "source": [
        "# Experience - опыт."
      ],
      "metadata": {
        "id": "bQmLfPRH1Vqo"
      },
      "id": "bQmLfPRH1Vqo"
    },
    {
      "cell_type": "markdown",
      "source": [
        "Очевидно, что есть выбросы по опыту. Ну никак больше 100 лет у нас не может быть в этих данных. Тем более 1000 лет. Данный признак мы не оцениваем. Посмотрим сколько таких строк."
      ],
      "metadata": {
        "id": "36xqErGey6Us"
      },
      "id": "36xqErGey6Us"
    },
    {
      "cell_type": "code",
      "source": [
        "len(df[df.experience>100])"
      ],
      "metadata": {
        "colab": {
          "base_uri": "https://localhost:8080/"
        },
        "id": "aWomxH-Pyv-8",
        "outputId": "2eb712a7-4a4e-49cc-a261-68cf6744335d"
      },
      "id": "aWomxH-Pyv-8",
      "execution_count": 11,
      "outputs": [
        {
          "output_type": "execute_result",
          "data": {
            "text/plain": [
              "18"
            ]
          },
          "metadata": {},
          "execution_count": 11
        }
      ]
    },
    {
      "cell_type": "markdown",
      "source": [
        "Посмотрим, есть ли посты у людей сопытом более 100 лет."
      ],
      "metadata": {
        "id": "s1u89IgZ0Md8"
      },
      "id": "s1u89IgZ0Md8"
    },
    {
      "cell_type": "code",
      "source": [
        "df[df.experience>100].posts_cnt.value_counts(dropna=False)"
      ],
      "metadata": {
        "colab": {
          "base_uri": "https://localhost:8080/"
        },
        "id": "P9Z4nwstzKxy",
        "outputId": "52e4bdc1-ec14-4ee7-d545-84143baf162e"
      },
      "id": "P9Z4nwstzKxy",
      "execution_count": 12,
      "outputs": [
        {
          "output_type": "execute_result",
          "data": {
            "text/plain": [
              "0    14\n",
              "8     2\n",
              "2     2\n",
              "Name: posts_cnt, dtype: int64"
            ]
          },
          "metadata": {},
          "execution_count": 12
        }
      ]
    },
    {
      "cell_type": "markdown",
      "source": [
        "Посты есть, не будем их удалять. Но посмотри на распределение без этих значений."
      ],
      "metadata": {
        "id": "7SVwgIjl0T8-"
      },
      "id": "7SVwgIjl0T8-"
    },
    {
      "cell_type": "code",
      "source": [
        "sns.histplot(df.query('experience<100')['experience'], kde=True)\n",
        "plt.show()"
      ],
      "metadata": {
        "colab": {
          "base_uri": "https://localhost:8080/",
          "height": 449
        },
        "id": "F5tqO-yN0d1l",
        "outputId": "396b75d0-db77-4be9-fcf6-f0575ddae3f8"
      },
      "id": "F5tqO-yN0d1l",
      "execution_count": 13,
      "outputs": [
        {
          "output_type": "display_data",
          "data": {
            "text/plain": [
              "<Figure size 640x480 with 1 Axes>"
            ],
            "image/png": "[encoded data removed]"
          },
          "metadata": {}
        }
      ]
    },
    {
      "cell_type": "markdown",
      "source": [
        "Как видно, большинство пользователей с опытом 10 лет. Резкий пик у 12. И еще более резкий спад. Людей с опытом более 30 лет практически нет."
      ],
      "metadata": {
        "id": "gylrHTO11A1Y"
      },
      "id": "gylrHTO11A1Y"
    },
    {
      "cell_type": "markdown",
      "source": [
        "# posts_cnt - кол-во постов."
      ],
      "metadata": {
        "id": "0Yww8_wJystJ"
      },
      "id": "0Yww8_wJystJ"
    },
    {
      "cell_type": "markdown",
      "source": [
        "Посмотрим на распредление по кол-ву постов."
      ],
      "metadata": {
        "id": "ODWnI0au1lGQ"
      },
      "id": "ODWnI0au1lGQ"
    },
    {
      "cell_type": "code",
      "source": [
        "\n",
        "sns.histplot(df.posts_cnt, kde=True)\n",
        "plt.show()"
      ],
      "metadata": {
        "colab": {
          "base_uri": "https://localhost:8080/",
          "height": 451
        },
        "id": "PoHA5VEW1rCD",
        "outputId": "7d1cdc40-f22a-4cee-c2ad-07ea28854e22"
      },
      "id": "PoHA5VEW1rCD",
      "execution_count": 14,
      "outputs": [
        {
          "output_type": "display_data",
          "data": {
            "text/plain": [
              "<Figure size 640x480 with 1 Axes>"
            ],
            "image/png": "[encoded data removed]"
          },
          "metadata": {}
        }
      ]
    },
    {
      "cell_type": "markdown",
      "source": [
        "Большинство профилей не имеют постов. Есть единичные пики у 150 и 300. Посмотрим, сколько у нас таких пользователей."
      ],
      "metadata": {
        "id": "3zdX2Z-Z14mD"
      },
      "id": "3zdX2Z-Z14mD"
    },
    {
      "cell_type": "code",
      "source": [
        "df[df.posts_cnt>100]['name'].nunique()"
      ],
      "metadata": {
        "colab": {
          "base_uri": "https://localhost:8080/"
        },
        "id": "iT7WhiBb4TUe",
        "outputId": "914d009f-2ebc-4609-9770-495114b2c4d0"
      },
      "id": "iT7WhiBb4TUe",
      "execution_count": 15,
      "outputs": [
        {
          "output_type": "execute_result",
          "data": {
            "text/plain": [
              "2"
            ]
          },
          "metadata": {},
          "execution_count": 15
        }
      ]
    },
    {
      "cell_type": "markdown",
      "source": [
        "2 пользователя с таким кол-вом постов."
      ],
      "metadata": {
        "id": "YLHM3A554h0g"
      },
      "id": "YLHM3A554h0g"
    },
    {
      "cell_type": "markdown",
      "source": [
        "# reaction_cnt - кол-во реакций."
      ],
      "metadata": {
        "id": "ihvBZHII4208"
      },
      "id": "ihvBZHII4208"
    },
    {
      "cell_type": "markdown",
      "source": [
        "Посмотрим на распределение reaction_cnt."
      ],
      "metadata": {
        "id": "cq5N5ssf5vtX"
      },
      "id": "cq5N5ssf5vtX"
    },
    {
      "cell_type": "code",
      "source": [
        "sns.histplot(df.reaction_cnt, kde=True)\n",
        "plt.show()"
      ],
      "metadata": {
        "colab": {
          "base_uri": "https://localhost:8080/",
          "height": 450
        },
        "id": "yNbG2Iwv49gK",
        "outputId": "d2f0e321-651f-4e86-eb02-bc2ddb79c806"
      },
      "id": "yNbG2Iwv49gK",
      "execution_count": 16,
      "outputs": [
        {
          "output_type": "display_data",
          "data": {
            "text/plain": [
              "<Figure size 640x480 with 1 Axes>"
            ],
            "image/png": "[encoded data removed]"
          },
          "metadata": {}
        }
      ]
    },
    {
      "cell_type": "markdown",
      "source": [
        "Здесь график больше похож на равномерное распределение. Есть и провалы, конечно. Посмотрим сколько постов без реакций."
      ],
      "metadata": {
        "id": "UXN8LQw65FBj"
      },
      "id": "UXN8LQw65FBj"
    },
    {
      "cell_type": "code",
      "source": [
        "df.reaction_cnt.value_counts(dropna=False)"
      ],
      "metadata": {
        "colab": {
          "base_uri": "https://localhost:8080/"
        },
        "id": "R6ndd3786so1",
        "outputId": "5281dd7a-2062-4d08-ba21-870f801aadd2"
      },
      "id": "R6ndd3786so1",
      "execution_count": 17,
      "outputs": [
        {
          "output_type": "execute_result",
          "data": {
            "text/plain": [
              "NaN    989\n",
              "1.0    119\n",
              "2.0     65\n",
              "3.0     45\n",
              "4.0     31\n",
              "5.0     29\n",
              "7.0     28\n",
              "8.0     23\n",
              "6.0     23\n",
              "9.0     20\n",
              "Name: reaction_cnt, dtype: int64"
            ]
          },
          "metadata": {},
          "execution_count": 17
        }
      ]
    },
    {
      "cell_type": "markdown",
      "source": [
        "Получается, что около половины постов без реакций."
      ],
      "metadata": {
        "id": "nWU-s55Y61Md"
      },
      "id": "nWU-s55Y61Md"
    },
    {
      "cell_type": "markdown",
      "source": [
        "# comments_cnt - кол-во комментариев."
      ],
      "metadata": {
        "id": "prNdncfD5qSW"
      },
      "id": "prNdncfD5qSW"
    },
    {
      "cell_type": "markdown",
      "source": [
        "Посмотрим на распределение reaction_cnt."
      ],
      "metadata": {
        "id": "USRasYMz512p"
      },
      "id": "USRasYMz512p"
    },
    {
      "cell_type": "code",
      "source": [
        "sns.histplot(df.comments_cnt, kde=True)\n",
        "plt.show()"
      ],
      "metadata": {
        "colab": {
          "base_uri": "https://localhost:8080/",
          "height": 449
        },
        "id": "eLJAOYqB56sJ",
        "outputId": "ae5b589c-20da-43f6-ba08-faf3b52b0596"
      },
      "id": "eLJAOYqB56sJ",
      "execution_count": 18,
      "outputs": [
        {
          "output_type": "display_data",
          "data": {
            "text/plain": [
              "<Figure size 640x480 with 1 Axes>"
            ],
            "image/png": "[encoded data removed]"
          },
          "metadata": {}
        }
      ]
    },
    {
      "cell_type": "markdown",
      "source": [
        "Здесь у нас пик у 1, далее спад. У большиства, конечно 0 в комментариях. Посмотрим, сколько их."
      ],
      "metadata": {
        "id": "MXlCtOb56Akh"
      },
      "id": "MXlCtOb56Akh"
    },
    {
      "cell_type": "code",
      "source": [
        "df.comments_cnt.value_counts(dropna=False)"
      ],
      "metadata": {
        "colab": {
          "base_uri": "https://localhost:8080/"
        },
        "id": "ORRWvVh36Pdr",
        "outputId": "baf416e9-a580-4281-fe6c-830a4cc39066"
      },
      "id": "ORRWvVh36Pdr",
      "execution_count": 19,
      "outputs": [
        {
          "output_type": "execute_result",
          "data": {
            "text/plain": [
              "NaN    1260\n",
              "1.0      42\n",
              "2.0      26\n",
              "3.0      12\n",
              "9.0       9\n",
              "4.0       8\n",
              "6.0       6\n",
              "7.0       4\n",
              "5.0       3\n",
              "8.0       2\n",
              "Name: comments_cnt, dtype: int64"
            ]
          },
          "metadata": {},
          "execution_count": 19
        }
      ]
    },
    {
      "cell_type": "markdown",
      "source": [
        "3/4 постов без комментариев."
      ],
      "metadata": {
        "id": "q9NA01x57n0D"
      },
      "id": "q9NA01x57n0D"
    },
    {
      "cell_type": "markdown",
      "source": [
        "# repost_cnt - кол-во репостов."
      ],
      "metadata": {
        "id": "zbuVl2sy7Eve"
      },
      "id": "zbuVl2sy7Eve"
    },
    {
      "cell_type": "code",
      "source": [
        "\n",
        "sns.histplot(df.repost_cnt, kde=True)\n",
        "plt.show()"
      ],
      "metadata": {
        "colab": {
          "base_uri": "https://localhost:8080/",
          "height": 449
        },
        "id": "mUpD7kMy7S0B",
        "outputId": "b857ea7b-32ec-42de-acc5-9540c7b4d96a"
      },
      "id": "mUpD7kMy7S0B",
      "execution_count": 20,
      "outputs": [
        {
          "output_type": "display_data",
          "data": {
            "text/plain": [
              "<Figure size 640x480 with 1 Axes>"
            ],
            "image/png": "[encoded data removed]"
          },
          "metadata": {}
        }
      ]
    },
    {
      "cell_type": "markdown",
      "source": [
        "Здесь у нас пик у 1, далее спад. У большиства, конечно 0 в комментариях. Посмотрим, сколько их."
      ],
      "metadata": {
        "id": "hylEvVBz7hfp"
      },
      "id": "hylEvVBz7hfp"
    },
    {
      "cell_type": "code",
      "source": [
        "df.repost_cnt.value_counts(dropna=False)"
      ],
      "metadata": {
        "colab": {
          "base_uri": "https://localhost:8080/"
        },
        "id": "v11TCQwG7jhl",
        "outputId": "193fac4b-ba7d-4d3f-d50c-09846152e6cb"
      },
      "id": "v11TCQwG7jhl",
      "execution_count": 21,
      "outputs": [
        {
          "output_type": "execute_result",
          "data": {
            "text/plain": [
              "NaN    1265\n",
              "1.0      21\n",
              "3.0      18\n",
              "2.0      16\n",
              "8.0      14\n",
              "4.0       9\n",
              "5.0       8\n",
              "6.0       8\n",
              "9.0       7\n",
              "7.0       6\n",
              "Name: repost_cnt, dtype: int64"
            ]
          },
          "metadata": {},
          "execution_count": 21
        }
      ]
    },
    {
      "cell_type": "markdown",
      "source": [
        "3/4 постов без репостов."
      ],
      "metadata": {
        "id": "oAc10nnE7u2k"
      },
      "id": "oAc10nnE7u2k"
    },
    {
      "cell_type": "markdown",
      "source": [
        "Распределение репостов и комментариев очень похожи. Инетересно посмотреть, как они зависят друг от друга."
      ],
      "metadata": {
        "id": "XKYH9txR7zOS"
      },
      "id": "XKYH9txR7zOS"
    },
    {
      "cell_type": "code",
      "source": [
        "plt.figure(figsize=(6,4))\n",
        "sns.barplot(x='reaction_cnt', y='repost_cnt', data = df, palette='Blues')\n",
        "plt.title('repost_cnt - reaction_cnt')\n",
        "plt.show()"
      ],
      "metadata": {
        "colab": {
          "base_uri": "https://localhost:8080/",
          "height": 410
        },
        "id": "RATgcBQz79ji",
        "outputId": "f3bf96c0-b197-48a4-c12d-1f07d6f8909b"
      },
      "id": "RATgcBQz79ji",
      "execution_count": 22,
      "outputs": [
        {
          "output_type": "display_data",
          "data": {
            "text/plain": [
              "<Figure size 600x400 with 1 Axes>"
            ],
            "image/png": "[encoded data removed]"
          },
          "metadata": {}
        }
      ]
    },
    {
      "cell_type": "markdown",
      "source": [
        "Все также логично, с увеличением кол-ва реакций на пост, увеличивается кол-во тех,к то репостит."
      ],
      "metadata": {
        "id": "SZ3wCl7-9J_e"
      },
      "id": "SZ3wCl7-9J_e"
    },
    {
      "cell_type": "markdown",
      "source": [
        "Посмотрим связано ли кол-во репостов с реакциями."
      ],
      "metadata": {
        "id": "QBqzX3Cj8p45"
      },
      "id": "QBqzX3Cj8p45"
    },
    {
      "cell_type": "code",
      "source": [
        "plt.figure(figsize=(6,4))\n",
        "sns.barplot(x='reaction_cnt', y='repost_cnt', data = df, palette='Blues')\n",
        "plt.title('repost_cnt - reaction_cnt')\n",
        "plt.show()"
      ],
      "metadata": {
        "colab": {
          "base_uri": "https://localhost:8080/",
          "height": 410
        },
        "id": "OGLR39Q88ymd",
        "outputId": "d866a830-f062-44a1-c7bd-596fe99542b2"
      },
      "id": "OGLR39Q88ymd",
      "execution_count": 23,
      "outputs": [
        {
          "output_type": "display_data",
          "data": {
            "text/plain": [
              "<Figure size 600x400 with 1 Axes>"
            ],
            "image/png": "[encoded data removed]"
          },
          "metadata": {}
        }
      ]
    },
    {
      "cell_type": "code",
      "source": [
        "df.head()"
      ],
      "metadata": {
        "colab": {
          "base_uri": "https://localhost:8080/",
          "height": 476
        },
        "id": "bc84A54B-NCy",
        "outputId": "5b233746-8d7c-4ee4-b055-83a16f87b273"
      },
      "id": "bc84A54B-NCy",
      "execution_count": 24,
      "outputs": [
        {
          "output_type": "execute_result",
          "data": {
            "text/plain": [
              "                                        account_link       search_keywords  \\\n",
              "0  https://www.linkedin.com/in/varvara-kulmeteva-...  senior web developer   \n",
              "2       https://www.linkedin.com/in/denis-kuchkildin   middle data analyst   \n",
              "3  https://www.linkedin.com/in/ACoAAC4yJzEB4TjXkJ...    senior ML engineer   \n",
              "4         https://www.linkedin.com/in/oleg-malyshkin  senior test engineer   \n",
              "5         https://www.linkedin.com/in/oleg-malyshkin  senior test engineer   \n",
              "\n",
              "                name                                              title  \\\n",
              "0  Varvara Kulmeteva            Senior Web Developer - IBS InfinitySoft   \n",
              "2   Denis Kuchkildin                           Data Analyst at X5 Group   \n",
              "3       Ian Silantev  MSc Data Science in University of East London ...   \n",
              "4     Oleg Malyshkin     Senior Test Automation Engineer at GlobalLogic   \n",
              "5     Oleg Malyshkin     Senior Test Automation Engineer at GlobalLogic   \n",
              "\n",
              "    works_at                                              intro  experience  \\\n",
              "0        IBS  Навыки: ReactJS · JavaScript · HTML · CSSНавык...        10.0   \n",
              "2   X5 Group  I have a strong engineering background and mor...         6.0   \n",
              "3  Neurospot  Absolutely in love with Data Science, AI and M...         2.0   \n",
              "4        NaN  Hi everyone, I am Oleg Malyshkin - Senior Test...         4.0   \n",
              "5        NaN  Hi everyone, I am Oleg Malyshkin - Senior Test...         4.0   \n",
              "\n",
              "                                place  posts_cnt  \\\n",
              "0  Москва, Московская область, Россия          0   \n",
              "2              Москва, Москва, Россия          1   \n",
              "3                     Тбилиси, Грузия          0   \n",
              "4                 Киев, Киев, Украина          9   \n",
              "5                 Киев, Киев, Украина          9   \n",
              "\n",
              "                                           post_text  reaction_cnt  \\\n",
              "0                                                NaN           NaN   \n",
              "2  Hi everyone - I am looking for a new role and ...           NaN   \n",
              "3                                                NaN           NaN   \n",
              "4  Finding a job for trainees and juniors is a ch...           1.0   \n",
              "5  Hi everyone!I am looking for a job as Junior U...           1.0   \n",
              "\n",
              "   comments_cnt  repost_cnt  \n",
              "0           NaN         NaN  \n",
              "2           NaN         NaN  \n",
              "3           NaN         NaN  \n",
              "4           NaN         NaN  \n",
              "5           4.0         3.0  "
            ],
            "text/html": [
              "\n",
              "  <div id=\"df-82684a6a-604c-4df4-8b59-73705bb1d054\">\n",
              "    <div class=\"colab-df-container\">\n",
              "      <div>\n",
              "<style scoped>\n",
              "    .dataframe tbody tr th:only-of-type {\n",
              "        vertical-align: middle;\n",
              "    }\n",
              "\n",
              "    .dataframe tbody tr th {\n",
              "        vertical-align: top;\n",
              "    }\n",
              "\n",
              "    .dataframe thead th {\n",
              "        text-align: right;\n",
              "    }\n",
              "</style>\n",
              "<table border=\"1\" class=\"dataframe\">\n",
              "  <thead>\n",
              "    <tr style=\"text-align: right;\">\n",
              "      <th></th>\n",
              "      <th>account_link</th>\n",
              "      <th>search_keywords</th>\n",
              "      <th>name</th>\n",
              "      <th>title</th>\n",
              "      <th>works_at</th>\n",
              "      <th>intro</th>\n",
              "      <th>experience</th>\n",
              "      <th>place</th>\n",
              "      <th>posts_cnt</th>\n",
              "      <th>post_text</th>\n",
              "      <th>reaction_cnt</th>\n",
              "      <th>comments_cnt</th>\n",
              "      <th>repost_cnt</th>\n",
              "    </tr>\n",
              "  </thead>\n",
              "  <tbody>\n",
              "    <tr>\n",
              "      <th>0</th>\n",
              "      <td>https://www.linkedin.com/in/varvara-kulmeteva-...</td>\n",
              "      <td>senior web developer</td>\n",
              "      <td>Varvara Kulmeteva</td>\n",
              "      <td>Senior Web Developer - IBS InfinitySoft</td>\n",
              "      <td>IBS</td>\n",
              "      <td>Навыки: ReactJS · JavaScript · HTML · CSSНавык...</td>\n",
              "      <td>10.0</td>\n",
              "      <td>Москва, Московская область, Россия</td>\n",
              "      <td>0</td>\n",
              "      <td>NaN</td>\n",
              "      <td>NaN</td>\n",
              "      <td>NaN</td>\n",
              "      <td>NaN</td>\n",
              "    </tr>\n",
              "    <tr>\n",
              "      <th>2</th>\n",
              "      <td>https://www.linkedin.com/in/denis-kuchkildin</td>\n",
              "      <td>middle data analyst</td>\n",
              "      <td>Denis Kuchkildin</td>\n",
              "      <td>Data Analyst at X5 Group</td>\n",
              "      <td>X5 Group</td>\n",
              "      <td>I have a strong engineering background and mor...</td>\n",
              "      <td>6.0</td>\n",
              "      <td>Москва, Москва, Россия</td>\n",
              "      <td>1</td>\n",
              "      <td>Hi everyone - I am looking for a new role and ...</td>\n",
              "      <td>NaN</td>\n",
              "      <td>NaN</td>\n",
              "      <td>NaN</td>\n",
              "    </tr>\n",
              "    <tr>\n",
              "      <th>3</th>\n",
              "      <td>https://www.linkedin.com/in/ACoAAC4yJzEB4TjXkJ...</td>\n",
              "      <td>senior ML engineer</td>\n",
              "      <td>Ian Silantev</td>\n",
              "      <td>MSc Data Science in University of East London ...</td>\n",
              "      <td>Neurospot</td>\n",
              "      <td>Absolutely in love with Data Science, AI and M...</td>\n",
              "      <td>2.0</td>\n",
              "      <td>Тбилиси, Грузия</td>\n",
              "      <td>0</td>\n",
              "      <td>NaN</td>\n",
              "      <td>NaN</td>\n",
              "      <td>NaN</td>\n",
              "      <td>NaN</td>\n",
              "    </tr>\n",
              "    <tr>\n",
              "      <th>4</th>\n",
              "      <td>https://www.linkedin.com/in/oleg-malyshkin</td>\n",
              "      <td>senior test engineer</td>\n",
              "      <td>Oleg Malyshkin</td>\n",
              "      <td>Senior Test Automation Engineer at GlobalLogic</td>\n",
              "      <td>NaN</td>\n",
              "      <td>Hi everyone, I am Oleg Malyshkin - Senior Test...</td>\n",
              "      <td>4.0</td>\n",
              "      <td>Киев, Киев, Украина</td>\n",
              "      <td>9</td>\n",
              "      <td>Finding a job for trainees and juniors is a ch...</td>\n",
              "      <td>1.0</td>\n",
              "      <td>NaN</td>\n",
              "      <td>NaN</td>\n",
              "    </tr>\n",
              "    <tr>\n",
              "      <th>5</th>\n",
              "      <td>https://www.linkedin.com/in/oleg-malyshkin</td>\n",
              "      <td>senior test engineer</td>\n",
              "      <td>Oleg Malyshkin</td>\n",
              "      <td>Senior Test Automation Engineer at GlobalLogic</td>\n",
              "      <td>NaN</td>\n",
              "      <td>Hi everyone, I am Oleg Malyshkin - Senior Test...</td>\n",
              "      <td>4.0</td>\n",
              "      <td>Киев, Киев, Украина</td>\n",
              "      <td>9</td>\n",
              "      <td>Hi everyone!I am looking for a job as Junior U...</td>\n",
              "      <td>1.0</td>\n",
              "      <td>4.0</td>\n",
              "      <td>3.0</td>\n",
              "    </tr>\n",
              "  </tbody>\n",
              "</table>\n",
              "</div>\n",
              "      <button class=\"colab-df-convert\" onclick=\"convertToInteractive('df-82684a6a-604c-4df4-8b59-73705bb1d054')\"\n",
              "              title=\"Convert this dataframe to an interactive table.\"\n",
              "              style=\"display:none;\">\n",
              "        \n",
              "  <svg xmlns=\"http://www.w3.org/2000/svg\" height=\"24px\"viewBox=\"0 0 24 24\"\n",
              "       width=\"24px\">\n",
              "    <path d=\"M0 0h24v24H0V0z\" fill=\"none\"/>\n",
              "    <path d=\"M18.56 5.44l.94 2.06.94-2.06 2.06-.94-2.06-.94-.94-2.06-.94 2.06-2.06.94zm-11 1L8.5 8.5l.94-2.06 2.06-.94-2.06-.94L8.5 2.5l-.94 2.06-2.06.94zm10 10l.94 2.06.94-2.06 2.06-.94-2.06-.94-.94-2.06-.94 2.06-2.06.94z\"/><path d=\"M17.41 7.96l-1.37-1.37c-.4-.4-.92-.59-1.43-.59-.52 0-1.04.2-1.43.59L10.3 9.45l-7.72 7.72c-.78.78-.78 2.05 0 2.83L4 21.41c.39.39.9.59 1.41.59.51 0 1.02-.2 1.41-.59l7.78-7.78 2.81-2.81c.8-.78.8-2.07 0-2.86zM5.41 20L4 18.59l7.72-7.72 1.47 1.35L5.41 20z\"/>\n",
              "  </svg>\n",
              "      </button>\n",
              "      \n",
              "  <style>\n",
              "    .colab-df-container {\n",
              "      display:flex;\n",
              "      flex-wrap:wrap;\n",
              "      gap: 12px;\n",
              "    }\n",
              "\n",
              "    .colab-df-convert {\n",
              "      background-color: #E8F0FE;\n",
              "      border: none;\n",
              "      border-radius: 50%;\n",
              "      cursor: pointer;\n",
              "      display: none;\n",
              "      fill: #1967D2;\n",
              "      height: 32px;\n",
              "      padding: 0 0 0 0;\n",
              "      width: 32px;\n",
              "    }\n",
              "\n",
              "    .colab-df-convert:hover {\n",
              "      background-color: #E2EBFA;\n",
              "      box-shadow: 0px 1px 2px rgba(60, 64, 67, 0.3), 0px 1px 3px 1px rgba(60, 64, 67, 0.15);\n",
              "      fill: #174EA6;\n",
              "    }\n",
              "\n",
              "    [theme=dark] .colab-df-convert {\n",
              "      background-color: #3B4455;\n",
              "      fill: #D2E3FC;\n",
              "    }\n",
              "\n",
              "    [theme=dark] .colab-df-convert:hover {\n",
              "      background-color: #434B5C;\n",
              "      box-shadow: 0px 1px 3px 1px rgba(0, 0, 0, 0.15);\n",
              "      filter: drop-shadow(0px 1px 2px rgba(0, 0, 0, 0.3));\n",
              "      fill: #FFFFFF;\n",
              "    }\n",
              "  </style>\n",
              "\n",
              "      <script>\n",
              "        const buttonEl =\n",
              "          document.querySelector('#df-82684a6a-604c-4df4-8b59-73705bb1d054 button.colab-df-convert');\n",
              "        buttonEl.style.display =\n",
              "          google.colab.kernel.accessAllowed ? 'block' : 'none';\n",
              "\n",
              "        async function convertToInteractive(key) {\n",
              "          const element = document.querySelector('#df-82684a6a-604c-4df4-8b59-73705bb1d054');\n",
              "          const dataTable =\n",
              "            await google.colab.kernel.invokeFunction('convertToInteractive',\n",
              "                                                     [key], {});\n",
              "          if (!dataTable) return;\n",
              "\n",
              "          const docLinkHtml = 'Like what you see? Visit the ' +\n",
              "            '<a target=\"_blank\" href=https://colab.research.google.com/notebooks/data_table.ipynb>data table notebook</a>'\n",
              "            + ' to learn more about interactive tables.';\n",
              "          element.innerHTML = '';\n",
              "          dataTable['output_type'] = 'display_data';\n",
              "          await google.colab.output.renderOutput(dataTable, element);\n",
              "          const docLink = document.createElement('div');\n",
              "          docLink.innerHTML = docLinkHtml;\n",
              "          element.appendChild(docLink);\n",
              "        }\n",
              "      </script>\n",
              "    </div>\n",
              "  </div>\n",
              "  "
            ]
          },
          "metadata": {},
          "execution_count": 24
        }
      ]
    },
    {
      "cell_type": "markdown",
      "source": [
        "Проверим, есть ли в данных рекрутеры."
      ],
      "metadata": {
        "id": "nqvyTfel-UO7"
      },
      "id": "nqvyTfel-UO7"
    },
    {
      "cell_type": "code",
      "source": [
        "df[df['title'].str.contains('Recruit')==True]"
      ],
      "metadata": {
        "colab": {
          "base_uri": "https://localhost:8080/",
          "height": 1000
        },
        "id": "Np4scc6xahCq",
        "outputId": "2f6dbe11-c711-41e4-f862-d6ff8c50f25b"
      },
      "id": "Np4scc6xahCq",
      "execution_count": 25,
      "outputs": [
        {
          "output_type": "execute_result",
          "data": {
            "text/plain": [
              "                                           account_link       search_keywords  \\\n",
              "27    https://www.linkedin.com/in/ACoAAAqhWrQB8mmVQS...         lead frontend   \n",
              "40    https://www.linkedin.com/in/ACoAABkz7KkBFOaZUx...  middle test engineer   \n",
              "639   https://www.linkedin.com/in/ACoAABkz7KkBFOaZUx...         lead frontend   \n",
              "668   https://www.linkedin.com/in/ACoAAAfSmP0BPGYrNv...         lead frontend   \n",
              "722   https://www.linkedin.com/in/ACoAAAqhWrQB8mmVQS...         lead frontend   \n",
              "723   https://www.linkedin.com/in/ACoAABkz7KkBFOaZUx...  middle test engineer   \n",
              "740   https://www.linkedin.com/in/ACoAAEAtkocBP-DgeP...              frontend   \n",
              "818   https://www.linkedin.com/in/ACoAACYxveYBfh1wa2...     lead data analyst   \n",
              "823   https://www.linkedin.com/in/ACoAAA5tS24BDNRFJX...     lead data analyst   \n",
              "846   https://www.linkedin.com/in/ACoAAC1rrUUBa5JUg0...     lead data analyst   \n",
              "899   https://www.linkedin.com/in/ACoAABkz7KkBFOaZUx...     lead data analyst   \n",
              "901   https://www.linkedin.com/in/ACoAACkaRegBhS5pfi...     lead data analyst   \n",
              "909   https://www.linkedin.com/in/ACoAACNYFjcBVCG3y_...     lead data analyst   \n",
              "913   https://www.linkedin.com/in/ACoAAAqhWrQB8mmVQS...     lead data analyst   \n",
              "968   https://www.linkedin.com/in/ACoAAA2hJXUBIL5ff_...     lead data analyst   \n",
              "971   https://www.linkedin.com/in/ACoAAAtUQegBHrdptC...     lead data analyst   \n",
              "1015  https://www.linkedin.com/in/ACoAABo_W58BPV1qgl...     lead data analyst   \n",
              "1045  https://www.linkedin.com/in/ACoAACNYFjcBVCG3y_...    lead web developer   \n",
              "1065  https://www.linkedin.com/in/ACoAABo_W58BPV1qgl...    lead web developer   \n",
              "1066  https://www.linkedin.com/in/ACoAACRzkCIB9dC740...    lead web developer   \n",
              "1102  https://www.linkedin.com/in/ACoAAC_ztqMBiwmeUF...    lead web developer   \n",
              "1113  https://www.linkedin.com/in/ACoAAA2hJXUBIL5ff_...    lead web developer   \n",
              "1121  https://www.linkedin.com/in/ACoAAAtUQegBHrdptC...    lead web developer   \n",
              "1128  https://www.linkedin.com/in/ACoAAAqhWrQB8mmVQS...    lead web developer   \n",
              "1161  https://www.linkedin.com/in/ACoAACoWT6EBuouS6J...    lead web developer   \n",
              "1170  https://www.linkedin.com/in/ACoAABkz7KkBFOaZUx...    lead web developer   \n",
              "1234  https://www.linkedin.com/in/ACoAAA5tS24BDNRFJX...    lead web developer   \n",
              "1246  https://www.linkedin.com/in/ACoAACX8UU8Bf0tpWo...    lead web developer   \n",
              "1299  https://www.linkedin.com/in/ACoAAA5tS24BDNRFJX...    lead test engineer   \n",
              "1312  https://www.linkedin.com/in/ACoAACX8UU8Bf0tpWo...    lead test engineer   \n",
              "1347  https://www.linkedin.com/in/ACoAAAqhWrQB8mmVQS...    lead test engineer   \n",
              "1387  https://www.linkedin.com/in/ACoAABMKv8EBpp_zbd...    lead test engineer   \n",
              "1415  https://www.linkedin.com/in/ACoAAA2hJXUBIL5ff_...    lead test engineer   \n",
              "1435  https://www.linkedin.com/in/ACoAABkz7KkBFOaZUx...    lead test engineer   \n",
              "1437  https://www.linkedin.com/in/ACoAAAtUQegBHrdptC...    lead test engineer   \n",
              "1465  https://www.linkedin.com/in/ACoAACmcSgkBtHUGiR...    lead test engineer   \n",
              "1504  https://www.linkedin.com/in/ACoAABMKv8EBpp_zbd...           lead devops   \n",
              "1511  https://www.linkedin.com/in/ACoAABo_W58BPV1qgl...           lead devops   \n",
              "1514  https://www.linkedin.com/in/ACoAAA5tS24BDNRFJX...           lead devops   \n",
              "1748  https://www.linkedin.com/in/ACoAACRzkCIB9dC740...    senior ML engineer   \n",
              "1771  https://www.linkedin.com/in/ACoAAC_ztqMBiwmeUF...    senior ML engineer   \n",
              "1820  https://www.linkedin.com/in/ACoAACX8UU8Bf0tpWo...    senior ML engineer   \n",
              "2054  https://www.linkedin.com/in/ACoAAA5tS24BDNRFJX...        senior backend   \n",
              "2057  https://www.linkedin.com/in/ACoAAC_ztqMBiwmeUF...        senior backend   \n",
              "2062  https://www.linkedin.com/in/ACoAACSbglsB1GwUeQ...        senior backend   \n",
              "\n",
              "                       name  \\\n",
              "27         Kristina Korobko   \n",
              "40      Anastasia Usoltseva   \n",
              "639     Anastasia Usoltseva   \n",
              "668          Lydia Saranina   \n",
              "722        Kristina Korobko   \n",
              "723     Anastasia Usoltseva   \n",
              "740            Aisa Umakova   \n",
              "818       Angelica Krytsina   \n",
              "823      Oksana Sovetnikova   \n",
              "846          Daria Aleshina   \n",
              "899     Anastasia Usoltseva   \n",
              "901      Elizaveta Kayurova   \n",
              "909          Anna Veryazova   \n",
              "913        Kristina Korobko   \n",
              "968          Nina Zamyslova   \n",
              "971          Наиля Гаджиева   \n",
              "1015     Светлана Щербакова   \n",
              "1045         Anna Veryazova   \n",
              "1065     Светлана Щербакова   \n",
              "1066  Екатерина Следзевская   \n",
              "1102       Andrew Molchanov   \n",
              "1113         Nina Zamyslova   \n",
              "1121         Наиля Гаджиева   \n",
              "1128       Kristina Korobko   \n",
              "1161          Yana Steshina   \n",
              "1170    Anastasia Usoltseva   \n",
              "1234     Oksana Sovetnikova   \n",
              "1246         Елена Сорокина   \n",
              "1299     Oksana Sovetnikova   \n",
              "1312         Елена Сорокина   \n",
              "1347       Kristina Korobko   \n",
              "1387          Kira Stasenok   \n",
              "1415         Nina Zamyslova   \n",
              "1435    Anastasia Usoltseva   \n",
              "1437         Наиля Гаджиева   \n",
              "1465     Кристина Баклашова   \n",
              "1504          Kira Stasenok   \n",
              "1511     Светлана Щербакова   \n",
              "1514     Oksana Sovetnikova   \n",
              "1748  Екатерина Следзевская   \n",
              "1771       Andrew Molchanov   \n",
              "1820         Елена Сорокина   \n",
              "2054     Oksana Sovetnikova   \n",
              "2057       Andrew Molchanov   \n",
              "2062         Ирина Сафонова   \n",
              "\n",
              "                                                  title  \\\n",
              "27                                    Lead IT Recruiter   \n",
              "40          Senior Technical Recruiter (Armenia/Serbia)   \n",
              "639         Senior Technical Recruiter (Armenia/Serbia)   \n",
              "668   Technical Talent Huntress at Anchous Drive Rec...   \n",
              "722                                   Lead IT Recruiter   \n",
              "723         Senior Technical Recruiter (Armenia/Serbia)   \n",
              "740                       Sourcer / Junior IT Recruiter   \n",
              "818            IT-Recruitment Consultant – GlobalCareer   \n",
              "823                           Lead IT Recruiter – Jaxel   \n",
              "846                       Team Lead IT-Recruiter Dom.RF   \n",
              "899         Senior Technical Recruiter (Armenia/Serbia)   \n",
              "901        Senior Recruiter – DOM.RF Bank / Банк ДОМ.РФ   \n",
              "909                                        IT Recruiter   \n",
              "913                                   Lead IT Recruiter   \n",
              "968              IT Recruitment Team Leader at Sberbank   \n",
              "971                              Senior IT Recruiter/HR   \n",
              "1015  Senior IT-Recruiter, HR Team Lead, Ищейка, Хан...   \n",
              "1045                                       IT Recruiter   \n",
              "1065  Senior IT-Recruiter, HR Team Lead, Ищейка, Хан...   \n",
              "1066                           IT Recruiter – Alfa bank   \n",
              "1102                   Recruitment Manager at Kaspersky   \n",
              "1113             IT Recruitment Team Leader at Sberbank   \n",
              "1121                             Senior IT Recruiter/HR   \n",
              "1128                                  Lead IT Recruiter   \n",
              "1161               Team Lead Recruitment – Hi, Rockits!   \n",
              "1170        Senior Technical Recruiter (Armenia/Serbia)   \n",
              "1234                          Lead IT Recruiter – Jaxel   \n",
              "1246           Senior Recruiter (IT/Digital) - Municorn   \n",
              "1299                          Lead IT Recruiter – Jaxel   \n",
              "1312           Senior Recruiter (IT/Digital) - Municorn   \n",
              "1347                                  Lead IT Recruiter   \n",
              "1387        Head Of Recruitment and Adaptation (14000+)   \n",
              "1415             IT Recruitment Team Leader at Sberbank   \n",
              "1435        Senior Technical Recruiter (Armenia/Serbia)   \n",
              "1437                             Senior IT Recruiter/HR   \n",
              "1465  IT Recruiter at GlobalCareer, Executive Search...   \n",
              "1504        Head Of Recruitment and Adaptation (14000+)   \n",
              "1511  Senior IT-Recruiter, HR Team Lead, Ищейка, Хан...   \n",
              "1514                          Lead IT Recruiter – Jaxel   \n",
              "1748                           IT Recruiter – Alfa bank   \n",
              "1771                   Recruitment Manager at Kaspersky   \n",
              "1820           Senior Recruiter (IT/Digital) - Municorn   \n",
              "2054                          Lead IT Recruiter – Jaxel   \n",
              "2057                   Recruitment Manager at Kaspersky   \n",
              "2062         Lead IT Recruiter – Группа компаний Орбита   \n",
              "\n",
              "                                               works_at  \\\n",
              "27                                            DreamTeam   \n",
              "40                                        Grid Dynamics   \n",
              "639                                       Grid Dynamics   \n",
              "668                                        ADDFORCE Inc   \n",
              "722                                           DreamTeam   \n",
              "723                                       Grid Dynamics   \n",
              "740                         Spice IT Recruitment Agency   \n",
              "818                      GlobalCareer, Executive Search   \n",
              "823                                               Jaxel   \n",
              "846                                     ДОМ.РФ / DOM.RF   \n",
              "899                                       Grid Dynamics   \n",
              "901                           DOM.RF Bank / Банк ДОМ.РФ   \n",
              "909                                           Polymedia   \n",
              "913                                           DreamTeam   \n",
              "968                                            Sberbank   \n",
              "971   МГОУ (Московский государственный открытый унив...   \n",
              "1015                        ООО \"Грандстафф\", hr-yar.ru   \n",
              "1045                                          Polymedia   \n",
              "1065                        ООО \"Грандстафф\", hr-yar.ru   \n",
              "1066                                          Alfa-Bank   \n",
              "1102                                          Kaspersky   \n",
              "1113                                           Sberbank   \n",
              "1121  МГОУ (Московский государственный открытый унив...   \n",
              "1128                                          DreamTeam   \n",
              "1161                                       Hi, Rockits!   \n",
              "1170                                      Grid Dynamics   \n",
              "1234                                              Jaxel   \n",
              "1246                                           Municorn   \n",
              "1299                                              Jaxel   \n",
              "1312                                           Municorn   \n",
              "1347                                          DreamTeam   \n",
              "1387                                           r_keeper   \n",
              "1415                                           Sberbank   \n",
              "1435                                      Grid Dynamics   \n",
              "1437  МГОУ (Московский государственный открытый унив...   \n",
              "1465                     GlobalCareer, Executive Search   \n",
              "1504                                           r_keeper   \n",
              "1511                        ООО \"Грандстафф\", hr-yar.ru   \n",
              "1514                                              Jaxel   \n",
              "1748                                          Alfa-Bank   \n",
              "1771                                          Kaspersky   \n",
              "1820                                           Municorn   \n",
              "2054                                              Jaxel   \n",
              "2057                                          Kaspersky   \n",
              "2062                             Группа компаний Орбита   \n",
              "\n",
              "                                                  intro  experience  \\\n",
              "27    •\\tkk@dream-team.tech•\\tTelegram: @kkorobko•\\t...         8.0   \n",
              "40    With nearly 5 years of experience in IT recrui...         9.0   \n",
              "639   With nearly 5 years of experience in IT recrui...         9.0   \n",
              "668   9+ years of experience as a Full Cycle Technic...        13.0   \n",
              "722   •\\tkk@dream-team.tech•\\tTelegram: @kkorobko•\\t...         8.0   \n",
              "723   With nearly 5 years of experience in IT recrui...         9.0   \n",
              "740   For the past nine months, I have been actively...        17.0   \n",
              "818   Буду рада обсудить вакансии (локация - Москва/...         9.0   \n",
              "823   15000+ contactsWelcome =)15000+ contacts\\nWelc...        18.0   \n",
              "846   👩‍💻 Работаю на должности Team Lead IT-Recruite...         4.0   \n",
              "899   With nearly 5 years of experience in IT recrui...         9.0   \n",
              "901                  Средний балл: 4.9Средний балл: 4.9         6.0   \n",
              "909                            Tg @very_annTg @very_ann         5.0   \n",
              "913   •\\tkk@dream-team.tech•\\tTelegram: @kkorobko•\\t...         8.0   \n",
              "968   Подтверждения навыков от участника Антон Мерца...        11.0   \n",
              "971                      Средний балл: 4Средний балл: 4        10.0   \n",
              "1015  Диплом ТОП-10 HH RU за 2020гДиплом ТОП-10 HH R...        18.0   \n",
              "1045                           Tg @very_annTg @very_ann         5.0   \n",
              "1065  Диплом ТОП-10 HH RU за 2020гДиплом ТОП-10 HH R...        18.0   \n",
              "1066  Кадровое агентство по  подбору IT-персоналаКад...        12.0   \n",
              "1102  Друзья, всем хорошей пятницы! У нас открыта ва...         4.0   \n",
              "1113  Подтверждения навыков от участника Антон Мерца...        11.0   \n",
              "1121                     Средний балл: 4Средний балл: 4        10.0   \n",
              "1128  •\\tkk@dream-team.tech•\\tTelegram: @kkorobko•\\t...         8.0   \n",
              "1161  Recruitment Lead in AI LaboratoryRecruitment L...         5.0   \n",
              "1170  With nearly 5 years of experience in IT recrui...         9.0   \n",
              "1234  15000+ contactsWelcome =)15000+ contacts\\nWelc...        18.0   \n",
              "1246  - Mentoring interns and junior recruiters;- Ma...         8.0   \n",
              "1299  15000+ contactsWelcome =)15000+ contacts\\nWelc...        18.0   \n",
              "1312  - Mentoring interns and junior recruiters;- Ma...         8.0   \n",
              "1347  •\\tkk@dream-team.tech•\\tTelegram: @kkorobko•\\t...         8.0   \n",
              "1387                                         IT HRIT HR        10.0   \n",
              "1415  Подтверждения навыков от участника Антон Мерца...        11.0   \n",
              "1435  With nearly 5 years of experience in IT recrui...         9.0   \n",
              "1437                     Средний балл: 4Средний балл: 4        10.0   \n",
              "1465  • Поиск IT-специалистов разного уровня • Сняти...         5.0   \n",
              "1504                                         IT HRIT HR        10.0   \n",
              "1511  Диплом ТОП-10 HH RU за 2020гДиплом ТОП-10 HH R...        18.0   \n",
              "1514  15000+ contactsWelcome =)15000+ contacts\\nWelc...        18.0   \n",
              "1748  Кадровое агентство по  подбору IT-персоналаКад...        12.0   \n",
              "1771  Друзья, всем хорошей пятницы! У нас открыта ва...         4.0   \n",
              "1820  - Mentoring interns and junior recruiters;- Ma...         8.0   \n",
              "2054  15000+ contactsWelcome =)15000+ contacts\\nWelc...        18.0   \n",
              "2057  Друзья, всем хорошей пятницы! У нас открыта ва...         4.0   \n",
              "2062                 Для связи @IrenhrДля связи @Irenhr         7.0   \n",
              "\n",
              "                                         place  posts_cnt post_text  \\\n",
              "27                                      Россия          0       NaN   \n",
              "40                             Белград, Сербия          0       NaN   \n",
              "639                            Белград, Сербия          0       NaN   \n",
              "668               Область залива Сан-Франциско          0       NaN   \n",
              "722                                     Россия          0       NaN   \n",
              "723                            Белград, Сербия          0       NaN   \n",
              "740                       Токио, Tokyo, Япония          0       NaN   \n",
              "818         Москва, Московская область, Россия          0       NaN   \n",
              "823   Санкт-Петербург, Санкт-Петербург, Россия          0       NaN   \n",
              "846                     Москва, Москва, Россия          0       NaN   \n",
              "899                            Белград, Сербия          0       NaN   \n",
              "901         Москва, Московская область, Россия          0       NaN   \n",
              "909                     Москва, Москва, Россия          0       NaN   \n",
              "913                                     Россия          0       NaN   \n",
              "968                     Москва, Москва, Россия          0       NaN   \n",
              "971         Москва, Московская область, Россия          0       NaN   \n",
              "1015        Москва, Московская область, Россия          0       NaN   \n",
              "1045                    Москва, Москва, Россия          0       NaN   \n",
              "1065        Москва, Московская область, Россия          0       NaN   \n",
              "1066                    Москва, Москва, Россия          0       NaN   \n",
              "1102                    Москва, Москва, Россия          0       NaN   \n",
              "1113                    Москва, Москва, Россия          0       NaN   \n",
              "1121        Москва, Московская область, Россия          0       NaN   \n",
              "1128                                    Россия          0       NaN   \n",
              "1161        Москва, Московская область, Россия          0       NaN   \n",
              "1170                           Белград, Сербия          0       NaN   \n",
              "1234  Санкт-Петербург, Санкт-Петербург, Россия          0       NaN   \n",
              "1246                             Лимасол, Кипр          0       NaN   \n",
              "1299  Санкт-Петербург, Санкт-Петербург, Россия          0       NaN   \n",
              "1312                             Лимасол, Кипр          0       NaN   \n",
              "1347                                    Россия          0       NaN   \n",
              "1387        Москва, Московская область, Россия          0       NaN   \n",
              "1415                    Москва, Москва, Россия          0       NaN   \n",
              "1435                           Белград, Сербия          0       NaN   \n",
              "1437        Москва, Московская область, Россия          0       NaN   \n",
              "1465                                    Россия          0       NaN   \n",
              "1504        Москва, Московская область, Россия          0       NaN   \n",
              "1511        Москва, Московская область, Россия          0       NaN   \n",
              "1514  Санкт-Петербург, Санкт-Петербург, Россия          0       NaN   \n",
              "1748                    Москва, Москва, Россия          0       NaN   \n",
              "1771                    Москва, Москва, Россия          0       NaN   \n",
              "1820                             Лимасол, Кипр          0       NaN   \n",
              "2054  Санкт-Петербург, Санкт-Петербург, Россия          0       NaN   \n",
              "2057                    Москва, Москва, Россия          0       NaN   \n",
              "2062                Ростовская область, Россия          0       NaN   \n",
              "\n",
              "      reaction_cnt  comments_cnt  repost_cnt  \n",
              "27             NaN           NaN         NaN  \n",
              "40             NaN           NaN         NaN  \n",
              "639            NaN           NaN         NaN  \n",
              "668            NaN           NaN         NaN  \n",
              "722            NaN           NaN         NaN  \n",
              "723            NaN           NaN         NaN  \n",
              "740            NaN           NaN         NaN  \n",
              "818            NaN           NaN         NaN  \n",
              "823            NaN           NaN         NaN  \n",
              "846            NaN           NaN         NaN  \n",
              "899            NaN           NaN         NaN  \n",
              "901            NaN           NaN         NaN  \n",
              "909            NaN           NaN         NaN  \n",
              "913            NaN           NaN         NaN  \n",
              "968            NaN           NaN         NaN  \n",
              "971            NaN           NaN         NaN  \n",
              "1015           NaN           NaN         NaN  \n",
              "1045           NaN           NaN         NaN  \n",
              "1065           NaN           NaN         NaN  \n",
              "1066           NaN           NaN         NaN  \n",
              "1102           NaN           NaN         NaN  \n",
              "1113           NaN           NaN         NaN  \n",
              "1121           NaN           NaN         NaN  \n",
              "1128           NaN           NaN         NaN  \n",
              "1161           NaN           NaN         NaN  \n",
              "1170           NaN           NaN         NaN  \n",
              "1234           NaN           NaN         NaN  \n",
              "1246           NaN           NaN         NaN  \n",
              "1299           NaN           NaN         NaN  \n",
              "1312           NaN           NaN         NaN  \n",
              "1347           NaN           NaN         NaN  \n",
              "1387           NaN           NaN         NaN  \n",
              "1415           NaN           NaN         NaN  \n",
              "1435           NaN           NaN         NaN  \n",
              "1437           NaN           NaN         NaN  \n",
              "1465           NaN           NaN         NaN  \n",
              "1504           NaN           NaN         NaN  \n",
              "1511           NaN           NaN         NaN  \n",
              "1514           NaN           NaN         NaN  \n",
              "1748           NaN           NaN         NaN  \n",
              "1771           NaN           NaN         NaN  \n",
              "1820           NaN           NaN         NaN  \n",
              "2054           NaN           NaN         NaN  \n",
              "2057           NaN           NaN         NaN  \n",
              "2062           NaN           NaN         NaN  "
            ],
            "text/html": [
              "\n",
              "  <div id=\"df-e69bd64e-8e90-4832-858a-2b35f091665a\">\n",
              "    <div class=\"colab-df-container\">\n",
              "      <div>\n",
              "<style scoped>\n",
              "    .dataframe tbody tr th:only-of-type {\n",
              "        vertical-align: middle;\n",
              "    }\n",
              "\n",
              "    .dataframe tbody tr th {\n",
              "        vertical-align: top;\n",
              "    }\n",
              "\n",
              "    .dataframe thead th {\n",
              "        text-align: right;\n",
              "    }\n",
              "</style>\n",
              "<table border=\"1\" class=\"dataframe\">\n",
              "  <thead>\n",
              "    <tr style=\"text-align: right;\">\n",
              "      <th></th>\n",
              "      <th>account_link</th>\n",
              "      <th>search_keywords</th>\n",
              "      <th>name</th>\n",
              "      <th>title</th>\n",
              "      <th>works_at</th>\n",
              "      <th>intro</th>\n",
              "      <th>experience</th>\n",
              "      <th>place</th>\n",
              "      <th>posts_cnt</th>\n",
              "      <th>post_text</th>\n",
              "      <th>reaction_cnt</th>\n",
              "      <th>comments_cnt</th>\n",
              "      <th>repost_cnt</th>\n",
              "    </tr>\n",
              "  </thead>\n",
              "  <tbody>\n",
              "    <tr>\n",
              "      <th>27</th>\n",
              "      <td>https://www.linkedin.com/in/ACoAAAqhWrQB8mmVQS...</td>\n",
              "      <td>lead frontend</td>\n",
              "      <td>Kristina Korobko</td>\n",
              "      <td>Lead IT Recruiter</td>\n",
              "      <td>DreamTeam</td>\n",
              "      <td>•\\tkk@dream-team.tech•\\tTelegram: @kkorobko•\\t...</td>\n",
              "      <td>8.0</td>\n",
              "      <td>Россия</td>\n",
              "      <td>0</td>\n",
              "      <td>NaN</td>\n",
              "      <td>NaN</td>\n",
              "      <td>NaN</td>\n",
              "      <td>NaN</td>\n",
              "    </tr>\n",
              "    <tr>\n",
              "      <th>40</th>\n",
              "      <td>https://www.linkedin.com/in/ACoAABkz7KkBFOaZUx...</td>\n",
              "      <td>middle test engineer</td>\n",
              "      <td>Anastasia Usoltseva</td>\n",
              "      <td>Senior Technical Recruiter (Armenia/Serbia)</td>\n",
              "      <td>Grid Dynamics</td>\n",
              "      <td>With nearly 5 years of experience in IT recrui...</td>\n",
              "      <td>9.0</td>\n",
              "      <td>Белград, Сербия</td>\n",
              "      <td>0</td>\n",
              "      <td>NaN</td>\n",
              "      <td>NaN</td>\n",
              "      <td>NaN</td>\n",
              "      <td>NaN</td>\n",
              "    </tr>\n",
              "    <tr>\n",
              "      <th>639</th>\n",
              "      <td>https://www.linkedin.com/in/ACoAABkz7KkBFOaZUx...</td>\n",
              "      <td>lead frontend</td>\n",
              "      <td>Anastasia Usoltseva</td>\n",
              "      <td>Senior Technical Recruiter (Armenia/Serbia)</td>\n",
              "      <td>Grid Dynamics</td>\n",
              "      <td>With nearly 5 years of experience in IT recrui...</td>\n",
              "      <td>9.0</td>\n",
              "      <td>Белград, Сербия</td>\n",
              "      <td>0</td>\n",
              "      <td>NaN</td>\n",
              "      <td>NaN</td>\n",
              "      <td>NaN</td>\n",
              "      <td>NaN</td>\n",
              "    </tr>\n",
              "    <tr>\n",
              "      <th>668</th>\n",
              "      <td>https://www.linkedin.com/in/ACoAAAfSmP0BPGYrNv...</td>\n",
              "      <td>lead frontend</td>\n",
              "      <td>Lydia Saranina</td>\n",
              "      <td>Technical Talent Huntress at Anchous Drive Rec...</td>\n",
              "      <td>ADDFORCE Inc</td>\n",
              "      <td>9+ years of experience as a Full Cycle Technic...</td>\n",
              "      <td>13.0</td>\n",
              "      <td>Область залива Сан-Франциско</td>\n",
              "      <td>0</td>\n",
              "      <td>NaN</td>\n",
              "      <td>NaN</td>\n",
              "      <td>NaN</td>\n",
              "      <td>NaN</td>\n",
              "    </tr>\n",
              "    <tr>\n",
              "      <th>722</th>\n",
              "      <td>https://www.linkedin.com/in/ACoAAAqhWrQB8mmVQS...</td>\n",
              "      <td>lead frontend</td>\n",
              "      <td>Kristina Korobko</td>\n",
              "      <td>Lead IT Recruiter</td>\n",
              "      <td>DreamTeam</td>\n",
              "      <td>•\\tkk@dream-team.tech•\\tTelegram: @kkorobko•\\t...</td>\n",
              "      <td>8.0</td>\n",
              "      <td>Россия</td>\n",
              "      <td>0</td>\n",
              "      <td>NaN</td>\n",
              "      <td>NaN</td>\n",
              "      <td>NaN</td>\n",
              "      <td>NaN</td>\n",
              "    </tr>\n",
              "    <tr>\n",
              "      <th>723</th>\n",
              "      <td>https://www.linkedin.com/in/ACoAABkz7KkBFOaZUx...</td>\n",
              "      <td>middle test engineer</td>\n",
              "      <td>Anastasia Usoltseva</td>\n",
              "      <td>Senior Technical Recruiter (Armenia/Serbia)</td>\n",
              "      <td>Grid Dynamics</td>\n",
              "      <td>With nearly 5 years of experience in IT recrui...</td>\n",
              "      <td>9.0</td>\n",
              "      <td>Белград, Сербия</td>\n",
              "      <td>0</td>\n",
              "      <td>NaN</td>\n",
              "      <td>NaN</td>\n",
              "      <td>NaN</td>\n",
              "      <td>NaN</td>\n",
              "    </tr>\n",
              "    <tr>\n",
              "      <th>740</th>\n",
              "      <td>https://www.linkedin.com/in/ACoAAEAtkocBP-DgeP...</td>\n",
              "      <td>frontend</td>\n",
              "      <td>Aisa Umakova</td>\n",
              "      <td>Sourcer / Junior IT Recruiter</td>\n",
              "      <td>Spice IT Recruitment Agency</td>\n",
              "      <td>For the past nine months, I have been actively...</td>\n",
              "      <td>17.0</td>\n",
              "      <td>Токио, Tokyo, Япония</td>\n",
              "      <td>0</td>\n",
              "      <td>NaN</td>\n",
              "      <td>NaN</td>\n",
              "      <td>NaN</td>\n",
              "      <td>NaN</td>\n",
              "    </tr>\n",
              "    <tr>\n",
              "      <th>818</th>\n",
              "      <td>https://www.linkedin.com/in/ACoAACYxveYBfh1wa2...</td>\n",
              "      <td>lead data analyst</td>\n",
              "      <td>Angelica Krytsina</td>\n",
              "      <td>IT-Recruitment Consultant – GlobalCareer</td>\n",
              "      <td>GlobalCareer, Executive Search</td>\n",
              "      <td>Буду рада обсудить вакансии (локация - Москва/...</td>\n",
              "      <td>9.0</td>\n",
              "      <td>Москва, Московская область, Россия</td>\n",
              "      <td>0</td>\n",
              "      <td>NaN</td>\n",
              "      <td>NaN</td>\n",
              "      <td>NaN</td>\n",
              "      <td>NaN</td>\n",
              "    </tr>\n",
              "    <tr>\n",
              "      <th>823</th>\n",
              "      <td>https://www.linkedin.com/in/ACoAAA5tS24BDNRFJX...</td>\n",
              "      <td>lead data analyst</td>\n",
              "      <td>Oksana Sovetnikova</td>\n",
              "      <td>Lead IT Recruiter – Jaxel</td>\n",
              "      <td>Jaxel</td>\n",
              "      <td>15000+ contactsWelcome =)15000+ contacts\\nWelc...</td>\n",
              "      <td>18.0</td>\n",
              "      <td>Санкт-Петербург, Санкт-Петербург, Россия</td>\n",
              "      <td>0</td>\n",
              "      <td>NaN</td>\n",
              "      <td>NaN</td>\n",
              "      <td>NaN</td>\n",
              "      <td>NaN</td>\n",
              "    </tr>\n",
              "    <tr>\n",
              "      <th>846</th>\n",
              "      <td>https://www.linkedin.com/in/ACoAAC1rrUUBa5JUg0...</td>\n",
              "      <td>lead data analyst</td>\n",
              "      <td>Daria Aleshina</td>\n",
              "      <td>Team Lead IT-Recruiter Dom.RF</td>\n",
              "      <td>ДОМ.РФ / DOM.RF</td>\n",
              "      <td>👩‍💻 Работаю на должности Team Lead IT-Recruite...</td>\n",
              "      <td>4.0</td>\n",
              "      <td>Москва, Москва, Россия</td>\n",
              "      <td>0</td>\n",
              "      <td>NaN</td>\n",
              "      <td>NaN</td>\n",
              "      <td>NaN</td>\n",
              "      <td>NaN</td>\n",
              "    </tr>\n",
              "    <tr>\n",
              "      <th>899</th>\n",
              "      <td>https://www.linkedin.com/in/ACoAABkz7KkBFOaZUx...</td>\n",
              "      <td>lead data analyst</td>\n",
              "      <td>Anastasia Usoltseva</td>\n",
              "      <td>Senior Technical Recruiter (Armenia/Serbia)</td>\n",
              "      <td>Grid Dynamics</td>\n",
              "      <td>With nearly 5 years of experience in IT recrui...</td>\n",
              "      <td>9.0</td>\n",
              "      <td>Белград, Сербия</td>\n",
              "      <td>0</td>\n",
              "      <td>NaN</td>\n",
              "      <td>NaN</td>\n",
              "      <td>NaN</td>\n",
              "      <td>NaN</td>\n",
              "    </tr>\n",
              "    <tr>\n",
              "      <th>901</th>\n",
              "      <td>https://www.linkedin.com/in/ACoAACkaRegBhS5pfi...</td>\n",
              "      <td>lead data analyst</td>\n",
              "      <td>Elizaveta Kayurova</td>\n",
              "      <td>Senior Recruiter – DOM.RF Bank / Банк ДОМ.РФ</td>\n",
              "      <td>DOM.RF Bank / Банк ДОМ.РФ</td>\n",
              "      <td>Средний балл: 4.9Средний балл: 4.9</td>\n",
              "      <td>6.0</td>\n",
              "      <td>Москва, Московская область, Россия</td>\n",
              "      <td>0</td>\n",
              "      <td>NaN</td>\n",
              "      <td>NaN</td>\n",
              "      <td>NaN</td>\n",
              "      <td>NaN</td>\n",
              "    </tr>\n",
              "    <tr>\n",
              "      <th>909</th>\n",
              "      <td>https://www.linkedin.com/in/ACoAACNYFjcBVCG3y_...</td>\n",
              "      <td>lead data analyst</td>\n",
              "      <td>Anna Veryazova</td>\n",
              "      <td>IT Recruiter</td>\n",
              "      <td>Polymedia</td>\n",
              "      <td>Tg @very_annTg @very_ann</td>\n",
              "      <td>5.0</td>\n",
              "      <td>Москва, Москва, Россия</td>\n",
              "      <td>0</td>\n",
              "      <td>NaN</td>\n",
              "      <td>NaN</td>\n",
              "      <td>NaN</td>\n",
              "      <td>NaN</td>\n",
              "    </tr>\n",
              "    <tr>\n",
              "      <th>913</th>\n",
              "      <td>https://www.linkedin.com/in/ACoAAAqhWrQB8mmVQS...</td>\n",
              "      <td>lead data analyst</td>\n",
              "      <td>Kristina Korobko</td>\n",
              "      <td>Lead IT Recruiter</td>\n",
              "      <td>DreamTeam</td>\n",
              "      <td>•\\tkk@dream-team.tech•\\tTelegram: @kkorobko•\\t...</td>\n",
              "      <td>8.0</td>\n",
              "      <td>Россия</td>\n",
              "      <td>0</td>\n",
              "      <td>NaN</td>\n",
              "      <td>NaN</td>\n",
              "      <td>NaN</td>\n",
              "      <td>NaN</td>\n",
              "    </tr>\n",
              "    <tr>\n",
              "      <th>968</th>\n",
              "      <td>https://www.linkedin.com/in/ACoAAA2hJXUBIL5ff_...</td>\n",
              "      <td>lead data analyst</td>\n",
              "      <td>Nina Zamyslova</td>\n",
              "      <td>IT Recruitment Team Leader at Sberbank</td>\n",
              "      <td>Sberbank</td>\n",
              "      <td>Подтверждения навыков от участника Антон Мерца...</td>\n",
              "      <td>11.0</td>\n",
              "      <td>Москва, Москва, Россия</td>\n",
              "      <td>0</td>\n",
              "      <td>NaN</td>\n",
              "      <td>NaN</td>\n",
              "      <td>NaN</td>\n",
              "      <td>NaN</td>\n",
              "    </tr>\n",
              "    <tr>\n",
              "      <th>971</th>\n",
              "      <td>https://www.linkedin.com/in/ACoAAAtUQegBHrdptC...</td>\n",
              "      <td>lead data analyst</td>\n",
              "      <td>Наиля Гаджиева</td>\n",
              "      <td>Senior IT Recruiter/HR</td>\n",
              "      <td>МГОУ (Московский государственный открытый унив...</td>\n",
              "      <td>Средний балл: 4Средний балл: 4</td>\n",
              "      <td>10.0</td>\n",
              "      <td>Москва, Московская область, Россия</td>\n",
              "      <td>0</td>\n",
              "      <td>NaN</td>\n",
              "      <td>NaN</td>\n",
              "      <td>NaN</td>\n",
              "      <td>NaN</td>\n",
              "    </tr>\n",
              "    <tr>\n",
              "      <th>1015</th>\n",
              "      <td>https://www.linkedin.com/in/ACoAABo_W58BPV1qgl...</td>\n",
              "      <td>lead data analyst</td>\n",
              "      <td>Светлана Щербакова</td>\n",
              "      <td>Senior IT-Recruiter, HR Team Lead, Ищейка, Хан...</td>\n",
              "      <td>ООО \"Грандстафф\", hr-yar.ru</td>\n",
              "      <td>Диплом ТОП-10 HH RU за 2020гДиплом ТОП-10 HH R...</td>\n",
              "      <td>18.0</td>\n",
              "      <td>Москва, Московская область, Россия</td>\n",
              "      <td>0</td>\n",
              "      <td>NaN</td>\n",
              "      <td>NaN</td>\n",
              "      <td>NaN</td>\n",
              "      <td>NaN</td>\n",
              "    </tr>\n",
              "    <tr>\n",
              "      <th>1045</th>\n",
              "      <td>https://www.linkedin.com/in/ACoAACNYFjcBVCG3y_...</td>\n",
              "      <td>lead web developer</td>\n",
              "      <td>Anna Veryazova</td>\n",
              "      <td>IT Recruiter</td>\n",
              "      <td>Polymedia</td>\n",
              "      <td>Tg @very_annTg @very_ann</td>\n",
              "      <td>5.0</td>\n",
              "      <td>Москва, Москва, Россия</td>\n",
              "      <td>0</td>\n",
              "      <td>NaN</td>\n",
              "      <td>NaN</td>\n",
              "      <td>NaN</td>\n",
              "      <td>NaN</td>\n",
              "    </tr>\n",
              "    <tr>\n",
              "      <th>1065</th>\n",
              "      <td>https://www.linkedin.com/in/ACoAABo_W58BPV1qgl...</td>\n",
              "      <td>lead web developer</td>\n",
              "      <td>Светлана Щербакова</td>\n",
              "      <td>Senior IT-Recruiter, HR Team Lead, Ищейка, Хан...</td>\n",
              "      <td>ООО \"Грандстафф\", hr-yar.ru</td>\n",
              "      <td>Диплом ТОП-10 HH RU за 2020гДиплом ТОП-10 HH R...</td>\n",
              "      <td>18.0</td>\n",
              "      <td>Москва, Московская область, Россия</td>\n",
              "      <td>0</td>\n",
              "      <td>NaN</td>\n",
              "      <td>NaN</td>\n",
              "      <td>NaN</td>\n",
              "      <td>NaN</td>\n",
              "    </tr>\n",
              "    <tr>\n",
              "      <th>1066</th>\n",
              "      <td>https://www.linkedin.com/in/ACoAACRzkCIB9dC740...</td>\n",
              "      <td>lead web developer</td>\n",
              "      <td>Екатерина Следзевская</td>\n",
              "      <td>IT Recruiter – Alfa bank</td>\n",
              "      <td>Alfa-Bank</td>\n",
              "      <td>Кадровое агентство по  подбору IT-персоналаКад...</td>\n",
              "      <td>12.0</td>\n",
              "      <td>Москва, Москва, Россия</td>\n",
              "      <td>0</td>\n",
              "      <td>NaN</td>\n",
              "      <td>NaN</td>\n",
              "      <td>NaN</td>\n",
              "      <td>NaN</td>\n",
              "    </tr>\n",
              "    <tr>\n",
              "      <th>1102</th>\n",
              "      <td>https://www.linkedin.com/in/ACoAAC_ztqMBiwmeUF...</td>\n",
              "      <td>lead web developer</td>\n",
              "      <td>Andrew Molchanov</td>\n",
              "      <td>Recruitment Manager at Kaspersky</td>\n",
              "      <td>Kaspersky</td>\n",
              "      <td>Друзья, всем хорошей пятницы! У нас открыта ва...</td>\n",
              "      <td>4.0</td>\n",
              "      <td>Москва, Москва, Россия</td>\n",
              "      <td>0</td>\n",
              "      <td>NaN</td>\n",
              "      <td>NaN</td>\n",
              "      <td>NaN</td>\n",
              "      <td>NaN</td>\n",
              "    </tr>\n",
              "    <tr>\n",
              "      <th>1113</th>\n",
              "      <td>https://www.linkedin.com/in/ACoAAA2hJXUBIL5ff_...</td>\n",
              "      <td>lead web developer</td>\n",
              "      <td>Nina Zamyslova</td>\n",
              "      <td>IT Recruitment Team Leader at Sberbank</td>\n",
              "      <td>Sberbank</td>\n",
              "      <td>Подтверждения навыков от участника Антон Мерца...</td>\n",
              "      <td>11.0</td>\n",
              "      <td>Москва, Москва, Россия</td>\n",
              "      <td>0</td>\n",
              "      <td>NaN</td>\n",
              "      <td>NaN</td>\n",
              "      <td>NaN</td>\n",
              "      <td>NaN</td>\n",
              "    </tr>\n",
              "    <tr>\n",
              "      <th>1121</th>\n",
              "      <td>https://www.linkedin.com/in/ACoAAAtUQegBHrdptC...</td>\n",
              "      <td>lead web developer</td>\n",
              "      <td>Наиля Гаджиева</td>\n",
              "      <td>Senior IT Recruiter/HR</td>\n",
              "      <td>МГОУ (Московский государственный открытый унив...</td>\n",
              "      <td>Средний балл: 4Средний балл: 4</td>\n",
              "      <td>10.0</td>\n",
              "      <td>Москва, Московская область, Россия</td>\n",
              "      <td>0</td>\n",
              "      <td>NaN</td>\n",
              "      <td>NaN</td>\n",
              "      <td>NaN</td>\n",
              "      <td>NaN</td>\n",
              "    </tr>\n",
              "    <tr>\n",
              "      <th>1128</th>\n",
              "      <td>https://www.linkedin.com/in/ACoAAAqhWrQB8mmVQS...</td>\n",
              "      <td>lead web developer</td>\n",
              "      <td>Kristina Korobko</td>\n",
              "      <td>Lead IT Recruiter</td>\n",
              "      <td>DreamTeam</td>\n",
              "      <td>•\\tkk@dream-team.tech•\\tTelegram: @kkorobko•\\t...</td>\n",
              "      <td>8.0</td>\n",
              "      <td>Россия</td>\n",
              "      <td>0</td>\n",
              "      <td>NaN</td>\n",
              "      <td>NaN</td>\n",
              "      <td>NaN</td>\n",
              "      <td>NaN</td>\n",
              "    </tr>\n",
              "    <tr>\n",
              "      <th>1161</th>\n",
              "      <td>https://www.linkedin.com/in/ACoAACoWT6EBuouS6J...</td>\n",
              "      <td>lead web developer</td>\n",
              "      <td>Yana Steshina</td>\n",
              "      <td>Team Lead Recruitment – Hi, Rockits!</td>\n",
              "      <td>Hi, Rockits!</td>\n",
              "      <td>Recruitment Lead in AI LaboratoryRecruitment L...</td>\n",
              "      <td>5.0</td>\n",
              "      <td>Москва, Московская область, Россия</td>\n",
              "      <td>0</td>\n",
              "      <td>NaN</td>\n",
              "      <td>NaN</td>\n",
              "      <td>NaN</td>\n",
              "      <td>NaN</td>\n",
              "    </tr>\n",
              "    <tr>\n",
              "      <th>1170</th>\n",
              "      <td>https://www.linkedin.com/in/ACoAABkz7KkBFOaZUx...</td>\n",
              "      <td>lead web developer</td>\n",
              "      <td>Anastasia Usoltseva</td>\n",
              "      <td>Senior Technical Recruiter (Armenia/Serbia)</td>\n",
              "      <td>Grid Dynamics</td>\n",
              "      <td>With nearly 5 years of experience in IT recrui...</td>\n",
              "      <td>9.0</td>\n",
              "      <td>Белград, Сербия</td>\n",
              "      <td>0</td>\n",
              "      <td>NaN</td>\n",
              "      <td>NaN</td>\n",
              "      <td>NaN</td>\n",
              "      <td>NaN</td>\n",
              "    </tr>\n",
              "    <tr>\n",
              "      <th>1234</th>\n",
              "      <td>https://www.linkedin.com/in/ACoAAA5tS24BDNRFJX...</td>\n",
              "      <td>lead web developer</td>\n",
              "      <td>Oksana Sovetnikova</td>\n",
              "      <td>Lead IT Recruiter – Jaxel</td>\n",
              "      <td>Jaxel</td>\n",
              "      <td>15000+ contactsWelcome =)15000+ contacts\\nWelc...</td>\n",
              "      <td>18.0</td>\n",
              "      <td>Санкт-Петербург, Санкт-Петербург, Россия</td>\n",
              "      <td>0</td>\n",
              "      <td>NaN</td>\n",
              "      <td>NaN</td>\n",
              "      <td>NaN</td>\n",
              "      <td>NaN</td>\n",
              "    </tr>\n",
              "    <tr>\n",
              "      <th>1246</th>\n",
              "      <td>https://www.linkedin.com/in/ACoAACX8UU8Bf0tpWo...</td>\n",
              "      <td>lead web developer</td>\n",
              "      <td>Елена Сорокина</td>\n",
              "      <td>Senior Recruiter (IT/Digital) - Municorn</td>\n",
              "      <td>Municorn</td>\n",
              "      <td>- Mentoring interns and junior recruiters;- Ma...</td>\n",
              "      <td>8.0</td>\n",
              "      <td>Лимасол, Кипр</td>\n",
              "      <td>0</td>\n",
              "      <td>NaN</td>\n",
              "      <td>NaN</td>\n",
              "      <td>NaN</td>\n",
              "      <td>NaN</td>\n",
              "    </tr>\n",
              "    <tr>\n",
              "      <th>1299</th>\n",
              "      <td>https://www.linkedin.com/in/ACoAAA5tS24BDNRFJX...</td>\n",
              "      <td>lead test engineer</td>\n",
              "      <td>Oksana Sovetnikova</td>\n",
              "      <td>Lead IT Recruiter – Jaxel</td>\n",
              "      <td>Jaxel</td>\n",
              "      <td>15000+ contactsWelcome =)15000+ contacts\\nWelc...</td>\n",
              "      <td>18.0</td>\n",
              "      <td>Санкт-Петербург, Санкт-Петербург, Россия</td>\n",
              "      <td>0</td>\n",
              "      <td>NaN</td>\n",
              "      <td>NaN</td>\n",
              "      <td>NaN</td>\n",
              "      <td>NaN</td>\n",
              "    </tr>\n",
              "    <tr>\n",
              "      <th>1312</th>\n",
              "      <td>https://www.linkedin.com/in/ACoAACX8UU8Bf0tpWo...</td>\n",
              "      <td>lead test engineer</td>\n",
              "      <td>Елена Сорокина</td>\n",
              "      <td>Senior Recruiter (IT/Digital) - Municorn</td>\n",
              "      <td>Municorn</td>\n",
              "      <td>- Mentoring interns and junior recruiters;- Ma...</td>\n",
              "      <td>8.0</td>\n",
              "      <td>Лимасол, Кипр</td>\n",
              "      <td>0</td>\n",
              "      <td>NaN</td>\n",
              "      <td>NaN</td>\n",
              "      <td>NaN</td>\n",
              "      <td>NaN</td>\n",
              "    </tr>\n",
              "    <tr>\n",
              "      <th>1347</th>\n",
              "      <td>https://www.linkedin.com/in/ACoAAAqhWrQB8mmVQS...</td>\n",
              "      <td>lead test engineer</td>\n",
              "      <td>Kristina Korobko</td>\n",
              "      <td>Lead IT Recruiter</td>\n",
              "      <td>DreamTeam</td>\n",
              "      <td>•\\tkk@dream-team.tech•\\tTelegram: @kkorobko•\\t...</td>\n",
              "      <td>8.0</td>\n",
              "      <td>Россия</td>\n",
              "      <td>0</td>\n",
              "      <td>NaN</td>\n",
              "      <td>NaN</td>\n",
              "      <td>NaN</td>\n",
              "      <td>NaN</td>\n",
              "    </tr>\n",
              "    <tr>\n",
              "      <th>1387</th>\n",
              "      <td>https://www.linkedin.com/in/ACoAABMKv8EBpp_zbd...</td>\n",
              "      <td>lead test engineer</td>\n",
              "      <td>Kira Stasenok</td>\n",
              "      <td>Head Of Recruitment and Adaptation (14000+)</td>\n",
              "      <td>r_keeper</td>\n",
              "      <td>IT HRIT HR</td>\n",
              "      <td>10.0</td>\n",
              "      <td>Москва, Московская область, Россия</td>\n",
              "      <td>0</td>\n",
              "      <td>NaN</td>\n",
              "      <td>NaN</td>\n",
              "      <td>NaN</td>\n",
              "      <td>NaN</td>\n",
              "    </tr>\n",
              "    <tr>\n",
              "      <th>1415</th>\n",
              "      <td>https://www.linkedin.com/in/ACoAAA2hJXUBIL5ff_...</td>\n",
              "      <td>lead test engineer</td>\n",
              "      <td>Nina Zamyslova</td>\n",
              "      <td>IT Recruitment Team Leader at Sberbank</td>\n",
              "      <td>Sberbank</td>\n",
              "      <td>Подтверждения навыков от участника Антон Мерца...</td>\n",
              "      <td>11.0</td>\n",
              "      <td>Москва, Москва, Россия</td>\n",
              "      <td>0</td>\n",
              "      <td>NaN</td>\n",
              "      <td>NaN</td>\n",
              "      <td>NaN</td>\n",
              "      <td>NaN</td>\n",
              "    </tr>\n",
              "    <tr>\n",
              "      <th>1435</th>\n",
              "      <td>https://www.linkedin.com/in/ACoAABkz7KkBFOaZUx...</td>\n",
              "      <td>lead test engineer</td>\n",
              "      <td>Anastasia Usoltseva</td>\n",
              "      <td>Senior Technical Recruiter (Armenia/Serbia)</td>\n",
              "      <td>Grid Dynamics</td>\n",
              "      <td>With nearly 5 years of experience in IT recrui...</td>\n",
              "      <td>9.0</td>\n",
              "      <td>Белград, Сербия</td>\n",
              "      <td>0</td>\n",
              "      <td>NaN</td>\n",
              "      <td>NaN</td>\n",
              "      <td>NaN</td>\n",
              "      <td>NaN</td>\n",
              "    </tr>\n",
              "    <tr>\n",
              "      <th>1437</th>\n",
              "      <td>https://www.linkedin.com/in/ACoAAAtUQegBHrdptC...</td>\n",
              "      <td>lead test engineer</td>\n",
              "      <td>Наиля Гаджиева</td>\n",
              "      <td>Senior IT Recruiter/HR</td>\n",
              "      <td>МГОУ (Московский государственный открытый унив...</td>\n",
              "      <td>Средний балл: 4Средний балл: 4</td>\n",
              "      <td>10.0</td>\n",
              "      <td>Москва, Московская область, Россия</td>\n",
              "      <td>0</td>\n",
              "      <td>NaN</td>\n",
              "      <td>NaN</td>\n",
              "      <td>NaN</td>\n",
              "      <td>NaN</td>\n",
              "    </tr>\n",
              "    <tr>\n",
              "      <th>1465</th>\n",
              "      <td>https://www.linkedin.com/in/ACoAACmcSgkBtHUGiR...</td>\n",
              "      <td>lead test engineer</td>\n",
              "      <td>Кристина Баклашова</td>\n",
              "      <td>IT Recruiter at GlobalCareer, Executive Search...</td>\n",
              "      <td>GlobalCareer, Executive Search</td>\n",
              "      <td>• Поиск IT-специалистов разного уровня • Сняти...</td>\n",
              "      <td>5.0</td>\n",
              "      <td>Россия</td>\n",
              "      <td>0</td>\n",
              "      <td>NaN</td>\n",
              "      <td>NaN</td>\n",
              "      <td>NaN</td>\n",
              "      <td>NaN</td>\n",
              "    </tr>\n",
              "    <tr>\n",
              "      <th>1504</th>\n",
              "      <td>https://www.linkedin.com/in/ACoAABMKv8EBpp_zbd...</td>\n",
              "      <td>lead devops</td>\n",
              "      <td>Kira Stasenok</td>\n",
              "      <td>Head Of Recruitment and Adaptation (14000+)</td>\n",
              "      <td>r_keeper</td>\n",
              "      <td>IT HRIT HR</td>\n",
              "      <td>10.0</td>\n",
              "      <td>Москва, Московская область, Россия</td>\n",
              "      <td>0</td>\n",
              "      <td>NaN</td>\n",
              "      <td>NaN</td>\n",
              "      <td>NaN</td>\n",
              "      <td>NaN</td>\n",
              "    </tr>\n",
              "    <tr>\n",
              "      <th>1511</th>\n",
              "      <td>https://www.linkedin.com/in/ACoAABo_W58BPV1qgl...</td>\n",
              "      <td>lead devops</td>\n",
              "      <td>Светлана Щербакова</td>\n",
              "      <td>Senior IT-Recruiter, HR Team Lead, Ищейка, Хан...</td>\n",
              "      <td>ООО \"Грандстафф\", hr-yar.ru</td>\n",
              "      <td>Диплом ТОП-10 HH RU за 2020гДиплом ТОП-10 HH R...</td>\n",
              "      <td>18.0</td>\n",
              "      <td>Москва, Московская область, Россия</td>\n",
              "      <td>0</td>\n",
              "      <td>NaN</td>\n",
              "      <td>NaN</td>\n",
              "      <td>NaN</td>\n",
              "      <td>NaN</td>\n",
              "    </tr>\n",
              "    <tr>\n",
              "      <th>1514</th>\n",
              "      <td>https://www.linkedin.com/in/ACoAAA5tS24BDNRFJX...</td>\n",
              "      <td>lead devops</td>\n",
              "      <td>Oksana Sovetnikova</td>\n",
              "      <td>Lead IT Recruiter – Jaxel</td>\n",
              "      <td>Jaxel</td>\n",
              "      <td>15000+ contactsWelcome =)15000+ contacts\\nWelc...</td>\n",
              "      <td>18.0</td>\n",
              "      <td>Санкт-Петербург, Санкт-Петербург, Россия</td>\n",
              "      <td>0</td>\n",
              "      <td>NaN</td>\n",
              "      <td>NaN</td>\n",
              "      <td>NaN</td>\n",
              "      <td>NaN</td>\n",
              "    </tr>\n",
              "    <tr>\n",
              "      <th>1748</th>\n",
              "      <td>https://www.linkedin.com/in/ACoAACRzkCIB9dC740...</td>\n",
              "      <td>senior ML engineer</td>\n",
              "      <td>Екатерина Следзевская</td>\n",
              "      <td>IT Recruiter – Alfa bank</td>\n",
              "      <td>Alfa-Bank</td>\n",
              "      <td>Кадровое агентство по  подбору IT-персоналаКад...</td>\n",
              "      <td>12.0</td>\n",
              "      <td>Москва, Москва, Россия</td>\n",
              "      <td>0</td>\n",
              "      <td>NaN</td>\n",
              "      <td>NaN</td>\n",
              "      <td>NaN</td>\n",
              "      <td>NaN</td>\n",
              "    </tr>\n",
              "    <tr>\n",
              "      <th>1771</th>\n",
              "      <td>https://www.linkedin.com/in/ACoAAC_ztqMBiwmeUF...</td>\n",
              "      <td>senior ML engineer</td>\n",
              "      <td>Andrew Molchanov</td>\n",
              "      <td>Recruitment Manager at Kaspersky</td>\n",
              "      <td>Kaspersky</td>\n",
              "      <td>Друзья, всем хорошей пятницы! У нас открыта ва...</td>\n",
              "      <td>4.0</td>\n",
              "      <td>Москва, Москва, Россия</td>\n",
              "      <td>0</td>\n",
              "      <td>NaN</td>\n",
              "      <td>NaN</td>\n",
              "      <td>NaN</td>\n",
              "      <td>NaN</td>\n",
              "    </tr>\n",
              "    <tr>\n",
              "      <th>1820</th>\n",
              "      <td>https://www.linkedin.com/in/ACoAACX8UU8Bf0tpWo...</td>\n",
              "      <td>senior ML engineer</td>\n",
              "      <td>Елена Сорокина</td>\n",
              "      <td>Senior Recruiter (IT/Digital) - Municorn</td>\n",
              "      <td>Municorn</td>\n",
              "      <td>- Mentoring interns and junior recruiters;- Ma...</td>\n",
              "      <td>8.0</td>\n",
              "      <td>Лимасол, Кипр</td>\n",
              "      <td>0</td>\n",
              "      <td>NaN</td>\n",
              "      <td>NaN</td>\n",
              "      <td>NaN</td>\n",
              "      <td>NaN</td>\n",
              "    </tr>\n",
              "    <tr>\n",
              "      <th>2054</th>\n",
              "      <td>https://www.linkedin.com/in/ACoAAA5tS24BDNRFJX...</td>\n",
              "      <td>senior backend</td>\n",
              "      <td>Oksana Sovetnikova</td>\n",
              "      <td>Lead IT Recruiter – Jaxel</td>\n",
              "      <td>Jaxel</td>\n",
              "      <td>15000+ contactsWelcome =)15000+ contacts\\nWelc...</td>\n",
              "      <td>18.0</td>\n",
              "      <td>Санкт-Петербург, Санкт-Петербург, Россия</td>\n",
              "      <td>0</td>\n",
              "      <td>NaN</td>\n",
              "      <td>NaN</td>\n",
              "      <td>NaN</td>\n",
              "      <td>NaN</td>\n",
              "    </tr>\n",
              "    <tr>\n",
              "      <th>2057</th>\n",
              "      <td>https://www.linkedin.com/in/ACoAAC_ztqMBiwmeUF...</td>\n",
              "      <td>senior backend</td>\n",
              "      <td>Andrew Molchanov</td>\n",
              "      <td>Recruitment Manager at Kaspersky</td>\n",
              "      <td>Kaspersky</td>\n",
              "      <td>Друзья, всем хорошей пятницы! У нас открыта ва...</td>\n",
              "      <td>4.0</td>\n",
              "      <td>Москва, Москва, Россия</td>\n",
              "      <td>0</td>\n",
              "      <td>NaN</td>\n",
              "      <td>NaN</td>\n",
              "      <td>NaN</td>\n",
              "      <td>NaN</td>\n",
              "    </tr>\n",
              "    <tr>\n",
              "      <th>2062</th>\n",
              "      <td>https://www.linkedin.com/in/ACoAACSbglsB1GwUeQ...</td>\n",
              "      <td>senior backend</td>\n",
              "      <td>Ирина Сафонова</td>\n",
              "      <td>Lead IT Recruiter – Группа компаний Орбита</td>\n",
              "      <td>Группа компаний Орбита</td>\n",
              "      <td>Для связи @IrenhrДля связи @Irenhr</td>\n",
              "      <td>7.0</td>\n",
              "      <td>Ростовская область, Россия</td>\n",
              "      <td>0</td>\n",
              "      <td>NaN</td>\n",
              "      <td>NaN</td>\n",
              "      <td>NaN</td>\n",
              "      <td>NaN</td>\n",
              "    </tr>\n",
              "  </tbody>\n",
              "</table>\n",
              "</div>\n",
              "      <button class=\"colab-df-convert\" onclick=\"convertToInteractive('df-e69bd64e-8e90-4832-858a-2b35f091665a')\"\n",
              "              title=\"Convert this dataframe to an interactive table.\"\n",
              "              style=\"display:none;\">\n",
              "        \n",
              "  <svg xmlns=\"http://www.w3.org/2000/svg\" height=\"24px\"viewBox=\"0 0 24 24\"\n",
              "       width=\"24px\">\n",
              "    <path d=\"M0 0h24v24H0V0z\" fill=\"none\"/>\n",
              "    <path d=\"M18.56 5.44l.94 2.06.94-2.06 2.06-.94-2.06-.94-.94-2.06-.94 2.06-2.06.94zm-11 1L8.5 8.5l.94-2.06 2.06-.94-2.06-.94L8.5 2.5l-.94 2.06-2.06.94zm10 10l.94 2.06.94-2.06 2.06-.94-2.06-.94-.94-2.06-.94 2.06-2.06.94z\"/><path d=\"M17.41 7.96l-1.37-1.37c-.4-.4-.92-.59-1.43-.59-.52 0-1.04.2-1.43.59L10.3 9.45l-7.72 7.72c-.78.78-.78 2.05 0 2.83L4 21.41c.39.39.9.59 1.41.59.51 0 1.02-.2 1.41-.59l7.78-7.78 2.81-2.81c.8-.78.8-2.07 0-2.86zM5.41 20L4 18.59l7.72-7.72 1.47 1.35L5.41 20z\"/>\n",
              "  </svg>\n",
              "      </button>\n",
              "      \n",
              "  <style>\n",
              "    .colab-df-container {\n",
              "      display:flex;\n",
              "      flex-wrap:wrap;\n",
              "      gap: 12px;\n",
              "    }\n",
              "\n",
              "    .colab-df-convert {\n",
              "      background-color: #E8F0FE;\n",
              "      border: none;\n",
              "      border-radius: 50%;\n",
              "      cursor: pointer;\n",
              "      display: none;\n",
              "      fill: #1967D2;\n",
              "      height: 32px;\n",
              "      padding: 0 0 0 0;\n",
              "      width: 32px;\n",
              "    }\n",
              "\n",
              "    .colab-df-convert:hover {\n",
              "      background-color: #E2EBFA;\n",
              "      box-shadow: 0px 1px 2px rgba(60, 64, 67, 0.3), 0px 1px 3px 1px rgba(60, 64, 67, 0.15);\n",
              "      fill: #174EA6;\n",
              "    }\n",
              "\n",
              "    [theme=dark] .colab-df-convert {\n",
              "      background-color: #3B4455;\n",
              "      fill: #D2E3FC;\n",
              "    }\n",
              "\n",
              "    [theme=dark] .colab-df-convert:hover {\n",
              "      background-color: #434B5C;\n",
              "      box-shadow: 0px 1px 3px 1px rgba(0, 0, 0, 0.15);\n",
              "      filter: drop-shadow(0px 1px 2px rgba(0, 0, 0, 0.3));\n",
              "      fill: #FFFFFF;\n",
              "    }\n",
              "  </style>\n",
              "\n",
              "      <script>\n",
              "        const buttonEl =\n",
              "          document.querySelector('#df-e69bd64e-8e90-4832-858a-2b35f091665a button.colab-df-convert');\n",
              "        buttonEl.style.display =\n",
              "          google.colab.kernel.accessAllowed ? 'block' : 'none';\n",
              "\n",
              "        async function convertToInteractive(key) {\n",
              "          const element = document.querySelector('#df-e69bd64e-8e90-4832-858a-2b35f091665a');\n",
              "          const dataTable =\n",
              "            await google.colab.kernel.invokeFunction('convertToInteractive',\n",
              "                                                     [key], {});\n",
              "          if (!dataTable) return;\n",
              "\n",
              "          const docLinkHtml = 'Like what you see? Visit the ' +\n",
              "            '<a target=\"_blank\" href=https://colab.research.google.com/notebooks/data_table.ipynb>data table notebook</a>'\n",
              "            + ' to learn more about interactive tables.';\n",
              "          element.innerHTML = '';\n",
              "          dataTable['output_type'] = 'display_data';\n",
              "          await google.colab.output.renderOutput(dataTable, element);\n",
              "          const docLink = document.createElement('div');\n",
              "          docLink.innerHTML = docLinkHtml;\n",
              "          element.appendChild(docLink);\n",
              "        }\n",
              "      </script>\n",
              "    </div>\n",
              "  </div>\n",
              "  "
            ]
          },
          "metadata": {},
          "execution_count": 25
        }
      ]
    },
    {
      "cell_type": "markdown",
      "source": [
        "Есть такие. Посмотрим сколько таких аккаунтов."
      ],
      "metadata": {
        "id": "O1vhcmFt-cqn"
      },
      "id": "O1vhcmFt-cqn"
    },
    {
      "cell_type": "code",
      "source": [
        "len(df[df['title'].str.contains('Recruiter')==True])"
      ],
      "metadata": {
        "colab": {
          "base_uri": "https://localhost:8080/"
        },
        "id": "ygixdpwCauip",
        "outputId": "2116301a-4624-4ce3-b9db-1dd834fa1062"
      },
      "id": "ygixdpwCauip",
      "execution_count": 26,
      "outputs": [
        {
          "output_type": "execute_result",
          "data": {
            "text/plain": [
              "34"
            ]
          },
          "metadata": {},
          "execution_count": 26
        }
      ]
    },
    {
      "cell_type": "markdown",
      "source": [
        "Почистим данные от рекрутеров."
      ],
      "metadata": {
        "id": "KajVg2q_-y19"
      },
      "id": "KajVg2q_-y19"
    },
    {
      "cell_type": "code",
      "source": [
        "df = df[df['title'].str.contains('Recruiter')==False]"
      ],
      "metadata": {
        "id": "KC83ZnLKarGJ"
      },
      "id": "KC83ZnLKarGJ",
      "execution_count": 27,
      "outputs": []
    },
    {
      "cell_type": "code",
      "source": [
        "df.shape"
      ],
      "metadata": {
        "colab": {
          "base_uri": "https://localhost:8080/"
        },
        "outputId": "1f999c59-8660-472b-c57d-0e34aeb64735",
        "id": "xIxFJ3vfazDz"
      },
      "execution_count": 28,
      "outputs": [
        {
          "output_type": "execute_result",
          "data": {
            "text/plain": [
              "(1338, 13)"
            ]
          },
          "metadata": {},
          "execution_count": 28
        }
      ],
      "id": "xIxFJ3vfazDz"
    },
    {
      "cell_type": "code",
      "source": [
        "df.account_link.nunique()"
      ],
      "metadata": {
        "colab": {
          "base_uri": "https://localhost:8080/"
        },
        "outputId": "c3332b9b-5e77-4801-93d2-ec2e294ee251",
        "id": "GObc-7-8azD0"
      },
      "execution_count": 29,
      "outputs": [
        {
          "output_type": "execute_result",
          "data": {
            "text/plain": [
              "695"
            ]
          },
          "metadata": {},
          "execution_count": 29
        }
      ],
      "id": "GObc-7-8azD0"
    },
    {
      "cell_type": "markdown",
      "source": [
        "Посмотрим на должности наших специалистов."
      ],
      "metadata": {
        "id": "wOXAua1V_C8E"
      },
      "id": "wOXAua1V_C8E"
    },
    {
      "cell_type": "code",
      "source": [
        "df.title.unique()"
      ],
      "metadata": {
        "colab": {
          "base_uri": "https://localhost:8080/"
        },
        "id": "0w8LFXXf_B_D",
        "outputId": "bbcd42f2-a905-4b44-f289-32d113733fa1"
      },
      "id": "0w8LFXXf_B_D",
      "execution_count": 30,
      "outputs": [
        {
          "output_type": "execute_result",
          "data": {
            "text/plain": [
              "array(['Senior Web Developer - IBS InfinitySoft',\n",
              "       'Data Analyst at X5 Group',\n",
              "       'MSc Data Science in University of East London | Data Scientist | Machine Learning Engineer | Deep Learning Engineer',\n",
              "       'Senior Test Automation Engineer at GlobalLogic',\n",
              "       'Senior QA Engineer - Deutsche Bank', 'Data Engineer',\n",
              "       'Javascript Software Engineer at EPAM Systems',\n",
              "       'Senior Frontend Developer', 'Senior Web Developer – Devart',\n",
              "       'Team Lead at Yandex', 'QA Engineer', 'Frontend developer',\n",
              "       'QA Engineer - Kupibilet.ru',\n",
              "       'ML Engineer | HSE University BSc Student',\n",
              "       'ML Engineer @ SberDevices',\n",
              "       'Team Lead | Data Analyst | Data Engineer | ML Engineer',\n",
              "       'Lead QA Engineer',\n",
              "       'Head of Mobile / Engineering Manager / Mobile Community Lead',\n",
              "       'Blockchain and Backend developer at RedSteep',\n",
              "       'Frontend Developer', 'IT-recruiter',\n",
              "       'Frontend Developer | JavaScript | React | Redux  | TypeScript',\n",
              "       'Frontend Developer (HTML, CSS, JS, React, Redux)',\n",
              "       'Frontend Engineer | React / Vue', 'Frontend Developer | Angular',\n",
              "       'Frontend Developer && JavaScript && React && Redux && TypeScript',\n",
              "       'Frontend Web Developer – Foxford',\n",
              "       'Frontend Developer – chatme.ai', 'Frontend Web Developer',\n",
              "       'Frontend developer | React | TS | JS',\n",
              "       'Frontend Developer | TG: @adadba',\n",
              "       'Frontend Developer | JavaScript | React | Redux | TypeScript | HTML | CSS',\n",
              "       'Frontend Developer React/Next | TypeScript/Javascript(ES6+)',\n",
              "       'Frontend Developer ( JS/TS, React, Vue)',\n",
              "       'Middle Frontend Developer', 'Frontend Developer - Ozon Tech',\n",
              "       'Frontend Developer at Gridnine Systems',\n",
              "       'Frontend developer (Vue.js)',\n",
              "       'Frontend Engineer at Yandex Delivery',\n",
              "       'Frontend Developer – ООО \"АйТи Сервис Менеджмент\"',\n",
              "       'Frontend Developer ( React | Redux | JavaScript | TypeScript )',\n",
              "       'Frontend Разработчик (Vue/React) | Заинтересован в Релокации/Удалённой работе',\n",
              "       'Frontend Dev in DM-Tech', 'Frontend Developer – Zyfra Company',\n",
              "       'Frontend Engineer – Avito',\n",
              "       'Frontend Web Developer (JavaScript, TypeScript, React, Redux, Python)',\n",
              "       'iOS, data engineer, data scientist', 'Frontend Developer | React',\n",
              "       'Frontend Developer experienced in Agile web development',\n",
              "       'Frontend Developer / React Developer / JavaScript Developer',\n",
              "       'Frontend JavaScript Developer',\n",
              "       'Frontend Developer – Mail.Ru Group',\n",
              "       'Frontend Developer — React | Typescript',\n",
              "       'Frontend Engineer – AliExpress Россия',\n",
              "       'Frontend разработчик | JS | React | Redux | TS | Express | Node |',\n",
              "       'Frontend Developer [Vue | React]',\n",
              "       'Frontend Developer (React/Redux)',\n",
              "       'Frontend Developer, Mentor, Content Creator',\n",
              "       'Frontend Developer в компании Ozon', 'Frontend Developer React',\n",
              "       'Project Manager | Business Analyst | 2+ years of experience in IT | Software development | Mobile | Web',\n",
              "       'Frontend Developer React | TypeScript | JavaScript',\n",
              "       'Data / product analyst | SQL | Python | Project manager',\n",
              "       'Frontend | TypeScript,React | tg: @yarmkhlv',\n",
              "       'Frontend Developer | TS & React',\n",
              "       'Frontend Developer at Nicotech International',\n",
              "       'Frontend React Software Engineer', 'Frontend developer - ЛАНИТ',\n",
              "       'Frontend Developer at SBER',\n",
              "       'Frontend Developer | JavaScript TypeScript React',\n",
              "       'Frontend Разработчик',\n",
              "       'Frontend developer - JavaScript | TypeScript | React',\n",
              "       'Senior Software Developer - Innotech',\n",
              "       'Software Developer at EPAM Systems', 'Senior Software Developer',\n",
              "       'Backend Developer', 'Backend Software Developer',\n",
              "       'backend разработка на Python', 'Backend Developer - Deloitte',\n",
              "       'Backend Developer at Replika', 'Software Developer',\n",
              "       'Backend разработчик (Python + Django, удаленно)',\n",
              "       'Backend Developer | Golang',\n",
              "       'Backend Developer (Scala/Java/Kotlin)', 'Java Backend Developer',\n",
              "       'Backend developer', 'Software Engineer | Go backend developer',\n",
              "       'Python Developer',\n",
              "       'Python Senior Software Engineer / Backend Team Lead',\n",
              "       'Backend Python Developer', 'Backend developer (Go/Python)',\n",
              "       'Backend разработчик / Python', 'Software Engineer at Yandex',\n",
              "       'Software Engineer', 'Backend Golang Developer',\n",
              "       'Backend developer 😼', 'Backend PHP Developer - Artsofte',\n",
              "       'Backend typescript node.js developer', 'Python Backend Developer',\n",
              "       'backend developer – Pyrus - Moving Work Forward',\n",
              "       'Senior Software Engineer', 'Python backend developer',\n",
              "       'Backend Python developer', 'Backend Engineer',\n",
              "       'Backend Developer (Python)', 'Аналитик данных',\n",
              "       'Backend Developer – BestDoctor',\n",
              "       'Senior Data Scientist | Python Backend - SberDevices',\n",
              "       'Frontend developer – Syntellect', 'Frontend разработчик',\n",
              "       'Frontend – Mail.Ru Group', 'Frontend Developer – SimbirSoft',\n",
              "       'Frontend Developer ООО\"Done\" | JS, React, Node.js, TypeScript  (telegram - @lvovik)',\n",
              "       'Software Developer | TypeScript | JavaScript | ReactJS | Docker | Redux | MobX | Websocket | REST API | Git',\n",
              "       'Frontend Developer (Vue)', 'Frontend Developer at RAMBLER&Co',\n",
              "       'Frontend developer | React | TypeScript',\n",
              "       'Frontend developer | В поиске | React',\n",
              "       'Frontend Developer (JavaScript React + Redux, Node.js)',\n",
              "       'Frontend developer(react, vue)', 'Frontend React Developer',\n",
              "       'Frontend developer | Vue.js', 'Frontend Developer – Tinkoff Bank',\n",
              "       'Frontend Developer – Софтерс',\n",
              "       'Frontend Developer в Yandex Afisha', 'frontend developer',\n",
              "       'Frontend Dev / tg: @nordinonroad',\n",
              "       'Frontend Engineer (React/effector)', 'Frontend Software Engineer',\n",
              "       'Frontend, react', 'Frontend Engineer',\n",
              "       'Frontend Developer | React | TypeScript',\n",
              "       'Senior Software Developer Team Lead – Accenture', '.',\n",
              "       'Python backend разработчик', 'Backend Developer – Game Insight',\n",
              "       'Backend Programmer – Betting Company BetBoom',\n",
              "       'Middle Backend Engineer (E4) - Avito',\n",
              "       'Senior Software Engineer (PHP/Golang/JS/TS)',\n",
              "       'Backend Developer | Python | Flask | FastApi | C',\n",
              "       'Full Stack Javascript Developer at Elbrus Coding Bootcamp',\n",
              "       'Team Lead Backend', 'Python / Django Developer',\n",
              "       'Backend Developer – Wheely', 'Backend engineer (Go)',\n",
              "       'Backend TL – OneTwoTrip', 'Software engineer',\n",
              "       'Middle Backend Golang Developer', 'Backend-Dev Golang',\n",
              "       'Data Scientist', 'Data scientist at Sber',\n",
              "       'Kaggle Contributor | Яндекс Практикум',\n",
              "       'Data Science/ Data Scientist/ Data Analyst',\n",
              "       'Financial Data Analyst | SQL | Tableau | TMT Industry | Developed projects for Mobile TeleSystems',\n",
              "       'ML Engineer at SberDevices', 'ML Engineer',\n",
              "       'Data Scientist \\\\ ML Engineer', 'ML engineer',\n",
              "       'Chief Data and Analytics Officer', 'Data Scientist | ML Engineer',\n",
              "       'Data scientist | Analyst | ML-engineer', 'Ml engineer – VK',\n",
              "       'Machine Learning  | Data Scientist',\n",
              "       'Senior ML Engineer — SberDevices', 'ML Engineer at МТС BigData',\n",
              "       'ML engineer @ Automacon', 'ML Research Engineer at IRA Labs',\n",
              "       'ML Engineer (NLP) at Gazprom', 'ML / DL / CV Engineer',\n",
              "       'Data science', 'ML Engineer at Yandex, YSDA 1st year',\n",
              "       'ML Engineer | Data Scientists', 'ML Engineer (Computer Vision)',\n",
              "       'Senior ML engineer - АО \"РТИ\"\\u200b',\n",
              "       'Senior Data Analyst | Team Lead',\n",
              "       'Senior Data Analyst at Alfa-Bank / Author: t.me/tagir_analyzes',\n",
              "       'Руководитель группы Performance маркетинга',\n",
              "       'Senior Data Analyst', 'Senior Web Developer', 'Head Of QA',\n",
              "       'Senior QA Engineer – IT_One',\n",
              "       'Студент (Московский Государственный Университет им. М.В. Ломоносова (МГУ))',\n",
              "       'Senior test engineer',\n",
              "       'Senior Automation Test Engineer – Kaspersky',\n",
              "       'Senior DevOps engineer',\n",
              "       'Senior DevOps Engineer – Лаборатория Касперского',\n",
              "       'Senior DevOps Engineer – SberCloud',\n",
              "       'Lead Frontend Engineer, 27 y.o.',\n",
              "       'iOS, data engineer, data scientist, java', 'Backend Team Lead',\n",
              "       'Frontend Developer at Streamerce', 'Lead Frontend Developer',\n",
              "       'Lead Frontend Engineer',\n",
              "       'Вакансии в России  (технологии: Java 8+, Spring, Hibernate, Oracle/Postgres)\\n\\nПоиск ИТ специалистов (Стек Java, JS, C#, C++, Python etc)',\n",
              "       'Frontend Lead', 'It recruiter', 'Lead Frontend Engineer (React)',\n",
              "       'Managing Director and Chairman of the Board / Author',\n",
              "       'Non-Artificial Intelligent Design',\n",
              "       'Frontend Tech Lead – Touchlane LLC',\n",
              "       'Lead Frontend Developer в компании Иннотех',\n",
              "       'Senior Quality Assurance Test Engineer(SDET) - Viewpoint Labs',\n",
              "       'Frontend Developer / Full stack Engineer',\n",
              "       'Lead Frontend Engineer | @OZON | Typescript, Vue, Accessibility | I help companies make a website more accessible and performant',\n",
              "       'FrontEnd Software Architect | Lead JavaScript developer',\n",
              "       'Manager Operations at TELUS',\n",
              "       'Frontend developer (Senior/Team Lead)', 'Frontend Team Lead',\n",
              "       'Head of Design', 'Lead Frontend Developer in Innotech',\n",
              "       'Frontend Developer at TwigTechPro',\n",
              "       'Lead Frontend Developer – VK',\n",
              "       'Technical Talent Huntress at Anchous Drive Recruitment',\n",
              "       'Team Lead / Senior Frontend Developer - Yandex',\n",
              "       'Tech Lead Frontend - UCHi.RU', 'Sr. Software Engineer at Criteo',\n",
              "       'Team Lead Frontend - Like Центр',\n",
              "       \"Lead Frontend team – ООО Алькор и Ко (Л'Этуаль)\",\n",
              "       'Frontend Tech Lead',\n",
              "       'Lead Frontend Developer – Sendsay - маркетинговая платформа',\n",
              "       'Team Lead Frontend',\n",
              "       'Frontend Developer at Domclick / React / JavaScript / TypeScript',\n",
              "       'Frontend Developer || React',\n",
              "       'Frontend Developer | JavaScript | TypeScript | React',\n",
              "       'ReactJS frontend developer | Redux |Thunk | CSS | TS | NodeJS | Webpack | Sass | Rest',\n",
              "       'Frontend Developer – Lumi Tarot',\n",
              "       'Продуктовый аналитик, аналитик данных',\n",
              "       'Frontend JavaScript Developer (React)',\n",
              "       'Frontend developer • TypeScript • React • Node JS • Docker',\n",
              "       'Frontend JavaScript Developer (React, Redux)',\n",
              "       'Frontend Web Developer в компании KOJO', 'Django & React',\n",
              "       'Frontend Developer - Transtelematica',\n",
              "       'Frontend Developer - JavaScript - TypeScript - React - Redux',\n",
              "       'Frontend developer (React, Redux, JS, TS)',\n",
              "       'Frontend Developer – ООО \"Этикетки24\"',\n",
              "       'Middle Frontend developer',\n",
              "       'Frontend Web Developer | JavaScript | TypeScript | React | Redux | HTML | CSS | Node.js | SQL',\n",
              "       'Junior Frontend Developer', 'Team Lead | Frontend Dev',\n",
              "       'Lead Data Analyst в компании Звук', 'Lead Data Analyst',\n",
              "       'Data Scientist | Data Analyst',\n",
              "       'Lead analyst / Data engineer at Ivolatility.com',\n",
              "       'Эксперт / Программист-аналитик / постановщик задач',\n",
              "       'В поисках программиста С++ (с навыками работы с аппаратной частью и ffmpeg)',\n",
              "       'IT-Recruitment Consultant – GlobalCareer',\n",
              "       '12К+/ IT recruiter / ИТ рекрутер / Career consultant / Карьерный консультант / Резюме на заказ',\n",
              "       'Lead Data Analyst - Sberbank', 'HR Professional',\n",
              "       'Lead Data Analyst at SberDevices',\n",
              "       'Senior Data Engineer (BigData)',\n",
              "       'Lead Data Analyst Ozon Holdings PLC', 'iOS developer',\n",
              "       'Lead Data Analyst/Data Engineer Team Lead – Ozon',\n",
              "       'Lead Data Analyst in Analytics department of Green Grey Holding',\n",
              "       'HR', 'Data Analyst Team Lead at Yandex',\n",
              "       'I help companies sell their products | Market Analytics Expert | CRM 2.0',\n",
              "       '17000+ | Комплексная помощь в поиске работы | im-konsalting.ru  | mail@im-konsalting.ru | WhatsApp/Telegram: 79643223069',\n",
              "       'Business analysis & planning | Lead Data Analyst',\n",
              "       'Data Architect | Data Analyst Team Lead | DWH',\n",
              "       'looking for new job', 'Data Analyst | Team Lead',\n",
              "       'Task Manager | BigData | Linux | Security | Analytics',\n",
              "       'Lead Data Analyst at Sberbank', 'Team Lead Data Analyst',\n",
              "       'Lead Data Analyst – Playrix',\n",
              "       'Руководитель подразделений маркетинга и стратегического развития в крупных компаниях на B2C рынке | 11 000+',\n",
              "       'Data analyst | Team Lead', 'Lead Data Analyst – Yandex.Lavka',\n",
              "       'Team lead, Data Analyst at Yandex',\n",
              "       'Руководитель проектов, Консультант. Логистика',\n",
              "       'Product Manager | iOS Engineer',\n",
              "       'Lead Data Analyst at Sber Analytics',\n",
              "       'Ведущий аналитик данных – Сбербанк России', 'Аналитик',\n",
              "       'Data Analyst at Citi | SQL | Python | GIT | Tableau | Statistics | A/B testing',\n",
              "       'Senior Data Analyst (Team Lead)',\n",
              "       'Строю крутые отделы продаж. Обучаю в формате «Реалити». Я - Владимир Якуба',\n",
              "       'iOS software engineer', 'Data Architect',\n",
              "       'Lead Data Analyst – Freshly', 'Data analyst',\n",
              "       'IT Recruitment Team Leader at Sberbank',\n",
              "       'Lead Data Analyst with 4+ years of experience | Open to relocation',\n",
              "       'Ведущий аналитик at Moscow City Telephone Network (MGTS)',\n",
              "       'Software Developer in Test (contractor, remote jobs)',\n",
              "       'Ведущий BI Аналитик - Tableau Certified Data Analyst',\n",
              "       'Data Analyst Team Lead at Сириус.Курсы',\n",
              "       'Data/Product Analyst (On the way to Analytics Team Lead 🤞)',\n",
              "       'HR Partner', 'Lead Data Analyst at Inkitt, ex-Yandex',\n",
              "       'Lead Data Analyst - Yandex', 'Build Engineer',\n",
              "       'Senior Data Analyst at VEZET',\n",
              "       'Data analyst, HSE alumni, esports lover',\n",
              "       'Data Analyst/Engineer at Sberbank',\n",
              "       'Data Analytics Team Lead at Ozon', 'Data Analyst • Research Lead',\n",
              "       'Executive search', 'HR Business Partner  – VK Play',\n",
              "       'Sr. Data Science Manager at Agoda | Ex-TOP-20 on Kaggle',\n",
              "       'Senior Software Engineer / iOS Developer / Swift, Objective-С / Open to new opportunities',\n",
              "       \"Data Analytics' Team Lead - Koshelek\",\n",
              "       'looking for new career opportunities',\n",
              "       'Специалист по найму персонала – V Kontakte LLC', 'PHP developer',\n",
              "       'Lead Web Developer at LEGENDA Intelligent Development',\n",
              "       'Lead Web Developer – ЦИТ ГУП \"Крымтехнологии\"\\u200b',\n",
              "       'Lead web developer at OK.RU', 'Lead Web Developer',\n",
              "       'Software Test Engineer / QA Engineer',\n",
              "       'Lead Web Developer – Mercury Development, LLC',\n",
              "       'Product Designer at Netflix | Judge at Awwwards',\n",
              "       'Talent Acquisition Manager at Smartcat', 'Frontend lead',\n",
              "       'Full stack web developer (TypeScript, JavaScript, Python, PHP, Go)',\n",
              "       'Web developer / Team Lead',\n",
              "       'Mail: tretiyakovaevgeniahr@gmail.com ТГ @Pantera131',\n",
              "       'Lead Web Developer – Mail.ru Group',\n",
              "       'Web Developer, Team Lead, Software Architect',\n",
              "       'Frontend Team Lead, Web developer', 'Senior Front-end Developer',\n",
              "       'Full Stack Web Developer/Team Lead',\n",
              "       'Software Developer – Моё Дело', 'Team Lead at Банк Точка',\n",
              "       'Lead Developer – 101XP', 'Lead Developer (Deus Ex Web)',\n",
              "       'Looking for a job. IT Sales Manager. Experience 26 years.',\n",
              "       'Team Lead/FullStack Web Developer',\n",
              "       'Ищу срочно: Главного геолога (изыскания)! Локация -Москва либо Тольятти',\n",
              "       '[PHP,JS] [Удаленно] Кодер всякой дичи',\n",
              "       'Full-stack Web-developer',\n",
              "       'Chief Technology Officer at SberMarket',\n",
              "       'HRD IT | Бизнес-коуч PCC ICF  | Наставник по самореализации',\n",
              "       'Full Stack Web Developer (PHP, JavaScript). Team Lead',\n",
              "       'Нужен Системный аналитик', 'Full Stack Web Developer',\n",
              "       'Разработка и продвижение сайтов. Консультируем по любым вопросам бесплатно.',\n",
              "       'Team Lead / Full Stack Web Developer',\n",
              "       'Senior web developer, team lead',\n",
              "       'Senior Web Developer, Team Lead',\n",
              "       'Senior Software Developer Team Lead – ADV/web-engineering co',\n",
              "       'Software Engineer | Ruby at VK', 'Lead Developer',\n",
              "       'HR BP at Freedom Finance Technologies, coach ICF',\n",
              "       'Lead Java Developer at Sberbank-Technology',\n",
              "       'Backend web developer - Delivery Club',\n",
              "       'Recruitment Manager at Kaspersky', 'FullStack Web Developer',\n",
              "       'Web developer (Go, PHP), Teamlead, Techlead',\n",
              "       'Looking for new opportunities', 'Senior web developer',\n",
              "       'Team Lead, fullstack web developer', 'Lead Developer at Coursmos',\n",
              "       'Lead backend developer - AWG', 'Web developer, Team Lead',\n",
              "       'Администратор', 'Ведущий специалист – ООО \"Новый импульс-50\"',\n",
              "       'software developer - Yandex', 'Full Stack Developer',\n",
              "       'Lead Web Developer at i-EXP', 'Golang Developer at Match Systems',\n",
              "       'Lead Golang developer',\n",
              "       'Сетевой архитектор | Сетевой инженер | HCIE RS',\n",
              "       'Lead Frontend Developer – Web Enthusiast',\n",
              "       'Executive at SPG Infotech', 'Buscado oportunidad',\n",
              "       'Full-Stack Web Developer', 'Lead Developer – Сантехкомплект',\n",
              "       'Frontend Developer (Angular)', 'Программист – ЭТП ГПБ',\n",
              "       'Lead Software Engineer – Acronis',\n",
              "       'Lead Web Developer – Arloid Automation',\n",
              "       'Web Developer at Sharecloth.com',\n",
              "       'Lead Web Developer at Haulmont Technology',\n",
              "       'Senior Quality Assurance Engineer',\n",
              "       'Lead Frontend developer – Tutu.ru',\n",
              "       'Lead Software Developer at Grid Dynamics',\n",
              "       'Fullstack Web developer at Государственное унитарное предприятие города Москвы \"Московский социальный регистр\"',\n",
              "       'Web Developer', 'Senior Frontend Developer, Team lead',\n",
              "       'Team Lead Recruitment – Hi, Rockits!', 'Developer',\n",
              "       'Lead Software Engineer at Checkbox Delivery',\n",
              "       'Lead Software Developer – WaveAccess',\n",
              "       'Software Engineer at Gett', 'Backend Developer - Citymobil',\n",
              "       'Lead Frontend Web Developer',\n",
              "       'Lead Web Developer at EPAM Systems',\n",
              "       'Lead FE developer/Team lead at GLOBUS mobile & web',\n",
              "       'Frontend Developer at Dostavista.global', 'Golang developer',\n",
              "       'Lead Software Developer – EPAM Systems',\n",
              "       'Fullstack web developer – Kaiten',\n",
              "       'Lead Web Developer – SimbirSoft',\n",
              "       'Full Stack JavaScript Developer',\n",
              "       'Карьерный ментор | Agile coach | Project manager | 12+ лет в IT',\n",
              "       'Backend lead – Ruport', 'Lead Front-end developer – 101XP',\n",
              "       '🚀 Senior Frontend Developer at Yandex', 'Lead Java Developer',\n",
              "       'Project Lead Developer at Green Light Group Tours', 'HRD',\n",
              "       'looking for a job in Machine Learning | IoT | Docker | Cloud computing | RedHat Linux | Ansible',\n",
              "       'Lead Backend Developer at Superjob.ru',\n",
              "       'WEB FULLSTACK | Node.JS | TS | React',\n",
              "       'Web Development Team Lead at Yandex',\n",
              "       'Web developer/Team Lead - WEB4PRO', 'Nodejs Backend Developer',\n",
              "       'Lead Frontend Developer in MTS', 'Working __REMOTELY__ worldwide',\n",
              "       'Senior Web Developer at BIG3',\n",
              "       'Spare Parts | Materials | Management',\n",
              "       'Lead frontend developer at Minimax94',\n",
              "       'Lead Web-developer at Original Works',\n",
              "       'Senior Web developer (PHP/MySQL , C#/MSSQL )',\n",
              "       'Frontend developer | Typescript | React',\n",
              "       'Frontend Developer – Strada Inc',\n",
              "       'Lead Software Engineer in Test', 'Lead Test Engineer',\n",
              "       'Lead Software Test Automation Engineer – EPAM Systems',\n",
              "       'Automation Test Team Lead – Kaspersky Lab',\n",
              "       'Software Development Engineer in Test',\n",
              "       'Lead Software Test Engineer at NDM Systems Inc.',\n",
              "       'Lead Software Test Engineer at ROKO Labs',\n",
              "       'Senior Backend Developer | Technical Lead',\n",
              "       'Helping companies to hire IT talents globally',\n",
              "       'Lead Test Engineer at Technoserv Consulting',\n",
              "       'Lead Software Developer Engineer in Test – Kaspersky',\n",
              "       'QA Lead Engineer / Test Manager – Sberbank-Technology',\n",
              "       'Lead Test Engineer at Flextronics', 'Logistics',\n",
              "       'Automated Testing', 'Blockchain solution architect',\n",
              "       'Lead Salesforce QA Engineer – Aquiva Labs',\n",
              "       'Senior QA Automation Engineer',\n",
              "       'Digital Marketing | UI UX Specialist',\n",
              "       'Lead Test Engineer at GlobalLogic', 'QA lead - Tinkoff',\n",
              "       'IT recruiter', 'Automation QA Engineer', 'iOS – X5 Retail Group',\n",
              "       'QA Engineer | Lead Test Engineer at Intelliarts',\n",
              "       'Looking for ✅  Senior Frontend React (remote)',\n",
              "       'Senior QA Test Engineer – СБЕР',\n",
              "       'Head Of Recruitment and Adaptation (14000+)',\n",
              "       'Lead Software Engineer – AliExpress Россия',\n",
              "       'Developer at Yandex', 'Quality Assurance Engineer',\n",
              "       'test engineer – IPG Photonics', 'Lead Software Test Engineer',\n",
              "       'Big Data Test Engineer', 'Quality Assurance Test Engineer',\n",
              "       'Senior Software Test Engineer – OnTarget LABS',\n",
              "       'Lead QA Engineer at Scalable Solutions AG',\n",
              "       'Lead Test Automation Engineer', 'Middle Web-analyst',\n",
              "       'Sr. SQA Engineer', 'Senior AI Test Engineer & QA Tech Lead',\n",
              "       'Lead Test Engineer / Senior Manual QA', 'Программист (C++)',\n",
              "       'QA Automation Lead Engineer – Quality Lab (Лаборатория Качества)',\n",
              "       'Full Stack Software Engineer - JavaScript, TypeScript, Angular, RxJs, NgRx, Redux.',\n",
              "       'QA Test Lead – Luxoft', 'Testing Engineer', 'IT рекрутер',\n",
              "       'QA Lead', 'Big Data Engineer | Lead Test Automation Engineer',\n",
              "       'Backend engineer Aviasales',\n",
              "       'Head of Mobile Department at OZON.ru',\n",
              "       'Commissioning Engineer – Siemens Energy',\n",
              "       'QA Automation Engineer', 'Lead QA Engineer at Talenttech',\n",
              "       'Senior QA Engineer – RJ games',\n",
              "       'Team Lead, Test engineer - BPC Banking Technologies',\n",
              "       'Lead EOL test engineer in Ford Russia',\n",
              "       'Performance Test Lead at 1CUPIS',\n",
              "       'Lead Test Automation Engineer– EPAM Systems',\n",
              "       'Senior QA Engineer / Test Lead – Ak Bars Digital Technologies',\n",
              "       'Lead Test Automation Engineer - EPAM Systems',\n",
              "       'Lead Software Test Engineer – EPAM Systems',\n",
              "       'DevOps Team Lead: Kubernetes, Cloud, BigData, IaC',\n",
              "       'Lead Developer at Leadific Solutions LLC',\n",
              "       'AWS Certified SysOps Administrator, AWS Certified Solutions Architect, Lead DevOps Engineer',\n",
              "       'Lead/Senior DevOps Engineer | CKA certified',\n",
              "       'Lead DevOps Engineer', 'Lead DevOps Engineer - Kaspersky',\n",
              "       'Самозанятый', 'Lead DevOps Engineer – Т1.Сфера',\n",
              "       'DevOps Team Lead', 'DevOps Team Lead – Yandex',\n",
              "       'Lead DevOps Engineer at Innotech', 'DevOps Lead',\n",
              "       'DevOPS Technical Lead', 'Lead DevOps Engineer at ЦИАН ГРУПП',\n",
              "       'DevOps team lead', 'Lead DevOps – Sberbank',\n",
              "       'Lead DevOps Specialist at IT_One', 'DevOps Engineer at Ormco',\n",
              "       'Lead of DevOps team – Arenadata',\n",
              "       'Lead Devops Engineer at Sberbank',\n",
              "       'Lead Software Engineer at Sberbank',\n",
              "       'Head of Cloud Infrastructure',\n",
              "       'Lead DevOps Engineer - appfollow.io', 'Team Lead DevOps',\n",
              "       'Lead DevOps Engineer – Netcracker', '<> frontend developer </>',\n",
              "       'Frontend Developer | React, Redux, JavaScript, TypeScript',\n",
              "       'Frontend Developer (React)',\n",
              "       'Frontend developer - JavaScript | TypeScript | React | Node.js',\n",
              "       'Frontend JavaScript Developer (React, Redux, MobX)',\n",
              "       'Frontend developer: js, react, redux/redux toolkit',\n",
              "       'Frontend Developer (React, Redux)',\n",
              "       'Frontend Teamlead at idaproject', 'Frontend Developer – Сбербанк',\n",
              "       'Frontend Developer | React | Redux | JavaScript | TypeScript | HTML | CSS | Node.js',\n",
              "       'Deep Learning Engineer', 'Machine Learning Engineer',\n",
              "       'Senior Software Developer/ML Engineer – Yandex',\n",
              "       'ML Engineering Team Lead', 'Senior ML Research Engineer',\n",
              "       'ML industry researcher/engineer', 'ML Developer',\n",
              "       'Senior machine learning engineer, Data Science engineer',\n",
              "       'Computer Vision Engineer',\n",
              "       'Senior ML Developer/Team Lead – Yandex',\n",
              "       'Team Lead / ML Engineer', 'ML Pipelines & Operations at Trustbit',\n",
              "       'Senior ML/Software Engineer',\n",
              "       'ML Engineer | Data Scientist | Python/Java/C++ Developer',\n",
              "       'Senior Engineer at Jaxel', 'Senior Data Engineer @ Ozon fresh',\n",
              "       'Data Scientist | Python @ Rosatom',\n",
              "       'Lead / Senior Software Developer', 'ML Engineer at Tinkoff Bank',\n",
              "       'Senior ML Engineer',\n",
              "       'ML/DS Engineer/Manager at Bank Russian Standard', 'Hi',\n",
              "       'Software Engineer | C++ | Microservices | Distributed Systems',\n",
              "       'ML Engineer at WaveAccess', 'ML engineer at VK',\n",
              "       'Senior ML Engineer @ Endeavour Group', 'ML researcher',\n",
              "       'Data Scientist / ML Engineer',\n",
              "       'Senior Data Scientist/ ML engineer/PhD student',\n",
              "       'Senior Data Scientist | ML Engineer | Specialization Lead at Grid Dynamics',\n",
              "       'Senior Data Scientist / NLP Engineer',\n",
              "       'Looking for ML Engineering roles in London',\n",
              "       'Senior Backend Developer – StreamLayer Inc., ex-DevExpress',\n",
              "       'Backend Junior C# developer',\n",
              "       'Senior Backend Magento Developer at Oggetto Web',\n",
              "       'Senior backend developer at AVITO.ru', 'Golang Backend Developer',\n",
              "       'software engineer', 'Backend Developer – OZON.ru',\n",
              "       'Senior Backend developer', 'Senior Backend Developer',\n",
              "       'Senior Software Engineer | Backend | Java | Kotlin | Spring Boot | Docker | Kubernetes',\n",
              "       'Full Stack Разработчик', 'Senior software developer',\n",
              "       'Software Engineer at EPAM Systems',\n",
              "       'Senior Backend Engineer at Toptal',\n",
              "       'Senior Software Engineer Team Lead',\n",
              "       'Senior software engineer (Java/Kotlin)',\n",
              "       'Senior Backend developer - Лига Цифровой Экономики',\n",
              "       'Senior backend developer - Delivery Club'], dtype=object)"
            ]
          },
          "metadata": {},
          "execution_count": 30
        }
      ]
    },
    {
      "cell_type": "code",
      "source": [
        "mistakes=['Ищу срочно: Главного геолога (изыскания)! Локация -Москва либо Тольятти', '17000+ | Комплексная помощь в поиске работы | im-konsalting.ru  | mail@im-konsalting.ru | WhatsApp/Telegram: 79643223069',\n",
        "            'Руководитель подразделений маркетинга и стратегического развития в крупных компаниях на B2C рынке | 11 000+','Строю крутые отделы продаж. Обучаю в формате «Реалити». Я - Владимир Якуба',\n",
        "            'Специалист по найму персонала – V Kontakte LLC',]\n",
        "df=df.query('title not in @mistakes')"
      ],
      "metadata": {
        "id": "hdekcOabeAcj"
      },
      "id": "hdekcOabeAcj",
      "execution_count": 31,
      "outputs": []
    },
    {
      "cell_type": "markdown",
      "source": [
        "Итого  наш предобработанный файл:"
      ],
      "metadata": {
        "id": "QUYMBGaTmGtv"
      },
      "id": "QUYMBGaTmGtv"
    },
    {
      "cell_type": "code",
      "source": [
        "df.shape"
      ],
      "metadata": {
        "colab": {
          "base_uri": "https://localhost:8080/"
        },
        "id": "7z_6qovGmK2E",
        "outputId": "4902697f-d5e7-48f5-bb9a-11085195cf1a"
      },
      "id": "7z_6qovGmK2E",
      "execution_count": 32,
      "outputs": [
        {
          "output_type": "execute_result",
          "data": {
            "text/plain": [
              "(1330, 13)"
            ]
          },
          "metadata": {},
          "execution_count": 32
        }
      ]
    },
    {
      "cell_type": "markdown",
      "source": [
        "Это 1330 строк."
      ],
      "metadata": {
        "id": "tLZ0e4qBmQef"
      },
      "id": "tLZ0e4qBmQef"
    },
    {
      "cell_type": "code",
      "source": [
        "df.account_link.nunique()"
      ],
      "metadata": {
        "colab": {
          "base_uri": "https://localhost:8080/"
        },
        "id": "XlUY1Q_QmP4f",
        "outputId": "e60846c2-f355-41c4-a800-89271f5861df"
      },
      "id": "XlUY1Q_QmP4f",
      "execution_count": 33,
      "outputs": [
        {
          "output_type": "execute_result",
          "data": {
            "text/plain": [
              "690"
            ]
          },
          "metadata": {},
          "execution_count": 33
        }
      ]
    },
    {
      "cell_type": "markdown",
      "source": [
        "690 уникальных пользователей."
      ],
      "metadata": {
        "id": "-nqsCj8kmhwB"
      },
      "id": "-nqsCj8kmhwB"
    },
    {
      "cell_type": "code",
      "source": [
        "df"
      ],
      "metadata": {
        "colab": {
          "base_uri": "https://localhost:8080/",
          "height": 1000
        },
        "id": "yHh1VgiCql19",
        "outputId": "aa7a4277-884b-458e-ca60-15a2cfe8d9a7"
      },
      "id": "yHh1VgiCql19",
      "execution_count": 34,
      "outputs": [
        {
          "output_type": "execute_result",
          "data": {
            "text/plain": [
              "                                           account_link       search_keywords  \\\n",
              "0     https://www.linkedin.com/in/varvara-kulmeteva-...  senior web developer   \n",
              "2          https://www.linkedin.com/in/denis-kuchkildin   middle data analyst   \n",
              "3     https://www.linkedin.com/in/ACoAAC4yJzEB4TjXkJ...    senior ML engineer   \n",
              "4            https://www.linkedin.com/in/oleg-malyshkin  senior test engineer   \n",
              "5            https://www.linkedin.com/in/oleg-malyshkin  senior test engineer   \n",
              "...                                                 ...                   ...   \n",
              "2075  https://www.linkedin.com/in/nikolay-kozlov-073...        senior backend   \n",
              "2077  https://www.linkedin.com/in/%D0%B0%D0%BD%D0%B4...        senior backend   \n",
              "2078  https://www.linkedin.com/in/%D1%8E%D1%80%D0%B8...        senior backend   \n",
              "2079  https://www.linkedin.com/in/%D1%8E%D1%80%D0%B8...        senior backend   \n",
              "2080  https://www.linkedin.com/in/ACoAAABL66UBL_E8vs...        senior backend   \n",
              "\n",
              "                   name                                              title  \\\n",
              "0     Varvara Kulmeteva            Senior Web Developer - IBS InfinitySoft   \n",
              "2      Denis Kuchkildin                           Data Analyst at X5 Group   \n",
              "3          Ian Silantev  MSc Data Science in University of East London ...   \n",
              "4        Oleg Malyshkin     Senior Test Automation Engineer at GlobalLogic   \n",
              "5        Oleg Malyshkin     Senior Test Automation Engineer at GlobalLogic   \n",
              "...                 ...                                                ...   \n",
              "2075     NIkolay Kozlov             Senior software engineer (Java/Kotlin)   \n",
              "2077       Андрей Пушин  Senior Backend developer - Лига Цифровой Эконо...   \n",
              "2078   Юрий Черногорцев           Senior backend developer - Delivery Club   \n",
              "2079   Юрий Черногорцев           Senior backend developer - Delivery Club   \n",
              "2080     Vsevolod Rymar                                     Head of Design   \n",
              "\n",
              "                              works_at  \\\n",
              "0                                  IBS   \n",
              "2                             X5 Group   \n",
              "3                            Neurospot   \n",
              "4                                  NaN   \n",
              "5                                  NaN   \n",
              "...                                ...   \n",
              "2075  The Software Development Company   \n",
              "2077           Лига Цифровой Экономики   \n",
              "2078                     Delivery Club   \n",
              "2079                     Delivery Club   \n",
              "2080                   Moscow Exchange   \n",
              "\n",
              "                                                  intro  experience  \\\n",
              "0     Навыки: ReactJS · JavaScript · HTML · CSSНавык...        10.0   \n",
              "2     I have a strong engineering background and mor...         6.0   \n",
              "3     Absolutely in love with Data Science, AI and M...         2.0   \n",
              "4     Hi everyone, I am Oleg Malyshkin - Senior Test...         4.0   \n",
              "5     Hi everyone, I am Oleg Malyshkin - Senior Test...         4.0   \n",
              "...                                                 ...         ...   \n",
              "2075  Senior software engineer with strong skills in...         7.0   \n",
              "2077  Разработка системы имитации сигналов летательн...         8.0   \n",
              "2078  Стек: PHP, GoLang, Javascript + jQuery, CSS, M...        12.0   \n",
              "2079  Стек: PHP, GoLang, Javascript + jQuery, CSS, M...        12.0   \n",
              "2080  My specialization and expertise are in Softwar...         6.0   \n",
              "\n",
              "                                    place  posts_cnt  \\\n",
              "0      Москва, Московская область, Россия          0   \n",
              "2                  Москва, Москва, Россия          1   \n",
              "3                         Тбилиси, Грузия          0   \n",
              "4                     Киев, Киев, Украина          9   \n",
              "5                     Киев, Киев, Украина          9   \n",
              "...                                   ...        ...   \n",
              "2075               Москва, Москва, Россия          0   \n",
              "2077  Королёв, Московская область, Россия          0   \n",
              "2078                      Бали, Индонезия          2   \n",
              "2079                      Бали, Индонезия          2   \n",
              "2080   Москва, Московская область, Россия          0   \n",
              "\n",
              "                                              post_text  reaction_cnt  \\\n",
              "0                                                   NaN           NaN   \n",
              "2     Hi everyone - I am looking for a new role and ...           NaN   \n",
              "3                                                   NaN           NaN   \n",
              "4     Finding a job for trainees and juniors is a ch...           1.0   \n",
              "5     Hi everyone!I am looking for a job as Junior U...           1.0   \n",
              "...                                                 ...           ...   \n",
              "2075                                                NaN           NaN   \n",
              "2077                                                NaN           NaN   \n",
              "2078  Hi everyone - I am looking for a new role and ...           3.0   \n",
              "2079                                                NaN           1.0   \n",
              "2080                                                NaN           NaN   \n",
              "\n",
              "      comments_cnt  repost_cnt  \n",
              "0              NaN         NaN  \n",
              "2              NaN         NaN  \n",
              "3              NaN         NaN  \n",
              "4              NaN         NaN  \n",
              "5              4.0         3.0  \n",
              "...            ...         ...  \n",
              "2075           NaN         NaN  \n",
              "2077           NaN         NaN  \n",
              "2078           1.0         1.0  \n",
              "2079           NaN         NaN  \n",
              "2080           NaN         NaN  \n",
              "\n",
              "[1330 rows x 13 columns]"
            ],
            "text/html": [
              "\n",
              "  <div id=\"df-694329d0-93e5-40f5-a3ad-ad90079b74f6\">\n",
              "    <div class=\"colab-df-container\">\n",
              "      <div>\n",
              "<style scoped>\n",
              "    .dataframe tbody tr th:only-of-type {\n",
              "        vertical-align: middle;\n",
              "    }\n",
              "\n",
              "    .dataframe tbody tr th {\n",
              "        vertical-align: top;\n",
              "    }\n",
              "\n",
              "    .dataframe thead th {\n",
              "        text-align: right;\n",
              "    }\n",
              "</style>\n",
              "<table border=\"1\" class=\"dataframe\">\n",
              "  <thead>\n",
              "    <tr style=\"text-align: right;\">\n",
              "      <th></th>\n",
              "      <th>account_link</th>\n",
              "      <th>search_keywords</th>\n",
              "      <th>name</th>\n",
              "      <th>title</th>\n",
              "      <th>works_at</th>\n",
              "      <th>intro</th>\n",
              "      <th>experience</th>\n",
              "      <th>place</th>\n",
              "      <th>posts_cnt</th>\n",
              "      <th>post_text</th>\n",
              "      <th>reaction_cnt</th>\n",
              "      <th>comments_cnt</th>\n",
              "      <th>repost_cnt</th>\n",
              "    </tr>\n",
              "  </thead>\n",
              "  <tbody>\n",
              "    <tr>\n",
              "      <th>0</th>\n",
              "      <td>https://www.linkedin.com/in/varvara-kulmeteva-...</td>\n",
              "      <td>senior web developer</td>\n",
              "      <td>Varvara Kulmeteva</td>\n",
              "      <td>Senior Web Developer - IBS InfinitySoft</td>\n",
              "      <td>IBS</td>\n",
              "      <td>Навыки: ReactJS · JavaScript · HTML · CSSНавык...</td>\n",
              "      <td>10.0</td>\n",
              "      <td>Москва, Московская область, Россия</td>\n",
              "      <td>0</td>\n",
              "      <td>NaN</td>\n",
              "      <td>NaN</td>\n",
              "      <td>NaN</td>\n",
              "      <td>NaN</td>\n",
              "    </tr>\n",
              "    <tr>\n",
              "      <th>2</th>\n",
              "      <td>https://www.linkedin.com/in/denis-kuchkildin</td>\n",
              "      <td>middle data analyst</td>\n",
              "      <td>Denis Kuchkildin</td>\n",
              "      <td>Data Analyst at X5 Group</td>\n",
              "      <td>X5 Group</td>\n",
              "      <td>I have a strong engineering background and mor...</td>\n",
              "      <td>6.0</td>\n",
              "      <td>Москва, Москва, Россия</td>\n",
              "      <td>1</td>\n",
              "      <td>Hi everyone - I am looking for a new role and ...</td>\n",
              "      <td>NaN</td>\n",
              "      <td>NaN</td>\n",
              "      <td>NaN</td>\n",
              "    </tr>\n",
              "    <tr>\n",
              "      <th>3</th>\n",
              "      <td>https://www.linkedin.com/in/ACoAAC4yJzEB4TjXkJ...</td>\n",
              "      <td>senior ML engineer</td>\n",
              "      <td>Ian Silantev</td>\n",
              "      <td>MSc Data Science in University of East London ...</td>\n",
              "      <td>Neurospot</td>\n",
              "      <td>Absolutely in love with Data Science, AI and M...</td>\n",
              "      <td>2.0</td>\n",
              "      <td>Тбилиси, Грузия</td>\n",
              "      <td>0</td>\n",
              "      <td>NaN</td>\n",
              "      <td>NaN</td>\n",
              "      <td>NaN</td>\n",
              "      <td>NaN</td>\n",
              "    </tr>\n",
              "    <tr>\n",
              "      <th>4</th>\n",
              "      <td>https://www.linkedin.com/in/oleg-malyshkin</td>\n",
              "      <td>senior test engineer</td>\n",
              "      <td>Oleg Malyshkin</td>\n",
              "      <td>Senior Test Automation Engineer at GlobalLogic</td>\n",
              "      <td>NaN</td>\n",
              "      <td>Hi everyone, I am Oleg Malyshkin - Senior Test...</td>\n",
              "      <td>4.0</td>\n",
              "      <td>Киев, Киев, Украина</td>\n",
              "      <td>9</td>\n",
              "      <td>Finding a job for trainees and juniors is a ch...</td>\n",
              "      <td>1.0</td>\n",
              "      <td>NaN</td>\n",
              "      <td>NaN</td>\n",
              "    </tr>\n",
              "    <tr>\n",
              "      <th>5</th>\n",
              "      <td>https://www.linkedin.com/in/oleg-malyshkin</td>\n",
              "      <td>senior test engineer</td>\n",
              "      <td>Oleg Malyshkin</td>\n",
              "      <td>Senior Test Automation Engineer at GlobalLogic</td>\n",
              "      <td>NaN</td>\n",
              "      <td>Hi everyone, I am Oleg Malyshkin - Senior Test...</td>\n",
              "      <td>4.0</td>\n",
              "      <td>Киев, Киев, Украина</td>\n",
              "      <td>9</td>\n",
              "      <td>Hi everyone!I am looking for a job as Junior U...</td>\n",
              "      <td>1.0</td>\n",
              "      <td>4.0</td>\n",
              "      <td>3.0</td>\n",
              "    </tr>\n",
              "    <tr>\n",
              "      <th>...</th>\n",
              "      <td>...</td>\n",
              "      <td>...</td>\n",
              "      <td>...</td>\n",
              "      <td>...</td>\n",
              "      <td>...</td>\n",
              "      <td>...</td>\n",
              "      <td>...</td>\n",
              "      <td>...</td>\n",
              "      <td>...</td>\n",
              "      <td>...</td>\n",
              "      <td>...</td>\n",
              "      <td>...</td>\n",
              "      <td>...</td>\n",
              "    </tr>\n",
              "    <tr>\n",
              "      <th>2075</th>\n",
              "      <td>https://www.linkedin.com/in/nikolay-kozlov-073...</td>\n",
              "      <td>senior backend</td>\n",
              "      <td>NIkolay Kozlov</td>\n",
              "      <td>Senior software engineer (Java/Kotlin)</td>\n",
              "      <td>The Software Development Company</td>\n",
              "      <td>Senior software engineer with strong skills in...</td>\n",
              "      <td>7.0</td>\n",
              "      <td>Москва, Москва, Россия</td>\n",
              "      <td>0</td>\n",
              "      <td>NaN</td>\n",
              "      <td>NaN</td>\n",
              "      <td>NaN</td>\n",
              "      <td>NaN</td>\n",
              "    </tr>\n",
              "    <tr>\n",
              "      <th>2077</th>\n",
              "      <td>https://www.linkedin.com/in/%D0%B0%D0%BD%D0%B4...</td>\n",
              "      <td>senior backend</td>\n",
              "      <td>Андрей Пушин</td>\n",
              "      <td>Senior Backend developer - Лига Цифровой Эконо...</td>\n",
              "      <td>Лига Цифровой Экономики</td>\n",
              "      <td>Разработка системы имитации сигналов летательн...</td>\n",
              "      <td>8.0</td>\n",
              "      <td>Королёв, Московская область, Россия</td>\n",
              "      <td>0</td>\n",
              "      <td>NaN</td>\n",
              "      <td>NaN</td>\n",
              "      <td>NaN</td>\n",
              "      <td>NaN</td>\n",
              "    </tr>\n",
              "    <tr>\n",
              "      <th>2078</th>\n",
              "      <td>https://www.linkedin.com/in/%D1%8E%D1%80%D0%B8...</td>\n",
              "      <td>senior backend</td>\n",
              "      <td>Юрий Черногорцев</td>\n",
              "      <td>Senior backend developer - Delivery Club</td>\n",
              "      <td>Delivery Club</td>\n",
              "      <td>Стек: PHP, GoLang, Javascript + jQuery, CSS, M...</td>\n",
              "      <td>12.0</td>\n",
              "      <td>Бали, Индонезия</td>\n",
              "      <td>2</td>\n",
              "      <td>Hi everyone - I am looking for a new role and ...</td>\n",
              "      <td>3.0</td>\n",
              "      <td>1.0</td>\n",
              "      <td>1.0</td>\n",
              "    </tr>\n",
              "    <tr>\n",
              "      <th>2079</th>\n",
              "      <td>https://www.linkedin.com/in/%D1%8E%D1%80%D0%B8...</td>\n",
              "      <td>senior backend</td>\n",
              "      <td>Юрий Черногорцев</td>\n",
              "      <td>Senior backend developer - Delivery Club</td>\n",
              "      <td>Delivery Club</td>\n",
              "      <td>Стек: PHP, GoLang, Javascript + jQuery, CSS, M...</td>\n",
              "      <td>12.0</td>\n",
              "      <td>Бали, Индонезия</td>\n",
              "      <td>2</td>\n",
              "      <td>NaN</td>\n",
              "      <td>1.0</td>\n",
              "      <td>NaN</td>\n",
              "      <td>NaN</td>\n",
              "    </tr>\n",
              "    <tr>\n",
              "      <th>2080</th>\n",
              "      <td>https://www.linkedin.com/in/ACoAAABL66UBL_E8vs...</td>\n",
              "      <td>senior backend</td>\n",
              "      <td>Vsevolod Rymar</td>\n",
              "      <td>Head of Design</td>\n",
              "      <td>Moscow Exchange</td>\n",
              "      <td>My specialization and expertise are in Softwar...</td>\n",
              "      <td>6.0</td>\n",
              "      <td>Москва, Московская область, Россия</td>\n",
              "      <td>0</td>\n",
              "      <td>NaN</td>\n",
              "      <td>NaN</td>\n",
              "      <td>NaN</td>\n",
              "      <td>NaN</td>\n",
              "    </tr>\n",
              "  </tbody>\n",
              "</table>\n",
              "<p>1330 rows × 13 columns</p>\n",
              "</div>\n",
              "      <button class=\"colab-df-convert\" onclick=\"convertToInteractive('df-694329d0-93e5-40f5-a3ad-ad90079b74f6')\"\n",
              "              title=\"Convert this dataframe to an interactive table.\"\n",
              "              style=\"display:none;\">\n",
              "        \n",
              "  <svg xmlns=\"http://www.w3.org/2000/svg\" height=\"24px\"viewBox=\"0 0 24 24\"\n",
              "       width=\"24px\">\n",
              "    <path d=\"M0 0h24v24H0V0z\" fill=\"none\"/>\n",
              "    <path d=\"M18.56 5.44l.94 2.06.94-2.06 2.06-.94-2.06-.94-.94-2.06-.94 2.06-2.06.94zm-11 1L8.5 8.5l.94-2.06 2.06-.94-2.06-.94L8.5 2.5l-.94 2.06-2.06.94zm10 10l.94 2.06.94-2.06 2.06-.94-2.06-.94-.94-2.06-.94 2.06-2.06.94z\"/><path d=\"M17.41 7.96l-1.37-1.37c-.4-.4-.92-.59-1.43-.59-.52 0-1.04.2-1.43.59L10.3 9.45l-7.72 7.72c-.78.78-.78 2.05 0 2.83L4 21.41c.39.39.9.59 1.41.59.51 0 1.02-.2 1.41-.59l7.78-7.78 2.81-2.81c.8-.78.8-2.07 0-2.86zM5.41 20L4 18.59l7.72-7.72 1.47 1.35L5.41 20z\"/>\n",
              "  </svg>\n",
              "      </button>\n",
              "      \n",
              "  <style>\n",
              "    .colab-df-container {\n",
              "      display:flex;\n",
              "      flex-wrap:wrap;\n",
              "      gap: 12px;\n",
              "    }\n",
              "\n",
              "    .colab-df-convert {\n",
              "      background-color: #E8F0FE;\n",
              "      border: none;\n",
              "      border-radius: 50%;\n",
              "      cursor: pointer;\n",
              "      display: none;\n",
              "      fill: #1967D2;\n",
              "      height: 32px;\n",
              "      padding: 0 0 0 0;\n",
              "      width: 32px;\n",
              "    }\n",
              "\n",
              "    .colab-df-convert:hover {\n",
              "      background-color: #E2EBFA;\n",
              "      box-shadow: 0px 1px 2px rgba(60, 64, 67, 0.3), 0px 1px 3px 1px rgba(60, 64, 67, 0.15);\n",
              "      fill: #174EA6;\n",
              "    }\n",
              "\n",
              "    [theme=dark] .colab-df-convert {\n",
              "      background-color: #3B4455;\n",
              "      fill: #D2E3FC;\n",
              "    }\n",
              "\n",
              "    [theme=dark] .colab-df-convert:hover {\n",
              "      background-color: #434B5C;\n",
              "      box-shadow: 0px 1px 3px 1px rgba(0, 0, 0, 0.15);\n",
              "      filter: drop-shadow(0px 1px 2px rgba(0, 0, 0, 0.3));\n",
              "      fill: #FFFFFF;\n",
              "    }\n",
              "  </style>\n",
              "\n",
              "      <script>\n",
              "        const buttonEl =\n",
              "          document.querySelector('#df-694329d0-93e5-40f5-a3ad-ad90079b74f6 button.colab-df-convert');\n",
              "        buttonEl.style.display =\n",
              "          google.colab.kernel.accessAllowed ? 'block' : 'none';\n",
              "\n",
              "        async function convertToInteractive(key) {\n",
              "          const element = document.querySelector('#df-694329d0-93e5-40f5-a3ad-ad90079b74f6');\n",
              "          const dataTable =\n",
              "            await google.colab.kernel.invokeFunction('convertToInteractive',\n",
              "                                                     [key], {});\n",
              "          if (!dataTable) return;\n",
              "\n",
              "          const docLinkHtml = 'Like what you see? Visit the ' +\n",
              "            '<a target=\"_blank\" href=https://colab.research.google.com/notebooks/data_table.ipynb>data table notebook</a>'\n",
              "            + ' to learn more about interactive tables.';\n",
              "          element.innerHTML = '';\n",
              "          dataTable['output_type'] = 'display_data';\n",
              "          await google.colab.output.renderOutput(dataTable, element);\n",
              "          const docLink = document.createElement('div');\n",
              "          docLink.innerHTML = docLinkHtml;\n",
              "          element.appendChild(docLink);\n",
              "        }\n",
              "      </script>\n",
              "    </div>\n",
              "  </div>\n",
              "  "
            ]
          },
          "metadata": {},
          "execution_count": 34
        }
      ]
    },
    {
      "cell_type": "markdown",
      "id": "9ee26cb6-e682-43ed-ba93-32212486112b",
      "metadata": {
        "id": "9ee26cb6-e682-43ed-ba93-32212486112b"
      },
      "source": [
        "## Подготовка текстов"
      ]
    },
    {
      "cell_type": "markdown",
      "id": "1fc70781-b907-46c4-a0f2-f235bf07e5ce",
      "metadata": {
        "id": "1fc70781-b907-46c4-a0f2-f235bf07e5ce"
      },
      "source": [
        "Проведем очистку текста, а также токенизацию и лемматизацию."
      ]
    },
    {
      "cell_type": "code",
      "execution_count": 35,
      "id": "dc7e7c2d-09d1-46b7-a653-60e5e66d3a60",
      "metadata": {
        "id": "dc7e7c2d-09d1-46b7-a653-60e5e66d3a60"
      },
      "outputs": [],
      "source": [
        "model = spacy.load('en_core_web_sm', disable=['ner', 'parser'])"
      ]
    },
    {
      "cell_type": "markdown",
      "id": "d51a353e-6397-4135-90f5-4d7a2f2676d8",
      "metadata": {
        "id": "d51a353e-6397-4135-90f5-4d7a2f2676d8"
      },
      "source": [
        "Складываем все посты в один список"
      ]
    },
    {
      "cell_type": "code",
      "source": [
        "df.post_text.isna().sum()"
      ],
      "metadata": {
        "colab": {
          "base_uri": "https://localhost:8080/"
        },
        "id": "GrRDOZkTt8VI",
        "outputId": "598d12fd-fd52-4f7c-bdbf-73e8cb262eb0"
      },
      "id": "GrRDOZkTt8VI",
      "execution_count": 36,
      "outputs": [
        {
          "output_type": "execute_result",
          "data": {
            "text/plain": [
              "814"
            ]
          },
          "metadata": {},
          "execution_count": 36
        }
      ]
    },
    {
      "cell_type": "code",
      "source": [
        "df[\"post_text\"] = df[\"post_text\"].dropna()"
      ],
      "metadata": {
        "id": "EjxXeZp6mLAy"
      },
      "id": "EjxXeZp6mLAy",
      "execution_count": 37,
      "outputs": []
    },
    {
      "cell_type": "code",
      "source": [
        "df[\"post_text\"]  = df[\"post_text\"] .astype('str')"
      ],
      "metadata": {
        "id": "tkhXUZckmYy8"
      },
      "id": "tkhXUZckmYy8",
      "execution_count": 38,
      "outputs": []
    },
    {
      "cell_type": "markdown",
      "source": [
        "Посмотрим на кол-во символов в постах."
      ],
      "metadata": {
        "id": "s629hG8pXi9P"
      },
      "id": "s629hG8pXi9P"
    },
    {
      "cell_type": "code",
      "source": [
        "df[\"symbols\"] = [len(x) for x in df['post_text']]"
      ],
      "metadata": {
        "id": "O0vyO1ALW_zr"
      },
      "execution_count": 39,
      "outputs": [],
      "id": "O0vyO1ALW_zr"
    },
    {
      "cell_type": "code",
      "source": [
        "sns.histplot(df.symbols, kde=True)\n",
        "plt.show()"
      ],
      "metadata": {
        "colab": {
          "base_uri": "https://localhost:8080/",
          "height": 449
        },
        "id": "grZv46eGXOD-",
        "outputId": "b9e75943-e832-4a7c-e5e8-33c4d8de0897"
      },
      "execution_count": 40,
      "outputs": [
        {
          "output_type": "display_data",
          "data": {
            "text/plain": [
              "<Figure size 640x480 with 1 Axes>"
            ],
            "image/png": "[encoded data removed]"
          },
          "metadata": {}
        }
      ],
      "id": "grZv46eGXOD-"
    },
    {
      "cell_type": "code",
      "source": [
        "sns.histplot(df[df.symbols<=100].symbols, kde=True)\n",
        "plt.show()"
      ],
      "metadata": {
        "colab": {
          "base_uri": "https://localhost:8080/",
          "height": 449
        },
        "id": "pdeQUOwMXqb8",
        "outputId": "9fbbead9-fa00-431a-d674-4199eadb89f5"
      },
      "execution_count": 61,
      "outputs": [
        {
          "output_type": "display_data",
          "data": {
            "text/plain": [
              "<Figure size 640x480 with 1 Axes>"
            ],
            "image/png": "[encoded data removed]"
          },
          "metadata": {}
        }
      ],
      "id": "pdeQUOwMXqb8"
    },
    {
      "cell_type": "code",
      "execution_count": 43,
      "id": "fd353ec5-8db2-4460-89f5-bc6f88df4e4c",
      "metadata": {
        "id": "fd353ec5-8db2-4460-89f5-bc6f88df4e4c"
      },
      "outputs": [],
      "source": [
        "texts = df[\"post_text\"].tolist()"
      ]
    },
    {
      "cell_type": "markdown",
      "source": [
        "Удалим знаки препинания, цифры и слова, содержащие цифры. Оставим только латиницу.\n"
      ],
      "metadata": {
        "id": "Th7EzxIwLX5s"
      },
      "id": "Th7EzxIwLX5s"
    },
    {
      "cell_type": "code",
      "source": [
        "res = []\n",
        "for doc in model.pipe(texts, disable=[\"tagger\", \"parser\"]):\n",
        "    res.append([token.lemma_ for token in doc])"
      ],
      "metadata": {
        "colab": {
          "base_uri": "https://localhost:8080/"
        },
        "id": "eFkXcHU1Pr1y",
        "outputId": "052cf36e-c75f-4c8e-bb64-3dcb33b1e41c"
      },
      "id": "eFkXcHU1Pr1y",
      "execution_count": 44,
      "outputs": [
        {
          "output_type": "stream",
          "name": "stderr",
          "text": [
            "/usr/local/lib/python3.10/dist-packages/spacy/pipeline/lemmatizer.py:211: UserWarning: [W108] The rule-based lemmatizer did not find POS annotation for one or more tokens. Check that your pipeline includes components that assign token.pos, typically 'tagger'+'attribute_ruler' or 'morphologizer'.\n",
            "  warnings.warn(Warnings.W108)\n"
          ]
        }
      ]
    },
    {
      "cell_type": "code",
      "source": [
        "with open(\"lemmas.json\", \"w\") as fid:\n",
        "    json.dump({\"lemmas\": res}, fid)"
      ],
      "metadata": {
        "id": "x6HIkUtvPxuQ"
      },
      "id": "x6HIkUtvPxuQ",
      "execution_count": 45,
      "outputs": []
    },
    {
      "cell_type": "code",
      "execution_count": 46,
      "metadata": {
        "id": "NZRaWAF0LgcP"
      },
      "outputs": [],
      "source": [
        "word_pattern = re.compile(\"^[a-zA-Z]*$\")\n",
        "def remove_symbols(doc):\n",
        "    return [token for token in doc if word_pattern.match(token)]\n",
        "texts = list(map(remove_symbols, res))\n",
        "corpus = list(map(remove_symbols, res))"
      ],
      "id": "NZRaWAF0LgcP"
    },
    {
      "cell_type": "code",
      "source": [
        "\", \".join(corpus[np.random.randint(len(corpus))])"
      ],
      "metadata": {
        "colab": {
          "base_uri": "https://localhost:8080/",
          "height": 35
        },
        "id": "tYFqEKwsMxIy",
        "outputId": "5827f79f-c246-4ce7-f077-e2a953c37086"
      },
      "id": "tYFqEKwsMxIy",
      "execution_count": 47,
      "outputs": [
        {
          "output_type": "execute_result",
          "data": {
            "text/plain": [
              "'nan'"
            ],
            "application/vnd.google.colaboratory.intrinsic+json": {
              "type": "string"
            }
          },
          "metadata": {},
          "execution_count": 47
        }
      ]
    },
    {
      "cell_type": "markdown",
      "id": "f4220f36-13fa-4a86-95f3-6d44d0bd83f6",
      "metadata": {
        "id": "f4220f36-13fa-4a86-95f3-6d44d0bd83f6"
      },
      "source": [
        "## Векторизация текстов"
      ]
    },
    {
      "cell_type": "markdown",
      "id": "c82a654f-912b-4d91-b3ad-0f67ed16b2d6",
      "metadata": {
        "id": "c82a654f-912b-4d91-b3ad-0f67ed16b2d6"
      },
      "source": [
        "Чтобы уменьшить размерность получаемой матрицы, добавим исключение стоп-слов."
      ]
    },
    {
      "cell_type": "code",
      "execution_count": 48,
      "id": "3555d293-13cd-4de7-82e5-10a32c349ded",
      "metadata": {
        "colab": {
          "base_uri": "https://localhost:8080/"
        },
        "id": "3555d293-13cd-4de7-82e5-10a32c349ded",
        "outputId": "5aef1379-5eba-495d-8241-2e5eb0fe0258"
      },
      "outputs": [
        {
          "output_type": "stream",
          "name": "stdout",
          "text": [
            "['i', 'me', 'my', 'myself', 'we', 'our', 'ours', 'ourselves', 'you', \"you're\", \"you've\", \"you'll\", \"you'd\", 'your', 'yours', 'yourself', 'yourselves', 'he', 'him', 'his', 'himself', 'she', \"she's\", 'her', 'hers', 'herself', 'it', \"it's\", 'its', 'itself', 'they', 'them', 'their', 'theirs', 'themselves', 'what', 'which', 'who', 'whom', 'this', 'that', \"that'll\", 'these', 'those', 'am', 'is', 'are', 'was', 'were', 'be', 'been', 'being', 'have', 'has', 'had', 'having', 'do', 'does', 'did', 'doing', 'a', 'an', 'the', 'and', 'but', 'if', 'or', 'because', 'as', 'until', 'while', 'of', 'at', 'by', 'for', 'with', 'about', 'against', 'between', 'into', 'through', 'during', 'before', 'after', 'above', 'below', 'to', 'from', 'up', 'down', 'in', 'out', 'on', 'off', 'over', 'under', 'again', 'further', 'then', 'once', 'here', 'there', 'when', 'where', 'why', 'how', 'all', 'any', 'both', 'each', 'few', 'more', 'most', 'other', 'some', 'such', 'no', 'nor', 'not', 'only', 'own', 'same', 'so', 'than', 'too', 'very', 's', 't', 'can', 'will', 'just', 'don', \"don't\", 'should', \"should've\", 'now', 'd', 'll', 'm', 'o', 're', 've', 'y', 'ain', 'aren', \"aren't\", 'couldn', \"couldn't\", 'didn', \"didn't\", 'doesn', \"doesn't\", 'hadn', \"hadn't\", 'hasn', \"hasn't\", 'haven', \"haven't\", 'isn', \"isn't\", 'ma', 'mightn', \"mightn't\", 'mustn', \"mustn't\", 'needn', \"needn't\", 'shan', \"shan't\", 'shouldn', \"shouldn't\", 'wasn', \"wasn't\", 'weren', \"weren't\", 'won', \"won't\", 'wouldn', \"wouldn't\"]\n"
          ]
        }
      ],
      "source": [
        "stop_words = stopwords.words('english')\n",
        "print(stop_words)"
      ]
    },
    {
      "cell_type": "code",
      "execution_count": 49,
      "id": "6bff388d-dd5a-438c-a5ce-b7d739452586",
      "metadata": {
        "id": "6bff388d-dd5a-438c-a5ce-b7d739452586"
      },
      "outputs": [],
      "source": [
        "tfidf = TfidfVectorizer(stop_words=stop_words, min_df=10, max_df=0.9)"
      ]
    },
    {
      "cell_type": "markdown",
      "id": "7468f8ba-4cb9-4a8b-8a65-e2e6fc40a87f",
      "metadata": {
        "id": "7468f8ba-4cb9-4a8b-8a65-e2e6fc40a87f"
      },
      "source": [
        "Т.е. TfIdfVectorizer принимает на вход список предложений, поэтому необходимо объединить списки слов, составляющих корпус, в предложения."
      ]
    },
    {
      "cell_type": "code",
      "execution_count": 50,
      "id": "3124cb24-dbc9-4043-abfc-ebacc41bf180",
      "metadata": {
        "collapsed": true,
        "jupyter": {
          "outputs_hidden": true
        },
        "tags": [],
        "colab": {
          "base_uri": "https://localhost:8080/"
        },
        "id": "3124cb24-dbc9-4043-abfc-ebacc41bf180",
        "outputId": "5b3e4d49-30e4-4395-c478-49b49d581d22"
      },
      "outputs": [
        {
          "output_type": "execute_result",
          "data": {
            "text/plain": [
              "['nan',\n",
              " 'hi everyone i am looking for a new role and would appreciate your support thank you in advance for any connections advice or opportunities you can offer opentowork',\n",
              " 'nan']"
            ]
          },
          "metadata": {},
          "execution_count": 50
        }
      ],
      "source": [
        "docs = [\" \".join(tokens) for tokens in corpus]\n",
        "docs[:3]"
      ]
    },
    {
      "cell_type": "code",
      "source": [
        "docs = list(filter(None, docs))"
      ],
      "metadata": {
        "id": "9CkPsFZ3Y0nn"
      },
      "id": "9CkPsFZ3Y0nn",
      "execution_count": 51,
      "outputs": []
    },
    {
      "cell_type": "code",
      "execution_count": 52,
      "id": "366d58eb-801e-461e-8cca-7db7feb520c1",
      "metadata": {
        "id": "366d58eb-801e-461e-8cca-7db7feb520c1"
      },
      "outputs": [],
      "source": [
        "x = tfidf.fit_transform(docs)"
      ]
    },
    {
      "cell_type": "code",
      "execution_count": 53,
      "id": "091efa54-5db8-423b-a9d3-e43b376a69a9",
      "metadata": {
        "colab": {
          "base_uri": "https://localhost:8080/"
        },
        "id": "091efa54-5db8-423b-a9d3-e43b376a69a9",
        "outputId": "55ba9883-a8f4-45bc-d5eb-d20ed065dc66"
      },
      "outputs": [
        {
          "output_type": "execute_result",
          "data": {
            "text/plain": [
              "(1326, 90)"
            ]
          },
          "metadata": {},
          "execution_count": 53
        }
      ],
      "source": [
        "x.shape"
      ]
    },
    {
      "cell_type": "markdown",
      "id": "dcdc3280-13fe-490a-a294-0e139d2a4e04",
      "metadata": {
        "id": "dcdc3280-13fe-490a-a294-0e139d2a4e04"
      },
      "source": [
        "Теперь составим словарь {id_токена: токен} - он пригодится нам позднее."
      ]
    },
    {
      "cell_type": "code",
      "execution_count": 54,
      "id": "60d3ead5-7d38-4417-b333-191e153da469",
      "metadata": {
        "id": "60d3ead5-7d38-4417-b333-191e153da469"
      },
      "outputs": [],
      "source": [
        "id2word = {i: token for i, token in enumerate(tfidf.get_feature_names_out())}"
      ]
    },
    {
      "cell_type": "markdown",
      "id": "835dc774-04ca-4486-820e-c053ae1c5299",
      "metadata": {
        "id": "835dc774-04ca-4486-820e-c053ae1c5299"
      },
      "source": [
        "## LDA"
      ]
    },
    {
      "cell_type": "markdown",
      "id": "5030b8e4-cdeb-4c6d-a6c2-3ea5bf72d9be",
      "metadata": {
        "id": "5030b8e4-cdeb-4c6d-a6c2-3ea5bf72d9be"
      },
      "source": [
        "Теперь можем запустить алгоритм LDA. Зададим количество тем равное 5."
      ]
    },
    {
      "cell_type": "code",
      "execution_count": 65,
      "id": "e2f92219-5f50-41d2-91be-5f07796ed677",
      "metadata": {
        "id": "e2f92219-5f50-41d2-91be-5f07796ed677"
      },
      "outputs": [],
      "source": [
        "n_topics = 3"
      ]
    },
    {
      "cell_type": "code",
      "execution_count": 66,
      "id": "95d47fc3-498c-46bc-933d-8aee42382350",
      "metadata": {
        "id": "95d47fc3-498c-46bc-933d-8aee42382350"
      },
      "outputs": [],
      "source": [
        "lda = LatentDirichletAllocation(n_components=n_topics, random_state=31)"
      ]
    },
    {
      "cell_type": "code",
      "execution_count": 67,
      "id": "9d510749-149f-42fb-b751-1488e7a886ee",
      "metadata": {
        "id": "9d510749-149f-42fb-b751-1488e7a886ee"
      },
      "outputs": [],
      "source": [
        "topics = lda.fit_transform(x)"
      ]
    },
    {
      "cell_type": "code",
      "execution_count": 68,
      "id": "589f0747-f262-4ce8-9a04-154f7a32831e",
      "metadata": {
        "colab": {
          "base_uri": "https://localhost:8080/"
        },
        "id": "589f0747-f262-4ce8-9a04-154f7a32831e",
        "outputId": "87412401-1567-4603-fde7-0c371e06e27c"
      },
      "outputs": [
        {
          "output_type": "execute_result",
          "data": {
            "text/plain": [
              "(1326, 3)"
            ]
          },
          "metadata": {},
          "execution_count": 68
        }
      ],
      "source": [
        "topics.shape"
      ]
    },
    {
      "cell_type": "markdown",
      "id": "879a33e7-8179-48ff-9f29-edf66ba34329",
      "metadata": {
        "id": "879a33e7-8179-48ff-9f29-edf66ba34329"
      },
      "source": [
        "### Ключевые слова"
      ]
    },
    {
      "cell_type": "code",
      "execution_count": 69,
      "id": "22943201-2961-46a2-b925-6a0c2f41c6f8",
      "metadata": {
        "colab": {
          "base_uri": "https://localhost:8080/"
        },
        "id": "22943201-2961-46a2-b925-6a0c2f41c6f8",
        "outputId": "cbcddd2e-d856-410d-f98d-a8a0ef8cf991"
      },
      "outputs": [
        {
          "output_type": "stream",
          "name": "stdout",
          "text": [
            "Тема 1 :\n",
            "advice, offer, engineer, appreciate, advance, thank, support, opentowork, hi, would, google, opportunities, machine, looking, everyone, learning, new, guru, coursera, cloud\n",
            "\n",
            " \n",
            "Тема 2 :\n",
            "good, functions, frontend, science, like, work, programming, developer, experience, course, spreadsheets, completed, javascript, know, time, sql, introduction, data, python, datacamp\n",
            "\n",
            " \n",
            "Тема 3 :\n",
            "opentowork, good, fundamentals, learn, introduction, web, post, want, get, job, javascript, programming, aws, see, skill, earned, badge, next, linkedinskillassessment, nan\n",
            "\n",
            " \n"
          ]
        }
      ],
      "source": [
        "for i in range(n_topics):\n",
        "    c = lda.components_[i, :]\n",
        "    topic_tokens = [id2word.get(token_id) for token_id in np.argsort(c)[-20:]]\n",
        "    print(\"Тема\",i+1, \":\")\n",
        "    print(\", \".join(topic_tokens))\n",
        "    print(\"\\n \")"
      ]
    },
    {
      "cell_type": "markdown",
      "id": "c79be3dc-87e2-4ff7-986e-eaee3e8b7b91",
      "metadata": {
        "id": "c79be3dc-87e2-4ff7-986e-eaee3e8b7b91"
      },
      "source": [
        "По полученным ключевым словам можно составить представление о содержании той или иной темы. Хотя иногда сочетания слов довольно странные )  "
      ]
    },
    {
      "cell_type": "markdown",
      "id": "34921b4f-2611-4a05-9ab2-7d4e4857a6cc",
      "metadata": {
        "id": "34921b4f-2611-4a05-9ab2-7d4e4857a6cc"
      },
      "source": [
        "### Типичные статьи"
      ]
    },
    {
      "cell_type": "markdown",
      "id": "201ebeab-f859-4b6c-8f24-213c875fee74",
      "metadata": {
        "id": "201ebeab-f859-4b6c-8f24-213c875fee74"
      },
      "source": [
        "Теперь для каждой темы возьмём по одному документу, который хорошо соответсвует этой теме. Для этого заглянем в массив _topics_."
      ]
    },
    {
      "cell_type": "code",
      "execution_count": 70,
      "id": "07d1a6e6-b179-44e7-8220-d8aff056bfa8",
      "metadata": {
        "colab": {
          "base_uri": "https://localhost:8080/"
        },
        "id": "07d1a6e6-b179-44e7-8220-d8aff056bfa8",
        "outputId": "cbe84ba9-04a4-4758-b194-b16416317349"
      },
      "outputs": [
        {
          "output_type": "stream",
          "name": "stdout",
          "text": [
            "Тема  0\n",
            "Hi everyone - I am looking for a new role and would appreciate your support. Thank you in advance for any connections, advice, or opportunities you can offer. #OpenToWork\n",
            "\n",
            "\n",
            "Тема  1\n",
            "It seems that the peak of the hype about the current version of chatGPT is over. And before OpenAI rolls out the next release, which in addition to text, seems to be able to do pictures and video, I want to voice a thought about the expectations of large language models. Someone finds a lot of the most unexpected applications for them, and someone says \"chatGPT is a useless dumbass, doesn't know basic things, can't solve logical problems\". But if you take what chatGPT can do as the part of the human brain that is responsible for speech, then chatGPT is already doing just fine. You don't have to expect outstanding abilities in logic, factual knowledge, mathematics, spatial orientation, etc.  As I see it, in solving the problem of creating general artificial intelligence, some chatGPT analogue will act as a convenient speech interface between humans, and more specialized things - \"skills\", like a notional Matlab, a data warehouse or home robot. Its task is to maintain the dialogue, translating from human to internal language of the respective skill, and vice versa.\n",
            "\n",
            "\n",
            "Тема  2\n",
            "I just earned a skill badge for Cascading Style Sheets (CSS)! Who's next? See how you do on a #LinkedInSkillAssessment.\n",
            "\n",
            "\n"
          ]
        }
      ],
      "source": [
        "for i in range(n_topics):\n",
        "    doc_id = np.argmax(topics[:, i])\n",
        "    print(\"Тема \", i)\n",
        "    print(df.iloc[doc_id][\"post_text\"])\n",
        "    print(\"\\n\")"
      ]
    },
    {
      "cell_type": "markdown",
      "id": "9d396f94-6583-448c-aed2-b7affa82e3b4",
      "metadata": {
        "id": "9d396f94-6583-448c-aed2-b7affa82e3b4"
      },
      "source": [
        "Типичные статьи, в целом хорошо согласуются с ключевыми словами, которые мы выделили. Например, первая выделенная тема - про египтологию и археологию.\n",
        " В тоже время, мы видим и очень короткие тексты, например 4 и 14. Это подсказывает дальнейшие шаги. Например:\n",
        "  - удалить из корпуса текстов очень короткие статьи. Чтобы правильно задать порог отсечения, необходимо построить распределение текстов по длине.   - возможно, ключевыми словами, на которые ориентировался алгоритм, стали названия информационных агентств - РБК и ИТАР-ТАСС. Стоит подумать о том, чтобы добавить эти слова в стоп-лист."
      ]
    },
    {
      "cell_type": "markdown",
      "id": "cde09df7-da5c-4002-9c6a-37d6b1ad39ea",
      "metadata": {
        "id": "cde09df7-da5c-4002-9c6a-37d6b1ad39ea"
      },
      "source": [
        "А ещё вы всегда можете сделать шаг назад и дополнить модель. Например:\n",
        "- пополнить список стоп-слов (просмотрите внимательно ключевые слова каждой из тем - нет ли там случайных слов?);\n",
        "- изменить настройки Tf-idF;\n",
        "- увеличить/уменьшить количество тем;\n",
        "- обучать LDA чуть дольше;\n",
        "- заменить LDA на другой алгоритм тематического моделирояни."
      ]
    },
    {
      "cell_type": "markdown",
      "id": "a5d040dd-5988-4107-b009-bf71da05d794",
      "metadata": {
        "id": "a5d040dd-5988-4107-b009-bf71da05d794"
      },
      "source": [
        "# Полезные ссылки\n",
        "\n",
        "- [Вики](https://ru.wikipedia.org/wiki/%D0%A2%D0%B5%D0%BC%D0%B0%D1%82%D0%B8%D1%87%D0%B5%D1%81%D0%BA%D0%BE%D0%B5_%D0%BC%D0%BE%D0%B4%D0%B5%D0%BB%D0%B8%D1%80%D0%BE%D0%B2%D0%B0%D0%BD%D0%B8%D0%B5)\n",
        "\n",
        "- [История о том, как прочитать 120 тысяч анекдотов и не рассмеяться раньше времени](https://habr.com/ru/companies/otus/articles/723306/)\n",
        "\n",
        "- [Видеоурок \"Анализ текстовых данных тематическое моделирование комментариев Вконтакте\"](https://www.youtube.com/watch?v=0DnfzQdbwQw)\n",
        "\n",
        "- [LDA в Sklearn](https://scikit-learn.org/0.16/modules/generated/sklearn.lda.LDA.html)\n",
        "\n",
        "- [Topic Modeling разными алгоритмами](https://scikit-learn.org/stable/auto_examples/applications/plot_topics_extraction_with_nmf_lda.html#sphx-glr-auto-examples-applications-plot-topics-extraction-with-nmf-lda-py)\n",
        "\n",
        "- [Более академическое описание тематического моделировния](http://www.machinelearning.ru/wiki/index.php?title=%D0%A2%D0%B5%D0%BC%D0%B0%D1%82%D0%B8%D1%87%D0%B5%D1%81%D0%BA%D0%BE%D0%B5_%D0%BC%D0%BE%D0%B4%D0%B5%D0%BB%D0%B8%D1%80%D0%BE%D0%B2%D0%B0%D0%BD%D0%B8%D0%B5)"
      ]
    },
    {
      "cell_type": "code",
      "execution_count": 60,
      "id": "d7641afc-f84a-4c3b-812c-d4f872338094",
      "metadata": {
        "id": "d7641afc-f84a-4c3b-812c-d4f872338094"
      },
      "outputs": [],
      "source": []
    }
  ],
  "metadata": {
    "kernelspec": {
      "display_name": "Python 3 (ipykernel)",
      "language": "python",
      "name": "python3"
    },
    "language_info": {
      "codemirror_mode": {
        "name": "ipython",
        "version": 3
      },
      "file_extension": ".py",
      "mimetype": "text/x-python",
      "name": "python",
      "nbconvert_exporter": "python",
      "pygments_lexer": "ipython3",
      "version": "3.9.16"
    },
    "toc-autonumbering": true,
    "colab": {
      "provenance": []
    }
  },
  "nbformat": 4,
  "nbformat_minor": 5
}