{
 "cells": [
  {
   "cell_type": "code",
   "execution_count": 1,
   "id": "66f57e32",
   "metadata": {},
   "outputs": [],
   "source": [
    "from bs4 import BeautifulSoup\n",
    "from selenium import webdriver\n",
    "from selenium.webdriver.common.by import By\n",
    "from selenium.webdriver.common.keys import Keys\n",
    "\n",
    "from selenium.webdriver.common.desired_capabilities import DesiredCapabilities\n",
    "\n",
    "import time\n",
    "import re\n",
    "import datetime"
   ]
  },
  {
   "cell_type": "code",
   "execution_count": 2,
   "id": "1d12b6ba",
   "metadata": {},
   "outputs": [],
   "source": [
    "SCROLL_PAUSE_TIME = 0.5"
   ]
  },
  {
   "cell_type": "code",
   "execution_count": 3,
   "id": "2be0f4f6",
   "metadata": {},
   "outputs": [],
   "source": [
    "caps = DesiredCapabilities().CHROME\n",
    "caps['pageLoadStrategy'] = 'eager'\n",
    "driver = webdriver.Chrome()\n",
    "driver.get(\"https://linkedin.com/uas/login\")"
   ]
  },
  {
   "cell_type": "code",
   "execution_count": 64,
   "id": "820aaccc",
   "metadata": {},
   "outputs": [],
   "source": [
    "profile_url = 'https://www.linkedin.com/in/igor-starodubtsev-89985911a'\n",
    "driver.get(profile_url)"
   ]
  },
  {
   "cell_type": "code",
   "execution_count": 65,
   "id": "c40cf8f5",
   "metadata": {},
   "outputs": [],
   "source": [
    "#pause to load!!1\n",
    "src = driver.page_source"
   ]
  },
  {
   "cell_type": "code",
   "execution_count": 66,
   "id": "27b22fc5",
   "metadata": {},
   "outputs": [],
   "source": [
    "soup = BeautifulSoup(src, \"lxml\")"
   ]
  },
  {
   "cell_type": "code",
   "execution_count": 67,
   "id": "0e74366e",
   "metadata": {},
   "outputs": [],
   "source": [
    "name = soup.find('div', {'class': 'pv-text-details__left-panel'}).find(\"h1\").get_text().strip()\n",
    "title = title = soup.find('div', {'class': 'pv-text-details__left-panel'}).find(\"div\", {'class': 'text-body-medium'})\\\n",
    "        .get_text().strip()\n",
    "works_at = soup.find('button', {'class': 'pv-text-details__right-panel-item-link'}).get_text().strip()\n",
    "intro = soup.find('div', {'class': 'pv-shared-text-with-see-more'}).get_text().strip()\n",
    "experience = (datetime.date.today().year\n",
    "              - int(min(re.findall('\\d{4}', soup.select('div#experience')[0].find_next('ul').get_text()))))\n",
    "place = soup.find('span', {'class': 'text-body-small inline t-black--light break-words'}).get_text().strip()"
   ]
  },
  {
   "cell_type": "code",
   "execution_count": 77,
   "id": "163576a8",
   "metadata": {},
   "outputs": [
    {
     "data": {
      "text/plain": [
       "['Igor Starodubtsev',\n",
       " 'QA Automation Lead & Senior QA Automation Engineer',\n",
       " 'Авито',\n",
       " 'Опыт работы:- Автоматическое тестирование Backend (Java/Groovy, JUnit/TestNg, RestAssured).- Тестирование UI (Selenide, TestContainers).- Нагрузочное тестирование (Gatling).- Тестирование отказоустойчивости.- Проектирование и реализация CI/CD (Jenkins Pipeline, Gitlab).- Миграция компонентов в kuberntes.- Спикер на Meetup-ах с докладами по CI/CD и нагрузочному тестированию.Из интересного, что сделал:- Настроил процесс CI/CD (Jenkins, Gitlab) до того момента, чтобы выпуск релиза нового компонента можно было сделать по \"кнопке\".- Внедрил нагрузочное тестирование с помощью Gatling в несколько команд, настроил весь процесс с момента запуска тестов, до получения автоматического анализа результатов нагрузочного тестирования. Перевел тесты со Scala на Java.- Внедрил тестирование отказоустойчивости. В том числе микросервисов, запущенных в Kubernetes.- Был ментором для многих сотрудников и участвовал в собеседованиях.Опыт работы:\\n- Автоматическое тестирование Backend (Java/Groovy, JUnit/TestNg, RestAssured).\\n- Тестирование UI (Selenide, TestContainers).\\n- Нагрузочное тестирование (Gatling).\\n- Тестирование отказоустойчивости.\\n- Проектирование и реализация CI/CD (Jenkins Pipeline, Gitlab).\\n- Миграция компонентов в kuberntes.\\n- Спикер на Meetup-ах с докладами по CI/CD и нагрузочному тестированию.\\n\\nИз интересного, что сделал:\\n- Настроил процесс CI/CD (Jenkins, Gitlab) до того момента, чтобы выпуск релиза нового компонента можно было сделать по \"кнопке\".\\n- Внедрил нагрузочное тестирование с помощью Gatling в несколько команд, настроил весь процесс с момента запуска тестов, до получения автоматического анализа результатов нагрузочного тестирования. Перевел тесты со Scala на Java.\\n- Внедрил тестирование отказоустойчивости. В том числе микросервисов, запущенных в Kubernetes.\\n- Был ментором для многих сотрудников и участвовал в собеседованиях.\\n\\n \\n          …См. еще',\n",
       " 15,\n",
       " 'Санкт-Петербург, Санкт-Петербург, Россия']"
      ]
     },
     "execution_count": 77,
     "metadata": {},
     "output_type": "execute_result"
    }
   ],
   "source": [
    "name = soup.find('div', {'class': 'pv-text-details__left-panel'}).find(\"h1\")\n",
    "if name is not None:\n",
    "    name = name.get_text().strip()\n",
    "title = soup.find('div', {'class': 'pv-text-details__left-panel'}).find(\"div\", {'class': 'text-body-medium'})\n",
    "if title is not None:\n",
    "    title = title.get_text().strip()\n",
    "works_at = soup.find('button', {'class': 'pv-text-details__right-panel-item-link'})\n",
    "if works_at is not None:\n",
    "    works_at = works_at.get_text().strip()\n",
    "intro = soup.find('div', {'class': 'pv-shared-text-with-see-more'})\n",
    "if intro is not None:\n",
    "    intro = intro.get_text().strip()\n",
    "experience = soup.select('div#experience')[0].find_next('ul')\n",
    "if experience is not None:\n",
    "    experience = datetime.date.today().year - int(min(re.findall('\\d{4}', experience.get_text())))\n",
    "place = soup.find('span', {'class': 'text-body-small inline t-black--light break-words'})\n",
    "if place is not None:\n",
    "    place = place.get_text().strip()\n",
    "personal_info = [name, title, works_at, intro, experience, place]\n",
    "personal_info"
   ]
  },
  {
   "cell_type": "code",
   "execution_count": 76,
   "id": "a32c5572",
   "metadata": {},
   "outputs": [
    {
     "data": {
      "text/plain": [
       "'Igor Starodubtsev'"
      ]
     },
     "execution_count": 76,
     "metadata": {},
     "output_type": "execute_result"
    }
   ],
   "source": [
    "name.get_text().strip()"
   ]
  },
  {
   "cell_type": "code",
   "execution_count": 60,
   "id": "edb56193",
   "metadata": {},
   "outputs": [],
   "source": [
    "some"
   ]
  },
  {
   "cell_type": "code",
   "execution_count": 50,
   "id": "f2482691",
   "metadata": {},
   "outputs": [
    {
     "data": {
      "text/plain": [
       "'Казанский национальный исследовательский технический университет им. А.Н.Туполева - КАИ'"
      ]
     },
     "execution_count": 50,
     "metadata": {},
     "output_type": "execute_result"
    }
   ],
   "source": [
    "works_at"
   ]
  },
  {
   "cell_type": "code",
   "execution_count": 30,
   "id": "0e04a8f3",
   "metadata": {},
   "outputs": [
    {
     "data": {
      "text/plain": [
       "'https://www.linkedin.com/in/vadim-sadykov/'"
      ]
     },
     "execution_count": 30,
     "metadata": {},
     "output_type": "execute_result"
    }
   ],
   "source": [
    "profile_url"
   ]
  },
  {
   "cell_type": "code",
   "execution_count": 31,
   "id": "1d969e62",
   "metadata": {},
   "outputs": [],
   "source": [
    "POSTS_URL_SUFFIX = '/recent-activity/all/'"
   ]
  },
  {
   "cell_type": "code",
   "execution_count": 32,
   "id": "4dd431fb",
   "metadata": {},
   "outputs": [],
   "source": [
    "driver.get(profile_url + POSTS_URL_SUFFIX)"
   ]
  },
  {
   "cell_type": "code",
   "execution_count": 334,
   "id": "2bf86e74",
   "metadata": {},
   "outputs": [],
   "source": [
    "html = driver.find_element(By.TAG_NAME, 'html')\n",
    "html.send_keys(Keys.END)"
   ]
  },
  {
   "cell_type": "code",
   "execution_count": 336,
   "id": "ef381f2b",
   "metadata": {},
   "outputs": [],
   "source": [
    "html.send_keys(Keys.END)"
   ]
  },
  {
   "cell_type": "code",
   "execution_count": 298,
   "id": "7490cfc8",
   "metadata": {
    "collapsed": true
   },
   "outputs": [
    {
     "ename": "JavascriptException",
     "evalue": "Message: javascript error: delta is not defined\n  (Session info: chrome=114.0.5735.134)\nStacktrace:\nBacktrace:\n\tGetHandleVerifier [0x005BA813+48355]\n\t(No symbol) [0x0054C4B1]\n\t(No symbol) [0x00455358]\n\t(No symbol) [0x004587A1]\n\t(No symbol) [0x0045A19B]\n\t(No symbol) [0x004AD279]\n\t(No symbol) [0x0049A73C]\n\t(No symbol) [0x004AC922]\n\t(No symbol) [0x0049A536]\n\t(No symbol) [0x004782DC]\n\t(No symbol) [0x004793DD]\n\tGetHandleVerifier [0x0081AABD+2539405]\n\tGetHandleVerifier [0x0085A78F+2800735]\n\tGetHandleVerifier [0x0085456C+2775612]\n\tGetHandleVerifier [0x006451E0+616112]\n\t(No symbol) [0x00555F8C]\n\t(No symbol) [0x00552328]\n\t(No symbol) [0x0055240B]\n\t(No symbol) [0x00544FF7]\n\tBaseThreadInitThunk [0x75D000C9+25]\n\tRtlGetAppContainerNamedObjectPath [0x773C7B4E+286]\n\tRtlGetAppContainerNamedObjectPath [0x773C7B1E+238]\n",
     "output_type": "error",
     "traceback": [
      "\u001b[1;31m---------------------------------------------------------------------------\u001b[0m",
      "\u001b[1;31mJavascriptException\u001b[0m                       Traceback (most recent call last)",
      "Cell \u001b[1;32mIn[298], line 5\u001b[0m\n\u001b[0;32m      3\u001b[0m \u001b[38;5;28;01mwhile\u001b[39;00m \u001b[38;5;28;01mTrue\u001b[39;00m:\n\u001b[0;32m      4\u001b[0m     delta \u001b[38;5;241m+\u001b[39m\u001b[38;5;241m=\u001b[39m \u001b[38;5;241m5000\u001b[39m\n\u001b[1;32m----> 5\u001b[0m     \u001b[43mdriver\u001b[49m\u001b[38;5;241;43m.\u001b[39;49m\u001b[43mexecute_script\u001b[49m\u001b[43m(\u001b[49m\u001b[38;5;124;43m\"\u001b[39;49m\u001b[38;5;124;43mwindow.scrollTo(0, document.body.scrollHeight + delta);\u001b[39;49m\u001b[38;5;124;43m\"\u001b[39;49m\u001b[43m)\u001b[49m\n\u001b[0;32m      6\u001b[0m     time\u001b[38;5;241m.\u001b[39msleep(SCROLL_PAUSE_TIME)\n\u001b[0;32m      7\u001b[0m     new_height \u001b[38;5;241m=\u001b[39m driver\u001b[38;5;241m.\u001b[39mexecute_script(\u001b[38;5;124m\"\u001b[39m\u001b[38;5;124mreturn document.body.scrollHeight\u001b[39m\u001b[38;5;124m\"\u001b[39m)\n",
      "File \u001b[1;32m~\\anaconda3\\envs\\practicum\\lib\\site-packages\\selenium\\webdriver\\remote\\webdriver.py:406\u001b[0m, in \u001b[0;36mWebDriver.execute_script\u001b[1;34m(self, script, *args)\u001b[0m\n\u001b[0;32m    403\u001b[0m converted_args \u001b[38;5;241m=\u001b[39m \u001b[38;5;28mlist\u001b[39m(args)\n\u001b[0;32m    404\u001b[0m command \u001b[38;5;241m=\u001b[39m Command\u001b[38;5;241m.\u001b[39mW3C_EXECUTE_SCRIPT\n\u001b[1;32m--> 406\u001b[0m \u001b[38;5;28;01mreturn\u001b[39;00m \u001b[38;5;28;43mself\u001b[39;49m\u001b[38;5;241;43m.\u001b[39;49m\u001b[43mexecute\u001b[49m\u001b[43m(\u001b[49m\u001b[43mcommand\u001b[49m\u001b[43m,\u001b[49m\u001b[43m \u001b[49m\u001b[43m{\u001b[49m\u001b[38;5;124;43m\"\u001b[39;49m\u001b[38;5;124;43mscript\u001b[39;49m\u001b[38;5;124;43m\"\u001b[39;49m\u001b[43m:\u001b[49m\u001b[43m \u001b[49m\u001b[43mscript\u001b[49m\u001b[43m,\u001b[49m\u001b[43m \u001b[49m\u001b[38;5;124;43m\"\u001b[39;49m\u001b[38;5;124;43margs\u001b[39;49m\u001b[38;5;124;43m\"\u001b[39;49m\u001b[43m:\u001b[49m\u001b[43m \u001b[49m\u001b[43mconverted_args\u001b[49m\u001b[43m}\u001b[49m\u001b[43m)\u001b[49m[\u001b[38;5;124m\"\u001b[39m\u001b[38;5;124mvalue\u001b[39m\u001b[38;5;124m\"\u001b[39m]\n",
      "File \u001b[1;32m~\\anaconda3\\envs\\practicum\\lib\\site-packages\\selenium\\webdriver\\remote\\webdriver.py:346\u001b[0m, in \u001b[0;36mWebDriver.execute\u001b[1;34m(self, driver_command, params)\u001b[0m\n\u001b[0;32m    344\u001b[0m response \u001b[38;5;241m=\u001b[39m \u001b[38;5;28mself\u001b[39m\u001b[38;5;241m.\u001b[39mcommand_executor\u001b[38;5;241m.\u001b[39mexecute(driver_command, params)\n\u001b[0;32m    345\u001b[0m \u001b[38;5;28;01mif\u001b[39;00m response:\n\u001b[1;32m--> 346\u001b[0m     \u001b[38;5;28;43mself\u001b[39;49m\u001b[38;5;241;43m.\u001b[39;49m\u001b[43merror_handler\u001b[49m\u001b[38;5;241;43m.\u001b[39;49m\u001b[43mcheck_response\u001b[49m\u001b[43m(\u001b[49m\u001b[43mresponse\u001b[49m\u001b[43m)\u001b[49m\n\u001b[0;32m    347\u001b[0m     response[\u001b[38;5;124m\"\u001b[39m\u001b[38;5;124mvalue\u001b[39m\u001b[38;5;124m\"\u001b[39m] \u001b[38;5;241m=\u001b[39m \u001b[38;5;28mself\u001b[39m\u001b[38;5;241m.\u001b[39m_unwrap_value(response\u001b[38;5;241m.\u001b[39mget(\u001b[38;5;124m\"\u001b[39m\u001b[38;5;124mvalue\u001b[39m\u001b[38;5;124m\"\u001b[39m, \u001b[38;5;28;01mNone\u001b[39;00m))\n\u001b[0;32m    348\u001b[0m     \u001b[38;5;28;01mreturn\u001b[39;00m response\n",
      "File \u001b[1;32m~\\anaconda3\\envs\\practicum\\lib\\site-packages\\selenium\\webdriver\\remote\\errorhandler.py:245\u001b[0m, in \u001b[0;36mErrorHandler.check_response\u001b[1;34m(self, response)\u001b[0m\n\u001b[0;32m    243\u001b[0m         alert_text \u001b[38;5;241m=\u001b[39m value[\u001b[38;5;124m\"\u001b[39m\u001b[38;5;124malert\u001b[39m\u001b[38;5;124m\"\u001b[39m]\u001b[38;5;241m.\u001b[39mget(\u001b[38;5;124m\"\u001b[39m\u001b[38;5;124mtext\u001b[39m\u001b[38;5;124m\"\u001b[39m)\n\u001b[0;32m    244\u001b[0m     \u001b[38;5;28;01mraise\u001b[39;00m exception_class(message, screen, stacktrace, alert_text)  \u001b[38;5;66;03m# type: ignore[call-arg]  # mypy is not smart enough here\u001b[39;00m\n\u001b[1;32m--> 245\u001b[0m \u001b[38;5;28;01mraise\u001b[39;00m exception_class(message, screen, stacktrace)\n",
      "\u001b[1;31mJavascriptException\u001b[0m: Message: javascript error: delta is not defined\n  (Session info: chrome=114.0.5735.134)\nStacktrace:\nBacktrace:\n\tGetHandleVerifier [0x005BA813+48355]\n\t(No symbol) [0x0054C4B1]\n\t(No symbol) [0x00455358]\n\t(No symbol) [0x004587A1]\n\t(No symbol) [0x0045A19B]\n\t(No symbol) [0x004AD279]\n\t(No symbol) [0x0049A73C]\n\t(No symbol) [0x004AC922]\n\t(No symbol) [0x0049A536]\n\t(No symbol) [0x004782DC]\n\t(No symbol) [0x004793DD]\n\tGetHandleVerifier [0x0081AABD+2539405]\n\tGetHandleVerifier [0x0085A78F+2800735]\n\tGetHandleVerifier [0x0085456C+2775612]\n\tGetHandleVerifier [0x006451E0+616112]\n\t(No symbol) [0x00555F8C]\n\t(No symbol) [0x00552328]\n\t(No symbol) [0x0055240B]\n\t(No symbol) [0x00544FF7]\n\tBaseThreadInitThunk [0x75D000C9+25]\n\tRtlGetAppContainerNamedObjectPath [0x773C7B4E+286]\n\tRtlGetAppContainerNamedObjectPath [0x773C7B1E+238]\n"
     ]
    }
   ],
   "source": [
    "last_height = driver.execute_script(\"return document.body.scrollHeight\")\n",
    "while True:\n",
    "    driver.execute_script(\"window.scrollTo(0, document.body.scrollHeight);\")\n",
    "    time.sleep(SCROLL_PAUSE_TIME)\n",
    "    new_height = driver.execute_script(\"return document.body.scrollHeight\")\n",
    "    if new_height == last_height:\n",
    "        break\n",
    "    last_height = new_height"
   ]
  },
  {
   "cell_type": "code",
   "execution_count": 337,
   "id": "b04ecc5f",
   "metadata": {},
   "outputs": [
    {
     "data": {
      "text/plain": [
       "23257"
      ]
     },
     "execution_count": 337,
     "metadata": {},
     "output_type": "execute_result"
    }
   ],
   "source": [
    "driver.execute_script(\"return document.body.scrollHeight\")"
   ]
  },
  {
   "cell_type": "code",
   "execution_count": 297,
   "id": "e7aac00f",
   "metadata": {},
   "outputs": [
    {
     "data": {
      "text/plain": [
       "7171"
      ]
     },
     "execution_count": 297,
     "metadata": {},
     "output_type": "execute_result"
    }
   ],
   "source": [
    "driver.execute_script(\"return document.body.scrollHeight\")"
   ]
  },
  {
   "cell_type": "code",
   "execution_count": 338,
   "id": "6dbe0832",
   "metadata": {},
   "outputs": [],
   "source": [
    "driver.execute_script(\"window.scrollTo(0, document.body.scrollHeight - 1500);\")"
   ]
  },
  {
   "cell_type": "code",
   "execution_count": 333,
   "id": "0ae483c5",
   "metadata": {},
   "outputs": [],
   "source": [
    "driver.find_element(By.CLASS_NAME, 'scaffold-finite-scroll__load-button').click()"
   ]
  },
  {
   "cell_type": "code",
   "execution_count": 33,
   "id": "4c5ba858",
   "metadata": {},
   "outputs": [],
   "source": [
    "src = driver.page_source"
   ]
  },
  {
   "cell_type": "code",
   "execution_count": 34,
   "id": "fd936d49",
   "metadata": {},
   "outputs": [],
   "source": [
    "soup = BeautifulSoup(src, 'lxml')"
   ]
  },
  {
   "cell_type": "code",
   "execution_count": 35,
   "id": "175dc095",
   "metadata": {},
   "outputs": [],
   "source": [
    "posts = soup.find_all('li', class_='profile-creator-shared-feed-update__container')"
   ]
  },
  {
   "cell_type": "code",
   "execution_count": 38,
   "id": "9457218d",
   "metadata": {},
   "outputs": [
    {
     "name": "stdout",
     "output_type": "stream",
     "text": [
      "Number of posts: 0\n"
     ]
    }
   ],
   "source": [
    "print(f'Number of posts: {len(posts)}')"
   ]
  },
  {
   "cell_type": "code",
   "execution_count": null,
   "id": "ed50c765",
   "metadata": {},
   "outputs": [],
   "source": [
    "social-details-social-counts__reactions\n",
    "social-details-social-counts__comments\n",
    "social-details-social-counts__item social-details-social-counts__item--with-social-proof"
   ]
  },
  {
   "cell_type": "code",
   "execution_count": 40,
   "id": "c9333b38",
   "metadata": {},
   "outputs": [],
   "source": [
    "for post_src in posts:\n",
    "        post_text_div = post_src.find('div', {'class': 'feed-shared-update-v2__description-wrapper mr2'})\n",
    "\n",
    "        # if post_text_div is None:\n",
    "        #     print(post_src)\n",
    "\n",
    "        if post_text_div is not None:\n",
    "            post_text = post_text_div.find('span', {'dir': 'ltr'})\n",
    "        else:\n",
    "            post_text = None\n",
    "\n",
    "        # If post text is found\n",
    "        if post_text is not None:\n",
    "            post_text = post_text.get_text().strip()\n",
    "        print(f'Post text: {post_text}')\n",
    "\n",
    "        reaction_cnt = post_src.find('li', {'class': 'social-details-social-counts__reactions'})\n",
    "\n",
    "        # If number of reactions is written as text\n",
    "        # It has different class name\n",
    "        #if reaction_cnt is None:\n",
    "        #    reaction_cnt = post_src.find('span', {'class': 'social-details-social-counts__social-proof-text'})\n",
    "\n",
    "        if reaction_cnt is not None:\n",
    "            reaction_cnt = reaction_cnt.get_text().strip()\n",
    "        print(f'Reactions: {reaction_cnt}')\n",
    "        \n",
    "        comments_cnt = post_src.find('li', {'class': 'social-details-social-counts__comments'})\n",
    "        if comments_cnt is not None:\n",
    "            comments_cnt = comments_cnt.get_text().strip()\n",
    "        print(f'Reactions: {comments_cnt}')\n",
    "        \n",
    "        repost_cnt = post_src.find('li', {'class': 'social-details-social-counts__item social-details-social-counts__item--with-social-proof'})\n",
    "        if repost_cnt is not None:\n",
    "            repost_cnt = repost_cnt.get_text().strip()\n",
    "        print(f'Reactions: {repost_cnt}')\n",
    "        print('=' * 50)"
   ]
  },
  {
   "cell_type": "code",
   "execution_count": 204,
   "id": "ef8ccbef",
   "metadata": {},
   "outputs": [],
   "source": [
    "def get_and_print_profile_info(driver, profile_url):\n",
    "    driver.get(profile_url)        # this will open the link\n",
    "\n",
    "    # Extracting data from page with BeautifulSoup\n",
    "    src = driver.page_source\n",
    "\n",
    "    # Now using beautiful soup\n",
    "    soup = BeautifulSoup(src, 'lxml')\n",
    "\n",
    "    # Extracting the HTML of the complete introduction box\n",
    "    # that contains the name, company name, and the location\n",
    "    intro = soup.find('div', {'class': 'pv-text-details__left-panel'})\n",
    "\n",
    "    # print(intro)\n",
    "\n",
    "    # In case of an error, try changing the tags used here.\n",
    "    name_loc = intro.find(\"h1\")\n",
    "\n",
    "    # Extracting the Name\n",
    "    name = name_loc.get_text().strip()\n",
    "    # strip() is used to remove any extra blank spaces\n",
    "\n",
    "    works_at_loc = intro.find(\"div\", {'class': 'text-body-medium'})\n",
    "\n",
    "    # this gives us the HTML of the tag in which the Company Name is present\n",
    "    # Extracting the Company Name\n",
    "    works_at = works_at_loc.get_text().strip()\n",
    "\n",
    "    print(\"Name -->\", name,\n",
    "          \"\\nWorks At -->\", works_at)\n",
    "\n",
    "    POSTS_URL_SUFFIX = 'recent-activity/all/'\n",
    "\n",
    "    time.sleep(0.5)\n",
    "\n",
    "    # Get current url from browser\n",
    "    cur_profile_url = driver.current_url\n",
    "    print(cur_profile_url)\n",
    "\n",
    "    # Parse posts\n",
    "    get_and_print_user_posts(driver, cur_profile_url + POSTS_URL_SUFFIX)\n",
    "\n",
    "\n",
    "def get_and_print_user_posts(driver, posts_url):\n",
    "    driver.get(posts_url)\n",
    "\n",
    "    # Simulate scrolling to capture all posts\n",
    "    SCROLL_PAUSE_TIME = 1.5\n",
    "\n",
    "    # Get scroll height\n",
    "    last_height = driver.execute_script(\"return document.body.scrollHeight\")\n",
    "\n",
    "    # We can adjust this number to get more posts\n",
    "    NUM_SCROLLS = 5\n",
    "\n",
    "    for i in range(NUM_SCROLLS):\n",
    "        # Scroll down to bottom\n",
    "        driver.execute_script(\"window.scrollTo(0, document.body.scrollHeight);\")\n",
    "\n",
    "        # Wait to load page\n",
    "        time.sleep(SCROLL_PAUSE_TIME)\n",
    "\n",
    "        # Calculate new scroll height and compare with last scroll height\n",
    "        new_height = driver.execute_script(\"return document.body.scrollHeight\")\n",
    "        if new_height == last_height:\n",
    "            break\n",
    "        last_height = new_height\n",
    "\n",
    "    # Parsing posts\n",
    "    src = driver.page_source\n",
    "\n",
    "    # Now using beautiful soup\n",
    "    soup = BeautifulSoup(src, 'lxml')\n",
    "    # soup.prettify()\n",
    "\n",
    "    posts = soup.find_all('li', class_='profile-creator-shared-feed-update__container')\n",
    "    # print(posts)\n",
    "\n",
    "    print(f'Number of posts: {len(posts)}')\n",
    "    for post_src in posts:\n",
    "        post_text_div = post_src.find('div', {'class': 'feed-shared-update-v2__description-wrapper mr2'})\n",
    "\n",
    "        # if post_text_div is None:\n",
    "        #     print(post_src)\n",
    "\n",
    "        if post_text_div is not None:\n",
    "            post_text = post_text_div.find('span', {'dir': 'ltr'})\n",
    "        else:\n",
    "            post_text = None\n",
    "\n",
    "        # If post text is found\n",
    "        if post_text is not None:\n",
    "            post_text = post_text.get_text().strip()\n",
    "            print(f'Post text: {post_text}')\n",
    "\n",
    "        reaction_cnt = post_src.find('span', {'class': 'social-details-social-counts__reactions-count'})\n",
    "\n",
    "        # If number of reactions is written as text\n",
    "        # It has different class name\n",
    "        if reaction_cnt is None:\n",
    "            reaction_cnt = post_src.find('span', {'class': 'social-details-social-counts__social-proof-text'})\n",
    "\n",
    "        if reaction_cnt is not None:\n",
    "            reaction_cnt = reaction_cnt.get_text().strip()\n",
    "            print(f'Reactions: {reaction_cnt}')\n",
    "\n",
    "    return"
   ]
  },
  {
   "cell_type": "code",
   "execution_count": null,
   "id": "94659621",
   "metadata": {},
   "outputs": [],
   "source": []
  }
 ],
 "metadata": {
  "kernelspec": {
   "display_name": "Python 3 (ipykernel)",
   "language": "python",
   "name": "python3"
  },
  "language_info": {
   "codemirror_mode": {
    "name": "ipython",
    "version": 3
   },
   "file_extension": ".py",
   "mimetype": "text/x-python",
   "name": "python",
   "nbconvert_exporter": "python",
   "pygments_lexer": "ipython3",
   "version": "3.9.16"
  }
 },
 "nbformat": 4,
 "nbformat_minor": 5
}
