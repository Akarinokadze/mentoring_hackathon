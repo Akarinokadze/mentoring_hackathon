{
 "cells": [
  {
   "cell_type": "code",
   "execution_count": 299,
   "id": "66f57e32",
   "metadata": {},
   "outputs": [],
   "source": [
    "from bs4 import BeautifulSoup\n",
    "from selenium import webdriver\n",
    "from selenium.webdriver.common.by import By\n",
    "from selenium.webdriver.common.keys import Keys\n",
    "\n",
    "from selenium.webdriver.common.desired_capabilities import DesiredCapabilities\n",
    "\n",
    "import time\n",
    "import re\n",
    "import datetime"
   ]
  },
  {
   "cell_type": "code",
   "execution_count": 180,
   "id": "1d12b6ba",
   "metadata": {},
   "outputs": [],
   "source": [
    "SCROLL_PAUSE_TIME = 0.5"
   ]
  },
  {
   "cell_type": "code",
   "execution_count": 181,
   "id": "2be0f4f6",
   "metadata": {},
   "outputs": [],
   "source": [
    "caps = DesiredCapabilities().CHROME\n",
    "caps['pageLoadStrategy'] = 'eager'\n",
    "driver = webdriver.Chrome()\n",
    "driver.get(\"https://linkedin.com/uas/login\")"
   ]
  },
  {
   "cell_type": "code",
   "execution_count": 226,
   "id": "820aaccc",
   "metadata": {},
   "outputs": [],
   "source": [
    "profile_url = 'https://www.linkedin.com/in/sstr'\n",
    "driver.get(profile_url)"
   ]
  },
  {
   "cell_type": "code",
   "execution_count": 227,
   "id": "c40cf8f5",
   "metadata": {},
   "outputs": [],
   "source": [
    "#pause to load!!1\n",
    "src = driver.page_source"
   ]
  },
  {
   "cell_type": "code",
   "execution_count": 228,
   "id": "27b22fc5",
   "metadata": {},
   "outputs": [],
   "source": [
    "soup = BeautifulSoup(src, \"lxml\")"
   ]
  },
  {
   "cell_type": "code",
   "execution_count": 229,
   "id": "0e74366e",
   "metadata": {},
   "outputs": [],
   "source": [
    "name = soup.find('div', {'class': 'pv-text-details__left-panel'}).find(\"h1\").get_text().strip()\n",
    "title = header.find(\"div\", {'class': 'text-body-medium'}).get_text().strip()\n",
    "works_at = soup.find('button', {'class': 'pv-text-details__right-panel-item-link'}).get_text().strip()\n",
    "intro = soup.find('div', {'class': 'pv-shared-text-with-see-more'}).get_text().strip()\n",
    "experience = (datetime.date.today().year\n",
    "              - int(min(re.findall('\\d{4}', soup.find('ul', {'class': 'pvs-list'}).get_text()))))\n",
    "place = soup.find('span', {'class': 'text-body-small inline t-black--light break-words'}).get_text().strip()"
   ]
  },
  {
   "cell_type": "code",
   "execution_count": 292,
   "id": "0e04a8f3",
   "metadata": {},
   "outputs": [
    {
     "data": {
      "text/plain": [
       "'https://www.linkedin.com/in/sstr'"
      ]
     },
     "execution_count": 292,
     "metadata": {},
     "output_type": "execute_result"
    }
   ],
   "source": [
    "profile_url"
   ]
  },
  {
   "cell_type": "code",
   "execution_count": 231,
   "id": "1d969e62",
   "metadata": {},
   "outputs": [],
   "source": [
    "POSTS_URL_SUFFIX = '/recent-activity/all/'"
   ]
  },
  {
   "cell_type": "code",
   "execution_count": 301,
   "id": "4dd431fb",
   "metadata": {},
   "outputs": [],
   "source": [
    "driver.get(profile_url + POSTS_URL_SUFFIX)"
   ]
  },
  {
   "cell_type": "code",
   "execution_count": 334,
   "id": "2bf86e74",
   "metadata": {},
   "outputs": [],
   "source": [
    "html = driver.find_element(By.TAG_NAME, 'html')\n",
    "html.send_keys(Keys.END)"
   ]
  },
  {
   "cell_type": "code",
   "execution_count": 336,
   "id": "ef381f2b",
   "metadata": {},
   "outputs": [],
   "source": [
    "html.send_keys(Keys.END)"
   ]
  },
  {
   "cell_type": "code",
   "execution_count": 298,
   "id": "7490cfc8",
   "metadata": {
    "collapsed": true
   },
   "outputs": [
    {
     "ename": "JavascriptException",
     "evalue": "Message: javascript error: delta is not defined\n  (Session info: chrome=114.0.5735.134)\nStacktrace:\nBacktrace:\n\tGetHandleVerifier [0x005BA813+48355]\n\t(No symbol) [0x0054C4B1]\n\t(No symbol) [0x00455358]\n\t(No symbol) [0x004587A1]\n\t(No symbol) [0x0045A19B]\n\t(No symbol) [0x004AD279]\n\t(No symbol) [0x0049A73C]\n\t(No symbol) [0x004AC922]\n\t(No symbol) [0x0049A536]\n\t(No symbol) [0x004782DC]\n\t(No symbol) [0x004793DD]\n\tGetHandleVerifier [0x0081AABD+2539405]\n\tGetHandleVerifier [0x0085A78F+2800735]\n\tGetHandleVerifier [0x0085456C+2775612]\n\tGetHandleVerifier [0x006451E0+616112]\n\t(No symbol) [0x00555F8C]\n\t(No symbol) [0x00552328]\n\t(No symbol) [0x0055240B]\n\t(No symbol) [0x00544FF7]\n\tBaseThreadInitThunk [0x75D000C9+25]\n\tRtlGetAppContainerNamedObjectPath [0x773C7B4E+286]\n\tRtlGetAppContainerNamedObjectPath [0x773C7B1E+238]\n",
     "output_type": "error",
     "traceback": [
      "\u001b[1;31m---------------------------------------------------------------------------\u001b[0m",
      "\u001b[1;31mJavascriptException\u001b[0m                       Traceback (most recent call last)",
      "Cell \u001b[1;32mIn[298], line 5\u001b[0m\n\u001b[0;32m      3\u001b[0m \u001b[38;5;28;01mwhile\u001b[39;00m \u001b[38;5;28;01mTrue\u001b[39;00m:\n\u001b[0;32m      4\u001b[0m     delta \u001b[38;5;241m+\u001b[39m\u001b[38;5;241m=\u001b[39m \u001b[38;5;241m5000\u001b[39m\n\u001b[1;32m----> 5\u001b[0m     \u001b[43mdriver\u001b[49m\u001b[38;5;241;43m.\u001b[39;49m\u001b[43mexecute_script\u001b[49m\u001b[43m(\u001b[49m\u001b[38;5;124;43m\"\u001b[39;49m\u001b[38;5;124;43mwindow.scrollTo(0, document.body.scrollHeight + delta);\u001b[39;49m\u001b[38;5;124;43m\"\u001b[39;49m\u001b[43m)\u001b[49m\n\u001b[0;32m      6\u001b[0m     time\u001b[38;5;241m.\u001b[39msleep(SCROLL_PAUSE_TIME)\n\u001b[0;32m      7\u001b[0m     new_height \u001b[38;5;241m=\u001b[39m driver\u001b[38;5;241m.\u001b[39mexecute_script(\u001b[38;5;124m\"\u001b[39m\u001b[38;5;124mreturn document.body.scrollHeight\u001b[39m\u001b[38;5;124m\"\u001b[39m)\n",
      "File \u001b[1;32m~\\anaconda3\\envs\\practicum\\lib\\site-packages\\selenium\\webdriver\\remote\\webdriver.py:406\u001b[0m, in \u001b[0;36mWebDriver.execute_script\u001b[1;34m(self, script, *args)\u001b[0m\n\u001b[0;32m    403\u001b[0m converted_args \u001b[38;5;241m=\u001b[39m \u001b[38;5;28mlist\u001b[39m(args)\n\u001b[0;32m    404\u001b[0m command \u001b[38;5;241m=\u001b[39m Command\u001b[38;5;241m.\u001b[39mW3C_EXECUTE_SCRIPT\n\u001b[1;32m--> 406\u001b[0m \u001b[38;5;28;01mreturn\u001b[39;00m \u001b[38;5;28;43mself\u001b[39;49m\u001b[38;5;241;43m.\u001b[39;49m\u001b[43mexecute\u001b[49m\u001b[43m(\u001b[49m\u001b[43mcommand\u001b[49m\u001b[43m,\u001b[49m\u001b[43m \u001b[49m\u001b[43m{\u001b[49m\u001b[38;5;124;43m\"\u001b[39;49m\u001b[38;5;124;43mscript\u001b[39;49m\u001b[38;5;124;43m\"\u001b[39;49m\u001b[43m:\u001b[49m\u001b[43m \u001b[49m\u001b[43mscript\u001b[49m\u001b[43m,\u001b[49m\u001b[43m \u001b[49m\u001b[38;5;124;43m\"\u001b[39;49m\u001b[38;5;124;43margs\u001b[39;49m\u001b[38;5;124;43m\"\u001b[39;49m\u001b[43m:\u001b[49m\u001b[43m \u001b[49m\u001b[43mconverted_args\u001b[49m\u001b[43m}\u001b[49m\u001b[43m)\u001b[49m[\u001b[38;5;124m\"\u001b[39m\u001b[38;5;124mvalue\u001b[39m\u001b[38;5;124m\"\u001b[39m]\n",
      "File \u001b[1;32m~\\anaconda3\\envs\\practicum\\lib\\site-packages\\selenium\\webdriver\\remote\\webdriver.py:346\u001b[0m, in \u001b[0;36mWebDriver.execute\u001b[1;34m(self, driver_command, params)\u001b[0m\n\u001b[0;32m    344\u001b[0m response \u001b[38;5;241m=\u001b[39m \u001b[38;5;28mself\u001b[39m\u001b[38;5;241m.\u001b[39mcommand_executor\u001b[38;5;241m.\u001b[39mexecute(driver_command, params)\n\u001b[0;32m    345\u001b[0m \u001b[38;5;28;01mif\u001b[39;00m response:\n\u001b[1;32m--> 346\u001b[0m     \u001b[38;5;28;43mself\u001b[39;49m\u001b[38;5;241;43m.\u001b[39;49m\u001b[43merror_handler\u001b[49m\u001b[38;5;241;43m.\u001b[39;49m\u001b[43mcheck_response\u001b[49m\u001b[43m(\u001b[49m\u001b[43mresponse\u001b[49m\u001b[43m)\u001b[49m\n\u001b[0;32m    347\u001b[0m     response[\u001b[38;5;124m\"\u001b[39m\u001b[38;5;124mvalue\u001b[39m\u001b[38;5;124m\"\u001b[39m] \u001b[38;5;241m=\u001b[39m \u001b[38;5;28mself\u001b[39m\u001b[38;5;241m.\u001b[39m_unwrap_value(response\u001b[38;5;241m.\u001b[39mget(\u001b[38;5;124m\"\u001b[39m\u001b[38;5;124mvalue\u001b[39m\u001b[38;5;124m\"\u001b[39m, \u001b[38;5;28;01mNone\u001b[39;00m))\n\u001b[0;32m    348\u001b[0m     \u001b[38;5;28;01mreturn\u001b[39;00m response\n",
      "File \u001b[1;32m~\\anaconda3\\envs\\practicum\\lib\\site-packages\\selenium\\webdriver\\remote\\errorhandler.py:245\u001b[0m, in \u001b[0;36mErrorHandler.check_response\u001b[1;34m(self, response)\u001b[0m\n\u001b[0;32m    243\u001b[0m         alert_text \u001b[38;5;241m=\u001b[39m value[\u001b[38;5;124m\"\u001b[39m\u001b[38;5;124malert\u001b[39m\u001b[38;5;124m\"\u001b[39m]\u001b[38;5;241m.\u001b[39mget(\u001b[38;5;124m\"\u001b[39m\u001b[38;5;124mtext\u001b[39m\u001b[38;5;124m\"\u001b[39m)\n\u001b[0;32m    244\u001b[0m     \u001b[38;5;28;01mraise\u001b[39;00m exception_class(message, screen, stacktrace, alert_text)  \u001b[38;5;66;03m# type: ignore[call-arg]  # mypy is not smart enough here\u001b[39;00m\n\u001b[1;32m--> 245\u001b[0m \u001b[38;5;28;01mraise\u001b[39;00m exception_class(message, screen, stacktrace)\n",
      "\u001b[1;31mJavascriptException\u001b[0m: Message: javascript error: delta is not defined\n  (Session info: chrome=114.0.5735.134)\nStacktrace:\nBacktrace:\n\tGetHandleVerifier [0x005BA813+48355]\n\t(No symbol) [0x0054C4B1]\n\t(No symbol) [0x00455358]\n\t(No symbol) [0x004587A1]\n\t(No symbol) [0x0045A19B]\n\t(No symbol) [0x004AD279]\n\t(No symbol) [0x0049A73C]\n\t(No symbol) [0x004AC922]\n\t(No symbol) [0x0049A536]\n\t(No symbol) [0x004782DC]\n\t(No symbol) [0x004793DD]\n\tGetHandleVerifier [0x0081AABD+2539405]\n\tGetHandleVerifier [0x0085A78F+2800735]\n\tGetHandleVerifier [0x0085456C+2775612]\n\tGetHandleVerifier [0x006451E0+616112]\n\t(No symbol) [0x00555F8C]\n\t(No symbol) [0x00552328]\n\t(No symbol) [0x0055240B]\n\t(No symbol) [0x00544FF7]\n\tBaseThreadInitThunk [0x75D000C9+25]\n\tRtlGetAppContainerNamedObjectPath [0x773C7B4E+286]\n\tRtlGetAppContainerNamedObjectPath [0x773C7B1E+238]\n"
     ]
    }
   ],
   "source": [
    "last_height = driver.execute_script(\"return document.body.scrollHeight\")\n",
    "while True:\n",
    "    driver.execute_script(\"window.scrollTo(0, document.body.scrollHeight);\")\n",
    "    time.sleep(SCROLL_PAUSE_TIME)\n",
    "    new_height = driver.execute_script(\"return document.body.scrollHeight\")\n",
    "    if new_height == last_height:\n",
    "        break\n",
    "    last_height = new_height"
   ]
  },
  {
   "cell_type": "code",
   "execution_count": 337,
   "id": "b04ecc5f",
   "metadata": {},
   "outputs": [
    {
     "data": {
      "text/plain": [
       "23257"
      ]
     },
     "execution_count": 337,
     "metadata": {},
     "output_type": "execute_result"
    }
   ],
   "source": [
    "driver.execute_script(\"return document.body.scrollHeight\")"
   ]
  },
  {
   "cell_type": "code",
   "execution_count": 297,
   "id": "e7aac00f",
   "metadata": {},
   "outputs": [
    {
     "data": {
      "text/plain": [
       "7171"
      ]
     },
     "execution_count": 297,
     "metadata": {},
     "output_type": "execute_result"
    }
   ],
   "source": [
    "driver.execute_script(\"return document.body.scrollHeight\")"
   ]
  },
  {
   "cell_type": "code",
   "execution_count": 338,
   "id": "6dbe0832",
   "metadata": {},
   "outputs": [],
   "source": [
    "driver.execute_script(\"window.scrollTo(0, document.body.scrollHeight - 1500);\")"
   ]
  },
  {
   "cell_type": "code",
   "execution_count": 333,
   "id": "0ae483c5",
   "metadata": {},
   "outputs": [],
   "source": [
    "driver.find_element(By.CLASS_NAME, 'scaffold-finite-scroll__load-button').click()"
   ]
  },
  {
   "cell_type": "code",
   "execution_count": 339,
   "id": "4c5ba858",
   "metadata": {},
   "outputs": [],
   "source": [
    "src = driver.page_source"
   ]
  },
  {
   "cell_type": "code",
   "execution_count": 340,
   "id": "fd936d49",
   "metadata": {},
   "outputs": [],
   "source": [
    "soup = BeautifulSoup(src, 'lxml')"
   ]
  },
  {
   "cell_type": "code",
   "execution_count": 341,
   "id": "175dc095",
   "metadata": {},
   "outputs": [],
   "source": [
    "posts = soup.find_all('li', class_='profile-creator-shared-feed-update__container')"
   ]
  },
  {
   "cell_type": "code",
   "execution_count": 342,
   "id": "9457218d",
   "metadata": {},
   "outputs": [
    {
     "name": "stdout",
     "output_type": "stream",
     "text": [
      "Number of posts: 31\n"
     ]
    }
   ],
   "source": [
    "print(f'Number of posts: {len(posts)}')"
   ]
  },
  {
   "cell_type": "code",
   "execution_count": null,
   "id": "ed50c765",
   "metadata": {},
   "outputs": [],
   "source": [
    "social-details-social-counts__reactions\n",
    "social-details-social-counts__comments\n",
    "social-details-social-counts__item social-details-social-counts__item--with-social-proof"
   ]
  },
  {
   "cell_type": "code",
   "execution_count": 343,
   "id": "c9333b38",
   "metadata": {},
   "outputs": [
    {
     "name": "stdout",
     "output_type": "stream",
     "text": [
      "Post text: Привет, мы ищем таланты!В 2022 году команда People Office взяла 3 международные премии и собрала награды в номинациях «Инновации» и «Трансформация организации и корпоративной культуры».  В этом году компания стала лучшим работодателем по версии Head Hunter Казахстан.  А командой People Office управляет Best HRD Казахстана, Ainura Koshoeva.  И сейчас мы ищем в нашу чемпионскую команду People Office коллег:  ▪️HR - бизнес партнерСпециалисту предстоит выстраивать четкие и понятные связи между HR и бизнесом: https://lnkd.in/gb7cQdeW▪️Recruitment TeamleadЗдесь нужно автоматизировать процесс подбора персонала в компании и координировать работу рекрутеров: https://lnkd.in/gcHSYKXB▪️IT рекрутерНеобходимо понимание телекоммуникационной отрасли, Digital, Data, CVM, Product направлений и желание учиться и развиваться в сфере рекрутинга: https://lnkd.in/gAVDQzru▪️Менеджер по оценке и развитию персоналаНаш будущий коллега займётся проведением оценки различными методами и осуществлением методологическую, экспертную, консультационную поддержку цикла управления результатом: https://lnkd.in/gP6vtDF7▪️МетодологСреди задач - анализ текущих внутренних нормативных документов и методологическое сопровождение оформлений документов: https://lnkd.in/gHxG-RybПриходите строить компанию мечты и менять правила на рынке!Больше вакансий: https://job.tele2.kz/#people #recruitment #Tele2Team\n",
      "Reactions: 42\n",
      "\n",
      "                  Stanislav Streltsov и еще 41 участник\n",
      "Reactions: None\n",
      "Reactions: 10 репостов\n",
      "==================================================\n",
      "Post text: Tableau Day наконец-то в Казахстане! Вы узнаете о лучших практиках работы с данными и послушаете интересные кейсы. Ждем вас 13го июля во второй половине дня.Регистрируйтесь здесь: https://lnkd.in/e_c-eMpF#salesforce #tableau #data #analytics #kazakhstan #almaty #аналитика #данныеKristina Kopyeva, Kuanysh Bekkulov, Maria Melnik, Alexander Shlimakov, Olga Kuzmina, Ilias Guerrier\n",
      "Reactions: 24\n",
      "Reactions: 1 комментарий\n",
      "Reactions: 6 репостов\n",
      "==================================================\n",
      "Post text: #data #vacancy #tele2kazakhstan #productВсем привет! 🙂 Ищу Product Owner (marketing platform) в Data Office Tele2/Altel, который будет управлять разработкой платформы для профилирования абонентов и создания “умных” коммуникаций на основе машинного обучения.Определять стратегию продукта, приоритизировать требования, управлять жизненным циклом и вести коммуникацию с командой Data scientists, Data engineers и Developers. Цель - повышение CR, уменьшение оттока и реализация стратегий Uplift, Cross Sell, NBO и NBA.Что нужно делать:☑ Определять требования проекта в области больших данных и формулировать стратегии для их выполнения;☑Управлять командой DA, DS, DE и обеспечить их эффективной работой в соответствии с графиком проекта и бюджетом; ☑Оценивать риски проекта и разрабатывать план мер по снижению этих рисков;☑Обеспечивать качество проекта, в том числе контролировать соблюдение требований безопасности данных и правила конфиденциальности;☑Обеспечивать своевременную коммуникации с заказчиком и другими заинтересованными сторонами в проекте. Какой опыт и навыки важны:☑Опыт работы в роли Product Owner'а или связанных позициях, связанных с разработкой продуктов на базе машинного обучения;☑Знание основ машинного обучения и способность эффективно общаться с командой разработки;☑Опыт работы в Agile-среде разработки продукта и управления жизненным циклом продукта;☑Навыки приоритизации требований и определения стратегии разработки продукта на основе бизнес-требований и анализа рынка;☑Отличные коммуникативные и презентационные навыки для представления продукта и его стратегии бизнес-руководству и заинтересованным сторонам;Жду CV в личку или на контакты ниже.\n",
      "Reactions: 17\n",
      "\n",
      "                  Stanislav Streltsov и еще 16 участников\n",
      "Reactions: None\n",
      "Reactions: 7 репостов\n",
      "==================================================\n",
      "Post text: Всем привет,ищем и очень хотим побыстрее найти it рекрутера в Data Office😌 Tele2 Kazakhstan.Цифровые позиции, классные тимлиды и команда в Дате у Stanislav Streltsov, драйвовая и крутая команда в People Office у Ainura Koshoeva, поддерживающая и развивающая среда в рекрутерской команде (бипи тоже в адеквате). В общем, у нас хорошо, процессы и условия поиска адекватные, соцпакет и бенефиты имеются. По всем вопросам в личку. Буду также очень благодарна за рекомендации и репосты❤️#vacancy #itrecruiter #hiring\n",
      "Reactions: 27\n",
      "\n",
      "                  Stanislav Streltsov и еще 26 участников\n",
      "Reactions: None\n",
      "Reactions: 6 репостов\n",
      "==================================================\n",
      "Post text: Важной частью обновления позиционирования Altel  стала премьера фильма «Altel. 29 лет на связи с Казахстаном».В фильме мы рассказали про 29 лет развития сотовой связи в стране через истории казахстанцев и интервью сотрудников Altel, а в последней части фильма уделили особое внимание концепции обновления Бренда и  новой коммуникационной платформе «Такой, как вы»\n",
      "Reactions: 40\n",
      "\n",
      "                  Stanislav Streltsov и еще 39 участников\n",
      "Reactions: 1 комментарий\n",
      "Reactions: 2 репоста\n",
      "==================================================\n",
      "Post text: Привет, друзья! Я к вам сегодня вот с такой вакансией: https://lnkd.in/d7GaAbXBЖду ваших откликов и сообщений ✌\n",
      "Reactions: 35\n",
      "\n",
      "                  Stanislav Streltsov и еще 34 участника\n",
      "Reactions: None\n",
      "Reactions: 2 репоста\n",
      "==================================================\n",
      "Post text: None\n",
      "Reactions: 4\n",
      "Reactions: None\n",
      "Reactions: None\n",
      "==================================================\n",
      "Post text: 🔥\n",
      "Reactions: 4\n",
      "Reactions: None\n",
      "Reactions: None\n",
      "==================================================\n",
      "Post text: Leaders and their teams have faced significant challenges in a disruptive global environment, but have shown remarkable perseverance, creativity, and ingenuity. As companies strive to transform and accelerate their data and analytics capabilities, it is up to data and analytics leaders to implement purposeful strategies that maximize those capabilities.At Gartner Data and Analytics Summit, we discussed the challenges of scaling cohesive ecosystems within our organizations and the importance of using AI to ethically manage data and privacy. A human-centric approach to talent acquisition and retention was also emphasized as the key to success.During the conference, I shared how we are transforming analytics in Tele2 Kazakhstan and using big data to improve operational efficiency. My colleague, Kristina Kopyeva, PMP, PMI-PBA spoke about the various stages of data governance and shared about success in implementing Tableau and promoting the tool internally, which led to a growth in analytical expertise. I would like to express my gratitude to Gartner for providing this opportunity, and to Polona Picman Stefancic, PhD for her assistance with registration.At Tele2 Kazakhstan, we believe in sharing our expertise within the industry and beyond. Join us and let's work together to drive the industry forward.\n",
      "Reactions: 27\n",
      "\n",
      "                  Dmitry Kharitonov и еще 26 участников\n",
      "Reactions: None\n",
      "Reactions: 1 репост\n",
      "==================================================\n",
      "Post text: None\n",
      "Reactions: 1\n",
      "Reactions: None\n",
      "Reactions: None\n",
      "==================================================\n",
      "Post text: Настала очередь для аналитиков, Data-партнеров и Data-инженеров— этот дайджест вакансий для вас!У нас много данных и вычислительных ресурсов, весьма амбициозные бизнес задачи и руководство, заинтересованное в привлечении и развитии лучших талантов.▪️ Data Partner Специалист займется тестированием и консалтингом по вопросам отчетности: https://lnkd.in/dnmFYueY▪️ Head of Data Science Необходим опыт управления командами и знание основных алгоритмов ML/DL, статистики: https://lnkd.in/gqjuAi6V▪️Начальник Отдела инжиниринга данных (TL DE) Предстоит обеспечение качества и доступности данных в регламентированные сроки, организация процессов тестирования: https://lnkd.in/ghu3fZ5P▪️Head of Data Analytics Здесь нужно выстраивать работу подразделений Data Analytics и Data Partners : https://bit.ly/3OrVgRe▪️Senior Data EngineerПредстоит оптимизация архитектуры и структуры данных и обеспечение доступности данных в регламентные сроки: https://lnkd.in/gYwnmqHs▪️Data Architect Наш будущий коллега займется обеспечением внедрения и согласования процессов Data Governance с политиками и регламентами Data Office: https://lnkd.in/gzaP3GVF▪️Data EngineerСреди задач - разработка, поддержка и оптимизация ETL/ELT процессов на Oracle Data Integrator и оптимизация SQL запросов:https://lnkd.in/g9J3kx4AБольше вакансий ищи на нашем сайте: https://job.tele2.kz/#datascience #engineer #dataanalytics #dataengineering #data #Tele2Team\n",
      "Reactions: 36\n",
      "\n",
      "                  Stanislav Streltsov и еще 35 участников\n",
      "Reactions: None\n",
      "Reactions: 4 репоста\n",
      "==================================================\n",
      "Post text: I'm thrilled to share that I and Kristina Kopyeva, PMP, PMI-PBA had the opportunity to give educational lectures on big data and analytics at Suleyman Demirel University and Казахский национальный университет имени аль-Фараби (КазНУ).It was an amazing experience to share our knowledge with eager and curious minds who are passionate about the field. We discussed the latest trends, best practices, and emerging technologies in the world of data analysis.Tele2 Kazakhstan strongly believes in the power of education and continuous learning, which is why we were thrilled to have this opportunity. By sharing our expertise, we hope to inspire the next generation of data professionals and contribute to the growth of the industry.Additionally, I had the honor of serving as a jury member for a university hackathon. It was incredible to see the creativity and innovation of the participants, and the solutions they presented were truly inspiring. It was a great experience to connect with the next generation of data professionals and to see the amazing work they are doing.We feel incredibly fortunate to have had these opportunities to share our knowledge. We are excited to continue learning and growing in our field and to make a positive impact in our industry and beyond.\n",
      "Reactions: 48\n",
      "\n",
      "                  Dmitry Kharitonov и еще 47 участников\n",
      "Reactions: None\n",
      "Reactions: None\n",
      "==================================================\n",
      "Post text: None\n",
      "Reactions: 14\n",
      "Reactions: 1 комментарий\n",
      "Reactions: None\n",
      "==================================================\n",
      "Post text: Настала очередь для аналитиков, ETL разработчиков и Data партнеров — этот дайджест вакансий для вас!У нас много данных и вычислительных ресурсов, весьма амбициозные бизнес задачи и руководство, заинтересованное в привлечении и развитии лучших талантов.▪️Team Lead DevOps Cпециалист займется управлением процессами эксплуатации и поддержки BigData-инфраструктуры: https://lnkd.in/dnv-g5PJ▪️Начальник отдела инжиниринга данных Необходим опыт работы с промышленными клиент - серверными РСУБД/NoSQL и навыки использования SQL, PL/SQL: https://lnkd.in/d8mXggwH▪️Data Partner Зовут заниматься разработкой ключевых отчетов, витрин и информационных панелей: https://lnkd.in/dcyPbVBy▪️ETL разработчикЗдесь нужно развивать Self-Service Business Intelligence (BI) и популяризировать Tableau в компании: https://lnkd.in/dHV7dBts▪️Head of Data Analytics Предстоит выстраивание работы и управление подразделением Data Analytics и Data Partners: https://lnkd.in/dPn2_qPrЕще больше вакансий на: https://job.tele2.kz/____________________________________________Сарапшылардың, ETL жасаушылардың және Data әріптестердің кезегі келді — осы вакансиялар дайджесті сіздерге арналған!Бізде көп деректер мен есептеу ресурстары, өте өршіл бизнес міндеттер және үздік таланттарды тартуға және дамытуға мүдделі басшылық бар.▪️ Team Lead DevOpsМаман BigData-инфрақұрылымын пайдалану және қолдау процестерін басқарумен айналысады: https://lnkd.in/dnv-g5PJ▪️ Деректер инжинирингі бөлімінің бастығыӨнеркәсіптік клиенттермен, серверлік ӨДҚБЖ/NoSQL-мен жұмыс тәжірибесі және SQL, PL/SQL пайдалану дағдылары болуы қажет: https://lnkd.in/d8mXggwH▪️ Data PartnerНегізгі есептерді, витриналарды және ақпараттық панельдерді жасаумен айналысуға шақырамыз: https://lnkd.in/dcyPbVBy▪️ ETL жасаушыМұнда Self-Service Business Intelligence (BI) дамыту және компанияда Tableau-ді танымалдандыру қажет: https://lnkd.in/dHV7dBts▪️ Head of Data AnalyticsЖұмысты жолға қою және Data Analytics және Data Partners бөлімшелерін басқару қажет: https://lnkd.in/dPn2_qPrБасқа да вакансиялар: https://job.tele2.kz/#tele2 #tele2altel #tele2jobs #вакансииTele2\n",
      "Reactions: 32\n",
      "Reactions: 1 комментарий\n",
      "Reactions: 2 репоста\n",
      "==================================================\n",
      "Post text: None\n",
      "Reactions: 8\n",
      "Reactions: None\n",
      "Reactions: None\n",
      "==================================================\n",
      "Post text: None\n",
      "Reactions: 5\n",
      "Reactions: None\n",
      "Reactions: None\n",
      "==================================================\n",
      "Post text: #tableau #workteam #tele2 #altel #selfservice #business #intelligence #analytics\n",
      "Reactions: 22\n",
      "Reactions: 2 комментария\n",
      "Reactions: 3 репоста\n",
      "==================================================\n",
      "Post text: Привет! PM cо знаниями Big Data - отзовись!На днях Stanislav Streltsov заявил, что я точно должна знать такого человека. Прошло три дня, так никого и не вспомнила.Поэтому прошу отозваться и напомнить о себе PM-ов, которые хорошо разбираются в биг дате (возможно вы в прошлом data scientist, или вы сейчас data scientist с крутыми менеджерскими скилами).Речь конечно идет о вакансии, нужен менеджер, лидер центра экспертизы или чаптера (если вы понимаете за трайбы) биг даты, который сможет управлять дата саентистами, разбежавшимися по командам в трайбы и скводы. P.S. Если вы такого человека знаете, тегните плз, может он тоже нас ищет, просто об этом еще не догадывается. #bigdata #datascientist #vacancy\n",
      "Reactions: 24\n",
      "Reactions: 3 комментария\n",
      "Reactions: 2 репоста\n",
      "==================================================\n",
      "Post text: Всем привет! Горящие вакансии в Big Data Office Tele2 Kazakhstan: - директор платформы больших данных (https://lnkd.in/eD9qAGXW) - стратегическое развитие платформы, команда разработчиков и архитекторов;- руководитель направления поставки данных (https://lnkd.in/etczHtD4) - выстраивание дата-партнерства, команда дата-партнеров.✌пишите в личку и в telegram @mariannayessenalina\n",
      "Reactions: 44\n",
      "Reactions: 1 комментарий\n",
      "Reactions: 6 репостов\n",
      "==================================================\n",
      "Post text: At the beginning of October I had the opportunity to participate in the data-driven top 100(https://lnkd.in/eV_Z9Q9u) conference.It was a unique event of its kind. The conference forms a community of top managers of leading data-driven organizations and places them in an environment of intensive communication and experience exchange.The concentration of such specialists inspires and provides opportunities for discovery and finding points for growth. Each company is at a different stage of development, which helps to understand where we are and where we better move as a data-driven organization.Once again I am convinced that networking as a tool for professional development really works only if you are surrounded by real professionals.Thanks for the invitation and organization to the wonderful Evgeny(Evgeniy Kozlov) and Anastasia #ddtop100\n",
      "Reactions: 63\n",
      "Reactions: None\n",
      "Reactions: None\n",
      "==================================================\n",
      "Post text: Еще в 2018 году исследовательское агентство Gartner анонсировало тренд на увеличение интереса к самообслуживаемой бизнес-аналитике (self-service Business Intelligence, BI). Это стало возможным благодаря росту объема информации, распространению технологий Big Data и популяризации Data Science. Кроме того, цифровизация как основная идея современного подхода к бизнесу продвигает принципы data-driven, когда управленческие решения принимаются на основе объективного анализа данных.Self-service BI – это концепция, суть которой в предоставлении бизнес-пользователям удобного инструментария для самостоятельного и эффективного анализа данных, в зависимости от их функциональных потребностей и рабочих ролей: от простой фильтрации и группировки до модификации структуры отчетов и изменения семантических моделей. Это провоцирует уход от привычной парадигмы работы с данными, когда бизнес-аналитика централизована на корпоративном хранилище данных (КХД) и развернутых витринах (Data Mart). Гибкость self-service BI позволяет пользователям создавать собственные дэшборды с теми данными, которые им необходимы в заданный промежуток времени, не привлекая ИТ-специалистов.Data office Tele2 также использует подход Self-Service Business Intelligence (SSBI). Основная цель использования SSBI – сократить time2market при принятии важных управленческих решений в компании. В качестве основного инструмента BI, команда DO Tele2 использует продукт Tableau от компании Salesforce. Обучение которому прошло на прошлой неделе от коллег из Лондона (Salesforce).Хотите стать частью команды DATA Tele2? Проходите по ссылке: https://bit.ly/3g9tiNt  и присоединяйтесь к команде.  #data #datascience #salesforce\n",
      "Reactions: 38\n",
      "Reactions: 3 комментария\n",
      "Reactions: 1 репост\n",
      "==================================================\n",
      "Post text: What tech trends will shape the business world of tomorrow? 👇We’ve identified the tech trends that matter- and outline what the future potential of these trends are for businesses.You can read the research here 👉 https://mck.co/3eu5JxU#McKinseyTechTrends #AppliedAI #McKinseyonAI\n",
      "Reactions: 14 855\n",
      "Reactions: 199 комментариев\n",
      "Reactions: 1 750 репостов\n",
      "==================================================\n",
      "Post text: Продолжаем наши еженедельные подборки вакансий. Сегодня ищем коллег в Data Office, которых ждет много вычислительных ресурсов, весьма амбициозные бизнес задачи и руководство, заинтересованное в хороших кадрах.▪️ Head of Data DeliveryПредстоит выстраивание работы и управление подразделением поставки данных и дата партнерами: https://bit.ly/3RxXuz0▪️ Администратор TableauЗдесь необходим специалист, который будет отвечать за администрирование, поддержку, настройку, работоспособность и обновление BI платформы: https://bit.ly/3OPCh1W▪️ ETL разработчикСпециалист будет отвечать за валидацию данных, отладку потоков данных, исправление ошибок загрузки данных: https://bit.ly/3BDURXV▪️ Data PartnerПредстоит взаимодействие с бизнес-функциями для обеспечения полного спектра работ, связанных с запросами по поставке данных: https://bit.ly/3QaP8wp▪️ Team Lead Data GovernanceЗовут участвовать в разработке и внедрении методологии/процессов управления данными с учетом лучших и регуляторных практик DAMA DMBOK: https://bit.ly/3TN2K42▪️ Senior Data EngineerЗдесь необходимо участвовать в разработке, поддержке и оптимизации ETL/ELT процессов: https://bit.ly/3P0v2UN▪️ Архитектор платформы данныхЗовут анализировать и систематизировать требования для развития DevOps, MlOps, DataOps: https://bit.ly/3cRj3M0▪️ Team Lead Data ScientistНужно участвовать в разработке, поддержке и оптимизации ETL/ELT процессов: https://bit.ly/3vDfxeJ▪️ Team Lead Data AnalystСпециалисту предстоит разрабатывать сложные или быстрые аналитические модели, искать причинно-следственные связи в данных: https://bit.ly/3QbiuKXЕще больше вакансий по ссылке: https://bit.ly/Tele2hh#data #engineer #team #tableau #бизнес #datascientist\n",
      "Reactions: 45\n",
      "Reactions: 1 комментарий\n",
      "Reactions: 7 репостов\n",
      "==================================================\n",
      "Post text: Продолжаем наши еженедельные подборки вакансий. Сегодня вакансии для BI экспертов, архитекторов и инженеров больших данных!Выбирайте интересную и присоединяйтесь к команде Data Office Tele2.▪️Администратор TableauЗдесь необходимо развивать Self-Service BI и популяризировать Tableau в компании: https://bit.ly/3OPCh1W▪️ETL разработчикСпециалисту предстоит настройка ETL/ELT процессов и ннтеграция Tableau с источниками данных: https://bit.ly/3BDURXV▪️Data Partner Нужно взаимодействовать с бизнес-функциями для обеспечения полного спектра работ, связанных с запросами по поставке данных и обеспечивать ad-hoc анализа и отчетности: https://bit.ly/3zm6RdG▪️BI Expert Предстоит организация внешнего и внутреннего обучения пользователей BI с целью повышения экспертизы:https://bit.ly/3brIl33▪️Senior Data EngineerЗовут участвовать в разработке и реализации архитектуры единого пространства данных компании: https://bit.ly/3P0v2UN▪️Team Lead Data Governance Специалист займется разработкой методологии создания проверок качества данных, выбором и внедрением инструментов автоматизации: https://bit.ly/3zTvAYz▪️Архитектор платформы данных Предстоит развивать централизованную Big Data Platform и систематизировать требования для развития DevOps, MlOps, DataOps: https://bit.ly/3cRj3M0▪️Team Lead Data ScientistНужно управлять командой Core/NonCore DS и формулировать гипотезы по улучшению конкретных бизнес-метрик за счет изменения других показателей: https://bit.ly/3vDfxeJЕще больше актуальных вакансий вы можете найти по ссылке: https://bit.ly/Tele2hh#team #data #engineer #datascientist #tableau #bigdata\n",
      "Reactions: 25\n",
      "Reactions: None\n",
      "Reactions: 6 репостов\n",
      "==================================================\n",
      "Post text: Do you often encounter skeptical attitudes among businesses toward machine learning and artificial intelligence?We are implementing tools to monitor and validate results to make the process more transparent and understandable. You may have even come across departments that evaluate models independently. But once this barrier is overcome, the picture changes, the business is asking for more and more solutions, which requires horizontal scaling of resources. To address this need, we at Tele2 Kazakhstan are developing MlOps practices. Globally, it helps in defining several standard classes of machine learning tasks, developing generic data processing pipelines, and training models.A majority of enterprises deploy MLOps principles across the following:- Exploratory data analysis (EDA)- Data Prep and Feature Engineering- Model training and tuning- Model review and governance- Model inference and serving- Model monitoring- Automated model retrainingWe have recently started to develop this area and we have room to grow, so if you are interested in developing in this direction, join us.\n",
      "Reactions: 16\n",
      "Reactions: None\n",
      "Reactions: 2 репоста\n",
      "==================================================\n",
      "Post text: None\n",
      "Reactions: 5\n",
      "Reactions: None\n",
      "Reactions: None\n",
      "==================================================\n",
      "Post text: None\n",
      "Reactions: None\n",
      "Reactions: None\n",
      "Reactions: None\n",
      "==================================================\n",
      "Post text: Tele2 Kazakhstan(Data Office) is actively looking for super heroes in the field of Data Governance(Head of DG, Data Stewards, DE, etc) one of the vital topics in BD. First of all, DG is a strategy for effective management of corporate data. And only then it is a set of tools that allows the business to understand what data assets it owns, how these data relate to each other, who uses them and how, and allows you to manage their quality. This is where we use Data Governance.Our main goal is to ensure the availability, usability, integrity and security of data used in the organization. For any further information you can contact me or Kristina Kopyeva, PMP, PMI-PBA\n",
      "Reactions: 23\n",
      "Reactions: None\n",
      "Reactions: 6 репостов\n",
      "==================================================\n",
      "Post text: Here we go again 🚀\n",
      "Reactions: 4\n",
      "Reactions: None\n",
      "Reactions: None\n",
      "==================================================\n",
      "Post text: None\n",
      "Reactions: 1\n",
      "Reactions: None\n",
      "Reactions: None\n",
      "==================================================\n",
      "Post text: Коллеги, если Вы или Ваши знакомые находятся в поиске работы - приходите, у нас много сложных задач.\n",
      "Reactions: 11\n",
      "Reactions: None\n",
      "Reactions: None\n",
      "==================================================\n"
     ]
    }
   ],
   "source": [
    "for post_src in posts:\n",
    "        post_text_div = post_src.find('div', {'class': 'feed-shared-update-v2__description-wrapper mr2'})\n",
    "\n",
    "        # if post_text_div is None:\n",
    "        #     print(post_src)\n",
    "\n",
    "        if post_text_div is not None:\n",
    "            post_text = post_text_div.find('span', {'dir': 'ltr'})\n",
    "        else:\n",
    "            post_text = None\n",
    "\n",
    "        # If post text is found\n",
    "        if post_text is not None:\n",
    "            post_text = post_text.get_text().strip()\n",
    "        print(f'Post text: {post_text}')\n",
    "\n",
    "        reaction_cnt = post_src.find('li', {'class': 'social-details-social-counts__reactions'})\n",
    "\n",
    "        # If number of reactions is written as text\n",
    "        # It has different class name\n",
    "        #if reaction_cnt is None:\n",
    "        #    reaction_cnt = post_src.find('span', {'class': 'social-details-social-counts__social-proof-text'})\n",
    "\n",
    "        if reaction_cnt is not None:\n",
    "            reaction_cnt = reaction_cnt.get_text().strip()\n",
    "        print(f'Reactions: {reaction_cnt}')\n",
    "        \n",
    "        comments_cnt = post_src.find('li', {'class': 'social-details-social-counts__comments'})\n",
    "        if comments_cnt is not None:\n",
    "            comments_cnt = comments_cnt.get_text().strip()\n",
    "        print(f'Reactions: {comments_cnt}')\n",
    "        \n",
    "        repost_cnt = post_src.find('li', {'class': 'social-details-social-counts__item social-details-social-counts__item--with-social-proof'})\n",
    "        if repost_cnt is not None:\n",
    "            repost_cnt = repost_cnt.get_text().strip()\n",
    "        print(f'Reactions: {repost_cnt}')\n",
    "        print('=' * 50)"
   ]
  },
  {
   "cell_type": "code",
   "execution_count": 204,
   "id": "ef8ccbef",
   "metadata": {},
   "outputs": [],
   "source": [
    "def get_and_print_profile_info(driver, profile_url):\n",
    "    driver.get(profile_url)        # this will open the link\n",
    "\n",
    "    # Extracting data from page with BeautifulSoup\n",
    "    src = driver.page_source\n",
    "\n",
    "    # Now using beautiful soup\n",
    "    soup = BeautifulSoup(src, 'lxml')\n",
    "\n",
    "    # Extracting the HTML of the complete introduction box\n",
    "    # that contains the name, company name, and the location\n",
    "    intro = soup.find('div', {'class': 'pv-text-details__left-panel'})\n",
    "\n",
    "    # print(intro)\n",
    "\n",
    "    # In case of an error, try changing the tags used here.\n",
    "    name_loc = intro.find(\"h1\")\n",
    "\n",
    "    # Extracting the Name\n",
    "    name = name_loc.get_text().strip()\n",
    "    # strip() is used to remove any extra blank spaces\n",
    "\n",
    "    works_at_loc = intro.find(\"div\", {'class': 'text-body-medium'})\n",
    "\n",
    "    # this gives us the HTML of the tag in which the Company Name is present\n",
    "    # Extracting the Company Name\n",
    "    works_at = works_at_loc.get_text().strip()\n",
    "\n",
    "    print(\"Name -->\", name,\n",
    "          \"\\nWorks At -->\", works_at)\n",
    "\n",
    "    POSTS_URL_SUFFIX = 'recent-activity/all/'\n",
    "\n",
    "    time.sleep(0.5)\n",
    "\n",
    "    # Get current url from browser\n",
    "    cur_profile_url = driver.current_url\n",
    "    print(cur_profile_url)\n",
    "\n",
    "    # Parse posts\n",
    "    get_and_print_user_posts(driver, cur_profile_url + POSTS_URL_SUFFIX)\n",
    "\n",
    "\n",
    "def get_and_print_user_posts(driver, posts_url):\n",
    "    driver.get(posts_url)\n",
    "\n",
    "    # Simulate scrolling to capture all posts\n",
    "    SCROLL_PAUSE_TIME = 1.5\n",
    "\n",
    "    # Get scroll height\n",
    "    last_height = driver.execute_script(\"return document.body.scrollHeight\")\n",
    "\n",
    "    # We can adjust this number to get more posts\n",
    "    NUM_SCROLLS = 5\n",
    "\n",
    "    for i in range(NUM_SCROLLS):\n",
    "        # Scroll down to bottom\n",
    "        driver.execute_script(\"window.scrollTo(0, document.body.scrollHeight);\")\n",
    "\n",
    "        # Wait to load page\n",
    "        time.sleep(SCROLL_PAUSE_TIME)\n",
    "\n",
    "        # Calculate new scroll height and compare with last scroll height\n",
    "        new_height = driver.execute_script(\"return document.body.scrollHeight\")\n",
    "        if new_height == last_height:\n",
    "            break\n",
    "        last_height = new_height\n",
    "\n",
    "    # Parsing posts\n",
    "    src = driver.page_source\n",
    "\n",
    "    # Now using beautiful soup\n",
    "    soup = BeautifulSoup(src, 'lxml')\n",
    "    # soup.prettify()\n",
    "\n",
    "    posts = soup.find_all('li', class_='profile-creator-shared-feed-update__container')\n",
    "    # print(posts)\n",
    "\n",
    "    print(f'Number of posts: {len(posts)}')\n",
    "    for post_src in posts:\n",
    "        post_text_div = post_src.find('div', {'class': 'feed-shared-update-v2__description-wrapper mr2'})\n",
    "\n",
    "        # if post_text_div is None:\n",
    "        #     print(post_src)\n",
    "\n",
    "        if post_text_div is not None:\n",
    "            post_text = post_text_div.find('span', {'dir': 'ltr'})\n",
    "        else:\n",
    "            post_text = None\n",
    "\n",
    "        # If post text is found\n",
    "        if post_text is not None:\n",
    "            post_text = post_text.get_text().strip()\n",
    "            print(f'Post text: {post_text}')\n",
    "\n",
    "        reaction_cnt = post_src.find('span', {'class': 'social-details-social-counts__reactions-count'})\n",
    "\n",
    "        # If number of reactions is written as text\n",
    "        # It has different class name\n",
    "        if reaction_cnt is None:\n",
    "            reaction_cnt = post_src.find('span', {'class': 'social-details-social-counts__social-proof-text'})\n",
    "\n",
    "        if reaction_cnt is not None:\n",
    "            reaction_cnt = reaction_cnt.get_text().strip()\n",
    "            print(f'Reactions: {reaction_cnt}')\n",
    "\n",
    "    return"
   ]
  },
  {
   "cell_type": "code",
   "execution_count": null,
   "id": "94659621",
   "metadata": {},
   "outputs": [],
   "source": []
  }
 ],
 "metadata": {
  "kernelspec": {
   "display_name": "Python 3 (ipykernel)",
   "language": "python",
   "name": "python3"
  },
  "language_info": {
   "codemirror_mode": {
    "name": "ipython",
    "version": 3
   },
   "file_extension": ".py",
   "mimetype": "text/x-python",
   "name": "python",
   "nbconvert_exporter": "python",
   "pygments_lexer": "ipython3",
   "version": "3.9.16"
  }
 },
 "nbformat": 4,
 "nbformat_minor": 5
}
