{
 "cells": [
  {
   "cell_type": "code",
   "execution_count": 48,
   "id": "82510112",
   "metadata": {},
   "outputs": [],
   "source": [
    "from bs4 import BeautifulSoup\n",
    "from selenium import webdriver\n",
    "from selenium.webdriver.common.by import By\n",
    "from selenium.webdriver.common.desired_capabilities import DesiredCapabilities\n",
    "from selenium.webdriver.support.wait import WebDriverWait\n",
    "\n",
    "import time\n",
    "import re\n",
    "import random\n",
    "import csv\n",
    "import os.path\n",
    "import yaml\n",
    "\n",
    "from pathlib import Path\n",
    "from tqdm import tqdm"
   ]
  },
  {
   "cell_type": "code",
   "execution_count": 66,
   "id": "fb5be72f",
   "metadata": {},
   "outputs": [],
   "source": [
    "creds = yaml.safe_load(Path(r'../credentials.yml').read_text())\n",
    "\n",
    "USER_LOGIN = creds['user']['USER_LOGIN']\n",
    "USER_PASSWORD = creds['user']['USER_PASSWORD']\n",
    "\n",
    "SCROLL_PAUSE_TIME = 0.5"
   ]
  },
  {
   "cell_type": "code",
   "execution_count": 65,
   "id": "0004da77",
   "metadata": {},
   "outputs": [],
   "source": [
    "def get_time(base: int) -> int:\n",
    "    '''\n",
    "    Returns randomized time shift, sometimes multiply shift by base.\n",
    "    '''\n",
    "    factor = random.randint(1, 20)\n",
    "    if factor == 1:\n",
    "        result = base + base * random.randint(1, 10)\n",
    "    else:\n",
    "        result = base + random.randint(1, 10)\n",
    "    return result"
   ]
  },
  {
   "cell_type": "code",
   "execution_count": 13,
   "id": "da978c04",
   "metadata": {},
   "outputs": [],
   "source": [
    "def session_init() -> None:\n",
    "    '''\n",
    "    Initialize session.\n",
    "    '''\n",
    "    global driver\n",
    "    caps = DesiredCapabilities().CHROME\n",
    "    caps['pageLoadStrategy'] = 'eager'\n",
    "    driver = webdriver.Chrome()"
   ]
  },
  {
   "cell_type": "code",
   "execution_count": 18,
   "id": "5748d7bd",
   "metadata": {},
   "outputs": [],
   "source": [
    "def log_in() -> None:\n",
    "    '''\n",
    "    Loggin in.\n",
    "    '''\n",
    "    try:\n",
    "        driver.find_element(By.CLASS_NAME, 'global-nav__me-photo')\n",
    "        return None\n",
    "    except:\n",
    "        driver.get(\"https://linkedin.com/uas/login\")\n",
    "        time.sleep(get_time(5))\n",
    "        username = driver.find_element(By.ID, \"username\")\n",
    "        username.send_keys(USER_LOGIN)\n",
    "        time.sleep(get_time(5))\n",
    "        pword = driver.find_element(By.ID, \"password\")\n",
    "        pword.send_keys(USER_PASSWORD)\n",
    "        time.sleep(get_time(5))\n",
    "        driver.find_element(By.XPATH, \"//button[@type='submit']\").click()\n",
    "        time.sleep(get_time(5))"
   ]
  },
  {
   "cell_type": "code",
   "execution_count": 63,
   "id": "28790bc5",
   "metadata": {},
   "outputs": [],
   "source": [
    "confs = yaml.safe_load(Path(r'../configuration.yml').read_text())\n",
    "keywords = []\n",
    "for title in confs['link_parsing']['titles']:\n",
    "    for prof in confs['link_parsing']['profs']:\n",
    "        keywords.append((title + ' ' + prof).strip().replace(' ','%20'))"
   ]
  },
  {
   "cell_type": "code",
   "execution_count": 7,
   "id": "bfd5a45f",
   "metadata": {},
   "outputs": [],
   "source": [
    "def csv_write(data: list, path: str, header: list=['account_link', 'search_keywords']) -> None:\n",
    "    '''\n",
    "    Write new line to csv file, if doen't exist - creates one with header.\n",
    "    '''\n",
    "    if not os.path.isfile(path):\n",
    "        with open (path, 'a', encoding='UTF8', newline='') as f:\n",
    "            writer = csv.writer(f)\n",
    "            writer.writerow(header)\n",
    "    with open (path, 'a', encoding='UTF8', newline='') as f:\n",
    "        writer = csv.writer(f)\n",
    "        writer.writerow(data)"
   ]
  },
  {
   "cell_type": "code",
   "execution_count": 67,
   "id": "b61db850",
   "metadata": {},
   "outputs": [],
   "source": [
    "def scroll_page() -> None:\n",
    "    '''\n",
    "    Scroll down till end of the page to make sure there is \"Next\" button.\n",
    "    '''\n",
    "    last_height = driver.execute_script(\"return document.body.scrollHeight\")\n",
    "    while True:\n",
    "        driver.execute_script(\"window.scrollTo(0, document.body.scrollHeight);\")\n",
    "        time.sleep(SCROLL_PAUSE_TIME)\n",
    "        new_height = driver.execute_script(\"return document.body.scrollHeight\")\n",
    "        if new_height == last_height:\n",
    "            break\n",
    "        last_height = new_height"
   ]
  },
  {
   "cell_type": "code",
   "execution_count": 70,
   "id": "93327cc1",
   "metadata": {},
   "outputs": [],
   "source": [
    "def parse_links(page_num: int=1, path: str=Path(r'..\\data\\raw\\data_frame.csv'), keywords: list=keywords) -> None:\n",
    "    '''\n",
    "    Search for keywords, navigate through pages and save links to path file.\n",
    "    '''\n",
    "    for keyword in tqdm(keywords, desc='Keywords: '):\n",
    "        driver.get(\n",
    "            'https://www.linkedin.com/search/results/people/?keywords='\n",
    "            + keyword\n",
    "            + '=GLOBAL_SEARCH_HEADER&sid=QDs'\n",
    "        )\n",
    "        for i in tqdm(range(page_num), desc='Pages: '):\n",
    "            search_result_links = driver.find_elements(By.CSS_SELECTOR, \"div.entity-result__item a.app-aware-link\")\n",
    "            for link in search_result_links:\n",
    "                href = link.get_attribute(\"href\")\n",
    "                if 'linkedin.com/in' in href:\n",
    "                    string = [href[:href.rfind('?miniProfileUrn')], keyword.replace('%20', ' ')]\n",
    "                    csv_write(string, path)\n",
    "            scroll_page()\n",
    "            try:\n",
    "                next_button = WebDriverWait(driver, timeout=30).until(\n",
    "                    lambda d: d.find_element(By.CLASS_NAME, 'artdeco-pagination__button--next')\n",
    "                )\n",
    "                next_button.click()\n",
    "                time.sleep(get_time(5))\n",
    "            except:\n",
    "                break"
   ]
  },
  {
   "cell_type": "code",
   "execution_count": 46,
   "id": "e2ee69ed",
   "metadata": {},
   "outputs": [],
   "source": [
    "session_init()\n",
    "log_in()"
   ]
  },
  {
   "cell_type": "code",
   "execution_count": 71,
   "id": "2cafe562",
   "metadata": {},
   "outputs": [
    {
     "name": "stderr",
     "output_type": "stream",
     "text": [
      "Keywords:   0%|                                                                                 | 0/36 [00:00<?, ?it/s]\n",
      "Pages:   0%|                                                                                     | 0/1 [00:00<?, ?it/s]\u001b[A\n",
      "Pages: 100%|█████████████████████████████████████████████████████████████████████████████| 1/1 [00:15<00:00, 15.17s/it]\u001b[A\n",
      "Keywords:   3%|██                                                                       | 1/36 [00:17<09:59, 17.13s/it]\n",
      "Pages:   0%|                                                                                     | 0/1 [00:00<?, ?it/s]\u001b[A\n",
      "Pages: 100%|█████████████████████████████████████████████████████████████████████████████| 1/1 [00:10<00:00, 10.13s/it]\u001b[A\n",
      "Keywords:   6%|████                                                                     | 2/36 [00:29<08:01, 14.17s/it]\n",
      "Pages:   0%|                                                                                     | 0/1 [00:00<?, ?it/s]\u001b[A\n",
      "Pages: 100%|█████████████████████████████████████████████████████████████████████████████| 1/1 [00:12<00:00, 12.33s/it]\u001b[A\n",
      "Keywords:   8%|██████                                                                   | 3/36 [00:43<07:54, 14.38s/it]\n",
      "Pages:   0%|                                                                                     | 0/1 [00:00<?, ?it/s]\u001b[A\n",
      "Pages: 100%|█████████████████████████████████████████████████████████████████████████████| 1/1 [00:09<00:00,  9.24s/it]\u001b[A\n",
      "Keywords:  11%|████████                                                                 | 4/36 [00:54<06:57, 13.06s/it]\n",
      "Pages:   0%|                                                                                     | 0/1 [00:00<?, ?it/s]\u001b[A\n",
      "Pages: 100%|█████████████████████████████████████████████████████████████████████████████| 1/1 [00:10<00:00, 10.22s/it]\u001b[A\n",
      "Keywords:  14%|██████████▏                                                              | 5/36 [01:07<06:37, 12.83s/it]\n",
      "Pages:   0%|                                                                                     | 0/1 [00:00<?, ?it/s]\u001b[A\n",
      "Pages: 100%|█████████████████████████████████████████████████████████████████████████████| 1/1 [00:10<00:00, 10.59s/it]\u001b[A\n",
      "Keywords:  17%|████████████▏                                                            | 6/36 [01:20<06:26, 12.87s/it]\n",
      "Pages:   0%|                                                                                     | 0/1 [00:00<?, ?it/s]\u001b[A\n",
      "Pages: 100%|█████████████████████████████████████████████████████████████████████████████| 1/1 [00:15<00:00, 15.10s/it]\u001b[A\n",
      "Keywords:  19%|██████████████▏                                                          | 7/36 [01:37<06:55, 14.33s/it]\n",
      "Pages:   0%|                                                                                     | 0/1 [00:00<?, ?it/s]\u001b[A\n",
      "Pages: 100%|█████████████████████████████████████████████████████████████████████████████| 1/1 [00:57<00:00, 57.12s/it]\u001b[A\n",
      "Keywords:  22%|████████████████▏                                                        | 8/36 [02:36<13:22, 28.67s/it]\n",
      "Pages:   0%|                                                                                     | 0/1 [00:00<?, ?it/s]\u001b[A\n",
      "Pages: 100%|█████████████████████████████████████████████████████████████████████████████| 1/1 [00:09<00:00,  9.19s/it]\u001b[A\n",
      "Keywords:  25%|██████████████████▎                                                      | 9/36 [02:48<10:29, 23.31s/it]\n",
      "Pages:   0%|                                                                                     | 0/1 [00:00<?, ?it/s]\u001b[A\n",
      "Pages: 100%|█████████████████████████████████████████████████████████████████████████████| 1/1 [00:12<00:00, 12.13s/it]\u001b[A\n",
      "Keywords:  28%|████████████████████                                                    | 10/36 [03:02<08:50, 20.40s/it]\n",
      "Pages:   0%|                                                                                     | 0/1 [00:00<?, ?it/s]\u001b[A\n",
      "Pages: 100%|█████████████████████████████████████████████████████████████████████████████| 1/1 [00:07<00:00,  7.60s/it]\u001b[A\n",
      "Keywords:  31%|██████████████████████                                                  | 11/36 [03:11<07:06, 17.07s/it]\n",
      "Pages:   0%|                                                                                     | 0/1 [00:00<?, ?it/s]\u001b[A\n",
      "Pages: 100%|█████████████████████████████████████████████████████████████████████████████| 1/1 [00:08<00:00,  8.15s/it]\u001b[A\n",
      "Keywords:  33%|████████████████████████                                                | 12/36 [03:22<06:00, 15.00s/it]\n",
      "Pages:   0%|                                                                                     | 0/1 [00:00<?, ?it/s]\u001b[A\n",
      "Pages: 100%|█████████████████████████████████████████████████████████████████████████████| 1/1 [00:08<00:00,  8.22s/it]\u001b[A\n",
      "Keywords:  36%|██████████████████████████                                              | 13/36 [03:32<05:10, 13.52s/it]\n",
      "Pages:   0%|                                                                                     | 0/1 [00:00<?, ?it/s]\u001b[A\n",
      "Pages: 100%|█████████████████████████████████████████████████████████████████████████████| 1/1 [00:09<00:00,  9.16s/it]\u001b[A\n",
      "Keywords:  39%|████████████████████████████                                            | 14/36 [03:43<04:42, 12.85s/it]\n",
      "Pages:   0%|                                                                                     | 0/1 [00:00<?, ?it/s]\u001b[A\n",
      "Pages: 100%|█████████████████████████████████████████████████████████████████████████████| 1/1 [00:11<00:00, 11.59s/it]\u001b[A\n",
      "Keywords:  42%|██████████████████████████████                                          | 15/36 [03:57<04:35, 13.11s/it]\n",
      "Pages:   0%|                                                                                     | 0/1 [00:00<?, ?it/s]\u001b[A\n",
      "Pages: 100%|█████████████████████████████████████████████████████████████████████████████| 1/1 [00:08<00:00,  8.07s/it]\u001b[A\n",
      "Keywords:  44%|████████████████████████████████                                        | 16/36 [04:07<04:04, 12.22s/it]\n",
      "Pages:   0%|                                                                                     | 0/1 [00:00<?, ?it/s]\u001b[A\n",
      "Pages: 100%|█████████████████████████████████████████████████████████████████████████████| 1/1 [00:16<00:00, 16.01s/it]\u001b[A\n",
      "Keywords:  47%|██████████████████████████████████                                      | 17/36 [04:25<04:24, 13.90s/it]\n",
      "Pages:   0%|                                                                                     | 0/1 [00:00<?, ?it/s]\u001b[A\n",
      "Pages: 100%|█████████████████████████████████████████████████████████████████████████████| 1/1 [00:15<00:00, 16.00s/it]\u001b[A\n",
      "Keywords:  50%|████████████████████████████████████                                    | 18/36 [04:42<04:30, 15.02s/it]\n",
      "Pages:   0%|                                                                                     | 0/1 [00:00<?, ?it/s]\u001b[A\n",
      "Pages: 100%|█████████████████████████████████████████████████████████████████████████████| 1/1 [00:16<00:00, 16.67s/it]\u001b[A\n",
      "Keywords:  53%|██████████████████████████████████████                                  | 19/36 [05:01<04:34, 16.15s/it]\n",
      "Pages:   0%|                                                                                     | 0/1 [00:00<?, ?it/s]\u001b[A\n",
      "Pages: 100%|█████████████████████████████████████████████████████████████████████████████| 1/1 [00:08<00:00,  8.10s/it]\u001b[A\n",
      "Keywords:  56%|████████████████████████████████████████                                | 20/36 [05:11<03:49, 14.37s/it]\n",
      "Pages:   0%|                                                                                     | 0/1 [00:00<?, ?it/s]\u001b[A\n",
      "Pages: 100%|█████████████████████████████████████████████████████████████████████████████| 1/1 [00:11<00:00, 11.26s/it]\u001b[A\n",
      "Keywords:  58%|██████████████████████████████████████████                              | 21/36 [05:25<03:31, 14.09s/it]\n",
      "Pages:   0%|                                                                                     | 0/1 [00:00<?, ?it/s]\u001b[A\n",
      "Pages: 100%|█████████████████████████████████████████████████████████████████████████████| 1/1 [00:09<00:00,  9.53s/it]\u001b[A\n",
      "Keywords:  61%|████████████████████████████████████████████                            | 22/36 [05:36<03:06, 13.29s/it]\n"
     ]
    },
    {
     "name": "stderr",
     "output_type": "stream",
     "text": [
      "Pages:   0%|                                                                                     | 0/1 [00:00<?, ?it/s]\u001b[A\n",
      "Pages: 100%|█████████████████████████████████████████████████████████████████████████████| 1/1 [00:15<00:00, 15.23s/it]\u001b[A\n",
      "Keywords:  64%|██████████████████████████████████████████████                          | 23/36 [05:54<03:09, 14.54s/it]\n",
      "Pages:   0%|                                                                                     | 0/1 [00:00<?, ?it/s]\u001b[A\n",
      "Pages: 100%|█████████████████████████████████████████████████████████████████████████████| 1/1 [00:10<00:00, 10.60s/it]\u001b[A\n",
      "Keywords:  67%|████████████████████████████████████████████████                        | 24/36 [06:08<02:55, 14.61s/it]\n",
      "Pages:   0%|                                                                                     | 0/1 [00:00<?, ?it/s]\u001b[A\n",
      "Pages: 100%|█████████████████████████████████████████████████████████████████████████████| 1/1 [00:12<00:00, 12.16s/it]\u001b[A\n",
      "Keywords:  69%|██████████████████████████████████████████████████                      | 25/36 [06:24<02:42, 14.73s/it]\n",
      "Pages:   0%|                                                                                     | 0/1 [00:00<?, ?it/s]\u001b[A\n",
      "Pages: 100%|█████████████████████████████████████████████████████████████████████████████| 1/1 [00:11<00:00, 11.42s/it]\u001b[A\n",
      "Keywords:  72%|████████████████████████████████████████████████████                    | 26/36 [06:38<02:26, 14.61s/it]\n",
      "Pages:   0%|                                                                                     | 0/1 [00:00<?, ?it/s]\u001b[A\n",
      "Pages: 100%|█████████████████████████████████████████████████████████████████████████████| 1/1 [00:08<00:00,  8.52s/it]\u001b[A\n",
      "Keywords:  75%|██████████████████████████████████████████████████████                  | 27/36 [06:56<02:20, 15.63s/it]\n",
      "Pages:   0%|                                                                                     | 0/1 [00:00<?, ?it/s]\u001b[A\n",
      "Pages: 100%|█████████████████████████████████████████████████████████████████████████████| 1/1 [00:15<00:00, 15.14s/it]\u001b[A\n",
      "Keywords:  78%|████████████████████████████████████████████████████████                | 28/36 [07:25<02:36, 19.55s/it]\n",
      "Pages:   0%|                                                                                     | 0/1 [00:00<?, ?it/s]\u001b[A\n",
      "Pages: 100%|█████████████████████████████████████████████████████████████████████████████| 1/1 [00:14<00:00, 14.05s/it]\u001b[A\n",
      "Keywords:  81%|██████████████████████████████████████████████████████████              | 29/36 [07:41<02:09, 18.51s/it]\n",
      "Pages:   0%|                                                                                     | 0/1 [00:00<?, ?it/s]\u001b[A\n",
      "Pages: 100%|█████████████████████████████████████████████████████████████████████████████| 1/1 [00:17<00:00, 17.20s/it]\u001b[A\n",
      "Keywords:  83%|████████████████████████████████████████████████████████████            | 30/36 [08:00<01:52, 18.74s/it]\n",
      "Pages:   0%|                                                                                     | 0/1 [00:00<?, ?it/s]\u001b[A\n",
      "Pages: 100%|█████████████████████████████████████████████████████████████████████████████| 1/1 [00:14<00:00, 14.12s/it]\u001b[A\n",
      "Keywords:  86%|██████████████████████████████████████████████████████████████          | 31/36 [08:16<01:29, 17.95s/it]\n",
      "Pages:   0%|                                                                                     | 0/1 [00:00<?, ?it/s]\u001b[A\n",
      "Pages: 100%|█████████████████████████████████████████████████████████████████████████████| 1/1 [00:10<00:00, 10.11s/it]\u001b[A\n",
      "Keywords:  89%|████████████████████████████████████████████████████████████████        | 32/36 [08:28<01:05, 16.28s/it]\n",
      "Pages:   0%|                                                                                     | 0/1 [00:31<?, ?it/s]\u001b[A\n",
      "Keywords:  92%|██████████████████████████████████████████████████████████████████      | 33/36 [09:02<01:04, 21.39s/it]\n",
      "Pages:   0%|                                                                                     | 0/1 [00:30<?, ?it/s]\u001b[A\n",
      "Keywords:  94%|████████████████████████████████████████████████████████████████████    | 34/36 [09:35<00:49, 24.95s/it]\n",
      "Pages:   0%|                                                                                     | 0/1 [00:30<?, ?it/s]\u001b[A\n",
      "Keywords:  97%|██████████████████████████████████████████████████████████████████████  | 35/36 [10:08<00:27, 27.35s/it]\n",
      "Pages:   0%|                                                                                     | 0/1 [00:30<?, ?it/s]\u001b[A\n",
      "Keywords: 100%|████████████████████████████████████████████████████████████████████████| 36/36 [10:40<00:00, 17.80s/it]\n"
     ]
    }
   ],
   "source": [
    "parse_links(page_num=1)"
   ]
  },
  {
   "cell_type": "code",
   "execution_count": 72,
   "id": "11c8c39a",
   "metadata": {},
   "outputs": [],
   "source": [
    "# close the Chrome browser\n",
    "driver.quit()"
   ]
  },
  {
   "cell_type": "code",
   "execution_count": 73,
   "id": "a2f0db2e",
   "metadata": {},
   "outputs": [
    {
     "name": "stdout",
     "output_type": "stream",
     "text": [
      "asd\n"
     ]
    },
    {
     "data": {
      "text/plain": [
       "'asd'"
      ]
     },
     "execution_count": 73,
     "metadata": {},
     "output_type": "execute_result"
    }
   ],
   "source": [
    "input()"
   ]
  },
  {
   "cell_type": "code",
   "execution_count": null,
   "id": "46b64ee5",
   "metadata": {},
   "outputs": [],
   "source": []
  }
 ],
 "metadata": {
  "kernelspec": {
   "display_name": "Python 3 (ipykernel)",
   "language": "python",
   "name": "python3"
  },
  "language_info": {
   "codemirror_mode": {
    "name": "ipython",
    "version": 3
   },
   "file_extension": ".py",
   "mimetype": "text/x-python",
   "name": "python",
   "nbconvert_exporter": "python",
   "pygments_lexer": "ipython3",
   "version": "3.9.16"
  }
 },
 "nbformat": 4,
 "nbformat_minor": 5
}
