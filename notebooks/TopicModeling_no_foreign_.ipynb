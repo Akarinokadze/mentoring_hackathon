{
  "cells": [
    {
      "cell_type": "markdown",
      "source": [
        "# Тeматическое моделирование"
      ],
      "metadata": {
        "id": "XSaOpXARTiW0"
      },
      "id": "XSaOpXARTiW0"
    },
    {
      "cell_type": "code",
      "source": [
        "! pip install spacy -q\n",
        "! python -m spacy download ru_core_news_sm -q\n"
      ],
      "metadata": {
        "id": "H2h3eBJpvbao",
        "colab": {
          "base_uri": "https://localhost:8080/"
        },
        "outputId": "3c2318d6-cf44-435c-c2ee-4f10ae8c7e8b"
      },
      "id": "H2h3eBJpvbao",
      "execution_count": 1,
      "outputs": [
        {
          "output_type": "stream",
          "name": "stdout",
          "text": [
            "2023-06-29 18:22:25.259121: I tensorflow/core/platform/cpu_feature_guard.cc:182] This TensorFlow binary is optimized to use available CPU instructions in performance-critical operations.\n",
            "To enable the following instructions: AVX2 FMA, in other operations, rebuild TensorFlow with the appropriate compiler flags.\n",
            "2023-06-29 18:22:27.196806: W tensorflow/compiler/tf2tensorrt/utils/py_utils.cc:38] TF-TRT Warning: Could not find TensorRT\n",
            "\u001b[2K     \u001b[90m━━━━━━━━━━━━━━━━━━━━━━━━━━━━━━━━━━━━━━━━\u001b[0m \u001b[32m15.3/15.3 MB\u001b[0m \u001b[31m15.4 MB/s\u001b[0m eta \u001b[36m0:00:00\u001b[0m\n",
            "\u001b[?25h\u001b[38;5;2m✔ Download and installation successful\u001b[0m\n",
            "You can now load the package via spacy.load('ru_core_news_sm')\n"
          ]
        }
      ]
    },
    {
      "cell_type": "markdown",
      "source": [
        "Подключаем библиотеки."
      ],
      "metadata": {
        "id": "CO33W1h7up0h"
      },
      "id": "CO33W1h7up0h"
    },
    {
      "cell_type": "code",
      "execution_count": 2,
      "id": "05e14367-7108-4bd4-9c23-0ef50bbe8fa5",
      "metadata": {
        "id": "05e14367-7108-4bd4-9c23-0ef50bbe8fa5",
        "colab": {
          "base_uri": "https://localhost:8080/"
        },
        "outputId": "3773dc66-7c7f-4df2-e2d8-a53e52347572"
      },
      "outputs": [
        {
          "output_type": "stream",
          "name": "stderr",
          "text": [
            "[nltk_data] Downloading package stopwords to /root/nltk_data...\n",
            "[nltk_data]   Package stopwords is already up-to-date!\n"
          ]
        }
      ],
      "source": [
        "import numpy as np\n",
        "import pandas as pd\n",
        "import matplotlib.pyplot as plt\n",
        "import seaborn as sns\n",
        "import spacy\n",
        "import re\n",
        "from sklearn.decomposition import LatentDirichletAllocation\n",
        "from sklearn.feature_extraction.text import TfidfVectorizer\n",
        "from nltk.corpus import stopwords\n",
        "import nltk\n",
        "nltk.download('stopwords')\n",
        "\n",
        "import json"
      ]
    },
    {
      "cell_type": "markdown",
      "id": "74a8f070-7580-4bff-ad2c-fec955194125",
      "metadata": {
        "id": "74a8f070-7580-4bff-ad2c-fec955194125"
      },
      "source": [
        "# Exploratory data analysis"
      ]
    },
    {
      "cell_type": "markdown",
      "source": [
        "Укажем путь к файлу."
      ],
      "metadata": {
        "id": "iNtV8Kssu5_6"
      },
      "id": "iNtV8Kssu5_6"
    },
    {
      "cell_type": "code",
      "source": [
        "!gdown 1WbUGXxfXmWnBy93DdFQdT28s8eZfZSjj"
      ],
      "metadata": {
        "id": "LMmjgpL7km52",
        "colab": {
          "base_uri": "https://localhost:8080/"
        },
        "outputId": "b514fd9b-d78d-4e46-d84a-0e94a2ba8497"
      },
      "id": "LMmjgpL7km52",
      "execution_count": 3,
      "outputs": [
        {
          "output_type": "stream",
          "name": "stdout",
          "text": [
            "Downloading...\n",
            "From: https://drive.google.com/uc?id=1WbUGXxfXmWnBy93DdFQdT28s8eZfZSjj\n",
            "To: /content/clean_posts.csv\n",
            "\r  0% 0.00/3.79M [00:00<?, ?B/s]\r100% 3.79M/3.79M [00:00<00:00, 212MB/s]\n"
          ]
        }
      ]
    },
    {
      "cell_type": "markdown",
      "source": [
        "Загрузим данные в dataframe."
      ],
      "metadata": {
        "id": "Z5xb2R32vFTl"
      },
      "id": "Z5xb2R32vFTl"
    },
    {
      "cell_type": "code",
      "execution_count": 4,
      "id": "04257713-482a-43bf-b4c8-27eb90e02c43",
      "metadata": {
        "id": "04257713-482a-43bf-b4c8-27eb90e02c43",
        "colab": {
          "base_uri": "https://localhost:8080/",
          "height": 476
        },
        "outputId": "539f09a4-180a-4bb5-b1e7-d3c8d7de29bc"
      },
      "outputs": [
        {
          "output_type": "execute_result",
          "data": {
            "text/plain": [
              "                                        account_link       search_keywords  \\\n",
              "0  https://www.linkedin.com/in/varvara-kulmeteva-...  senior web developer   \n",
              "1               https://www.linkedin.com/in/rauventa       senior frontend   \n",
              "2       https://www.linkedin.com/in/denis-kuchkildin   middle data analyst   \n",
              "3  https://www.linkedin.com/in/ACoAAC4yJzEB4TjXkJ...    senior ML engineer   \n",
              "4         https://www.linkedin.com/in/oleg-malyshkin  senior test engineer   \n",
              "\n",
              "                name                                              title  \\\n",
              "0  Varvara Kulmeteva            Senior Web Developer - IBS InfinitySoft   \n",
              "1     Ilya Moiseenko  LOOKING FOR \"Senior/Lead Frontend (React) Deve...   \n",
              "2   Denis Kuchkildin                           Data Analyst at X5 Group   \n",
              "3       Ian Silantev  MSc Data Science in University of East London ...   \n",
              "4     Oleg Malyshkin     Senior Test Automation Engineer at GlobalLogic   \n",
              "\n",
              "    works_at                                              intro  experience  \\\n",
              "0        IBS  Навыки: ReactJS · JavaScript · HTML · CSSНавык...        10.0   \n",
              "1  Centicore  Ilya, React Developer from Moscow.Ilya, React ...         8.0   \n",
              "2   X5 Group  I have a strong engineering background and mor...         6.0   \n",
              "3  Neurospot  Absolutely in love with Data Science, AI and M...         2.0   \n",
              "4        NaN  Hi everyone, I am Oleg Malyshkin - Senior Test...         4.0   \n",
              "\n",
              "                                place  posts_cnt  \\\n",
              "0  Москва, Московская область, Россия          0   \n",
              "1              Москва, Москва, Россия          1   \n",
              "2              Москва, Москва, Россия          1   \n",
              "3                     Тбилиси, Грузия          0   \n",
              "4                 Киев, Киев, Украина          9   \n",
              "\n",
              "                                           post_text  reaction_cnt  \\\n",
              "0                                                NaN           NaN   \n",
              "1  Я только что получил(а) значок за навык «JavaS...           1.0   \n",
              "2  Hi everyone - I am looking for a new role and ...           NaN   \n",
              "3                                                NaN           NaN   \n",
              "4  Finding a job for trainees and juniors is a ch...           1.0   \n",
              "\n",
              "   comments_cnt  repost_cnt  \n",
              "0           NaN         NaN  \n",
              "1           NaN         NaN  \n",
              "2           NaN         NaN  \n",
              "3           NaN         NaN  \n",
              "4           NaN         NaN  "
            ],
            "text/html": [
              "\n",
              "  <div id=\"df-8666af30-924f-4ad6-9815-da1539c9a8fb\">\n",
              "    <div class=\"colab-df-container\">\n",
              "      <div>\n",
              "<style scoped>\n",
              "    .dataframe tbody tr th:only-of-type {\n",
              "        vertical-align: middle;\n",
              "    }\n",
              "\n",
              "    .dataframe tbody tr th {\n",
              "        vertical-align: top;\n",
              "    }\n",
              "\n",
              "    .dataframe thead th {\n",
              "        text-align: right;\n",
              "    }\n",
              "</style>\n",
              "<table border=\"1\" class=\"dataframe\">\n",
              "  <thead>\n",
              "    <tr style=\"text-align: right;\">\n",
              "      <th></th>\n",
              "      <th>account_link</th>\n",
              "      <th>search_keywords</th>\n",
              "      <th>name</th>\n",
              "      <th>title</th>\n",
              "      <th>works_at</th>\n",
              "      <th>intro</th>\n",
              "      <th>experience</th>\n",
              "      <th>place</th>\n",
              "      <th>posts_cnt</th>\n",
              "      <th>post_text</th>\n",
              "      <th>reaction_cnt</th>\n",
              "      <th>comments_cnt</th>\n",
              "      <th>repost_cnt</th>\n",
              "    </tr>\n",
              "  </thead>\n",
              "  <tbody>\n",
              "    <tr>\n",
              "      <th>0</th>\n",
              "      <td>https://www.linkedin.com/in/varvara-kulmeteva-...</td>\n",
              "      <td>senior web developer</td>\n",
              "      <td>Varvara Kulmeteva</td>\n",
              "      <td>Senior Web Developer - IBS InfinitySoft</td>\n",
              "      <td>IBS</td>\n",
              "      <td>Навыки: ReactJS · JavaScript · HTML · CSSНавык...</td>\n",
              "      <td>10.0</td>\n",
              "      <td>Москва, Московская область, Россия</td>\n",
              "      <td>0</td>\n",
              "      <td>NaN</td>\n",
              "      <td>NaN</td>\n",
              "      <td>NaN</td>\n",
              "      <td>NaN</td>\n",
              "    </tr>\n",
              "    <tr>\n",
              "      <th>1</th>\n",
              "      <td>https://www.linkedin.com/in/rauventa</td>\n",
              "      <td>senior frontend</td>\n",
              "      <td>Ilya Moiseenko</td>\n",
              "      <td>LOOKING FOR \"Senior/Lead Frontend (React) Deve...</td>\n",
              "      <td>Centicore</td>\n",
              "      <td>Ilya, React Developer from Moscow.Ilya, React ...</td>\n",
              "      <td>8.0</td>\n",
              "      <td>Москва, Москва, Россия</td>\n",
              "      <td>1</td>\n",
              "      <td>Я только что получил(а) значок за навык «JavaS...</td>\n",
              "      <td>1.0</td>\n",
              "      <td>NaN</td>\n",
              "      <td>NaN</td>\n",
              "    </tr>\n",
              "    <tr>\n",
              "      <th>2</th>\n",
              "      <td>https://www.linkedin.com/in/denis-kuchkildin</td>\n",
              "      <td>middle data analyst</td>\n",
              "      <td>Denis Kuchkildin</td>\n",
              "      <td>Data Analyst at X5 Group</td>\n",
              "      <td>X5 Group</td>\n",
              "      <td>I have a strong engineering background and mor...</td>\n",
              "      <td>6.0</td>\n",
              "      <td>Москва, Москва, Россия</td>\n",
              "      <td>1</td>\n",
              "      <td>Hi everyone - I am looking for a new role and ...</td>\n",
              "      <td>NaN</td>\n",
              "      <td>NaN</td>\n",
              "      <td>NaN</td>\n",
              "    </tr>\n",
              "    <tr>\n",
              "      <th>3</th>\n",
              "      <td>https://www.linkedin.com/in/ACoAAC4yJzEB4TjXkJ...</td>\n",
              "      <td>senior ML engineer</td>\n",
              "      <td>Ian Silantev</td>\n",
              "      <td>MSc Data Science in University of East London ...</td>\n",
              "      <td>Neurospot</td>\n",
              "      <td>Absolutely in love with Data Science, AI and M...</td>\n",
              "      <td>2.0</td>\n",
              "      <td>Тбилиси, Грузия</td>\n",
              "      <td>0</td>\n",
              "      <td>NaN</td>\n",
              "      <td>NaN</td>\n",
              "      <td>NaN</td>\n",
              "      <td>NaN</td>\n",
              "    </tr>\n",
              "    <tr>\n",
              "      <th>4</th>\n",
              "      <td>https://www.linkedin.com/in/oleg-malyshkin</td>\n",
              "      <td>senior test engineer</td>\n",
              "      <td>Oleg Malyshkin</td>\n",
              "      <td>Senior Test Automation Engineer at GlobalLogic</td>\n",
              "      <td>NaN</td>\n",
              "      <td>Hi everyone, I am Oleg Malyshkin - Senior Test...</td>\n",
              "      <td>4.0</td>\n",
              "      <td>Киев, Киев, Украина</td>\n",
              "      <td>9</td>\n",
              "      <td>Finding a job for trainees and juniors is a ch...</td>\n",
              "      <td>1.0</td>\n",
              "      <td>NaN</td>\n",
              "      <td>NaN</td>\n",
              "    </tr>\n",
              "  </tbody>\n",
              "</table>\n",
              "</div>\n",
              "      <button class=\"colab-df-convert\" onclick=\"convertToInteractive('df-8666af30-924f-4ad6-9815-da1539c9a8fb')\"\n",
              "              title=\"Convert this dataframe to an interactive table.\"\n",
              "              style=\"display:none;\">\n",
              "        \n",
              "  <svg xmlns=\"http://www.w3.org/2000/svg\" height=\"24px\"viewBox=\"0 0 24 24\"\n",
              "       width=\"24px\">\n",
              "    <path d=\"M0 0h24v24H0V0z\" fill=\"none\"/>\n",
              "    <path d=\"M18.56 5.44l.94 2.06.94-2.06 2.06-.94-2.06-.94-.94-2.06-.94 2.06-2.06.94zm-11 1L8.5 8.5l.94-2.06 2.06-.94-2.06-.94L8.5 2.5l-.94 2.06-2.06.94zm10 10l.94 2.06.94-2.06 2.06-.94-2.06-.94-.94-2.06-.94 2.06-2.06.94z\"/><path d=\"M17.41 7.96l-1.37-1.37c-.4-.4-.92-.59-1.43-.59-.52 0-1.04.2-1.43.59L10.3 9.45l-7.72 7.72c-.78.78-.78 2.05 0 2.83L4 21.41c.39.39.9.59 1.41.59.51 0 1.02-.2 1.41-.59l7.78-7.78 2.81-2.81c.8-.78.8-2.07 0-2.86zM5.41 20L4 18.59l7.72-7.72 1.47 1.35L5.41 20z\"/>\n",
              "  </svg>\n",
              "      </button>\n",
              "      \n",
              "  <style>\n",
              "    .colab-df-container {\n",
              "      display:flex;\n",
              "      flex-wrap:wrap;\n",
              "      gap: 12px;\n",
              "    }\n",
              "\n",
              "    .colab-df-convert {\n",
              "      background-color: #E8F0FE;\n",
              "      border: none;\n",
              "      border-radius: 50%;\n",
              "      cursor: pointer;\n",
              "      display: none;\n",
              "      fill: #1967D2;\n",
              "      height: 32px;\n",
              "      padding: 0 0 0 0;\n",
              "      width: 32px;\n",
              "    }\n",
              "\n",
              "    .colab-df-convert:hover {\n",
              "      background-color: #E2EBFA;\n",
              "      box-shadow: 0px 1px 2px rgba(60, 64, 67, 0.3), 0px 1px 3px 1px rgba(60, 64, 67, 0.15);\n",
              "      fill: #174EA6;\n",
              "    }\n",
              "\n",
              "    [theme=dark] .colab-df-convert {\n",
              "      background-color: #3B4455;\n",
              "      fill: #D2E3FC;\n",
              "    }\n",
              "\n",
              "    [theme=dark] .colab-df-convert:hover {\n",
              "      background-color: #434B5C;\n",
              "      box-shadow: 0px 1px 3px 1px rgba(0, 0, 0, 0.15);\n",
              "      filter: drop-shadow(0px 1px 2px rgba(0, 0, 0, 0.3));\n",
              "      fill: #FFFFFF;\n",
              "    }\n",
              "  </style>\n",
              "\n",
              "      <script>\n",
              "        const buttonEl =\n",
              "          document.querySelector('#df-8666af30-924f-4ad6-9815-da1539c9a8fb button.colab-df-convert');\n",
              "        buttonEl.style.display =\n",
              "          google.colab.kernel.accessAllowed ? 'block' : 'none';\n",
              "\n",
              "        async function convertToInteractive(key) {\n",
              "          const element = document.querySelector('#df-8666af30-924f-4ad6-9815-da1539c9a8fb');\n",
              "          const dataTable =\n",
              "            await google.colab.kernel.invokeFunction('convertToInteractive',\n",
              "                                                     [key], {});\n",
              "          if (!dataTable) return;\n",
              "\n",
              "          const docLinkHtml = 'Like what you see? Visit the ' +\n",
              "            '<a target=\"_blank\" href=https://colab.research.google.com/notebooks/data_table.ipynb>data table notebook</a>'\n",
              "            + ' to learn more about interactive tables.';\n",
              "          element.innerHTML = '';\n",
              "          dataTable['output_type'] = 'display_data';\n",
              "          await google.colab.output.renderOutput(dataTable, element);\n",
              "          const docLink = document.createElement('div');\n",
              "          docLink.innerHTML = docLinkHtml;\n",
              "          element.appendChild(docLink);\n",
              "        }\n",
              "      </script>\n",
              "    </div>\n",
              "  </div>\n",
              "  "
            ]
          },
          "metadata": {},
          "execution_count": 4
        }
      ],
      "source": [
        "df = pd.read_csv('/content/clean_posts.csv')\n",
        "df.head()"
      ]
    },
    {
      "cell_type": "markdown",
      "source": [
        "Оставим только посты на русском."
      ],
      "metadata": {
        "id": "MykXph1xQx5H"
      },
      "id": "MykXph1xQx5H"
    },
    {
      "cell_type": "code",
      "source": [
        "df = df[df.post_text.astype('str').map(lambda x: x.isascii())==False]"
      ],
      "metadata": {
        "id": "WF7uPRlMQuig"
      },
      "execution_count": 5,
      "outputs": [],
      "id": "WF7uPRlMQuig"
    },
    {
      "cell_type": "markdown",
      "source": [
        "Посмотрим на размер выборки."
      ],
      "metadata": {
        "id": "tkVZ1N_yvKDX"
      },
      "id": "tkVZ1N_yvKDX"
    },
    {
      "cell_type": "code",
      "source": [
        "df.shape"
      ],
      "metadata": {
        "id": "LUFtlpIYscGu",
        "colab": {
          "base_uri": "https://localhost:8080/"
        },
        "outputId": "91d17176-6317-47f3-a7a4-f2b999e8b04c"
      },
      "id": "LUFtlpIYscGu",
      "execution_count": 6,
      "outputs": [
        {
          "output_type": "execute_result",
          "data": {
            "text/plain": [
              "(709, 13)"
            ]
          },
          "metadata": {},
          "execution_count": 6
        }
      ]
    },
    {
      "cell_type": "markdown",
      "source": [
        "Посчитаем колличество уникальных имен ссылок на аккаунты."
      ],
      "metadata": {
        "id": "nIxiKY0vv9G4"
      },
      "id": "nIxiKY0vv9G4"
    },
    {
      "cell_type": "code",
      "source": [
        "df.account_link.nunique()"
      ],
      "metadata": {
        "id": "49GjZL8vv1m-",
        "colab": {
          "base_uri": "https://localhost:8080/"
        },
        "outputId": "869e7795-6a85-408e-d86e-c394b0b297f7"
      },
      "id": "49GjZL8vv1m-",
      "execution_count": 7,
      "outputs": [
        {
          "output_type": "execute_result",
          "data": {
            "text/plain": [
              "188"
            ]
          },
          "metadata": {},
          "execution_count": 7
        }
      ]
    },
    {
      "cell_type": "markdown",
      "source": [
        "787 ссылок на аккаунты."
      ],
      "metadata": {
        "id": "wcjyZtaSyNU5"
      },
      "id": "wcjyZtaSyNU5"
    },
    {
      "cell_type": "markdown",
      "source": [
        "Посмотрим на места проживания пользователей. оТфитруем только тех, кто живет в РФ."
      ],
      "metadata": {
        "id": "_6L5wHSFFsBF"
      },
      "id": "_6L5wHSFFsBF"
    },
    {
      "cell_type": "code",
      "source": [
        "df.place.unique()"
      ],
      "metadata": {
        "colab": {
          "base_uri": "https://localhost:8080/"
        },
        "id": "f3NE2K3EF3Rx",
        "outputId": "e6fbff89-d9be-44e8-94e7-a4f3a423636a"
      },
      "id": "f3NE2K3EF3Rx",
      "execution_count": 8,
      "outputs": [
        {
          "output_type": "execute_result",
          "data": {
            "text/plain": [
              "array(['Москва, Москва, Россия', 'Киев, Киев, Украина',\n",
              "       'Батайск, Ростовская область, Россия', 'Россия',\n",
              "       'Лобня, Московская область, Россия',\n",
              "       'Республика Татарстан, Россия',\n",
              "       'Пушкино, Московская область, Россия', 'Аргентина',\n",
              "       'Санкт-Петербург, Санкт-Петербург, Россия',\n",
              "       'Ташкентская область, Узбекистан',\n",
              "       'Химки, Московская область, Россия',\n",
              "       'Рыбинск, Ярославская область, Россия',\n",
              "       'Москва, Московская область, Россия',\n",
              "       'Ставрополь, Ставропольский край, Россия',\n",
              "       'Краснодар, Краснодарский край, Россия', 'Бали, Индонезия',\n",
              "       'Москва, Россия', 'Пермь, Пермский край, Россия',\n",
              "       'Ярославль, Ярославская область, Россия',\n",
              "       'Нижний Новгород, Нижегородская область, Россия',\n",
              "       'Будва, Черногория', 'Ростов-на-Дону, Ростовская область, Россия',\n",
              "       'Алматы, Казахстан', 'Екатеринбург, Свердловская область, Россия',\n",
              "       'Уфа, Республика Башкортостан, Россия', 'Сербия',\n",
              "       'Домодедово, Московская область, Россия',\n",
              "       'Иваново, Ивановская область, Россия',\n",
              "       'Центральный округ, Израиль', 'Московская область, Россия',\n",
              "       'Никольское, Тверская область, Россия',\n",
              "       'Сочи, Краснодарский край, Россия', 'Подгорица, Черногория',\n",
              "       'Ереван, Ереван, Армения', 'Рязань, Рязанская область, Россия',\n",
              "       'Берлин, Берлин, Германия', 'Белград, Сербия',\n",
              "       'Республика Мордовия, Россия', 'Гданьск, Померания, Польша',\n",
              "       'Нижегородская область, Россия',\n",
              "       'Харьков, Харьковская область, Украина', 'Соединённое Королевство',\n",
              "       'Батуми, Грузия', 'Львов, Львовская область, Украина',\n",
              "       'Нагпур, Махараштра, Индия', 'Нови Сад, Воеводина, Сербия',\n",
              "       'Саратовская область, Россия', 'Свердловская область, Россия',\n",
              "       'Иркутская область, Россия', 'Агломерация Санкт-Петербурга',\n",
              "       'Киров, Кировская область, Россия',\n",
              "       'Калуга, Калужская область, Россия', 'Агломерация Москвы',\n",
              "       'Агломерация Днепра', 'Агломерация Мельбурна', 'Армения',\n",
              "       'Таламанка, Лимон, Коста-Рика', 'Тула, Тульская область, Россия',\n",
              "       'Краснодарский край, Россия'], dtype=object)"
            ]
          },
          "metadata": {},
          "execution_count": 8
        }
      ]
    },
    {
      "cell_type": "code",
      "source": [
        "foreign = ['Тбилиси, Грузия', 'Киев, Киев, Украина',\n",
        "       'Соединённое Королевство',  'Никосия, Никосия, Кипр',\n",
        "     'Аргентина',\n",
        "       'Республика Беларусь', 'Сербия',\n",
        "       'Нур-Султан, Казахстан',\n",
        "       'Ташкентская область, Узбекистан',\n",
        "       'Нью-Касл, Делавэр, Соединенные Штаты Америки', 'Бали, Индонезия',\n",
        "       'Бишкек, Киргизия',\n",
        "       'Будва, Черногория',\n",
        "       'Белград, Сербия', 'Алматы, Казахстан',\n",
        "       'Арона, Канарские Острова, Испания',\n",
        "       'Центральный округ, Израиль',\n",
        "       'Агломерация Генуи', 'Лимасол, Кипр', 'Батуми, Грузия',\n",
        "       'Эдмонтон, Альберта, Канада', 'Узбекистан',\n",
        "       'Область залива Сан-Франциско', 'Турция',\n",
        "       'София, Sofia City, Болгария',\n",
        "       'Хургада, Красное Море, Египет', 'Измир, Турция', 'Лимасол, Лимасол, Кипр', 'Израиль',\n",
        "       'Подгорица, Черногория', 'Ереван, Ереван, Армения',\n",
        "       'Берлин, Берлин, Германия',\n",
        "       'Варшава, Мазовецкое воеводство, Польша', 'Тель-Авивский округ, Израиль',\n",
        "       'Бернаби, Британская Колумбия, Канада', 'Бангкок, Таиланд',\n",
        "       'Нью-Йорк, Нью-Йорк, Соединенные Штаты Америки', 'Никосия, Кипр', 'Соединенные Штаты Америки',\n",
        "       'Агломерация Кирова', 'Голландия',\n",
        "       'Кривой Рог, Днепропетровская область, Украина',\n",
        "       'Budge Budge-I, Западная Бенгалия, Индия',\n",
        "       'Тель-Авив, Тель-Авивский округ, Израиль',\n",
        "       'Дубай, Объединённые Арабские Эмираты', 'Гданьск, Померания, Польша',\n",
        "       'Варанаси, Уттар-Прадеш, Индия',\n",
        "       'Ричмонд, Англия, Соединённое Королевство',\n",
        "       'Харьков, Харьковская область, Украина', 'Казахстан',\n",
        "       'Стокгольм, Лен Стокгольм, Швеция',\n",
        "       'Шарджа, Объединённые Арабские Эмираты', 'Ереван, Армения',\n",
        "       'Львов, Львовская область, Украина', 'Гонконг (Китай)',\n",
        "       'Сан-Хосе, Калифорния, Соединенные Штаты Америки',\n",
        "       'Нагпур, Махараштра, Индия', 'Нови Сад, Воеводина, Сербия', 'Алжир',\n",
        "       'Дубай, Дубай, Объединённые Арабские Эмираты', 'Филиппины', 'Агломерация Парижа',\n",
        "       'Агломерация Днепра', 'Ташкент, Узбекистан',\n",
        "       'Агломерация Мельбурна', 'Таламанка, Лимон, Коста-Рика',\n",
        "       'Лондон, Англия, Соединённое Королевство', 'Минск, Республика Беларусь']"
      ],
      "metadata": {
        "id": "ugd9B5vCFqkw"
      },
      "id": "ugd9B5vCFqkw",
      "execution_count": 9,
      "outputs": []
    },
    {
      "cell_type": "code",
      "source": [
        "df = df.query('place not in @foreign')"
      ],
      "metadata": {
        "id": "IRV7bYFjF7Be"
      },
      "id": "IRV7bYFjF7Be",
      "execution_count": 10,
      "outputs": []
    },
    {
      "cell_type": "code",
      "source": [
        "df.shape"
      ],
      "metadata": {
        "colab": {
          "base_uri": "https://localhost:8080/"
        },
        "id": "IU50OuWiGETH",
        "outputId": "b8f465df-6901-4014-b2a5-1a591eab7c88"
      },
      "id": "IU50OuWiGETH",
      "execution_count": 11,
      "outputs": [
        {
          "output_type": "execute_result",
          "data": {
            "text/plain": [
              "(608, 13)"
            ]
          },
          "metadata": {},
          "execution_count": 11
        }
      ]
    },
    {
      "cell_type": "markdown",
      "source": [
        "3/4 строк мы потеряли."
      ],
      "metadata": {
        "id": "fQua96LhGuZd"
      },
      "id": "fQua96LhGuZd"
    },
    {
      "cell_type": "markdown",
      "source": [
        "**Посмотрим на числянные признаки.**"
      ],
      "metadata": {
        "id": "qJIFGFONymFe"
      },
      "id": "qJIFGFONymFe"
    },
    {
      "cell_type": "code",
      "source": [
        "df.describe()"
      ],
      "metadata": {
        "id": "ce3U0ZElwBn0",
        "colab": {
          "base_uri": "https://localhost:8080/",
          "height": 301
        },
        "outputId": "7fa16df8-56d6-498d-d762-0b34ea309363"
      },
      "id": "ce3U0ZElwBn0",
      "execution_count": 12,
      "outputs": [
        {
          "output_type": "execute_result",
          "data": {
            "text/plain": [
              "       experience   posts_cnt  reaction_cnt  comments_cnt  repost_cnt\n",
              "count  607.000000  608.000000    529.000000    288.000000  290.000000\n",
              "mean    13.314662   32.485197      4.884688      3.815972    4.244828\n",
              "std     74.598097   48.707679      2.653602      2.465968    2.704358\n",
              "min      0.000000    1.000000      1.000000      1.000000    1.000000\n",
              "25%      2.000000    4.000000      2.000000      2.000000    2.000000\n",
              "50%      5.000000   10.000000      5.000000      3.000000    4.000000\n",
              "75%      9.000000   37.000000      7.000000      6.000000    7.000000\n",
              "max    853.000000  158.000000      9.000000      9.000000    9.000000"
            ],
            "text/html": [
              "\n",
              "  <div id=\"df-d33caef3-6b77-4d32-80df-19f9a9dcc041\">\n",
              "    <div class=\"colab-df-container\">\n",
              "      <div>\n",
              "<style scoped>\n",
              "    .dataframe tbody tr th:only-of-type {\n",
              "        vertical-align: middle;\n",
              "    }\n",
              "\n",
              "    .dataframe tbody tr th {\n",
              "        vertical-align: top;\n",
              "    }\n",
              "\n",
              "    .dataframe thead th {\n",
              "        text-align: right;\n",
              "    }\n",
              "</style>\n",
              "<table border=\"1\" class=\"dataframe\">\n",
              "  <thead>\n",
              "    <tr style=\"text-align: right;\">\n",
              "      <th></th>\n",
              "      <th>experience</th>\n",
              "      <th>posts_cnt</th>\n",
              "      <th>reaction_cnt</th>\n",
              "      <th>comments_cnt</th>\n",
              "      <th>repost_cnt</th>\n",
              "    </tr>\n",
              "  </thead>\n",
              "  <tbody>\n",
              "    <tr>\n",
              "      <th>count</th>\n",
              "      <td>607.000000</td>\n",
              "      <td>608.000000</td>\n",
              "      <td>529.000000</td>\n",
              "      <td>288.000000</td>\n",
              "      <td>290.000000</td>\n",
              "    </tr>\n",
              "    <tr>\n",
              "      <th>mean</th>\n",
              "      <td>13.314662</td>\n",
              "      <td>32.485197</td>\n",
              "      <td>4.884688</td>\n",
              "      <td>3.815972</td>\n",
              "      <td>4.244828</td>\n",
              "    </tr>\n",
              "    <tr>\n",
              "      <th>std</th>\n",
              "      <td>74.598097</td>\n",
              "      <td>48.707679</td>\n",
              "      <td>2.653602</td>\n",
              "      <td>2.465968</td>\n",
              "      <td>2.704358</td>\n",
              "    </tr>\n",
              "    <tr>\n",
              "      <th>min</th>\n",
              "      <td>0.000000</td>\n",
              "      <td>1.000000</td>\n",
              "      <td>1.000000</td>\n",
              "      <td>1.000000</td>\n",
              "      <td>1.000000</td>\n",
              "    </tr>\n",
              "    <tr>\n",
              "      <th>25%</th>\n",
              "      <td>2.000000</td>\n",
              "      <td>4.000000</td>\n",
              "      <td>2.000000</td>\n",
              "      <td>2.000000</td>\n",
              "      <td>2.000000</td>\n",
              "    </tr>\n",
              "    <tr>\n",
              "      <th>50%</th>\n",
              "      <td>5.000000</td>\n",
              "      <td>10.000000</td>\n",
              "      <td>5.000000</td>\n",
              "      <td>3.000000</td>\n",
              "      <td>4.000000</td>\n",
              "    </tr>\n",
              "    <tr>\n",
              "      <th>75%</th>\n",
              "      <td>9.000000</td>\n",
              "      <td>37.000000</td>\n",
              "      <td>7.000000</td>\n",
              "      <td>6.000000</td>\n",
              "      <td>7.000000</td>\n",
              "    </tr>\n",
              "    <tr>\n",
              "      <th>max</th>\n",
              "      <td>853.000000</td>\n",
              "      <td>158.000000</td>\n",
              "      <td>9.000000</td>\n",
              "      <td>9.000000</td>\n",
              "      <td>9.000000</td>\n",
              "    </tr>\n",
              "  </tbody>\n",
              "</table>\n",
              "</div>\n",
              "      <button class=\"colab-df-convert\" onclick=\"convertToInteractive('df-d33caef3-6b77-4d32-80df-19f9a9dcc041')\"\n",
              "              title=\"Convert this dataframe to an interactive table.\"\n",
              "              style=\"display:none;\">\n",
              "        \n",
              "  <svg xmlns=\"http://www.w3.org/2000/svg\" height=\"24px\"viewBox=\"0 0 24 24\"\n",
              "       width=\"24px\">\n",
              "    <path d=\"M0 0h24v24H0V0z\" fill=\"none\"/>\n",
              "    <path d=\"M18.56 5.44l.94 2.06.94-2.06 2.06-.94-2.06-.94-.94-2.06-.94 2.06-2.06.94zm-11 1L8.5 8.5l.94-2.06 2.06-.94-2.06-.94L8.5 2.5l-.94 2.06-2.06.94zm10 10l.94 2.06.94-2.06 2.06-.94-2.06-.94-.94-2.06-.94 2.06-2.06.94z\"/><path d=\"M17.41 7.96l-1.37-1.37c-.4-.4-.92-.59-1.43-.59-.52 0-1.04.2-1.43.59L10.3 9.45l-7.72 7.72c-.78.78-.78 2.05 0 2.83L4 21.41c.39.39.9.59 1.41.59.51 0 1.02-.2 1.41-.59l7.78-7.78 2.81-2.81c.8-.78.8-2.07 0-2.86zM5.41 20L4 18.59l7.72-7.72 1.47 1.35L5.41 20z\"/>\n",
              "  </svg>\n",
              "      </button>\n",
              "      \n",
              "  <style>\n",
              "    .colab-df-container {\n",
              "      display:flex;\n",
              "      flex-wrap:wrap;\n",
              "      gap: 12px;\n",
              "    }\n",
              "\n",
              "    .colab-df-convert {\n",
              "      background-color: #E8F0FE;\n",
              "      border: none;\n",
              "      border-radius: 50%;\n",
              "      cursor: pointer;\n",
              "      display: none;\n",
              "      fill: #1967D2;\n",
              "      height: 32px;\n",
              "      padding: 0 0 0 0;\n",
              "      width: 32px;\n",
              "    }\n",
              "\n",
              "    .colab-df-convert:hover {\n",
              "      background-color: #E2EBFA;\n",
              "      box-shadow: 0px 1px 2px rgba(60, 64, 67, 0.3), 0px 1px 3px 1px rgba(60, 64, 67, 0.15);\n",
              "      fill: #174EA6;\n",
              "    }\n",
              "\n",
              "    [theme=dark] .colab-df-convert {\n",
              "      background-color: #3B4455;\n",
              "      fill: #D2E3FC;\n",
              "    }\n",
              "\n",
              "    [theme=dark] .colab-df-convert:hover {\n",
              "      background-color: #434B5C;\n",
              "      box-shadow: 0px 1px 3px 1px rgba(0, 0, 0, 0.15);\n",
              "      filter: drop-shadow(0px 1px 2px rgba(0, 0, 0, 0.3));\n",
              "      fill: #FFFFFF;\n",
              "    }\n",
              "  </style>\n",
              "\n",
              "      <script>\n",
              "        const buttonEl =\n",
              "          document.querySelector('#df-d33caef3-6b77-4d32-80df-19f9a9dcc041 button.colab-df-convert');\n",
              "        buttonEl.style.display =\n",
              "          google.colab.kernel.accessAllowed ? 'block' : 'none';\n",
              "\n",
              "        async function convertToInteractive(key) {\n",
              "          const element = document.querySelector('#df-d33caef3-6b77-4d32-80df-19f9a9dcc041');\n",
              "          const dataTable =\n",
              "            await google.colab.kernel.invokeFunction('convertToInteractive',\n",
              "                                                     [key], {});\n",
              "          if (!dataTable) return;\n",
              "\n",
              "          const docLinkHtml = 'Like what you see? Visit the ' +\n",
              "            '<a target=\"_blank\" href=https://colab.research.google.com/notebooks/data_table.ipynb>data table notebook</a>'\n",
              "            + ' to learn more about interactive tables.';\n",
              "          element.innerHTML = '';\n",
              "          dataTable['output_type'] = 'display_data';\n",
              "          await google.colab.output.renderOutput(dataTable, element);\n",
              "          const docLink = document.createElement('div');\n",
              "          docLink.innerHTML = docLinkHtml;\n",
              "          element.appendChild(docLink);\n",
              "        }\n",
              "      </script>\n",
              "    </div>\n",
              "  </div>\n",
              "  "
            ]
          },
          "metadata": {},
          "execution_count": 12
        }
      ]
    },
    {
      "cell_type": "markdown",
      "source": [
        "# Experience - опыт."
      ],
      "metadata": {
        "id": "bQmLfPRH1Vqo"
      },
      "id": "bQmLfPRH1Vqo"
    },
    {
      "cell_type": "markdown",
      "source": [
        "Очевидно, что есть выбросы по опыту. Ну никак больше 100 лет у нас не может быть в этих данных. Тем более 1432 лет. Данный признак мы не оцениваем. Посмотрим сколько таких строк."
      ],
      "metadata": {
        "id": "36xqErGey6Us"
      },
      "id": "36xqErGey6Us"
    },
    {
      "cell_type": "code",
      "source": [
        "len(df[df.experience>100])"
      ],
      "metadata": {
        "id": "aWomxH-Pyv-8",
        "colab": {
          "base_uri": "https://localhost:8080/"
        },
        "outputId": "2614eab1-7d59-4f76-e519-79cd9dc097ee"
      },
      "id": "aWomxH-Pyv-8",
      "execution_count": 13,
      "outputs": [
        {
          "output_type": "execute_result",
          "data": {
            "text/plain": [
              "7"
            ]
          },
          "metadata": {},
          "execution_count": 13
        }
      ]
    },
    {
      "cell_type": "markdown",
      "source": [
        "Посмотрим, есть ли посты у людей сопытом более 100 лет."
      ],
      "metadata": {
        "id": "s1u89IgZ0Md8"
      },
      "id": "s1u89IgZ0Md8"
    },
    {
      "cell_type": "code",
      "source": [
        "df[df.experience>100].posts_cnt.value_counts(dropna=False)"
      ],
      "metadata": {
        "id": "P9Z4nwstzKxy",
        "colab": {
          "base_uri": "https://localhost:8080/"
        },
        "outputId": "a9792645-2f56-42d3-f5a4-cce67d592de0"
      },
      "id": "P9Z4nwstzKxy",
      "execution_count": 14,
      "outputs": [
        {
          "output_type": "execute_result",
          "data": {
            "text/plain": [
              "4    4\n",
              "8    3\n",
              "Name: posts_cnt, dtype: int64"
            ]
          },
          "metadata": {},
          "execution_count": 14
        }
      ]
    },
    {
      "cell_type": "markdown",
      "source": [
        "Посты есть, не будем их удалять. Но посмотри на распределение без этих значений."
      ],
      "metadata": {
        "id": "7SVwgIjl0T8-"
      },
      "id": "7SVwgIjl0T8-"
    },
    {
      "cell_type": "code",
      "source": [
        "sns.histplot(df.query('experience<100')['experience'], kde=True)\n",
        "plt.show()"
      ],
      "metadata": {
        "id": "F5tqO-yN0d1l",
        "colab": {
          "base_uri": "https://localhost:8080/",
          "height": 449
        },
        "outputId": "6af416df-77fc-44a8-828f-4236853394e6"
      },
      "id": "F5tqO-yN0d1l",
      "execution_count": 15,
      "outputs": [
        {
          "output_type": "display_data",
          "data": {
            "text/plain": [
              "<Figure size 640x480 with 1 Axes>"
            ],
            "image/png": "[encoded data removed]"
          },
          "metadata": {}
        }
      ]
    },
    {
      "cell_type": "markdown",
      "source": [
        "Как видно, большинство пользователей с опытом 10 лет. Резкий пик у 12. И еще более резкий спад. Людей с опытом более 30 лет практически нет."
      ],
      "metadata": {
        "id": "gylrHTO11A1Y"
      },
      "id": "gylrHTO11A1Y"
    },
    {
      "cell_type": "markdown",
      "source": [
        "# posts_cnt - кол-во постов."
      ],
      "metadata": {
        "id": "0Yww8_wJystJ"
      },
      "id": "0Yww8_wJystJ"
    },
    {
      "cell_type": "markdown",
      "source": [
        "Посмотрим на распредление по кол-ву постов."
      ],
      "metadata": {
        "id": "ODWnI0au1lGQ"
      },
      "id": "ODWnI0au1lGQ"
    },
    {
      "cell_type": "code",
      "source": [
        "sns.histplot(df.posts_cnt, kde=True)\n",
        "plt.show()"
      ],
      "metadata": {
        "id": "PoHA5VEW1rCD",
        "colab": {
          "base_uri": "https://localhost:8080/",
          "height": 449
        },
        "outputId": "895de39e-45d3-4c5a-85b9-fdbb804afa2e"
      },
      "id": "PoHA5VEW1rCD",
      "execution_count": 16,
      "outputs": [
        {
          "output_type": "display_data",
          "data": {
            "text/plain": [
              "<Figure size 640x480 with 1 Axes>"
            ],
            "image/png": "[encoded data removed]"
          },
          "metadata": {}
        }
      ]
    },
    {
      "cell_type": "markdown",
      "source": [
        "Большинство профилей не имеют постов. Есть единичные пики у 150 и 300. Посмотрим, сколько у нас таких пользователей."
      ],
      "metadata": {
        "id": "3zdX2Z-Z14mD"
      },
      "id": "3zdX2Z-Z14mD"
    },
    {
      "cell_type": "code",
      "source": [
        "df[df.posts_cnt>100]['name'].nunique()"
      ],
      "metadata": {
        "id": "iT7WhiBb4TUe",
        "colab": {
          "base_uri": "https://localhost:8080/"
        },
        "outputId": "18c2d650-e23a-40c9-d963-fd0b07c621b5"
      },
      "id": "iT7WhiBb4TUe",
      "execution_count": 17,
      "outputs": [
        {
          "output_type": "execute_result",
          "data": {
            "text/plain": [
              "1"
            ]
          },
          "metadata": {},
          "execution_count": 17
        }
      ]
    },
    {
      "cell_type": "markdown",
      "source": [
        "2 пользователя с таким кол-вом постов."
      ],
      "metadata": {
        "id": "YLHM3A554h0g"
      },
      "id": "YLHM3A554h0g"
    },
    {
      "cell_type": "markdown",
      "source": [
        "# reaction_cnt - кол-во реакций."
      ],
      "metadata": {
        "id": "ihvBZHII4208"
      },
      "id": "ihvBZHII4208"
    },
    {
      "cell_type": "markdown",
      "source": [
        "Посмотрим на распределение reaction_cnt."
      ],
      "metadata": {
        "id": "cq5N5ssf5vtX"
      },
      "id": "cq5N5ssf5vtX"
    },
    {
      "cell_type": "code",
      "source": [
        "sns.histplot(df.reaction_cnt, kde=True)\n",
        "plt.show()"
      ],
      "metadata": {
        "id": "yNbG2Iwv49gK",
        "colab": {
          "base_uri": "https://localhost:8080/",
          "height": 450
        },
        "outputId": "3069a8ec-9202-4be5-df04-7d426f9a36d6"
      },
      "id": "yNbG2Iwv49gK",
      "execution_count": 18,
      "outputs": [
        {
          "output_type": "display_data",
          "data": {
            "text/plain": [
              "<Figure size 640x480 with 1 Axes>"
            ],
            "image/png": "[encoded data removed]"
          },
          "metadata": {}
        }
      ]
    },
    {
      "cell_type": "markdown",
      "source": [
        "Здесь график больше похож на равномерное распределение. Есть и провалы, конечно. Посмотрим сколько постов без реакций."
      ],
      "metadata": {
        "id": "UXN8LQw65FBj"
      },
      "id": "UXN8LQw65FBj"
    },
    {
      "cell_type": "code",
      "source": [
        "df.reaction_cnt.value_counts(dropna=False)"
      ],
      "metadata": {
        "id": "R6ndd3786so1",
        "colab": {
          "base_uri": "https://localhost:8080/"
        },
        "outputId": "1f569266-9226-46af-f06d-7d2e7be5255a"
      },
      "id": "R6ndd3786so1",
      "execution_count": 19,
      "outputs": [
        {
          "output_type": "execute_result",
          "data": {
            "text/plain": [
              "NaN    79\n",
              "1.0    71\n",
              "2.0    64\n",
              "9.0    62\n",
              "5.0    62\n",
              "7.0    56\n",
              "6.0    55\n",
              "3.0    53\n",
              "4.0    53\n",
              "8.0    53\n",
              "Name: reaction_cnt, dtype: int64"
            ]
          },
          "metadata": {},
          "execution_count": 19
        }
      ]
    },
    {
      "cell_type": "markdown",
      "source": [
        "Получается, что около половины постов без реакций."
      ],
      "metadata": {
        "id": "nWU-s55Y61Md"
      },
      "id": "nWU-s55Y61Md"
    },
    {
      "cell_type": "markdown",
      "source": [
        "# comments_cnt - кол-во комментариев."
      ],
      "metadata": {
        "id": "prNdncfD5qSW"
      },
      "id": "prNdncfD5qSW"
    },
    {
      "cell_type": "markdown",
      "source": [
        "Посмотрим на распределение reaction_cnt."
      ],
      "metadata": {
        "id": "USRasYMz512p"
      },
      "id": "USRasYMz512p"
    },
    {
      "cell_type": "code",
      "source": [
        "sns.histplot(df.comments_cnt, kde=True)\n",
        "plt.show()"
      ],
      "metadata": {
        "id": "eLJAOYqB56sJ",
        "colab": {
          "base_uri": "https://localhost:8080/",
          "height": 449
        },
        "outputId": "6ff99539-5184-4141-fb44-de1ddf6ea113"
      },
      "id": "eLJAOYqB56sJ",
      "execution_count": 20,
      "outputs": [
        {
          "output_type": "display_data",
          "data": {
            "text/plain": [
              "<Figure size 640x480 with 1 Axes>"
            ],
            "image/png": "[encoded data removed]"
          },
          "metadata": {}
        }
      ]
    },
    {
      "cell_type": "markdown",
      "source": [
        "Здесь у нас пик у 1, далее спад. У большиства, конечно 0 в комментариях. Посмотрим, сколько их."
      ],
      "metadata": {
        "id": "MXlCtOb56Akh"
      },
      "id": "MXlCtOb56Akh"
    },
    {
      "cell_type": "code",
      "source": [
        "df.comments_cnt.value_counts(dropna=False)"
      ],
      "metadata": {
        "id": "ORRWvVh36Pdr",
        "colab": {
          "base_uri": "https://localhost:8080/"
        },
        "outputId": "fc4edd9d-b0de-43e7-eb11-6b744832b4e9"
      },
      "id": "ORRWvVh36Pdr",
      "execution_count": 21,
      "outputs": [
        {
          "output_type": "execute_result",
          "data": {
            "text/plain": [
              "NaN    320\n",
              "1.0     62\n",
              "2.0     55\n",
              "3.0     39\n",
              "4.0     27\n",
              "5.0     27\n",
              "8.0     25\n",
              "6.0     22\n",
              "7.0     22\n",
              "9.0      9\n",
              "Name: comments_cnt, dtype: int64"
            ]
          },
          "metadata": {},
          "execution_count": 21
        }
      ]
    },
    {
      "cell_type": "markdown",
      "source": [
        "3/4 постов без комментариев."
      ],
      "metadata": {
        "id": "q9NA01x57n0D"
      },
      "id": "q9NA01x57n0D"
    },
    {
      "cell_type": "markdown",
      "source": [
        "# repost_cnt - кол-во репостов."
      ],
      "metadata": {
        "id": "zbuVl2sy7Eve"
      },
      "id": "zbuVl2sy7Eve"
    },
    {
      "cell_type": "code",
      "source": [
        "sns.histplot(df.repost_cnt, kde=True)\n",
        "plt.show()"
      ],
      "metadata": {
        "id": "mUpD7kMy7S0B",
        "colab": {
          "base_uri": "https://localhost:8080/",
          "height": 449
        },
        "outputId": "147c5c42-f684-4bec-8445-d005f08d1857"
      },
      "id": "mUpD7kMy7S0B",
      "execution_count": 22,
      "outputs": [
        {
          "output_type": "display_data",
          "data": {
            "text/plain": [
              "<Figure size 640x480 with 1 Axes>"
            ],
            "image/png": "[encoded data removed]"
          },
          "metadata": {}
        }
      ]
    },
    {
      "cell_type": "markdown",
      "source": [
        "Здесь у нас пик у 1, далее спад. У большиства, конечно 0 в комментариях. Посмотрим, сколько их."
      ],
      "metadata": {
        "id": "hylEvVBz7hfp"
      },
      "id": "hylEvVBz7hfp"
    },
    {
      "cell_type": "code",
      "source": [
        "df.repost_cnt.value_counts(dropna=False)"
      ],
      "metadata": {
        "id": "v11TCQwG7jhl",
        "colab": {
          "base_uri": "https://localhost:8080/"
        },
        "outputId": "c440d220-faf3-45c3-91dd-6a26e8724625"
      },
      "id": "v11TCQwG7jhl",
      "execution_count": 22,
      "outputs": [
        {
          "output_type": "execute_result",
          "data": {
            "text/plain": [
              "NaN    318\n",
              "1.0     70\n",
              "3.0     46\n",
              "7.0     30\n",
              "4.0     30\n",
              "6.0     29\n",
              "9.0     25\n",
              "2.0     23\n",
              "8.0     21\n",
              "5.0     16\n",
              "Name: repost_cnt, dtype: int64"
            ]
          },
          "metadata": {},
          "execution_count": 22
        }
      ]
    },
    {
      "cell_type": "markdown",
      "source": [
        "3/4 постов без репостов."
      ],
      "metadata": {
        "id": "oAc10nnE7u2k"
      },
      "id": "oAc10nnE7u2k"
    },
    {
      "cell_type": "markdown",
      "source": [
        "Распределение репостов и комментариев очень похожи. Инетересно посмотреть, как они зависят друг от друга."
      ],
      "metadata": {
        "id": "XKYH9txR7zOS"
      },
      "id": "XKYH9txR7zOS"
    },
    {
      "cell_type": "code",
      "source": [
        "plt.figure(figsize=(6,4))\n",
        "sns.barplot(x='reaction_cnt', y='repost_cnt', data = df, palette='Blues')\n",
        "plt.title('repost_cnt - reaction_cnt')\n",
        "plt.show()"
      ],
      "metadata": {
        "id": "RATgcBQz79ji",
        "colab": {
          "base_uri": "https://localhost:8080/",
          "height": 410
        },
        "outputId": "ce4e0405-9906-49dc-9b2f-c505389b9e3e"
      },
      "id": "RATgcBQz79ji",
      "execution_count": 24,
      "outputs": [
        {
          "output_type": "display_data",
          "data": {
            "text/plain": [
              "<Figure size 600x400 with 1 Axes>"
            ],
            "image/png": "[encoded data removed]"
          },
          "metadata": {}
        }
      ]
    },
    {
      "cell_type": "markdown",
      "source": [
        "Все также логично, с увеличением кол-ва реакций на пост, увеличивается кол-во тех,к то репостит."
      ],
      "metadata": {
        "id": "SZ3wCl7-9J_e"
      },
      "id": "SZ3wCl7-9J_e"
    },
    {
      "cell_type": "markdown",
      "source": [
        "Посмотрим связано ли кол-во репостов с реакциями."
      ],
      "metadata": {
        "id": "QBqzX3Cj8p45"
      },
      "id": "QBqzX3Cj8p45"
    },
    {
      "cell_type": "code",
      "source": [
        "plt.figure(figsize=(6,4))\n",
        "sns.barplot(x='reaction_cnt', y='repost_cnt', data = df, palette='Blues')\n",
        "plt.title('repost_cnt - reaction_cnt')\n",
        "plt.show()"
      ],
      "metadata": {
        "id": "OGLR39Q88ymd",
        "colab": {
          "base_uri": "https://localhost:8080/",
          "height": 410
        },
        "outputId": "00873929-b1f2-4de1-faec-b0c9e667d7e9"
      },
      "id": "OGLR39Q88ymd",
      "execution_count": 23,
      "outputs": [
        {
          "output_type": "display_data",
          "data": {
            "text/plain": [
              "<Figure size 600x400 with 1 Axes>"
            ],
            "image/png": "[encoded data removed]"
          },
          "metadata": {}
        }
      ]
    },
    {
      "cell_type": "code",
      "source": [
        "df.head()"
      ],
      "metadata": {
        "id": "bc84A54B-NCy",
        "colab": {
          "base_uri": "https://localhost:8080/",
          "height": 441
        },
        "outputId": "78d57db8-ed49-4632-f675-1b5e0613acad"
      },
      "id": "bc84A54B-NCy",
      "execution_count": 24,
      "outputs": [
        {
          "output_type": "execute_result",
          "data": {
            "text/plain": [
              "                                         account_link     search_keywords  \\\n",
              "1                https://www.linkedin.com/in/rauventa     senior frontend   \n",
              "15          https://www.linkedin.com/in/ny-yakushenko            frontend   \n",
              "16          https://www.linkedin.com/in/ny-yakushenko            frontend   \n",
              "17          https://www.linkedin.com/in/ny-yakushenko            frontend   \n",
              "28  https://www.linkedin.com/in/yuriy-smirnov-9088...  lead web developer   \n",
              "\n",
              "                  name                                              title  \\\n",
              "1       Ilya Moiseenko  LOOKING FOR \"Senior/Lead Frontend (React) Deve...   \n",
              "15  Nikolay Yakushenko  Frontend | Full Stack Developer (JavaScript • ...   \n",
              "16  Nikolay Yakushenko  Frontend | Full Stack Developer (JavaScript • ...   \n",
              "17  Nikolay Yakushenko  Frontend | Full Stack Developer (JavaScript • ...   \n",
              "28       Yuriy Smirnov                                 Frontend developer   \n",
              "\n",
              "           works_at                                              intro  \\\n",
              "1         Centicore  Ilya, React Developer from Moscow.Ilya, React ...   \n",
              "15        ООО «АРР»  Являюсь Fullstack разработчиком, без труда вып...   \n",
              "16        ООО «АРР»  Являюсь Fullstack разработчиком, без труда вып...   \n",
              "17        ООО «АРР»  Являюсь Fullstack разработчиком, без труда вып...   \n",
              "28  Цифровая добыча  Навыки: Vite · Tailwind · TypeScript · Styled ...   \n",
              "\n",
              "    experience                                place  posts_cnt  \\\n",
              "1          8.0               Москва, Москва, Россия          1   \n",
              "15         3.0  Батайск, Ростовская область, Россия          3   \n",
              "16         3.0  Батайск, Ростовская область, Россия          3   \n",
              "17         3.0  Батайск, Ростовская область, Россия          3   \n",
              "28        15.0                               Россия          6   \n",
              "\n",
              "                                            post_text  reaction_cnt  \\\n",
              "1   Я только что получил(а) значок за навык «JavaS...           1.0   \n",
              "15  Невозможно представить свою жизнь без знания а...           9.0   \n",
              "16  𝟭𝟱 Сильных Артов о психологии и жизни 🧘‍♀️ Нау...           6.0   \n",
              "17  ✅Сервисы на базе ИИ ,которые помогут прокачать...           1.0   \n",
              "28  Всем доброго времени суток. В данный момент ра...           7.0   \n",
              "\n",
              "    comments_cnt  repost_cnt  \n",
              "1            NaN         NaN  \n",
              "15           6.0         7.0  \n",
              "16           1.0         6.0  \n",
              "17           NaN         1.0  \n",
              "28           NaN         2.0  "
            ],
            "text/html": [
              "\n",
              "  <div id=\"df-5cb7751e-eac6-4174-9e58-9d41d067ca17\">\n",
              "    <div class=\"colab-df-container\">\n",
              "      <div>\n",
              "<style scoped>\n",
              "    .dataframe tbody tr th:only-of-type {\n",
              "        vertical-align: middle;\n",
              "    }\n",
              "\n",
              "    .dataframe tbody tr th {\n",
              "        vertical-align: top;\n",
              "    }\n",
              "\n",
              "    .dataframe thead th {\n",
              "        text-align: right;\n",
              "    }\n",
              "</style>\n",
              "<table border=\"1\" class=\"dataframe\">\n",
              "  <thead>\n",
              "    <tr style=\"text-align: right;\">\n",
              "      <th></th>\n",
              "      <th>account_link</th>\n",
              "      <th>search_keywords</th>\n",
              "      <th>name</th>\n",
              "      <th>title</th>\n",
              "      <th>works_at</th>\n",
              "      <th>intro</th>\n",
              "      <th>experience</th>\n",
              "      <th>place</th>\n",
              "      <th>posts_cnt</th>\n",
              "      <th>post_text</th>\n",
              "      <th>reaction_cnt</th>\n",
              "      <th>comments_cnt</th>\n",
              "      <th>repost_cnt</th>\n",
              "    </tr>\n",
              "  </thead>\n",
              "  <tbody>\n",
              "    <tr>\n",
              "      <th>1</th>\n",
              "      <td>https://www.linkedin.com/in/rauventa</td>\n",
              "      <td>senior frontend</td>\n",
              "      <td>Ilya Moiseenko</td>\n",
              "      <td>LOOKING FOR \"Senior/Lead Frontend (React) Deve...</td>\n",
              "      <td>Centicore</td>\n",
              "      <td>Ilya, React Developer from Moscow.Ilya, React ...</td>\n",
              "      <td>8.0</td>\n",
              "      <td>Москва, Москва, Россия</td>\n",
              "      <td>1</td>\n",
              "      <td>Я только что получил(а) значок за навык «JavaS...</td>\n",
              "      <td>1.0</td>\n",
              "      <td>NaN</td>\n",
              "      <td>NaN</td>\n",
              "    </tr>\n",
              "    <tr>\n",
              "      <th>15</th>\n",
              "      <td>https://www.linkedin.com/in/ny-yakushenko</td>\n",
              "      <td>frontend</td>\n",
              "      <td>Nikolay Yakushenko</td>\n",
              "      <td>Frontend | Full Stack Developer (JavaScript • ...</td>\n",
              "      <td>ООО «АРР»</td>\n",
              "      <td>Являюсь Fullstack разработчиком, без труда вып...</td>\n",
              "      <td>3.0</td>\n",
              "      <td>Батайск, Ростовская область, Россия</td>\n",
              "      <td>3</td>\n",
              "      <td>Невозможно представить свою жизнь без знания а...</td>\n",
              "      <td>9.0</td>\n",
              "      <td>6.0</td>\n",
              "      <td>7.0</td>\n",
              "    </tr>\n",
              "    <tr>\n",
              "      <th>16</th>\n",
              "      <td>https://www.linkedin.com/in/ny-yakushenko</td>\n",
              "      <td>frontend</td>\n",
              "      <td>Nikolay Yakushenko</td>\n",
              "      <td>Frontend | Full Stack Developer (JavaScript • ...</td>\n",
              "      <td>ООО «АРР»</td>\n",
              "      <td>Являюсь Fullstack разработчиком, без труда вып...</td>\n",
              "      <td>3.0</td>\n",
              "      <td>Батайск, Ростовская область, Россия</td>\n",
              "      <td>3</td>\n",
              "      <td>𝟭𝟱 Сильных Артов о психологии и жизни 🧘‍♀️ Нау...</td>\n",
              "      <td>6.0</td>\n",
              "      <td>1.0</td>\n",
              "      <td>6.0</td>\n",
              "    </tr>\n",
              "    <tr>\n",
              "      <th>17</th>\n",
              "      <td>https://www.linkedin.com/in/ny-yakushenko</td>\n",
              "      <td>frontend</td>\n",
              "      <td>Nikolay Yakushenko</td>\n",
              "      <td>Frontend | Full Stack Developer (JavaScript • ...</td>\n",
              "      <td>ООО «АРР»</td>\n",
              "      <td>Являюсь Fullstack разработчиком, без труда вып...</td>\n",
              "      <td>3.0</td>\n",
              "      <td>Батайск, Ростовская область, Россия</td>\n",
              "      <td>3</td>\n",
              "      <td>✅Сервисы на базе ИИ ,которые помогут прокачать...</td>\n",
              "      <td>1.0</td>\n",
              "      <td>NaN</td>\n",
              "      <td>1.0</td>\n",
              "    </tr>\n",
              "    <tr>\n",
              "      <th>28</th>\n",
              "      <td>https://www.linkedin.com/in/yuriy-smirnov-9088...</td>\n",
              "      <td>lead web developer</td>\n",
              "      <td>Yuriy Smirnov</td>\n",
              "      <td>Frontend developer</td>\n",
              "      <td>Цифровая добыча</td>\n",
              "      <td>Навыки: Vite · Tailwind · TypeScript · Styled ...</td>\n",
              "      <td>15.0</td>\n",
              "      <td>Россия</td>\n",
              "      <td>6</td>\n",
              "      <td>Всем доброго времени суток. В данный момент ра...</td>\n",
              "      <td>7.0</td>\n",
              "      <td>NaN</td>\n",
              "      <td>2.0</td>\n",
              "    </tr>\n",
              "  </tbody>\n",
              "</table>\n",
              "</div>\n",
              "      <button class=\"colab-df-convert\" onclick=\"convertToInteractive('df-5cb7751e-eac6-4174-9e58-9d41d067ca17')\"\n",
              "              title=\"Convert this dataframe to an interactive table.\"\n",
              "              style=\"display:none;\">\n",
              "        \n",
              "  <svg xmlns=\"http://www.w3.org/2000/svg\" height=\"24px\"viewBox=\"0 0 24 24\"\n",
              "       width=\"24px\">\n",
              "    <path d=\"M0 0h24v24H0V0z\" fill=\"none\"/>\n",
              "    <path d=\"M18.56 5.44l.94 2.06.94-2.06 2.06-.94-2.06-.94-.94-2.06-.94 2.06-2.06.94zm-11 1L8.5 8.5l.94-2.06 2.06-.94-2.06-.94L8.5 2.5l-.94 2.06-2.06.94zm10 10l.94 2.06.94-2.06 2.06-.94-2.06-.94-.94-2.06-.94 2.06-2.06.94z\"/><path d=\"M17.41 7.96l-1.37-1.37c-.4-.4-.92-.59-1.43-.59-.52 0-1.04.2-1.43.59L10.3 9.45l-7.72 7.72c-.78.78-.78 2.05 0 2.83L4 21.41c.39.39.9.59 1.41.59.51 0 1.02-.2 1.41-.59l7.78-7.78 2.81-2.81c.8-.78.8-2.07 0-2.86zM5.41 20L4 18.59l7.72-7.72 1.47 1.35L5.41 20z\"/>\n",
              "  </svg>\n",
              "      </button>\n",
              "      \n",
              "  <style>\n",
              "    .colab-df-container {\n",
              "      display:flex;\n",
              "      flex-wrap:wrap;\n",
              "      gap: 12px;\n",
              "    }\n",
              "\n",
              "    .colab-df-convert {\n",
              "      background-color: #E8F0FE;\n",
              "      border: none;\n",
              "      border-radius: 50%;\n",
              "      cursor: pointer;\n",
              "      display: none;\n",
              "      fill: #1967D2;\n",
              "      height: 32px;\n",
              "      padding: 0 0 0 0;\n",
              "      width: 32px;\n",
              "    }\n",
              "\n",
              "    .colab-df-convert:hover {\n",
              "      background-color: #E2EBFA;\n",
              "      box-shadow: 0px 1px 2px rgba(60, 64, 67, 0.3), 0px 1px 3px 1px rgba(60, 64, 67, 0.15);\n",
              "      fill: #174EA6;\n",
              "    }\n",
              "\n",
              "    [theme=dark] .colab-df-convert {\n",
              "      background-color: #3B4455;\n",
              "      fill: #D2E3FC;\n",
              "    }\n",
              "\n",
              "    [theme=dark] .colab-df-convert:hover {\n",
              "      background-color: #434B5C;\n",
              "      box-shadow: 0px 1px 3px 1px rgba(0, 0, 0, 0.15);\n",
              "      filter: drop-shadow(0px 1px 2px rgba(0, 0, 0, 0.3));\n",
              "      fill: #FFFFFF;\n",
              "    }\n",
              "  </style>\n",
              "\n",
              "      <script>\n",
              "        const buttonEl =\n",
              "          document.querySelector('#df-5cb7751e-eac6-4174-9e58-9d41d067ca17 button.colab-df-convert');\n",
              "        buttonEl.style.display =\n",
              "          google.colab.kernel.accessAllowed ? 'block' : 'none';\n",
              "\n",
              "        async function convertToInteractive(key) {\n",
              "          const element = document.querySelector('#df-5cb7751e-eac6-4174-9e58-9d41d067ca17');\n",
              "          const dataTable =\n",
              "            await google.colab.kernel.invokeFunction('convertToInteractive',\n",
              "                                                     [key], {});\n",
              "          if (!dataTable) return;\n",
              "\n",
              "          const docLinkHtml = 'Like what you see? Visit the ' +\n",
              "            '<a target=\"_blank\" href=https://colab.research.google.com/notebooks/data_table.ipynb>data table notebook</a>'\n",
              "            + ' to learn more about interactive tables.';\n",
              "          element.innerHTML = '';\n",
              "          dataTable['output_type'] = 'display_data';\n",
              "          await google.colab.output.renderOutput(dataTable, element);\n",
              "          const docLink = document.createElement('div');\n",
              "          docLink.innerHTML = docLinkHtml;\n",
              "          element.appendChild(docLink);\n",
              "        }\n",
              "      </script>\n",
              "    </div>\n",
              "  </div>\n",
              "  "
            ]
          },
          "metadata": {},
          "execution_count": 24
        }
      ]
    },
    {
      "cell_type": "markdown",
      "source": [
        "Проверим, есть ли в данных рекрутеры."
      ],
      "metadata": {
        "id": "nqvyTfel-UO7"
      },
      "id": "nqvyTfel-UO7"
    },
    {
      "cell_type": "code",
      "source": [
        "df[df['title'].str.contains('Recruit')==True]"
      ],
      "metadata": {
        "id": "Np4scc6xahCq",
        "colab": {
          "base_uri": "https://localhost:8080/",
          "height": 50
        },
        "outputId": "6c3c6c67-2da4-4418-8f52-e55132630d22"
      },
      "id": "Np4scc6xahCq",
      "execution_count": 25,
      "outputs": [
        {
          "output_type": "execute_result",
          "data": {
            "text/plain": [
              "Empty DataFrame\n",
              "Columns: [account_link, search_keywords, name, title, works_at, intro, experience, place, posts_cnt, post_text, reaction_cnt, comments_cnt, repost_cnt]\n",
              "Index: []"
            ],
            "text/html": [
              "\n",
              "  <div id=\"df-7202dd00-59b8-411e-86bd-c3380ee36491\">\n",
              "    <div class=\"colab-df-container\">\n",
              "      <div>\n",
              "<style scoped>\n",
              "    .dataframe tbody tr th:only-of-type {\n",
              "        vertical-align: middle;\n",
              "    }\n",
              "\n",
              "    .dataframe tbody tr th {\n",
              "        vertical-align: top;\n",
              "    }\n",
              "\n",
              "    .dataframe thead th {\n",
              "        text-align: right;\n",
              "    }\n",
              "</style>\n",
              "<table border=\"1\" class=\"dataframe\">\n",
              "  <thead>\n",
              "    <tr style=\"text-align: right;\">\n",
              "      <th></th>\n",
              "      <th>account_link</th>\n",
              "      <th>search_keywords</th>\n",
              "      <th>name</th>\n",
              "      <th>title</th>\n",
              "      <th>works_at</th>\n",
              "      <th>intro</th>\n",
              "      <th>experience</th>\n",
              "      <th>place</th>\n",
              "      <th>posts_cnt</th>\n",
              "      <th>post_text</th>\n",
              "      <th>reaction_cnt</th>\n",
              "      <th>comments_cnt</th>\n",
              "      <th>repost_cnt</th>\n",
              "    </tr>\n",
              "  </thead>\n",
              "  <tbody>\n",
              "  </tbody>\n",
              "</table>\n",
              "</div>\n",
              "      <button class=\"colab-df-convert\" onclick=\"convertToInteractive('df-7202dd00-59b8-411e-86bd-c3380ee36491')\"\n",
              "              title=\"Convert this dataframe to an interactive table.\"\n",
              "              style=\"display:none;\">\n",
              "        \n",
              "  <svg xmlns=\"http://www.w3.org/2000/svg\" height=\"24px\"viewBox=\"0 0 24 24\"\n",
              "       width=\"24px\">\n",
              "    <path d=\"M0 0h24v24H0V0z\" fill=\"none\"/>\n",
              "    <path d=\"M18.56 5.44l.94 2.06.94-2.06 2.06-.94-2.06-.94-.94-2.06-.94 2.06-2.06.94zm-11 1L8.5 8.5l.94-2.06 2.06-.94-2.06-.94L8.5 2.5l-.94 2.06-2.06.94zm10 10l.94 2.06.94-2.06 2.06-.94-2.06-.94-.94-2.06-.94 2.06-2.06.94z\"/><path d=\"M17.41 7.96l-1.37-1.37c-.4-.4-.92-.59-1.43-.59-.52 0-1.04.2-1.43.59L10.3 9.45l-7.72 7.72c-.78.78-.78 2.05 0 2.83L4 21.41c.39.39.9.59 1.41.59.51 0 1.02-.2 1.41-.59l7.78-7.78 2.81-2.81c.8-.78.8-2.07 0-2.86zM5.41 20L4 18.59l7.72-7.72 1.47 1.35L5.41 20z\"/>\n",
              "  </svg>\n",
              "      </button>\n",
              "      \n",
              "  <style>\n",
              "    .colab-df-container {\n",
              "      display:flex;\n",
              "      flex-wrap:wrap;\n",
              "      gap: 12px;\n",
              "    }\n",
              "\n",
              "    .colab-df-convert {\n",
              "      background-color: #E8F0FE;\n",
              "      border: none;\n",
              "      border-radius: 50%;\n",
              "      cursor: pointer;\n",
              "      display: none;\n",
              "      fill: #1967D2;\n",
              "      height: 32px;\n",
              "      padding: 0 0 0 0;\n",
              "      width: 32px;\n",
              "    }\n",
              "\n",
              "    .colab-df-convert:hover {\n",
              "      background-color: #E2EBFA;\n",
              "      box-shadow: 0px 1px 2px rgba(60, 64, 67, 0.3), 0px 1px 3px 1px rgba(60, 64, 67, 0.15);\n",
              "      fill: #174EA6;\n",
              "    }\n",
              "\n",
              "    [theme=dark] .colab-df-convert {\n",
              "      background-color: #3B4455;\n",
              "      fill: #D2E3FC;\n",
              "    }\n",
              "\n",
              "    [theme=dark] .colab-df-convert:hover {\n",
              "      background-color: #434B5C;\n",
              "      box-shadow: 0px 1px 3px 1px rgba(0, 0, 0, 0.15);\n",
              "      filter: drop-shadow(0px 1px 2px rgba(0, 0, 0, 0.3));\n",
              "      fill: #FFFFFF;\n",
              "    }\n",
              "  </style>\n",
              "\n",
              "      <script>\n",
              "        const buttonEl =\n",
              "          document.querySelector('#df-7202dd00-59b8-411e-86bd-c3380ee36491 button.colab-df-convert');\n",
              "        buttonEl.style.display =\n",
              "          google.colab.kernel.accessAllowed ? 'block' : 'none';\n",
              "\n",
              "        async function convertToInteractive(key) {\n",
              "          const element = document.querySelector('#df-7202dd00-59b8-411e-86bd-c3380ee36491');\n",
              "          const dataTable =\n",
              "            await google.colab.kernel.invokeFunction('convertToInteractive',\n",
              "                                                     [key], {});\n",
              "          if (!dataTable) return;\n",
              "\n",
              "          const docLinkHtml = 'Like what you see? Visit the ' +\n",
              "            '<a target=\"_blank\" href=https://colab.research.google.com/notebooks/data_table.ipynb>data table notebook</a>'\n",
              "            + ' to learn more about interactive tables.';\n",
              "          element.innerHTML = '';\n",
              "          dataTable['output_type'] = 'display_data';\n",
              "          await google.colab.output.renderOutput(dataTable, element);\n",
              "          const docLink = document.createElement('div');\n",
              "          docLink.innerHTML = docLinkHtml;\n",
              "          element.appendChild(docLink);\n",
              "        }\n",
              "      </script>\n",
              "    </div>\n",
              "  </div>\n",
              "  "
            ]
          },
          "metadata": {},
          "execution_count": 25
        }
      ]
    },
    {
      "cell_type": "markdown",
      "source": [
        "Есть такие. Посмотрим сколько таких аккаунтов."
      ],
      "metadata": {
        "id": "O1vhcmFt-cqn"
      },
      "id": "O1vhcmFt-cqn"
    },
    {
      "cell_type": "code",
      "source": [
        "len(df[df['title'].str.contains('Recruiter')==True])"
      ],
      "metadata": {
        "id": "ygixdpwCauip",
        "colab": {
          "base_uri": "https://localhost:8080/"
        },
        "outputId": "e4059e4f-95f8-4179-a43b-a65c40bd950b"
      },
      "id": "ygixdpwCauip",
      "execution_count": 26,
      "outputs": [
        {
          "output_type": "execute_result",
          "data": {
            "text/plain": [
              "0"
            ]
          },
          "metadata": {},
          "execution_count": 26
        }
      ]
    },
    {
      "cell_type": "markdown",
      "source": [
        "Почистим данные от рекрутеров."
      ],
      "metadata": {
        "id": "KajVg2q_-y19"
      },
      "id": "KajVg2q_-y19"
    },
    {
      "cell_type": "code",
      "source": [
        "df = df[df['title'].str.contains('Recruiter')==False]"
      ],
      "metadata": {
        "id": "KC83ZnLKarGJ"
      },
      "id": "KC83ZnLKarGJ",
      "execution_count": 27,
      "outputs": []
    },
    {
      "cell_type": "code",
      "source": [
        "df.shape"
      ],
      "metadata": {
        "id": "xIxFJ3vfazDz",
        "colab": {
          "base_uri": "https://localhost:8080/"
        },
        "outputId": "626f9c61-4e88-46cb-f588-033661334901"
      },
      "execution_count": 28,
      "outputs": [
        {
          "output_type": "execute_result",
          "data": {
            "text/plain": [
              "(608, 13)"
            ]
          },
          "metadata": {},
          "execution_count": 28
        }
      ],
      "id": "xIxFJ3vfazDz"
    },
    {
      "cell_type": "code",
      "source": [
        "df.account_link.nunique()"
      ],
      "metadata": {
        "id": "GObc-7-8azD0",
        "colab": {
          "base_uri": "https://localhost:8080/"
        },
        "outputId": "bff5e764-9942-49bd-c472-47c576eb5344"
      },
      "execution_count": 29,
      "outputs": [
        {
          "output_type": "execute_result",
          "data": {
            "text/plain": [
              "163"
            ]
          },
          "metadata": {},
          "execution_count": 29
        }
      ],
      "id": "GObc-7-8azD0"
    },
    {
      "cell_type": "markdown",
      "source": [
        "Посмотрим на должности наших специалистов."
      ],
      "metadata": {
        "id": "wOXAua1V_C8E"
      },
      "id": "wOXAua1V_C8E"
    },
    {
      "cell_type": "code",
      "source": [
        "df.title.unique()"
      ],
      "metadata": {
        "id": "0w8LFXXf_B_D",
        "colab": {
          "base_uri": "https://localhost:8080/"
        },
        "outputId": "b6a0aaaa-9e4b-4991-c131-862ca7d8c095"
      },
      "id": "0w8LFXXf_B_D",
      "execution_count": 30,
      "outputs": [
        {
          "output_type": "execute_result",
          "data": {
            "text/plain": [
              "array(['LOOKING FOR \"Senior/Lead Frontend (React) Developer\" VACANCY',\n",
              "       'Frontend | Full Stack Developer (JavaScript • TypeScript • React • Redux • NodeJS)',\n",
              "       'Frontend developer',\n",
              "       'Frontend Developer (HTML, CSS, JS, React, Redux)',\n",
              "       'FrontEnd developer. React, Typescript, Redux, MobX, HTML, CSS, JS.',\n",
              "       'Software frontend engineer',\n",
              "       'Frontend Developer (JavaScript, React.js, TypeScript)',\n",
              "       'Frontend developer | React | TS | JS',\n",
              "       'Frontend Developer React/Next | TypeScript/Javascript(ES6+)',\n",
              "       'Frontend Engineer - Vue.js, Nuxt, Pinia, Vuex, Quasar, Strapi',\n",
              "       'Frontend Web (ES6+, React.JS, Node.JS ) Developer',\n",
              "       'Middle Frontend Developer',\n",
              "       'Frontend Developer – ООО \"АйТи Сервис Менеджмент\"',\n",
              "       'Frontend Разработчик (Vue/React) | Заинтересован в Релокации/Удалённой работе',\n",
              "       'Frontend Developer', 'Frontend разработчик / HTML - Верстальщик',\n",
              "       'Frontend Developer experienced in Agile web development',\n",
              "       'Frontend Developer (React, Redux, JS)',\n",
              "       'Frontend Dev  •  JavaScript  •  TypeScript • React  •  Redux  •  React Native',\n",
              "       'Frontend Developer / React Developer / JavaScript Developer',\n",
              "       'Frontend JavaScript Developer',\n",
              "       'Frontend Developer — React | Typescript',\n",
              "       'Frontend React / Backend .Net Developer',\n",
              "       'Frontend developer JavaScript | TypeScript | React | Redux Toolkit',\n",
              "       'Frontend Developer | JavaScript | TypeScript | React',\n",
              "       'Frontend Developer (React) | tg: @aleks_banks',\n",
              "       'Frontend Developer at VOXYS',\n",
              "       'Frontend-разработчик, владеющий HTML, CSS и JavaScript',\n",
              "       'Software engineer | Frontend', 'Python Developer | backend',\n",
              "       'Backend Developer | Golang, Docker, SQL, gRPC, Git',\n",
              "       'Backend Developer – Klever Label', 'Python Developer',\n",
              "       'Teamlead / Backend Developer', 'Python Backend Developer',\n",
              "       'Backend Developer - Самокат',\n",
              "       'Backend Developer | Java, Spring Framework, PostgreSQL, Hibernate',\n",
              "       'Backend Engineer in Avito', 'Backend Python developer',\n",
              "       'Backend Engineer', 'Frontend Engineer – Avito',\n",
              "       'Frontend Developer - React, Next.js, TypeScript, JavaScript',\n",
              "       'Senior Frontend Developer', 'Frontend Developer – SimbirSoft',\n",
              "       'Frontend Engineer в компании AliExpress Россия',\n",
              "       'Junior Frontend developer', 'Frontend Engineer',\n",
              "       'Frontend Developer (React)', 'Frontend React Developer',\n",
              "       'Frontend Developer – Avito', 'Frontend TeamLead',\n",
              "       'Frontend Developer – Софтерс',\n",
              "       'Frontend Developer | JavaScript, React, Redux, TypeScript',\n",
              "       'Frontend Software Engineer', 'Frontend Developer | Cian | Циан',\n",
              "       'Backend Developer (Python, Django, DRF)',\n",
              "       'Python Developer (backend) | Python, Django, PostgreSQL, Docker',\n",
              "       'Full Stack Javascript Developer at Elbrus Coding Bootcamp',\n",
              "       'Python / Django Developer',\n",
              "       'Machine Learning Engineer / Data Scientist - Tochka Bank',\n",
              "       'ML Engineer @ VK', 'ML Engineer', 'ML engineer',\n",
              "       'Data scientist | Analyst | ML-engineer',\n",
              "       'Senior ML Engineer — SberDevices',\n",
              "       'Software Engineer / ML Engineer – Yandex',\n",
              "       'ML / DL / CV Engineer', 'ML Engineer | Data Scientists',\n",
              "       'Senior Data Analyst at Alfa-Bank / Author: t.me/tagir_analyzes',\n",
              "       'Head Of QA', 'Senior QA Engineer – IT_One', 'Senior QA Engineer',\n",
              "       'Senior DevOps engineer', 'Lead Frontend Engineer, 27 y.o.',\n",
              "       'Team Lead Frontend at Skillbox', 'Backend Team Lead',\n",
              "       'Team Lead | Frontend Developer',\n",
              "       'Frontend Developer / Full stack Engineer',\n",
              "       'Lead Frontend Engineer | @OZON | Typescript, Vue, Accessibility | I help companies make a website more accessible and performant',\n",
              "       'Senior Frontend Developer at Altenar',\n",
              "       'Tech Lead Frontend - UCHi.RU', 'Frontend Tech Lead',\n",
              "       'Lead frontend developer',\n",
              "       'Frontend Web Developer в компании KOJO',\n",
              "       'Frontend Developer – \"Моя работа\"',\n",
              "       'Frontend Web Developer | JavaScript | TypeScript | React | Redux | HTML | CSS | Node.js | SQL',\n",
              "       'Frontend developer / React⚛️ / Redux / TypeScript / JavaScript / HTML5 / CSS3/SCSS/Less/Modules / Git / GitLab/ Gitea',\n",
              "       'Lead Data Analyst', 'Team Lead Data Analyst - Yandex Market',\n",
              "       'Lead Data Analyst/Data Engineer Team Lead – Ozon',\n",
              "       'Lead data analyst', 'Lead DWH Analyst, Data Architect',\n",
              "       'Data Analyst at Citi | SQL | Python | GIT | Tableau | Statistics | A/B testing',\n",
              "       'Lead Financial Data Analyst', 'Data Architect',\n",
              "       'Lead Data Scientist',\n",
              "       'Ведущий BI Аналитик - Tableau Certified Data Analyst',\n",
              "       'Head of Design', 'Data Analyst Team Lead at Сириус.Курсы',\n",
              "       'Data/Product Analyst (On the way to Analytics Team Lead 🤞)',\n",
              "       'Data Analytics Team Lead', 'Full Stack Web Developer/Team Lead',\n",
              "       'Ведущий веб-разработчик в компании ВКонтакте',\n",
              "       'Senior web developer', 'Lead Frontend Developer – Web Enthusiast',\n",
              "       'Lead Frontend Developer at Yandex',\n",
              "       'Lead Frontend Developer (Remote)', 'Developer',\n",
              "       'Frontend Developer at Dostavista.global',\n",
              "       'Lead Frontend Developer – Alfa-Bank', 'Backend lead – Ruport',\n",
              "       'Javascript разработчик, React, Redux, HTML5, CSS3',\n",
              "       'Frontend developer | Typescript | React',\n",
              "       'Frontend Developer – Strada Inc',\n",
              "       'Frontend JavaScript Developer || React, Redux', 'MANUAL QA',\n",
              "       'Lead Software Test Engineer – Luxoft',\n",
              "       'Lead Software Test Automation Engineer',\n",
              "       'Quality Assurance Engineer', 'Sr. SQA Engineer',\n",
              "       'Lead QA Engineer | Mobile | WEB | API | Quality Assurance | Quality Control | Test Automation | Manual Testing | Team Leadership | I help tech companies manage and optimise their software testing activities 👨🏻\\u200d💻',\n",
              "       'Remote Manual Senior QA Engineer/Lead',\n",
              "       'Lead DevOPS – MirTesen.ru', 'Lead Devops Engineer – ОМК-ИТ',\n",
              "       'AWS Certified SysOps Administrator, AWS Certified Solutions Architect, Lead DevOps Engineer',\n",
              "       'Lead/Senior DevOps Engineer | CKA certified',\n",
              "       'Lead DevOps Engineer – Т1.Сфера',\n",
              "       'Lead DevOps Specialist at IT_One',\n",
              "       'Lead Software Engineer at Sberbank',\n",
              "       'Frontend Developer || React', '<> frontend developer </>',\n",
              "       'Frontend Developer | React, Redux, JavaScript, TypeScript',\n",
              "       'Frontend Developer | React, Redux, TypeScript, Node.js',\n",
              "       'Frontend JavaScript Developer (React, Redux, MobX)',\n",
              "       'Frontend Teamlead at idaproject', 'Senior Software Engineer',\n",
              "       'ML Engineering Team Lead', 'Computer Vision Engineer',\n",
              "       'Python developer, DS, ML engineer',\n",
              "       'ML Engineer | Data Scientist | Python/Java/C++ Developer',\n",
              "       'Lead / Senior Software Developer', 'ML Research Engineer',\n",
              "       'Kaggle GrandMaster, Lead ML Engineer at Sber AI Lab',\n",
              "       'ML engineer at VK',\n",
              "       'Senior Data Scientist/ ML engineer/PhD student',\n",
              "       'Senior Backend Developer – StreamLayer Inc., ex-DevExpress',\n",
              "       'software engineer', 'Senior Backend Developer – Noveo Group'],\n",
              "      dtype=object)"
            ]
          },
          "metadata": {},
          "execution_count": 30
        }
      ]
    },
    {
      "cell_type": "code",
      "source": [
        "mistakes=['Ищу срочно: Главного геолога (изыскания)! Локация -Москва либо Тольятти', '17000+ | Комплексная помощь в поиске работы | im-konsalting.ru  | mail@im-konsalting.ru | WhatsApp/Telegram: 79643223069',\n",
        "            'Руководитель подразделений маркетинга и стратегического развития в крупных компаниях на B2C рынке | 11 000+','Строю крутые отделы продаж. Обучаю в формате «Реалити». Я - Владимир Якуба',\n",
        "            'Специалист по найму персонала – V Kontakte LLC',]\n",
        "df=df.query('title not in @mistakes')"
      ],
      "metadata": {
        "id": "hdekcOabeAcj"
      },
      "id": "hdekcOabeAcj",
      "execution_count": 31,
      "outputs": []
    },
    {
      "cell_type": "markdown",
      "source": [
        "Итого  наш предобработанный файл:"
      ],
      "metadata": {
        "id": "QUYMBGaTmGtv"
      },
      "id": "QUYMBGaTmGtv"
    },
    {
      "cell_type": "code",
      "source": [
        "df.shape"
      ],
      "metadata": {
        "id": "7z_6qovGmK2E",
        "colab": {
          "base_uri": "https://localhost:8080/"
        },
        "outputId": "43e711c1-fa3a-4c66-c886-b703a5d7143e"
      },
      "id": "7z_6qovGmK2E",
      "execution_count": 32,
      "outputs": [
        {
          "output_type": "execute_result",
          "data": {
            "text/plain": [
              "(608, 13)"
            ]
          },
          "metadata": {},
          "execution_count": 32
        }
      ]
    },
    {
      "cell_type": "markdown",
      "source": [
        "Это 2039 строк."
      ],
      "metadata": {
        "id": "tLZ0e4qBmQef"
      },
      "id": "tLZ0e4qBmQef"
    },
    {
      "cell_type": "code",
      "source": [
        "df.account_link.nunique()"
      ],
      "metadata": {
        "id": "XlUY1Q_QmP4f",
        "colab": {
          "base_uri": "https://localhost:8080/"
        },
        "outputId": "b27eebd7-6281-4a4c-abfd-35c7bae4cd31"
      },
      "id": "XlUY1Q_QmP4f",
      "execution_count": 33,
      "outputs": [
        {
          "output_type": "execute_result",
          "data": {
            "text/plain": [
              "163"
            ]
          },
          "metadata": {},
          "execution_count": 33
        }
      ]
    },
    {
      "cell_type": "markdown",
      "source": [
        "782 уникальных пользователей."
      ],
      "metadata": {
        "id": "-nqsCj8kmhwB"
      },
      "id": "-nqsCj8kmhwB"
    },
    {
      "cell_type": "code",
      "source": [
        "df"
      ],
      "metadata": {
        "id": "yHh1VgiCql19",
        "colab": {
          "base_uri": "https://localhost:8080/",
          "height": 919
        },
        "outputId": "c2ef2859-1c83-4ca6-9882-2b8f8cd64b37"
      },
      "id": "yHh1VgiCql19",
      "execution_count": 34,
      "outputs": [
        {
          "output_type": "execute_result",
          "data": {
            "text/plain": [
              "                                           account_link     search_keywords  \\\n",
              "1                  https://www.linkedin.com/in/rauventa     senior frontend   \n",
              "15            https://www.linkedin.com/in/ny-yakushenko            frontend   \n",
              "16            https://www.linkedin.com/in/ny-yakushenko            frontend   \n",
              "17            https://www.linkedin.com/in/ny-yakushenko            frontend   \n",
              "28    https://www.linkedin.com/in/yuriy-smirnov-9088...  lead web developer   \n",
              "...                                                 ...                 ...   \n",
              "2047                https://www.linkedin.com/in/sky3ddd      senior backend   \n",
              "2048                https://www.linkedin.com/in/sky3ddd      senior backend   \n",
              "2050                https://www.linkedin.com/in/sky3ddd      senior backend   \n",
              "2058           https://www.linkedin.com/in/evgenymelnik      senior backend   \n",
              "2076   https://www.linkedin.com/in/evgeny-ekim-a3077278      senior backend   \n",
              "\n",
              "                    name                                              title  \\\n",
              "1         Ilya Moiseenko  LOOKING FOR \"Senior/Lead Frontend (React) Deve...   \n",
              "15    Nikolay Yakushenko  Frontend | Full Stack Developer (JavaScript • ...   \n",
              "16    Nikolay Yakushenko  Frontend | Full Stack Developer (JavaScript • ...   \n",
              "17    Nikolay Yakushenko  Frontend | Full Stack Developer (JavaScript • ...   \n",
              "28         Yuriy Smirnov                                 Frontend developer   \n",
              "...                  ...                                                ...   \n",
              "2047      Alex Stakhanov  Senior Backend Developer – StreamLayer Inc., e...   \n",
              "2048      Alex Stakhanov  Senior Backend Developer – StreamLayer Inc., e...   \n",
              "2050      Alex Stakhanov  Senior Backend Developer – StreamLayer Inc., e...   \n",
              "2058       Evgeny Melnik                                  software engineer   \n",
              "2076         Evgeny Ekim             Senior Backend Developer – Noveo Group   \n",
              "\n",
              "              works_at                                              intro  \\\n",
              "1            Centicore  Ilya, React Developer from Moscow.Ilya, React ...   \n",
              "15           ООО «АРР»  Являюсь Fullstack разработчиком, без труда вып...   \n",
              "16           ООО «АРР»  Являюсь Fullstack разработчиком, без труда вып...   \n",
              "17           ООО «АРР»  Являюсь Fullstack разработчиком, без труда вып...   \n",
              "28     Цифровая добыча  Навыки: Vite · Tailwind · TypeScript · Styled ...   \n",
              "...                ...                                                ...   \n",
              "2047  StreamLayer Inc.  Currently I use: Typescript, gRPC, TypeORM, Po...   \n",
              "2048  StreamLayer Inc.  Currently I use: Typescript, gRPC, TypeORM, Po...   \n",
              "2050  StreamLayer Inc.  Currently I use: Typescript, gRPC, TypeORM, Po...   \n",
              "2058           DzenLab  Головная компания федеральной розничной сети м...   \n",
              "2076       SberDevices  Project manager of employees assessment and de...   \n",
              "\n",
              "      experience                                place  posts_cnt  \\\n",
              "1            8.0               Москва, Москва, Россия          1   \n",
              "15           3.0  Батайск, Ростовская область, Россия          3   \n",
              "16           3.0  Батайск, Ростовская область, Россия          3   \n",
              "17           3.0  Батайск, Ростовская область, Россия          3   \n",
              "28          15.0                               Россия          6   \n",
              "...          ...                                  ...        ...   \n",
              "2047        26.0       Тула, Тульская область, Россия          7   \n",
              "2048        26.0       Тула, Тульская область, Россия          7   \n",
              "2050        26.0       Тула, Тульская область, Россия          7   \n",
              "2058        14.0           Краснодарский край, Россия          2   \n",
              "2076        10.0               Москва, Москва, Россия          1   \n",
              "\n",
              "                                              post_text  reaction_cnt  \\\n",
              "1     Я только что получил(а) значок за навык «JavaS...           1.0   \n",
              "15    Невозможно представить свою жизнь без знания а...           9.0   \n",
              "16    𝟭𝟱 Сильных Артов о психологии и жизни 🧘‍♀️ Нау...           6.0   \n",
              "17    ✅Сервисы на базе ИИ ,которые помогут прокачать...           1.0   \n",
              "28    Всем доброго времени суток. В данный момент ра...           7.0   \n",
              "...                                                 ...           ...   \n",
              "2047  С удовольствием сообщаю, что я получил(а) новы...           9.0   \n",
              "2048  С удовольствием сообщаю, что я получил(а) новы...           2.0   \n",
              "2050  С удовольствием сообщаю, что я получил(а) новы...           1.0   \n",
              "2058  Ну что, java рулит :)С начала года в режиме ин...           1.0   \n",
              "2076  Привет!Этой публикацией я начинаю цикл статей ...           NaN   \n",
              "\n",
              "      comments_cnt  repost_cnt  \n",
              "1              NaN         NaN  \n",
              "15             6.0         7.0  \n",
              "16             1.0         6.0  \n",
              "17             NaN         1.0  \n",
              "28             NaN         2.0  \n",
              "...            ...         ...  \n",
              "2047           NaN         NaN  \n",
              "2048           1.0         NaN  \n",
              "2050           NaN         NaN  \n",
              "2058           3.0         NaN  \n",
              "2076           NaN         NaN  \n",
              "\n",
              "[608 rows x 13 columns]"
            ],
            "text/html": [
              "\n",
              "  <div id=\"df-9e404657-3384-4eea-adee-e71764ed3ef0\">\n",
              "    <div class=\"colab-df-container\">\n",
              "      <div>\n",
              "<style scoped>\n",
              "    .dataframe tbody tr th:only-of-type {\n",
              "        vertical-align: middle;\n",
              "    }\n",
              "\n",
              "    .dataframe tbody tr th {\n",
              "        vertical-align: top;\n",
              "    }\n",
              "\n",
              "    .dataframe thead th {\n",
              "        text-align: right;\n",
              "    }\n",
              "</style>\n",
              "<table border=\"1\" class=\"dataframe\">\n",
              "  <thead>\n",
              "    <tr style=\"text-align: right;\">\n",
              "      <th></th>\n",
              "      <th>account_link</th>\n",
              "      <th>search_keywords</th>\n",
              "      <th>name</th>\n",
              "      <th>title</th>\n",
              "      <th>works_at</th>\n",
              "      <th>intro</th>\n",
              "      <th>experience</th>\n",
              "      <th>place</th>\n",
              "      <th>posts_cnt</th>\n",
              "      <th>post_text</th>\n",
              "      <th>reaction_cnt</th>\n",
              "      <th>comments_cnt</th>\n",
              "      <th>repost_cnt</th>\n",
              "    </tr>\n",
              "  </thead>\n",
              "  <tbody>\n",
              "    <tr>\n",
              "      <th>1</th>\n",
              "      <td>https://www.linkedin.com/in/rauventa</td>\n",
              "      <td>senior frontend</td>\n",
              "      <td>Ilya Moiseenko</td>\n",
              "      <td>LOOKING FOR \"Senior/Lead Frontend (React) Deve...</td>\n",
              "      <td>Centicore</td>\n",
              "      <td>Ilya, React Developer from Moscow.Ilya, React ...</td>\n",
              "      <td>8.0</td>\n",
              "      <td>Москва, Москва, Россия</td>\n",
              "      <td>1</td>\n",
              "      <td>Я только что получил(а) значок за навык «JavaS...</td>\n",
              "      <td>1.0</td>\n",
              "      <td>NaN</td>\n",
              "      <td>NaN</td>\n",
              "    </tr>\n",
              "    <tr>\n",
              "      <th>15</th>\n",
              "      <td>https://www.linkedin.com/in/ny-yakushenko</td>\n",
              "      <td>frontend</td>\n",
              "      <td>Nikolay Yakushenko</td>\n",
              "      <td>Frontend | Full Stack Developer (JavaScript • ...</td>\n",
              "      <td>ООО «АРР»</td>\n",
              "      <td>Являюсь Fullstack разработчиком, без труда вып...</td>\n",
              "      <td>3.0</td>\n",
              "      <td>Батайск, Ростовская область, Россия</td>\n",
              "      <td>3</td>\n",
              "      <td>Невозможно представить свою жизнь без знания а...</td>\n",
              "      <td>9.0</td>\n",
              "      <td>6.0</td>\n",
              "      <td>7.0</td>\n",
              "    </tr>\n",
              "    <tr>\n",
              "      <th>16</th>\n",
              "      <td>https://www.linkedin.com/in/ny-yakushenko</td>\n",
              "      <td>frontend</td>\n",
              "      <td>Nikolay Yakushenko</td>\n",
              "      <td>Frontend | Full Stack Developer (JavaScript • ...</td>\n",
              "      <td>ООО «АРР»</td>\n",
              "      <td>Являюсь Fullstack разработчиком, без труда вып...</td>\n",
              "      <td>3.0</td>\n",
              "      <td>Батайск, Ростовская область, Россия</td>\n",
              "      <td>3</td>\n",
              "      <td>𝟭𝟱 Сильных Артов о психологии и жизни 🧘‍♀️ Нау...</td>\n",
              "      <td>6.0</td>\n",
              "      <td>1.0</td>\n",
              "      <td>6.0</td>\n",
              "    </tr>\n",
              "    <tr>\n",
              "      <th>17</th>\n",
              "      <td>https://www.linkedin.com/in/ny-yakushenko</td>\n",
              "      <td>frontend</td>\n",
              "      <td>Nikolay Yakushenko</td>\n",
              "      <td>Frontend | Full Stack Developer (JavaScript • ...</td>\n",
              "      <td>ООО «АРР»</td>\n",
              "      <td>Являюсь Fullstack разработчиком, без труда вып...</td>\n",
              "      <td>3.0</td>\n",
              "      <td>Батайск, Ростовская область, Россия</td>\n",
              "      <td>3</td>\n",
              "      <td>✅Сервисы на базе ИИ ,которые помогут прокачать...</td>\n",
              "      <td>1.0</td>\n",
              "      <td>NaN</td>\n",
              "      <td>1.0</td>\n",
              "    </tr>\n",
              "    <tr>\n",
              "      <th>28</th>\n",
              "      <td>https://www.linkedin.com/in/yuriy-smirnov-9088...</td>\n",
              "      <td>lead web developer</td>\n",
              "      <td>Yuriy Smirnov</td>\n",
              "      <td>Frontend developer</td>\n",
              "      <td>Цифровая добыча</td>\n",
              "      <td>Навыки: Vite · Tailwind · TypeScript · Styled ...</td>\n",
              "      <td>15.0</td>\n",
              "      <td>Россия</td>\n",
              "      <td>6</td>\n",
              "      <td>Всем доброго времени суток. В данный момент ра...</td>\n",
              "      <td>7.0</td>\n",
              "      <td>NaN</td>\n",
              "      <td>2.0</td>\n",
              "    </tr>\n",
              "    <tr>\n",
              "      <th>...</th>\n",
              "      <td>...</td>\n",
              "      <td>...</td>\n",
              "      <td>...</td>\n",
              "      <td>...</td>\n",
              "      <td>...</td>\n",
              "      <td>...</td>\n",
              "      <td>...</td>\n",
              "      <td>...</td>\n",
              "      <td>...</td>\n",
              "      <td>...</td>\n",
              "      <td>...</td>\n",
              "      <td>...</td>\n",
              "      <td>...</td>\n",
              "    </tr>\n",
              "    <tr>\n",
              "      <th>2047</th>\n",
              "      <td>https://www.linkedin.com/in/sky3ddd</td>\n",
              "      <td>senior backend</td>\n",
              "      <td>Alex Stakhanov</td>\n",
              "      <td>Senior Backend Developer – StreamLayer Inc., e...</td>\n",
              "      <td>StreamLayer Inc.</td>\n",
              "      <td>Currently I use: Typescript, gRPC, TypeORM, Po...</td>\n",
              "      <td>26.0</td>\n",
              "      <td>Тула, Тульская область, Россия</td>\n",
              "      <td>7</td>\n",
              "      <td>С удовольствием сообщаю, что я получил(а) новы...</td>\n",
              "      <td>9.0</td>\n",
              "      <td>NaN</td>\n",
              "      <td>NaN</td>\n",
              "    </tr>\n",
              "    <tr>\n",
              "      <th>2048</th>\n",
              "      <td>https://www.linkedin.com/in/sky3ddd</td>\n",
              "      <td>senior backend</td>\n",
              "      <td>Alex Stakhanov</td>\n",
              "      <td>Senior Backend Developer – StreamLayer Inc., e...</td>\n",
              "      <td>StreamLayer Inc.</td>\n",
              "      <td>Currently I use: Typescript, gRPC, TypeORM, Po...</td>\n",
              "      <td>26.0</td>\n",
              "      <td>Тула, Тульская область, Россия</td>\n",
              "      <td>7</td>\n",
              "      <td>С удовольствием сообщаю, что я получил(а) новы...</td>\n",
              "      <td>2.0</td>\n",
              "      <td>1.0</td>\n",
              "      <td>NaN</td>\n",
              "    </tr>\n",
              "    <tr>\n",
              "      <th>2050</th>\n",
              "      <td>https://www.linkedin.com/in/sky3ddd</td>\n",
              "      <td>senior backend</td>\n",
              "      <td>Alex Stakhanov</td>\n",
              "      <td>Senior Backend Developer – StreamLayer Inc., e...</td>\n",
              "      <td>StreamLayer Inc.</td>\n",
              "      <td>Currently I use: Typescript, gRPC, TypeORM, Po...</td>\n",
              "      <td>26.0</td>\n",
              "      <td>Тула, Тульская область, Россия</td>\n",
              "      <td>7</td>\n",
              "      <td>С удовольствием сообщаю, что я получил(а) новы...</td>\n",
              "      <td>1.0</td>\n",
              "      <td>NaN</td>\n",
              "      <td>NaN</td>\n",
              "    </tr>\n",
              "    <tr>\n",
              "      <th>2058</th>\n",
              "      <td>https://www.linkedin.com/in/evgenymelnik</td>\n",
              "      <td>senior backend</td>\n",
              "      <td>Evgeny Melnik</td>\n",
              "      <td>software engineer</td>\n",
              "      <td>DzenLab</td>\n",
              "      <td>Головная компания федеральной розничной сети м...</td>\n",
              "      <td>14.0</td>\n",
              "      <td>Краснодарский край, Россия</td>\n",
              "      <td>2</td>\n",
              "      <td>Ну что, java рулит :)С начала года в режиме ин...</td>\n",
              "      <td>1.0</td>\n",
              "      <td>3.0</td>\n",
              "      <td>NaN</td>\n",
              "    </tr>\n",
              "    <tr>\n",
              "      <th>2076</th>\n",
              "      <td>https://www.linkedin.com/in/evgeny-ekim-a3077278</td>\n",
              "      <td>senior backend</td>\n",
              "      <td>Evgeny Ekim</td>\n",
              "      <td>Senior Backend Developer – Noveo Group</td>\n",
              "      <td>SberDevices</td>\n",
              "      <td>Project manager of employees assessment and de...</td>\n",
              "      <td>10.0</td>\n",
              "      <td>Москва, Москва, Россия</td>\n",
              "      <td>1</td>\n",
              "      <td>Привет!Этой публикацией я начинаю цикл статей ...</td>\n",
              "      <td>NaN</td>\n",
              "      <td>NaN</td>\n",
              "      <td>NaN</td>\n",
              "    </tr>\n",
              "  </tbody>\n",
              "</table>\n",
              "<p>608 rows × 13 columns</p>\n",
              "</div>\n",
              "      <button class=\"colab-df-convert\" onclick=\"convertToInteractive('df-9e404657-3384-4eea-adee-e71764ed3ef0')\"\n",
              "              title=\"Convert this dataframe to an interactive table.\"\n",
              "              style=\"display:none;\">\n",
              "        \n",
              "  <svg xmlns=\"http://www.w3.org/2000/svg\" height=\"24px\"viewBox=\"0 0 24 24\"\n",
              "       width=\"24px\">\n",
              "    <path d=\"M0 0h24v24H0V0z\" fill=\"none\"/>\n",
              "    <path d=\"M18.56 5.44l.94 2.06.94-2.06 2.06-.94-2.06-.94-.94-2.06-.94 2.06-2.06.94zm-11 1L8.5 8.5l.94-2.06 2.06-.94-2.06-.94L8.5 2.5l-.94 2.06-2.06.94zm10 10l.94 2.06.94-2.06 2.06-.94-2.06-.94-.94-2.06-.94 2.06-2.06.94z\"/><path d=\"M17.41 7.96l-1.37-1.37c-.4-.4-.92-.59-1.43-.59-.52 0-1.04.2-1.43.59L10.3 9.45l-7.72 7.72c-.78.78-.78 2.05 0 2.83L4 21.41c.39.39.9.59 1.41.59.51 0 1.02-.2 1.41-.59l7.78-7.78 2.81-2.81c.8-.78.8-2.07 0-2.86zM5.41 20L4 18.59l7.72-7.72 1.47 1.35L5.41 20z\"/>\n",
              "  </svg>\n",
              "      </button>\n",
              "      \n",
              "  <style>\n",
              "    .colab-df-container {\n",
              "      display:flex;\n",
              "      flex-wrap:wrap;\n",
              "      gap: 12px;\n",
              "    }\n",
              "\n",
              "    .colab-df-convert {\n",
              "      background-color: #E8F0FE;\n",
              "      border: none;\n",
              "      border-radius: 50%;\n",
              "      cursor: pointer;\n",
              "      display: none;\n",
              "      fill: #1967D2;\n",
              "      height: 32px;\n",
              "      padding: 0 0 0 0;\n",
              "      width: 32px;\n",
              "    }\n",
              "\n",
              "    .colab-df-convert:hover {\n",
              "      background-color: #E2EBFA;\n",
              "      box-shadow: 0px 1px 2px rgba(60, 64, 67, 0.3), 0px 1px 3px 1px rgba(60, 64, 67, 0.15);\n",
              "      fill: #174EA6;\n",
              "    }\n",
              "\n",
              "    [theme=dark] .colab-df-convert {\n",
              "      background-color: #3B4455;\n",
              "      fill: #D2E3FC;\n",
              "    }\n",
              "\n",
              "    [theme=dark] .colab-df-convert:hover {\n",
              "      background-color: #434B5C;\n",
              "      box-shadow: 0px 1px 3px 1px rgba(0, 0, 0, 0.15);\n",
              "      filter: drop-shadow(0px 1px 2px rgba(0, 0, 0, 0.3));\n",
              "      fill: #FFFFFF;\n",
              "    }\n",
              "  </style>\n",
              "\n",
              "      <script>\n",
              "        const buttonEl =\n",
              "          document.querySelector('#df-9e404657-3384-4eea-adee-e71764ed3ef0 button.colab-df-convert');\n",
              "        buttonEl.style.display =\n",
              "          google.colab.kernel.accessAllowed ? 'block' : 'none';\n",
              "\n",
              "        async function convertToInteractive(key) {\n",
              "          const element = document.querySelector('#df-9e404657-3384-4eea-adee-e71764ed3ef0');\n",
              "          const dataTable =\n",
              "            await google.colab.kernel.invokeFunction('convertToInteractive',\n",
              "                                                     [key], {});\n",
              "          if (!dataTable) return;\n",
              "\n",
              "          const docLinkHtml = 'Like what you see? Visit the ' +\n",
              "            '<a target=\"_blank\" href=https://colab.research.google.com/notebooks/data_table.ipynb>data table notebook</a>'\n",
              "            + ' to learn more about interactive tables.';\n",
              "          element.innerHTML = '';\n",
              "          dataTable['output_type'] = 'display_data';\n",
              "          await google.colab.output.renderOutput(dataTable, element);\n",
              "          const docLink = document.createElement('div');\n",
              "          docLink.innerHTML = docLinkHtml;\n",
              "          element.appendChild(docLink);\n",
              "        }\n",
              "      </script>\n",
              "    </div>\n",
              "  </div>\n",
              "  "
            ]
          },
          "metadata": {},
          "execution_count": 34
        }
      ]
    },
    {
      "cell_type": "code",
      "source": [
        "df.place.unique()"
      ],
      "metadata": {
        "colab": {
          "base_uri": "https://localhost:8080/"
        },
        "id": "Cc2CZC6NEBPv",
        "outputId": "e9d19669-18ce-40c8-d7a5-1e3f2aa2d497"
      },
      "id": "Cc2CZC6NEBPv",
      "execution_count": 35,
      "outputs": [
        {
          "output_type": "execute_result",
          "data": {
            "text/plain": [
              "array(['Москва, Москва, Россия', 'Батайск, Ростовская область, Россия',\n",
              "       'Россия', 'Лобня, Московская область, Россия',\n",
              "       'Республика Татарстан, Россия',\n",
              "       'Пушкино, Московская область, Россия',\n",
              "       'Санкт-Петербург, Санкт-Петербург, Россия',\n",
              "       'Химки, Московская область, Россия',\n",
              "       'Рыбинск, Ярославская область, Россия',\n",
              "       'Москва, Московская область, Россия',\n",
              "       'Ставрополь, Ставропольский край, Россия',\n",
              "       'Краснодар, Краснодарский край, Россия', 'Москва, Россия',\n",
              "       'Пермь, Пермский край, Россия',\n",
              "       'Ярославль, Ярославская область, Россия',\n",
              "       'Нижний Новгород, Нижегородская область, Россия',\n",
              "       'Ростов-на-Дону, Ростовская область, Россия',\n",
              "       'Екатеринбург, Свердловская область, Россия',\n",
              "       'Уфа, Республика Башкортостан, Россия',\n",
              "       'Домодедово, Московская область, Россия',\n",
              "       'Иваново, Ивановская область, Россия',\n",
              "       'Московская область, Россия',\n",
              "       'Никольское, Тверская область, Россия',\n",
              "       'Сочи, Краснодарский край, Россия',\n",
              "       'Рязань, Рязанская область, Россия', 'Республика Мордовия, Россия',\n",
              "       'Нижегородская область, Россия', 'Саратовская область, Россия',\n",
              "       'Свердловская область, Россия', 'Иркутская область, Россия',\n",
              "       'Агломерация Санкт-Петербурга', 'Киров, Кировская область, Россия',\n",
              "       'Калуга, Калужская область, Россия', 'Агломерация Москвы',\n",
              "       'Армения', 'Тула, Тульская область, Россия',\n",
              "       'Краснодарский край, Россия'], dtype=object)"
            ]
          },
          "metadata": {},
          "execution_count": 35
        }
      ]
    },
    {
      "cell_type": "code",
      "source": [],
      "metadata": {
        "id": "GctJaTwvERzN"
      },
      "id": "GctJaTwvERzN",
      "execution_count": 35,
      "outputs": []
    },
    {
      "cell_type": "markdown",
      "id": "9ee26cb6-e682-43ed-ba93-32212486112b",
      "metadata": {
        "id": "9ee26cb6-e682-43ed-ba93-32212486112b"
      },
      "source": [
        "## Подготовка текстов"
      ]
    },
    {
      "cell_type": "markdown",
      "id": "1fc70781-b907-46c4-a0f2-f235bf07e5ce",
      "metadata": {
        "id": "1fc70781-b907-46c4-a0f2-f235bf07e5ce"
      },
      "source": [
        "Токенизацию и лемматизацию текстов."
      ]
    },
    {
      "cell_type": "markdown",
      "id": "60f9883f-6a40-4566-9034-f014d5887f4b",
      "metadata": {
        "id": "60f9883f-6a40-4566-9034-f014d5887f4b"
      },
      "source": [
        "Устанавливаем либу и качаем русскоязычную модель _ru_core_news_sm_."
      ]
    },
    {
      "cell_type": "code",
      "execution_count": 36,
      "id": "dc7e7c2d-09d1-46b7-a653-60e5e66d3a60",
      "metadata": {
        "id": "dc7e7c2d-09d1-46b7-a653-60e5e66d3a60"
      },
      "outputs": [],
      "source": [
        "model = spacy.load('ru_core_news_sm', disable=['ner', 'parser'])"
      ]
    },
    {
      "cell_type": "markdown",
      "id": "d51a353e-6397-4135-90f5-4d7a2f2676d8",
      "metadata": {
        "id": "d51a353e-6397-4135-90f5-4d7a2f2676d8"
      },
      "source": [
        "Складываем все посты в один список"
      ]
    },
    {
      "cell_type": "code",
      "source": [
        "df.post_text.isna().sum()"
      ],
      "metadata": {
        "id": "GrRDOZkTt8VI",
        "colab": {
          "base_uri": "https://localhost:8080/"
        },
        "outputId": "bb2db87b-79d5-45e2-c74e-0f32f0cbc1d1"
      },
      "id": "GrRDOZkTt8VI",
      "execution_count": 37,
      "outputs": [
        {
          "output_type": "execute_result",
          "data": {
            "text/plain": [
              "0"
            ]
          },
          "metadata": {},
          "execution_count": 37
        }
      ]
    },
    {
      "cell_type": "code",
      "source": [
        "df[\"post_text\"] = df[\"post_text\"].dropna()"
      ],
      "metadata": {
        "id": "EjxXeZp6mLAy"
      },
      "id": "EjxXeZp6mLAy",
      "execution_count": 38,
      "outputs": []
    },
    {
      "cell_type": "code",
      "source": [
        "df[\"post_text\"]  = df[\"post_text\"] .astype('str')"
      ],
      "metadata": {
        "id": "tkhXUZckmYy8"
      },
      "id": "tkhXUZckmYy8",
      "execution_count": 39,
      "outputs": []
    },
    {
      "cell_type": "markdown",
      "source": [
        "Посмотрим на кол-во символов в постах."
      ],
      "metadata": {
        "id": "s629hG8pXi9P"
      },
      "id": "s629hG8pXi9P"
    },
    {
      "cell_type": "code",
      "source": [
        "df[\"symbols\"] = [len(x) for x in df['post_text']]"
      ],
      "metadata": {
        "id": "O0vyO1ALW_zr"
      },
      "execution_count": 40,
      "outputs": [],
      "id": "O0vyO1ALW_zr"
    },
    {
      "cell_type": "code",
      "source": [
        "sns.histplot(df.symbols, kde=True)\n",
        "plt.show()"
      ],
      "metadata": {
        "colab": {
          "base_uri": "https://localhost:8080/",
          "height": 449
        },
        "id": "grZv46eGXOD-",
        "outputId": "c207be7c-d36b-47d5-8409-d245abbf7619"
      },
      "execution_count": 41,
      "outputs": [
        {
          "output_type": "display_data",
          "data": {
            "text/plain": [
              "<Figure size 640x480 with 1 Axes>"
            ],
            "image/png": "[encoded data removed]"
          },
          "metadata": {}
        }
      ],
      "id": "grZv46eGXOD-"
    },
    {
      "cell_type": "code",
      "source": [
        "sns.histplot(df[df.symbols<=500].symbols, kde=True)\n",
        "plt.show()"
      ],
      "metadata": {
        "colab": {
          "base_uri": "https://localhost:8080/",
          "height": 449
        },
        "id": "pdeQUOwMXqb8",
        "outputId": "39721652-9e11-4900-88d4-2278f51060eb"
      },
      "execution_count": 42,
      "outputs": [
        {
          "output_type": "display_data",
          "data": {
            "text/plain": [
              "<Figure size 640x480 with 1 Axes>"
            ],
            "image/png": "[encoded data removed]"
          },
          "metadata": {}
        }
      ],
      "id": "pdeQUOwMXqb8"
    },
    {
      "cell_type": "code",
      "source": [
        "df[df.symbols<=50]"
      ],
      "metadata": {
        "colab": {
          "base_uri": "https://localhost:8080/",
          "height": 1000
        },
        "id": "D7HPXJM_X1LB",
        "outputId": "a2a30148-dc7a-4b23-fb8e-f62d3f32c992"
      },
      "execution_count": 43,
      "outputs": [
        {
          "output_type": "execute_result",
          "data": {
            "text/plain": [
              "                                           account_link     search_keywords  \\\n",
              "71    https://www.linkedin.com/in/valeriy-nepluev-89...            frontend   \n",
              "77    https://www.linkedin.com/in/oleg-kozlov-4191a0217            frontend   \n",
              "82    https://www.linkedin.com/in/oleg-kozlov-4191a0217            frontend   \n",
              "136          https://www.linkedin.com/in/sergeyromanovv            frontend   \n",
              "138          https://www.linkedin.com/in/alenasafronova            frontend   \n",
              "139          https://www.linkedin.com/in/alenasafronova            frontend   \n",
              "159              https://www.linkedin.com/in/baremantar            frontend   \n",
              "180   https://www.linkedin.com/in/%D0%B0%D0%BB%D0%B5...            frontend   \n",
              "239               https://www.linkedin.com/in/denyacore             backend   \n",
              "240               https://www.linkedin.com/in/denyacore             backend   \n",
              "241               https://www.linkedin.com/in/denyacore             backend   \n",
              "263             https://www.linkedin.com/in/sukhanenkov             backend   \n",
              "305                  https://www.linkedin.com/in/devhak             backend   \n",
              "307                  https://www.linkedin.com/in/devhak             backend   \n",
              "341   https://www.linkedin.com/in/artem-gumarov-7132...            frontend   \n",
              "393           https://www.linkedin.com/in/maks-alekseev             backend   \n",
              "453          https://www.linkedin.com/in/ivan-ilushenko         ML engineer   \n",
              "517               https://www.linkedin.com/in/averkieff         ML engineer   \n",
              "519               https://www.linkedin.com/in/averkieff         ML engineer   \n",
              "588       https://www.linkedin.com/in/natalya-n-tsareva  senior QA engineer   \n",
              "607   https://www.linkedin.com/in/gennady-korolev-57...       senior devops   \n",
              "617   https://www.linkedin.com/in/ivan-kazantsev-993...       lead frontend   \n",
              "742   https://www.linkedin.com/in/teacher-cheater-48...            frontend   \n",
              "749   https://www.linkedin.com/in/teacher-cheater-48...            frontend   \n",
              "770              https://www.linkedin.com/in/dm-bychkov            frontend   \n",
              "776              https://www.linkedin.com/in/dm-bychkov            frontend   \n",
              "904               https://www.linkedin.com/in/serejkaaa   lead data analyst   \n",
              "906               https://www.linkedin.com/in/serejkaaa   lead data analyst   \n",
              "941               https://www.linkedin.com/in/yuzhakova   lead data analyst   \n",
              "948               https://www.linkedin.com/in/yuzhakova   lead data analyst   \n",
              "953               https://www.linkedin.com/in/yuzhakova   lead data analyst   \n",
              "1071           https://www.linkedin.com/in/ilyanikishin  lead web developer   \n",
              "1111              https://www.linkedin.com/in/rovechkin  lead web developer   \n",
              "1319  https://www.linkedin.com/in/natalia-koroleva-7...  lead test engineer   \n",
              "1390  https://www.linkedin.com/in/valerii-kalinin-40...  lead test engineer   \n",
              "1411  https://www.linkedin.com/in/dina-rozhkova-1b21...  lead test engineer   \n",
              "1419  https://www.linkedin.com/in/dina-rozhkova-1b21...  lead test engineer   \n",
              "1484  https://www.linkedin.com/in/oleg-yamshikov-b46...         lead devops   \n",
              "1502  https://www.linkedin.com/in/pavel-andreev-7771...         lead devops   \n",
              "1538  https://www.linkedin.com/in/oleg-kurchavov-2a4...         lead devops   \n",
              "1539  https://www.linkedin.com/in/oleg-kurchavov-2a4...         lead devops   \n",
              "1648  https://www.linkedin.com/in/anastasiya-saydazi...            frontend   \n",
              "1653  https://www.linkedin.com/in/anastasiya-saydazi...            frontend   \n",
              "1731  https://www.linkedin.com/in/petr-novikov-98621639  senior ML engineer   \n",
              "1758                https://www.linkedin.com/in/matohin  senior ML engineer   \n",
              "1778  https://www.linkedin.com/in/mark-averchenko-1b...  senior ML engineer   \n",
              "\n",
              "                                        name  \\\n",
              "71                           Valeriy Nepluev   \n",
              "77                               Oleg Kozlov   \n",
              "82                               Oleg Kozlov   \n",
              "136                           Sergey Romanov   \n",
              "138                          Алена Сафронова   \n",
              "139                          Алена Сафронова   \n",
              "159                             Timur Asanov   \n",
              "180                       Алексей Риконвальд   \n",
              "239                         Денис Шестиперов   \n",
              "240                         Денис Шестиперов   \n",
              "241                         Денис Шестиперов   \n",
              "263                         Ilya Sukhanenkov   \n",
              "305                         Hakob Jevahiryan   \n",
              "307                         Hakob Jevahiryan   \n",
              "341                            Artem Gumarov   \n",
              "393                          Maksim Alekseev   \n",
              "453                           Ivan Ilushenko   \n",
              "517                          Sergei Averkiev   \n",
              "519                          Sergei Averkiev   \n",
              "588                          Natalia Tsareva   \n",
              "607                          Gennady Korolev   \n",
              "617                           Ivan Kazantsev   \n",
              "742                        Евгений Некипелов   \n",
              "749                        Евгений Некипелов   \n",
              "770                        Dmitrii Bychkov ✅   \n",
              "776                        Dmitrii Bychkov ✅   \n",
              "904                             Sergei Kogai   \n",
              "906                             Sergei Kogai   \n",
              "941   Александр (Youzhakov Alexander) Южаков   \n",
              "948   Александр (Youzhakov Alexander) Южаков   \n",
              "953   Александр (Youzhakov Alexander) Южаков   \n",
              "1071                            Илья Никишин   \n",
              "1111                          Roman Ovechkin   \n",
              "1319                        Natalia Koroleva   \n",
              "1390                         Valerii Kalinin   \n",
              "1411                           Dina Rozhkova   \n",
              "1419                           Dina Rozhkova   \n",
              "1484                          Oleg Yamshikov   \n",
              "1502                           Pavel Andreev   \n",
              "1538                          Oleg Kurchavov   \n",
              "1539                          Oleg Kurchavov   \n",
              "1648                   Анастасия Сайдазимова   \n",
              "1653                   Анастасия Сайдазимова   \n",
              "1731                            Petr Novikov   \n",
              "1758                         Matohin Evgeniy   \n",
              "1778                         Mark Averchenko   \n",
              "\n",
              "                                                  title  \\\n",
              "71    Frontend Engineer - Vue.js, Nuxt, Pinia, Vuex,...   \n",
              "77                            Middle Frontend Developer   \n",
              "82                            Middle Frontend Developer   \n",
              "136   Frontend Developer experienced in Agile web de...   \n",
              "138               Frontend Developer (React, Redux, JS)   \n",
              "139               Frontend Developer (React, Redux, JS)   \n",
              "159                                  Frontend developer   \n",
              "180             Frontend React / Backend .Net Developer   \n",
              "239                          Python Developer | backend   \n",
              "240                          Python Developer | backend   \n",
              "241                          Python Developer | backend   \n",
              "263                                    Python Developer   \n",
              "305                                    Backend Engineer   \n",
              "307                                    Backend Engineer   \n",
              "341                          Frontend Developer (React)   \n",
              "393   Python Developer (backend) | Python, Django, P...   \n",
              "453                                         ML engineer   \n",
              "517                    Senior ML Engineer — SberDevices   \n",
              "519                    Senior ML Engineer — SberDevices   \n",
              "588                                          Head Of QA   \n",
              "607                              Senior DevOps engineer   \n",
              "617                      Team Lead Frontend at Skillbox   \n",
              "742              Frontend Web Developer в компании KOJO   \n",
              "749              Frontend Web Developer в компании KOJO   \n",
              "770   Frontend Web Developer | JavaScript | TypeScri...   \n",
              "776   Frontend Web Developer | JavaScript | TypeScri...   \n",
              "904                    Lead DWH Analyst, Data Architect   \n",
              "906                    Lead DWH Analyst, Data Architect   \n",
              "941                                      Data Architect   \n",
              "948                                      Data Architect   \n",
              "953                                      Data Architect   \n",
              "1071                 Full Stack Web Developer/Team Lead   \n",
              "1111                               Senior web developer   \n",
              "1319                                          MANUAL QA   \n",
              "1390                         Quality Assurance Engineer   \n",
              "1411                                   Sr. SQA Engineer   \n",
              "1419                                   Sr. SQA Engineer   \n",
              "1484                          Lead DevOPS – MirTesen.ru   \n",
              "1502                    Lead DevOps Engineer – Т1.Сфера   \n",
              "1538                   Lead DevOps Specialist at IT_One   \n",
              "1539                   Lead DevOps Specialist at IT_One   \n",
              "1648  Frontend Developer | React, Redux, JavaScript,...   \n",
              "1653  Frontend Developer | React, Redux, JavaScript,...   \n",
              "1731  ML Engineer | Data Scientist | Python/Java/C++...   \n",
              "1758                   Lead / Senior Software Developer   \n",
              "1778                                  ML engineer at VK   \n",
              "\n",
              "                                               works_at  \\\n",
              "71                                          All3dmodels   \n",
              "77                    ФГУП Главный радиочастотный центр   \n",
              "82                    ФГУП Главный радиочастотный центр   \n",
              "136                                                 ATG   \n",
              "138                                                Ruso   \n",
              "139                                                Ruso   \n",
              "159                                             Affarts   \n",
              "180                          Сейлз-хаус «Газпром-Медиа»   \n",
              "239                                            Пилигрим   \n",
              "240                                            Пилигрим   \n",
              "241                                            Пилигрим   \n",
              "263   Московский Технический Университет Связи и Инф...   \n",
              "305                                  ООО \"ВИН СОЛЮШЕНС\"   \n",
              "307                                  ООО \"ВИН СОЛЮШЕНС\"   \n",
              "341                                              I-Teco   \n",
              "393                                    Яндекс Практикум   \n",
              "453                                             Финолаб   \n",
              "517                                         SberDevices   \n",
              "519                                         SberDevices   \n",
              "588                          Higher School of Economics   \n",
              "607                                              РТК ИТ   \n",
              "617                                            Skillbox   \n",
              "742                                                KOJO   \n",
              "749                                                KOJO   \n",
              "770                                      SmartMechanica   \n",
              "776                                      SmartMechanica   \n",
              "904                                          SKB-Online   \n",
              "906                                          SKB-Online   \n",
              "941                                         Иннотех ВТБ   \n",
              "948                                         Иннотех ВТБ   \n",
              "953                                         Иннотех ВТБ   \n",
              "1071                                  OpenSolutions LLC   \n",
              "1111                                           Polygant   \n",
              "1319                                               IT2G   \n",
              "1390                                    Freedom Finance   \n",
              "1411                                   Align Technology   \n",
              "1419                                   Align Technology   \n",
              "1484                                        MirTesen.ru   \n",
              "1502                                        Т1 диджитал   \n",
              "1538                                             IT_One   \n",
              "1539                                             IT_One   \n",
              "1648                                                NaN   \n",
              "1653                                                NaN   \n",
              "1731                              Abiroy Business Group   \n",
              "1758                                            Rosbank   \n",
              "1778                                                 VK   \n",
              "\n",
              "                                                  intro  experience  \\\n",
              "71    Навыки: JavaScript · vue · nuxt · pinia · vuex...         3.0   \n",
              "77    I work on Angular. Also created business proje...         3.0   \n",
              "82    I work on Angular. Also created business proje...         3.0   \n",
              "136   Ищу работу на позицию frontend-разработчика, у...         1.0   \n",
              "138   Стек:Front-end: JS (ES6), React, Redux, TypeSc...         3.0   \n",
              "139   Стек:Front-end: JS (ES6), React, Redux, TypeSc...         3.0   \n",
              "159   Hi!My start on frontend \"road\" has begun sprin...         2.0   \n",
              "180   Хей) Я Fullstack разработчик, на фронтенде раб...         2.0   \n",
              "239   На предыдущем месте работы утратил интерес к е...         1.0   \n",
              "240   На предыдущем месте работы утратил интерес к е...         1.0   \n",
              "241   На предыдущем месте работы утратил интерес к е...         1.0   \n",
              "263   🥝🥝🥝I write Python code and build mechanical ke...         1.0   \n",
              "305   Highly motivated and experienced Python develo...         2.0   \n",
              "307   Highly motivated and experienced Python develo...         2.0   \n",
              "341   Открытый, достаточно общительный;Умею работать...         4.0   \n",
              "393   Привет, я Макс python - developerСейчас я изуч...         1.0   \n",
              "453   Kaggle: https://www.kaggle.com/ivanilyushchenk...        11.0   \n",
              "517   🟥 ml engineer (nlp, ml, backend, mlart)🟨 35 y/...         7.0   \n",
              "519   🟥 ml engineer (nlp, ml, backend, mlart)🟨 35 y/...         7.0   \n",
              "588   graphQL The big Picture.pdfgraphQL The big Pic...        11.0   \n",
              "607   DevOps engineer with experience in systems con...         6.0   \n",
              "617   Лидирую команду frontend разработчиков. Участв...       853.0   \n",
              "742   Javascript (ES6), React на хуках, css modules,...         6.0   \n",
              "749   Javascript (ES6), React на хуках, css modules,...         6.0   \n",
              "770   Всем привет!)Меня зовут Дмитрий.Я Frontend раз...         3.0   \n",
              "776   Всем привет!)Меня зовут Дмитрий.Я Frontend раз...         3.0   \n",
              "904                      Dwh DevelopmentDwh Development         9.0   \n",
              "906                      Dwh DevelopmentDwh Development         9.0   \n",
              "941                                      dvbi.rudvbi.ru        10.0   \n",
              "948                                      dvbi.rudvbi.ru        10.0   \n",
              "953                                      dvbi.rudvbi.ru        10.0   \n",
              "1071  Я пишу программное обеспечение около 14 лет, 3...         7.0   \n",
              "1111  Consolidated experience on Web Project Managem...        15.0   \n",
              "1319  Неспешно рассматриваю вакансии QA- без релокац...         9.0   \n",
              "1390  Experience in testing for more than three year...         4.0   \n",
              "1411  Sr.Test engineer/SW engineer - Test LeadStrong...        10.0   \n",
              "1419  Sr.Test engineer/SW engineer - Test LeadStrong...        10.0   \n",
              "1484               Все цели достижимыВсе цели достижимы        13.0   \n",
              "1502  Hi, I'm Pavel. I solve problemsHi, I'm Pavel. ...         4.0   \n",
              "1538  Linux (Debian, CentOS)Cloud computing (Amazon ...         6.0   \n",
              "1539  Linux (Debian, CentOS)Cloud computing (Amazon ...         6.0   \n",
              "1648  3 года назад начала изучать Frontend-разработк...         1.0   \n",
              "1653  3 года назад начала изучать Frontend-разработк...         1.0   \n",
              "1731  About me:- Data Scientist with strong research...         8.0   \n",
              "1758  Considering lead and senior positions in Platf...         6.0   \n",
              "1778  Hi, I'm Mark! Student of math and  mechanics d...         2.0   \n",
              "\n",
              "                                           place  posts_cnt  \\\n",
              "71                  Республика Татарстан, Россия          4   \n",
              "77                        Москва, Москва, Россия         14   \n",
              "82                        Москва, Москва, Россия         14   \n",
              "136                                       Россия          3   \n",
              "138                       Москва, Москва, Россия          2   \n",
              "139                       Москва, Москва, Россия          2   \n",
              "159                                       Россия          3   \n",
              "180                       Москва, Москва, Россия          3   \n",
              "239         Рыбинск, Ярославская область, Россия          8   \n",
              "240         Рыбинск, Ярославская область, Россия          8   \n",
              "241         Рыбинск, Ярославская область, Россия          8   \n",
              "263                       Москва, Москва, Россия          4   \n",
              "305        Краснодар, Краснодарский край, Россия         10   \n",
              "307        Краснодар, Краснодарский край, Россия         10   \n",
              "341     Санкт-Петербург, Санкт-Петербург, Россия          1   \n",
              "393     Санкт-Петербург, Санкт-Петербург, Россия          2   \n",
              "453                       Москва, Москва, Россия          2   \n",
              "517                       Москва, Москва, Россия         64   \n",
              "519                       Москва, Москва, Россия         64   \n",
              "588                       Москва, Москва, Россия         18   \n",
              "607                                       Россия          8   \n",
              "617                       Москва, Москва, Россия          4   \n",
              "742     Санкт-Петербург, Санкт-Петербург, Россия         12   \n",
              "749     Санкт-Петербург, Санкт-Петербург, Россия         12   \n",
              "770                       Москва, Москва, Россия         64   \n",
              "776                       Москва, Москва, Россия         64   \n",
              "904                                       Россия          3   \n",
              "906                                       Россия          3   \n",
              "941                                       Россия         37   \n",
              "948                                       Россия         37   \n",
              "953                                       Россия         37   \n",
              "1071                      Москва, Москва, Россия          3   \n",
              "1111                                      Россия          9   \n",
              "1319                                      Россия          3   \n",
              "1390                                      Россия          5   \n",
              "1411                      Москва, Москва, Россия          2   \n",
              "1419                      Москва, Москва, Россия          2   \n",
              "1484          Москва, Московская область, Россия          1   \n",
              "1502                   Иркутская область, Россия          2   \n",
              "1538                Агломерация Санкт-Петербурга          7   \n",
              "1539                Агломерация Санкт-Петербурга          7   \n",
              "1648    Санкт-Петербург, Санкт-Петербург, Россия        158   \n",
              "1653    Санкт-Петербург, Санкт-Петербург, Россия        158   \n",
              "1731    Санкт-Петербург, Санкт-Петербург, Россия         52   \n",
              "1758               Нижегородская область, Россия         12   \n",
              "1778  Екатеринбург, Свердловская область, Россия         10   \n",
              "\n",
              "                                              post_text  reaction_cnt  \\\n",
              "71                                       К-коварство)))           2.0   \n",
              "77                             Всем бодрого утра среды!           NaN   \n",
              "82                                           Жизненно 😁           NaN   \n",
              "136                          #humor#сПросторовИнтернета           7.0   \n",
              "138                                                   😁           1.0   \n",
              "139                             Что правда,  то правда)           5.0   \n",
              "159                 Шпаргалка по JavaScript #javascript           8.0   \n",
              "180         - Как у вас дела с С++?- Он меня ненавидит.           2.0   \n",
              "239                    звучит как план#it #memes #humor           3.0   \n",
              "240        найди одно маааленькое \"но\"#it #memes #humor           1.0   \n",
              "241       С просторов HeadHunter Group#it #memes #humor           2.0   \n",
              "263                                                   👏           4.0   \n",
              "305                                              😂😂😂👍👍👍           7.0   \n",
              "307                                                   👍           1.0   \n",
              "341             Обзор на мое портфолио от канала webDev           NaN   \n",
              "393                           print(\"Hello linkedin 🤓\")           NaN   \n",
              "453                                             Лого IT           NaN   \n",
              "517                         FinSpy — commercial spyware           NaN   \n",
              "519                        Data leak costs £183 million           NaN   \n",
              "588                          Не могла не поделиться ;-)           1.0   \n",
              "607                                            Amazing💪           NaN   \n",
              "617                                                   😄           4.0   \n",
              "742                     Шпаргалка по React Hooks #react           8.0   \n",
              "749                        Для себя и других Junior'ов)           NaN   \n",
              "770    Когда тестировщик заводит себе кота:#memes #cats           6.0   \n",
              "776                                              Шедевр           4.0   \n",
              "904                    Looking for a job 😊#dwh #analyst           6.0   \n",
              "906                                     open to work  🙌           8.0   \n",
              "941                                       #ЛахтаЦентр-2           1.0   \n",
              "948                                             Юрий П.           4.0   \n",
              "953    НАВОДИМ ПОРЯДОК В ОТЧЕТАХhttps://lnkd.in/etx7_VB           1.0   \n",
              "1071          Вот и получен долгожданный сертификат PMP           NaN   \n",
              "1111        Senior developers for £25 / hour | Polygant           NaN   \n",
              "1319                            #job #vacancy #вакансия           NaN   \n",
              "1390       #coding #dev #testerTahir Dimiev Олег Иволга           4.0   \n",
              "1411                                 Обожаю этот вопрос           6.0   \n",
              "1419                                 Обожаю этот вопрос           6.0   \n",
              "1484        https://lnkd.in/d2qJ3jHКак думаете, примут?           NaN   \n",
              "1502                        весенний митап ITsumma 2019           5.0   \n",
              "1538    Just finished the course “Linux: BIND and DNS”!           1.0   \n",
              "1539  Just finished the course “Learning CentOS Linux”!           NaN   \n",
              "1648                                             💛 JS 😁           2.0   \n",
              "1653                                  I love my cats 🐈🐈           8.0   \n",
              "1731                    Кандидат отправил)#scrum #скрам           9.0   \n",
              "1758                     Egor Sokhanev #отзыв #Спасибо!           2.0   \n",
              "1778                                Отличный cheatsheet           4.0   \n",
              "\n",
              "      comments_cnt  repost_cnt  symbols  \n",
              "71             8.0         1.0       14  \n",
              "77             NaN         NaN       24  \n",
              "82             NaN         NaN       10  \n",
              "136            2.0         7.0       26  \n",
              "138            NaN         NaN        1  \n",
              "139            5.0         4.0       23  \n",
              "159            1.0         4.0       35  \n",
              "180            NaN         NaN       43  \n",
              "239            NaN         1.0       32  \n",
              "240            NaN         NaN       44  \n",
              "241            NaN         NaN       45  \n",
              "263            NaN         NaN        1  \n",
              "305            NaN         NaN        6  \n",
              "307            NaN         NaN        1  \n",
              "341            NaN         NaN       39  \n",
              "393            NaN         NaN       25  \n",
              "453            NaN         NaN        7  \n",
              "517            NaN         NaN       27  \n",
              "519            NaN         NaN       28  \n",
              "588            NaN         NaN       26  \n",
              "607            NaN         NaN        8  \n",
              "617            NaN         NaN        1  \n",
              "742            4.0         8.0       31  \n",
              "749            NaN         NaN       28  \n",
              "770            7.0         3.0       48  \n",
              "776            2.0         2.0        6  \n",
              "904            NaN         1.0       32  \n",
              "906            NaN         1.0       15  \n",
              "941            NaN         NaN       13  \n",
              "948            1.0         NaN        7  \n",
              "953            NaN         NaN       48  \n",
              "1071           NaN         NaN       41  \n",
              "1111           NaN         1.0       43  \n",
              "1319           NaN         NaN       23  \n",
              "1390           NaN         1.0       44  \n",
              "1411           NaN         NaN       18  \n",
              "1419           NaN         NaN       18  \n",
              "1484           NaN         NaN       43  \n",
              "1502           NaN         NaN       27  \n",
              "1538           NaN         NaN       47  \n",
              "1539           NaN         NaN       49  \n",
              "1648           NaN         1.0        6  \n",
              "1653           2.0         NaN       17  \n",
              "1731           7.0         9.0       31  \n",
              "1758           NaN         NaN       30  \n",
              "1778           NaN         NaN       19  "
            ],
            "text/html": [
              "\n",
              "  <div id=\"df-4411fe37-4091-4f3d-ae7d-23c6561f58a4\">\n",
              "    <div class=\"colab-df-container\">\n",
              "      <div>\n",
              "<style scoped>\n",
              "    .dataframe tbody tr th:only-of-type {\n",
              "        vertical-align: middle;\n",
              "    }\n",
              "\n",
              "    .dataframe tbody tr th {\n",
              "        vertical-align: top;\n",
              "    }\n",
              "\n",
              "    .dataframe thead th {\n",
              "        text-align: right;\n",
              "    }\n",
              "</style>\n",
              "<table border=\"1\" class=\"dataframe\">\n",
              "  <thead>\n",
              "    <tr style=\"text-align: right;\">\n",
              "      <th></th>\n",
              "      <th>account_link</th>\n",
              "      <th>search_keywords</th>\n",
              "      <th>name</th>\n",
              "      <th>title</th>\n",
              "      <th>works_at</th>\n",
              "      <th>intro</th>\n",
              "      <th>experience</th>\n",
              "      <th>place</th>\n",
              "      <th>posts_cnt</th>\n",
              "      <th>post_text</th>\n",
              "      <th>reaction_cnt</th>\n",
              "      <th>comments_cnt</th>\n",
              "      <th>repost_cnt</th>\n",
              "      <th>symbols</th>\n",
              "    </tr>\n",
              "  </thead>\n",
              "  <tbody>\n",
              "    <tr>\n",
              "      <th>71</th>\n",
              "      <td>https://www.linkedin.com/in/valeriy-nepluev-89...</td>\n",
              "      <td>frontend</td>\n",
              "      <td>Valeriy Nepluev</td>\n",
              "      <td>Frontend Engineer - Vue.js, Nuxt, Pinia, Vuex,...</td>\n",
              "      <td>All3dmodels</td>\n",
              "      <td>Навыки: JavaScript · vue · nuxt · pinia · vuex...</td>\n",
              "      <td>3.0</td>\n",
              "      <td>Республика Татарстан, Россия</td>\n",
              "      <td>4</td>\n",
              "      <td>К-коварство)))</td>\n",
              "      <td>2.0</td>\n",
              "      <td>8.0</td>\n",
              "      <td>1.0</td>\n",
              "      <td>14</td>\n",
              "    </tr>\n",
              "    <tr>\n",
              "      <th>77</th>\n",
              "      <td>https://www.linkedin.com/in/oleg-kozlov-4191a0217</td>\n",
              "      <td>frontend</td>\n",
              "      <td>Oleg Kozlov</td>\n",
              "      <td>Middle Frontend Developer</td>\n",
              "      <td>ФГУП Главный радиочастотный центр</td>\n",
              "      <td>I work on Angular. Also created business proje...</td>\n",
              "      <td>3.0</td>\n",
              "      <td>Москва, Москва, Россия</td>\n",
              "      <td>14</td>\n",
              "      <td>Всем бодрого утра среды!</td>\n",
              "      <td>NaN</td>\n",
              "      <td>NaN</td>\n",
              "      <td>NaN</td>\n",
              "      <td>24</td>\n",
              "    </tr>\n",
              "    <tr>\n",
              "      <th>82</th>\n",
              "      <td>https://www.linkedin.com/in/oleg-kozlov-4191a0217</td>\n",
              "      <td>frontend</td>\n",
              "      <td>Oleg Kozlov</td>\n",
              "      <td>Middle Frontend Developer</td>\n",
              "      <td>ФГУП Главный радиочастотный центр</td>\n",
              "      <td>I work on Angular. Also created business proje...</td>\n",
              "      <td>3.0</td>\n",
              "      <td>Москва, Москва, Россия</td>\n",
              "      <td>14</td>\n",
              "      <td>Жизненно 😁</td>\n",
              "      <td>NaN</td>\n",
              "      <td>NaN</td>\n",
              "      <td>NaN</td>\n",
              "      <td>10</td>\n",
              "    </tr>\n",
              "    <tr>\n",
              "      <th>136</th>\n",
              "      <td>https://www.linkedin.com/in/sergeyromanovv</td>\n",
              "      <td>frontend</td>\n",
              "      <td>Sergey Romanov</td>\n",
              "      <td>Frontend Developer experienced in Agile web de...</td>\n",
              "      <td>ATG</td>\n",
              "      <td>Ищу работу на позицию frontend-разработчика, у...</td>\n",
              "      <td>1.0</td>\n",
              "      <td>Россия</td>\n",
              "      <td>3</td>\n",
              "      <td>#humor#сПросторовИнтернета</td>\n",
              "      <td>7.0</td>\n",
              "      <td>2.0</td>\n",
              "      <td>7.0</td>\n",
              "      <td>26</td>\n",
              "    </tr>\n",
              "    <tr>\n",
              "      <th>138</th>\n",
              "      <td>https://www.linkedin.com/in/alenasafronova</td>\n",
              "      <td>frontend</td>\n",
              "      <td>Алена Сафронова</td>\n",
              "      <td>Frontend Developer (React, Redux, JS)</td>\n",
              "      <td>Ruso</td>\n",
              "      <td>Стек:Front-end: JS (ES6), React, Redux, TypeSc...</td>\n",
              "      <td>3.0</td>\n",
              "      <td>Москва, Москва, Россия</td>\n",
              "      <td>2</td>\n",
              "      <td>😁</td>\n",
              "      <td>1.0</td>\n",
              "      <td>NaN</td>\n",
              "      <td>NaN</td>\n",
              "      <td>1</td>\n",
              "    </tr>\n",
              "    <tr>\n",
              "      <th>139</th>\n",
              "      <td>https://www.linkedin.com/in/alenasafronova</td>\n",
              "      <td>frontend</td>\n",
              "      <td>Алена Сафронова</td>\n",
              "      <td>Frontend Developer (React, Redux, JS)</td>\n",
              "      <td>Ruso</td>\n",
              "      <td>Стек:Front-end: JS (ES6), React, Redux, TypeSc...</td>\n",
              "      <td>3.0</td>\n",
              "      <td>Москва, Москва, Россия</td>\n",
              "      <td>2</td>\n",
              "      <td>Что правда,  то правда)</td>\n",
              "      <td>5.0</td>\n",
              "      <td>5.0</td>\n",
              "      <td>4.0</td>\n",
              "      <td>23</td>\n",
              "    </tr>\n",
              "    <tr>\n",
              "      <th>159</th>\n",
              "      <td>https://www.linkedin.com/in/baremantar</td>\n",
              "      <td>frontend</td>\n",
              "      <td>Timur Asanov</td>\n",
              "      <td>Frontend developer</td>\n",
              "      <td>Affarts</td>\n",
              "      <td>Hi!My start on frontend \"road\" has begun sprin...</td>\n",
              "      <td>2.0</td>\n",
              "      <td>Россия</td>\n",
              "      <td>3</td>\n",
              "      <td>Шпаргалка по JavaScript #javascript</td>\n",
              "      <td>8.0</td>\n",
              "      <td>1.0</td>\n",
              "      <td>4.0</td>\n",
              "      <td>35</td>\n",
              "    </tr>\n",
              "    <tr>\n",
              "      <th>180</th>\n",
              "      <td>https://www.linkedin.com/in/%D0%B0%D0%BB%D0%B5...</td>\n",
              "      <td>frontend</td>\n",
              "      <td>Алексей Риконвальд</td>\n",
              "      <td>Frontend React / Backend .Net Developer</td>\n",
              "      <td>Сейлз-хаус «Газпром-Медиа»</td>\n",
              "      <td>Хей) Я Fullstack разработчик, на фронтенде раб...</td>\n",
              "      <td>2.0</td>\n",
              "      <td>Москва, Москва, Россия</td>\n",
              "      <td>3</td>\n",
              "      <td>- Как у вас дела с С++?- Он меня ненавидит.</td>\n",
              "      <td>2.0</td>\n",
              "      <td>NaN</td>\n",
              "      <td>NaN</td>\n",
              "      <td>43</td>\n",
              "    </tr>\n",
              "    <tr>\n",
              "      <th>239</th>\n",
              "      <td>https://www.linkedin.com/in/denyacore</td>\n",
              "      <td>backend</td>\n",
              "      <td>Денис Шестиперов</td>\n",
              "      <td>Python Developer | backend</td>\n",
              "      <td>Пилигрим</td>\n",
              "      <td>На предыдущем месте работы утратил интерес к е...</td>\n",
              "      <td>1.0</td>\n",
              "      <td>Рыбинск, Ярославская область, Россия</td>\n",
              "      <td>8</td>\n",
              "      <td>звучит как план#it #memes #humor</td>\n",
              "      <td>3.0</td>\n",
              "      <td>NaN</td>\n",
              "      <td>1.0</td>\n",
              "      <td>32</td>\n",
              "    </tr>\n",
              "    <tr>\n",
              "      <th>240</th>\n",
              "      <td>https://www.linkedin.com/in/denyacore</td>\n",
              "      <td>backend</td>\n",
              "      <td>Денис Шестиперов</td>\n",
              "      <td>Python Developer | backend</td>\n",
              "      <td>Пилигрим</td>\n",
              "      <td>На предыдущем месте работы утратил интерес к е...</td>\n",
              "      <td>1.0</td>\n",
              "      <td>Рыбинск, Ярославская область, Россия</td>\n",
              "      <td>8</td>\n",
              "      <td>найди одно маааленькое \"но\"#it #memes #humor</td>\n",
              "      <td>1.0</td>\n",
              "      <td>NaN</td>\n",
              "      <td>NaN</td>\n",
              "      <td>44</td>\n",
              "    </tr>\n",
              "    <tr>\n",
              "      <th>241</th>\n",
              "      <td>https://www.linkedin.com/in/denyacore</td>\n",
              "      <td>backend</td>\n",
              "      <td>Денис Шестиперов</td>\n",
              "      <td>Python Developer | backend</td>\n",
              "      <td>Пилигрим</td>\n",
              "      <td>На предыдущем месте работы утратил интерес к е...</td>\n",
              "      <td>1.0</td>\n",
              "      <td>Рыбинск, Ярославская область, Россия</td>\n",
              "      <td>8</td>\n",
              "      <td>С просторов HeadHunter Group#it #memes #humor</td>\n",
              "      <td>2.0</td>\n",
              "      <td>NaN</td>\n",
              "      <td>NaN</td>\n",
              "      <td>45</td>\n",
              "    </tr>\n",
              "    <tr>\n",
              "      <th>263</th>\n",
              "      <td>https://www.linkedin.com/in/sukhanenkov</td>\n",
              "      <td>backend</td>\n",
              "      <td>Ilya Sukhanenkov</td>\n",
              "      <td>Python Developer</td>\n",
              "      <td>Московский Технический Университет Связи и Инф...</td>\n",
              "      <td>🥝🥝🥝I write Python code and build mechanical ke...</td>\n",
              "      <td>1.0</td>\n",
              "      <td>Москва, Москва, Россия</td>\n",
              "      <td>4</td>\n",
              "      <td>👏</td>\n",
              "      <td>4.0</td>\n",
              "      <td>NaN</td>\n",
              "      <td>NaN</td>\n",
              "      <td>1</td>\n",
              "    </tr>\n",
              "    <tr>\n",
              "      <th>305</th>\n",
              "      <td>https://www.linkedin.com/in/devhak</td>\n",
              "      <td>backend</td>\n",
              "      <td>Hakob Jevahiryan</td>\n",
              "      <td>Backend Engineer</td>\n",
              "      <td>ООО \"ВИН СОЛЮШЕНС\"</td>\n",
              "      <td>Highly motivated and experienced Python develo...</td>\n",
              "      <td>2.0</td>\n",
              "      <td>Краснодар, Краснодарский край, Россия</td>\n",
              "      <td>10</td>\n",
              "      <td>😂😂😂👍👍👍</td>\n",
              "      <td>7.0</td>\n",
              "      <td>NaN</td>\n",
              "      <td>NaN</td>\n",
              "      <td>6</td>\n",
              "    </tr>\n",
              "    <tr>\n",
              "      <th>307</th>\n",
              "      <td>https://www.linkedin.com/in/devhak</td>\n",
              "      <td>backend</td>\n",
              "      <td>Hakob Jevahiryan</td>\n",
              "      <td>Backend Engineer</td>\n",
              "      <td>ООО \"ВИН СОЛЮШЕНС\"</td>\n",
              "      <td>Highly motivated and experienced Python develo...</td>\n",
              "      <td>2.0</td>\n",
              "      <td>Краснодар, Краснодарский край, Россия</td>\n",
              "      <td>10</td>\n",
              "      <td>👍</td>\n",
              "      <td>1.0</td>\n",
              "      <td>NaN</td>\n",
              "      <td>NaN</td>\n",
              "      <td>1</td>\n",
              "    </tr>\n",
              "    <tr>\n",
              "      <th>341</th>\n",
              "      <td>https://www.linkedin.com/in/artem-gumarov-7132...</td>\n",
              "      <td>frontend</td>\n",
              "      <td>Artem Gumarov</td>\n",
              "      <td>Frontend Developer (React)</td>\n",
              "      <td>I-Teco</td>\n",
              "      <td>Открытый, достаточно общительный;Умею работать...</td>\n",
              "      <td>4.0</td>\n",
              "      <td>Санкт-Петербург, Санкт-Петербург, Россия</td>\n",
              "      <td>1</td>\n",
              "      <td>Обзор на мое портфолио от канала webDev</td>\n",
              "      <td>NaN</td>\n",
              "      <td>NaN</td>\n",
              "      <td>NaN</td>\n",
              "      <td>39</td>\n",
              "    </tr>\n",
              "    <tr>\n",
              "      <th>393</th>\n",
              "      <td>https://www.linkedin.com/in/maks-alekseev</td>\n",
              "      <td>backend</td>\n",
              "      <td>Maksim Alekseev</td>\n",
              "      <td>Python Developer (backend) | Python, Django, P...</td>\n",
              "      <td>Яндекс Практикум</td>\n",
              "      <td>Привет, я Макс python - developerСейчас я изуч...</td>\n",
              "      <td>1.0</td>\n",
              "      <td>Санкт-Петербург, Санкт-Петербург, Россия</td>\n",
              "      <td>2</td>\n",
              "      <td>print(\"Hello linkedin 🤓\")</td>\n",
              "      <td>NaN</td>\n",
              "      <td>NaN</td>\n",
              "      <td>NaN</td>\n",
              "      <td>25</td>\n",
              "    </tr>\n",
              "    <tr>\n",
              "      <th>453</th>\n",
              "      <td>https://www.linkedin.com/in/ivan-ilushenko</td>\n",
              "      <td>ML engineer</td>\n",
              "      <td>Ivan Ilushenko</td>\n",
              "      <td>ML engineer</td>\n",
              "      <td>Финолаб</td>\n",
              "      <td>Kaggle: https://www.kaggle.com/ivanilyushchenk...</td>\n",
              "      <td>11.0</td>\n",
              "      <td>Москва, Москва, Россия</td>\n",
              "      <td>2</td>\n",
              "      <td>Лого IT</td>\n",
              "      <td>NaN</td>\n",
              "      <td>NaN</td>\n",
              "      <td>NaN</td>\n",
              "      <td>7</td>\n",
              "    </tr>\n",
              "    <tr>\n",
              "      <th>517</th>\n",
              "      <td>https://www.linkedin.com/in/averkieff</td>\n",
              "      <td>ML engineer</td>\n",
              "      <td>Sergei Averkiev</td>\n",
              "      <td>Senior ML Engineer — SberDevices</td>\n",
              "      <td>SberDevices</td>\n",
              "      <td>🟥 ml engineer (nlp, ml, backend, mlart)🟨 35 y/...</td>\n",
              "      <td>7.0</td>\n",
              "      <td>Москва, Москва, Россия</td>\n",
              "      <td>64</td>\n",
              "      <td>FinSpy — commercial spyware</td>\n",
              "      <td>NaN</td>\n",
              "      <td>NaN</td>\n",
              "      <td>NaN</td>\n",
              "      <td>27</td>\n",
              "    </tr>\n",
              "    <tr>\n",
              "      <th>519</th>\n",
              "      <td>https://www.linkedin.com/in/averkieff</td>\n",
              "      <td>ML engineer</td>\n",
              "      <td>Sergei Averkiev</td>\n",
              "      <td>Senior ML Engineer — SberDevices</td>\n",
              "      <td>SberDevices</td>\n",
              "      <td>🟥 ml engineer (nlp, ml, backend, mlart)🟨 35 y/...</td>\n",
              "      <td>7.0</td>\n",
              "      <td>Москва, Москва, Россия</td>\n",
              "      <td>64</td>\n",
              "      <td>Data leak costs £183 million</td>\n",
              "      <td>NaN</td>\n",
              "      <td>NaN</td>\n",
              "      <td>NaN</td>\n",
              "      <td>28</td>\n",
              "    </tr>\n",
              "    <tr>\n",
              "      <th>588</th>\n",
              "      <td>https://www.linkedin.com/in/natalya-n-tsareva</td>\n",
              "      <td>senior QA engineer</td>\n",
              "      <td>Natalia Tsareva</td>\n",
              "      <td>Head Of QA</td>\n",
              "      <td>Higher School of Economics</td>\n",
              "      <td>graphQL The big Picture.pdfgraphQL The big Pic...</td>\n",
              "      <td>11.0</td>\n",
              "      <td>Москва, Москва, Россия</td>\n",
              "      <td>18</td>\n",
              "      <td>Не могла не поделиться ;-)</td>\n",
              "      <td>1.0</td>\n",
              "      <td>NaN</td>\n",
              "      <td>NaN</td>\n",
              "      <td>26</td>\n",
              "    </tr>\n",
              "    <tr>\n",
              "      <th>607</th>\n",
              "      <td>https://www.linkedin.com/in/gennady-korolev-57...</td>\n",
              "      <td>senior devops</td>\n",
              "      <td>Gennady Korolev</td>\n",
              "      <td>Senior DevOps engineer</td>\n",
              "      <td>РТК ИТ</td>\n",
              "      <td>DevOps engineer with experience in systems con...</td>\n",
              "      <td>6.0</td>\n",
              "      <td>Россия</td>\n",
              "      <td>8</td>\n",
              "      <td>Amazing💪</td>\n",
              "      <td>NaN</td>\n",
              "      <td>NaN</td>\n",
              "      <td>NaN</td>\n",
              "      <td>8</td>\n",
              "    </tr>\n",
              "    <tr>\n",
              "      <th>617</th>\n",
              "      <td>https://www.linkedin.com/in/ivan-kazantsev-993...</td>\n",
              "      <td>lead frontend</td>\n",
              "      <td>Ivan Kazantsev</td>\n",
              "      <td>Team Lead Frontend at Skillbox</td>\n",
              "      <td>Skillbox</td>\n",
              "      <td>Лидирую команду frontend разработчиков. Участв...</td>\n",
              "      <td>853.0</td>\n",
              "      <td>Москва, Москва, Россия</td>\n",
              "      <td>4</td>\n",
              "      <td>😄</td>\n",
              "      <td>4.0</td>\n",
              "      <td>NaN</td>\n",
              "      <td>NaN</td>\n",
              "      <td>1</td>\n",
              "    </tr>\n",
              "    <tr>\n",
              "      <th>742</th>\n",
              "      <td>https://www.linkedin.com/in/teacher-cheater-48...</td>\n",
              "      <td>frontend</td>\n",
              "      <td>Евгений Некипелов</td>\n",
              "      <td>Frontend Web Developer в компании KOJO</td>\n",
              "      <td>KOJO</td>\n",
              "      <td>Javascript (ES6), React на хуках, css modules,...</td>\n",
              "      <td>6.0</td>\n",
              "      <td>Санкт-Петербург, Санкт-Петербург, Россия</td>\n",
              "      <td>12</td>\n",
              "      <td>Шпаргалка по React Hooks #react</td>\n",
              "      <td>8.0</td>\n",
              "      <td>4.0</td>\n",
              "      <td>8.0</td>\n",
              "      <td>31</td>\n",
              "    </tr>\n",
              "    <tr>\n",
              "      <th>749</th>\n",
              "      <td>https://www.linkedin.com/in/teacher-cheater-48...</td>\n",
              "      <td>frontend</td>\n",
              "      <td>Евгений Некипелов</td>\n",
              "      <td>Frontend Web Developer в компании KOJO</td>\n",
              "      <td>KOJO</td>\n",
              "      <td>Javascript (ES6), React на хуках, css modules,...</td>\n",
              "      <td>6.0</td>\n",
              "      <td>Санкт-Петербург, Санкт-Петербург, Россия</td>\n",
              "      <td>12</td>\n",
              "      <td>Для себя и других Junior'ов)</td>\n",
              "      <td>NaN</td>\n",
              "      <td>NaN</td>\n",
              "      <td>NaN</td>\n",
              "      <td>28</td>\n",
              "    </tr>\n",
              "    <tr>\n",
              "      <th>770</th>\n",
              "      <td>https://www.linkedin.com/in/dm-bychkov</td>\n",
              "      <td>frontend</td>\n",
              "      <td>Dmitrii Bychkov ✅</td>\n",
              "      <td>Frontend Web Developer | JavaScript | TypeScri...</td>\n",
              "      <td>SmartMechanica</td>\n",
              "      <td>Всем привет!)Меня зовут Дмитрий.Я Frontend раз...</td>\n",
              "      <td>3.0</td>\n",
              "      <td>Москва, Москва, Россия</td>\n",
              "      <td>64</td>\n",
              "      <td>Когда тестировщик заводит себе кота:#memes #cats</td>\n",
              "      <td>6.0</td>\n",
              "      <td>7.0</td>\n",
              "      <td>3.0</td>\n",
              "      <td>48</td>\n",
              "    </tr>\n",
              "    <tr>\n",
              "      <th>776</th>\n",
              "      <td>https://www.linkedin.com/in/dm-bychkov</td>\n",
              "      <td>frontend</td>\n",
              "      <td>Dmitrii Bychkov ✅</td>\n",
              "      <td>Frontend Web Developer | JavaScript | TypeScri...</td>\n",
              "      <td>SmartMechanica</td>\n",
              "      <td>Всем привет!)Меня зовут Дмитрий.Я Frontend раз...</td>\n",
              "      <td>3.0</td>\n",
              "      <td>Москва, Москва, Россия</td>\n",
              "      <td>64</td>\n",
              "      <td>Шедевр</td>\n",
              "      <td>4.0</td>\n",
              "      <td>2.0</td>\n",
              "      <td>2.0</td>\n",
              "      <td>6</td>\n",
              "    </tr>\n",
              "    <tr>\n",
              "      <th>904</th>\n",
              "      <td>https://www.linkedin.com/in/serejkaaa</td>\n",
              "      <td>lead data analyst</td>\n",
              "      <td>Sergei Kogai</td>\n",
              "      <td>Lead DWH Analyst, Data Architect</td>\n",
              "      <td>SKB-Online</td>\n",
              "      <td>Dwh DevelopmentDwh Development</td>\n",
              "      <td>9.0</td>\n",
              "      <td>Россия</td>\n",
              "      <td>3</td>\n",
              "      <td>Looking for a job 😊#dwh #analyst</td>\n",
              "      <td>6.0</td>\n",
              "      <td>NaN</td>\n",
              "      <td>1.0</td>\n",
              "      <td>32</td>\n",
              "    </tr>\n",
              "    <tr>\n",
              "      <th>906</th>\n",
              "      <td>https://www.linkedin.com/in/serejkaaa</td>\n",
              "      <td>lead data analyst</td>\n",
              "      <td>Sergei Kogai</td>\n",
              "      <td>Lead DWH Analyst, Data Architect</td>\n",
              "      <td>SKB-Online</td>\n",
              "      <td>Dwh DevelopmentDwh Development</td>\n",
              "      <td>9.0</td>\n",
              "      <td>Россия</td>\n",
              "      <td>3</td>\n",
              "      <td>open to work  🙌</td>\n",
              "      <td>8.0</td>\n",
              "      <td>NaN</td>\n",
              "      <td>1.0</td>\n",
              "      <td>15</td>\n",
              "    </tr>\n",
              "    <tr>\n",
              "      <th>941</th>\n",
              "      <td>https://www.linkedin.com/in/yuzhakova</td>\n",
              "      <td>lead data analyst</td>\n",
              "      <td>Александр (Youzhakov Alexander) Южаков</td>\n",
              "      <td>Data Architect</td>\n",
              "      <td>Иннотех ВТБ</td>\n",
              "      <td>dvbi.rudvbi.ru</td>\n",
              "      <td>10.0</td>\n",
              "      <td>Россия</td>\n",
              "      <td>37</td>\n",
              "      <td>#ЛахтаЦентр-2</td>\n",
              "      <td>1.0</td>\n",
              "      <td>NaN</td>\n",
              "      <td>NaN</td>\n",
              "      <td>13</td>\n",
              "    </tr>\n",
              "    <tr>\n",
              "      <th>948</th>\n",
              "      <td>https://www.linkedin.com/in/yuzhakova</td>\n",
              "      <td>lead data analyst</td>\n",
              "      <td>Александр (Youzhakov Alexander) Южаков</td>\n",
              "      <td>Data Architect</td>\n",
              "      <td>Иннотех ВТБ</td>\n",
              "      <td>dvbi.rudvbi.ru</td>\n",
              "      <td>10.0</td>\n",
              "      <td>Россия</td>\n",
              "      <td>37</td>\n",
              "      <td>Юрий П.</td>\n",
              "      <td>4.0</td>\n",
              "      <td>1.0</td>\n",
              "      <td>NaN</td>\n",
              "      <td>7</td>\n",
              "    </tr>\n",
              "    <tr>\n",
              "      <th>953</th>\n",
              "      <td>https://www.linkedin.com/in/yuzhakova</td>\n",
              "      <td>lead data analyst</td>\n",
              "      <td>Александр (Youzhakov Alexander) Южаков</td>\n",
              "      <td>Data Architect</td>\n",
              "      <td>Иннотех ВТБ</td>\n",
              "      <td>dvbi.rudvbi.ru</td>\n",
              "      <td>10.0</td>\n",
              "      <td>Россия</td>\n",
              "      <td>37</td>\n",
              "      <td>НАВОДИМ ПОРЯДОК В ОТЧЕТАХhttps://lnkd.in/etx7_VB</td>\n",
              "      <td>1.0</td>\n",
              "      <td>NaN</td>\n",
              "      <td>NaN</td>\n",
              "      <td>48</td>\n",
              "    </tr>\n",
              "    <tr>\n",
              "      <th>1071</th>\n",
              "      <td>https://www.linkedin.com/in/ilyanikishin</td>\n",
              "      <td>lead web developer</td>\n",
              "      <td>Илья Никишин</td>\n",
              "      <td>Full Stack Web Developer/Team Lead</td>\n",
              "      <td>OpenSolutions LLC</td>\n",
              "      <td>Я пишу программное обеспечение около 14 лет, 3...</td>\n",
              "      <td>7.0</td>\n",
              "      <td>Москва, Москва, Россия</td>\n",
              "      <td>3</td>\n",
              "      <td>Вот и получен долгожданный сертификат PMP</td>\n",
              "      <td>NaN</td>\n",
              "      <td>NaN</td>\n",
              "      <td>NaN</td>\n",
              "      <td>41</td>\n",
              "    </tr>\n",
              "    <tr>\n",
              "      <th>1111</th>\n",
              "      <td>https://www.linkedin.com/in/rovechkin</td>\n",
              "      <td>lead web developer</td>\n",
              "      <td>Roman Ovechkin</td>\n",
              "      <td>Senior web developer</td>\n",
              "      <td>Polygant</td>\n",
              "      <td>Consolidated experience on Web Project Managem...</td>\n",
              "      <td>15.0</td>\n",
              "      <td>Россия</td>\n",
              "      <td>9</td>\n",
              "      <td>Senior developers for £25 / hour | Polygant</td>\n",
              "      <td>NaN</td>\n",
              "      <td>NaN</td>\n",
              "      <td>1.0</td>\n",
              "      <td>43</td>\n",
              "    </tr>\n",
              "    <tr>\n",
              "      <th>1319</th>\n",
              "      <td>https://www.linkedin.com/in/natalia-koroleva-7...</td>\n",
              "      <td>lead test engineer</td>\n",
              "      <td>Natalia Koroleva</td>\n",
              "      <td>MANUAL QA</td>\n",
              "      <td>IT2G</td>\n",
              "      <td>Неспешно рассматриваю вакансии QA- без релокац...</td>\n",
              "      <td>9.0</td>\n",
              "      <td>Россия</td>\n",
              "      <td>3</td>\n",
              "      <td>#job #vacancy #вакансия</td>\n",
              "      <td>NaN</td>\n",
              "      <td>NaN</td>\n",
              "      <td>NaN</td>\n",
              "      <td>23</td>\n",
              "    </tr>\n",
              "    <tr>\n",
              "      <th>1390</th>\n",
              "      <td>https://www.linkedin.com/in/valerii-kalinin-40...</td>\n",
              "      <td>lead test engineer</td>\n",
              "      <td>Valerii Kalinin</td>\n",
              "      <td>Quality Assurance Engineer</td>\n",
              "      <td>Freedom Finance</td>\n",
              "      <td>Experience in testing for more than three year...</td>\n",
              "      <td>4.0</td>\n",
              "      <td>Россия</td>\n",
              "      <td>5</td>\n",
              "      <td>#coding #dev #testerTahir Dimiev Олег Иволга</td>\n",
              "      <td>4.0</td>\n",
              "      <td>NaN</td>\n",
              "      <td>1.0</td>\n",
              "      <td>44</td>\n",
              "    </tr>\n",
              "    <tr>\n",
              "      <th>1411</th>\n",
              "      <td>https://www.linkedin.com/in/dina-rozhkova-1b21...</td>\n",
              "      <td>lead test engineer</td>\n",
              "      <td>Dina Rozhkova</td>\n",
              "      <td>Sr. SQA Engineer</td>\n",
              "      <td>Align Technology</td>\n",
              "      <td>Sr.Test engineer/SW engineer - Test LeadStrong...</td>\n",
              "      <td>10.0</td>\n",
              "      <td>Москва, Москва, Россия</td>\n",
              "      <td>2</td>\n",
              "      <td>Обожаю этот вопрос</td>\n",
              "      <td>6.0</td>\n",
              "      <td>NaN</td>\n",
              "      <td>NaN</td>\n",
              "      <td>18</td>\n",
              "    </tr>\n",
              "    <tr>\n",
              "      <th>1419</th>\n",
              "      <td>https://www.linkedin.com/in/dina-rozhkova-1b21...</td>\n",
              "      <td>lead test engineer</td>\n",
              "      <td>Dina Rozhkova</td>\n",
              "      <td>Sr. SQA Engineer</td>\n",
              "      <td>Align Technology</td>\n",
              "      <td>Sr.Test engineer/SW engineer - Test LeadStrong...</td>\n",
              "      <td>10.0</td>\n",
              "      <td>Москва, Москва, Россия</td>\n",
              "      <td>2</td>\n",
              "      <td>Обожаю этот вопрос</td>\n",
              "      <td>6.0</td>\n",
              "      <td>NaN</td>\n",
              "      <td>NaN</td>\n",
              "      <td>18</td>\n",
              "    </tr>\n",
              "    <tr>\n",
              "      <th>1484</th>\n",
              "      <td>https://www.linkedin.com/in/oleg-yamshikov-b46...</td>\n",
              "      <td>lead devops</td>\n",
              "      <td>Oleg Yamshikov</td>\n",
              "      <td>Lead DevOPS – MirTesen.ru</td>\n",
              "      <td>MirTesen.ru</td>\n",
              "      <td>Все цели достижимыВсе цели достижимы</td>\n",
              "      <td>13.0</td>\n",
              "      <td>Москва, Московская область, Россия</td>\n",
              "      <td>1</td>\n",
              "      <td>https://lnkd.in/d2qJ3jHКак думаете, примут?</td>\n",
              "      <td>NaN</td>\n",
              "      <td>NaN</td>\n",
              "      <td>NaN</td>\n",
              "      <td>43</td>\n",
              "    </tr>\n",
              "    <tr>\n",
              "      <th>1502</th>\n",
              "      <td>https://www.linkedin.com/in/pavel-andreev-7771...</td>\n",
              "      <td>lead devops</td>\n",
              "      <td>Pavel Andreev</td>\n",
              "      <td>Lead DevOps Engineer – Т1.Сфера</td>\n",
              "      <td>Т1 диджитал</td>\n",
              "      <td>Hi, I'm Pavel. I solve problemsHi, I'm Pavel. ...</td>\n",
              "      <td>4.0</td>\n",
              "      <td>Иркутская область, Россия</td>\n",
              "      <td>2</td>\n",
              "      <td>весенний митап ITsumma 2019</td>\n",
              "      <td>5.0</td>\n",
              "      <td>NaN</td>\n",
              "      <td>NaN</td>\n",
              "      <td>27</td>\n",
              "    </tr>\n",
              "    <tr>\n",
              "      <th>1538</th>\n",
              "      <td>https://www.linkedin.com/in/oleg-kurchavov-2a4...</td>\n",
              "      <td>lead devops</td>\n",
              "      <td>Oleg Kurchavov</td>\n",
              "      <td>Lead DevOps Specialist at IT_One</td>\n",
              "      <td>IT_One</td>\n",
              "      <td>Linux (Debian, CentOS)Cloud computing (Amazon ...</td>\n",
              "      <td>6.0</td>\n",
              "      <td>Агломерация Санкт-Петербурга</td>\n",
              "      <td>7</td>\n",
              "      <td>Just finished the course “Linux: BIND and DNS”!</td>\n",
              "      <td>1.0</td>\n",
              "      <td>NaN</td>\n",
              "      <td>NaN</td>\n",
              "      <td>47</td>\n",
              "    </tr>\n",
              "    <tr>\n",
              "      <th>1539</th>\n",
              "      <td>https://www.linkedin.com/in/oleg-kurchavov-2a4...</td>\n",
              "      <td>lead devops</td>\n",
              "      <td>Oleg Kurchavov</td>\n",
              "      <td>Lead DevOps Specialist at IT_One</td>\n",
              "      <td>IT_One</td>\n",
              "      <td>Linux (Debian, CentOS)Cloud computing (Amazon ...</td>\n",
              "      <td>6.0</td>\n",
              "      <td>Агломерация Санкт-Петербурга</td>\n",
              "      <td>7</td>\n",
              "      <td>Just finished the course “Learning CentOS Linux”!</td>\n",
              "      <td>NaN</td>\n",
              "      <td>NaN</td>\n",
              "      <td>NaN</td>\n",
              "      <td>49</td>\n",
              "    </tr>\n",
              "    <tr>\n",
              "      <th>1648</th>\n",
              "      <td>https://www.linkedin.com/in/anastasiya-saydazi...</td>\n",
              "      <td>frontend</td>\n",
              "      <td>Анастасия Сайдазимова</td>\n",
              "      <td>Frontend Developer | React, Redux, JavaScript,...</td>\n",
              "      <td>NaN</td>\n",
              "      <td>3 года назад начала изучать Frontend-разработк...</td>\n",
              "      <td>1.0</td>\n",
              "      <td>Санкт-Петербург, Санкт-Петербург, Россия</td>\n",
              "      <td>158</td>\n",
              "      <td>💛 JS 😁</td>\n",
              "      <td>2.0</td>\n",
              "      <td>NaN</td>\n",
              "      <td>1.0</td>\n",
              "      <td>6</td>\n",
              "    </tr>\n",
              "    <tr>\n",
              "      <th>1653</th>\n",
              "      <td>https://www.linkedin.com/in/anastasiya-saydazi...</td>\n",
              "      <td>frontend</td>\n",
              "      <td>Анастасия Сайдазимова</td>\n",
              "      <td>Frontend Developer | React, Redux, JavaScript,...</td>\n",
              "      <td>NaN</td>\n",
              "      <td>3 года назад начала изучать Frontend-разработк...</td>\n",
              "      <td>1.0</td>\n",
              "      <td>Санкт-Петербург, Санкт-Петербург, Россия</td>\n",
              "      <td>158</td>\n",
              "      <td>I love my cats 🐈🐈</td>\n",
              "      <td>8.0</td>\n",
              "      <td>2.0</td>\n",
              "      <td>NaN</td>\n",
              "      <td>17</td>\n",
              "    </tr>\n",
              "    <tr>\n",
              "      <th>1731</th>\n",
              "      <td>https://www.linkedin.com/in/petr-novikov-98621639</td>\n",
              "      <td>senior ML engineer</td>\n",
              "      <td>Petr Novikov</td>\n",
              "      <td>ML Engineer | Data Scientist | Python/Java/C++...</td>\n",
              "      <td>Abiroy Business Group</td>\n",
              "      <td>About me:- Data Scientist with strong research...</td>\n",
              "      <td>8.0</td>\n",
              "      <td>Санкт-Петербург, Санкт-Петербург, Россия</td>\n",
              "      <td>52</td>\n",
              "      <td>Кандидат отправил)#scrum #скрам</td>\n",
              "      <td>9.0</td>\n",
              "      <td>7.0</td>\n",
              "      <td>9.0</td>\n",
              "      <td>31</td>\n",
              "    </tr>\n",
              "    <tr>\n",
              "      <th>1758</th>\n",
              "      <td>https://www.linkedin.com/in/matohin</td>\n",
              "      <td>senior ML engineer</td>\n",
              "      <td>Matohin Evgeniy</td>\n",
              "      <td>Lead / Senior Software Developer</td>\n",
              "      <td>Rosbank</td>\n",
              "      <td>Considering lead and senior positions in Platf...</td>\n",
              "      <td>6.0</td>\n",
              "      <td>Нижегородская область, Россия</td>\n",
              "      <td>12</td>\n",
              "      <td>Egor Sokhanev #отзыв #Спасибо!</td>\n",
              "      <td>2.0</td>\n",
              "      <td>NaN</td>\n",
              "      <td>NaN</td>\n",
              "      <td>30</td>\n",
              "    </tr>\n",
              "    <tr>\n",
              "      <th>1778</th>\n",
              "      <td>https://www.linkedin.com/in/mark-averchenko-1b...</td>\n",
              "      <td>senior ML engineer</td>\n",
              "      <td>Mark Averchenko</td>\n",
              "      <td>ML engineer at VK</td>\n",
              "      <td>VK</td>\n",
              "      <td>Hi, I'm Mark! Student of math and  mechanics d...</td>\n",
              "      <td>2.0</td>\n",
              "      <td>Екатеринбург, Свердловская область, Россия</td>\n",
              "      <td>10</td>\n",
              "      <td>Отличный cheatsheet</td>\n",
              "      <td>4.0</td>\n",
              "      <td>NaN</td>\n",
              "      <td>NaN</td>\n",
              "      <td>19</td>\n",
              "    </tr>\n",
              "  </tbody>\n",
              "</table>\n",
              "</div>\n",
              "      <button class=\"colab-df-convert\" onclick=\"convertToInteractive('df-4411fe37-4091-4f3d-ae7d-23c6561f58a4')\"\n",
              "              title=\"Convert this dataframe to an interactive table.\"\n",
              "              style=\"display:none;\">\n",
              "        \n",
              "  <svg xmlns=\"http://www.w3.org/2000/svg\" height=\"24px\"viewBox=\"0 0 24 24\"\n",
              "       width=\"24px\">\n",
              "    <path d=\"M0 0h24v24H0V0z\" fill=\"none\"/>\n",
              "    <path d=\"M18.56 5.44l.94 2.06.94-2.06 2.06-.94-2.06-.94-.94-2.06-.94 2.06-2.06.94zm-11 1L8.5 8.5l.94-2.06 2.06-.94-2.06-.94L8.5 2.5l-.94 2.06-2.06.94zm10 10l.94 2.06.94-2.06 2.06-.94-2.06-.94-.94-2.06-.94 2.06-2.06.94z\"/><path d=\"M17.41 7.96l-1.37-1.37c-.4-.4-.92-.59-1.43-.59-.52 0-1.04.2-1.43.59L10.3 9.45l-7.72 7.72c-.78.78-.78 2.05 0 2.83L4 21.41c.39.39.9.59 1.41.59.51 0 1.02-.2 1.41-.59l7.78-7.78 2.81-2.81c.8-.78.8-2.07 0-2.86zM5.41 20L4 18.59l7.72-7.72 1.47 1.35L5.41 20z\"/>\n",
              "  </svg>\n",
              "      </button>\n",
              "      \n",
              "  <style>\n",
              "    .colab-df-container {\n",
              "      display:flex;\n",
              "      flex-wrap:wrap;\n",
              "      gap: 12px;\n",
              "    }\n",
              "\n",
              "    .colab-df-convert {\n",
              "      background-color: #E8F0FE;\n",
              "      border: none;\n",
              "      border-radius: 50%;\n",
              "      cursor: pointer;\n",
              "      display: none;\n",
              "      fill: #1967D2;\n",
              "      height: 32px;\n",
              "      padding: 0 0 0 0;\n",
              "      width: 32px;\n",
              "    }\n",
              "\n",
              "    .colab-df-convert:hover {\n",
              "      background-color: #E2EBFA;\n",
              "      box-shadow: 0px 1px 2px rgba(60, 64, 67, 0.3), 0px 1px 3px 1px rgba(60, 64, 67, 0.15);\n",
              "      fill: #174EA6;\n",
              "    }\n",
              "\n",
              "    [theme=dark] .colab-df-convert {\n",
              "      background-color: #3B4455;\n",
              "      fill: #D2E3FC;\n",
              "    }\n",
              "\n",
              "    [theme=dark] .colab-df-convert:hover {\n",
              "      background-color: #434B5C;\n",
              "      box-shadow: 0px 1px 3px 1px rgba(0, 0, 0, 0.15);\n",
              "      filter: drop-shadow(0px 1px 2px rgba(0, 0, 0, 0.3));\n",
              "      fill: #FFFFFF;\n",
              "    }\n",
              "  </style>\n",
              "\n",
              "      <script>\n",
              "        const buttonEl =\n",
              "          document.querySelector('#df-4411fe37-4091-4f3d-ae7d-23c6561f58a4 button.colab-df-convert');\n",
              "        buttonEl.style.display =\n",
              "          google.colab.kernel.accessAllowed ? 'block' : 'none';\n",
              "\n",
              "        async function convertToInteractive(key) {\n",
              "          const element = document.querySelector('#df-4411fe37-4091-4f3d-ae7d-23c6561f58a4');\n",
              "          const dataTable =\n",
              "            await google.colab.kernel.invokeFunction('convertToInteractive',\n",
              "                                                     [key], {});\n",
              "          if (!dataTable) return;\n",
              "\n",
              "          const docLinkHtml = 'Like what you see? Visit the ' +\n",
              "            '<a target=\"_blank\" href=https://colab.research.google.com/notebooks/data_table.ipynb>data table notebook</a>'\n",
              "            + ' to learn more about interactive tables.';\n",
              "          element.innerHTML = '';\n",
              "          dataTable['output_type'] = 'display_data';\n",
              "          await google.colab.output.renderOutput(dataTable, element);\n",
              "          const docLink = document.createElement('div');\n",
              "          docLink.innerHTML = docLinkHtml;\n",
              "          element.appendChild(docLink);\n",
              "        }\n",
              "      </script>\n",
              "    </div>\n",
              "  </div>\n",
              "  "
            ]
          },
          "metadata": {},
          "execution_count": 43
        }
      ],
      "id": "D7HPXJM_X1LB"
    },
    {
      "cell_type": "code",
      "execution_count": 44,
      "id": "fd353ec5-8db2-4460-89f5-bc6f88df4e4c",
      "metadata": {
        "id": "fd353ec5-8db2-4460-89f5-bc6f88df4e4c"
      },
      "outputs": [],
      "source": [
        "texts = df[\"post_text\"].tolist()"
      ]
    },
    {
      "cell_type": "markdown",
      "id": "dbaf7701-adc2-42ee-b8a0-879a22372bb6",
      "metadata": {
        "id": "dbaf7701-adc2-42ee-b8a0-879a22372bb6"
      },
      "source": [
        "Выполняем лемматизацию текстов."
      ]
    },
    {
      "cell_type": "code",
      "execution_count": 45,
      "id": "5d290cce-c7f4-4489-82d3-9e94108ea4f1",
      "metadata": {
        "id": "5d290cce-c7f4-4489-82d3-9e94108ea4f1"
      },
      "outputs": [],
      "source": [
        "res = []\n",
        "for doc in model.pipe(texts, disable=[\"tagger\", \"parser\"]):\n",
        "    res.append([token.lemma_ for token in doc])"
      ]
    },
    {
      "cell_type": "code",
      "execution_count": 46,
      "id": "9c298391-6351-4f82-97a6-f3ffdb7e551d",
      "metadata": {
        "id": "9c298391-6351-4f82-97a6-f3ffdb7e551d"
      },
      "outputs": [],
      "source": [
        "with open(\"lemmas.json\", \"w\") as fid:\n",
        "    json.dump({\"lemmas\": res}, fid)"
      ]
    },
    {
      "cell_type": "markdown",
      "id": "90ab85f4-6e67-4e79-a1a4-63dcac05160c",
      "metadata": {
        "id": "90ab85f4-6e67-4e79-a1a4-63dcac05160c"
      },
      "source": [
        "Сохраним результат, чтобы не повторять лемматизацию заново в следующий раз."
      ]
    },
    {
      "cell_type": "markdown",
      "id": "180439d6-f077-4f8d-b587-0a6e9c6bb472",
      "metadata": {
        "id": "180439d6-f077-4f8d-b587-0a6e9c6bb472"
      },
      "source": [
        "Смотрим на результат - случайным образом сэмплируем несколько примеров"
      ]
    },
    {
      "cell_type": "code",
      "execution_count": 47,
      "id": "bcfdf915-27b1-45f4-92eb-ca116c6a623f",
      "metadata": {
        "id": "bcfdf915-27b1-45f4-92eb-ca116c6a623f",
        "colab": {
          "base_uri": "https://localhost:8080/",
          "height": 87
        },
        "outputId": "dfebb84e-e0c3-4f8a-a0a9-dca641f7acd6"
      },
      "outputs": [
        {
          "output_type": "execute_result",
          "data": {
            "text/plain": [
              "'занятный, цитата, из, книга, \", человеческий, фактор\":“коварный, эффект, текучка, в, том, ,, что, она, порождать, текучка, ., человек, уходить, быстро, ,, поэтому, нет, смысл, тратить, деньга, на, они, обучение, ., поскольку, компания, ничто, не, вкладывать, в, человек, ,, ему, легко, с, она, распрощаться, ., новый, сотрудник, нанимать, не, за, они, превосходный, качество, ,, поскольку, заменить, такой, качество, быть, слишком, сложный, ., ощущение, же, ,, что, компания, не, видеть, в, сотруднике, ничто, необычайный, ,, вызывать, у, этот, сотрудник, чувство, неоцененности, как, индивидуум, ., другие, ,, кстати, ,, постоянно, увольняются, ,, значить, ,, с, вами, что, -, то, не, так, ,, если, вы, ещё, на, год, задержитесь, здесь, ., ”'"
            ],
            "application/vnd.google.colaboratory.intrinsic+json": {
              "type": "string"
            }
          },
          "metadata": {},
          "execution_count": 47
        }
      ],
      "source": [
        "\", \".join(res[np.random.randint(len(res))])"
      ]
    },
    {
      "cell_type": "code",
      "execution_count": 48,
      "id": "bd7b72fb-0bc0-4210-99e7-1d9fcb0eda50",
      "metadata": {
        "id": "bd7b72fb-0bc0-4210-99e7-1d9fcb0eda50",
        "colab": {
          "base_uri": "https://localhost:8080/",
          "height": 52
        },
        "outputId": "8a4ad52b-2087-44e0-927c-d25f7517fe94"
      },
      "outputs": [
        {
          "output_type": "execute_result",
          "data": {
            "text/plain": [
              "'здравствовать, ,, я, в, поиск, новый, карьерный, возможность, и, быть, признателен(а, ), за, ваш, поддержка, ., заранее, благодарить, за, весь, рекомендация, контакт, ,, совет, или, возможность, ,, которые, вы, мочь, предложить, ., #, opentowork'"
            ],
            "application/vnd.google.colaboratory.intrinsic+json": {
              "type": "string"
            }
          },
          "metadata": {},
          "execution_count": 48
        }
      ],
      "source": [
        "\", \".join(res[np.random.randint(len(res))])"
      ]
    },
    {
      "cell_type": "code",
      "execution_count": 49,
      "id": "b6630ae6-aa02-4255-9f59-7b796bd1bb57",
      "metadata": {
        "id": "b6630ae6-aa02-4255-9f59-7b796bd1bb57",
        "colab": {
          "base_uri": "https://localhost:8080/",
          "height": 104
        },
        "outputId": "8a4260d4-ab3a-428e-8be1-fa6a4f788a22"
      },
      "outputs": [
        {
          "output_type": "execute_result",
          "data": {
            "text/plain": [
              "'!, !, !, очень, удобный, шпаргалка, по, git, !, !, !, тот, кто, ещё, не, сделать, это, ,, приглашать, подписаться, 👍, на, мой, телеграмм, -, канал, qa, ❤, life, \\xa0, https://t.me/QA4Life.Это, канал, для, начинать, 🧑, и, опытный, 🧔, тестировщиков, ,, qa, и, qc, 🧐, ,, а, также, быть, полезный, также, для, po, ,, pm, ,, da, ,, ba, и, sm, специалист, 👨, \\u200d, 👩, \\u200d, 👦, \\u200d, 👦, ., здесь, я, ежедневно, делиться, 🗃, ещё, больший, количество, материал, по, it, 🌐, тематика, (, статья, ,, обучать, видео, ,, новость, ,, ит, -, юмор, ,, опрос, ,, обсуждение, …, )#it, \\xa0, #, engineer, \\xa0, #, software, \\xa0, #, qa, \\xa0, #, qc, \\xa0, #, quality, \\xa0, #, recruiter, \\xa0, #, recruiting, \\xa0, #, hr, \\xa0, #, tester, \\xa0, #, qa_engineer, \\xa0, #, testing, \\xa0, #, pm, \\xa0, #, ba, \\xa0, #, da, \\xa0, #, тестирование, \\xa0, #, development, \\xa0, #, developer, \\xa0\\xa0, #, тестировщик, \\xa0, #, тестер'"
            ],
            "application/vnd.google.colaboratory.intrinsic+json": {
              "type": "string"
            }
          },
          "metadata": {},
          "execution_count": 49
        }
      ],
      "source": [
        "\", \".join(res[np.random.randint(len(res))])"
      ]
    },
    {
      "cell_type": "markdown",
      "id": "5e859143-9aa3-4717-ae64-f8736ac9acf6",
      "metadata": {
        "id": "5e859143-9aa3-4717-ae64-f8736ac9acf6"
      },
      "source": [
        "\n",
        "\n",
        "Удалим знаки препинания, цифры и слова, содержащие цифры. Для это соберём регулярное выражение, которое подходит для любого слова, состоящего из букв кирилицы.\n",
        "\n"
      ]
    },
    {
      "cell_type": "code",
      "execution_count": 50,
      "id": "0cd293d6-12be-4c2e-96c1-4ba76906934d",
      "metadata": {
        "id": "0cd293d6-12be-4c2e-96c1-4ba76906934d"
      },
      "outputs": [],
      "source": [
        "word_pattern = re.compile(\"^[а-яА-ЯёЁ]*$\")"
      ]
    },
    {
      "cell_type": "code",
      "execution_count": 51,
      "id": "66e11ab8-6c25-49ad-8509-7aa4257cc7f6",
      "metadata": {
        "id": "66e11ab8-6c25-49ad-8509-7aa4257cc7f6"
      },
      "outputs": [],
      "source": [
        "def remove_symbols(doc):\n",
        "    return [token for token in doc if word_pattern.match(token)]"
      ]
    },
    {
      "cell_type": "code",
      "execution_count": 52,
      "id": "f3af2747-80f6-45f5-9afe-ab35e40118d4",
      "metadata": {
        "id": "f3af2747-80f6-45f5-9afe-ab35e40118d4"
      },
      "outputs": [],
      "source": [
        "corpus = list(map(remove_symbols, res))"
      ]
    },
    {
      "cell_type": "code",
      "execution_count": 53,
      "id": "a99c6244-7b6d-4782-a5c0-6615e269a4ff",
      "metadata": {
        "id": "a99c6244-7b6d-4782-a5c0-6615e269a4ff",
        "colab": {
          "base_uri": "https://localhost:8080/",
          "height": 104
        },
        "outputId": "1ed9f690-aaed-4a65-8d48-d11cba19e635"
      },
      "outputs": [
        {
          "output_type": "execute_result",
          "data": {
            "text/plain": [
              "'линкуськины, мой, подруга, зарина, буклова, аналитик, сейчас, в, активный, поиск, прям, мой, личный, рекомендация, ведь, не, имей, рубль, а, имей, друг, которых, мочь, порекомендовать, к, наём, так, гласить, народный, выдумать, мною, премудрость, честной, слово, быть, бы, у, меня, позиция, для, нее, ваще, б, не, отдать, никто, это, человек, который, мочь, изучить, всё, и, весь, в, кратчайшие, срок, всегда, завидовать, этот, навыку, и, всегда, говорить, что, если, зарина, нужный, быть, научиться, конструировать, ракета, или, управлять, трактор, она, просто, взять, пара, день, на, изучение, и, потом, стать, в, это, хороший, ну, псих, в, хороший, смысл, я, кстати, математик, у, нее, в, старший, класс, списывать, потому, что, на, мне, клеймо, гуманитарий, я, без, калькулятор, даже, палец, на, рука, не, считать, зарина, в, поиск, позиция, на, аналитик, данных, налитика, у, нее, более, год, коммерческий, опыт, в, аналитика, отлично, знать, базовый, запрос, на, изучать, сейчас, весь, быть, базовый, навык, знание, умение, выстраивать, воронка, и, прикручивать, виджет, предыдущий, опыт, более, год, в, продажа, в, тот, число, руководитель, отделассылка, на, резюмеху, тележка, я, искать, работа, вы, сильно, мне, помочь, поддержка, поэтому, снова, попросить, у, вас, репостики, слово, поддержка, любовь, мемасы, мир, рекомендация, а, тут, найти, отличие, и, меня, с, зарина'"
            ],
            "application/vnd.google.colaboratory.intrinsic+json": {
              "type": "string"
            }
          },
          "metadata": {},
          "execution_count": 53
        }
      ],
      "source": [
        "\", \".join(corpus[np.random.randint(len(corpus))])"
      ]
    },
    {
      "cell_type": "markdown",
      "id": "0a27ce7a-1db6-4161-bacb-f2b820cbb796",
      "metadata": {
        "id": "0a27ce7a-1db6-4161-bacb-f2b820cbb796"
      },
      "source": [
        "Выглядит гораздо лучше."
      ]
    },
    {
      "cell_type": "markdown",
      "id": "f4220f36-13fa-4a86-95f3-6d44d0bd83f6",
      "metadata": {
        "id": "f4220f36-13fa-4a86-95f3-6d44d0bd83f6"
      },
      "source": [
        "## Векторизация текстов"
      ]
    },
    {
      "cell_type": "markdown",
      "id": "c82a654f-912b-4d91-b3ad-0f67ed16b2d6",
      "metadata": {
        "id": "c82a654f-912b-4d91-b3ad-0f67ed16b2d6"
      },
      "source": [
        "Чтобы уменьшить размерность получаемой матрицы, добавим исключение стоп-слов."
      ]
    },
    {
      "cell_type": "code",
      "execution_count": 54,
      "id": "3555d293-13cd-4de7-82e5-10a32c349ded",
      "metadata": {
        "id": "3555d293-13cd-4de7-82e5-10a32c349ded",
        "colab": {
          "base_uri": "https://localhost:8080/"
        },
        "outputId": "782f21e8-8fe9-4927-a728-0e057a3825ae"
      },
      "outputs": [
        {
          "output_type": "stream",
          "name": "stdout",
          "text": [
            "['и', 'в', 'во', 'не', 'что', 'он', 'на', 'я', 'с', 'со', 'как', 'а', 'то', 'все', 'она', 'так', 'его', 'но', 'да', 'ты', 'к', 'у', 'же', 'вы', 'за', 'бы', 'по', 'только', 'ее', 'мне', 'было', 'вот', 'от', 'меня', 'еще', 'нет', 'о', 'из', 'ему', 'теперь', 'когда', 'даже', 'ну', 'вдруг', 'ли', 'если', 'уже', 'или', 'ни', 'быть', 'был', 'него', 'до', 'вас', 'нибудь', 'опять', 'уж', 'вам', 'ведь', 'там', 'потом', 'себя', 'ничего', 'ей', 'может', 'они', 'тут', 'где', 'есть', 'надо', 'ней', 'для', 'мы', 'тебя', 'их', 'чем', 'была', 'сам', 'чтоб', 'без', 'будто', 'чего', 'раз', 'тоже', 'себе', 'под', 'будет', 'ж', 'тогда', 'кто', 'этот', 'того', 'потому', 'этого', 'какой', 'совсем', 'ним', 'здесь', 'этом', 'один', 'почти', 'мой', 'тем', 'чтобы', 'нее', 'сейчас', 'были', 'куда', 'зачем', 'всех', 'никогда', 'можно', 'при', 'наконец', 'два', 'об', 'другой', 'хоть', 'после', 'над', 'больше', 'тот', 'через', 'эти', 'нас', 'про', 'всего', 'них', 'какая', 'много', 'разве', 'три', 'эту', 'моя', 'впрочем', 'хорошо', 'свою', 'этой', 'перед', 'иногда', 'лучше', 'чуть', 'том', 'нельзя', 'такой', 'им', 'более', 'всегда', 'конечно', 'всю', 'между']\n"
          ]
        }
      ],
      "source": [
        "stop_words = stopwords.words('russian')\n",
        "print(stop_words)"
      ]
    },
    {
      "cell_type": "code",
      "execution_count": 55,
      "id": "6bff388d-dd5a-438c-a5ce-b7d739452586",
      "metadata": {
        "id": "6bff388d-dd5a-438c-a5ce-b7d739452586"
      },
      "outputs": [],
      "source": [
        "tfidf = TfidfVectorizer(stop_words=stop_words, min_df=10, max_df=0.9)"
      ]
    },
    {
      "cell_type": "markdown",
      "id": "7468f8ba-4cb9-4a8b-8a65-e2e6fc40a87f",
      "metadata": {
        "id": "7468f8ba-4cb9-4a8b-8a65-e2e6fc40a87f"
      },
      "source": [
        "Т.е. TfIdfVectorizer принимает на вход список предложений, поэтому необходимо объединить списки слов, составляющих корпус, в предложения."
      ]
    },
    {
      "cell_type": "code",
      "execution_count": 56,
      "id": "3124cb24-dbc9-4043-abfc-ebacc41bf180",
      "metadata": {
        "collapsed": true,
        "jupyter": {
          "outputs_hidden": true
        },
        "tags": [],
        "id": "3124cb24-dbc9-4043-abfc-ebacc41bf180",
        "colab": {
          "base_uri": "https://localhost:8080/"
        },
        "outputId": "1c991d0d-6b8d-4aa6-fc77-5c0aa89fbc8d"
      },
      "outputs": [
        {
          "output_type": "execute_result",
          "data": {
            "text/plain": [
              "['я только что значок за навык кто хотеть быть следующий пройти тест на проверка навык',\n",
              " 'невозможный представить свой жизнь без знание английский язык и его можно изучить самостоятельно делиться с вами ресурс которые быть полезный для самостоятельный изучение английский язык бесплатный сайт для изучение грамматика прикольный ресурс где вы мочь пообщаться с искуственным интеллект распространить из самых популярный значительно упрощать жизнь при ведение диалог тот кто часто писать отличный ресурса с объяснение правило и шаблон просмотр фильм на английский с субтитрами можно день бесплатно попользовать книжка любитель почитать комикс словарь с толкование слово на английский синоним и даже история возникновение слово прокачка очень рекомендовать слушать радио помогать даже прослушивание на фон научиться понимать речь и усвоите интонация и прокачка восприятие американский речь прокачка восприятие британский речь советовать поглядывать блогер носитель которые в наглядный и яркий форма объяснить грамматика и давать повседневный лексика рассказывате про свой рабочий рутина и много других интересный фишка отлично подходить для сектор тот кто хотеть знать весь про мир компьютер и они беспощадный новинка вам интересный наука то одназначно вам к этот дамочка для общение с носитель язык не бояться совершать ошибка',\n",
              " 'сильный арт о психология и жизнь научиться мотивировать себя это самое большой достижение провести вправо чтобы просмотреть все артылично мне очень понравиться что вы об этот']"
            ]
          },
          "metadata": {},
          "execution_count": 56
        }
      ],
      "source": [
        "docs = [\" \".join(tokens) for tokens in corpus]\n",
        "docs[:3]"
      ]
    },
    {
      "cell_type": "code",
      "source": [
        "docs = list(filter(None, docs))"
      ],
      "metadata": {
        "id": "w40Dqr1_Y5-5"
      },
      "id": "w40Dqr1_Y5-5",
      "execution_count": 57,
      "outputs": []
    },
    {
      "cell_type": "code",
      "execution_count": 58,
      "id": "366d58eb-801e-461e-8cca-7db7feb520c1",
      "metadata": {
        "id": "366d58eb-801e-461e-8cca-7db7feb520c1"
      },
      "outputs": [],
      "source": [
        "x = tfidf.fit_transform(docs)"
      ]
    },
    {
      "cell_type": "code",
      "execution_count": 59,
      "id": "091efa54-5db8-423b-a9d3-e43b376a69a9",
      "metadata": {
        "id": "091efa54-5db8-423b-a9d3-e43b376a69a9",
        "colab": {
          "base_uri": "https://localhost:8080/"
        },
        "outputId": "8a849a0b-da0d-4cc4-beb0-adffddb11754"
      },
      "outputs": [
        {
          "output_type": "execute_result",
          "data": {
            "text/plain": [
              "(476, 275)"
            ]
          },
          "metadata": {},
          "execution_count": 59
        }
      ],
      "source": [
        "x.shape"
      ]
    },
    {
      "cell_type": "markdown",
      "id": "dcdc3280-13fe-490a-a294-0e139d2a4e04",
      "metadata": {
        "id": "dcdc3280-13fe-490a-a294-0e139d2a4e04"
      },
      "source": [
        "Теперь составим словарь {id_токена: токен} - он пригодится нам позднее."
      ]
    },
    {
      "cell_type": "code",
      "execution_count": 60,
      "id": "60d3ead5-7d38-4417-b333-191e153da469",
      "metadata": {
        "id": "60d3ead5-7d38-4417-b333-191e153da469"
      },
      "outputs": [],
      "source": [
        "id2word = {i: token for i, token in enumerate(tfidf.get_feature_names_out())}"
      ]
    },
    {
      "cell_type": "markdown",
      "id": "835dc774-04ca-4486-820e-c053ae1c5299",
      "metadata": {
        "id": "835dc774-04ca-4486-820e-c053ae1c5299"
      },
      "source": [
        "## LDA"
      ]
    },
    {
      "cell_type": "markdown",
      "id": "5030b8e4-cdeb-4c6d-a6c2-3ea5bf72d9be",
      "metadata": {
        "id": "5030b8e4-cdeb-4c6d-a6c2-3ea5bf72d9be"
      },
      "source": [
        "Теперь можем запустить алгоритм LDA. Зададим количество тем равное 5."
      ]
    },
    {
      "cell_type": "code",
      "execution_count": 61,
      "id": "e2f92219-5f50-41d2-91be-5f07796ed677",
      "metadata": {
        "id": "e2f92219-5f50-41d2-91be-5f07796ed677"
      },
      "outputs": [],
      "source": [
        "n_topics = 5"
      ]
    },
    {
      "cell_type": "code",
      "execution_count": 62,
      "id": "95d47fc3-498c-46bc-933d-8aee42382350",
      "metadata": {
        "id": "95d47fc3-498c-46bc-933d-8aee42382350"
      },
      "outputs": [],
      "source": [
        "lda = LatentDirichletAllocation(n_components=n_topics, random_state=31)"
      ]
    },
    {
      "cell_type": "code",
      "execution_count": 63,
      "id": "9d510749-149f-42fb-b751-1488e7a886ee",
      "metadata": {
        "id": "9d510749-149f-42fb-b751-1488e7a886ee"
      },
      "outputs": [],
      "source": [
        "topics = lda.fit_transform(x)"
      ]
    },
    {
      "cell_type": "code",
      "execution_count": 64,
      "id": "589f0747-f262-4ce8-9a04-154f7a32831e",
      "metadata": {
        "id": "589f0747-f262-4ce8-9a04-154f7a32831e",
        "colab": {
          "base_uri": "https://localhost:8080/"
        },
        "outputId": "0278d20a-f936-4aff-b618-2784e3511b3c"
      },
      "outputs": [
        {
          "output_type": "execute_result",
          "data": {
            "text/plain": [
              "(476, 5)"
            ]
          },
          "metadata": {},
          "execution_count": 64
        }
      ],
      "source": [
        "topics.shape"
      ]
    },
    {
      "cell_type": "markdown",
      "id": "879a33e7-8179-48ff-9f29-edf66ba34329",
      "metadata": {
        "id": "879a33e7-8179-48ff-9f29-edf66ba34329"
      },
      "source": [
        "### Ключевые слова"
      ]
    },
    {
      "cell_type": "markdown",
      "id": "bf4f9208-bc32-4a32-995c-0c78d7e703e4",
      "metadata": {
        "id": "bf4f9208-bc32-4a32-995c-0c78d7e703e4"
      },
      "source": [
        "Теперь извлечём ключевые слова для каждой из 5 тем. В свойсте _components_ _ лежит матрица соответствия слов темам. Пройдёмся по каждой из 5 выделенных тем и для каждой возьмём ТОП-20 слов."
      ]
    },
    {
      "cell_type": "markdown",
      "id": "b7d7f478-6fe8-41f2-8f5b-18e8924eafda",
      "metadata": {
        "id": "b7d7f478-6fe8-41f2-8f5b-18e8924eafda"
      },
      "source": [
        "По очереди пройдёмся по каждой теме (первое измерение массиа) и выберем ТОП-20 слов, наиболее характерных для этой темы. Потом по индексу слова обратимся к словарю и узнаем, что это за слово."
      ]
    },
    {
      "cell_type": "code",
      "execution_count": 65,
      "id": "22943201-2961-46a2-b925-6a0c2f41c6f8",
      "metadata": {
        "id": "22943201-2961-46a2-b925-6a0c2f41c6f8",
        "colab": {
          "base_uri": "https://localhost:8080/"
        },
        "outputId": "25f96316-0ea4-43ce-e55b-78364fb9606d"
      },
      "outputs": [
        {
          "output_type": "stream",
          "name": "stdout",
          "text": [
            "Тема 1 :\n",
            "рад, привет, посмотреть, признателен, новый, ваш, мочь, которые, поиск, весь, здравствовать, предложить, рекомендация, благодарить, карьерный, поддержка, совет, заранее, контакт, возможность\n",
            "\n",
            " \n",
            "Тема 2 :\n",
            "мочь, наш, поиск, ещё, написать, задача, проект, человек, год, интересный, весь, команда, хороший, очень, свой, работать, опыт, время, это, работа\n",
            "\n",
            " \n",
            "Тема 3 :\n",
            "репосты, крутой, россия, крупный, привет, пока, проект, резюме, разработчик, позиция, всем, искать, вакансия, новый, компания, начинать, работа, должность, сообщать, удовольствие\n",
            "\n",
            " \n",
            "Тема 4 :\n",
            "удобный, опытный, ещё, также, делиться, внимание, неделя, материал, который, специалист, бесплатный, знать, предлагать, полезный, тестирование, вопрос, канал, довольно, стать, курс\n",
            "\n",
            " \n",
            "Тема 5 :\n",
            "автоматизация, которых, свой, дело, других, английский, текст, модель, слово, сделать, изучение, инструмент, хотеть, язык, значок, проверка, тест, пройти, следующий, навык\n",
            "\n",
            " \n"
          ]
        }
      ],
      "source": [
        "for i in range(n_topics):\n",
        "    c = lda.components_[i, :]\n",
        "    topic_tokens = [id2word.get(token_id) for token_id in np.argsort(c)[-20:]]\n",
        "    print(\"Тема\",i+1, \":\")\n",
        "    print(\", \".join(topic_tokens))\n",
        "    print(\"\\n \")"
      ]
    },
    {
      "cell_type": "markdown",
      "id": "c79be3dc-87e2-4ff7-986e-eaee3e8b7b91",
      "metadata": {
        "id": "c79be3dc-87e2-4ff7-986e-eaee3e8b7b91"
      },
      "source": [
        "По полученным ключевым словам можно составить представление о содержании той или иной темы. Хотя иногда сочетания слов довольно странные )  "
      ]
    },
    {
      "cell_type": "markdown",
      "id": "34921b4f-2611-4a05-9ab2-7d4e4857a6cc",
      "metadata": {
        "id": "34921b4f-2611-4a05-9ab2-7d4e4857a6cc"
      },
      "source": [
        "### Типичные статьи"
      ]
    },
    {
      "cell_type": "markdown",
      "id": "201ebeab-f859-4b6c-8f24-213c875fee74",
      "metadata": {
        "id": "201ebeab-f859-4b6c-8f24-213c875fee74"
      },
      "source": [
        "Теперь для каждой темы возьмём по одному документу, который хорошо соответсвует этой теме. Для этого заглянем в массив _topics_."
      ]
    },
    {
      "cell_type": "code",
      "execution_count": 66,
      "id": "07d1a6e6-b179-44e7-8220-d8aff056bfa8",
      "metadata": {
        "id": "07d1a6e6-b179-44e7-8220-d8aff056bfa8",
        "colab": {
          "base_uri": "https://localhost:8080/"
        },
        "outputId": "cdcc9bc1-1882-4e6e-a46e-32ab49425b14"
      },
      "outputs": [
        {
          "output_type": "stream",
          "name": "stdout",
          "text": [
            "Тема  0\n",
            "Надеюсь кому-нибудь будет полезна данная статья;) 💻\n",
            "\n",
            "\n",
            "Тема  1\n",
            "Если вы хотите попробовать крутую генерацию картинок по тексту, то сегодня midjourney раздает бесплатные приглашения к себе в бету!\n",
            "\n",
            "\n",
            "Тема  2\n",
            "Парень написал и почти 10 лет поддерживает библиотеку js на которой стоит web-фронтенд всей сети. Отказался от всего и пожертвовал для OpenSource столько, что невозможно и представить. При этом его пинают за то, что он что-то вякает про деньги и за то, что он русский. Черт с ними с Netflix, Ebay, Paypal, Pornhub и всеми остальными веб-сервисами (в буквальном смысле). Неужели у нас нет ни одной компании, которая заберет его к себе под крыло и даст возможность дальше развивать библиотеку на благо всеобщего развития it?Его настолько задолбали, что он написал подробно, что происходитhttps://lnkd.in/eCzhC6WGТут с переводомhttps://lnkd.in/eBtdKPeW#opensource #corejs\n",
            "\n",
            "\n",
            "Тема  3\n",
            "Мой основной проект над которым я работал можно посмотреть здесь:\n",
            "\n",
            "\n",
            "Тема  4\n",
            "Невозможно представить свою жизнь без знания английского языка. И его можно изучить самостоятельно.Делюсь с вами ресурсами, которые будут полезны для самостоятельного изучения английского языка. Бесплатные сайты для изучения грамматики:📌 https://lnkd.in/g75pjqPq📌 https://lnkd.in/gUYiNPYU📌 https://lnkd.in/gTBFVgWM📌 https://lnkd.in/gDYTcuv2Очень прикольный ресурс, где вы можете пообщаться с искуственным интеллектом:📌 https://lnkd.in/giRekfJWНаиболее распространенные Irregular Verbs:📌 https://lnkd.in/guSipZM7Топ из самых популярных Phrasal Verbs (значительно упрощают жизнь при ведении диалогов):📌 https://lnkd.in/g4b-gMYjДля тех, кто часто пишет formal business emails (отличные ресурса с объяснениями правил и шаблонами):📌 https://lnkd.in/g5Kzj2ES📌 https://lnkd.in/gyVxH5cnДля просмотров фильмов на английском с субтитрами:📌 http://www.hamatata.com/📌 https://lnkd.in/gEqit-kS📌 http://new.2sub.tv/📌 https://lnkd.in/gTBFVgWMТут можно 30 дней бесплатно попользовать книжки:📌 https://amzn.to/2DH4arIДля любителей почитать комиксы:📌 https://lnkd.in/g729fS6YЗамечательный словарь с толкованием слов на английском, синонимами и даже истории возникновения слова:📌 https://lnkd.in/gSCx-_ykДля прокачки Listening skills очень рекомендую слушать радио (помогает даже прослушивание на фоне - научитесь понимать речь и усвоите интонацию и произношение):Для прокачки восприятия американской речи:📻 National Public RadioДля прокачки восприятия британской речи:📻 LBC NewsТакже советую поглядывать YouTube блоггеров (носителей языка):Преподаватели, которые в наглядной и яркой форме объяснят грамматику и дают повседневную лексику:📺 @LearnEnglishwithHarry📺 @papateachmeДевушка web & graphic designer, рассказывате про свою рабочую рутину и много других интересных фишек (отлично подходит для IT сектора):📺 @charlimarieTVДля тех, кто хочет знать всю про мир компьютеров и их беспощадные новинки:📺 @PcCentricЕсли вам интересна наука, то одназначно вам к этой дамочке:📺 @DrawCuriosityПриложения для общения с носителями языка:📱 InterPals📱 HelloTalk📱 Tandem✔ Не бойтесь совершать ошибки.\n",
            "\n",
            "\n"
          ]
        }
      ],
      "source": [
        "for i in range(n_topics):\n",
        "    doc_id = np.argmax(topics[:, i])\n",
        "    print(\"Тема \", i)\n",
        "    print(df.iloc[doc_id][\"post_text\"])\n",
        "    print(\"\\n\")"
      ]
    },
    {
      "cell_type": "markdown",
      "id": "9d396f94-6583-448c-aed2-b7affa82e3b4",
      "metadata": {
        "id": "9d396f94-6583-448c-aed2-b7affa82e3b4"
      },
      "source": [
        "Типичные статьи, в целом хорошо согласуются с ключевыми словами, которые мы выделили. Например, первая выделенная тема - про египтологию и археологию.\n",
        " В тоже время, мы видим и очень короткие тексты, например 4 и 14. Это подсказывает дальнейшие шаги. Например:\n",
        "  - удалить из корпуса текстов очень короткие статьи. Чтобы правильно задать порог отсечения, необходимо построить распределение текстов по длине.   - возможно, ключевыми словами, на которые ориентировался алгоритм, стали названия информационных агентств - РБК и ИТАР-ТАСС. Стоит подумать о том, чтобы добавить эти слова в стоп-лист."
      ]
    },
    {
      "cell_type": "markdown",
      "id": "cde09df7-da5c-4002-9c6a-37d6b1ad39ea",
      "metadata": {
        "id": "cde09df7-da5c-4002-9c6a-37d6b1ad39ea"
      },
      "source": [
        "А ещё вы всегда можете сделать шаг назад и дополнить модель. Например:\n",
        "- пополнить список стоп-слов (просмотрите внимательно ключевые слова каждой из тем - нет ли там случайных слов?);\n",
        "- изменить настройки Tf-idF;\n",
        "- увеличить/уменьшить количество тем;\n",
        "- обучать LDA чуть дольше;\n",
        "- заменить LDA на другой алгоритм тематического моделирояни."
      ]
    },
    {
      "cell_type": "markdown",
      "id": "a5d040dd-5988-4107-b009-bf71da05d794",
      "metadata": {
        "id": "a5d040dd-5988-4107-b009-bf71da05d794"
      },
      "source": [
        "# Полезные ссылки\n",
        "\n",
        "- [Вики](https://ru.wikipedia.org/wiki/%D0%A2%D0%B5%D0%BC%D0%B0%D1%82%D0%B8%D1%87%D0%B5%D1%81%D0%BA%D0%BE%D0%B5_%D0%BC%D0%BE%D0%B4%D0%B5%D0%BB%D0%B8%D1%80%D0%BE%D0%B2%D0%B0%D0%BD%D0%B8%D0%B5)\n",
        "\n",
        "- [История о том, как прочитать 120 тысяч анекдотов и не рассмеяться раньше времени](https://habr.com/ru/companies/otus/articles/723306/)\n",
        "\n",
        "- [Видеоурок \"Анализ текстовых данных тематическое моделирование комментариев Вконтакте\"](https://www.youtube.com/watch?v=0DnfzQdbwQw)\n",
        "\n",
        "- [LDA в Sklearn](https://scikit-learn.org/0.16/modules/generated/sklearn.lda.LDA.html)\n",
        "\n",
        "- [Topic Modeling разными алгоритмами](https://scikit-learn.org/stable/auto_examples/applications/plot_topics_extraction_with_nmf_lda.html#sphx-glr-auto-examples-applications-plot-topics-extraction-with-nmf-lda-py)\n",
        "\n",
        "- [Более академическое описание тематического моделировния](http://www.machinelearning.ru/wiki/index.php?title=%D0%A2%D0%B5%D0%BC%D0%B0%D1%82%D0%B8%D1%87%D0%B5%D1%81%D0%BA%D0%BE%D0%B5_%D0%BC%D0%BE%D0%B4%D0%B5%D0%BB%D0%B8%D1%80%D0%BE%D0%B2%D0%B0%D0%BD%D0%B8%D0%B5)"
      ]
    },
    {
      "cell_type": "code",
      "execution_count": 66,
      "id": "d7641afc-f84a-4c3b-812c-d4f872338094",
      "metadata": {
        "id": "d7641afc-f84a-4c3b-812c-d4f872338094"
      },
      "outputs": [],
      "source": []
    }
  ],
  "metadata": {
    "kernelspec": {
      "display_name": "Python 3 (ipykernel)",
      "language": "python",
      "name": "python3"
    },
    "language_info": {
      "codemirror_mode": {
        "name": "ipython",
        "version": 3
      },
      "file_extension": ".py",
      "mimetype": "text/x-python",
      "name": "python",
      "nbconvert_exporter": "python",
      "pygments_lexer": "ipython3",
      "version": "3.9.16"
    },
    "toc-autonumbering": true,
    "colab": {
      "provenance": []
    }
  },
  "nbformat": 4,
  "nbformat_minor": 5
}