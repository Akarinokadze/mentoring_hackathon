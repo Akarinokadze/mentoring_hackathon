{
  "cells": [
    {
      "cell_type": "markdown",
      "source": [
        "# Тeматическое моделирование"
      ],
      "metadata": {
        "id": "XSaOpXARTiW0"
      },
      "id": "XSaOpXARTiW0"
    },
    {
      "cell_type": "code",
      "source": [
        "! pip install spacy -q\n",
        "! python -m spacy download ru_core_news_sm -q\n"
      ],
      "metadata": {
        "colab": {
          "base_uri": "https://localhost:8080/"
        },
        "id": "H2h3eBJpvbao",
        "outputId": "f39ccf41-0d51-4c14-b967-f6b0295ed7a2"
      },
      "id": "H2h3eBJpvbao",
      "execution_count": 1,
      "outputs": [
        {
          "output_type": "stream",
          "name": "stdout",
          "text": [
            "2023-06-29 18:22:08.886153: I tensorflow/core/platform/cpu_feature_guard.cc:182] This TensorFlow binary is optimized to use available CPU instructions in performance-critical operations.\n",
            "To enable the following instructions: AVX2 FMA, in other operations, rebuild TensorFlow with the appropriate compiler flags.\n",
            "2023-06-29 18:22:12.852738: W tensorflow/compiler/tf2tensorrt/utils/py_utils.cc:38] TF-TRT Warning: Could not find TensorRT\n",
            "\u001b[38;5;2m✔ Download and installation successful\u001b[0m\n",
            "You can now load the package via spacy.load('ru_core_news_sm')\n"
          ]
        }
      ]
    },
    {
      "cell_type": "markdown",
      "source": [
        "Подключаем библиотеки."
      ],
      "metadata": {
        "id": "CO33W1h7up0h"
      },
      "id": "CO33W1h7up0h"
    },
    {
      "cell_type": "code",
      "execution_count": 71,
      "id": "05e14367-7108-4bd4-9c23-0ef50bbe8fa5",
      "metadata": {
        "colab": {
          "base_uri": "https://localhost:8080/"
        },
        "id": "05e14367-7108-4bd4-9c23-0ef50bbe8fa5",
        "outputId": "87dc7bf1-9ae9-47af-82f5-fa9eb70c3caa"
      },
      "outputs": [
        {
          "output_type": "stream",
          "name": "stderr",
          "text": [
            "[nltk_data] Downloading package stopwords to /root/nltk_data...\n",
            "[nltk_data]   Package stopwords is already up-to-date!\n"
          ]
        }
      ],
      "source": [
        "import numpy as np\n",
        "import pandas as pd\n",
        "import matplotlib.pyplot as plt\n",
        "import seaborn as sns\n",
        "import spacy\n",
        "import re\n",
        "from sklearn.decomposition import LatentDirichletAllocation\n",
        "from sklearn.feature_extraction.text import TfidfVectorizer\n",
        "from nltk.corpus import stopwords\n",
        "from gensim.models import LsiModel\n",
        "import nltk\n",
        "nltk.download('stopwords')\n",
        "\n",
        "import json"
      ]
    },
    {
      "cell_type": "markdown",
      "id": "74a8f070-7580-4bff-ad2c-fec955194125",
      "metadata": {
        "id": "74a8f070-7580-4bff-ad2c-fec955194125"
      },
      "source": [
        "# Exploratory data analysis"
      ]
    },
    {
      "cell_type": "markdown",
      "source": [
        "Укажем путь к файлу."
      ],
      "metadata": {
        "id": "iNtV8Kssu5_6"
      },
      "id": "iNtV8Kssu5_6"
    },
    {
      "cell_type": "code",
      "source": [
        "!gdown 1WbUGXxfXmWnBy93DdFQdT28s8eZfZSjj"
      ],
      "metadata": {
        "colab": {
          "base_uri": "https://localhost:8080/"
        },
        "id": "LMmjgpL7km52",
        "outputId": "35dc2d33-640d-461f-d80b-dd9e1e764d1b"
      },
      "id": "LMmjgpL7km52",
      "execution_count": 3,
      "outputs": [
        {
          "output_type": "stream",
          "name": "stdout",
          "text": [
            "Downloading...\n",
            "From: https://drive.google.com/uc?id=1WbUGXxfXmWnBy93DdFQdT28s8eZfZSjj\n",
            "To: /content/clean_posts.csv\n",
            "\r  0% 0.00/3.79M [00:00<?, ?B/s]\r100% 3.79M/3.79M [00:00<00:00, 92.5MB/s]\n"
          ]
        }
      ]
    },
    {
      "cell_type": "markdown",
      "source": [
        "Загрузим данные в dataframe."
      ],
      "metadata": {
        "id": "Z5xb2R32vFTl"
      },
      "id": "Z5xb2R32vFTl"
    },
    {
      "cell_type": "code",
      "execution_count": 4,
      "id": "04257713-482a-43bf-b4c8-27eb90e02c43",
      "metadata": {
        "colab": {
          "base_uri": "https://localhost:8080/",
          "height": 476
        },
        "id": "04257713-482a-43bf-b4c8-27eb90e02c43",
        "outputId": "6519a3e5-60ad-4818-a06b-f1a362e3f77c"
      },
      "outputs": [
        {
          "output_type": "execute_result",
          "data": {
            "text/plain": [
              "                                        account_link       search_keywords  \\\n",
              "0  https://www.linkedin.com/in/varvara-kulmeteva-...  senior web developer   \n",
              "1               https://www.linkedin.com/in/rauventa       senior frontend   \n",
              "2       https://www.linkedin.com/in/denis-kuchkildin   middle data analyst   \n",
              "3  https://www.linkedin.com/in/ACoAAC4yJzEB4TjXkJ...    senior ML engineer   \n",
              "4         https://www.linkedin.com/in/oleg-malyshkin  senior test engineer   \n",
              "\n",
              "                name                                              title  \\\n",
              "0  Varvara Kulmeteva            Senior Web Developer - IBS InfinitySoft   \n",
              "1     Ilya Moiseenko  LOOKING FOR \"Senior/Lead Frontend (React) Deve...   \n",
              "2   Denis Kuchkildin                           Data Analyst at X5 Group   \n",
              "3       Ian Silantev  MSc Data Science in University of East London ...   \n",
              "4     Oleg Malyshkin     Senior Test Automation Engineer at GlobalLogic   \n",
              "\n",
              "    works_at                                              intro  experience  \\\n",
              "0        IBS  Навыки: ReactJS · JavaScript · HTML · CSSНавык...        10.0   \n",
              "1  Centicore  Ilya, React Developer from Moscow.Ilya, React ...         8.0   \n",
              "2   X5 Group  I have a strong engineering background and mor...         6.0   \n",
              "3  Neurospot  Absolutely in love with Data Science, AI and M...         2.0   \n",
              "4        NaN  Hi everyone, I am Oleg Malyshkin - Senior Test...         4.0   \n",
              "\n",
              "                                place  posts_cnt  \\\n",
              "0  Москва, Московская область, Россия          0   \n",
              "1              Москва, Москва, Россия          1   \n",
              "2              Москва, Москва, Россия          1   \n",
              "3                     Тбилиси, Грузия          0   \n",
              "4                 Киев, Киев, Украина          9   \n",
              "\n",
              "                                           post_text  reaction_cnt  \\\n",
              "0                                                NaN           NaN   \n",
              "1  Я только что получил(а) значок за навык «JavaS...           1.0   \n",
              "2  Hi everyone - I am looking for a new role and ...           NaN   \n",
              "3                                                NaN           NaN   \n",
              "4  Finding a job for trainees and juniors is a ch...           1.0   \n",
              "\n",
              "   comments_cnt  repost_cnt  \n",
              "0           NaN         NaN  \n",
              "1           NaN         NaN  \n",
              "2           NaN         NaN  \n",
              "3           NaN         NaN  \n",
              "4           NaN         NaN  "
            ],
            "text/html": [
              "\n",
              "  <div id=\"df-490ae94d-897a-4212-9bcc-cc78a317545a\">\n",
              "    <div class=\"colab-df-container\">\n",
              "      <div>\n",
              "<style scoped>\n",
              "    .dataframe tbody tr th:only-of-type {\n",
              "        vertical-align: middle;\n",
              "    }\n",
              "\n",
              "    .dataframe tbody tr th {\n",
              "        vertical-align: top;\n",
              "    }\n",
              "\n",
              "    .dataframe thead th {\n",
              "        text-align: right;\n",
              "    }\n",
              "</style>\n",
              "<table border=\"1\" class=\"dataframe\">\n",
              "  <thead>\n",
              "    <tr style=\"text-align: right;\">\n",
              "      <th></th>\n",
              "      <th>account_link</th>\n",
              "      <th>search_keywords</th>\n",
              "      <th>name</th>\n",
              "      <th>title</th>\n",
              "      <th>works_at</th>\n",
              "      <th>intro</th>\n",
              "      <th>experience</th>\n",
              "      <th>place</th>\n",
              "      <th>posts_cnt</th>\n",
              "      <th>post_text</th>\n",
              "      <th>reaction_cnt</th>\n",
              "      <th>comments_cnt</th>\n",
              "      <th>repost_cnt</th>\n",
              "    </tr>\n",
              "  </thead>\n",
              "  <tbody>\n",
              "    <tr>\n",
              "      <th>0</th>\n",
              "      <td>https://www.linkedin.com/in/varvara-kulmeteva-...</td>\n",
              "      <td>senior web developer</td>\n",
              "      <td>Varvara Kulmeteva</td>\n",
              "      <td>Senior Web Developer - IBS InfinitySoft</td>\n",
              "      <td>IBS</td>\n",
              "      <td>Навыки: ReactJS · JavaScript · HTML · CSSНавык...</td>\n",
              "      <td>10.0</td>\n",
              "      <td>Москва, Московская область, Россия</td>\n",
              "      <td>0</td>\n",
              "      <td>NaN</td>\n",
              "      <td>NaN</td>\n",
              "      <td>NaN</td>\n",
              "      <td>NaN</td>\n",
              "    </tr>\n",
              "    <tr>\n",
              "      <th>1</th>\n",
              "      <td>https://www.linkedin.com/in/rauventa</td>\n",
              "      <td>senior frontend</td>\n",
              "      <td>Ilya Moiseenko</td>\n",
              "      <td>LOOKING FOR \"Senior/Lead Frontend (React) Deve...</td>\n",
              "      <td>Centicore</td>\n",
              "      <td>Ilya, React Developer from Moscow.Ilya, React ...</td>\n",
              "      <td>8.0</td>\n",
              "      <td>Москва, Москва, Россия</td>\n",
              "      <td>1</td>\n",
              "      <td>Я только что получил(а) значок за навык «JavaS...</td>\n",
              "      <td>1.0</td>\n",
              "      <td>NaN</td>\n",
              "      <td>NaN</td>\n",
              "    </tr>\n",
              "    <tr>\n",
              "      <th>2</th>\n",
              "      <td>https://www.linkedin.com/in/denis-kuchkildin</td>\n",
              "      <td>middle data analyst</td>\n",
              "      <td>Denis Kuchkildin</td>\n",
              "      <td>Data Analyst at X5 Group</td>\n",
              "      <td>X5 Group</td>\n",
              "      <td>I have a strong engineering background and mor...</td>\n",
              "      <td>6.0</td>\n",
              "      <td>Москва, Москва, Россия</td>\n",
              "      <td>1</td>\n",
              "      <td>Hi everyone - I am looking for a new role and ...</td>\n",
              "      <td>NaN</td>\n",
              "      <td>NaN</td>\n",
              "      <td>NaN</td>\n",
              "    </tr>\n",
              "    <tr>\n",
              "      <th>3</th>\n",
              "      <td>https://www.linkedin.com/in/ACoAAC4yJzEB4TjXkJ...</td>\n",
              "      <td>senior ML engineer</td>\n",
              "      <td>Ian Silantev</td>\n",
              "      <td>MSc Data Science in University of East London ...</td>\n",
              "      <td>Neurospot</td>\n",
              "      <td>Absolutely in love with Data Science, AI and M...</td>\n",
              "      <td>2.0</td>\n",
              "      <td>Тбилиси, Грузия</td>\n",
              "      <td>0</td>\n",
              "      <td>NaN</td>\n",
              "      <td>NaN</td>\n",
              "      <td>NaN</td>\n",
              "      <td>NaN</td>\n",
              "    </tr>\n",
              "    <tr>\n",
              "      <th>4</th>\n",
              "      <td>https://www.linkedin.com/in/oleg-malyshkin</td>\n",
              "      <td>senior test engineer</td>\n",
              "      <td>Oleg Malyshkin</td>\n",
              "      <td>Senior Test Automation Engineer at GlobalLogic</td>\n",
              "      <td>NaN</td>\n",
              "      <td>Hi everyone, I am Oleg Malyshkin - Senior Test...</td>\n",
              "      <td>4.0</td>\n",
              "      <td>Киев, Киев, Украина</td>\n",
              "      <td>9</td>\n",
              "      <td>Finding a job for trainees and juniors is a ch...</td>\n",
              "      <td>1.0</td>\n",
              "      <td>NaN</td>\n",
              "      <td>NaN</td>\n",
              "    </tr>\n",
              "  </tbody>\n",
              "</table>\n",
              "</div>\n",
              "      <button class=\"colab-df-convert\" onclick=\"convertToInteractive('df-490ae94d-897a-4212-9bcc-cc78a317545a')\"\n",
              "              title=\"Convert this dataframe to an interactive table.\"\n",
              "              style=\"display:none;\">\n",
              "        \n",
              "  <svg xmlns=\"http://www.w3.org/2000/svg\" height=\"24px\"viewBox=\"0 0 24 24\"\n",
              "       width=\"24px\">\n",
              "    <path d=\"M0 0h24v24H0V0z\" fill=\"none\"/>\n",
              "    <path d=\"M18.56 5.44l.94 2.06.94-2.06 2.06-.94-2.06-.94-.94-2.06-.94 2.06-2.06.94zm-11 1L8.5 8.5l.94-2.06 2.06-.94-2.06-.94L8.5 2.5l-.94 2.06-2.06.94zm10 10l.94 2.06.94-2.06 2.06-.94-2.06-.94-.94-2.06-.94 2.06-2.06.94z\"/><path d=\"M17.41 7.96l-1.37-1.37c-.4-.4-.92-.59-1.43-.59-.52 0-1.04.2-1.43.59L10.3 9.45l-7.72 7.72c-.78.78-.78 2.05 0 2.83L4 21.41c.39.39.9.59 1.41.59.51 0 1.02-.2 1.41-.59l7.78-7.78 2.81-2.81c.8-.78.8-2.07 0-2.86zM5.41 20L4 18.59l7.72-7.72 1.47 1.35L5.41 20z\"/>\n",
              "  </svg>\n",
              "      </button>\n",
              "      \n",
              "  <style>\n",
              "    .colab-df-container {\n",
              "      display:flex;\n",
              "      flex-wrap:wrap;\n",
              "      gap: 12px;\n",
              "    }\n",
              "\n",
              "    .colab-df-convert {\n",
              "      background-color: #E8F0FE;\n",
              "      border: none;\n",
              "      border-radius: 50%;\n",
              "      cursor: pointer;\n",
              "      display: none;\n",
              "      fill: #1967D2;\n",
              "      height: 32px;\n",
              "      padding: 0 0 0 0;\n",
              "      width: 32px;\n",
              "    }\n",
              "\n",
              "    .colab-df-convert:hover {\n",
              "      background-color: #E2EBFA;\n",
              "      box-shadow: 0px 1px 2px rgba(60, 64, 67, 0.3), 0px 1px 3px 1px rgba(60, 64, 67, 0.15);\n",
              "      fill: #174EA6;\n",
              "    }\n",
              "\n",
              "    [theme=dark] .colab-df-convert {\n",
              "      background-color: #3B4455;\n",
              "      fill: #D2E3FC;\n",
              "    }\n",
              "\n",
              "    [theme=dark] .colab-df-convert:hover {\n",
              "      background-color: #434B5C;\n",
              "      box-shadow: 0px 1px 3px 1px rgba(0, 0, 0, 0.15);\n",
              "      filter: drop-shadow(0px 1px 2px rgba(0, 0, 0, 0.3));\n",
              "      fill: #FFFFFF;\n",
              "    }\n",
              "  </style>\n",
              "\n",
              "      <script>\n",
              "        const buttonEl =\n",
              "          document.querySelector('#df-490ae94d-897a-4212-9bcc-cc78a317545a button.colab-df-convert');\n",
              "        buttonEl.style.display =\n",
              "          google.colab.kernel.accessAllowed ? 'block' : 'none';\n",
              "\n",
              "        async function convertToInteractive(key) {\n",
              "          const element = document.querySelector('#df-490ae94d-897a-4212-9bcc-cc78a317545a');\n",
              "          const dataTable =\n",
              "            await google.colab.kernel.invokeFunction('convertToInteractive',\n",
              "                                                     [key], {});\n",
              "          if (!dataTable) return;\n",
              "\n",
              "          const docLinkHtml = 'Like what you see? Visit the ' +\n",
              "            '<a target=\"_blank\" href=https://colab.research.google.com/notebooks/data_table.ipynb>data table notebook</a>'\n",
              "            + ' to learn more about interactive tables.';\n",
              "          element.innerHTML = '';\n",
              "          dataTable['output_type'] = 'display_data';\n",
              "          await google.colab.output.renderOutput(dataTable, element);\n",
              "          const docLink = document.createElement('div');\n",
              "          docLink.innerHTML = docLinkHtml;\n",
              "          element.appendChild(docLink);\n",
              "        }\n",
              "      </script>\n",
              "    </div>\n",
              "  </div>\n",
              "  "
            ]
          },
          "metadata": {},
          "execution_count": 4
        }
      ],
      "source": [
        "df = pd.read_csv('/content/clean_posts.csv')\n",
        "df.head()"
      ]
    },
    {
      "cell_type": "markdown",
      "source": [
        "Оставим только посты на русском."
      ],
      "metadata": {
        "id": "MykXph1xQx5H"
      },
      "id": "MykXph1xQx5H"
    },
    {
      "cell_type": "code",
      "source": [
        "df = df[df.post_text.astype('str').map(lambda x: x.isascii())==False]"
      ],
      "metadata": {
        "id": "WF7uPRlMQuig"
      },
      "id": "WF7uPRlMQuig",
      "execution_count": 5,
      "outputs": []
    },
    {
      "cell_type": "code",
      "source": [
        "df.post_text.value_counts()"
      ],
      "metadata": {
        "colab": {
          "base_uri": "https://localhost:8080/"
        },
        "id": "bCwuLcsdQ0_x",
        "outputId": "ea1967e5-a7d5-4452-b3d4-2c789c8dc71a"
      },
      "id": "bCwuLcsdQ0_x",
      "execution_count": 6,
      "outputs": [
        {
          "output_type": "execute_result",
          "data": {
            "text/plain": [
              "Здравствуйте, я в поиске новой карьерной возможности и буду признателен(а) за вашу поддержку. Заранее благодарю за все рекомендации контактов, советы или возможности, которые вы можете предложить. #OpenToWork                                                                                                                                                                                                                                                                                                                                                                                                                                                                                                                                                                                                                                                                                                                                                                                                                                                                                                                                                                                                                                                                                                                                                                                                                                                                                                                                                                                                                                                                                                                                                                                                                                                                                                                                                                                                                                                                                                                                           32\n",
              "Я только что получил(а) значок за навык «JavaScript». Кто хочет быть следующим? Пройдите тест на проверку навыков #LinkedInSkillAssessment.                                                                                                                                                                                                                                                                                                                                                                                                                                                                                                                                                                                                                                                                                                                                                                                                                                                                                                                                                                                                                                                                                                                                                                                                                                                                                                                                                                                                                                                                                                                                                                                                                                                                                                                                                                                                                                                                                                                                                                                                                 4\n",
              "Я только что получил(а) значок за навык «React.js». Кто хочет быть следующим? Пройдите тест на проверку навыков #LinkedInSkillAssessment.                                                                                                                                                                                                                                                                                                                                                                                                                                                                                                                                                                                                                                                                                                                                                                                                                                                                                                                                                                                                                                                                                                                                                                                                                                                                                                                                                                                                                                                                                                                                                                                                                                                                                                                                                                                                                                                                                                                                                                                                                   4\n",
              "Невозможно представить свою жизнь без знания английского языка. И его можно изучить самостоятельно.Делюсь с вами ресурсами, которые будут полезны для самостоятельного изучения английского языка. Бесплатные сайты для изучения грамматики:📌 https://lnkd.in/g75pjqPq📌 https://lnkd.in/gUYiNPYU📌 https://lnkd.in/gTBFVgWM📌 https://lnkd.in/gDYTcuv2Очень прикольный ресурс, где вы можете пообщаться с искуственным интеллектом:📌 https://lnkd.in/giRekfJWНаиболее распространенные Irregular Verbs:📌 https://lnkd.in/guSipZM7Топ из самых популярных Phrasal Verbs (значительно упрощают жизнь при ведении диалогов):📌 https://lnkd.in/g4b-gMYjДля тех, кто часто пишет formal business emails (отличные ресурса с объяснениями правил и шаблонами):📌 https://lnkd.in/g5Kzj2ES📌 https://lnkd.in/gyVxH5cnДля просмотров фильмов на английском с субтитрами:📌 http://www.hamatata.com/📌 https://lnkd.in/gEqit-kS📌 http://new.2sub.tv/📌 https://lnkd.in/gTBFVgWMТут можно 30 дней бесплатно попользовать книжки:📌 https://amzn.to/2DH4arIДля любителей почитать комиксы:📌 https://lnkd.in/g729fS6YЗамечательный словарь с толкованием слов на английском, синонимами и даже истории возникновения слова:📌 https://lnkd.in/gSCx-_ykДля прокачки Listening skills очень рекомендую слушать радио (помогает даже прослушивание на фоне - научитесь понимать речь и усвоите интонацию и произношение):Для прокачки восприятия американской речи:📻 National Public RadioДля прокачки восприятия британской речи:📻 LBC NewsТакже советую поглядывать YouTube блоггеров (носителей языка):Преподаватели, которые в наглядной и яркой форме объяснят грамматику и дают повседневную лексику:📺 @LearnEnglishwithHarry📺 @papateachmeДевушка web & graphic designer, рассказывате про свою рабочую рутину и много других интересных фишек (отлично подходит для IT сектора):📺 @charlimarieTVДля тех, кто хочет знать всю про мир компьютеров и их беспощадные новинки:📺 @PcCentricЕсли вам интересна наука, то одназначно вам к этой дамочке:📺 @DrawCuriosityПриложения для общения с носителями языка:📱 InterPals📱 HelloTalk📱 Tandem✔ Не бойтесь совершать ошибки.     3\n",
              "Предлагаю вашему вниманию краткую, но очень удобную  Шпаргалку по REST APIПриглашаю вас подписаться на мой канал QA Life в телеграмме https://t.me/QA4Life. Это канал для начинающих и опытных тестировщиков, QA и QC, а также будет полезен также для PO, PM, DA, BA и SM специалистов Здесь я ежедневно делюсь ещё большим количеством материалов по тематике#IT #engineer #software #qa #qc #quality #recruiter #recruiting #HR #tester #qa_engineer #testing #PM #BA #DA #тестирование #development #developer #программирование #тестировщик #тестер #programming #development #mobileqa #mobiletesting                                                                                                                                                                                                                                                                                                                                                                                                                                                                                                                                                                                                                                                                                                                                                                                                                                                                                                                                                                                                                                                                                                                                                                                                                                                                                                                                                                                                                                                                                                                                                3\n",
              "                                                                                                                                                                                                                                                                                                                                                                                                                                                                                                                                                                                                                                                                                                                                                                                                                                                                                                                                                                                                                                                                                                                                                                                                                                                                                                                                                                                                                                                                                                                                                                                                                                                                                                                                                                                                                                                                                                                                                                                                                                                                                                                                                           ..\n",
              "Собрал в репозиторий эксперименты по восстановлению пунктуации и капитализации текстов. Полезно в задачах распознавания речи. Можно настраивать под свою пунктуацию и языки. #nlp #asr                                                                                                                                                                                                                                                                                                                                                                                                                                                                                                                                                                                                                                                                                                                                                                                                                                                                                                                                                                                                                                                                                                                                                                                                                                                                                                                                                                                                                                                                                                                                                                                                                                                                                                                                                                                                                                                                                                                                                                      1\n",
              "С удовольствием сообщаю, что я начинаю работу в новой должности – ML Research Engineer в компании Криптонит!                                                                                                                                                                                                                                                                                                                                                                                                                                                                                                                                                                                                                                                                                                                                                                                                                                                                                                                                                                                                                                                                                                                                                                                                                                                                                                                                                                                                                                                                                                                                                                                                                                                                                                                                                                                                                                                                                                                                                                                                                                                1\n",
              "Сходил на вакцинацию, поставили диагноз.#диагнозразработчик                                                                                                                                                                                                                                                                                                                                                                                                                                                                                                                                                                                                                                                                                                                                                                                                                                                                                                                                                                                                                                                                                                                                                                                                                                                                                                                                                                                                                                                                                                                                                                                                                                                                                                                                                                                                                                                                                                                                                                                                                                                                                                 1\n",
              "Wrote an article about creating bilingual parallel books with the app I'm developing. Go language learners!#nlp #languages #lingtrain                                                                                                                                                                                                                                                                                                                                                                                                                                                                                                                                                                                                                                                                                                                                                                                                                                                                                                                                                                                                                                                                                                                                                                                                                                                                                                                                                                                                                                                                                                                                                                                                                                                                                                                                                                                                                                                                                                                                                                                                                       1\n",
              "Привет!Этой публикацией я начинаю цикл статей про то, как я стараюсь чего-то добиться как фрилансер на зарубежных заказах.https://lnkd.in/eHeqJSc                                                                                                                                                                                                                                                                                                                                                                                                                                                                                                                                                                                                                                                                                                                                                                                                                                                                                                                                                                                                                                                                                                                                                                                                                                                                                                                                                                                                                                                                                                                                                                                                                                                                                                                                                                                                                                                                                                                                                                                                           1\n",
              "Name: post_text, Length: 645, dtype: int64"
            ]
          },
          "metadata": {},
          "execution_count": 6
        }
      ]
    },
    {
      "cell_type": "markdown",
      "source": [
        "Посмотрим на размер выборки."
      ],
      "metadata": {
        "id": "tkVZ1N_yvKDX"
      },
      "id": "tkVZ1N_yvKDX"
    },
    {
      "cell_type": "code",
      "source": [
        "df.shape"
      ],
      "metadata": {
        "colab": {
          "base_uri": "https://localhost:8080/"
        },
        "id": "LUFtlpIYscGu",
        "outputId": "2ca2a9b0-562b-4af6-d7bb-ecac2acadf68"
      },
      "id": "LUFtlpIYscGu",
      "execution_count": 7,
      "outputs": [
        {
          "output_type": "execute_result",
          "data": {
            "text/plain": [
              "(709, 13)"
            ]
          },
          "metadata": {},
          "execution_count": 7
        }
      ]
    },
    {
      "cell_type": "markdown",
      "source": [
        "Посчитаем колличество уникальных имен ссылок на аккаунты."
      ],
      "metadata": {
        "id": "nIxiKY0vv9G4"
      },
      "id": "nIxiKY0vv9G4"
    },
    {
      "cell_type": "code",
      "source": [
        "df.account_link.nunique()"
      ],
      "metadata": {
        "colab": {
          "base_uri": "https://localhost:8080/"
        },
        "id": "49GjZL8vv1m-",
        "outputId": "affa61d3-43a6-4885-f8f2-bf34afe316a3"
      },
      "id": "49GjZL8vv1m-",
      "execution_count": 8,
      "outputs": [
        {
          "output_type": "execute_result",
          "data": {
            "text/plain": [
              "188"
            ]
          },
          "metadata": {},
          "execution_count": 8
        }
      ]
    },
    {
      "cell_type": "markdown",
      "source": [
        "188 ссылок на аккаунты."
      ],
      "metadata": {
        "id": "wcjyZtaSyNU5"
      },
      "id": "wcjyZtaSyNU5"
    },
    {
      "cell_type": "markdown",
      "source": [
        "**Посмотрим на числянные признаки.**"
      ],
      "metadata": {
        "id": "qJIFGFONymFe"
      },
      "id": "qJIFGFONymFe"
    },
    {
      "cell_type": "code",
      "source": [
        "df.describe()"
      ],
      "metadata": {
        "colab": {
          "base_uri": "https://localhost:8080/",
          "height": 301
        },
        "id": "ce3U0ZElwBn0",
        "outputId": "25786a47-3b3c-4006-b932-681b6ee701d0"
      },
      "id": "ce3U0ZElwBn0",
      "execution_count": 9,
      "outputs": [
        {
          "output_type": "execute_result",
          "data": {
            "text/plain": [
              "       experience   posts_cnt  reaction_cnt  comments_cnt  repost_cnt\n",
              "count  708.000000  709.000000    622.000000    341.000000  346.000000\n",
              "mean    12.439266   31.559944      4.853698      3.882698    4.242775\n",
              "std     69.113833   48.111463      2.642306      2.486024    2.704589\n",
              "min      0.000000    1.000000      1.000000      1.000000    1.000000\n",
              "25%      2.000000    4.000000      2.000000      2.000000    2.000000\n",
              "50%      5.000000   11.000000      5.000000      3.000000    4.000000\n",
              "75%      9.000000   37.000000      7.000000      6.000000    7.000000\n",
              "max    853.000000  308.000000      9.000000      9.000000    9.000000"
            ],
            "text/html": [
              "\n",
              "  <div id=\"df-081862b6-ae8d-4574-9c9a-bfba926f5cf5\">\n",
              "    <div class=\"colab-df-container\">\n",
              "      <div>\n",
              "<style scoped>\n",
              "    .dataframe tbody tr th:only-of-type {\n",
              "        vertical-align: middle;\n",
              "    }\n",
              "\n",
              "    .dataframe tbody tr th {\n",
              "        vertical-align: top;\n",
              "    }\n",
              "\n",
              "    .dataframe thead th {\n",
              "        text-align: right;\n",
              "    }\n",
              "</style>\n",
              "<table border=\"1\" class=\"dataframe\">\n",
              "  <thead>\n",
              "    <tr style=\"text-align: right;\">\n",
              "      <th></th>\n",
              "      <th>experience</th>\n",
              "      <th>posts_cnt</th>\n",
              "      <th>reaction_cnt</th>\n",
              "      <th>comments_cnt</th>\n",
              "      <th>repost_cnt</th>\n",
              "    </tr>\n",
              "  </thead>\n",
              "  <tbody>\n",
              "    <tr>\n",
              "      <th>count</th>\n",
              "      <td>708.000000</td>\n",
              "      <td>709.000000</td>\n",
              "      <td>622.000000</td>\n",
              "      <td>341.000000</td>\n",
              "      <td>346.000000</td>\n",
              "    </tr>\n",
              "    <tr>\n",
              "      <th>mean</th>\n",
              "      <td>12.439266</td>\n",
              "      <td>31.559944</td>\n",
              "      <td>4.853698</td>\n",
              "      <td>3.882698</td>\n",
              "      <td>4.242775</td>\n",
              "    </tr>\n",
              "    <tr>\n",
              "      <th>std</th>\n",
              "      <td>69.113833</td>\n",
              "      <td>48.111463</td>\n",
              "      <td>2.642306</td>\n",
              "      <td>2.486024</td>\n",
              "      <td>2.704589</td>\n",
              "    </tr>\n",
              "    <tr>\n",
              "      <th>min</th>\n",
              "      <td>0.000000</td>\n",
              "      <td>1.000000</td>\n",
              "      <td>1.000000</td>\n",
              "      <td>1.000000</td>\n",
              "      <td>1.000000</td>\n",
              "    </tr>\n",
              "    <tr>\n",
              "      <th>25%</th>\n",
              "      <td>2.000000</td>\n",
              "      <td>4.000000</td>\n",
              "      <td>2.000000</td>\n",
              "      <td>2.000000</td>\n",
              "      <td>2.000000</td>\n",
              "    </tr>\n",
              "    <tr>\n",
              "      <th>50%</th>\n",
              "      <td>5.000000</td>\n",
              "      <td>11.000000</td>\n",
              "      <td>5.000000</td>\n",
              "      <td>3.000000</td>\n",
              "      <td>4.000000</td>\n",
              "    </tr>\n",
              "    <tr>\n",
              "      <th>75%</th>\n",
              "      <td>9.000000</td>\n",
              "      <td>37.000000</td>\n",
              "      <td>7.000000</td>\n",
              "      <td>6.000000</td>\n",
              "      <td>7.000000</td>\n",
              "    </tr>\n",
              "    <tr>\n",
              "      <th>max</th>\n",
              "      <td>853.000000</td>\n",
              "      <td>308.000000</td>\n",
              "      <td>9.000000</td>\n",
              "      <td>9.000000</td>\n",
              "      <td>9.000000</td>\n",
              "    </tr>\n",
              "  </tbody>\n",
              "</table>\n",
              "</div>\n",
              "      <button class=\"colab-df-convert\" onclick=\"convertToInteractive('df-081862b6-ae8d-4574-9c9a-bfba926f5cf5')\"\n",
              "              title=\"Convert this dataframe to an interactive table.\"\n",
              "              style=\"display:none;\">\n",
              "        \n",
              "  <svg xmlns=\"http://www.w3.org/2000/svg\" height=\"24px\"viewBox=\"0 0 24 24\"\n",
              "       width=\"24px\">\n",
              "    <path d=\"M0 0h24v24H0V0z\" fill=\"none\"/>\n",
              "    <path d=\"M18.56 5.44l.94 2.06.94-2.06 2.06-.94-2.06-.94-.94-2.06-.94 2.06-2.06.94zm-11 1L8.5 8.5l.94-2.06 2.06-.94-2.06-.94L8.5 2.5l-.94 2.06-2.06.94zm10 10l.94 2.06.94-2.06 2.06-.94-2.06-.94-.94-2.06-.94 2.06-2.06.94z\"/><path d=\"M17.41 7.96l-1.37-1.37c-.4-.4-.92-.59-1.43-.59-.52 0-1.04.2-1.43.59L10.3 9.45l-7.72 7.72c-.78.78-.78 2.05 0 2.83L4 21.41c.39.39.9.59 1.41.59.51 0 1.02-.2 1.41-.59l7.78-7.78 2.81-2.81c.8-.78.8-2.07 0-2.86zM5.41 20L4 18.59l7.72-7.72 1.47 1.35L5.41 20z\"/>\n",
              "  </svg>\n",
              "      </button>\n",
              "      \n",
              "  <style>\n",
              "    .colab-df-container {\n",
              "      display:flex;\n",
              "      flex-wrap:wrap;\n",
              "      gap: 12px;\n",
              "    }\n",
              "\n",
              "    .colab-df-convert {\n",
              "      background-color: #E8F0FE;\n",
              "      border: none;\n",
              "      border-radius: 50%;\n",
              "      cursor: pointer;\n",
              "      display: none;\n",
              "      fill: #1967D2;\n",
              "      height: 32px;\n",
              "      padding: 0 0 0 0;\n",
              "      width: 32px;\n",
              "    }\n",
              "\n",
              "    .colab-df-convert:hover {\n",
              "      background-color: #E2EBFA;\n",
              "      box-shadow: 0px 1px 2px rgba(60, 64, 67, 0.3), 0px 1px 3px 1px rgba(60, 64, 67, 0.15);\n",
              "      fill: #174EA6;\n",
              "    }\n",
              "\n",
              "    [theme=dark] .colab-df-convert {\n",
              "      background-color: #3B4455;\n",
              "      fill: #D2E3FC;\n",
              "    }\n",
              "\n",
              "    [theme=dark] .colab-df-convert:hover {\n",
              "      background-color: #434B5C;\n",
              "      box-shadow: 0px 1px 3px 1px rgba(0, 0, 0, 0.15);\n",
              "      filter: drop-shadow(0px 1px 2px rgba(0, 0, 0, 0.3));\n",
              "      fill: #FFFFFF;\n",
              "    }\n",
              "  </style>\n",
              "\n",
              "      <script>\n",
              "        const buttonEl =\n",
              "          document.querySelector('#df-081862b6-ae8d-4574-9c9a-bfba926f5cf5 button.colab-df-convert');\n",
              "        buttonEl.style.display =\n",
              "          google.colab.kernel.accessAllowed ? 'block' : 'none';\n",
              "\n",
              "        async function convertToInteractive(key) {\n",
              "          const element = document.querySelector('#df-081862b6-ae8d-4574-9c9a-bfba926f5cf5');\n",
              "          const dataTable =\n",
              "            await google.colab.kernel.invokeFunction('convertToInteractive',\n",
              "                                                     [key], {});\n",
              "          if (!dataTable) return;\n",
              "\n",
              "          const docLinkHtml = 'Like what you see? Visit the ' +\n",
              "            '<a target=\"_blank\" href=https://colab.research.google.com/notebooks/data_table.ipynb>data table notebook</a>'\n",
              "            + ' to learn more about interactive tables.';\n",
              "          element.innerHTML = '';\n",
              "          dataTable['output_type'] = 'display_data';\n",
              "          await google.colab.output.renderOutput(dataTable, element);\n",
              "          const docLink = document.createElement('div');\n",
              "          docLink.innerHTML = docLinkHtml;\n",
              "          element.appendChild(docLink);\n",
              "        }\n",
              "      </script>\n",
              "    </div>\n",
              "  </div>\n",
              "  "
            ]
          },
          "metadata": {},
          "execution_count": 9
        }
      ]
    },
    {
      "cell_type": "markdown",
      "source": [
        "# Experience - опыт."
      ],
      "metadata": {
        "id": "bQmLfPRH1Vqo"
      },
      "id": "bQmLfPRH1Vqo"
    },
    {
      "cell_type": "markdown",
      "source": [
        "Очевидно, что есть выбросы по опыту. Ну никак больше 100 лет у нас не может быть в этих данных. Тем более 800 лет. Данный признак мы не оцениваем. Посмотрим сколько таких строк."
      ],
      "metadata": {
        "id": "36xqErGey6Us"
      },
      "id": "36xqErGey6Us"
    },
    {
      "cell_type": "code",
      "source": [
        "len(df[df.experience>100])"
      ],
      "metadata": {
        "colab": {
          "base_uri": "https://localhost:8080/"
        },
        "id": "aWomxH-Pyv-8",
        "outputId": "030ac729-017a-4d86-b766-489c576df526"
      },
      "id": "aWomxH-Pyv-8",
      "execution_count": 10,
      "outputs": [
        {
          "output_type": "execute_result",
          "data": {
            "text/plain": [
              "7"
            ]
          },
          "metadata": {},
          "execution_count": 10
        }
      ]
    },
    {
      "cell_type": "markdown",
      "source": [
        "Посмотрим, есть ли посты у людей сопытом более 100 лет."
      ],
      "metadata": {
        "id": "s1u89IgZ0Md8"
      },
      "id": "s1u89IgZ0Md8"
    },
    {
      "cell_type": "code",
      "source": [
        "df[df.experience>100].posts_cnt.value_counts(dropna=False)"
      ],
      "metadata": {
        "colab": {
          "base_uri": "https://localhost:8080/"
        },
        "id": "P9Z4nwstzKxy",
        "outputId": "f2d2eb03-5f7c-4957-a807-50a48e617187"
      },
      "id": "P9Z4nwstzKxy",
      "execution_count": 11,
      "outputs": [
        {
          "output_type": "execute_result",
          "data": {
            "text/plain": [
              "4    4\n",
              "8    3\n",
              "Name: posts_cnt, dtype: int64"
            ]
          },
          "metadata": {},
          "execution_count": 11
        }
      ]
    },
    {
      "cell_type": "markdown",
      "source": [
        "Посты есть, не будем их удалять. Но посмотри на распределение без этих значений."
      ],
      "metadata": {
        "id": "7SVwgIjl0T8-"
      },
      "id": "7SVwgIjl0T8-"
    },
    {
      "cell_type": "code",
      "source": [
        "sns.histplot(df.query('experience<100')['experience'], kde=True)\n",
        "plt.show()"
      ],
      "metadata": {
        "colab": {
          "base_uri": "https://localhost:8080/",
          "height": 449
        },
        "id": "F5tqO-yN0d1l",
        "outputId": "382434fc-7cdb-435c-f7dc-f892b8db9169"
      },
      "id": "F5tqO-yN0d1l",
      "execution_count": 12,
      "outputs": [
        {
          "output_type": "display_data",
          "data": {
            "text/plain": [
              "<Figure size 640x480 with 1 Axes>"
            ],
            "image/png": "[encoded data removed]"
          },
          "metadata": {}
        }
      ]
    },
    {
      "cell_type": "markdown",
      "source": [
        "Как видно, большинство пользователей с опытом 10 лет. Резкий пик у 12. И еще более резкий спад. Людей с опытом более 30 лет практически нет."
      ],
      "metadata": {
        "id": "gylrHTO11A1Y"
      },
      "id": "gylrHTO11A1Y"
    },
    {
      "cell_type": "markdown",
      "source": [
        "# posts_cnt - кол-во постов."
      ],
      "metadata": {
        "id": "0Yww8_wJystJ"
      },
      "id": "0Yww8_wJystJ"
    },
    {
      "cell_type": "markdown",
      "source": [
        "Посмотрим на распредление по кол-ву постов."
      ],
      "metadata": {
        "id": "ODWnI0au1lGQ"
      },
      "id": "ODWnI0au1lGQ"
    },
    {
      "cell_type": "code",
      "source": [
        "sns.histplot(df.posts_cnt, kde=True)\n",
        "plt.show()"
      ],
      "metadata": {
        "colab": {
          "base_uri": "https://localhost:8080/",
          "height": 449
        },
        "id": "PoHA5VEW1rCD",
        "outputId": "5da920da-870e-4251-99a4-393ef7ea8296"
      },
      "id": "PoHA5VEW1rCD",
      "execution_count": 13,
      "outputs": [
        {
          "output_type": "display_data",
          "data": {
            "text/plain": [
              "<Figure size 640x480 with 1 Axes>"
            ],
            "image/png": "[encoded data removed]"
          },
          "metadata": {}
        }
      ]
    },
    {
      "cell_type": "markdown",
      "source": [
        "Большинство профилей не имеют постов. Есть единичные пики у 150 и 300. Посмотрим, сколько у нас таких пользователей."
      ],
      "metadata": {
        "id": "3zdX2Z-Z14mD"
      },
      "id": "3zdX2Z-Z14mD"
    },
    {
      "cell_type": "code",
      "source": [
        "df[df.posts_cnt>100]['name'].nunique()"
      ],
      "metadata": {
        "colab": {
          "base_uri": "https://localhost:8080/"
        },
        "id": "iT7WhiBb4TUe",
        "outputId": "5721085d-3c66-4c63-fafe-2b8c4ccbab72"
      },
      "id": "iT7WhiBb4TUe",
      "execution_count": 14,
      "outputs": [
        {
          "output_type": "execute_result",
          "data": {
            "text/plain": [
              "2"
            ]
          },
          "metadata": {},
          "execution_count": 14
        }
      ]
    },
    {
      "cell_type": "markdown",
      "source": [
        "2 пользователя с таким кол-вом постов."
      ],
      "metadata": {
        "id": "YLHM3A554h0g"
      },
      "id": "YLHM3A554h0g"
    },
    {
      "cell_type": "markdown",
      "source": [
        "# reaction_cnt - кол-во реакций."
      ],
      "metadata": {
        "id": "ihvBZHII4208"
      },
      "id": "ihvBZHII4208"
    },
    {
      "cell_type": "markdown",
      "source": [
        "Посмотрим на распределение reaction_cnt."
      ],
      "metadata": {
        "id": "cq5N5ssf5vtX"
      },
      "id": "cq5N5ssf5vtX"
    },
    {
      "cell_type": "code",
      "source": [
        "sns.histplot(df.reaction_cnt, kde=True)\n",
        "plt.show()"
      ],
      "metadata": {
        "colab": {
          "base_uri": "https://localhost:8080/",
          "height": 450
        },
        "id": "yNbG2Iwv49gK",
        "outputId": "917da090-7abd-4067-8474-840166aa194f"
      },
      "id": "yNbG2Iwv49gK",
      "execution_count": 15,
      "outputs": [
        {
          "output_type": "display_data",
          "data": {
            "text/plain": [
              "<Figure size 640x480 with 1 Axes>"
            ],
            "image/png": "[encoded data removed]"
          },
          "metadata": {}
        }
      ]
    },
    {
      "cell_type": "markdown",
      "source": [
        "Здесь график больше похож на равномерное распределение. Есть и провалы, конечно. Посмотрим сколько постов без реакций."
      ],
      "metadata": {
        "id": "UXN8LQw65FBj"
      },
      "id": "UXN8LQw65FBj"
    },
    {
      "cell_type": "code",
      "source": [
        "df.reaction_cnt.value_counts(dropna=False)"
      ],
      "metadata": {
        "colab": {
          "base_uri": "https://localhost:8080/"
        },
        "id": "R6ndd3786so1",
        "outputId": "88495fff-e3c0-44d6-c54c-c821449e4d69"
      },
      "id": "R6ndd3786so1",
      "execution_count": 16,
      "outputs": [
        {
          "output_type": "execute_result",
          "data": {
            "text/plain": [
              "NaN    87\n",
              "1.0    82\n",
              "2.0    78\n",
              "5.0    74\n",
              "9.0    71\n",
              "6.0    65\n",
              "3.0    64\n",
              "4.0    63\n",
              "8.0    63\n",
              "7.0    62\n",
              "Name: reaction_cnt, dtype: int64"
            ]
          },
          "metadata": {},
          "execution_count": 16
        }
      ]
    },
    {
      "cell_type": "markdown",
      "source": [
        "Получается, что около половины постов без реакций."
      ],
      "metadata": {
        "id": "nWU-s55Y61Md"
      },
      "id": "nWU-s55Y61Md"
    },
    {
      "cell_type": "markdown",
      "source": [
        "# comments_cnt - кол-во комментариев."
      ],
      "metadata": {
        "id": "prNdncfD5qSW"
      },
      "id": "prNdncfD5qSW"
    },
    {
      "cell_type": "markdown",
      "source": [
        "Посмотрим на распределение reaction_cnt."
      ],
      "metadata": {
        "id": "USRasYMz512p"
      },
      "id": "USRasYMz512p"
    },
    {
      "cell_type": "code",
      "source": [
        "sns.histplot(df.comments_cnt, kde=True)\n",
        "plt.show()"
      ],
      "metadata": {
        "colab": {
          "base_uri": "https://localhost:8080/",
          "height": 449
        },
        "id": "eLJAOYqB56sJ",
        "outputId": "15dd394b-434c-497b-a48e-1b787dfe5279"
      },
      "id": "eLJAOYqB56sJ",
      "execution_count": 17,
      "outputs": [
        {
          "output_type": "display_data",
          "data": {
            "text/plain": [
              "<Figure size 640x480 with 1 Axes>"
            ],
            "image/png": "[encoded data removed]"
          },
          "metadata": {}
        }
      ]
    },
    {
      "cell_type": "markdown",
      "source": [
        "Здесь у нас пик у 1, далее спад. У большиства, конечно 0 в комментариях. Посмотрим, сколько их."
      ],
      "metadata": {
        "id": "MXlCtOb56Akh"
      },
      "id": "MXlCtOb56Akh"
    },
    {
      "cell_type": "code",
      "source": [
        "df.comments_cnt.value_counts(dropna=False)"
      ],
      "metadata": {
        "colab": {
          "base_uri": "https://localhost:8080/"
        },
        "id": "ORRWvVh36Pdr",
        "outputId": "e5534d1f-724c-4bd4-b5d1-3d4eb3bdd492"
      },
      "id": "ORRWvVh36Pdr",
      "execution_count": 18,
      "outputs": [
        {
          "output_type": "execute_result",
          "data": {
            "text/plain": [
              "NaN    368\n",
              "1.0     71\n",
              "2.0     64\n",
              "3.0     45\n",
              "5.0     33\n",
              "4.0     33\n",
              "6.0     27\n",
              "7.0     27\n",
              "8.0     27\n",
              "9.0     14\n",
              "Name: comments_cnt, dtype: int64"
            ]
          },
          "metadata": {},
          "execution_count": 18
        }
      ]
    },
    {
      "cell_type": "markdown",
      "source": [
        "3/4 постов без комментариев."
      ],
      "metadata": {
        "id": "q9NA01x57n0D"
      },
      "id": "q9NA01x57n0D"
    },
    {
      "cell_type": "markdown",
      "source": [
        "# repost_cnt - кол-во репостов."
      ],
      "metadata": {
        "id": "zbuVl2sy7Eve"
      },
      "id": "zbuVl2sy7Eve"
    },
    {
      "cell_type": "code",
      "source": [
        "sns.histplot(df.repost_cnt, kde=True)\n",
        "plt.show()"
      ],
      "metadata": {
        "colab": {
          "base_uri": "https://localhost:8080/",
          "height": 449
        },
        "id": "mUpD7kMy7S0B",
        "outputId": "4d72be7a-b147-4df7-cec1-b115569a087c"
      },
      "id": "mUpD7kMy7S0B",
      "execution_count": 19,
      "outputs": [
        {
          "output_type": "display_data",
          "data": {
            "text/plain": [
              "<Figure size 640x480 with 1 Axes>"
            ],
            "image/png": "[encoded data removed]"
          },
          "metadata": {}
        }
      ]
    },
    {
      "cell_type": "markdown",
      "source": [
        "Здесь у нас пик у 1, далее спад. У большиства, конечно 0 в комментариях. Посмотрим, сколько их."
      ],
      "metadata": {
        "id": "hylEvVBz7hfp"
      },
      "id": "hylEvVBz7hfp"
    },
    {
      "cell_type": "code",
      "source": [
        "df.repost_cnt.value_counts(dropna=False)"
      ],
      "metadata": {
        "colab": {
          "base_uri": "https://localhost:8080/"
        },
        "id": "v11TCQwG7jhl",
        "outputId": "d0503a99-e571-41d2-ede2-5478696b4609"
      },
      "id": "v11TCQwG7jhl",
      "execution_count": 20,
      "outputs": [
        {
          "output_type": "execute_result",
          "data": {
            "text/plain": [
              "NaN    363\n",
              "1.0     85\n",
              "3.0     51\n",
              "7.0     36\n",
              "4.0     36\n",
              "6.0     33\n",
              "8.0     29\n",
              "2.0     28\n",
              "9.0     27\n",
              "5.0     21\n",
              "Name: repost_cnt, dtype: int64"
            ]
          },
          "metadata": {},
          "execution_count": 20
        }
      ]
    },
    {
      "cell_type": "markdown",
      "source": [
        "3/4 постов без репостов."
      ],
      "metadata": {
        "id": "oAc10nnE7u2k"
      },
      "id": "oAc10nnE7u2k"
    },
    {
      "cell_type": "markdown",
      "source": [
        "Распределение репостов и комментариев очень похожи. Инетересно посмотреть, как они зависят друг от друга."
      ],
      "metadata": {
        "id": "XKYH9txR7zOS"
      },
      "id": "XKYH9txR7zOS"
    },
    {
      "cell_type": "code",
      "source": [
        "plt.figure(figsize=(6,4))\n",
        "sns.barplot(x='reaction_cnt', y='repost_cnt', data = df, palette='Blues')\n",
        "plt.title('repost_cnt - reaction_cnt')\n",
        "plt.show()"
      ],
      "metadata": {
        "colab": {
          "base_uri": "https://localhost:8080/",
          "height": 410
        },
        "id": "RATgcBQz79ji",
        "outputId": "39a0c463-511b-4ff4-e4b2-91916cfa9fbb"
      },
      "id": "RATgcBQz79ji",
      "execution_count": 21,
      "outputs": [
        {
          "output_type": "display_data",
          "data": {
            "text/plain": [
              "<Figure size 600x400 with 1 Axes>"
            ],
            "image/png": "[encoded data removed]"
          },
          "metadata": {}
        }
      ]
    },
    {
      "cell_type": "markdown",
      "source": [
        "Все также логично, с увеличением кол-ва реакций на пост, увеличивается кол-во тех,к то репостит."
      ],
      "metadata": {
        "id": "SZ3wCl7-9J_e"
      },
      "id": "SZ3wCl7-9J_e"
    },
    {
      "cell_type": "markdown",
      "source": [
        "Посмотрим связано ли кол-во репостов с реакциями."
      ],
      "metadata": {
        "id": "QBqzX3Cj8p45"
      },
      "id": "QBqzX3Cj8p45"
    },
    {
      "cell_type": "code",
      "source": [
        "plt.figure(figsize=(6,4))\n",
        "sns.barplot(x='reaction_cnt', y='repost_cnt', data = df, palette='Blues')\n",
        "plt.title('repost_cnt - reaction_cnt')\n",
        "plt.show()"
      ],
      "metadata": {
        "colab": {
          "base_uri": "https://localhost:8080/",
          "height": 410
        },
        "id": "OGLR39Q88ymd",
        "outputId": "692fbd22-bea5-400e-dce7-c54d67c09ee0"
      },
      "id": "OGLR39Q88ymd",
      "execution_count": 22,
      "outputs": [
        {
          "output_type": "display_data",
          "data": {
            "text/plain": [
              "<Figure size 600x400 with 1 Axes>"
            ],
            "image/png": "[encoded data removed]"
          },
          "metadata": {}
        }
      ]
    },
    {
      "cell_type": "code",
      "source": [
        "df.head()"
      ],
      "metadata": {
        "colab": {
          "base_uri": "https://localhost:8080/",
          "height": 424
        },
        "id": "bc84A54B-NCy",
        "outputId": "0f299cb5-4506-4034-b4bd-4a9b44d98155"
      },
      "id": "bc84A54B-NCy",
      "execution_count": 23,
      "outputs": [
        {
          "output_type": "execute_result",
          "data": {
            "text/plain": [
              "                                  account_link       search_keywords  \\\n",
              "1         https://www.linkedin.com/in/rauventa       senior frontend   \n",
              "6   https://www.linkedin.com/in/oleg-malyshkin  senior test engineer   \n",
              "8   https://www.linkedin.com/in/oleg-malyshkin  senior test engineer   \n",
              "9   https://www.linkedin.com/in/oleg-malyshkin  senior test engineer   \n",
              "12  https://www.linkedin.com/in/oleg-malyshkin  senior test engineer   \n",
              "\n",
              "              name                                              title  \\\n",
              "1   Ilya Moiseenko  LOOKING FOR \"Senior/Lead Frontend (React) Deve...   \n",
              "6   Oleg Malyshkin     Senior Test Automation Engineer at GlobalLogic   \n",
              "8   Oleg Malyshkin     Senior Test Automation Engineer at GlobalLogic   \n",
              "9   Oleg Malyshkin     Senior Test Automation Engineer at GlobalLogic   \n",
              "12  Oleg Malyshkin     Senior Test Automation Engineer at GlobalLogic   \n",
              "\n",
              "     works_at                                              intro  experience  \\\n",
              "1   Centicore  Ilya, React Developer from Moscow.Ilya, React ...         8.0   \n",
              "6         NaN  Hi everyone, I am Oleg Malyshkin - Senior Test...         4.0   \n",
              "8         NaN  Hi everyone, I am Oleg Malyshkin - Senior Test...         4.0   \n",
              "9         NaN  Hi everyone, I am Oleg Malyshkin - Senior Test...         4.0   \n",
              "12        NaN  Hi everyone, I am Oleg Malyshkin - Senior Test...         4.0   \n",
              "\n",
              "                     place  posts_cnt  \\\n",
              "1   Москва, Москва, Россия          1   \n",
              "6      Киев, Киев, Украина          9   \n",
              "8      Киев, Киев, Украина          9   \n",
              "9      Киев, Киев, Украина          9   \n",
              "12     Киев, Киев, Украина          9   \n",
              "\n",
              "                                            post_text  reaction_cnt  \\\n",
              "1   Я только что получил(а) значок за навык «JavaS...           1.0   \n",
              "6   Привiт!👋 Я у пошуках роботи Product Manager та...           6.0   \n",
              "8   Усім привіт!Розпочинаємо збір, є запит на квад...           5.0   \n",
              "9   Моя хорошая подруга - фотограф, как и часть ук...           3.0   \n",
              "12  Всем привет!Хочешь начать изучение испанского ...           5.0   \n",
              "\n",
              "    comments_cnt  repost_cnt  \n",
              "1            NaN         NaN  \n",
              "6            5.0         8.0  \n",
              "8            1.0         5.0  \n",
              "9            NaN         1.0  \n",
              "12           NaN         1.0  "
            ],
            "text/html": [
              "\n",
              "  <div id=\"df-55ea0cce-3aa5-4415-a5c1-e2dd0e02d458\">\n",
              "    <div class=\"colab-df-container\">\n",
              "      <div>\n",
              "<style scoped>\n",
              "    .dataframe tbody tr th:only-of-type {\n",
              "        vertical-align: middle;\n",
              "    }\n",
              "\n",
              "    .dataframe tbody tr th {\n",
              "        vertical-align: top;\n",
              "    }\n",
              "\n",
              "    .dataframe thead th {\n",
              "        text-align: right;\n",
              "    }\n",
              "</style>\n",
              "<table border=\"1\" class=\"dataframe\">\n",
              "  <thead>\n",
              "    <tr style=\"text-align: right;\">\n",
              "      <th></th>\n",
              "      <th>account_link</th>\n",
              "      <th>search_keywords</th>\n",
              "      <th>name</th>\n",
              "      <th>title</th>\n",
              "      <th>works_at</th>\n",
              "      <th>intro</th>\n",
              "      <th>experience</th>\n",
              "      <th>place</th>\n",
              "      <th>posts_cnt</th>\n",
              "      <th>post_text</th>\n",
              "      <th>reaction_cnt</th>\n",
              "      <th>comments_cnt</th>\n",
              "      <th>repost_cnt</th>\n",
              "    </tr>\n",
              "  </thead>\n",
              "  <tbody>\n",
              "    <tr>\n",
              "      <th>1</th>\n",
              "      <td>https://www.linkedin.com/in/rauventa</td>\n",
              "      <td>senior frontend</td>\n",
              "      <td>Ilya Moiseenko</td>\n",
              "      <td>LOOKING FOR \"Senior/Lead Frontend (React) Deve...</td>\n",
              "      <td>Centicore</td>\n",
              "      <td>Ilya, React Developer from Moscow.Ilya, React ...</td>\n",
              "      <td>8.0</td>\n",
              "      <td>Москва, Москва, Россия</td>\n",
              "      <td>1</td>\n",
              "      <td>Я только что получил(а) значок за навык «JavaS...</td>\n",
              "      <td>1.0</td>\n",
              "      <td>NaN</td>\n",
              "      <td>NaN</td>\n",
              "    </tr>\n",
              "    <tr>\n",
              "      <th>6</th>\n",
              "      <td>https://www.linkedin.com/in/oleg-malyshkin</td>\n",
              "      <td>senior test engineer</td>\n",
              "      <td>Oleg Malyshkin</td>\n",
              "      <td>Senior Test Automation Engineer at GlobalLogic</td>\n",
              "      <td>NaN</td>\n",
              "      <td>Hi everyone, I am Oleg Malyshkin - Senior Test...</td>\n",
              "      <td>4.0</td>\n",
              "      <td>Киев, Киев, Украина</td>\n",
              "      <td>9</td>\n",
              "      <td>Привiт!👋 Я у пошуках роботи Product Manager та...</td>\n",
              "      <td>6.0</td>\n",
              "      <td>5.0</td>\n",
              "      <td>8.0</td>\n",
              "    </tr>\n",
              "    <tr>\n",
              "      <th>8</th>\n",
              "      <td>https://www.linkedin.com/in/oleg-malyshkin</td>\n",
              "      <td>senior test engineer</td>\n",
              "      <td>Oleg Malyshkin</td>\n",
              "      <td>Senior Test Automation Engineer at GlobalLogic</td>\n",
              "      <td>NaN</td>\n",
              "      <td>Hi everyone, I am Oleg Malyshkin - Senior Test...</td>\n",
              "      <td>4.0</td>\n",
              "      <td>Киев, Киев, Украина</td>\n",
              "      <td>9</td>\n",
              "      <td>Усім привіт!Розпочинаємо збір, є запит на квад...</td>\n",
              "      <td>5.0</td>\n",
              "      <td>1.0</td>\n",
              "      <td>5.0</td>\n",
              "    </tr>\n",
              "    <tr>\n",
              "      <th>9</th>\n",
              "      <td>https://www.linkedin.com/in/oleg-malyshkin</td>\n",
              "      <td>senior test engineer</td>\n",
              "      <td>Oleg Malyshkin</td>\n",
              "      <td>Senior Test Automation Engineer at GlobalLogic</td>\n",
              "      <td>NaN</td>\n",
              "      <td>Hi everyone, I am Oleg Malyshkin - Senior Test...</td>\n",
              "      <td>4.0</td>\n",
              "      <td>Киев, Киев, Украина</td>\n",
              "      <td>9</td>\n",
              "      <td>Моя хорошая подруга - фотограф, как и часть ук...</td>\n",
              "      <td>3.0</td>\n",
              "      <td>NaN</td>\n",
              "      <td>1.0</td>\n",
              "    </tr>\n",
              "    <tr>\n",
              "      <th>12</th>\n",
              "      <td>https://www.linkedin.com/in/oleg-malyshkin</td>\n",
              "      <td>senior test engineer</td>\n",
              "      <td>Oleg Malyshkin</td>\n",
              "      <td>Senior Test Automation Engineer at GlobalLogic</td>\n",
              "      <td>NaN</td>\n",
              "      <td>Hi everyone, I am Oleg Malyshkin - Senior Test...</td>\n",
              "      <td>4.0</td>\n",
              "      <td>Киев, Киев, Украина</td>\n",
              "      <td>9</td>\n",
              "      <td>Всем привет!Хочешь начать изучение испанского ...</td>\n",
              "      <td>5.0</td>\n",
              "      <td>NaN</td>\n",
              "      <td>1.0</td>\n",
              "    </tr>\n",
              "  </tbody>\n",
              "</table>\n",
              "</div>\n",
              "      <button class=\"colab-df-convert\" onclick=\"convertToInteractive('df-55ea0cce-3aa5-4415-a5c1-e2dd0e02d458')\"\n",
              "              title=\"Convert this dataframe to an interactive table.\"\n",
              "              style=\"display:none;\">\n",
              "        \n",
              "  <svg xmlns=\"http://www.w3.org/2000/svg\" height=\"24px\"viewBox=\"0 0 24 24\"\n",
              "       width=\"24px\">\n",
              "    <path d=\"M0 0h24v24H0V0z\" fill=\"none\"/>\n",
              "    <path d=\"M18.56 5.44l.94 2.06.94-2.06 2.06-.94-2.06-.94-.94-2.06-.94 2.06-2.06.94zm-11 1L8.5 8.5l.94-2.06 2.06-.94-2.06-.94L8.5 2.5l-.94 2.06-2.06.94zm10 10l.94 2.06.94-2.06 2.06-.94-2.06-.94-.94-2.06-.94 2.06-2.06.94z\"/><path d=\"M17.41 7.96l-1.37-1.37c-.4-.4-.92-.59-1.43-.59-.52 0-1.04.2-1.43.59L10.3 9.45l-7.72 7.72c-.78.78-.78 2.05 0 2.83L4 21.41c.39.39.9.59 1.41.59.51 0 1.02-.2 1.41-.59l7.78-7.78 2.81-2.81c.8-.78.8-2.07 0-2.86zM5.41 20L4 18.59l7.72-7.72 1.47 1.35L5.41 20z\"/>\n",
              "  </svg>\n",
              "      </button>\n",
              "      \n",
              "  <style>\n",
              "    .colab-df-container {\n",
              "      display:flex;\n",
              "      flex-wrap:wrap;\n",
              "      gap: 12px;\n",
              "    }\n",
              "\n",
              "    .colab-df-convert {\n",
              "      background-color: #E8F0FE;\n",
              "      border: none;\n",
              "      border-radius: 50%;\n",
              "      cursor: pointer;\n",
              "      display: none;\n",
              "      fill: #1967D2;\n",
              "      height: 32px;\n",
              "      padding: 0 0 0 0;\n",
              "      width: 32px;\n",
              "    }\n",
              "\n",
              "    .colab-df-convert:hover {\n",
              "      background-color: #E2EBFA;\n",
              "      box-shadow: 0px 1px 2px rgba(60, 64, 67, 0.3), 0px 1px 3px 1px rgba(60, 64, 67, 0.15);\n",
              "      fill: #174EA6;\n",
              "    }\n",
              "\n",
              "    [theme=dark] .colab-df-convert {\n",
              "      background-color: #3B4455;\n",
              "      fill: #D2E3FC;\n",
              "    }\n",
              "\n",
              "    [theme=dark] .colab-df-convert:hover {\n",
              "      background-color: #434B5C;\n",
              "      box-shadow: 0px 1px 3px 1px rgba(0, 0, 0, 0.15);\n",
              "      filter: drop-shadow(0px 1px 2px rgba(0, 0, 0, 0.3));\n",
              "      fill: #FFFFFF;\n",
              "    }\n",
              "  </style>\n",
              "\n",
              "      <script>\n",
              "        const buttonEl =\n",
              "          document.querySelector('#df-55ea0cce-3aa5-4415-a5c1-e2dd0e02d458 button.colab-df-convert');\n",
              "        buttonEl.style.display =\n",
              "          google.colab.kernel.accessAllowed ? 'block' : 'none';\n",
              "\n",
              "        async function convertToInteractive(key) {\n",
              "          const element = document.querySelector('#df-55ea0cce-3aa5-4415-a5c1-e2dd0e02d458');\n",
              "          const dataTable =\n",
              "            await google.colab.kernel.invokeFunction('convertToInteractive',\n",
              "                                                     [key], {});\n",
              "          if (!dataTable) return;\n",
              "\n",
              "          const docLinkHtml = 'Like what you see? Visit the ' +\n",
              "            '<a target=\"_blank\" href=https://colab.research.google.com/notebooks/data_table.ipynb>data table notebook</a>'\n",
              "            + ' to learn more about interactive tables.';\n",
              "          element.innerHTML = '';\n",
              "          dataTable['output_type'] = 'display_data';\n",
              "          await google.colab.output.renderOutput(dataTable, element);\n",
              "          const docLink = document.createElement('div');\n",
              "          docLink.innerHTML = docLinkHtml;\n",
              "          element.appendChild(docLink);\n",
              "        }\n",
              "      </script>\n",
              "    </div>\n",
              "  </div>\n",
              "  "
            ]
          },
          "metadata": {},
          "execution_count": 23
        }
      ]
    },
    {
      "cell_type": "markdown",
      "source": [
        "Проверим, есть ли в данных рекрутеры."
      ],
      "metadata": {
        "id": "nqvyTfel-UO7"
      },
      "id": "nqvyTfel-UO7"
    },
    {
      "cell_type": "code",
      "source": [
        "df[df['title'].str.contains('Recruit')==True]"
      ],
      "metadata": {
        "colab": {
          "base_uri": "https://localhost:8080/",
          "height": 50
        },
        "id": "Np4scc6xahCq",
        "outputId": "c2c7d96d-752f-4635-d8a8-93d09ca6b8f0"
      },
      "id": "Np4scc6xahCq",
      "execution_count": 24,
      "outputs": [
        {
          "output_type": "execute_result",
          "data": {
            "text/plain": [
              "Empty DataFrame\n",
              "Columns: [account_link, search_keywords, name, title, works_at, intro, experience, place, posts_cnt, post_text, reaction_cnt, comments_cnt, repost_cnt]\n",
              "Index: []"
            ],
            "text/html": [
              "\n",
              "  <div id=\"df-edb986cd-f0fe-421a-9556-8448a6c37e84\">\n",
              "    <div class=\"colab-df-container\">\n",
              "      <div>\n",
              "<style scoped>\n",
              "    .dataframe tbody tr th:only-of-type {\n",
              "        vertical-align: middle;\n",
              "    }\n",
              "\n",
              "    .dataframe tbody tr th {\n",
              "        vertical-align: top;\n",
              "    }\n",
              "\n",
              "    .dataframe thead th {\n",
              "        text-align: right;\n",
              "    }\n",
              "</style>\n",
              "<table border=\"1\" class=\"dataframe\">\n",
              "  <thead>\n",
              "    <tr style=\"text-align: right;\">\n",
              "      <th></th>\n",
              "      <th>account_link</th>\n",
              "      <th>search_keywords</th>\n",
              "      <th>name</th>\n",
              "      <th>title</th>\n",
              "      <th>works_at</th>\n",
              "      <th>intro</th>\n",
              "      <th>experience</th>\n",
              "      <th>place</th>\n",
              "      <th>posts_cnt</th>\n",
              "      <th>post_text</th>\n",
              "      <th>reaction_cnt</th>\n",
              "      <th>comments_cnt</th>\n",
              "      <th>repost_cnt</th>\n",
              "    </tr>\n",
              "  </thead>\n",
              "  <tbody>\n",
              "  </tbody>\n",
              "</table>\n",
              "</div>\n",
              "      <button class=\"colab-df-convert\" onclick=\"convertToInteractive('df-edb986cd-f0fe-421a-9556-8448a6c37e84')\"\n",
              "              title=\"Convert this dataframe to an interactive table.\"\n",
              "              style=\"display:none;\">\n",
              "        \n",
              "  <svg xmlns=\"http://www.w3.org/2000/svg\" height=\"24px\"viewBox=\"0 0 24 24\"\n",
              "       width=\"24px\">\n",
              "    <path d=\"M0 0h24v24H0V0z\" fill=\"none\"/>\n",
              "    <path d=\"M18.56 5.44l.94 2.06.94-2.06 2.06-.94-2.06-.94-.94-2.06-.94 2.06-2.06.94zm-11 1L8.5 8.5l.94-2.06 2.06-.94-2.06-.94L8.5 2.5l-.94 2.06-2.06.94zm10 10l.94 2.06.94-2.06 2.06-.94-2.06-.94-.94-2.06-.94 2.06-2.06.94z\"/><path d=\"M17.41 7.96l-1.37-1.37c-.4-.4-.92-.59-1.43-.59-.52 0-1.04.2-1.43.59L10.3 9.45l-7.72 7.72c-.78.78-.78 2.05 0 2.83L4 21.41c.39.39.9.59 1.41.59.51 0 1.02-.2 1.41-.59l7.78-7.78 2.81-2.81c.8-.78.8-2.07 0-2.86zM5.41 20L4 18.59l7.72-7.72 1.47 1.35L5.41 20z\"/>\n",
              "  </svg>\n",
              "      </button>\n",
              "      \n",
              "  <style>\n",
              "    .colab-df-container {\n",
              "      display:flex;\n",
              "      flex-wrap:wrap;\n",
              "      gap: 12px;\n",
              "    }\n",
              "\n",
              "    .colab-df-convert {\n",
              "      background-color: #E8F0FE;\n",
              "      border: none;\n",
              "      border-radius: 50%;\n",
              "      cursor: pointer;\n",
              "      display: none;\n",
              "      fill: #1967D2;\n",
              "      height: 32px;\n",
              "      padding: 0 0 0 0;\n",
              "      width: 32px;\n",
              "    }\n",
              "\n",
              "    .colab-df-convert:hover {\n",
              "      background-color: #E2EBFA;\n",
              "      box-shadow: 0px 1px 2px rgba(60, 64, 67, 0.3), 0px 1px 3px 1px rgba(60, 64, 67, 0.15);\n",
              "      fill: #174EA6;\n",
              "    }\n",
              "\n",
              "    [theme=dark] .colab-df-convert {\n",
              "      background-color: #3B4455;\n",
              "      fill: #D2E3FC;\n",
              "    }\n",
              "\n",
              "    [theme=dark] .colab-df-convert:hover {\n",
              "      background-color: #434B5C;\n",
              "      box-shadow: 0px 1px 3px 1px rgba(0, 0, 0, 0.15);\n",
              "      filter: drop-shadow(0px 1px 2px rgba(0, 0, 0, 0.3));\n",
              "      fill: #FFFFFF;\n",
              "    }\n",
              "  </style>\n",
              "\n",
              "      <script>\n",
              "        const buttonEl =\n",
              "          document.querySelector('#df-edb986cd-f0fe-421a-9556-8448a6c37e84 button.colab-df-convert');\n",
              "        buttonEl.style.display =\n",
              "          google.colab.kernel.accessAllowed ? 'block' : 'none';\n",
              "\n",
              "        async function convertToInteractive(key) {\n",
              "          const element = document.querySelector('#df-edb986cd-f0fe-421a-9556-8448a6c37e84');\n",
              "          const dataTable =\n",
              "            await google.colab.kernel.invokeFunction('convertToInteractive',\n",
              "                                                     [key], {});\n",
              "          if (!dataTable) return;\n",
              "\n",
              "          const docLinkHtml = 'Like what you see? Visit the ' +\n",
              "            '<a target=\"_blank\" href=https://colab.research.google.com/notebooks/data_table.ipynb>data table notebook</a>'\n",
              "            + ' to learn more about interactive tables.';\n",
              "          element.innerHTML = '';\n",
              "          dataTable['output_type'] = 'display_data';\n",
              "          await google.colab.output.renderOutput(dataTable, element);\n",
              "          const docLink = document.createElement('div');\n",
              "          docLink.innerHTML = docLinkHtml;\n",
              "          element.appendChild(docLink);\n",
              "        }\n",
              "      </script>\n",
              "    </div>\n",
              "  </div>\n",
              "  "
            ]
          },
          "metadata": {},
          "execution_count": 24
        }
      ]
    },
    {
      "cell_type": "markdown",
      "source": [
        "Есть такие. Посмотрим сколько таких аккаунтов."
      ],
      "metadata": {
        "id": "O1vhcmFt-cqn"
      },
      "id": "O1vhcmFt-cqn"
    },
    {
      "cell_type": "code",
      "source": [
        "len(df[df['title'].str.contains('Recruiter')==True])"
      ],
      "metadata": {
        "colab": {
          "base_uri": "https://localhost:8080/"
        },
        "id": "ygixdpwCauip",
        "outputId": "1f1547ba-117d-43fe-abef-ad98f99a75a6"
      },
      "id": "ygixdpwCauip",
      "execution_count": 25,
      "outputs": [
        {
          "output_type": "execute_result",
          "data": {
            "text/plain": [
              "0"
            ]
          },
          "metadata": {},
          "execution_count": 25
        }
      ]
    },
    {
      "cell_type": "markdown",
      "source": [
        "Почистим данные от рекрутеров."
      ],
      "metadata": {
        "id": "KajVg2q_-y19"
      },
      "id": "KajVg2q_-y19"
    },
    {
      "cell_type": "code",
      "source": [
        "df = df[df['title'].str.contains('Recruiter')==False]"
      ],
      "metadata": {
        "id": "KC83ZnLKarGJ"
      },
      "id": "KC83ZnLKarGJ",
      "execution_count": 26,
      "outputs": []
    },
    {
      "cell_type": "code",
      "source": [
        "df.shape"
      ],
      "metadata": {
        "colab": {
          "base_uri": "https://localhost:8080/"
        },
        "outputId": "835ab26b-3157-412d-9677-9fc30b782d53",
        "id": "xIxFJ3vfazDz"
      },
      "execution_count": 27,
      "outputs": [
        {
          "output_type": "execute_result",
          "data": {
            "text/plain": [
              "(709, 13)"
            ]
          },
          "metadata": {},
          "execution_count": 27
        }
      ],
      "id": "xIxFJ3vfazDz"
    },
    {
      "cell_type": "code",
      "source": [
        "df.account_link.nunique()"
      ],
      "metadata": {
        "colab": {
          "base_uri": "https://localhost:8080/"
        },
        "outputId": "9419a7b3-4ee9-43de-c304-64495fb52eb6",
        "id": "GObc-7-8azD0"
      },
      "execution_count": 28,
      "outputs": [
        {
          "output_type": "execute_result",
          "data": {
            "text/plain": [
              "188"
            ]
          },
          "metadata": {},
          "execution_count": 28
        }
      ],
      "id": "GObc-7-8azD0"
    },
    {
      "cell_type": "markdown",
      "source": [
        "Посмотрим на должности наших специалистов."
      ],
      "metadata": {
        "id": "wOXAua1V_C8E"
      },
      "id": "wOXAua1V_C8E"
    },
    {
      "cell_type": "code",
      "source": [
        "df.title.unique()"
      ],
      "metadata": {
        "colab": {
          "base_uri": "https://localhost:8080/"
        },
        "id": "0w8LFXXf_B_D",
        "outputId": "6fd89c39-1701-433e-9b63-a290a0731323"
      },
      "id": "0w8LFXXf_B_D",
      "execution_count": 29,
      "outputs": [
        {
          "output_type": "execute_result",
          "data": {
            "text/plain": [
              "array(['LOOKING FOR \"Senior/Lead Frontend (React) Developer\" VACANCY',\n",
              "       'Senior Test Automation Engineer at GlobalLogic',\n",
              "       'Frontend | Full Stack Developer (JavaScript • TypeScript • React • Redux • NodeJS)',\n",
              "       'Frontend developer',\n",
              "       'Frontend Developer (HTML, CSS, JS, React, Redux)',\n",
              "       'FrontEnd developer. React, Typescript, Redux, MobX, HTML, CSS, JS.',\n",
              "       'Software frontend engineer',\n",
              "       'Frontend Developer (JavaScript, React.js, TypeScript)',\n",
              "       'Frontend developer | React | TS | JS',\n",
              "       'Frontend Developer React/Next | TypeScript/Javascript(ES6+)',\n",
              "       'Frontend Engineer - Vue.js, Nuxt, Pinia, Vuex, Quasar, Strapi',\n",
              "       'Frontend Web (ES6+, React.JS, Node.JS ) Developer',\n",
              "       'Middle Frontend Developer',\n",
              "       'Frontend Developer – ООО \"АйТи Сервис Менеджмент\"',\n",
              "       'Frontend Разработчик (Vue/React) | Заинтересован в Релокации/Удалённой работе',\n",
              "       'Frontend developer JS', 'Frontend Developer',\n",
              "       'Frontend разработчик / HTML - Верстальщик',\n",
              "       'Frontend Developer experienced in Agile web development',\n",
              "       'Frontend Developer (React, Redux, JS)',\n",
              "       'Frontend Dev  •  JavaScript  •  TypeScript • React  •  Redux  •  React Native',\n",
              "       'Frontend Developer / React Developer / JavaScript Developer',\n",
              "       'Frontend JavaScript Developer',\n",
              "       'Frontend Developer — React | Typescript',\n",
              "       'Frontend React / Backend .Net Developer',\n",
              "       'Frontend developer JavaScript | TypeScript | React | Redux Toolkit',\n",
              "       'Frontend Developer | JavaScript | TypeScript | React',\n",
              "       'Frontend Developer at Nicotech International',\n",
              "       'Frontend Developer (React) | tg: @aleks_banks',\n",
              "       'Frontend Developer at VOXYS',\n",
              "       'Frontend-разработчик, владеющий HTML, CSS и JavaScript',\n",
              "       'Software engineer | Frontend', 'Python Developer | backend',\n",
              "       'Backend Developer | Golang, Docker, SQL, gRPC, Git',\n",
              "       'Backend Developer – Klever Label', 'Python Developer',\n",
              "       'Teamlead / Backend Developer', 'Python Backend Developer',\n",
              "       'Backend Developer - Самокат',\n",
              "       'Backend Developer | Java, Spring Framework, PostgreSQL, Hibernate',\n",
              "       'Backend Engineer in Avito', 'Backend Python developer',\n",
              "       'Backend Engineer',\n",
              "       'Senior Data Scientist | Python Backend - SberDevices',\n",
              "       'Frontend Engineer – Avito',\n",
              "       'Frontend Developer - React, Next.js, TypeScript, JavaScript',\n",
              "       'Senior Frontend Developer', 'Frontend Developer – SimbirSoft',\n",
              "       'Frontend Engineer в компании AliExpress Россия',\n",
              "       'Junior Frontend developer', 'Frontend Engineer',\n",
              "       'Frontend Developer (React)', 'Frontend React Developer',\n",
              "       'Frontend Developer – Avito', 'Frontend TeamLead',\n",
              "       'Frontend Developer – Софтерс',\n",
              "       'Frontend Developer | JavaScript, React, Redux, TypeScript',\n",
              "       'Frontend Software Engineer', 'Frontend Developer | Cian | Циан',\n",
              "       'Backend Developer (Python, Django, DRF)',\n",
              "       'Python Developer (backend) | Python, Django, PostgreSQL, Docker',\n",
              "       'Backend Developer | Python | Flask | FastApi | C',\n",
              "       'Full Stack Javascript Developer at Elbrus Coding Bootcamp',\n",
              "       'Python / Django Developer',\n",
              "       'Machine Learning Engineer / Data Scientist - Tochka Bank',\n",
              "       'ML Engineer @ VK', 'ML Engineer', 'ML engineer',\n",
              "       'Data scientist | Analyst | ML-engineer',\n",
              "       'Senior ML Engineer — SberDevices',\n",
              "       'Software Engineer / ML Engineer – Yandex',\n",
              "       'ML / DL / CV Engineer', 'ML Engineer at Yandex, YSDA 1st year',\n",
              "       'ML Engineer | Data Scientists',\n",
              "       'Senior Data Analyst at Alfa-Bank / Author: t.me/tagir_analyzes',\n",
              "       'Head Of QA', 'Senior QA Engineer – IT_One', 'Senior QA Engineer',\n",
              "       'Senior DevOps engineer', 'Lead Frontend Engineer, 27 y.o.',\n",
              "       'Team Lead Frontend at Skillbox', 'Backend Team Lead',\n",
              "       'Lead Data Scientist, PhD | Industry 4.0',\n",
              "       'Team Lead | Frontend Developer',\n",
              "       'Frontend Developer / Full stack Engineer',\n",
              "       'Lead Frontend Engineer | @OZON | Typescript, Vue, Accessibility | I help companies make a website more accessible and performant',\n",
              "       'Senior Frontend Developer at Altenar',\n",
              "       'Tech Lead Frontend - UCHi.RU', 'Frontend Tech Lead',\n",
              "       'Lead frontend developer',\n",
              "       'Frontend Web Developer в компании KOJO',\n",
              "       'Frontend Developer – \"Моя работа\"',\n",
              "       'Frontend Web Developer | JavaScript | TypeScript | React | Redux | HTML | CSS | Node.js | SQL',\n",
              "       'Frontend developer / React⚛️ / Redux / TypeScript / JavaScript / HTML5 / CSS3/SCSS/Less/Modules / Git / GitLab/ Gitea',\n",
              "       'Frontend Web Developer', 'Lead Data Analyst',\n",
              "       'Team Lead Data Analyst - Yandex Market',\n",
              "       'Lead Data Analyst/Data Engineer Team Lead – Ozon',\n",
              "       'Lead data analyst',\n",
              "       'Team Lead Data Analyst | Product Analyst – Azur Interactive Games',\n",
              "       'Lead Data Analyst – Playrix', 'Lead DWH Analyst, Data Architect',\n",
              "       'Data Analyst at Citi | SQL | Python | GIT | Tableau | Statistics | A/B testing',\n",
              "       'Lead Financial Data Analyst', 'Data Architect',\n",
              "       'Lead Data Scientist',\n",
              "       'Ведущий BI Аналитик - Tableau Certified Data Analyst',\n",
              "       'Head of Design', 'Data Analyst Team Lead at Сириус.Курсы',\n",
              "       'Data/Product Analyst (On the way to Analytics Team Lead 🤞)',\n",
              "       'Lead Data Analyst at Inkitt, ex-Yandex',\n",
              "       'Data Analytics Team Lead', 'Full Stack Web Developer/Team Lead',\n",
              "       'Ведущий веб-разработчик в компании ВКонтакте',\n",
              "       'Senior web developer', 'Lead Frontend Developer – Web Enthusiast',\n",
              "       'Lead Frontend Developer at Yandex',\n",
              "       'Lead Frontend Developer (Remote)', 'Developer',\n",
              "       'Lead Web Developer at EPAM Systems',\n",
              "       'Frontend Developer at Dostavista.global',\n",
              "       'Lead Frontend Developer – Alfa-Bank', 'Backend lead – Ruport',\n",
              "       'Web developer/Team Lead - WEB4PRO', 'Lead Web Developer',\n",
              "       'Javascript разработчик, React, Redux, HTML5, CSS3',\n",
              "       'Frontend developer | Typescript | React',\n",
              "       'Frontend Developer – Strada Inc',\n",
              "       'Frontend JavaScript Developer || React, Redux', 'MANUAL QA',\n",
              "       'Lead Software Test Automation Engineer – EPAM Systems',\n",
              "       'Lead Software Test Engineer – Luxoft',\n",
              "       'QA Engineer | Lead Test Engineer at Intelliarts',\n",
              "       'Lead Software Test Automation Engineer',\n",
              "       'Quality Assurance Engineer', 'Lead Software Test Engineer',\n",
              "       'Sr. SQA Engineer', 'Lead Test Engineer / Senior Manual QA',\n",
              "       'Big Data Engineer | Lead Test Automation Engineer',\n",
              "       'Lead QA Engineer | Mobile | WEB | API | Quality Assurance | Quality Control | Test Automation | Manual Testing | Team Leadership | I help tech companies manage and optimise their software testing activities 👨🏻\\u200d💻',\n",
              "       'Remote Manual Senior QA Engineer/Lead',\n",
              "       'Performance Test Lead at 1CUPIS', 'Lead DevOPS – MirTesen.ru',\n",
              "       'Lead Devops Engineer – ОМК-ИТ',\n",
              "       'AWS Certified SysOps Administrator, AWS Certified Solutions Architect, Lead DevOps Engineer',\n",
              "       'Lead/Senior DevOps Engineer | CKA certified',\n",
              "       'Lead DevOps Engineer – Т1.Сфера',\n",
              "       'Lead DevOps Specialist at IT_One',\n",
              "       'Lead Software Engineer at Sberbank',\n",
              "       'Frontend Developer || React', '<> frontend developer </>',\n",
              "       'Frontend Developer | React, Redux, JavaScript, TypeScript',\n",
              "       'Frontend Developer | React, Redux, TypeScript, Node.js',\n",
              "       'Frontend JavaScript Developer (React, Redux, MobX)',\n",
              "       'Frontend Teamlead at idaproject', 'Senior Software Engineer',\n",
              "       'ML Engineering Team Lead', 'Senior ML Research Engineer',\n",
              "       'Computer Vision Engineer', 'Python developer, DS, ML engineer',\n",
              "       'ML Engineer | Data Scientist | Python/Java/C++ Developer',\n",
              "       'Lead / Senior Software Developer', 'ML Research Engineer',\n",
              "       'Kaggle GrandMaster, Lead ML Engineer at Sber AI Lab',\n",
              "       'ML engineer at VK', 'Senior ML Engineer @ Endeavour Group',\n",
              "       'Senior Data Scientist/ ML engineer/PhD student',\n",
              "       'Senior Data Scientist / NLP Engineer',\n",
              "       'Senior Backend Developer – StreamLayer Inc., ex-DevExpress',\n",
              "       'software engineer', 'Senior Backend Developer – Noveo Group'],\n",
              "      dtype=object)"
            ]
          },
          "metadata": {},
          "execution_count": 29
        }
      ]
    },
    {
      "cell_type": "code",
      "source": [
        "mistakes=['Ищу срочно: Главного геолога (изыскания)! Локация -Москва либо Тольятти', '17000+ | Комплексная помощь в поиске работы | im-konsalting.ru  | mail@im-konsalting.ru | WhatsApp/Telegram: 79643223069',\n",
        "            'Руководитель подразделений маркетинга и стратегического развития в крупных компаниях на B2C рынке | 11 000+','Строю крутые отделы продаж. Обучаю в формате «Реалити». Я - Владимир Якуба',\n",
        "            'Специалист по найму персонала – V Kontakte LLC',]\n",
        "df=df.query('title not in @mistakes')"
      ],
      "metadata": {
        "id": "hdekcOabeAcj"
      },
      "id": "hdekcOabeAcj",
      "execution_count": 30,
      "outputs": []
    },
    {
      "cell_type": "markdown",
      "source": [
        "Итого  наш предобработанный файл:"
      ],
      "metadata": {
        "id": "QUYMBGaTmGtv"
      },
      "id": "QUYMBGaTmGtv"
    },
    {
      "cell_type": "code",
      "source": [
        "df.shape"
      ],
      "metadata": {
        "colab": {
          "base_uri": "https://localhost:8080/"
        },
        "id": "7z_6qovGmK2E",
        "outputId": "3a09e8de-7293-4225-b920-60f7c9e7102f"
      },
      "id": "7z_6qovGmK2E",
      "execution_count": 31,
      "outputs": [
        {
          "output_type": "execute_result",
          "data": {
            "text/plain": [
              "(709, 13)"
            ]
          },
          "metadata": {},
          "execution_count": 31
        }
      ]
    },
    {
      "cell_type": "markdown",
      "source": [
        "Это 2039 строк."
      ],
      "metadata": {
        "id": "tLZ0e4qBmQef"
      },
      "id": "tLZ0e4qBmQef"
    },
    {
      "cell_type": "code",
      "source": [
        "df.account_link.nunique()"
      ],
      "metadata": {
        "colab": {
          "base_uri": "https://localhost:8080/"
        },
        "id": "XlUY1Q_QmP4f",
        "outputId": "55d8d7a1-15fd-404f-c5ea-d19ee28e09ba"
      },
      "id": "XlUY1Q_QmP4f",
      "execution_count": 32,
      "outputs": [
        {
          "output_type": "execute_result",
          "data": {
            "text/plain": [
              "188"
            ]
          },
          "metadata": {},
          "execution_count": 32
        }
      ]
    },
    {
      "cell_type": "markdown",
      "source": [
        "782 уникальных пользователей."
      ],
      "metadata": {
        "id": "-nqsCj8kmhwB"
      },
      "id": "-nqsCj8kmhwB"
    },
    {
      "cell_type": "code",
      "source": [
        "df"
      ],
      "metadata": {
        "colab": {
          "base_uri": "https://localhost:8080/",
          "height": 971
        },
        "id": "yHh1VgiCql19",
        "outputId": "76699e8a-5e85-47b4-cb00-5b3a84d653bb"
      },
      "id": "yHh1VgiCql19",
      "execution_count": 33,
      "outputs": [
        {
          "output_type": "execute_result",
          "data": {
            "text/plain": [
              "                                          account_link       search_keywords  \\\n",
              "1                 https://www.linkedin.com/in/rauventa       senior frontend   \n",
              "6           https://www.linkedin.com/in/oleg-malyshkin  senior test engineer   \n",
              "8           https://www.linkedin.com/in/oleg-malyshkin  senior test engineer   \n",
              "9           https://www.linkedin.com/in/oleg-malyshkin  senior test engineer   \n",
              "12          https://www.linkedin.com/in/oleg-malyshkin  senior test engineer   \n",
              "...                                                ...                   ...   \n",
              "2047               https://www.linkedin.com/in/sky3ddd        senior backend   \n",
              "2048               https://www.linkedin.com/in/sky3ddd        senior backend   \n",
              "2050               https://www.linkedin.com/in/sky3ddd        senior backend   \n",
              "2058          https://www.linkedin.com/in/evgenymelnik        senior backend   \n",
              "2076  https://www.linkedin.com/in/evgeny-ekim-a3077278        senior backend   \n",
              "\n",
              "                name                                              title  \\\n",
              "1     Ilya Moiseenko  LOOKING FOR \"Senior/Lead Frontend (React) Deve...   \n",
              "6     Oleg Malyshkin     Senior Test Automation Engineer at GlobalLogic   \n",
              "8     Oleg Malyshkin     Senior Test Automation Engineer at GlobalLogic   \n",
              "9     Oleg Malyshkin     Senior Test Automation Engineer at GlobalLogic   \n",
              "12    Oleg Malyshkin     Senior Test Automation Engineer at GlobalLogic   \n",
              "...              ...                                                ...   \n",
              "2047  Alex Stakhanov  Senior Backend Developer – StreamLayer Inc., e...   \n",
              "2048  Alex Stakhanov  Senior Backend Developer – StreamLayer Inc., e...   \n",
              "2050  Alex Stakhanov  Senior Backend Developer – StreamLayer Inc., e...   \n",
              "2058   Evgeny Melnik                                  software engineer   \n",
              "2076     Evgeny Ekim             Senior Backend Developer – Noveo Group   \n",
              "\n",
              "              works_at                                              intro  \\\n",
              "1            Centicore  Ilya, React Developer from Moscow.Ilya, React ...   \n",
              "6                  NaN  Hi everyone, I am Oleg Malyshkin - Senior Test...   \n",
              "8                  NaN  Hi everyone, I am Oleg Malyshkin - Senior Test...   \n",
              "9                  NaN  Hi everyone, I am Oleg Malyshkin - Senior Test...   \n",
              "12                 NaN  Hi everyone, I am Oleg Malyshkin - Senior Test...   \n",
              "...                ...                                                ...   \n",
              "2047  StreamLayer Inc.  Currently I use: Typescript, gRPC, TypeORM, Po...   \n",
              "2048  StreamLayer Inc.  Currently I use: Typescript, gRPC, TypeORM, Po...   \n",
              "2050  StreamLayer Inc.  Currently I use: Typescript, gRPC, TypeORM, Po...   \n",
              "2058           DzenLab  Головная компания федеральной розничной сети м...   \n",
              "2076       SberDevices  Project manager of employees assessment and de...   \n",
              "\n",
              "      experience                           place  posts_cnt  \\\n",
              "1            8.0          Москва, Москва, Россия          1   \n",
              "6            4.0             Киев, Киев, Украина          9   \n",
              "8            4.0             Киев, Киев, Украина          9   \n",
              "9            4.0             Киев, Киев, Украина          9   \n",
              "12           4.0             Киев, Киев, Украина          9   \n",
              "...          ...                             ...        ...   \n",
              "2047        26.0  Тула, Тульская область, Россия          7   \n",
              "2048        26.0  Тула, Тульская область, Россия          7   \n",
              "2050        26.0  Тула, Тульская область, Россия          7   \n",
              "2058        14.0      Краснодарский край, Россия          2   \n",
              "2076        10.0          Москва, Москва, Россия          1   \n",
              "\n",
              "                                              post_text  reaction_cnt  \\\n",
              "1     Я только что получил(а) значок за навык «JavaS...           1.0   \n",
              "6     Привiт!👋 Я у пошуках роботи Product Manager та...           6.0   \n",
              "8     Усім привіт!Розпочинаємо збір, є запит на квад...           5.0   \n",
              "9     Моя хорошая подруга - фотограф, как и часть ук...           3.0   \n",
              "12    Всем привет!Хочешь начать изучение испанского ...           5.0   \n",
              "...                                                 ...           ...   \n",
              "2047  С удовольствием сообщаю, что я получил(а) новы...           9.0   \n",
              "2048  С удовольствием сообщаю, что я получил(а) новы...           2.0   \n",
              "2050  С удовольствием сообщаю, что я получил(а) новы...           1.0   \n",
              "2058  Ну что, java рулит :)С начала года в режиме ин...           1.0   \n",
              "2076  Привет!Этой публикацией я начинаю цикл статей ...           NaN   \n",
              "\n",
              "      comments_cnt  repost_cnt  \n",
              "1              NaN         NaN  \n",
              "6              5.0         8.0  \n",
              "8              1.0         5.0  \n",
              "9              NaN         1.0  \n",
              "12             NaN         1.0  \n",
              "...            ...         ...  \n",
              "2047           NaN         NaN  \n",
              "2048           1.0         NaN  \n",
              "2050           NaN         NaN  \n",
              "2058           3.0         NaN  \n",
              "2076           NaN         NaN  \n",
              "\n",
              "[709 rows x 13 columns]"
            ],
            "text/html": [
              "\n",
              "  <div id=\"df-b0a140f9-0bd4-4e28-aae8-5c4518ea67b0\">\n",
              "    <div class=\"colab-df-container\">\n",
              "      <div>\n",
              "<style scoped>\n",
              "    .dataframe tbody tr th:only-of-type {\n",
              "        vertical-align: middle;\n",
              "    }\n",
              "\n",
              "    .dataframe tbody tr th {\n",
              "        vertical-align: top;\n",
              "    }\n",
              "\n",
              "    .dataframe thead th {\n",
              "        text-align: right;\n",
              "    }\n",
              "</style>\n",
              "<table border=\"1\" class=\"dataframe\">\n",
              "  <thead>\n",
              "    <tr style=\"text-align: right;\">\n",
              "      <th></th>\n",
              "      <th>account_link</th>\n",
              "      <th>search_keywords</th>\n",
              "      <th>name</th>\n",
              "      <th>title</th>\n",
              "      <th>works_at</th>\n",
              "      <th>intro</th>\n",
              "      <th>experience</th>\n",
              "      <th>place</th>\n",
              "      <th>posts_cnt</th>\n",
              "      <th>post_text</th>\n",
              "      <th>reaction_cnt</th>\n",
              "      <th>comments_cnt</th>\n",
              "      <th>repost_cnt</th>\n",
              "    </tr>\n",
              "  </thead>\n",
              "  <tbody>\n",
              "    <tr>\n",
              "      <th>1</th>\n",
              "      <td>https://www.linkedin.com/in/rauventa</td>\n",
              "      <td>senior frontend</td>\n",
              "      <td>Ilya Moiseenko</td>\n",
              "      <td>LOOKING FOR \"Senior/Lead Frontend (React) Deve...</td>\n",
              "      <td>Centicore</td>\n",
              "      <td>Ilya, React Developer from Moscow.Ilya, React ...</td>\n",
              "      <td>8.0</td>\n",
              "      <td>Москва, Москва, Россия</td>\n",
              "      <td>1</td>\n",
              "      <td>Я только что получил(а) значок за навык «JavaS...</td>\n",
              "      <td>1.0</td>\n",
              "      <td>NaN</td>\n",
              "      <td>NaN</td>\n",
              "    </tr>\n",
              "    <tr>\n",
              "      <th>6</th>\n",
              "      <td>https://www.linkedin.com/in/oleg-malyshkin</td>\n",
              "      <td>senior test engineer</td>\n",
              "      <td>Oleg Malyshkin</td>\n",
              "      <td>Senior Test Automation Engineer at GlobalLogic</td>\n",
              "      <td>NaN</td>\n",
              "      <td>Hi everyone, I am Oleg Malyshkin - Senior Test...</td>\n",
              "      <td>4.0</td>\n",
              "      <td>Киев, Киев, Украина</td>\n",
              "      <td>9</td>\n",
              "      <td>Привiт!👋 Я у пошуках роботи Product Manager та...</td>\n",
              "      <td>6.0</td>\n",
              "      <td>5.0</td>\n",
              "      <td>8.0</td>\n",
              "    </tr>\n",
              "    <tr>\n",
              "      <th>8</th>\n",
              "      <td>https://www.linkedin.com/in/oleg-malyshkin</td>\n",
              "      <td>senior test engineer</td>\n",
              "      <td>Oleg Malyshkin</td>\n",
              "      <td>Senior Test Automation Engineer at GlobalLogic</td>\n",
              "      <td>NaN</td>\n",
              "      <td>Hi everyone, I am Oleg Malyshkin - Senior Test...</td>\n",
              "      <td>4.0</td>\n",
              "      <td>Киев, Киев, Украина</td>\n",
              "      <td>9</td>\n",
              "      <td>Усім привіт!Розпочинаємо збір, є запит на квад...</td>\n",
              "      <td>5.0</td>\n",
              "      <td>1.0</td>\n",
              "      <td>5.0</td>\n",
              "    </tr>\n",
              "    <tr>\n",
              "      <th>9</th>\n",
              "      <td>https://www.linkedin.com/in/oleg-malyshkin</td>\n",
              "      <td>senior test engineer</td>\n",
              "      <td>Oleg Malyshkin</td>\n",
              "      <td>Senior Test Automation Engineer at GlobalLogic</td>\n",
              "      <td>NaN</td>\n",
              "      <td>Hi everyone, I am Oleg Malyshkin - Senior Test...</td>\n",
              "      <td>4.0</td>\n",
              "      <td>Киев, Киев, Украина</td>\n",
              "      <td>9</td>\n",
              "      <td>Моя хорошая подруга - фотограф, как и часть ук...</td>\n",
              "      <td>3.0</td>\n",
              "      <td>NaN</td>\n",
              "      <td>1.0</td>\n",
              "    </tr>\n",
              "    <tr>\n",
              "      <th>12</th>\n",
              "      <td>https://www.linkedin.com/in/oleg-malyshkin</td>\n",
              "      <td>senior test engineer</td>\n",
              "      <td>Oleg Malyshkin</td>\n",
              "      <td>Senior Test Automation Engineer at GlobalLogic</td>\n",
              "      <td>NaN</td>\n",
              "      <td>Hi everyone, I am Oleg Malyshkin - Senior Test...</td>\n",
              "      <td>4.0</td>\n",
              "      <td>Киев, Киев, Украина</td>\n",
              "      <td>9</td>\n",
              "      <td>Всем привет!Хочешь начать изучение испанского ...</td>\n",
              "      <td>5.0</td>\n",
              "      <td>NaN</td>\n",
              "      <td>1.0</td>\n",
              "    </tr>\n",
              "    <tr>\n",
              "      <th>...</th>\n",
              "      <td>...</td>\n",
              "      <td>...</td>\n",
              "      <td>...</td>\n",
              "      <td>...</td>\n",
              "      <td>...</td>\n",
              "      <td>...</td>\n",
              "      <td>...</td>\n",
              "      <td>...</td>\n",
              "      <td>...</td>\n",
              "      <td>...</td>\n",
              "      <td>...</td>\n",
              "      <td>...</td>\n",
              "      <td>...</td>\n",
              "    </tr>\n",
              "    <tr>\n",
              "      <th>2047</th>\n",
              "      <td>https://www.linkedin.com/in/sky3ddd</td>\n",
              "      <td>senior backend</td>\n",
              "      <td>Alex Stakhanov</td>\n",
              "      <td>Senior Backend Developer – StreamLayer Inc., e...</td>\n",
              "      <td>StreamLayer Inc.</td>\n",
              "      <td>Currently I use: Typescript, gRPC, TypeORM, Po...</td>\n",
              "      <td>26.0</td>\n",
              "      <td>Тула, Тульская область, Россия</td>\n",
              "      <td>7</td>\n",
              "      <td>С удовольствием сообщаю, что я получил(а) новы...</td>\n",
              "      <td>9.0</td>\n",
              "      <td>NaN</td>\n",
              "      <td>NaN</td>\n",
              "    </tr>\n",
              "    <tr>\n",
              "      <th>2048</th>\n",
              "      <td>https://www.linkedin.com/in/sky3ddd</td>\n",
              "      <td>senior backend</td>\n",
              "      <td>Alex Stakhanov</td>\n",
              "      <td>Senior Backend Developer – StreamLayer Inc., e...</td>\n",
              "      <td>StreamLayer Inc.</td>\n",
              "      <td>Currently I use: Typescript, gRPC, TypeORM, Po...</td>\n",
              "      <td>26.0</td>\n",
              "      <td>Тула, Тульская область, Россия</td>\n",
              "      <td>7</td>\n",
              "      <td>С удовольствием сообщаю, что я получил(а) новы...</td>\n",
              "      <td>2.0</td>\n",
              "      <td>1.0</td>\n",
              "      <td>NaN</td>\n",
              "    </tr>\n",
              "    <tr>\n",
              "      <th>2050</th>\n",
              "      <td>https://www.linkedin.com/in/sky3ddd</td>\n",
              "      <td>senior backend</td>\n",
              "      <td>Alex Stakhanov</td>\n",
              "      <td>Senior Backend Developer – StreamLayer Inc., e...</td>\n",
              "      <td>StreamLayer Inc.</td>\n",
              "      <td>Currently I use: Typescript, gRPC, TypeORM, Po...</td>\n",
              "      <td>26.0</td>\n",
              "      <td>Тула, Тульская область, Россия</td>\n",
              "      <td>7</td>\n",
              "      <td>С удовольствием сообщаю, что я получил(а) новы...</td>\n",
              "      <td>1.0</td>\n",
              "      <td>NaN</td>\n",
              "      <td>NaN</td>\n",
              "    </tr>\n",
              "    <tr>\n",
              "      <th>2058</th>\n",
              "      <td>https://www.linkedin.com/in/evgenymelnik</td>\n",
              "      <td>senior backend</td>\n",
              "      <td>Evgeny Melnik</td>\n",
              "      <td>software engineer</td>\n",
              "      <td>DzenLab</td>\n",
              "      <td>Головная компания федеральной розничной сети м...</td>\n",
              "      <td>14.0</td>\n",
              "      <td>Краснодарский край, Россия</td>\n",
              "      <td>2</td>\n",
              "      <td>Ну что, java рулит :)С начала года в режиме ин...</td>\n",
              "      <td>1.0</td>\n",
              "      <td>3.0</td>\n",
              "      <td>NaN</td>\n",
              "    </tr>\n",
              "    <tr>\n",
              "      <th>2076</th>\n",
              "      <td>https://www.linkedin.com/in/evgeny-ekim-a3077278</td>\n",
              "      <td>senior backend</td>\n",
              "      <td>Evgeny Ekim</td>\n",
              "      <td>Senior Backend Developer – Noveo Group</td>\n",
              "      <td>SberDevices</td>\n",
              "      <td>Project manager of employees assessment and de...</td>\n",
              "      <td>10.0</td>\n",
              "      <td>Москва, Москва, Россия</td>\n",
              "      <td>1</td>\n",
              "      <td>Привет!Этой публикацией я начинаю цикл статей ...</td>\n",
              "      <td>NaN</td>\n",
              "      <td>NaN</td>\n",
              "      <td>NaN</td>\n",
              "    </tr>\n",
              "  </tbody>\n",
              "</table>\n",
              "<p>709 rows × 13 columns</p>\n",
              "</div>\n",
              "      <button class=\"colab-df-convert\" onclick=\"convertToInteractive('df-b0a140f9-0bd4-4e28-aae8-5c4518ea67b0')\"\n",
              "              title=\"Convert this dataframe to an interactive table.\"\n",
              "              style=\"display:none;\">\n",
              "        \n",
              "  <svg xmlns=\"http://www.w3.org/2000/svg\" height=\"24px\"viewBox=\"0 0 24 24\"\n",
              "       width=\"24px\">\n",
              "    <path d=\"M0 0h24v24H0V0z\" fill=\"none\"/>\n",
              "    <path d=\"M18.56 5.44l.94 2.06.94-2.06 2.06-.94-2.06-.94-.94-2.06-.94 2.06-2.06.94zm-11 1L8.5 8.5l.94-2.06 2.06-.94-2.06-.94L8.5 2.5l-.94 2.06-2.06.94zm10 10l.94 2.06.94-2.06 2.06-.94-2.06-.94-.94-2.06-.94 2.06-2.06.94z\"/><path d=\"M17.41 7.96l-1.37-1.37c-.4-.4-.92-.59-1.43-.59-.52 0-1.04.2-1.43.59L10.3 9.45l-7.72 7.72c-.78.78-.78 2.05 0 2.83L4 21.41c.39.39.9.59 1.41.59.51 0 1.02-.2 1.41-.59l7.78-7.78 2.81-2.81c.8-.78.8-2.07 0-2.86zM5.41 20L4 18.59l7.72-7.72 1.47 1.35L5.41 20z\"/>\n",
              "  </svg>\n",
              "      </button>\n",
              "      \n",
              "  <style>\n",
              "    .colab-df-container {\n",
              "      display:flex;\n",
              "      flex-wrap:wrap;\n",
              "      gap: 12px;\n",
              "    }\n",
              "\n",
              "    .colab-df-convert {\n",
              "      background-color: #E8F0FE;\n",
              "      border: none;\n",
              "      border-radius: 50%;\n",
              "      cursor: pointer;\n",
              "      display: none;\n",
              "      fill: #1967D2;\n",
              "      height: 32px;\n",
              "      padding: 0 0 0 0;\n",
              "      width: 32px;\n",
              "    }\n",
              "\n",
              "    .colab-df-convert:hover {\n",
              "      background-color: #E2EBFA;\n",
              "      box-shadow: 0px 1px 2px rgba(60, 64, 67, 0.3), 0px 1px 3px 1px rgba(60, 64, 67, 0.15);\n",
              "      fill: #174EA6;\n",
              "    }\n",
              "\n",
              "    [theme=dark] .colab-df-convert {\n",
              "      background-color: #3B4455;\n",
              "      fill: #D2E3FC;\n",
              "    }\n",
              "\n",
              "    [theme=dark] .colab-df-convert:hover {\n",
              "      background-color: #434B5C;\n",
              "      box-shadow: 0px 1px 3px 1px rgba(0, 0, 0, 0.15);\n",
              "      filter: drop-shadow(0px 1px 2px rgba(0, 0, 0, 0.3));\n",
              "      fill: #FFFFFF;\n",
              "    }\n",
              "  </style>\n",
              "\n",
              "      <script>\n",
              "        const buttonEl =\n",
              "          document.querySelector('#df-b0a140f9-0bd4-4e28-aae8-5c4518ea67b0 button.colab-df-convert');\n",
              "        buttonEl.style.display =\n",
              "          google.colab.kernel.accessAllowed ? 'block' : 'none';\n",
              "\n",
              "        async function convertToInteractive(key) {\n",
              "          const element = document.querySelector('#df-b0a140f9-0bd4-4e28-aae8-5c4518ea67b0');\n",
              "          const dataTable =\n",
              "            await google.colab.kernel.invokeFunction('convertToInteractive',\n",
              "                                                     [key], {});\n",
              "          if (!dataTable) return;\n",
              "\n",
              "          const docLinkHtml = 'Like what you see? Visit the ' +\n",
              "            '<a target=\"_blank\" href=https://colab.research.google.com/notebooks/data_table.ipynb>data table notebook</a>'\n",
              "            + ' to learn more about interactive tables.';\n",
              "          element.innerHTML = '';\n",
              "          dataTable['output_type'] = 'display_data';\n",
              "          await google.colab.output.renderOutput(dataTable, element);\n",
              "          const docLink = document.createElement('div');\n",
              "          docLink.innerHTML = docLinkHtml;\n",
              "          element.appendChild(docLink);\n",
              "        }\n",
              "      </script>\n",
              "    </div>\n",
              "  </div>\n",
              "  "
            ]
          },
          "metadata": {},
          "execution_count": 33
        }
      ]
    },
    {
      "cell_type": "markdown",
      "id": "9ee26cb6-e682-43ed-ba93-32212486112b",
      "metadata": {
        "id": "9ee26cb6-e682-43ed-ba93-32212486112b"
      },
      "source": [
        "## Подготовка текстов"
      ]
    },
    {
      "cell_type": "markdown",
      "id": "1fc70781-b907-46c4-a0f2-f235bf07e5ce",
      "metadata": {
        "id": "1fc70781-b907-46c4-a0f2-f235bf07e5ce"
      },
      "source": [
        "Токенизацию и лемматизацию текстов."
      ]
    },
    {
      "cell_type": "markdown",
      "id": "60f9883f-6a40-4566-9034-f014d5887f4b",
      "metadata": {
        "id": "60f9883f-6a40-4566-9034-f014d5887f4b"
      },
      "source": [
        "Устанавливаем либу и качаем русскоязычную модель _ru_core_news_sm_."
      ]
    },
    {
      "cell_type": "code",
      "execution_count": 34,
      "id": "dc7e7c2d-09d1-46b7-a653-60e5e66d3a60",
      "metadata": {
        "id": "dc7e7c2d-09d1-46b7-a653-60e5e66d3a60"
      },
      "outputs": [],
      "source": [
        "model = spacy.load('ru_core_news_sm', disable=['ner', 'parser'])"
      ]
    },
    {
      "cell_type": "markdown",
      "id": "d51a353e-6397-4135-90f5-4d7a2f2676d8",
      "metadata": {
        "id": "d51a353e-6397-4135-90f5-4d7a2f2676d8"
      },
      "source": [
        "Складываем все посты в один список"
      ]
    },
    {
      "cell_type": "code",
      "source": [
        "df.post_text.isna().sum()"
      ],
      "metadata": {
        "colab": {
          "base_uri": "https://localhost:8080/"
        },
        "id": "GrRDOZkTt8VI",
        "outputId": "f655dc41-8084-44c8-8829-04a1f7c12982"
      },
      "id": "GrRDOZkTt8VI",
      "execution_count": 35,
      "outputs": [
        {
          "output_type": "execute_result",
          "data": {
            "text/plain": [
              "0"
            ]
          },
          "metadata": {},
          "execution_count": 35
        }
      ]
    },
    {
      "cell_type": "code",
      "source": [
        "df[\"post_text\"] = df[\"post_text\"].dropna()"
      ],
      "metadata": {
        "id": "EjxXeZp6mLAy"
      },
      "id": "EjxXeZp6mLAy",
      "execution_count": 36,
      "outputs": []
    },
    {
      "cell_type": "code",
      "source": [
        "df[\"post_text\"]  = df[\"post_text\"] .astype('str')"
      ],
      "metadata": {
        "id": "tkhXUZckmYy8"
      },
      "id": "tkhXUZckmYy8",
      "execution_count": 37,
      "outputs": []
    },
    {
      "cell_type": "markdown",
      "source": [
        "Посмотрим на кол-во символов в постах."
      ],
      "metadata": {
        "id": "s629hG8pXi9P"
      },
      "id": "s629hG8pXi9P"
    },
    {
      "cell_type": "code",
      "source": [
        "df[\"symbols\"] = [len(x) for x in df['post_text']]"
      ],
      "metadata": {
        "id": "O0vyO1ALW_zr"
      },
      "id": "O0vyO1ALW_zr",
      "execution_count": 38,
      "outputs": []
    },
    {
      "cell_type": "code",
      "source": [
        "sns.histplot(df.symbols, kde=True)\n",
        "plt.show()"
      ],
      "metadata": {
        "colab": {
          "base_uri": "https://localhost:8080/",
          "height": 449
        },
        "id": "grZv46eGXOD-",
        "outputId": "4643c666-ba9e-4e4f-f159-a2f65d0d7931"
      },
      "id": "grZv46eGXOD-",
      "execution_count": 39,
      "outputs": [
        {
          "output_type": "display_data",
          "data": {
            "text/plain": [
              "<Figure size 640x480 with 1 Axes>"
            ],
            "image/png": "[encoded data removed]"
          },
          "metadata": {}
        }
      ]
    },
    {
      "cell_type": "code",
      "source": [
        "sns.histplot(df[df.symbols<=500].symbols, kde=True)\n",
        "plt.show()"
      ],
      "metadata": {
        "colab": {
          "base_uri": "https://localhost:8080/",
          "height": 449
        },
        "id": "pdeQUOwMXqb8",
        "outputId": "e80f69d3-ed6c-4623-851c-726e7e627e60"
      },
      "id": "pdeQUOwMXqb8",
      "execution_count": 40,
      "outputs": [
        {
          "output_type": "display_data",
          "data": {
            "text/plain": [
              "<Figure size 640x480 with 1 Axes>"
            ],
            "image/png": "[encoded data removed]"
          },
          "metadata": {}
        }
      ]
    },
    {
      "cell_type": "code",
      "source": [
        "df[df.symbols<=50]"
      ],
      "metadata": {
        "colab": {
          "base_uri": "https://localhost:8080/",
          "height": 1000
        },
        "id": "D7HPXJM_X1LB",
        "outputId": "b8a7be23-b527-4140-e460-49ada40f12b9"
      },
      "id": "D7HPXJM_X1LB",
      "execution_count": 41,
      "outputs": [
        {
          "output_type": "execute_result",
          "data": {
            "text/plain": [
              "                                           account_link     search_keywords  \\\n",
              "71    https://www.linkedin.com/in/valeriy-nepluev-89...            frontend   \n",
              "77    https://www.linkedin.com/in/oleg-kozlov-4191a0217            frontend   \n",
              "82    https://www.linkedin.com/in/oleg-kozlov-4191a0217            frontend   \n",
              "136          https://www.linkedin.com/in/sergeyromanovv            frontend   \n",
              "138          https://www.linkedin.com/in/alenasafronova            frontend   \n",
              "139          https://www.linkedin.com/in/alenasafronova            frontend   \n",
              "159              https://www.linkedin.com/in/baremantar            frontend   \n",
              "180   https://www.linkedin.com/in/%D0%B0%D0%BB%D0%B5...            frontend   \n",
              "239               https://www.linkedin.com/in/denyacore             backend   \n",
              "240               https://www.linkedin.com/in/denyacore             backend   \n",
              "241               https://www.linkedin.com/in/denyacore             backend   \n",
              "263             https://www.linkedin.com/in/sukhanenkov             backend   \n",
              "305                  https://www.linkedin.com/in/devhak             backend   \n",
              "307                  https://www.linkedin.com/in/devhak             backend   \n",
              "341   https://www.linkedin.com/in/artem-gumarov-7132...            frontend   \n",
              "393           https://www.linkedin.com/in/maks-alekseev             backend   \n",
              "453          https://www.linkedin.com/in/ivan-ilushenko         ML engineer   \n",
              "517               https://www.linkedin.com/in/averkieff         ML engineer   \n",
              "519               https://www.linkedin.com/in/averkieff         ML engineer   \n",
              "588       https://www.linkedin.com/in/natalya-n-tsareva  senior QA engineer   \n",
              "607   https://www.linkedin.com/in/gennady-korolev-57...       senior devops   \n",
              "617   https://www.linkedin.com/in/ivan-kazantsev-993...       lead frontend   \n",
              "742   https://www.linkedin.com/in/teacher-cheater-48...            frontend   \n",
              "749   https://www.linkedin.com/in/teacher-cheater-48...            frontend   \n",
              "770              https://www.linkedin.com/in/dm-bychkov            frontend   \n",
              "776              https://www.linkedin.com/in/dm-bychkov            frontend   \n",
              "809   https://www.linkedin.com/in/nikita-balykin-b01...            frontend   \n",
              "857   https://www.linkedin.com/in/aleksey-platonov-9...   lead data analyst   \n",
              "904               https://www.linkedin.com/in/serejkaaa   lead data analyst   \n",
              "906               https://www.linkedin.com/in/serejkaaa   lead data analyst   \n",
              "941               https://www.linkedin.com/in/yuzhakova   lead data analyst   \n",
              "948               https://www.linkedin.com/in/yuzhakova   lead data analyst   \n",
              "953               https://www.linkedin.com/in/yuzhakova   lead data analyst   \n",
              "1020     https://www.linkedin.com/in/ilona-akhmetsafina   lead data analyst   \n",
              "1071           https://www.linkedin.com/in/ilyanikishin  lead web developer   \n",
              "1111              https://www.linkedin.com/in/rovechkin  lead web developer   \n",
              "1319  https://www.linkedin.com/in/natalia-koroleva-7...  lead test engineer   \n",
              "1323  https://www.linkedin.com/in/denis-chulkov-8686...  lead test engineer   \n",
              "1326  https://www.linkedin.com/in/denis-chulkov-8686...  lead test engineer   \n",
              "1329  https://www.linkedin.com/in/denis-chulkov-8686...  lead test engineer   \n",
              "1390  https://www.linkedin.com/in/valerii-kalinin-40...  lead test engineer   \n",
              "1398  https://www.linkedin.com/in/vinod-muneshwar-21...  lead test engineer   \n",
              "1411  https://www.linkedin.com/in/dina-rozhkova-1b21...  lead test engineer   \n",
              "1419  https://www.linkedin.com/in/dina-rozhkova-1b21...  lead test engineer   \n",
              "1484  https://www.linkedin.com/in/oleg-yamshikov-b46...         lead devops   \n",
              "1502  https://www.linkedin.com/in/pavel-andreev-7771...         lead devops   \n",
              "1538  https://www.linkedin.com/in/oleg-kurchavov-2a4...         lead devops   \n",
              "1539  https://www.linkedin.com/in/oleg-kurchavov-2a4...         lead devops   \n",
              "1648  https://www.linkedin.com/in/anastasiya-saydazi...            frontend   \n",
              "1653  https://www.linkedin.com/in/anastasiya-saydazi...            frontend   \n",
              "1731  https://www.linkedin.com/in/petr-novikov-98621639  senior ML engineer   \n",
              "1758                https://www.linkedin.com/in/matohin  senior ML engineer   \n",
              "1778  https://www.linkedin.com/in/mark-averchenko-1b...  senior ML engineer   \n",
              "2040               https://www.linkedin.com/in/sshkarin  senior ML engineer   \n",
              "\n",
              "                                        name  \\\n",
              "71                           Valeriy Nepluev   \n",
              "77                               Oleg Kozlov   \n",
              "82                               Oleg Kozlov   \n",
              "136                           Sergey Romanov   \n",
              "138                          Алена Сафронова   \n",
              "139                          Алена Сафронова   \n",
              "159                             Timur Asanov   \n",
              "180                       Алексей Риконвальд   \n",
              "239                         Денис Шестиперов   \n",
              "240                         Денис Шестиперов   \n",
              "241                         Денис Шестиперов   \n",
              "263                         Ilya Sukhanenkov   \n",
              "305                         Hakob Jevahiryan   \n",
              "307                         Hakob Jevahiryan   \n",
              "341                            Artem Gumarov   \n",
              "393                          Maksim Alekseev   \n",
              "453                           Ivan Ilushenko   \n",
              "517                          Sergei Averkiev   \n",
              "519                          Sergei Averkiev   \n",
              "588                          Natalia Tsareva   \n",
              "607                          Gennady Korolev   \n",
              "617                           Ivan Kazantsev   \n",
              "742                        Евгений Некипелов   \n",
              "749                        Евгений Некипелов   \n",
              "770                        Dmitrii Bychkov ✅   \n",
              "776                        Dmitrii Bychkov ✅   \n",
              "809                           Nikita Balykin   \n",
              "857                         Aleksey Platonov   \n",
              "904                             Sergei Kogai   \n",
              "906                             Sergei Kogai   \n",
              "941   Александр (Youzhakov Alexander) Южаков   \n",
              "948   Александр (Youzhakov Alexander) Южаков   \n",
              "953   Александр (Youzhakov Alexander) Южаков   \n",
              "1020                      Ilona Akhmetsafina   \n",
              "1071                            Илья Никишин   \n",
              "1111                          Roman Ovechkin   \n",
              "1319                        Natalia Koroleva   \n",
              "1323                           Denis Chulkov   \n",
              "1326                           Denis Chulkov   \n",
              "1329                           Denis Chulkov   \n",
              "1390                         Valerii Kalinin   \n",
              "1398                         Vinod Muneshwar   \n",
              "1411                           Dina Rozhkova   \n",
              "1419                           Dina Rozhkova   \n",
              "1484                          Oleg Yamshikov   \n",
              "1502                           Pavel Andreev   \n",
              "1538                          Oleg Kurchavov   \n",
              "1539                          Oleg Kurchavov   \n",
              "1648                   Анастасия Сайдазимова   \n",
              "1653                   Анастасия Сайдазимова   \n",
              "1731                            Petr Novikov   \n",
              "1758                         Matohin Evgeniy   \n",
              "1778                         Mark Averchenko   \n",
              "2040                           Сергей Шкарин   \n",
              "\n",
              "                                                  title  \\\n",
              "71    Frontend Engineer - Vue.js, Nuxt, Pinia, Vuex,...   \n",
              "77                            Middle Frontend Developer   \n",
              "82                            Middle Frontend Developer   \n",
              "136   Frontend Developer experienced in Agile web de...   \n",
              "138               Frontend Developer (React, Redux, JS)   \n",
              "139               Frontend Developer (React, Redux, JS)   \n",
              "159                                  Frontend developer   \n",
              "180             Frontend React / Backend .Net Developer   \n",
              "239                          Python Developer | backend   \n",
              "240                          Python Developer | backend   \n",
              "241                          Python Developer | backend   \n",
              "263                                    Python Developer   \n",
              "305                                    Backend Engineer   \n",
              "307                                    Backend Engineer   \n",
              "341                          Frontend Developer (React)   \n",
              "393   Python Developer (backend) | Python, Django, P...   \n",
              "453                                         ML engineer   \n",
              "517                    Senior ML Engineer — SberDevices   \n",
              "519                    Senior ML Engineer — SberDevices   \n",
              "588                                          Head Of QA   \n",
              "607                              Senior DevOps engineer   \n",
              "617                      Team Lead Frontend at Skillbox   \n",
              "742              Frontend Web Developer в компании KOJO   \n",
              "749              Frontend Web Developer в компании KOJO   \n",
              "770   Frontend Web Developer | JavaScript | TypeScri...   \n",
              "776   Frontend Web Developer | JavaScript | TypeScri...   \n",
              "809                              Frontend Web Developer   \n",
              "857   Team Lead Data Analyst | Product Analyst – Azu...   \n",
              "904                    Lead DWH Analyst, Data Architect   \n",
              "906                    Lead DWH Analyst, Data Architect   \n",
              "941                                      Data Architect   \n",
              "948                                      Data Architect   \n",
              "953                                      Data Architect   \n",
              "1020             Lead Data Analyst at Inkitt, ex-Yandex   \n",
              "1071                 Full Stack Web Developer/Team Lead   \n",
              "1111                               Senior web developer   \n",
              "1319                                          MANUAL QA   \n",
              "1323  Lead Software Test Automation Engineer – EPAM ...   \n",
              "1326  Lead Software Test Automation Engineer – EPAM ...   \n",
              "1329  Lead Software Test Automation Engineer – EPAM ...   \n",
              "1390                         Quality Assurance Engineer   \n",
              "1398                        Lead Software Test Engineer   \n",
              "1411                                   Sr. SQA Engineer   \n",
              "1419                                   Sr. SQA Engineer   \n",
              "1484                          Lead DevOPS – MirTesen.ru   \n",
              "1502                    Lead DevOps Engineer – Т1.Сфера   \n",
              "1538                   Lead DevOps Specialist at IT_One   \n",
              "1539                   Lead DevOps Specialist at IT_One   \n",
              "1648  Frontend Developer | React, Redux, JavaScript,...   \n",
              "1653  Frontend Developer | React, Redux, JavaScript,...   \n",
              "1731  ML Engineer | Data Scientist | Python/Java/C++...   \n",
              "1758                   Lead / Senior Software Developer   \n",
              "1778                                  ML engineer at VK   \n",
              "2040               Senior Data Scientist / NLP Engineer   \n",
              "\n",
              "                                               works_at  \\\n",
              "71                                          All3dmodels   \n",
              "77                    ФГУП Главный радиочастотный центр   \n",
              "82                    ФГУП Главный радиочастотный центр   \n",
              "136                                                 ATG   \n",
              "138                                                Ruso   \n",
              "139                                                Ruso   \n",
              "159                                             Affarts   \n",
              "180                          Сейлз-хаус «Газпром-Медиа»   \n",
              "239                                            Пилигрим   \n",
              "240                                            Пилигрим   \n",
              "241                                            Пилигрим   \n",
              "263   Московский Технический Университет Связи и Инф...   \n",
              "305                                  ООО \"ВИН СОЛЮШЕНС\"   \n",
              "307                                  ООО \"ВИН СОЛЮШЕНС\"   \n",
              "341                                              I-Teco   \n",
              "393                                    Яндекс Практикум   \n",
              "453                                             Финолаб   \n",
              "517                                         SberDevices   \n",
              "519                                         SberDevices   \n",
              "588                          Higher School of Economics   \n",
              "607                                              РТК ИТ   \n",
              "617                                            Skillbox   \n",
              "742                                                KOJO   \n",
              "749                                                KOJO   \n",
              "770                                      SmartMechanica   \n",
              "776                                      SmartMechanica   \n",
              "809                                          ФКУ Соцтех   \n",
              "857                                          Azur Games   \n",
              "904                                          SKB-Online   \n",
              "906                                          SKB-Online   \n",
              "941                                         Иннотех ВТБ   \n",
              "948                                         Иннотех ВТБ   \n",
              "953                                         Иннотех ВТБ   \n",
              "1020                                             Inkitt   \n",
              "1071                                  OpenSolutions LLC   \n",
              "1111                                           Polygant   \n",
              "1319                                               IT2G   \n",
              "1323                                       EPAM Systems   \n",
              "1326                                       EPAM Systems   \n",
              "1329                                       EPAM Systems   \n",
              "1390                                    Freedom Finance   \n",
              "1398                                        GlobalLogic   \n",
              "1411                                   Align Technology   \n",
              "1419                                   Align Technology   \n",
              "1484                                        MirTesen.ru   \n",
              "1502                                        Т1 диджитал   \n",
              "1538                                             IT_One   \n",
              "1539                                             IT_One   \n",
              "1648                                                NaN   \n",
              "1653                                                NaN   \n",
              "1731                              Abiroy Business Group   \n",
              "1758                                            Rosbank   \n",
              "1778                                                 VK   \n",
              "2040                                         ANNA Money   \n",
              "\n",
              "                                                  intro  experience  \\\n",
              "71    Навыки: JavaScript · vue · nuxt · pinia · vuex...         3.0   \n",
              "77    I work on Angular. Also created business proje...         3.0   \n",
              "82    I work on Angular. Also created business proje...         3.0   \n",
              "136   Ищу работу на позицию frontend-разработчика, у...         1.0   \n",
              "138   Стек:Front-end: JS (ES6), React, Redux, TypeSc...         3.0   \n",
              "139   Стек:Front-end: JS (ES6), React, Redux, TypeSc...         3.0   \n",
              "159   Hi!My start on frontend \"road\" has begun sprin...         2.0   \n",
              "180   Хей) Я Fullstack разработчик, на фронтенде раб...         2.0   \n",
              "239   На предыдущем месте работы утратил интерес к е...         1.0   \n",
              "240   На предыдущем месте работы утратил интерес к е...         1.0   \n",
              "241   На предыдущем месте работы утратил интерес к е...         1.0   \n",
              "263   🥝🥝🥝I write Python code and build mechanical ke...         1.0   \n",
              "305   Highly motivated and experienced Python develo...         2.0   \n",
              "307   Highly motivated and experienced Python develo...         2.0   \n",
              "341   Открытый, достаточно общительный;Умею работать...         4.0   \n",
              "393   Привет, я Макс python - developerСейчас я изуч...         1.0   \n",
              "453   Kaggle: https://www.kaggle.com/ivanilyushchenk...        11.0   \n",
              "517   🟥 ml engineer (nlp, ml, backend, mlart)🟨 35 y/...         7.0   \n",
              "519   🟥 ml engineer (nlp, ml, backend, mlart)🟨 35 y/...         7.0   \n",
              "588   graphQL The big Picture.pdfgraphQL The big Pic...        11.0   \n",
              "607   DevOps engineer with experience in systems con...         6.0   \n",
              "617   Лидирую команду frontend разработчиков. Участв...       853.0   \n",
              "742   Javascript (ES6), React на хуках, css modules,...         6.0   \n",
              "749   Javascript (ES6), React на хуках, css modules,...         6.0   \n",
              "770   Всем привет!)Меня зовут Дмитрий.Я Frontend раз...         3.0   \n",
              "776   Всем привет!)Меня зовут Дмитрий.Я Frontend раз...         3.0   \n",
              "809   Development of internal company products.stack...         3.0   \n",
              "857   I'm Data Analyst at GameDev with a Product min...         5.0   \n",
              "904                      Dwh DevelopmentDwh Development         9.0   \n",
              "906                      Dwh DevelopmentDwh Development         9.0   \n",
              "941                                      dvbi.rudvbi.ru        10.0   \n",
              "948                                      dvbi.rudvbi.ru        10.0   \n",
              "953                                      dvbi.rudvbi.ru        10.0   \n",
              "1020  I am self-motivated individual, willing to lea...         7.0   \n",
              "1071  Я пишу программное обеспечение около 14 лет, 3...         7.0   \n",
              "1111  Consolidated experience on Web Project Managem...        15.0   \n",
              "1319  Неспешно рассматриваю вакансии QA- без релокац...         9.0   \n",
              "1323  Автоматизированное тестирование программного о...         9.0   \n",
              "1326  Автоматизированное тестирование программного о...         9.0   \n",
              "1329  Автоматизированное тестирование программного о...         9.0   \n",
              "1390  Experience in testing for more than three year...         4.0   \n",
              "1398                 QA at GlobalLogicQA at GlobalLogic        10.0   \n",
              "1411  Sr.Test engineer/SW engineer - Test LeadStrong...        10.0   \n",
              "1419  Sr.Test engineer/SW engineer - Test LeadStrong...        10.0   \n",
              "1484               Все цели достижимыВсе цели достижимы        13.0   \n",
              "1502  Hi, I'm Pavel. I solve problemsHi, I'm Pavel. ...         4.0   \n",
              "1538  Linux (Debian, CentOS)Cloud computing (Amazon ...         6.0   \n",
              "1539  Linux (Debian, CentOS)Cloud computing (Amazon ...         6.0   \n",
              "1648  3 года назад начала изучать Frontend-разработк...         1.0   \n",
              "1653  3 года назад начала изучать Frontend-разработк...         1.0   \n",
              "1731  About me:- Data Scientist with strong research...         8.0   \n",
              "1758  Considering lead and senior positions in Platf...         6.0   \n",
              "1778  Hi, I'm Mark! Student of math and  mechanics d...         2.0   \n",
              "2040  - четырехлетний опыт в сфере NLP- опыт вывода ...        11.0   \n",
              "\n",
              "                                           place  posts_cnt  \\\n",
              "71                  Республика Татарстан, Россия          4   \n",
              "77                        Москва, Москва, Россия         14   \n",
              "82                        Москва, Москва, Россия         14   \n",
              "136                                       Россия          3   \n",
              "138                       Москва, Москва, Россия          2   \n",
              "139                       Москва, Москва, Россия          2   \n",
              "159                                       Россия          3   \n",
              "180                       Москва, Москва, Россия          3   \n",
              "239         Рыбинск, Ярославская область, Россия          8   \n",
              "240         Рыбинск, Ярославская область, Россия          8   \n",
              "241         Рыбинск, Ярославская область, Россия          8   \n",
              "263                       Москва, Москва, Россия          4   \n",
              "305        Краснодар, Краснодарский край, Россия         10   \n",
              "307        Краснодар, Краснодарский край, Россия         10   \n",
              "341     Санкт-Петербург, Санкт-Петербург, Россия          1   \n",
              "393     Санкт-Петербург, Санкт-Петербург, Россия          2   \n",
              "453                       Москва, Москва, Россия          2   \n",
              "517                       Москва, Москва, Россия         64   \n",
              "519                       Москва, Москва, Россия         64   \n",
              "588                       Москва, Москва, Россия         18   \n",
              "607                                       Россия          8   \n",
              "617                       Москва, Москва, Россия          4   \n",
              "742     Санкт-Петербург, Санкт-Петербург, Россия         12   \n",
              "749     Санкт-Петербург, Санкт-Петербург, Россия         12   \n",
              "770                       Москва, Москва, Россия         64   \n",
              "776                       Москва, Москва, Россия         64   \n",
              "809                              Бали, Индонезия          2   \n",
              "857                        Подгорица, Черногория          2   \n",
              "904                                       Россия          3   \n",
              "906                                       Россия          3   \n",
              "941                                       Россия         37   \n",
              "948                                       Россия         37   \n",
              "953                                       Россия         37   \n",
              "1020                    Берлин, Берлин, Германия          5   \n",
              "1071                      Москва, Москва, Россия          3   \n",
              "1111                                      Россия          9   \n",
              "1319                                      Россия          3   \n",
              "1323                              Батуми, Грузия         60   \n",
              "1326                              Батуми, Грузия         60   \n",
              "1329                              Батуми, Грузия         60   \n",
              "1390                                      Россия          5   \n",
              "1398                   Нагпур, Махараштра, Индия         35   \n",
              "1411                      Москва, Москва, Россия          2   \n",
              "1419                      Москва, Москва, Россия          2   \n",
              "1484          Москва, Московская область, Россия          1   \n",
              "1502                   Иркутская область, Россия          2   \n",
              "1538                Агломерация Санкт-Петербурга          7   \n",
              "1539                Агломерация Санкт-Петербурга          7   \n",
              "1648    Санкт-Петербург, Санкт-Петербург, Россия        158   \n",
              "1653    Санкт-Петербург, Санкт-Петербург, Россия        158   \n",
              "1731    Санкт-Петербург, Санкт-Петербург, Россия         52   \n",
              "1758               Нижегородская область, Россия         12   \n",
              "1778  Екатеринбург, Свердловская область, Россия         10   \n",
              "2040                Таламанка, Лимон, Коста-Рика        308   \n",
              "\n",
              "                                              post_text  reaction_cnt  \\\n",
              "71                                       К-коварство)))           2.0   \n",
              "77                             Всем бодрого утра среды!           NaN   \n",
              "82                                           Жизненно 😁           NaN   \n",
              "136                          #humor#сПросторовИнтернета           7.0   \n",
              "138                                                   😁           1.0   \n",
              "139                             Что правда,  то правда)           5.0   \n",
              "159                 Шпаргалка по JavaScript #javascript           8.0   \n",
              "180         - Как у вас дела с С++?- Он меня ненавидит.           2.0   \n",
              "239                    звучит как план#it #memes #humor           3.0   \n",
              "240        найди одно маааленькое \"но\"#it #memes #humor           1.0   \n",
              "241       С просторов HeadHunter Group#it #memes #humor           2.0   \n",
              "263                                                   👏           4.0   \n",
              "305                                              😂😂😂👍👍👍           7.0   \n",
              "307                                                   👍           1.0   \n",
              "341             Обзор на мое портфолио от канала webDev           NaN   \n",
              "393                           print(\"Hello linkedin 🤓\")           NaN   \n",
              "453                                             Лого IT           NaN   \n",
              "517                         FinSpy — commercial spyware           NaN   \n",
              "519                        Data leak costs £183 million           NaN   \n",
              "588                          Не могла не поделиться ;-)           1.0   \n",
              "607                                            Amazing💪           NaN   \n",
              "617                                                   😄           4.0   \n",
              "742                     Шпаргалка по React Hooks #react           8.0   \n",
              "749                        Для себя и других Junior'ов)           NaN   \n",
              "770    Когда тестировщик заводит себе кота:#memes #cats           6.0   \n",
              "776                                              Шедевр           4.0   \n",
              "809                                      отличная шпора           4.0   \n",
              "857              Опытная команда аналитики прилагается!           4.0   \n",
              "904                    Looking for a job 😊#dwh #analyst           6.0   \n",
              "906                                     open to work  🙌           8.0   \n",
              "941                                       #ЛахтаЦентр-2           1.0   \n",
              "948                                             Юрий П.           4.0   \n",
              "953    НАВОДИМ ПОРЯДОК В ОТЧЕТАХhttps://lnkd.in/etx7_VB           1.0   \n",
              "1020           Приходите к нам в Маркет, у нас классно!           4.0   \n",
              "1071          Вот и получен долгожданный сертификат PMP           NaN   \n",
              "1111        Senior developers for £25 / hour | Polygant           NaN   \n",
              "1319                            #job #vacancy #вакансия           NaN   \n",
              "1323                       Рассмотрю новые предложения.           2.0   \n",
              "1326                    Рассмотрю предложения о работе.           6.0   \n",
              "1329    нужен кому автоматизатор с опытом? беру дорого.           NaN   \n",
              "1390       #coding #dev #testerTahir Dimiev Олег Иволга           4.0   \n",
              "1398                                                🤣🤣🤣           6.0   \n",
              "1411                                 Обожаю этот вопрос           6.0   \n",
              "1419                                 Обожаю этот вопрос           6.0   \n",
              "1484        https://lnkd.in/d2qJ3jHКак думаете, примут?           NaN   \n",
              "1502                        весенний митап ITsumma 2019           5.0   \n",
              "1538    Just finished the course “Linux: BIND and DNS”!           1.0   \n",
              "1539  Just finished the course “Learning CentOS Linux”!           NaN   \n",
              "1648                                             💛 JS 😁           2.0   \n",
              "1653                                  I love my cats 🐈🐈           8.0   \n",
              "1731                    Кандидат отправил)#scrum #скрам           9.0   \n",
              "1758                     Egor Sokhanev #отзыв #Спасибо!           2.0   \n",
              "1778                                Отличный cheatsheet           4.0   \n",
              "2040   MLCOURSE.AI - 28 местоhttps://mlcourse.ai/rating           NaN   \n",
              "\n",
              "      comments_cnt  repost_cnt  symbols  \n",
              "71             8.0         1.0       14  \n",
              "77             NaN         NaN       24  \n",
              "82             NaN         NaN       10  \n",
              "136            2.0         7.0       26  \n",
              "138            NaN         NaN        1  \n",
              "139            5.0         4.0       23  \n",
              "159            1.0         4.0       35  \n",
              "180            NaN         NaN       43  \n",
              "239            NaN         1.0       32  \n",
              "240            NaN         NaN       44  \n",
              "241            NaN         NaN       45  \n",
              "263            NaN         NaN        1  \n",
              "305            NaN         NaN        6  \n",
              "307            NaN         NaN        1  \n",
              "341            NaN         NaN       39  \n",
              "393            NaN         NaN       25  \n",
              "453            NaN         NaN        7  \n",
              "517            NaN         NaN       27  \n",
              "519            NaN         NaN       28  \n",
              "588            NaN         NaN       26  \n",
              "607            NaN         NaN        8  \n",
              "617            NaN         NaN        1  \n",
              "742            4.0         8.0       31  \n",
              "749            NaN         NaN       28  \n",
              "770            7.0         3.0       48  \n",
              "776            2.0         2.0        6  \n",
              "809            NaN         NaN       14  \n",
              "857            NaN         NaN       38  \n",
              "904            NaN         1.0       32  \n",
              "906            NaN         1.0       15  \n",
              "941            NaN         NaN       13  \n",
              "948            1.0         NaN        7  \n",
              "953            NaN         NaN       48  \n",
              "1020           NaN         NaN       40  \n",
              "1071           NaN         NaN       41  \n",
              "1111           NaN         1.0       43  \n",
              "1319           NaN         NaN       23  \n",
              "1323           NaN         NaN       28  \n",
              "1326           NaN         NaN       31  \n",
              "1329           NaN         NaN       47  \n",
              "1390           NaN         1.0       44  \n",
              "1398           1.0         NaN        3  \n",
              "1411           NaN         NaN       18  \n",
              "1419           NaN         NaN       18  \n",
              "1484           NaN         NaN       43  \n",
              "1502           NaN         NaN       27  \n",
              "1538           NaN         NaN       47  \n",
              "1539           NaN         NaN       49  \n",
              "1648           NaN         1.0        6  \n",
              "1653           2.0         NaN       17  \n",
              "1731           7.0         9.0       31  \n",
              "1758           NaN         NaN       30  \n",
              "1778           NaN         NaN       19  \n",
              "2040           NaN         NaN       48  "
            ],
            "text/html": [
              "\n",
              "  <div id=\"df-f754d873-0e15-4b7d-8e67-4c2d5673eda4\">\n",
              "    <div class=\"colab-df-container\">\n",
              "      <div>\n",
              "<style scoped>\n",
              "    .dataframe tbody tr th:only-of-type {\n",
              "        vertical-align: middle;\n",
              "    }\n",
              "\n",
              "    .dataframe tbody tr th {\n",
              "        vertical-align: top;\n",
              "    }\n",
              "\n",
              "    .dataframe thead th {\n",
              "        text-align: right;\n",
              "    }\n",
              "</style>\n",
              "<table border=\"1\" class=\"dataframe\">\n",
              "  <thead>\n",
              "    <tr style=\"text-align: right;\">\n",
              "      <th></th>\n",
              "      <th>account_link</th>\n",
              "      <th>search_keywords</th>\n",
              "      <th>name</th>\n",
              "      <th>title</th>\n",
              "      <th>works_at</th>\n",
              "      <th>intro</th>\n",
              "      <th>experience</th>\n",
              "      <th>place</th>\n",
              "      <th>posts_cnt</th>\n",
              "      <th>post_text</th>\n",
              "      <th>reaction_cnt</th>\n",
              "      <th>comments_cnt</th>\n",
              "      <th>repost_cnt</th>\n",
              "      <th>symbols</th>\n",
              "    </tr>\n",
              "  </thead>\n",
              "  <tbody>\n",
              "    <tr>\n",
              "      <th>71</th>\n",
              "      <td>https://www.linkedin.com/in/valeriy-nepluev-89...</td>\n",
              "      <td>frontend</td>\n",
              "      <td>Valeriy Nepluev</td>\n",
              "      <td>Frontend Engineer - Vue.js, Nuxt, Pinia, Vuex,...</td>\n",
              "      <td>All3dmodels</td>\n",
              "      <td>Навыки: JavaScript · vue · nuxt · pinia · vuex...</td>\n",
              "      <td>3.0</td>\n",
              "      <td>Республика Татарстан, Россия</td>\n",
              "      <td>4</td>\n",
              "      <td>К-коварство)))</td>\n",
              "      <td>2.0</td>\n",
              "      <td>8.0</td>\n",
              "      <td>1.0</td>\n",
              "      <td>14</td>\n",
              "    </tr>\n",
              "    <tr>\n",
              "      <th>77</th>\n",
              "      <td>https://www.linkedin.com/in/oleg-kozlov-4191a0217</td>\n",
              "      <td>frontend</td>\n",
              "      <td>Oleg Kozlov</td>\n",
              "      <td>Middle Frontend Developer</td>\n",
              "      <td>ФГУП Главный радиочастотный центр</td>\n",
              "      <td>I work on Angular. Also created business proje...</td>\n",
              "      <td>3.0</td>\n",
              "      <td>Москва, Москва, Россия</td>\n",
              "      <td>14</td>\n",
              "      <td>Всем бодрого утра среды!</td>\n",
              "      <td>NaN</td>\n",
              "      <td>NaN</td>\n",
              "      <td>NaN</td>\n",
              "      <td>24</td>\n",
              "    </tr>\n",
              "    <tr>\n",
              "      <th>82</th>\n",
              "      <td>https://www.linkedin.com/in/oleg-kozlov-4191a0217</td>\n",
              "      <td>frontend</td>\n",
              "      <td>Oleg Kozlov</td>\n",
              "      <td>Middle Frontend Developer</td>\n",
              "      <td>ФГУП Главный радиочастотный центр</td>\n",
              "      <td>I work on Angular. Also created business proje...</td>\n",
              "      <td>3.0</td>\n",
              "      <td>Москва, Москва, Россия</td>\n",
              "      <td>14</td>\n",
              "      <td>Жизненно 😁</td>\n",
              "      <td>NaN</td>\n",
              "      <td>NaN</td>\n",
              "      <td>NaN</td>\n",
              "      <td>10</td>\n",
              "    </tr>\n",
              "    <tr>\n",
              "      <th>136</th>\n",
              "      <td>https://www.linkedin.com/in/sergeyromanovv</td>\n",
              "      <td>frontend</td>\n",
              "      <td>Sergey Romanov</td>\n",
              "      <td>Frontend Developer experienced in Agile web de...</td>\n",
              "      <td>ATG</td>\n",
              "      <td>Ищу работу на позицию frontend-разработчика, у...</td>\n",
              "      <td>1.0</td>\n",
              "      <td>Россия</td>\n",
              "      <td>3</td>\n",
              "      <td>#humor#сПросторовИнтернета</td>\n",
              "      <td>7.0</td>\n",
              "      <td>2.0</td>\n",
              "      <td>7.0</td>\n",
              "      <td>26</td>\n",
              "    </tr>\n",
              "    <tr>\n",
              "      <th>138</th>\n",
              "      <td>https://www.linkedin.com/in/alenasafronova</td>\n",
              "      <td>frontend</td>\n",
              "      <td>Алена Сафронова</td>\n",
              "      <td>Frontend Developer (React, Redux, JS)</td>\n",
              "      <td>Ruso</td>\n",
              "      <td>Стек:Front-end: JS (ES6), React, Redux, TypeSc...</td>\n",
              "      <td>3.0</td>\n",
              "      <td>Москва, Москва, Россия</td>\n",
              "      <td>2</td>\n",
              "      <td>😁</td>\n",
              "      <td>1.0</td>\n",
              "      <td>NaN</td>\n",
              "      <td>NaN</td>\n",
              "      <td>1</td>\n",
              "    </tr>\n",
              "    <tr>\n",
              "      <th>139</th>\n",
              "      <td>https://www.linkedin.com/in/alenasafronova</td>\n",
              "      <td>frontend</td>\n",
              "      <td>Алена Сафронова</td>\n",
              "      <td>Frontend Developer (React, Redux, JS)</td>\n",
              "      <td>Ruso</td>\n",
              "      <td>Стек:Front-end: JS (ES6), React, Redux, TypeSc...</td>\n",
              "      <td>3.0</td>\n",
              "      <td>Москва, Москва, Россия</td>\n",
              "      <td>2</td>\n",
              "      <td>Что правда,  то правда)</td>\n",
              "      <td>5.0</td>\n",
              "      <td>5.0</td>\n",
              "      <td>4.0</td>\n",
              "      <td>23</td>\n",
              "    </tr>\n",
              "    <tr>\n",
              "      <th>159</th>\n",
              "      <td>https://www.linkedin.com/in/baremantar</td>\n",
              "      <td>frontend</td>\n",
              "      <td>Timur Asanov</td>\n",
              "      <td>Frontend developer</td>\n",
              "      <td>Affarts</td>\n",
              "      <td>Hi!My start on frontend \"road\" has begun sprin...</td>\n",
              "      <td>2.0</td>\n",
              "      <td>Россия</td>\n",
              "      <td>3</td>\n",
              "      <td>Шпаргалка по JavaScript #javascript</td>\n",
              "      <td>8.0</td>\n",
              "      <td>1.0</td>\n",
              "      <td>4.0</td>\n",
              "      <td>35</td>\n",
              "    </tr>\n",
              "    <tr>\n",
              "      <th>180</th>\n",
              "      <td>https://www.linkedin.com/in/%D0%B0%D0%BB%D0%B5...</td>\n",
              "      <td>frontend</td>\n",
              "      <td>Алексей Риконвальд</td>\n",
              "      <td>Frontend React / Backend .Net Developer</td>\n",
              "      <td>Сейлз-хаус «Газпром-Медиа»</td>\n",
              "      <td>Хей) Я Fullstack разработчик, на фронтенде раб...</td>\n",
              "      <td>2.0</td>\n",
              "      <td>Москва, Москва, Россия</td>\n",
              "      <td>3</td>\n",
              "      <td>- Как у вас дела с С++?- Он меня ненавидит.</td>\n",
              "      <td>2.0</td>\n",
              "      <td>NaN</td>\n",
              "      <td>NaN</td>\n",
              "      <td>43</td>\n",
              "    </tr>\n",
              "    <tr>\n",
              "      <th>239</th>\n",
              "      <td>https://www.linkedin.com/in/denyacore</td>\n",
              "      <td>backend</td>\n",
              "      <td>Денис Шестиперов</td>\n",
              "      <td>Python Developer | backend</td>\n",
              "      <td>Пилигрим</td>\n",
              "      <td>На предыдущем месте работы утратил интерес к е...</td>\n",
              "      <td>1.0</td>\n",
              "      <td>Рыбинск, Ярославская область, Россия</td>\n",
              "      <td>8</td>\n",
              "      <td>звучит как план#it #memes #humor</td>\n",
              "      <td>3.0</td>\n",
              "      <td>NaN</td>\n",
              "      <td>1.0</td>\n",
              "      <td>32</td>\n",
              "    </tr>\n",
              "    <tr>\n",
              "      <th>240</th>\n",
              "      <td>https://www.linkedin.com/in/denyacore</td>\n",
              "      <td>backend</td>\n",
              "      <td>Денис Шестиперов</td>\n",
              "      <td>Python Developer | backend</td>\n",
              "      <td>Пилигрим</td>\n",
              "      <td>На предыдущем месте работы утратил интерес к е...</td>\n",
              "      <td>1.0</td>\n",
              "      <td>Рыбинск, Ярославская область, Россия</td>\n",
              "      <td>8</td>\n",
              "      <td>найди одно маааленькое \"но\"#it #memes #humor</td>\n",
              "      <td>1.0</td>\n",
              "      <td>NaN</td>\n",
              "      <td>NaN</td>\n",
              "      <td>44</td>\n",
              "    </tr>\n",
              "    <tr>\n",
              "      <th>241</th>\n",
              "      <td>https://www.linkedin.com/in/denyacore</td>\n",
              "      <td>backend</td>\n",
              "      <td>Денис Шестиперов</td>\n",
              "      <td>Python Developer | backend</td>\n",
              "      <td>Пилигрим</td>\n",
              "      <td>На предыдущем месте работы утратил интерес к е...</td>\n",
              "      <td>1.0</td>\n",
              "      <td>Рыбинск, Ярославская область, Россия</td>\n",
              "      <td>8</td>\n",
              "      <td>С просторов HeadHunter Group#it #memes #humor</td>\n",
              "      <td>2.0</td>\n",
              "      <td>NaN</td>\n",
              "      <td>NaN</td>\n",
              "      <td>45</td>\n",
              "    </tr>\n",
              "    <tr>\n",
              "      <th>263</th>\n",
              "      <td>https://www.linkedin.com/in/sukhanenkov</td>\n",
              "      <td>backend</td>\n",
              "      <td>Ilya Sukhanenkov</td>\n",
              "      <td>Python Developer</td>\n",
              "      <td>Московский Технический Университет Связи и Инф...</td>\n",
              "      <td>🥝🥝🥝I write Python code and build mechanical ke...</td>\n",
              "      <td>1.0</td>\n",
              "      <td>Москва, Москва, Россия</td>\n",
              "      <td>4</td>\n",
              "      <td>👏</td>\n",
              "      <td>4.0</td>\n",
              "      <td>NaN</td>\n",
              "      <td>NaN</td>\n",
              "      <td>1</td>\n",
              "    </tr>\n",
              "    <tr>\n",
              "      <th>305</th>\n",
              "      <td>https://www.linkedin.com/in/devhak</td>\n",
              "      <td>backend</td>\n",
              "      <td>Hakob Jevahiryan</td>\n",
              "      <td>Backend Engineer</td>\n",
              "      <td>ООО \"ВИН СОЛЮШЕНС\"</td>\n",
              "      <td>Highly motivated and experienced Python develo...</td>\n",
              "      <td>2.0</td>\n",
              "      <td>Краснодар, Краснодарский край, Россия</td>\n",
              "      <td>10</td>\n",
              "      <td>😂😂😂👍👍👍</td>\n",
              "      <td>7.0</td>\n",
              "      <td>NaN</td>\n",
              "      <td>NaN</td>\n",
              "      <td>6</td>\n",
              "    </tr>\n",
              "    <tr>\n",
              "      <th>307</th>\n",
              "      <td>https://www.linkedin.com/in/devhak</td>\n",
              "      <td>backend</td>\n",
              "      <td>Hakob Jevahiryan</td>\n",
              "      <td>Backend Engineer</td>\n",
              "      <td>ООО \"ВИН СОЛЮШЕНС\"</td>\n",
              "      <td>Highly motivated and experienced Python develo...</td>\n",
              "      <td>2.0</td>\n",
              "      <td>Краснодар, Краснодарский край, Россия</td>\n",
              "      <td>10</td>\n",
              "      <td>👍</td>\n",
              "      <td>1.0</td>\n",
              "      <td>NaN</td>\n",
              "      <td>NaN</td>\n",
              "      <td>1</td>\n",
              "    </tr>\n",
              "    <tr>\n",
              "      <th>341</th>\n",
              "      <td>https://www.linkedin.com/in/artem-gumarov-7132...</td>\n",
              "      <td>frontend</td>\n",
              "      <td>Artem Gumarov</td>\n",
              "      <td>Frontend Developer (React)</td>\n",
              "      <td>I-Teco</td>\n",
              "      <td>Открытый, достаточно общительный;Умею работать...</td>\n",
              "      <td>4.0</td>\n",
              "      <td>Санкт-Петербург, Санкт-Петербург, Россия</td>\n",
              "      <td>1</td>\n",
              "      <td>Обзор на мое портфолио от канала webDev</td>\n",
              "      <td>NaN</td>\n",
              "      <td>NaN</td>\n",
              "      <td>NaN</td>\n",
              "      <td>39</td>\n",
              "    </tr>\n",
              "    <tr>\n",
              "      <th>393</th>\n",
              "      <td>https://www.linkedin.com/in/maks-alekseev</td>\n",
              "      <td>backend</td>\n",
              "      <td>Maksim Alekseev</td>\n",
              "      <td>Python Developer (backend) | Python, Django, P...</td>\n",
              "      <td>Яндекс Практикум</td>\n",
              "      <td>Привет, я Макс python - developerСейчас я изуч...</td>\n",
              "      <td>1.0</td>\n",
              "      <td>Санкт-Петербург, Санкт-Петербург, Россия</td>\n",
              "      <td>2</td>\n",
              "      <td>print(\"Hello linkedin 🤓\")</td>\n",
              "      <td>NaN</td>\n",
              "      <td>NaN</td>\n",
              "      <td>NaN</td>\n",
              "      <td>25</td>\n",
              "    </tr>\n",
              "    <tr>\n",
              "      <th>453</th>\n",
              "      <td>https://www.linkedin.com/in/ivan-ilushenko</td>\n",
              "      <td>ML engineer</td>\n",
              "      <td>Ivan Ilushenko</td>\n",
              "      <td>ML engineer</td>\n",
              "      <td>Финолаб</td>\n",
              "      <td>Kaggle: https://www.kaggle.com/ivanilyushchenk...</td>\n",
              "      <td>11.0</td>\n",
              "      <td>Москва, Москва, Россия</td>\n",
              "      <td>2</td>\n",
              "      <td>Лого IT</td>\n",
              "      <td>NaN</td>\n",
              "      <td>NaN</td>\n",
              "      <td>NaN</td>\n",
              "      <td>7</td>\n",
              "    </tr>\n",
              "    <tr>\n",
              "      <th>517</th>\n",
              "      <td>https://www.linkedin.com/in/averkieff</td>\n",
              "      <td>ML engineer</td>\n",
              "      <td>Sergei Averkiev</td>\n",
              "      <td>Senior ML Engineer — SberDevices</td>\n",
              "      <td>SberDevices</td>\n",
              "      <td>🟥 ml engineer (nlp, ml, backend, mlart)🟨 35 y/...</td>\n",
              "      <td>7.0</td>\n",
              "      <td>Москва, Москва, Россия</td>\n",
              "      <td>64</td>\n",
              "      <td>FinSpy — commercial spyware</td>\n",
              "      <td>NaN</td>\n",
              "      <td>NaN</td>\n",
              "      <td>NaN</td>\n",
              "      <td>27</td>\n",
              "    </tr>\n",
              "    <tr>\n",
              "      <th>519</th>\n",
              "      <td>https://www.linkedin.com/in/averkieff</td>\n",
              "      <td>ML engineer</td>\n",
              "      <td>Sergei Averkiev</td>\n",
              "      <td>Senior ML Engineer — SberDevices</td>\n",
              "      <td>SberDevices</td>\n",
              "      <td>🟥 ml engineer (nlp, ml, backend, mlart)🟨 35 y/...</td>\n",
              "      <td>7.0</td>\n",
              "      <td>Москва, Москва, Россия</td>\n",
              "      <td>64</td>\n",
              "      <td>Data leak costs £183 million</td>\n",
              "      <td>NaN</td>\n",
              "      <td>NaN</td>\n",
              "      <td>NaN</td>\n",
              "      <td>28</td>\n",
              "    </tr>\n",
              "    <tr>\n",
              "      <th>588</th>\n",
              "      <td>https://www.linkedin.com/in/natalya-n-tsareva</td>\n",
              "      <td>senior QA engineer</td>\n",
              "      <td>Natalia Tsareva</td>\n",
              "      <td>Head Of QA</td>\n",
              "      <td>Higher School of Economics</td>\n",
              "      <td>graphQL The big Picture.pdfgraphQL The big Pic...</td>\n",
              "      <td>11.0</td>\n",
              "      <td>Москва, Москва, Россия</td>\n",
              "      <td>18</td>\n",
              "      <td>Не могла не поделиться ;-)</td>\n",
              "      <td>1.0</td>\n",
              "      <td>NaN</td>\n",
              "      <td>NaN</td>\n",
              "      <td>26</td>\n",
              "    </tr>\n",
              "    <tr>\n",
              "      <th>607</th>\n",
              "      <td>https://www.linkedin.com/in/gennady-korolev-57...</td>\n",
              "      <td>senior devops</td>\n",
              "      <td>Gennady Korolev</td>\n",
              "      <td>Senior DevOps engineer</td>\n",
              "      <td>РТК ИТ</td>\n",
              "      <td>DevOps engineer with experience in systems con...</td>\n",
              "      <td>6.0</td>\n",
              "      <td>Россия</td>\n",
              "      <td>8</td>\n",
              "      <td>Amazing💪</td>\n",
              "      <td>NaN</td>\n",
              "      <td>NaN</td>\n",
              "      <td>NaN</td>\n",
              "      <td>8</td>\n",
              "    </tr>\n",
              "    <tr>\n",
              "      <th>617</th>\n",
              "      <td>https://www.linkedin.com/in/ivan-kazantsev-993...</td>\n",
              "      <td>lead frontend</td>\n",
              "      <td>Ivan Kazantsev</td>\n",
              "      <td>Team Lead Frontend at Skillbox</td>\n",
              "      <td>Skillbox</td>\n",
              "      <td>Лидирую команду frontend разработчиков. Участв...</td>\n",
              "      <td>853.0</td>\n",
              "      <td>Москва, Москва, Россия</td>\n",
              "      <td>4</td>\n",
              "      <td>😄</td>\n",
              "      <td>4.0</td>\n",
              "      <td>NaN</td>\n",
              "      <td>NaN</td>\n",
              "      <td>1</td>\n",
              "    </tr>\n",
              "    <tr>\n",
              "      <th>742</th>\n",
              "      <td>https://www.linkedin.com/in/teacher-cheater-48...</td>\n",
              "      <td>frontend</td>\n",
              "      <td>Евгений Некипелов</td>\n",
              "      <td>Frontend Web Developer в компании KOJO</td>\n",
              "      <td>KOJO</td>\n",
              "      <td>Javascript (ES6), React на хуках, css modules,...</td>\n",
              "      <td>6.0</td>\n",
              "      <td>Санкт-Петербург, Санкт-Петербург, Россия</td>\n",
              "      <td>12</td>\n",
              "      <td>Шпаргалка по React Hooks #react</td>\n",
              "      <td>8.0</td>\n",
              "      <td>4.0</td>\n",
              "      <td>8.0</td>\n",
              "      <td>31</td>\n",
              "    </tr>\n",
              "    <tr>\n",
              "      <th>749</th>\n",
              "      <td>https://www.linkedin.com/in/teacher-cheater-48...</td>\n",
              "      <td>frontend</td>\n",
              "      <td>Евгений Некипелов</td>\n",
              "      <td>Frontend Web Developer в компании KOJO</td>\n",
              "      <td>KOJO</td>\n",
              "      <td>Javascript (ES6), React на хуках, css modules,...</td>\n",
              "      <td>6.0</td>\n",
              "      <td>Санкт-Петербург, Санкт-Петербург, Россия</td>\n",
              "      <td>12</td>\n",
              "      <td>Для себя и других Junior'ов)</td>\n",
              "      <td>NaN</td>\n",
              "      <td>NaN</td>\n",
              "      <td>NaN</td>\n",
              "      <td>28</td>\n",
              "    </tr>\n",
              "    <tr>\n",
              "      <th>770</th>\n",
              "      <td>https://www.linkedin.com/in/dm-bychkov</td>\n",
              "      <td>frontend</td>\n",
              "      <td>Dmitrii Bychkov ✅</td>\n",
              "      <td>Frontend Web Developer | JavaScript | TypeScri...</td>\n",
              "      <td>SmartMechanica</td>\n",
              "      <td>Всем привет!)Меня зовут Дмитрий.Я Frontend раз...</td>\n",
              "      <td>3.0</td>\n",
              "      <td>Москва, Москва, Россия</td>\n",
              "      <td>64</td>\n",
              "      <td>Когда тестировщик заводит себе кота:#memes #cats</td>\n",
              "      <td>6.0</td>\n",
              "      <td>7.0</td>\n",
              "      <td>3.0</td>\n",
              "      <td>48</td>\n",
              "    </tr>\n",
              "    <tr>\n",
              "      <th>776</th>\n",
              "      <td>https://www.linkedin.com/in/dm-bychkov</td>\n",
              "      <td>frontend</td>\n",
              "      <td>Dmitrii Bychkov ✅</td>\n",
              "      <td>Frontend Web Developer | JavaScript | TypeScri...</td>\n",
              "      <td>SmartMechanica</td>\n",
              "      <td>Всем привет!)Меня зовут Дмитрий.Я Frontend раз...</td>\n",
              "      <td>3.0</td>\n",
              "      <td>Москва, Москва, Россия</td>\n",
              "      <td>64</td>\n",
              "      <td>Шедевр</td>\n",
              "      <td>4.0</td>\n",
              "      <td>2.0</td>\n",
              "      <td>2.0</td>\n",
              "      <td>6</td>\n",
              "    </tr>\n",
              "    <tr>\n",
              "      <th>809</th>\n",
              "      <td>https://www.linkedin.com/in/nikita-balykin-b01...</td>\n",
              "      <td>frontend</td>\n",
              "      <td>Nikita Balykin</td>\n",
              "      <td>Frontend Web Developer</td>\n",
              "      <td>ФКУ Соцтех</td>\n",
              "      <td>Development of internal company products.stack...</td>\n",
              "      <td>3.0</td>\n",
              "      <td>Бали, Индонезия</td>\n",
              "      <td>2</td>\n",
              "      <td>отличная шпора</td>\n",
              "      <td>4.0</td>\n",
              "      <td>NaN</td>\n",
              "      <td>NaN</td>\n",
              "      <td>14</td>\n",
              "    </tr>\n",
              "    <tr>\n",
              "      <th>857</th>\n",
              "      <td>https://www.linkedin.com/in/aleksey-platonov-9...</td>\n",
              "      <td>lead data analyst</td>\n",
              "      <td>Aleksey Platonov</td>\n",
              "      <td>Team Lead Data Analyst | Product Analyst – Azu...</td>\n",
              "      <td>Azur Games</td>\n",
              "      <td>I'm Data Analyst at GameDev with a Product min...</td>\n",
              "      <td>5.0</td>\n",
              "      <td>Подгорица, Черногория</td>\n",
              "      <td>2</td>\n",
              "      <td>Опытная команда аналитики прилагается!</td>\n",
              "      <td>4.0</td>\n",
              "      <td>NaN</td>\n",
              "      <td>NaN</td>\n",
              "      <td>38</td>\n",
              "    </tr>\n",
              "    <tr>\n",
              "      <th>904</th>\n",
              "      <td>https://www.linkedin.com/in/serejkaaa</td>\n",
              "      <td>lead data analyst</td>\n",
              "      <td>Sergei Kogai</td>\n",
              "      <td>Lead DWH Analyst, Data Architect</td>\n",
              "      <td>SKB-Online</td>\n",
              "      <td>Dwh DevelopmentDwh Development</td>\n",
              "      <td>9.0</td>\n",
              "      <td>Россия</td>\n",
              "      <td>3</td>\n",
              "      <td>Looking for a job 😊#dwh #analyst</td>\n",
              "      <td>6.0</td>\n",
              "      <td>NaN</td>\n",
              "      <td>1.0</td>\n",
              "      <td>32</td>\n",
              "    </tr>\n",
              "    <tr>\n",
              "      <th>906</th>\n",
              "      <td>https://www.linkedin.com/in/serejkaaa</td>\n",
              "      <td>lead data analyst</td>\n",
              "      <td>Sergei Kogai</td>\n",
              "      <td>Lead DWH Analyst, Data Architect</td>\n",
              "      <td>SKB-Online</td>\n",
              "      <td>Dwh DevelopmentDwh Development</td>\n",
              "      <td>9.0</td>\n",
              "      <td>Россия</td>\n",
              "      <td>3</td>\n",
              "      <td>open to work  🙌</td>\n",
              "      <td>8.0</td>\n",
              "      <td>NaN</td>\n",
              "      <td>1.0</td>\n",
              "      <td>15</td>\n",
              "    </tr>\n",
              "    <tr>\n",
              "      <th>941</th>\n",
              "      <td>https://www.linkedin.com/in/yuzhakova</td>\n",
              "      <td>lead data analyst</td>\n",
              "      <td>Александр (Youzhakov Alexander) Южаков</td>\n",
              "      <td>Data Architect</td>\n",
              "      <td>Иннотех ВТБ</td>\n",
              "      <td>dvbi.rudvbi.ru</td>\n",
              "      <td>10.0</td>\n",
              "      <td>Россия</td>\n",
              "      <td>37</td>\n",
              "      <td>#ЛахтаЦентр-2</td>\n",
              "      <td>1.0</td>\n",
              "      <td>NaN</td>\n",
              "      <td>NaN</td>\n",
              "      <td>13</td>\n",
              "    </tr>\n",
              "    <tr>\n",
              "      <th>948</th>\n",
              "      <td>https://www.linkedin.com/in/yuzhakova</td>\n",
              "      <td>lead data analyst</td>\n",
              "      <td>Александр (Youzhakov Alexander) Южаков</td>\n",
              "      <td>Data Architect</td>\n",
              "      <td>Иннотех ВТБ</td>\n",
              "      <td>dvbi.rudvbi.ru</td>\n",
              "      <td>10.0</td>\n",
              "      <td>Россия</td>\n",
              "      <td>37</td>\n",
              "      <td>Юрий П.</td>\n",
              "      <td>4.0</td>\n",
              "      <td>1.0</td>\n",
              "      <td>NaN</td>\n",
              "      <td>7</td>\n",
              "    </tr>\n",
              "    <tr>\n",
              "      <th>953</th>\n",
              "      <td>https://www.linkedin.com/in/yuzhakova</td>\n",
              "      <td>lead data analyst</td>\n",
              "      <td>Александр (Youzhakov Alexander) Южаков</td>\n",
              "      <td>Data Architect</td>\n",
              "      <td>Иннотех ВТБ</td>\n",
              "      <td>dvbi.rudvbi.ru</td>\n",
              "      <td>10.0</td>\n",
              "      <td>Россия</td>\n",
              "      <td>37</td>\n",
              "      <td>НАВОДИМ ПОРЯДОК В ОТЧЕТАХhttps://lnkd.in/etx7_VB</td>\n",
              "      <td>1.0</td>\n",
              "      <td>NaN</td>\n",
              "      <td>NaN</td>\n",
              "      <td>48</td>\n",
              "    </tr>\n",
              "    <tr>\n",
              "      <th>1020</th>\n",
              "      <td>https://www.linkedin.com/in/ilona-akhmetsafina</td>\n",
              "      <td>lead data analyst</td>\n",
              "      <td>Ilona Akhmetsafina</td>\n",
              "      <td>Lead Data Analyst at Inkitt, ex-Yandex</td>\n",
              "      <td>Inkitt</td>\n",
              "      <td>I am self-motivated individual, willing to lea...</td>\n",
              "      <td>7.0</td>\n",
              "      <td>Берлин, Берлин, Германия</td>\n",
              "      <td>5</td>\n",
              "      <td>Приходите к нам в Маркет, у нас классно!</td>\n",
              "      <td>4.0</td>\n",
              "      <td>NaN</td>\n",
              "      <td>NaN</td>\n",
              "      <td>40</td>\n",
              "    </tr>\n",
              "    <tr>\n",
              "      <th>1071</th>\n",
              "      <td>https://www.linkedin.com/in/ilyanikishin</td>\n",
              "      <td>lead web developer</td>\n",
              "      <td>Илья Никишин</td>\n",
              "      <td>Full Stack Web Developer/Team Lead</td>\n",
              "      <td>OpenSolutions LLC</td>\n",
              "      <td>Я пишу программное обеспечение около 14 лет, 3...</td>\n",
              "      <td>7.0</td>\n",
              "      <td>Москва, Москва, Россия</td>\n",
              "      <td>3</td>\n",
              "      <td>Вот и получен долгожданный сертификат PMP</td>\n",
              "      <td>NaN</td>\n",
              "      <td>NaN</td>\n",
              "      <td>NaN</td>\n",
              "      <td>41</td>\n",
              "    </tr>\n",
              "    <tr>\n",
              "      <th>1111</th>\n",
              "      <td>https://www.linkedin.com/in/rovechkin</td>\n",
              "      <td>lead web developer</td>\n",
              "      <td>Roman Ovechkin</td>\n",
              "      <td>Senior web developer</td>\n",
              "      <td>Polygant</td>\n",
              "      <td>Consolidated experience on Web Project Managem...</td>\n",
              "      <td>15.0</td>\n",
              "      <td>Россия</td>\n",
              "      <td>9</td>\n",
              "      <td>Senior developers for £25 / hour | Polygant</td>\n",
              "      <td>NaN</td>\n",
              "      <td>NaN</td>\n",
              "      <td>1.0</td>\n",
              "      <td>43</td>\n",
              "    </tr>\n",
              "    <tr>\n",
              "      <th>1319</th>\n",
              "      <td>https://www.linkedin.com/in/natalia-koroleva-7...</td>\n",
              "      <td>lead test engineer</td>\n",
              "      <td>Natalia Koroleva</td>\n",
              "      <td>MANUAL QA</td>\n",
              "      <td>IT2G</td>\n",
              "      <td>Неспешно рассматриваю вакансии QA- без релокац...</td>\n",
              "      <td>9.0</td>\n",
              "      <td>Россия</td>\n",
              "      <td>3</td>\n",
              "      <td>#job #vacancy #вакансия</td>\n",
              "      <td>NaN</td>\n",
              "      <td>NaN</td>\n",
              "      <td>NaN</td>\n",
              "      <td>23</td>\n",
              "    </tr>\n",
              "    <tr>\n",
              "      <th>1323</th>\n",
              "      <td>https://www.linkedin.com/in/denis-chulkov-8686...</td>\n",
              "      <td>lead test engineer</td>\n",
              "      <td>Denis Chulkov</td>\n",
              "      <td>Lead Software Test Automation Engineer – EPAM ...</td>\n",
              "      <td>EPAM Systems</td>\n",
              "      <td>Автоматизированное тестирование программного о...</td>\n",
              "      <td>9.0</td>\n",
              "      <td>Батуми, Грузия</td>\n",
              "      <td>60</td>\n",
              "      <td>Рассмотрю новые предложения.</td>\n",
              "      <td>2.0</td>\n",
              "      <td>NaN</td>\n",
              "      <td>NaN</td>\n",
              "      <td>28</td>\n",
              "    </tr>\n",
              "    <tr>\n",
              "      <th>1326</th>\n",
              "      <td>https://www.linkedin.com/in/denis-chulkov-8686...</td>\n",
              "      <td>lead test engineer</td>\n",
              "      <td>Denis Chulkov</td>\n",
              "      <td>Lead Software Test Automation Engineer – EPAM ...</td>\n",
              "      <td>EPAM Systems</td>\n",
              "      <td>Автоматизированное тестирование программного о...</td>\n",
              "      <td>9.0</td>\n",
              "      <td>Батуми, Грузия</td>\n",
              "      <td>60</td>\n",
              "      <td>Рассмотрю предложения о работе.</td>\n",
              "      <td>6.0</td>\n",
              "      <td>NaN</td>\n",
              "      <td>NaN</td>\n",
              "      <td>31</td>\n",
              "    </tr>\n",
              "    <tr>\n",
              "      <th>1329</th>\n",
              "      <td>https://www.linkedin.com/in/denis-chulkov-8686...</td>\n",
              "      <td>lead test engineer</td>\n",
              "      <td>Denis Chulkov</td>\n",
              "      <td>Lead Software Test Automation Engineer – EPAM ...</td>\n",
              "      <td>EPAM Systems</td>\n",
              "      <td>Автоматизированное тестирование программного о...</td>\n",
              "      <td>9.0</td>\n",
              "      <td>Батуми, Грузия</td>\n",
              "      <td>60</td>\n",
              "      <td>нужен кому автоматизатор с опытом? беру дорого.</td>\n",
              "      <td>NaN</td>\n",
              "      <td>NaN</td>\n",
              "      <td>NaN</td>\n",
              "      <td>47</td>\n",
              "    </tr>\n",
              "    <tr>\n",
              "      <th>1390</th>\n",
              "      <td>https://www.linkedin.com/in/valerii-kalinin-40...</td>\n",
              "      <td>lead test engineer</td>\n",
              "      <td>Valerii Kalinin</td>\n",
              "      <td>Quality Assurance Engineer</td>\n",
              "      <td>Freedom Finance</td>\n",
              "      <td>Experience in testing for more than three year...</td>\n",
              "      <td>4.0</td>\n",
              "      <td>Россия</td>\n",
              "      <td>5</td>\n",
              "      <td>#coding #dev #testerTahir Dimiev Олег Иволга</td>\n",
              "      <td>4.0</td>\n",
              "      <td>NaN</td>\n",
              "      <td>1.0</td>\n",
              "      <td>44</td>\n",
              "    </tr>\n",
              "    <tr>\n",
              "      <th>1398</th>\n",
              "      <td>https://www.linkedin.com/in/vinod-muneshwar-21...</td>\n",
              "      <td>lead test engineer</td>\n",
              "      <td>Vinod Muneshwar</td>\n",
              "      <td>Lead Software Test Engineer</td>\n",
              "      <td>GlobalLogic</td>\n",
              "      <td>QA at GlobalLogicQA at GlobalLogic</td>\n",
              "      <td>10.0</td>\n",
              "      <td>Нагпур, Махараштра, Индия</td>\n",
              "      <td>35</td>\n",
              "      <td>🤣🤣🤣</td>\n",
              "      <td>6.0</td>\n",
              "      <td>1.0</td>\n",
              "      <td>NaN</td>\n",
              "      <td>3</td>\n",
              "    </tr>\n",
              "    <tr>\n",
              "      <th>1411</th>\n",
              "      <td>https://www.linkedin.com/in/dina-rozhkova-1b21...</td>\n",
              "      <td>lead test engineer</td>\n",
              "      <td>Dina Rozhkova</td>\n",
              "      <td>Sr. SQA Engineer</td>\n",
              "      <td>Align Technology</td>\n",
              "      <td>Sr.Test engineer/SW engineer - Test LeadStrong...</td>\n",
              "      <td>10.0</td>\n",
              "      <td>Москва, Москва, Россия</td>\n",
              "      <td>2</td>\n",
              "      <td>Обожаю этот вопрос</td>\n",
              "      <td>6.0</td>\n",
              "      <td>NaN</td>\n",
              "      <td>NaN</td>\n",
              "      <td>18</td>\n",
              "    </tr>\n",
              "    <tr>\n",
              "      <th>1419</th>\n",
              "      <td>https://www.linkedin.com/in/dina-rozhkova-1b21...</td>\n",
              "      <td>lead test engineer</td>\n",
              "      <td>Dina Rozhkova</td>\n",
              "      <td>Sr. SQA Engineer</td>\n",
              "      <td>Align Technology</td>\n",
              "      <td>Sr.Test engineer/SW engineer - Test LeadStrong...</td>\n",
              "      <td>10.0</td>\n",
              "      <td>Москва, Москва, Россия</td>\n",
              "      <td>2</td>\n",
              "      <td>Обожаю этот вопрос</td>\n",
              "      <td>6.0</td>\n",
              "      <td>NaN</td>\n",
              "      <td>NaN</td>\n",
              "      <td>18</td>\n",
              "    </tr>\n",
              "    <tr>\n",
              "      <th>1484</th>\n",
              "      <td>https://www.linkedin.com/in/oleg-yamshikov-b46...</td>\n",
              "      <td>lead devops</td>\n",
              "      <td>Oleg Yamshikov</td>\n",
              "      <td>Lead DevOPS – MirTesen.ru</td>\n",
              "      <td>MirTesen.ru</td>\n",
              "      <td>Все цели достижимыВсе цели достижимы</td>\n",
              "      <td>13.0</td>\n",
              "      <td>Москва, Московская область, Россия</td>\n",
              "      <td>1</td>\n",
              "      <td>https://lnkd.in/d2qJ3jHКак думаете, примут?</td>\n",
              "      <td>NaN</td>\n",
              "      <td>NaN</td>\n",
              "      <td>NaN</td>\n",
              "      <td>43</td>\n",
              "    </tr>\n",
              "    <tr>\n",
              "      <th>1502</th>\n",
              "      <td>https://www.linkedin.com/in/pavel-andreev-7771...</td>\n",
              "      <td>lead devops</td>\n",
              "      <td>Pavel Andreev</td>\n",
              "      <td>Lead DevOps Engineer – Т1.Сфера</td>\n",
              "      <td>Т1 диджитал</td>\n",
              "      <td>Hi, I'm Pavel. I solve problemsHi, I'm Pavel. ...</td>\n",
              "      <td>4.0</td>\n",
              "      <td>Иркутская область, Россия</td>\n",
              "      <td>2</td>\n",
              "      <td>весенний митап ITsumma 2019</td>\n",
              "      <td>5.0</td>\n",
              "      <td>NaN</td>\n",
              "      <td>NaN</td>\n",
              "      <td>27</td>\n",
              "    </tr>\n",
              "    <tr>\n",
              "      <th>1538</th>\n",
              "      <td>https://www.linkedin.com/in/oleg-kurchavov-2a4...</td>\n",
              "      <td>lead devops</td>\n",
              "      <td>Oleg Kurchavov</td>\n",
              "      <td>Lead DevOps Specialist at IT_One</td>\n",
              "      <td>IT_One</td>\n",
              "      <td>Linux (Debian, CentOS)Cloud computing (Amazon ...</td>\n",
              "      <td>6.0</td>\n",
              "      <td>Агломерация Санкт-Петербурга</td>\n",
              "      <td>7</td>\n",
              "      <td>Just finished the course “Linux: BIND and DNS”!</td>\n",
              "      <td>1.0</td>\n",
              "      <td>NaN</td>\n",
              "      <td>NaN</td>\n",
              "      <td>47</td>\n",
              "    </tr>\n",
              "    <tr>\n",
              "      <th>1539</th>\n",
              "      <td>https://www.linkedin.com/in/oleg-kurchavov-2a4...</td>\n",
              "      <td>lead devops</td>\n",
              "      <td>Oleg Kurchavov</td>\n",
              "      <td>Lead DevOps Specialist at IT_One</td>\n",
              "      <td>IT_One</td>\n",
              "      <td>Linux (Debian, CentOS)Cloud computing (Amazon ...</td>\n",
              "      <td>6.0</td>\n",
              "      <td>Агломерация Санкт-Петербурга</td>\n",
              "      <td>7</td>\n",
              "      <td>Just finished the course “Learning CentOS Linux”!</td>\n",
              "      <td>NaN</td>\n",
              "      <td>NaN</td>\n",
              "      <td>NaN</td>\n",
              "      <td>49</td>\n",
              "    </tr>\n",
              "    <tr>\n",
              "      <th>1648</th>\n",
              "      <td>https://www.linkedin.com/in/anastasiya-saydazi...</td>\n",
              "      <td>frontend</td>\n",
              "      <td>Анастасия Сайдазимова</td>\n",
              "      <td>Frontend Developer | React, Redux, JavaScript,...</td>\n",
              "      <td>NaN</td>\n",
              "      <td>3 года назад начала изучать Frontend-разработк...</td>\n",
              "      <td>1.0</td>\n",
              "      <td>Санкт-Петербург, Санкт-Петербург, Россия</td>\n",
              "      <td>158</td>\n",
              "      <td>💛 JS 😁</td>\n",
              "      <td>2.0</td>\n",
              "      <td>NaN</td>\n",
              "      <td>1.0</td>\n",
              "      <td>6</td>\n",
              "    </tr>\n",
              "    <tr>\n",
              "      <th>1653</th>\n",
              "      <td>https://www.linkedin.com/in/anastasiya-saydazi...</td>\n",
              "      <td>frontend</td>\n",
              "      <td>Анастасия Сайдазимова</td>\n",
              "      <td>Frontend Developer | React, Redux, JavaScript,...</td>\n",
              "      <td>NaN</td>\n",
              "      <td>3 года назад начала изучать Frontend-разработк...</td>\n",
              "      <td>1.0</td>\n",
              "      <td>Санкт-Петербург, Санкт-Петербург, Россия</td>\n",
              "      <td>158</td>\n",
              "      <td>I love my cats 🐈🐈</td>\n",
              "      <td>8.0</td>\n",
              "      <td>2.0</td>\n",
              "      <td>NaN</td>\n",
              "      <td>17</td>\n",
              "    </tr>\n",
              "    <tr>\n",
              "      <th>1731</th>\n",
              "      <td>https://www.linkedin.com/in/petr-novikov-98621639</td>\n",
              "      <td>senior ML engineer</td>\n",
              "      <td>Petr Novikov</td>\n",
              "      <td>ML Engineer | Data Scientist | Python/Java/C++...</td>\n",
              "      <td>Abiroy Business Group</td>\n",
              "      <td>About me:- Data Scientist with strong research...</td>\n",
              "      <td>8.0</td>\n",
              "      <td>Санкт-Петербург, Санкт-Петербург, Россия</td>\n",
              "      <td>52</td>\n",
              "      <td>Кандидат отправил)#scrum #скрам</td>\n",
              "      <td>9.0</td>\n",
              "      <td>7.0</td>\n",
              "      <td>9.0</td>\n",
              "      <td>31</td>\n",
              "    </tr>\n",
              "    <tr>\n",
              "      <th>1758</th>\n",
              "      <td>https://www.linkedin.com/in/matohin</td>\n",
              "      <td>senior ML engineer</td>\n",
              "      <td>Matohin Evgeniy</td>\n",
              "      <td>Lead / Senior Software Developer</td>\n",
              "      <td>Rosbank</td>\n",
              "      <td>Considering lead and senior positions in Platf...</td>\n",
              "      <td>6.0</td>\n",
              "      <td>Нижегородская область, Россия</td>\n",
              "      <td>12</td>\n",
              "      <td>Egor Sokhanev #отзыв #Спасибо!</td>\n",
              "      <td>2.0</td>\n",
              "      <td>NaN</td>\n",
              "      <td>NaN</td>\n",
              "      <td>30</td>\n",
              "    </tr>\n",
              "    <tr>\n",
              "      <th>1778</th>\n",
              "      <td>https://www.linkedin.com/in/mark-averchenko-1b...</td>\n",
              "      <td>senior ML engineer</td>\n",
              "      <td>Mark Averchenko</td>\n",
              "      <td>ML engineer at VK</td>\n",
              "      <td>VK</td>\n",
              "      <td>Hi, I'm Mark! Student of math and  mechanics d...</td>\n",
              "      <td>2.0</td>\n",
              "      <td>Екатеринбург, Свердловская область, Россия</td>\n",
              "      <td>10</td>\n",
              "      <td>Отличный cheatsheet</td>\n",
              "      <td>4.0</td>\n",
              "      <td>NaN</td>\n",
              "      <td>NaN</td>\n",
              "      <td>19</td>\n",
              "    </tr>\n",
              "    <tr>\n",
              "      <th>2040</th>\n",
              "      <td>https://www.linkedin.com/in/sshkarin</td>\n",
              "      <td>senior ML engineer</td>\n",
              "      <td>Сергей Шкарин</td>\n",
              "      <td>Senior Data Scientist / NLP Engineer</td>\n",
              "      <td>ANNA Money</td>\n",
              "      <td>- четырехлетний опыт в сфере NLP- опыт вывода ...</td>\n",
              "      <td>11.0</td>\n",
              "      <td>Таламанка, Лимон, Коста-Рика</td>\n",
              "      <td>308</td>\n",
              "      <td>MLCOURSE.AI - 28 местоhttps://mlcourse.ai/rating</td>\n",
              "      <td>NaN</td>\n",
              "      <td>NaN</td>\n",
              "      <td>NaN</td>\n",
              "      <td>48</td>\n",
              "    </tr>\n",
              "  </tbody>\n",
              "</table>\n",
              "</div>\n",
              "      <button class=\"colab-df-convert\" onclick=\"convertToInteractive('df-f754d873-0e15-4b7d-8e67-4c2d5673eda4')\"\n",
              "              title=\"Convert this dataframe to an interactive table.\"\n",
              "              style=\"display:none;\">\n",
              "        \n",
              "  <svg xmlns=\"http://www.w3.org/2000/svg\" height=\"24px\"viewBox=\"0 0 24 24\"\n",
              "       width=\"24px\">\n",
              "    <path d=\"M0 0h24v24H0V0z\" fill=\"none\"/>\n",
              "    <path d=\"M18.56 5.44l.94 2.06.94-2.06 2.06-.94-2.06-.94-.94-2.06-.94 2.06-2.06.94zm-11 1L8.5 8.5l.94-2.06 2.06-.94-2.06-.94L8.5 2.5l-.94 2.06-2.06.94zm10 10l.94 2.06.94-2.06 2.06-.94-2.06-.94-.94-2.06-.94 2.06-2.06.94z\"/><path d=\"M17.41 7.96l-1.37-1.37c-.4-.4-.92-.59-1.43-.59-.52 0-1.04.2-1.43.59L10.3 9.45l-7.72 7.72c-.78.78-.78 2.05 0 2.83L4 21.41c.39.39.9.59 1.41.59.51 0 1.02-.2 1.41-.59l7.78-7.78 2.81-2.81c.8-.78.8-2.07 0-2.86zM5.41 20L4 18.59l7.72-7.72 1.47 1.35L5.41 20z\"/>\n",
              "  </svg>\n",
              "      </button>\n",
              "      \n",
              "  <style>\n",
              "    .colab-df-container {\n",
              "      display:flex;\n",
              "      flex-wrap:wrap;\n",
              "      gap: 12px;\n",
              "    }\n",
              "\n",
              "    .colab-df-convert {\n",
              "      background-color: #E8F0FE;\n",
              "      border: none;\n",
              "      border-radius: 50%;\n",
              "      cursor: pointer;\n",
              "      display: none;\n",
              "      fill: #1967D2;\n",
              "      height: 32px;\n",
              "      padding: 0 0 0 0;\n",
              "      width: 32px;\n",
              "    }\n",
              "\n",
              "    .colab-df-convert:hover {\n",
              "      background-color: #E2EBFA;\n",
              "      box-shadow: 0px 1px 2px rgba(60, 64, 67, 0.3), 0px 1px 3px 1px rgba(60, 64, 67, 0.15);\n",
              "      fill: #174EA6;\n",
              "    }\n",
              "\n",
              "    [theme=dark] .colab-df-convert {\n",
              "      background-color: #3B4455;\n",
              "      fill: #D2E3FC;\n",
              "    }\n",
              "\n",
              "    [theme=dark] .colab-df-convert:hover {\n",
              "      background-color: #434B5C;\n",
              "      box-shadow: 0px 1px 3px 1px rgba(0, 0, 0, 0.15);\n",
              "      filter: drop-shadow(0px 1px 2px rgba(0, 0, 0, 0.3));\n",
              "      fill: #FFFFFF;\n",
              "    }\n",
              "  </style>\n",
              "\n",
              "      <script>\n",
              "        const buttonEl =\n",
              "          document.querySelector('#df-f754d873-0e15-4b7d-8e67-4c2d5673eda4 button.colab-df-convert');\n",
              "        buttonEl.style.display =\n",
              "          google.colab.kernel.accessAllowed ? 'block' : 'none';\n",
              "\n",
              "        async function convertToInteractive(key) {\n",
              "          const element = document.querySelector('#df-f754d873-0e15-4b7d-8e67-4c2d5673eda4');\n",
              "          const dataTable =\n",
              "            await google.colab.kernel.invokeFunction('convertToInteractive',\n",
              "                                                     [key], {});\n",
              "          if (!dataTable) return;\n",
              "\n",
              "          const docLinkHtml = 'Like what you see? Visit the ' +\n",
              "            '<a target=\"_blank\" href=https://colab.research.google.com/notebooks/data_table.ipynb>data table notebook</a>'\n",
              "            + ' to learn more about interactive tables.';\n",
              "          element.innerHTML = '';\n",
              "          dataTable['output_type'] = 'display_data';\n",
              "          await google.colab.output.renderOutput(dataTable, element);\n",
              "          const docLink = document.createElement('div');\n",
              "          docLink.innerHTML = docLinkHtml;\n",
              "          element.appendChild(docLink);\n",
              "        }\n",
              "      </script>\n",
              "    </div>\n",
              "  </div>\n",
              "  "
            ]
          },
          "metadata": {},
          "execution_count": 41
        }
      ]
    },
    {
      "cell_type": "code",
      "execution_count": 42,
      "id": "fd353ec5-8db2-4460-89f5-bc6f88df4e4c",
      "metadata": {
        "id": "fd353ec5-8db2-4460-89f5-bc6f88df4e4c"
      },
      "outputs": [],
      "source": [
        "texts = df[\"post_text\"].tolist()"
      ]
    },
    {
      "cell_type": "markdown",
      "id": "dbaf7701-adc2-42ee-b8a0-879a22372bb6",
      "metadata": {
        "id": "dbaf7701-adc2-42ee-b8a0-879a22372bb6"
      },
      "source": [
        "Выполняем лемматизацию текстов."
      ]
    },
    {
      "cell_type": "code",
      "execution_count": 43,
      "id": "5d290cce-c7f4-4489-82d3-9e94108ea4f1",
      "metadata": {
        "id": "5d290cce-c7f4-4489-82d3-9e94108ea4f1"
      },
      "outputs": [],
      "source": [
        "res = []\n",
        "for doc in model.pipe(texts, disable=[\"tagger\", \"parser\"]):\n",
        "    res.append([token.lemma_ for token in doc])"
      ]
    },
    {
      "cell_type": "code",
      "execution_count": 44,
      "id": "9c298391-6351-4f82-97a6-f3ffdb7e551d",
      "metadata": {
        "id": "9c298391-6351-4f82-97a6-f3ffdb7e551d"
      },
      "outputs": [],
      "source": [
        "with open(\"lemmas.json\", \"w\") as fid:\n",
        "    json.dump({\"lemmas\": res}, fid)"
      ]
    },
    {
      "cell_type": "markdown",
      "metadata": {
        "id": "VWlnV3GgP3dk"
      },
      "source": [
        "Смотрим на результат - случайным образом сэмплируем несколько примеров"
      ],
      "id": "VWlnV3GgP3dk"
    },
    {
      "cell_type": "code",
      "execution_count": 45,
      "id": "bcfdf915-27b1-45f4-92eb-ca116c6a623f",
      "metadata": {
        "colab": {
          "base_uri": "https://localhost:8080/",
          "height": 52
        },
        "id": "bcfdf915-27b1-45f4-92eb-ca116c6a623f",
        "outputId": "c0f38ef1-ca3b-4ac8-b5d2-ac4b076c6a7b"
      },
      "outputs": [
        {
          "output_type": "execute_result",
          "data": {
            "text/plain": [
              "'здравствовать, ,, я, в, поиск, новый, карьерный, возможность, и, быть, признателен(а, ), за, ваш, поддержка, ., заранее, благодарить, за, весь, рекомендация, контакт, ,, совет, или, возможность, ,, которые, вы, мочь, предложить, ., #, opentowork'"
            ],
            "application/vnd.google.colaboratory.intrinsic+json": {
              "type": "string"
            }
          },
          "metadata": {},
          "execution_count": 45
        }
      ],
      "source": [
        "\", \".join(res[np.random.randint(len(res))])"
      ]
    },
    {
      "cell_type": "code",
      "execution_count": 46,
      "id": "bd7b72fb-0bc0-4210-99e7-1d9fcb0eda50",
      "metadata": {
        "colab": {
          "base_uri": "https://localhost:8080/",
          "height": 52
        },
        "id": "bd7b72fb-0bc0-4210-99e7-1d9fcb0eda50",
        "outputId": "5b281973-ef2e-42c5-95fc-83d400033b5b"
      },
      "outputs": [
        {
          "output_type": "execute_result",
          "data": {
            "text/plain": [
              "'в, поиск, крутой, специалист, (, г., алматы):1, ), front, -, end, разработчик, react, /, middle, 2, ), системный, аналитик, 3, ), qa, tester, (, middle)cv, можно, отправлять, в, telegram, :, @assyl02всем, заранее, спасибо, 🤗,  , #, cv, #, react, #, qa, #, front'"
            ],
            "application/vnd.google.colaboratory.intrinsic+json": {
              "type": "string"
            }
          },
          "metadata": {},
          "execution_count": 46
        }
      ],
      "source": [
        "\", \".join(res[np.random.randint(len(res))])"
      ]
    },
    {
      "cell_type": "code",
      "execution_count": 47,
      "id": "b6630ae6-aa02-4255-9f59-7b796bd1bb57",
      "metadata": {
        "colab": {
          "base_uri": "https://localhost:8080/",
          "height": 104
        },
        "id": "b6630ae6-aa02-4255-9f59-7b796bd1bb57",
        "outputId": "c9246df3-09e3-4efa-d2df-c879156459e3"
      },
      "outputs": [
        {
          "output_type": "execute_result",
          "data": {
            "text/plain": [
              "\"hit, a, stone, wall, and, don't, know, how, to, get, to, the, next, level?sometimes, it, 's, enough, to, strengthen, your, team, to, get, more, and, better, work, done, ., we'll, help, you, overcome, the, barrier, ,, giving, you, a, shoulder, to, lean, on, and, take, on, some, of, the, work, related, to, the, project, management, and, development, ., in, our, work, ,, we, use, an, approach, that, allows, different, teams, (, dev, team, ,, devops, team, ,, qa, team, ,, management, ), to, work, independently, of, each, other, ,, while, exchanging, the, information, necessary, for, effective, collaboration, ., the, workflow, is, the, same, for, each, team, ,, whereby, :, \\xa0\\xa0\\xa0, •, the, task, setting, process, is, standardized, ., \\xa0\\xa0\\xa0, •, roles, and, responsibilities, are, defined, for, all, participants, ., \\xa0\\xa0\\xa0, •, the, process, of, interaction, between, the, teams, is, clearly, defined, ., \\xa0\\xa0\\xa0, •, the, same, tool, is, used, for, creating, and, keeping, track, of, all, tasks, ,, but, each, team, has, its, own, space, and, workflow, ., \\xa0\\xa0\\xa0, •, the, task, statuses, are, also, unified, and, clear, ., \\xa0\\xa0\\xa0, •, all, this, allows, us, not, to, lose, time, when, transferring, work, from, one, team, to, another, and, to, use, resources, effectively, ,, as, a, result, of, the, work, process, transparency, ., our, managers, see, the, whole, picture, ,, so, they, can, plan, the, project, more, accurately, and, successfully, release, the, final, high, quality, products, ., to, get, more, info, about, our, superpowers, ,, send, us, a, message, !\""
            ],
            "application/vnd.google.colaboratory.intrinsic+json": {
              "type": "string"
            }
          },
          "metadata": {},
          "execution_count": 47
        }
      ],
      "source": [
        "\", \".join(res[np.random.randint(len(res))])"
      ]
    },
    {
      "cell_type": "markdown",
      "id": "5e859143-9aa3-4717-ae64-f8736ac9acf6",
      "metadata": {
        "id": "5e859143-9aa3-4717-ae64-f8736ac9acf6"
      },
      "source": [
        "\n",
        "\n",
        "Удалим знаки препинания, цифры и слова, содержащие цифры. Для это соберём регулярное выражение, которое подходит для любого слова, состоящего из букв кирилицы.\n",
        "\n"
      ]
    },
    {
      "cell_type": "code",
      "execution_count": 48,
      "id": "0cd293d6-12be-4c2e-96c1-4ba76906934d",
      "metadata": {
        "id": "0cd293d6-12be-4c2e-96c1-4ba76906934d"
      },
      "outputs": [],
      "source": [
        "word_pattern = re.compile(\"^[а-яА-ЯёЁ]*$\")"
      ]
    },
    {
      "cell_type": "code",
      "execution_count": 49,
      "id": "66e11ab8-6c25-49ad-8509-7aa4257cc7f6",
      "metadata": {
        "id": "66e11ab8-6c25-49ad-8509-7aa4257cc7f6"
      },
      "outputs": [],
      "source": [
        "def remove_symbols(doc):\n",
        "    return [token for token in doc if word_pattern.match(token)]"
      ]
    },
    {
      "cell_type": "code",
      "execution_count": 50,
      "id": "f3af2747-80f6-45f5-9afe-ab35e40118d4",
      "metadata": {
        "id": "f3af2747-80f6-45f5-9afe-ab35e40118d4"
      },
      "outputs": [],
      "source": [
        "corpus = list(map(remove_symbols, res))"
      ]
    },
    {
      "cell_type": "code",
      "execution_count": 51,
      "id": "a99c6244-7b6d-4782-a5c0-6615e269a4ff",
      "metadata": {
        "colab": {
          "base_uri": "https://localhost:8080/",
          "height": 70
        },
        "id": "a99c6244-7b6d-4782-a5c0-6615e269a4ff",
        "outputId": "7a8323ce-37c2-4601-d12a-fd96ad0dd1dd"
      },
      "outputs": [
        {
          "output_type": "execute_result",
          "data": {
            "text/plain": [
              "'всем, привет, пойти, уже, второй, месяц, мой, активный, поиск, работа, за, плечо, собеседование, и, огромный, количество, отказ, до, просмотр, резюме, в, голова, возникать, мысль, что, никогда, не, найти, работа, но, я, не, сдаваться, ни, на, минуточка, и, идти, далёкий, в, бой, готовый, подвинуть, свой, рамка, и, ожидание, готовый, откликаться, на, позиция, джуна, Просто, просить, обратить, ваш, внимание, на, себя, вдруг, я, тот, за, репосты, и, лайк'"
            ],
            "application/vnd.google.colaboratory.intrinsic+json": {
              "type": "string"
            }
          },
          "metadata": {},
          "execution_count": 51
        }
      ],
      "source": [
        "\", \".join(corpus[np.random.randint(len(corpus))])"
      ]
    },
    {
      "cell_type": "markdown",
      "id": "0a27ce7a-1db6-4161-bacb-f2b820cbb796",
      "metadata": {
        "id": "0a27ce7a-1db6-4161-bacb-f2b820cbb796"
      },
      "source": [
        "Выглядит гораздо лучше."
      ]
    },
    {
      "cell_type": "markdown",
      "id": "f4220f36-13fa-4a86-95f3-6d44d0bd83f6",
      "metadata": {
        "id": "f4220f36-13fa-4a86-95f3-6d44d0bd83f6"
      },
      "source": [
        "## Векторизация текстов"
      ]
    },
    {
      "cell_type": "markdown",
      "id": "c82a654f-912b-4d91-b3ad-0f67ed16b2d6",
      "metadata": {
        "id": "c82a654f-912b-4d91-b3ad-0f67ed16b2d6"
      },
      "source": [
        "Чтобы уменьшить размерность получаемой матрицы, добавим исключение стоп-слов."
      ]
    },
    {
      "cell_type": "code",
      "execution_count": 52,
      "id": "3555d293-13cd-4de7-82e5-10a32c349ded",
      "metadata": {
        "colab": {
          "base_uri": "https://localhost:8080/"
        },
        "id": "3555d293-13cd-4de7-82e5-10a32c349ded",
        "outputId": "2fb1c100-5b09-4735-b469-58b3fca41fa0"
      },
      "outputs": [
        {
          "output_type": "stream",
          "name": "stdout",
          "text": [
            "['и', 'в', 'во', 'не', 'что', 'он', 'на', 'я', 'с', 'со', 'как', 'а', 'то', 'все', 'она', 'так', 'его', 'но', 'да', 'ты', 'к', 'у', 'же', 'вы', 'за', 'бы', 'по', 'только', 'ее', 'мне', 'было', 'вот', 'от', 'меня', 'еще', 'нет', 'о', 'из', 'ему', 'теперь', 'когда', 'даже', 'ну', 'вдруг', 'ли', 'если', 'уже', 'или', 'ни', 'быть', 'был', 'него', 'до', 'вас', 'нибудь', 'опять', 'уж', 'вам', 'ведь', 'там', 'потом', 'себя', 'ничего', 'ей', 'может', 'они', 'тут', 'где', 'есть', 'надо', 'ней', 'для', 'мы', 'тебя', 'их', 'чем', 'была', 'сам', 'чтоб', 'без', 'будто', 'чего', 'раз', 'тоже', 'себе', 'под', 'будет', 'ж', 'тогда', 'кто', 'этот', 'того', 'потому', 'этого', 'какой', 'совсем', 'ним', 'здесь', 'этом', 'один', 'почти', 'мой', 'тем', 'чтобы', 'нее', 'сейчас', 'были', 'куда', 'зачем', 'всех', 'никогда', 'можно', 'при', 'наконец', 'два', 'об', 'другой', 'хоть', 'после', 'над', 'больше', 'тот', 'через', 'эти', 'нас', 'про', 'всего', 'них', 'какая', 'много', 'разве', 'три', 'эту', 'моя', 'впрочем', 'хорошо', 'свою', 'этой', 'перед', 'иногда', 'лучше', 'чуть', 'том', 'нельзя', 'такой', 'им', 'более', 'всегда', 'конечно', 'всю', 'между']\n"
          ]
        }
      ],
      "source": [
        "stop_words = stopwords.words('russian')\n",
        "print(stop_words)"
      ]
    },
    {
      "cell_type": "code",
      "execution_count": 53,
      "id": "6bff388d-dd5a-438c-a5ce-b7d739452586",
      "metadata": {
        "id": "6bff388d-dd5a-438c-a5ce-b7d739452586"
      },
      "outputs": [],
      "source": [
        "tfidf = TfidfVectorizer(stop_words=stop_words, min_df=10, max_df=0.9)"
      ]
    },
    {
      "cell_type": "markdown",
      "id": "7468f8ba-4cb9-4a8b-8a65-e2e6fc40a87f",
      "metadata": {
        "id": "7468f8ba-4cb9-4a8b-8a65-e2e6fc40a87f"
      },
      "source": [
        "Т.е. TfIdfVectorizer принимает на вход список предложений, поэтому необходимо объединить списки слов, составляющих корпус, в предложения."
      ]
    },
    {
      "cell_type": "code",
      "execution_count": 54,
      "id": "3124cb24-dbc9-4043-abfc-ebacc41bf180",
      "metadata": {
        "collapsed": true,
        "jupyter": {
          "outputs_hidden": true
        },
        "tags": [],
        "colab": {
          "base_uri": "https://localhost:8080/"
        },
        "id": "3124cb24-dbc9-4043-abfc-ebacc41bf180",
        "outputId": "a158487f-7dac-400c-c82e-52c7ed893aac"
      },
      "outputs": [
        {
          "output_type": "execute_result",
          "data": {
            "text/plain": [
              "['я только что значок за навык кто хотеть быть следующий пройти тест на проверка навык',\n",
              " 'я у пошуках роботи тот працюю щоденно над собою тот що я шукаю робот робот в або просто роботу на разовый можливий на випробувальний що тот розвиток тот команда що тот час я быть дуже вдячний за будь яку допомогу в мого резюме тот за на початку мого новый шляху тот додаткова тут',\n",
              " 'запит на квадрокоптер для з бригади де служить найкращий друг брать участь у херсон а зараз виконують завдання на донецькому напрямку на загальна сума збору гривень посиланний на картки за допомогу тот раз до перемоги фото чека збору будуть до пост']"
            ]
          },
          "metadata": {},
          "execution_count": 54
        }
      ],
      "source": [
        "docs = [\" \".join(tokens) for tokens in corpus]\n",
        "docs[:3]"
      ]
    },
    {
      "cell_type": "code",
      "source": [
        "docs = list(filter(None, docs))"
      ],
      "metadata": {
        "id": "o96jfgitULE3"
      },
      "id": "o96jfgitULE3",
      "execution_count": 58,
      "outputs": []
    },
    {
      "cell_type": "code",
      "execution_count": 59,
      "id": "366d58eb-801e-461e-8cca-7db7feb520c1",
      "metadata": {
        "id": "366d58eb-801e-461e-8cca-7db7feb520c1"
      },
      "outputs": [],
      "source": [
        "x = tfidf.fit_transform(docs)"
      ]
    },
    {
      "cell_type": "code",
      "execution_count": 60,
      "id": "091efa54-5db8-423b-a9d3-e43b376a69a9",
      "metadata": {
        "colab": {
          "base_uri": "https://localhost:8080/"
        },
        "id": "091efa54-5db8-423b-a9d3-e43b376a69a9",
        "outputId": "f4642ca8-335f-4411-8a11-3b84f6caec1f"
      },
      "outputs": [
        {
          "output_type": "execute_result",
          "data": {
            "text/plain": [
              "(533, 299)"
            ]
          },
          "metadata": {},
          "execution_count": 60
        }
      ],
      "source": [
        "x.shape"
      ]
    },
    {
      "cell_type": "markdown",
      "id": "dcdc3280-13fe-490a-a294-0e139d2a4e04",
      "metadata": {
        "id": "dcdc3280-13fe-490a-a294-0e139d2a4e04"
      },
      "source": [
        "Теперь составим словарь {id_токена: токен} - он пригодится нам позднее."
      ]
    },
    {
      "cell_type": "code",
      "execution_count": 61,
      "id": "60d3ead5-7d38-4417-b333-191e153da469",
      "metadata": {
        "id": "60d3ead5-7d38-4417-b333-191e153da469"
      },
      "outputs": [],
      "source": [
        "id2word = {i: token for i, token in enumerate(tfidf.get_feature_names_out())}"
      ]
    },
    {
      "cell_type": "markdown",
      "id": "835dc774-04ca-4486-820e-c053ae1c5299",
      "metadata": {
        "id": "835dc774-04ca-4486-820e-c053ae1c5299"
      },
      "source": [
        "## LDA"
      ]
    },
    {
      "cell_type": "markdown",
      "id": "5030b8e4-cdeb-4c6d-a6c2-3ea5bf72d9be",
      "metadata": {
        "id": "5030b8e4-cdeb-4c6d-a6c2-3ea5bf72d9be"
      },
      "source": [
        "Теперь можем запустить алгоритм LDA. Зададим количество тем равное 5."
      ]
    },
    {
      "cell_type": "code",
      "execution_count": 62,
      "id": "e2f92219-5f50-41d2-91be-5f07796ed677",
      "metadata": {
        "id": "e2f92219-5f50-41d2-91be-5f07796ed677"
      },
      "outputs": [],
      "source": [
        "n_topics = 5"
      ]
    },
    {
      "cell_type": "code",
      "execution_count": 63,
      "id": "95d47fc3-498c-46bc-933d-8aee42382350",
      "metadata": {
        "id": "95d47fc3-498c-46bc-933d-8aee42382350"
      },
      "outputs": [],
      "source": [
        "lda = LatentDirichletAllocation(n_components=n_topics, random_state=31)"
      ]
    },
    {
      "cell_type": "code",
      "execution_count": 64,
      "id": "9d510749-149f-42fb-b751-1488e7a886ee",
      "metadata": {
        "id": "9d510749-149f-42fb-b751-1488e7a886ee"
      },
      "outputs": [],
      "source": [
        "topics = lda.fit_transform(x)"
      ]
    },
    {
      "cell_type": "code",
      "execution_count": 65,
      "id": "589f0747-f262-4ce8-9a04-154f7a32831e",
      "metadata": {
        "colab": {
          "base_uri": "https://localhost:8080/"
        },
        "id": "589f0747-f262-4ce8-9a04-154f7a32831e",
        "outputId": "4d7315de-1038-4793-84c7-e7ed5796c430"
      },
      "outputs": [
        {
          "output_type": "execute_result",
          "data": {
            "text/plain": [
              "(533, 5)"
            ]
          },
          "metadata": {},
          "execution_count": 65
        }
      ],
      "source": [
        "topics.shape"
      ]
    },
    {
      "cell_type": "markdown",
      "id": "879a33e7-8179-48ff-9f29-edf66ba34329",
      "metadata": {
        "id": "879a33e7-8179-48ff-9f29-edf66ba34329"
      },
      "source": [
        "### Ключевые слова"
      ]
    },
    {
      "cell_type": "markdown",
      "id": "bf4f9208-bc32-4a32-995c-0c78d7e703e4",
      "metadata": {
        "id": "bf4f9208-bc32-4a32-995c-0c78d7e703e4"
      },
      "source": [
        "Теперь извлечём ключевые слова для каждой из 5 тем. В свойсте _components_ _ лежит матрица соответствия слов темам. Пройдёмся по каждой из 5 выделенных тем и для каждой возьмём ТОП-20 слов."
      ]
    },
    {
      "cell_type": "markdown",
      "id": "b7d7f478-6fe8-41f2-8f5b-18e8924eafda",
      "metadata": {
        "id": "b7d7f478-6fe8-41f2-8f5b-18e8924eafda"
      },
      "source": [
        "По очереди пройдёмся по каждой теме (первое измерение массиа) и выберем ТОП-20 слов, наиболее характерных для этой темы. Потом по индексу слова обратимся к словарю и узнаем, что это за слово."
      ]
    },
    {
      "cell_type": "code",
      "execution_count": 66,
      "id": "22943201-2961-46a2-b925-6a0c2f41c6f8",
      "metadata": {
        "colab": {
          "base_uri": "https://localhost:8080/"
        },
        "id": "22943201-2961-46a2-b925-6a0c2f41c6f8",
        "outputId": "e7d229cb-9fb3-42de-ad37-9aacdefc0ec5"
      },
      "outputs": [
        {
          "output_type": "stream",
          "name": "stdout",
          "text": [
            "Тема 1 :\n",
            "стек, репостам, ваш, опыт, активный, благодарный, позиция, находиться, проект, очень, вакансия, резюме, лайк, разработчик, поиск, искать, рад, привет, работа, всем\n",
            "\n",
            " \n",
            "Тема 2 :\n",
            "вопрос, весь, время, свой, мочь, пост, тест, следующий, наш, нужный, работать, год, пройти, хотеть, команда, человек, опыт, навык, работа, это\n",
            "\n",
            " \n",
            "Тема 3 :\n",
            "поиск, которые, мочь, здравствовать, рекомендация, ваш, предложить, поддержка, компания, благодарить, карьерный, совет, контакт, заранее, начинать, должность, сообщать, удовольствие, новый, возможность\n",
            "\n",
            " \n",
            "Тема 4 :\n",
            "проект, делиться, создание, канал, хотеть, слово, управление, бесплатный, нам, изучение, система, английский, сделать, полезный, книга, текст, свой, написать, статья, язык\n",
            "\n",
            " \n",
            "Тема 5 :\n",
            "английский, нужный, день, последний, взять, удобный, посмотреть, привет, команда, мочь, несколько, весь, разработчик, поделиться, других, разработка, направление, дело, хороший, признателен\n",
            "\n",
            " \n"
          ]
        }
      ],
      "source": [
        "for i in range(n_topics):\n",
        "    c = lda.components_[i, :]\n",
        "    topic_tokens = [id2word.get(token_id) for token_id in np.argsort(c)[-20:]]\n",
        "    print(\"Тема\",i+1, \":\")\n",
        "    print(\", \".join(topic_tokens))\n",
        "    print(\"\\n \")"
      ]
    },
    {
      "cell_type": "markdown",
      "id": "c79be3dc-87e2-4ff7-986e-eaee3e8b7b91",
      "metadata": {
        "id": "c79be3dc-87e2-4ff7-986e-eaee3e8b7b91"
      },
      "source": [
        "По полученным ключевым словам можно составить представление о содержании той или иной темы. Хотя иногда сочетания слов довольно странные )  "
      ]
    },
    {
      "cell_type": "markdown",
      "id": "34921b4f-2611-4a05-9ab2-7d4e4857a6cc",
      "metadata": {
        "id": "34921b4f-2611-4a05-9ab2-7d4e4857a6cc"
      },
      "source": [
        "### Типичные статьи"
      ]
    },
    {
      "cell_type": "markdown",
      "id": "201ebeab-f859-4b6c-8f24-213c875fee74",
      "metadata": {
        "id": "201ebeab-f859-4b6c-8f24-213c875fee74"
      },
      "source": [
        "Теперь для каждой темы возьмём по одному документу, который хорошо соответсвует этой теме. Для этого заглянем в массив _topics_."
      ]
    },
    {
      "cell_type": "code",
      "execution_count": 67,
      "id": "07d1a6e6-b179-44e7-8220-d8aff056bfa8",
      "metadata": {
        "colab": {
          "base_uri": "https://localhost:8080/"
        },
        "id": "07d1a6e6-b179-44e7-8220-d8aff056bfa8",
        "outputId": "6a7dddef-f6e2-45a6-ea79-19737890ca82"
      },
      "outputs": [
        {
          "output_type": "stream",
          "name": "stdout",
          "text": [
            "Тема  0\n",
            "Друзья, приветствую, я в поиске новой карьерной возможности и буду благодарен за вашу поддержку, лайки и репосты!Интересуюсь позицией Frontend-разработчика.Мой основной стек: JavaScript, React,Redux toolkit, HTML, CSS#opentowork #frontend #javascript #react #redux #toolkit #html #CSS #bootstrap #SASS #PostgreSQL #SQLite #Prisma #AJAX #TS\n",
            "\n",
            "\n",
            "Тема  1\n",
            "Лилия Бирюкова #наймає. Знаєте когось, кому це може бути цікаво?\n",
            "\n",
            "\n",
            "Тема  2\n",
            "Hi there! I`m currently looking for a job as a frontend-developer. If you`re hiring or know someone who`s hiring, please, contact me :) Thank you in advance#OpenToWork #frontend #frontenddeveloper #react #CV\n",
            "\n",
            "\n",
            "Тема  3\n",
            "Невозможно представить свою жизнь без знания английского языка. И его можно изучить самостоятельно.Делюсь с вами ресурсами, которые будут полезны для самостоятельного изучения английского языка. Бесплатные сайты для изучения грамматики:📌 https://lnkd.in/g75pjqPq📌 https://lnkd.in/gUYiNPYU📌 https://lnkd.in/gTBFVgWM📌 https://lnkd.in/gDYTcuv2Очень прикольный ресурс, где вы можете пообщаться с искуственным интеллектом:📌 https://lnkd.in/giRekfJWНаиболее распространенные Irregular Verbs:📌 https://lnkd.in/guSipZM7Топ из самых популярных Phrasal Verbs (значительно упрощают жизнь при ведении диалогов):📌 https://lnkd.in/g4b-gMYjДля тех, кто часто пишет formal business emails (отличные ресурса с объяснениями правил и шаблонами):📌 https://lnkd.in/g5Kzj2ES📌 https://lnkd.in/gyVxH5cnДля просмотров фильмов на английском с субтитрами:📌 http://www.hamatata.com/📌 https://lnkd.in/gEqit-kS📌 http://new.2sub.tv/📌 https://lnkd.in/gTBFVgWMТут можно 30 дней бесплатно попользовать книжки:📌 https://amzn.to/2DH4arIДля любителей почитать комиксы:📌 https://lnkd.in/g729fS6YЗамечательный словарь с толкованием слов на английском, синонимами и даже истории возникновения слова:📌 https://lnkd.in/gSCx-_ykДля прокачки Listening skills очень рекомендую слушать радио (помогает даже прослушивание на фоне - научитесь понимать речь и усвоите интонацию и произношение):Для прокачки восприятия американской речи:📻 National Public RadioДля прокачки восприятия британской речи:📻 LBC NewsТакже советую поглядывать YouTube блоггеров (носителей языка):Преподаватели, которые в наглядной и яркой форме объяснят грамматику и дают повседневную лексику:📺 @LearnEnglishwithHarry📺 @papateachmeДевушка web & graphic designer, рассказывате про свою рабочую рутину и много других интересных фишек (отлично подходит для IT сектора):📺 @charlimarieTVДля тех, кто хочет знать всю про мир компьютеров и их беспощадные новинки:📺 @PcCentricЕсли вам интересна наука, то одназначно вам к этой дамочке:📺 @DrawCuriosityПриложения для общения с носителями языка:📱 InterPals📱 HelloTalk📱 Tandem✔ Не бойтесь совершать ошибки.\n",
            "\n",
            "\n",
            "Тема  4\n",
            "Коллеги, MS Excel - каждодневный инструмент, особенно в финансовых организациях. Bastien Mensink (Голландия) разработал плагин, который существенно увеличивает возможности Excel, позволяя выполнять разные операции в 1-2 клика без использования макросов. Автор сдержал свое слово и сделал локализацию своего продукта на русский язык. https://lnkd.in/dCe9Bzg\n",
            "\n",
            "\n"
          ]
        }
      ],
      "source": [
        "for i in range(n_topics):\n",
        "    doc_id = np.argmax(topics[:, i])\n",
        "    print(\"Тема \", i)\n",
        "    print(df.iloc[doc_id][\"post_text\"])\n",
        "    print(\"\\n\")"
      ]
    },
    {
      "cell_type": "markdown",
      "source": [
        "## LSA"
      ],
      "metadata": {
        "id": "tSQ-KSiRabM2"
      },
      "id": "tSQ-KSiRabM2"
    },
    {
      "cell_type": "markdown",
      "id": "cde09df7-da5c-4002-9c6a-37d6b1ad39ea",
      "metadata": {
        "id": "cde09df7-da5c-4002-9c6a-37d6b1ad39ea"
      },
      "source": [
        "А ещё вы всегда можете сделать шаг назад и дополнить модель. Например:\n",
        "- пополнить список стоп-слов (просмотрите внимательно ключевые слова каждой из тем - нет ли там случайных слов?);\n",
        "- изменить настройки Tf-idF;\n",
        "- увеличить/уменьшить количество тем;\n",
        "- обучать LDA чуть дольше;\n",
        "- заменить LDA на другой алгоритм тематического моделирояни."
      ]
    },
    {
      "cell_type": "markdown",
      "id": "a5d040dd-5988-4107-b009-bf71da05d794",
      "metadata": {
        "id": "a5d040dd-5988-4107-b009-bf71da05d794"
      },
      "source": [
        "# Полезные ссылки\n",
        "\n",
        "- [Вики](https://ru.wikipedia.org/wiki/%D0%A2%D0%B5%D0%BC%D0%B0%D1%82%D0%B8%D1%87%D0%B5%D1%81%D0%BA%D0%BE%D0%B5_%D0%BC%D0%BE%D0%B4%D0%B5%D0%BB%D0%B8%D1%80%D0%BE%D0%B2%D0%B0%D0%BD%D0%B8%D0%B5)\n",
        "\n",
        "- [История о том, как прочитать 120 тысяч анекдотов и не рассмеяться раньше времени](https://habr.com/ru/companies/otus/articles/723306/)\n",
        "\n",
        "- [Видеоурок \"Анализ текстовых данных тематическое моделирование комментариев Вконтакте\"](https://www.youtube.com/watch?v=0DnfzQdbwQw)\n",
        "\n",
        "- [LDA в Sklearn](https://scikit-learn.org/0.16/modules/generated/sklearn.lda.LDA.html)\n",
        "\n",
        "- [Topic Modeling разными алгоритмами](https://scikit-learn.org/stable/auto_examples/applications/plot_topics_extraction_with_nmf_lda.html#sphx-glr-auto-examples-applications-plot-topics-extraction-with-nmf-lda-py)\n",
        "\n",
        "- [Более академическое описание тематического моделировния](http://www.machinelearning.ru/wiki/index.php?title=%D0%A2%D0%B5%D0%BC%D0%B0%D1%82%D0%B8%D1%87%D0%B5%D1%81%D0%BA%D0%BE%D0%B5_%D0%BC%D0%BE%D0%B4%D0%B5%D0%BB%D0%B8%D1%80%D0%BE%D0%B2%D0%B0%D0%BD%D0%B8%D0%B5)"
      ]
    },
    {
      "cell_type": "code",
      "execution_count": 67,
      "id": "d7641afc-f84a-4c3b-812c-d4f872338094",
      "metadata": {
        "id": "d7641afc-f84a-4c3b-812c-d4f872338094"
      },
      "outputs": [],
      "source": []
    }
  ],
  "metadata": {
    "kernelspec": {
      "display_name": "Python 3 (ipykernel)",
      "language": "python",
      "name": "python3"
    },
    "language_info": {
      "codemirror_mode": {
        "name": "ipython",
        "version": 3
      },
      "file_extension": ".py",
      "mimetype": "text/x-python",
      "name": "python",
      "nbconvert_exporter": "python",
      "pygments_lexer": "ipython3",
      "version": "3.9.16"
    },
    "toc-autonumbering": true,
    "colab": {
      "provenance": []
    }
  },
  "nbformat": 4,
  "nbformat_minor": 5
}